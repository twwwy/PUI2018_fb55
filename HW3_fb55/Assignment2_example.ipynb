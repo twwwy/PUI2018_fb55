{
 "cells": [
  {
   "cell_type": "code",
   "execution_count": 1,
   "metadata": {},
   "outputs": [],
   "source": [
    "# example of gathering, reading, and plotting data\n",
    "# developed by FBB for PUI in 2018\n",
    "# uses NYC data portal NYC OPEN DATA https://data.cityofnewyork.us/"
   ]
  },
  {
   "cell_type": "code",
   "execution_count": 2,
   "metadata": {},
   "outputs": [],
   "source": [
    "from __future__ import print_function #for compatibility beteen python2 and python3\n",
    "\n",
    "# all other needed modules will be imported as they are needed. \n",
    "# I will leave them in the cell where they become relevant BUT  \n",
    "# PEP8 standards require to move them at the top cell, \n",
    "# so you must move your imports in this cell for the homework"
   ]
  },
  {
   "cell_type": "markdown",
   "metadata": {},
   "source": [
    "# Find data on the portal"
   ]
  },
  {
   "cell_type": "markdown",
   "metadata": {},
   "source": [
    " using DHS data on shelter population\n",
    " obtained with the following steps from the website \n",
    " \n",
    " https://opendata.cityofnewyork.us/ -> Data \n",
    " \n",
    " https://opendata.cityofnewyork.us/data/ -> Department of Homeless Services (DHS) (in data by agency)\n",
    " \n",
    " https://data.cityofnewyork.us/browse?Dataset-Information_Agency=Department+of+Homeless+Services+%28DHS%29\n",
    " -> DHS daily report\n",
    " \n",
    " https://data.cityofnewyork.us/Social-Services/DHS-Daily-Report/k46n-sa2m -> View Data \n",
    " \n",
    " https://data.cityofnewyork.us/Social-Services/DHS-Daily-Report/k46n-sa2m/data -> Export\n",
    " \n",
    " this gives me various links. I copy and paste below the CSV link"
   ]
  },
  {
   "cell_type": "markdown",
   "metadata": {},
   "source": [
    "# solution 1: download from the portal \n"
   ]
  },
  {
   "cell_type": "code",
   "execution_count": 3,
   "metadata": {},
   "outputs": [
    {
     "name": "stdout",
     "output_type": "stream",
     "text": [
      "  % Total    % Received % Xferd  Average Speed   Time    Time     Time  Current\n",
      "                                 Dload  Upload   Total   Spent    Left  Speed\n",
      "100  140k    0  140k    0     0   470k      0 --:--:-- --:--:-- --:--:--  471k\n"
     ]
    }
   ],
   "source": [
    "!curl https://data.cityofnewyork.us/api/views/k46n-sa2m/rows.csv?accessType=DOWNLOAD > dhsdaily.csv"
   ]
  },
  {
   "cell_type": "code",
   "execution_count": 4,
   "metadata": {},
   "outputs": [
    {
     "name": "stdout",
     "output_type": "stream",
     "text": [
      "PUIdata /nfshome/fb55/PUIdata\n"
     ]
    }
   ],
   "source": [
    "# ove the downloaded data to PUI data\n",
    "import os\n",
    "print(\"PUIdata\", os.getenv(\"PUIDATA\"))"
   ]
  },
  {
   "cell_type": "code",
   "execution_count": 5,
   "metadata": {},
   "outputs": [
    {
     "name": "stdout",
     "output_type": "stream",
     "text": [
      "PUIdata /nfshome/fb55/PUIdata\n"
     ]
    }
   ],
   "source": [
    "#create the env variable if missing\n",
    "os.environ[\"PUIDATA\"] = \"%s/PUIdata\"%os.getenv(\"HOME\")\n",
    "\n",
    "print(\"PUIdata\", os.getenv(\"PUIDATA\"))"
   ]
  },
  {
   "cell_type": "code",
   "execution_count": 6,
   "metadata": {},
   "outputs": [],
   "source": [
    "# move the data\n",
    "!mv dhsdaily.csv $PUIDATA"
   ]
  },
  {
   "cell_type": "code",
   "execution_count": 7,
   "metadata": {},
   "outputs": [
    {
     "name": "stdout",
     "output_type": "stream",
     "text": [
      "2015_station_data.csv\r\n",
      "2015_status_data.csv\r\n",
      "2015_trip_data.csv\r\n",
      "2015_weather_data.csv\r\n",
      "311_Service_Requests_from_2010_to_Present_head.csv\r\n",
      "311_Service_Requests_from_2010_to_Present_short.csv\r\n",
      "dhsdaily.csv\r\n",
      "IntrotoStats_Table6_1.csv\r\n",
      "NYPD_7_Major_Felony_Incidents.csv\r\n",
      "README.txt\r\n",
      "test.tmp\r\n",
      "test.txt\r\n"
     ]
    }
   ],
   "source": [
    "#test if the data is there\n",
    "!ls $PUIDATA"
   ]
  },
  {
   "cell_type": "markdown",
   "metadata": {},
   "source": [
    "## read in the data with pandas"
   ]
  },
  {
   "cell_type": "code",
   "execution_count": 8,
   "metadata": {},
   "outputs": [],
   "source": [
    "#read in the data with pandas\n",
    "import pandas as pd\n",
    "dhs = pd.read_csv(\"%s/dhsdaily.csv\"%os.getenv(\"PUIDATA\"))"
   ]
  },
  {
   "cell_type": "code",
   "execution_count": 9,
   "metadata": {},
   "outputs": [
    {
     "data": {
      "text/html": [
       "<div>\n",
       "<table border=\"1\" class=\"dataframe\">\n",
       "  <thead>\n",
       "    <tr style=\"text-align: right;\">\n",
       "      <th></th>\n",
       "      <th>Date of Census</th>\n",
       "      <th>Total Adults in Shelter</th>\n",
       "      <th>Total Children in Shelter</th>\n",
       "      <th>Total Individuals in Shelter</th>\n",
       "      <th>Single Adult Men in Shelter</th>\n",
       "      <th>Single Adult Women in Shelter</th>\n",
       "      <th>Total Single Adults in Shelter</th>\n",
       "      <th>Families with Children in Shelter</th>\n",
       "      <th>Adults in Families with Children in Shelter</th>\n",
       "      <th>Children in Families with Children in Shelter</th>\n",
       "      <th>Total Individuals in Families with Children in Shelter</th>\n",
       "      <th>Adult Families in Shelter</th>\n",
       "      <th>Individuals in Adult Families in Shelter</th>\n",
       "    </tr>\n",
       "  </thead>\n",
       "  <tbody>\n",
       "    <tr>\n",
       "      <th>0</th>\n",
       "      <td>08/21/2013</td>\n",
       "      <td>28359</td>\n",
       "      <td>21314</td>\n",
       "      <td>49673</td>\n",
       "      <td>7231</td>\n",
       "      <td>2710</td>\n",
       "      <td>9941</td>\n",
       "      <td>10261</td>\n",
       "      <td>14607</td>\n",
       "      <td>21314</td>\n",
       "      <td>35921</td>\n",
       "      <td>1796</td>\n",
       "      <td>3811</td>\n",
       "    </tr>\n",
       "    <tr>\n",
       "      <th>1</th>\n",
       "      <td>08/22/2013</td>\n",
       "      <td>28366</td>\n",
       "      <td>21324</td>\n",
       "      <td>49690</td>\n",
       "      <td>7201</td>\n",
       "      <td>2716</td>\n",
       "      <td>9917</td>\n",
       "      <td>10274</td>\n",
       "      <td>14622</td>\n",
       "      <td>21324</td>\n",
       "      <td>35946</td>\n",
       "      <td>1803</td>\n",
       "      <td>3827</td>\n",
       "    </tr>\n",
       "    <tr>\n",
       "      <th>2</th>\n",
       "      <td>08/23/2013</td>\n",
       "      <td>28257</td>\n",
       "      <td>21291</td>\n",
       "      <td>49548</td>\n",
       "      <td>7149</td>\n",
       "      <td>2671</td>\n",
       "      <td>9820</td>\n",
       "      <td>10266</td>\n",
       "      <td>14611</td>\n",
       "      <td>21291</td>\n",
       "      <td>35902</td>\n",
       "      <td>1802</td>\n",
       "      <td>3826</td>\n",
       "    </tr>\n",
       "    <tr>\n",
       "      <th>3</th>\n",
       "      <td>08/24/2013</td>\n",
       "      <td>28274</td>\n",
       "      <td>21343</td>\n",
       "      <td>49617</td>\n",
       "      <td>7110</td>\n",
       "      <td>2690</td>\n",
       "      <td>9800</td>\n",
       "      <td>10291</td>\n",
       "      <td>14650</td>\n",
       "      <td>21343</td>\n",
       "      <td>35993</td>\n",
       "      <td>1801</td>\n",
       "      <td>3824</td>\n",
       "    </tr>\n",
       "    <tr>\n",
       "      <th>4</th>\n",
       "      <td>08/25/2013</td>\n",
       "      <td>28458</td>\n",
       "      <td>21400</td>\n",
       "      <td>49858</td>\n",
       "      <td>7230</td>\n",
       "      <td>2704</td>\n",
       "      <td>9934</td>\n",
       "      <td>10324</td>\n",
       "      <td>14694</td>\n",
       "      <td>21400</td>\n",
       "      <td>36094</td>\n",
       "      <td>1804</td>\n",
       "      <td>3830</td>\n",
       "    </tr>\n",
       "    <tr>\n",
       "      <th>5</th>\n",
       "      <td>08/26/2013</td>\n",
       "      <td>28485</td>\n",
       "      <td>21392</td>\n",
       "      <td>49877</td>\n",
       "      <td>7252</td>\n",
       "      <td>2704</td>\n",
       "      <td>9956</td>\n",
       "      <td>10307</td>\n",
       "      <td>14688</td>\n",
       "      <td>21392</td>\n",
       "      <td>36080</td>\n",
       "      <td>1809</td>\n",
       "      <td>3841</td>\n",
       "    </tr>\n",
       "    <tr>\n",
       "      <th>6</th>\n",
       "      <td>08/27/2013</td>\n",
       "      <td>28414</td>\n",
       "      <td>21322</td>\n",
       "      <td>49736</td>\n",
       "      <td>7209</td>\n",
       "      <td>2713</td>\n",
       "      <td>9922</td>\n",
       "      <td>10277</td>\n",
       "      <td>14640</td>\n",
       "      <td>21322</td>\n",
       "      <td>35962</td>\n",
       "      <td>1813</td>\n",
       "      <td>3852</td>\n",
       "    </tr>\n",
       "    <tr>\n",
       "      <th>7</th>\n",
       "      <td>08/28/2013</td>\n",
       "      <td>28428</td>\n",
       "      <td>21325</td>\n",
       "      <td>49753</td>\n",
       "      <td>7229</td>\n",
       "      <td>2721</td>\n",
       "      <td>9950</td>\n",
       "      <td>10284</td>\n",
       "      <td>14647</td>\n",
       "      <td>21325</td>\n",
       "      <td>35972</td>\n",
       "      <td>1803</td>\n",
       "      <td>3831</td>\n",
       "    </tr>\n",
       "  </tbody>\n",
       "</table>\n",
       "</div>"
      ],
      "text/plain": [
       "  Date of Census  Total Adults in Shelter  Total Children in Shelter  \\\n",
       "0     08/21/2013                    28359                      21314   \n",
       "1     08/22/2013                    28366                      21324   \n",
       "2     08/23/2013                    28257                      21291   \n",
       "3     08/24/2013                    28274                      21343   \n",
       "4     08/25/2013                    28458                      21400   \n",
       "5     08/26/2013                    28485                      21392   \n",
       "6     08/27/2013                    28414                      21322   \n",
       "7     08/28/2013                    28428                      21325   \n",
       "\n",
       "   Total Individuals in Shelter  Single Adult Men in Shelter  \\\n",
       "0                         49673                         7231   \n",
       "1                         49690                         7201   \n",
       "2                         49548                         7149   \n",
       "3                         49617                         7110   \n",
       "4                         49858                         7230   \n",
       "5                         49877                         7252   \n",
       "6                         49736                         7209   \n",
       "7                         49753                         7229   \n",
       "\n",
       "   Single Adult Women in Shelter  Total Single Adults in Shelter  \\\n",
       "0                           2710                            9941   \n",
       "1                           2716                            9917   \n",
       "2                           2671                            9820   \n",
       "3                           2690                            9800   \n",
       "4                           2704                            9934   \n",
       "5                           2704                            9956   \n",
       "6                           2713                            9922   \n",
       "7                           2721                            9950   \n",
       "\n",
       "   Families with Children in Shelter  \\\n",
       "0                              10261   \n",
       "1                              10274   \n",
       "2                              10266   \n",
       "3                              10291   \n",
       "4                              10324   \n",
       "5                              10307   \n",
       "6                              10277   \n",
       "7                              10284   \n",
       "\n",
       "   Adults in Families with Children in Shelter  \\\n",
       "0                                        14607   \n",
       "1                                        14622   \n",
       "2                                        14611   \n",
       "3                                        14650   \n",
       "4                                        14694   \n",
       "5                                        14688   \n",
       "6                                        14640   \n",
       "7                                        14647   \n",
       "\n",
       "   Children in Families with Children in Shelter  \\\n",
       "0                                          21314   \n",
       "1                                          21324   \n",
       "2                                          21291   \n",
       "3                                          21343   \n",
       "4                                          21400   \n",
       "5                                          21392   \n",
       "6                                          21322   \n",
       "7                                          21325   \n",
       "\n",
       "   Total Individuals in Families with Children in Shelter   \\\n",
       "0                                              35921         \n",
       "1                                              35946         \n",
       "2                                              35902         \n",
       "3                                              35993         \n",
       "4                                              36094         \n",
       "5                                              36080         \n",
       "6                                              35962         \n",
       "7                                              35972         \n",
       "\n",
       "   Adult Families in Shelter  Individuals in Adult Families in Shelter  \n",
       "0                       1796                                      3811  \n",
       "1                       1803                                      3827  \n",
       "2                       1802                                      3826  \n",
       "3                       1801                                      3824  \n",
       "4                       1804                                      3830  \n",
       "5                       1809                                      3841  \n",
       "6                       1813                                      3852  \n",
       "7                       1803                                      3831  "
      ]
     },
     "execution_count": 9,
     "metadata": {},
     "output_type": "execute_result"
    }
   ],
   "source": [
    "#print the fist 8 lines out\n",
    "dhs.head(8)"
   ]
  },
  {
   "cell_type": "code",
   "execution_count": 10,
   "metadata": {},
   "outputs": [
    {
     "data": {
      "text/html": [
       "<div>\n",
       "<table border=\"1\" class=\"dataframe\">\n",
       "  <thead>\n",
       "    <tr style=\"text-align: right;\">\n",
       "      <th></th>\n",
       "      <th>Date of Census</th>\n",
       "      <th>Total Adults in Shelter</th>\n",
       "      <th>Total Children in Shelter</th>\n",
       "      <th>Total Individuals in Shelter</th>\n",
       "      <th>Single Adult Men in Shelter</th>\n",
       "      <th>Single Adult Women in Shelter</th>\n",
       "      <th>Total Single Adults in Shelter</th>\n",
       "      <th>Families with Children in Shelter</th>\n",
       "      <th>Adults in Families with Children in Shelter</th>\n",
       "      <th>Children in Families with Children in Shelter</th>\n",
       "      <th>Total Individuals in Families with Children in Shelter</th>\n",
       "      <th>Adult Families in Shelter</th>\n",
       "      <th>Individuals in Adult Families in Shelter</th>\n",
       "    </tr>\n",
       "  </thead>\n",
       "  <tbody>\n",
       "    <tr>\n",
       "      <th>1811</th>\n",
       "      <td>09/14/2018</td>\n",
       "      <td>37845</td>\n",
       "      <td>22243</td>\n",
       "      <td>60088</td>\n",
       "      <td>11208</td>\n",
       "      <td>4355</td>\n",
       "      <td>15563</td>\n",
       "      <td>12610</td>\n",
       "      <td>16967</td>\n",
       "      <td>22243</td>\n",
       "      <td>39210</td>\n",
       "      <td>2500</td>\n",
       "      <td>5315</td>\n",
       "    </tr>\n",
       "    <tr>\n",
       "      <th>1812</th>\n",
       "      <td>09/15/2018</td>\n",
       "      <td>37859</td>\n",
       "      <td>22294</td>\n",
       "      <td>60153</td>\n",
       "      <td>11199</td>\n",
       "      <td>4370</td>\n",
       "      <td>15569</td>\n",
       "      <td>12632</td>\n",
       "      <td>17009</td>\n",
       "      <td>22294</td>\n",
       "      <td>39303</td>\n",
       "      <td>2481</td>\n",
       "      <td>5281</td>\n",
       "    </tr>\n",
       "    <tr>\n",
       "      <th>1813</th>\n",
       "      <td>09/16/2018</td>\n",
       "      <td>37933</td>\n",
       "      <td>22347</td>\n",
       "      <td>60280</td>\n",
       "      <td>11248</td>\n",
       "      <td>4374</td>\n",
       "      <td>15622</td>\n",
       "      <td>12651</td>\n",
       "      <td>17030</td>\n",
       "      <td>22347</td>\n",
       "      <td>39377</td>\n",
       "      <td>2481</td>\n",
       "      <td>5281</td>\n",
       "    </tr>\n",
       "  </tbody>\n",
       "</table>\n",
       "</div>"
      ],
      "text/plain": [
       "     Date of Census  Total Adults in Shelter  Total Children in Shelter  \\\n",
       "1811     09/14/2018                    37845                      22243   \n",
       "1812     09/15/2018                    37859                      22294   \n",
       "1813     09/16/2018                    37933                      22347   \n",
       "\n",
       "      Total Individuals in Shelter  Single Adult Men in Shelter  \\\n",
       "1811                         60088                        11208   \n",
       "1812                         60153                        11199   \n",
       "1813                         60280                        11248   \n",
       "\n",
       "      Single Adult Women in Shelter  Total Single Adults in Shelter  \\\n",
       "1811                           4355                           15563   \n",
       "1812                           4370                           15569   \n",
       "1813                           4374                           15622   \n",
       "\n",
       "      Families with Children in Shelter  \\\n",
       "1811                              12610   \n",
       "1812                              12632   \n",
       "1813                              12651   \n",
       "\n",
       "      Adults in Families with Children in Shelter  \\\n",
       "1811                                        16967   \n",
       "1812                                        17009   \n",
       "1813                                        17030   \n",
       "\n",
       "      Children in Families with Children in Shelter  \\\n",
       "1811                                          22243   \n",
       "1812                                          22294   \n",
       "1813                                          22347   \n",
       "\n",
       "      Total Individuals in Families with Children in Shelter   \\\n",
       "1811                                              39210         \n",
       "1812                                              39303         \n",
       "1813                                              39377         \n",
       "\n",
       "      Adult Families in Shelter  Individuals in Adult Families in Shelter  \n",
       "1811                       2500                                      5315  \n",
       "1812                       2481                                      5281  \n",
       "1813                       2481                                      5281  "
      ]
     },
     "execution_count": 10,
     "metadata": {},
     "output_type": "execute_result"
    }
   ],
   "source": [
    "#print the last 3 lines out\n",
    "dhs.tail(3)"
   ]
  },
  {
   "cell_type": "code",
   "execution_count": 11,
   "metadata": {},
   "outputs": [
    {
     "data": {
      "text/plain": [
       "Index(['Date of Census', 'Total Adults in Shelter',\n",
       "       'Total Children in Shelter', 'Total Individuals in Shelter',\n",
       "       'Single Adult Men in Shelter', 'Single Adult Women in Shelter',\n",
       "       'Total Single Adults in Shelter', 'Families with Children in Shelter',\n",
       "       'Adults in Families with Children in Shelter',\n",
       "       'Children in Families with Children in Shelter',\n",
       "       'Total Individuals in Families with Children in Shelter ',\n",
       "       'Adult Families in Shelter',\n",
       "       'Individuals in Adult Families in Shelter'],\n",
       "      dtype='object')"
      ]
     },
     "execution_count": 11,
     "metadata": {},
     "output_type": "execute_result"
    }
   ],
   "source": [
    "#look at the columns available, those are the variables\n",
    "dhs.columns"
   ]
  },
  {
   "cell_type": "code",
   "execution_count": 12,
   "metadata": {},
   "outputs": [
    {
     "data": {
      "text/plain": [
       "23582"
      ]
     },
     "execution_count": 12,
     "metadata": {},
     "output_type": "execute_result"
    }
   ],
   "source": [
    "#count how many rows, those are the data points\n",
    "dhs.size"
   ]
  },
  {
   "cell_type": "code",
   "execution_count": 13,
   "metadata": {},
   "outputs": [],
   "source": [
    "#select 2 columns only for plotting\n",
    "dhs_2c = dhs[['Total Children in Shelter', 'Adult Families in Shelter']]"
   ]
  },
  {
   "cell_type": "code",
   "execution_count": 14,
   "metadata": {},
   "outputs": [
    {
     "data": {
      "text/html": [
       "<div>\n",
       "<table border=\"1\" class=\"dataframe\">\n",
       "  <thead>\n",
       "    <tr style=\"text-align: right;\">\n",
       "      <th></th>\n",
       "      <th>Total Children in Shelter</th>\n",
       "      <th>Adult Families in Shelter</th>\n",
       "    </tr>\n",
       "  </thead>\n",
       "  <tbody>\n",
       "    <tr>\n",
       "      <th>0</th>\n",
       "      <td>21314</td>\n",
       "      <td>1796</td>\n",
       "    </tr>\n",
       "    <tr>\n",
       "      <th>1</th>\n",
       "      <td>21324</td>\n",
       "      <td>1803</td>\n",
       "    </tr>\n",
       "    <tr>\n",
       "      <th>2</th>\n",
       "      <td>21291</td>\n",
       "      <td>1802</td>\n",
       "    </tr>\n",
       "    <tr>\n",
       "      <th>3</th>\n",
       "      <td>21343</td>\n",
       "      <td>1801</td>\n",
       "    </tr>\n",
       "    <tr>\n",
       "      <th>4</th>\n",
       "      <td>21400</td>\n",
       "      <td>1804</td>\n",
       "    </tr>\n",
       "  </tbody>\n",
       "</table>\n",
       "</div>"
      ],
      "text/plain": [
       "   Total Children in Shelter  Adult Families in Shelter\n",
       "0                      21314                       1796\n",
       "1                      21324                       1803\n",
       "2                      21291                       1802\n",
       "3                      21343                       1801\n",
       "4                      21400                       1804"
      ]
     },
     "execution_count": 14,
     "metadata": {},
     "output_type": "execute_result"
    }
   ],
   "source": [
    "dhs_2c.head()"
   ]
  },
  {
   "cell_type": "markdown",
   "metadata": {},
   "source": [
    "## plot the data"
   ]
  },
  {
   "cell_type": "code",
   "execution_count": 15,
   "metadata": {},
   "outputs": [
    {
     "data": {
      "text/plain": [
       "<matplotlib.axes._subplots.AxesSubplot at 0x7fe4c227cbe0>"
      ]
     },
     "execution_count": 15,
     "metadata": {},
     "output_type": "execute_result"
    }
   ],
   "source": [
    "dhs_2c.plot(x=\"Total Children in Shelter\", y=\"Adult Families in Shelter\")"
   ]
  },
  {
   "cell_type": "code",
   "execution_count": 16,
   "metadata": {},
   "outputs": [],
   "source": [
    "# wont show anything if i do not use the magic command to show plots in the notebook \n",
    "#(or use pl.show to pop up a window, but for the homework plots have to be embedded)"
   ]
  },
  {
   "cell_type": "code",
   "execution_count": 17,
   "metadata": {},
   "outputs": [
    {
     "name": "stdout",
     "output_type": "stream",
     "text": [
      "Populating the interactive namespace from numpy and matplotlib\n"
     ]
    }
   ],
   "source": [
    "%pylab inline"
   ]
  },
  {
   "cell_type": "code",
   "execution_count": 18,
   "metadata": {},
   "outputs": [
    {
     "data": {
      "image/png": "[encoded data removed]",
      "text/plain": [
       "<matplotlib.figure.Figure at 0x7fe4c21a11d0>"
      ]
     },
     "metadata": {},
     "output_type": "display_data"
    }
   ],
   "source": [
    "dhs_2c.plot(x=\"Adult Families in Shelter\", y=\"Total Children in Shelter\", kind='scatter');\n",
    "# every plot needs a caption that explains to the reader \n",
    "# 1) WHAT what the reader is loooking at and \n",
    "# 2) WHY why the reader is looking at it here in the analysis \n",
    "#      (in this case there is no why cause this plot is not part of an analysis)\n",
    "# 3) TAKE HOME what is the take home point for the plot in the analysis \n",
    "#      (also there is no take home point here cause we are not doind an analysis but you can point out interesting features)"
   ]
  },
  {
   "cell_type": "markdown",
   "metadata": {},
   "source": [
    "Figure 1: number of total number of children against adult families in NYC shelters as reported by the Department of Homeless Services between 8/21/2013 and 9/16/2018. The two variable curiously do not display a strong correlation. Also note that the number of children is about 10 times the number of adult families"
   ]
  },
  {
   "cell_type": "markdown",
   "metadata": {},
   "source": [
    "# solution 2: Use API and download a json file"
   ]
  },
  {
   "cell_type": "markdown",
   "metadata": {},
   "source": [
    "from the dataset export link now go to -> SODA API and the the endpoint"
   ]
  },
  {
   "cell_type": "code",
   "execution_count": 19,
   "metadata": {},
   "outputs": [],
   "source": [
    "url = \"https://data.cityofnewyork.us/resource/wece-v9d7.json\""
   ]
  },
  {
   "cell_type": "code",
   "execution_count": 20,
   "metadata": {},
   "outputs": [],
   "source": [
    "#use the appropriatepandas function to read in the json file\n",
    "df = pd.read_json(url)"
   ]
  },
  {
   "cell_type": "code",
   "execution_count": 21,
   "metadata": {},
   "outputs": [
    {
     "data": {
      "text/html": [
       "<div>\n",
       "<table border=\"1\" class=\"dataframe\">\n",
       "  <thead>\n",
       "    <tr style=\"text-align: right;\">\n",
       "      <th></th>\n",
       "      <th>adult_families_in_shelter</th>\n",
       "      <th>adults_in_families_with_children_in_shelter</th>\n",
       "      <th>children_in_families_with_children_in_shelter</th>\n",
       "      <th>date_of_census</th>\n",
       "      <th>families_with_children_in_shelter</th>\n",
       "      <th>individuals_in_adult_families_in_shelter</th>\n",
       "      <th>single_adult_men_in_shelter</th>\n",
       "      <th>single_adult_women_in_shelter</th>\n",
       "      <th>total_adults_in_shelter</th>\n",
       "      <th>total_children_in_shelter</th>\n",
       "      <th>total_individuals_in_families_with_children_in_shelter_</th>\n",
       "      <th>total_individuals_in_shelter</th>\n",
       "      <th>total_single_adults_in_shelter</th>\n",
       "    </tr>\n",
       "  </thead>\n",
       "  <tbody>\n",
       "    <tr>\n",
       "      <th>0</th>\n",
       "      <td>1796</td>\n",
       "      <td>14607</td>\n",
       "      <td>21314</td>\n",
       "      <td>2013-08-21T00:00:00.000</td>\n",
       "      <td>10261</td>\n",
       "      <td>3811</td>\n",
       "      <td>7231</td>\n",
       "      <td>2710</td>\n",
       "      <td>28359</td>\n",
       "      <td>21314</td>\n",
       "      <td>35921</td>\n",
       "      <td>49673</td>\n",
       "      <td>9941</td>\n",
       "    </tr>\n",
       "    <tr>\n",
       "      <th>1</th>\n",
       "      <td>1803</td>\n",
       "      <td>14622</td>\n",
       "      <td>21324</td>\n",
       "      <td>2013-08-22T00:00:00.000</td>\n",
       "      <td>10274</td>\n",
       "      <td>3827</td>\n",
       "      <td>7201</td>\n",
       "      <td>2716</td>\n",
       "      <td>28366</td>\n",
       "      <td>21324</td>\n",
       "      <td>35946</td>\n",
       "      <td>49690</td>\n",
       "      <td>9917</td>\n",
       "    </tr>\n",
       "    <tr>\n",
       "      <th>2</th>\n",
       "      <td>1802</td>\n",
       "      <td>14611</td>\n",
       "      <td>21291</td>\n",
       "      <td>2013-08-23T00:00:00.000</td>\n",
       "      <td>10266</td>\n",
       "      <td>3826</td>\n",
       "      <td>7149</td>\n",
       "      <td>2671</td>\n",
       "      <td>28257</td>\n",
       "      <td>21291</td>\n",
       "      <td>35902</td>\n",
       "      <td>49548</td>\n",
       "      <td>9820</td>\n",
       "    </tr>\n",
       "  </tbody>\n",
       "</table>\n",
       "</div>"
      ],
      "text/plain": [
       "   adult_families_in_shelter  adults_in_families_with_children_in_shelter  \\\n",
       "0                       1796                                        14607   \n",
       "1                       1803                                        14622   \n",
       "2                       1802                                        14611   \n",
       "\n",
       "   children_in_families_with_children_in_shelter           date_of_census  \\\n",
       "0                                          21314  2013-08-21T00:00:00.000   \n",
       "1                                          21324  2013-08-22T00:00:00.000   \n",
       "2                                          21291  2013-08-23T00:00:00.000   \n",
       "\n",
       "   families_with_children_in_shelter  \\\n",
       "0                              10261   \n",
       "1                              10274   \n",
       "2                              10266   \n",
       "\n",
       "   individuals_in_adult_families_in_shelter  single_adult_men_in_shelter  \\\n",
       "0                                      3811                         7231   \n",
       "1                                      3827                         7201   \n",
       "2                                      3826                         7149   \n",
       "\n",
       "   single_adult_women_in_shelter  total_adults_in_shelter  \\\n",
       "0                           2710                    28359   \n",
       "1                           2716                    28366   \n",
       "2                           2671                    28257   \n",
       "\n",
       "   total_children_in_shelter  \\\n",
       "0                      21314   \n",
       "1                      21324   \n",
       "2                      21291   \n",
       "\n",
       "   total_individuals_in_families_with_children_in_shelter_  \\\n",
       "0                                              35921         \n",
       "1                                              35946         \n",
       "2                                              35902         \n",
       "\n",
       "   total_individuals_in_shelter  total_single_adults_in_shelter  \n",
       "0                         49673                            9941  \n",
       "1                         49690                            9917  \n",
       "2                         49548                            9820  "
      ]
     },
     "execution_count": 21,
     "metadata": {},
     "output_type": "execute_result"
    }
   ],
   "source": [
    "# print it out\n",
    "df.head(3)"
   ]
  },
  {
   "cell_type": "code",
   "execution_count": 22,
   "metadata": {},
   "outputs": [],
   "source": [
    "#now select a date and 2 variables\n",
    "dhs_3c = df[['date_of_census', 'total_children_in_shelter', 'adult_families_in_shelter']]"
   ]
  },
  {
   "cell_type": "markdown",
   "metadata": {},
   "source": [
    "for consistency with the data above, I will change the names of the columns (variables) to be the same as before. This way the plots will come out with the same labels and legends"
   ]
  },
  {
   "cell_type": "code",
   "execution_count": 23,
   "metadata": {},
   "outputs": [
    {
     "name": "stderr",
     "output_type": "stream",
     "text": [
      "/usr/local/Anaconda3-5.0.0-Linux-x86_64/envs/PUI2016_Python3/lib/python3.5/site-packages/pandas/core/frame.py:2754: SettingWithCopyWarning: \n",
      "A value is trying to be set on a copy of a slice from a DataFrame\n",
      "\n",
      "See the caveats in the documentation: http://pandas.pydata.org/pandas-docs/stable/indexing.html#indexing-view-versus-copy\n",
      "  **kwargs)\n"
     ]
    }
   ],
   "source": [
    "dhs_3c.rename(columns = {'date_of_census':'Date of Census', \n",
    "               'total_children_in_shelter':'Total Children in Shelter', \n",
    "               'adult_families_in_shelter': 'Adult Families in Shelter'}, inplace=True)"
   ]
  },
  {
   "cell_type": "code",
   "execution_count": 24,
   "metadata": {},
   "outputs": [
    {
     "data": {
      "image/png": "[encoded data removed]",
      "text/plain": [
       "<matplotlib.figure.Figure at 0x7fe4c2203d30>"
      ]
     },
     "metadata": {},
     "output_type": "display_data"
    }
   ],
   "source": [
    "#as a default this plot wont have a y label, but all plots must have axis labels!\n",
    "ax = dhs_3c.plot(x='Date of Census', y='Total Children in Shelter');\n",
    "ax.set_ylabel(\"Number\");"
   ]
  },
  {
   "cell_type": "markdown",
   "metadata": {},
   "source": [
    "i do not like the formatting of those dates so I will drom the timestamp overwriting the original column. \n",
    "for more info on baisc timestamp manipulation \n",
    "( no capation cause I am remaking this figure)\n"
   ]
  },
  {
   "cell_type": "code",
   "execution_count": 25,
   "metadata": {},
   "outputs": [
    {
     "name": "stderr",
     "output_type": "stream",
     "text": [
      "/usr/local/Anaconda3-5.0.0-Linux-x86_64/envs/PUI2016_Python3/lib/python3.5/site-packages/ipykernel/__main__.py:1: SettingWithCopyWarning: \n",
      "A value is trying to be set on a copy of a slice from a DataFrame.\n",
      "Try using .loc[row_indexer,col_indexer] = value instead\n",
      "\n",
      "See the caveats in the documentation: http://pandas.pydata.org/pandas-docs/stable/indexing.html#indexing-view-versus-copy\n",
      "  if __name__ == '__main__':\n"
     ]
    }
   ],
   "source": [
    "dhs_3c[\"Date of Census\"] = dhs_3c[\"Date of Census\"].apply(lambda x: pd.Timestamp(x))"
   ]
  },
  {
   "cell_type": "markdown",
   "metadata": {},
   "source": [
    "now that I am using timestamps (instead of strings as the data got read in form the json file) Pandas know to rotate the labels appropriately so I can drop rot=90"
   ]
  },
  {
   "cell_type": "code",
   "execution_count": 26,
   "metadata": {},
   "outputs": [
    {
     "data": {
      "image/png": "[encoded data removed]",
      "text/plain": [
       "<matplotlib.figure.Figure at 0x7fe4c2149908>"
      ]
     },
     "metadata": {},
     "output_type": "display_data"
    }
   ],
   "source": [
    "ax = dhs_3c.plot(x='Date of Census', y='Total Children in Shelter')\n",
    "ax.set_ylabel(\"Number\");"
   ]
  },
  {
   "cell_type": "markdown",
   "metadata": {},
   "source": [
    "Figure 2: number of adult families in NYC shelters as a function of time between 8/21/2013 and 9/16/2018. The number peaks in early 2015. there is no single trend, but seasonal trends can be spotted"
   ]
  },
  {
   "cell_type": "code",
   "execution_count": 27,
   "metadata": {},
   "outputs": [
    {
     "data": {
      "image/png": "[encoded data removed]",
      "text/plain": [
       "<matplotlib.figure.Figure at 0x7fe4c2215f60>"
      ]
     },
     "metadata": {},
     "output_type": "display_data"
    }
   ],
   "source": [
    "#plot the other columns\n",
    "ax = dhs_3c.plot(x='Date of Census', y='Adult Families in Shelter')\n",
    "ax.set_ylabel(\"Number\");"
   ]
  },
  {
   "cell_type": "markdown",
   "metadata": {},
   "source": [
    "Figure 3: number of adult families NYC shelters against total number of children in shelters as reported by the Department of Homeless Services between 8/21/2013 and 9/16/2018. Unlike fo the number of adult families, there is a steady increasing trend in the children shelter population which grows from 1800 by about 30% "
   ]
  },
  {
   "cell_type": "code",
   "execution_count": null,
   "metadata": {},
   "outputs": [],
   "source": []
  }
 ],
 "metadata": {
  "kernelspec": {
   "display_name": "PUI2016_Python3",
   "language": "python",
   "name": "pui2016_python3"
  },
  "language_info": {
   "codemirror_mode": {
    "name": "ipython",
    "version": 3
   },
   "file_extension": ".py",
   "mimetype": "text/x-python",
   "name": "python",
   "nbconvert_exporter": "python",
   "pygments_lexer": "ipython3",
   "version": "3.5.4"
  }
 },
 "nbformat": 4,
 "nbformat_minor": 2
}
