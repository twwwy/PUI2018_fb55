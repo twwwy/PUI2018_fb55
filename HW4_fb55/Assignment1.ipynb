{
 "cells": [
  {
   "cell_type": "markdown",
   "metadata": {},
   "source": [
    " Written by Federica B. Bianco @fedhere\n",
    " NYU CUSP PUI\n",
    "\n",
    " Assignment 1 Homework 4\n",
    "\n",
    " This is a skeleton & instruction notebook\n",
    "\n",
    "-  GENERATE  100 samples of different sizes N (N>10 & N<2000) from each of 5 different distributions (500 samples in total), \n",
    " _all with the same population mean_. Include a _Normal_, a _Poisson_, a _Binomial_, a _Chi-Squared_ distribution, and 1 more of your choice.                                       \n",
    "-  For each sample plot the sample mean (dependent var.) against the sample size N (independent var.) (if you want you can do it with the sample standard deviation as well). \n",
    "-  Describe the behavior you see in the plots in terms of the law of large numbers.\n",
    "-  PLOT the distributions of all sample means (together for all distributions). _Mandatory_: as a histogram. _Optional_: in any other way you think is convincing\n",
    " Extra Credit: FIT a gaussian to the distribution of means            "
   ]
  },
  {
   "cell_type": "code",
   "execution_count": 1,
   "metadata": {
    "collapsed": false
   },
   "outputs": [
    {
     "name": "stdout",
     "output_type": "stream",
     "text": [
      "Populating the interactive namespace from numpy and matplotlib\n"
     ]
    }
   ],
   "source": [
    "from __future__ import print_function\n",
    "__author__= 'fbb'\n",
    "\n",
    "import pylab as pl\n",
    "# this package sets up pretty plots\n",
    "import seaborn\n",
    "from scipy.optimize import curve_fit, minimize\n",
    "    \n",
    "%pylab inline"
   ]
  },
  {
   "cell_type": "markdown",
   "metadata": {},
   "source": [
    "## choose which distributions to use "
   ]
  },
  {
   "cell_type": "code",
   "execution_count": 2,
   "metadata": {
    "collapsed": true
   },
   "outputs": [],
   "source": [
    "#distributions = ['pois', 'gaus', 'chisq', 'cauchy', 'lnorm', 'binomial']\n",
    "distributions = ['chisq']\n"
   ]
  },
  {
   "cell_type": "markdown",
   "metadata": {
    "collapsed": true
   },
   "source": [
    "## and which mean to give it"
   ]
  },
  {
   "cell_type": "code",
   "execution_count": 3,
   "metadata": {
    "collapsed": false
   },
   "outputs": [],
   "source": [
    "mymean = 100"
   ]
  },
  {
   "cell_type": "markdown",
   "metadata": {},
   "source": [
    "# Let's see what this distribution looks like, what is the PDF, and how are the moments defined. Wikipedia is great for this! \n",
    "\n",
    "![1](chisq1.png)\n",
    "\n",
    "![2](chisq2.png)"
   ]
  },
  {
   "cell_type": "markdown",
   "metadata": {},
   "source": [
    "# Then lets look at the numpy random sampling package to see how I create the distribution\n",
    "http://docs.scipy.org/doc/numpy/reference/routines.random.html\n",
    "http://docs.scipy.org/doc/numpy/reference/generated/numpy.random.chisquare.html#numpy.random.chisquare\n",
    "\n"
   ]
  },
  {
   "cell_type": "code",
   "execution_count": 4,
   "metadata": {
    "collapsed": false
   },
   "outputs": [],
   "source": [
    "# the chi sq distribution takes the number of degrees of freedom, which luckily is the same as the mean!\n",
    "df = mymean"
   ]
  },
  {
   "cell_type": "markdown",
   "metadata": {},
   "source": [
    "## I am making a dictionary to host the distributions.\n",
    "\n",
    "that is only one possible option. with a dictionary I can easily inspect the distribution I want by its name: it is a very human friendly data storage. In this example I am only using a single distribution, so for me it is overkill, but if I were doing the whole exercise with 5 or 6 distributions it would be useful!\n",
    "\n",
    "Lets start by looking at a single chi sq distribution"
   ]
  },
  {
   "cell_type": "code",
   "execution_count": 5,
   "metadata": {
    "collapsed": false
   },
   "outputs": [
    {
     "data": {
      "text/plain": [
       "<matplotlib.text.Text at 0x116d8de80>"
      ]
     },
     "execution_count": 5,
     "metadata": {},
     "output_type": "execute_result"
    },
    {
     "data": {
      "image/png": "[encoded data removed]",
      "text/plain": [
       "<matplotlib.figure.Figure at 0x116ab11d0>"
      ]
     },
     "metadata": {},
     "output_type": "display_data"
    }
   ],
   "source": [
    "# Note: I am adding imports here, to show the workflow: \n",
    "# at this point I realize what packages I need and I import them. \n",
    "# but this is a PEP8 violation. \n",
    "# It is a good habit to put the includes at the top \n",
    "# so the code fails right away if the packages are missing. \n",
    "# Otherwise a user may have a piece of code running for a long time, \n",
    "# and then fail when the package cannot be imported... \n",
    "# (unless they are only imported under conditions, e.g. in an if statement)\n",
    "\n",
    "import numpy as np\n",
    "md = {}\n",
    "# md is an empty disctionary\n",
    "md['chisq'] = np.random.chisquare(df, size=100)\n",
    "# md now is a dictionary with one object: an array by the key 'chisq'\n",
    "pl.hist(md['chisq'], bins = 30)\n",
    "pl.ylabel('N')\n",
    "pl.xlabel('x')"
   ]
  },
  {
   "cell_type": "markdown",
   "metadata": {},
   "source": [
    "### Figure 1: Chi sq distribution: df = 100, N=100"
   ]
  },
  {
   "cell_type": "markdown",
   "metadata": {},
   "source": [
    "## let numpy calculate what the mean and stdev of this distribution are"
   ]
  },
  {
   "cell_type": "code",
   "execution_count": 6,
   "metadata": {
    "collapsed": false
   },
   "outputs": [
    {
     "name": "stdout",
     "output_type": "stream",
     "text": [
      "Chisq mean: 98.65, standard deviation: 13.92\n"
     ]
    }
   ],
   "source": [
    "print (\"Chisq mean: %.2f, standard deviation: %.2f\"%(md['chisq'].mean(), md['chisq'].std()))"
   ]
  },
  {
   "cell_type": "markdown",
   "metadata": {},
   "source": [
    "## Now let's do it for 100 Chisq distributions\n",
    "we want distributions of different sizes (all integers between 10 and 2000)"
   ]
  },
  {
   "cell_type": "code",
   "execution_count": 7,
   "metadata": {
    "collapsed": false
   },
   "outputs": [
    {
     "name": "stdout",
     "output_type": "stream",
     "text": [
      "[2000 1000  666  500  400  333  285  250  222  200  181  166  153  142  133\n",
      "  125  117  111  105  100   95   90   86   83   80   76   74   71   68   66\n",
      "   64   62   60   58   57   55   54   52   51   50   48   47   46   45   44\n",
      "   43   42   41   40   40   39   38   37   37   36   35   35   34   33   33\n",
      "   32   32   31   31   30   30   29   29   28   28   28   27   27   27   26\n",
      "   26   25   25   25   25   24   24   24   23   23   23   22   22   22   22\n",
      "   21   21   21   21   21   20   20   20   20] (99,)\n"
     ]
    }
   ],
   "source": [
    "mysize = (2000 / (np.array(range(1, 100)))).astype(int)\n",
    "# mysize = 1000 / (np.array(range(1, 100) + [10]))\n",
    "# mysize = (np.random.rand(100) * 1000).astype(int)\n",
    "print (mysize, mysize.shape)"
   ]
  },
  {
   "cell_type": "code",
   "execution_count": 8,
   "metadata": {
    "collapsed": false
   },
   "outputs": [
    {
     "data": {
      "image/png": "[encoded data removed]",
      "text/plain": [
       "<matplotlib.figure.Figure at 0x116ec02b0>"
      ]
     },
     "metadata": {},
     "output_type": "display_data"
    }
   ],
   "source": [
    "# I am gonna overwrite the disctionary entry created into a nested dictionary \n",
    "# the outside dictionary hosts the distributions as dictionary, \n",
    "# and each distribution dictionary contains the 100 distribution (arrays of diferent sizes)\n",
    "\n",
    "md['chisq'] = {} \n",
    "\n",
    "#and do it in a for loop. not pythonic, but easily readable\n",
    "\n",
    "for n in mysize:\n",
    "    md['chisq'][n] = np.random.chisquare(df, size = n)\n",
    "    \n",
    "# save the means for plotting later    \n",
    "\n",
    "md['chisq']['means'] = {}\n",
    "axchisq_mu_n = pl.figure(figsize=(10,6)).add_subplot(111)\n",
    "\n",
    "for nn in md['chisq']:\n",
    "    if not type(nn) == str:\n",
    "        md['chisq']['means'][nn] = md['chisq'][nn].mean()\n",
    "        #and plot it\n",
    "        axchisq_mu_n.plot(nn, md['chisq']['means'][nn], 'o')\n",
    "        axchisq_mu_n.set_xlabel('sample size', fontsize=18)\n",
    "        axchisq_mu_n.set_ylabel('sample mean', fontsize=18)\n",
    "        axchisq_mu_n.set_title('Chi squared', fontsize=18)\n",
    "        axchisq_mu_n.plot([min(mysize), max(mysize)], [df, df], 'k')"
   ]
  },
  {
   "cell_type": "markdown",
   "metadata": {},
   "source": [
    "### Figure 2: [describe what you see and how it relates to the law of large numbers]"
   ]
  },
  {
   "cell_type": "markdown",
   "metadata": {},
   "source": [
    "# now the histogram of the mean of all samples: \n",
    "## this requires some data wrangling, since i put the data in a dictionary which is a user friendly data structure, but perhaps not the most machine friendly one\n",
    "\n",
    "a coder friendly, though not terribly pythonic way to do it is to append each mean in a list in a for loop, and then hist that. be careful: if your data size gets large this becomes a very bad idea!!"
   ]
  },
  {
   "cell_type": "code",
   "execution_count": 9,
   "metadata": {
    "collapsed": false
   },
   "outputs": [
    {
     "data": {
      "text/plain": [
       "<matplotlib.text.Text at 0x119f99518>"
      ]
     },
     "execution_count": 9,
     "metadata": {},
     "output_type": "execute_result"
    },
    {
     "data": {
      "image/png": "[encoded data removed]",
      "text/plain": [
       "<matplotlib.figure.Figure at 0x116e10be0>"
      ]
     },
     "metadata": {},
     "output_type": "display_data"
    }
   ],
   "source": [
    "allmeans = list(md['chisq']['means'].values())\n",
    "\n",
    "pl.figure(figsize=(10, 10))\n",
    "pl.hist(allmeans,bins=30)\n",
    "pl.xlabel('sample mean', fontsize = 18)\n",
    "pl.ylabel('N', fontsize = 18)"
   ]
  },
  {
   "cell_type": "markdown",
   "metadata": {},
   "source": [
    "## Figure 3: [...]"
   ]
  },
  {
   "cell_type": "markdown",
   "metadata": {
    "collapsed": true
   },
   "source": [
    "# Do it for the Normal distribution\n"
   ]
  },
  {
   "cell_type": "code",
   "execution_count": 10,
   "metadata": {
    "collapsed": true
   },
   "outputs": [],
   "source": [
    "##your code here..."
   ]
  },
  {
   "cell_type": "markdown",
   "metadata": {
    "collapsed": true
   },
   "source": [
    "# Do it for the Poisson distribution"
   ]
  },
  {
   "cell_type": "code",
   "execution_count": 11,
   "metadata": {
    "collapsed": true
   },
   "outputs": [],
   "source": [
    "##your code here..."
   ]
  },
  {
   "cell_type": "markdown",
   "metadata": {},
   "source": [
    "# Do it for the Binomial distribution"
   ]
  },
  {
   "cell_type": "code",
   "execution_count": 12,
   "metadata": {
    "collapsed": true
   },
   "outputs": [],
   "source": [
    "##your code here..."
   ]
  },
  {
   "cell_type": "markdown",
   "metadata": {},
   "source": [
    "# Do it for another distribution"
   ]
  },
  {
   "cell_type": "code",
   "execution_count": 13,
   "metadata": {
    "collapsed": true
   },
   "outputs": [],
   "source": [
    "##your code here..."
   ]
  },
  {
   "cell_type": "code",
   "execution_count": null,
   "metadata": {
    "collapsed": true
   },
   "outputs": [],
   "source": []
  }
 ],
 "metadata": {
  "anaconda-cloud": {},
  "kernelspec": {
   "display_name": "Python [conda root]",
   "language": "python",
   "name": "conda-root-py"
  },
  "language_info": {
   "codemirror_mode": {
    "name": "ipython",
    "version": 2
   },
   "file_extension": ".py",
   "mimetype": "text/x-python",
   "name": "python",
   "nbconvert_exporter": "python",
   "pygments_lexer": "ipython2",
   "version": "2.7.3"
  }
 },
 "nbformat": 4,
 "nbformat_minor": 0
}
