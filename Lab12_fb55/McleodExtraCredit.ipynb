{
 "cells": [
  {
   "cell_type": "code",
   "execution_count": null,
   "metadata": {
    "collapsed": true
   },
   "outputs": [],
   "source": []
  },
  {
   "cell_type": "code",
   "execution_count": 54,
   "metadata": {
    "collapsed": false,
    "run_control": {
     "frozen": false,
     "read_only": false
    }
   },
   "outputs": [
    {
     "name": "stdout",
     "output_type": "stream",
     "text": [
      "Populating the interactive namespace from numpy and matplotlib\n"
     ]
    }
   ],
   "source": [
    "import pandas as pd\n",
    "import numpy as np\n",
    "import pylab as pl\n",
    "\n",
    "from sklearn import linear_model\n",
    "from sklearn.linear_model import LogisticRegression, RidgeClassifierCV\n",
    "from sklearn.ensemble import RandomForestClassifier, GradientBoostingClassifier\n",
    "from sklearn.tree import DecisionTreeClassifier\n",
    "from sklearn.cross_validation import cross_val_score\n",
    "from sklearn.preprocessing import Imputer\n",
    "from sklearn import preprocessing\n",
    "from sklearn.base import BaseEstimator\n",
    "from sklearn.cross_validation import train_test_split\n",
    "from sklearn import metrics\n",
    "from sklearn.cross_validation import cross_val_score\n",
    "\n",
    "import os\n",
    "import json\n",
    "\n",
    "%pylab inline"
   ]
  },
  {
   "cell_type": "code",
   "execution_count": 2,
   "metadata": {
    "collapsed": true,
    "run_control": {
     "frozen": false,
     "read_only": false
    }
   },
   "outputs": [],
   "source": [
    "a = pd.read_csv('Theory.csv')"
   ]
  },
  {
   "cell_type": "code",
   "execution_count": 3,
   "metadata": {
    "collapsed": false,
    "run_control": {
     "frozen": false,
     "read_only": false
    }
   },
   "outputs": [
    {
     "data": {
      "text/html": [
       "<div>\n",
       "<table border=\"1\" class=\"dataframe\">\n",
       "  <thead>\n",
       "    <tr style=\"text-align: right;\">\n",
       "      <th></th>\n",
       "      <th>ID_INTERNAL</th>\n",
       "      <th>CD_TYPE_ACCT</th>\n",
       "      <th>ID_ACCT</th>\n",
       "      <th>DT_PD_ACCT_BEGIN</th>\n",
       "      <th>DT_PD_ACCT_END</th>\n",
       "      <th>QT_ASSESSMENT</th>\n",
       "      <th>CD_TYPE_ASSESSMENT</th>\n",
       "      <th>AM_LIAB_CANCEL</th>\n",
       "      <th>AM_COLL_CANCEL</th>\n",
       "      <th>DT_NOTICE_DEM_PYMT</th>\n",
       "      <th>...</th>\n",
       "      <th>BalanceGZero</th>\n",
       "      <th>Warranted</th>\n",
       "      <th>AM_TAX_DUE</th>\n",
       "      <th>AM_PEN_UNDERPYMT</th>\n",
       "      <th>AM_PEN_LATE_FILE</th>\n",
       "      <th>AM_PEN_LATE_PYMT</th>\n",
       "      <th>AM_ABT_UNDERPYMT</th>\n",
       "      <th>AM_ABT_LATE_FILE</th>\n",
       "      <th>AM_ABT_LATE_PYMT</th>\n",
       "      <th>AM_TAX_MATH_ERROR</th>\n",
       "    </tr>\n",
       "  </thead>\n",
       "  <tbody>\n",
       "    <tr>\n",
       "      <th>0</th>\n",
       "      <td>30034666303</td>\n",
       "      <td>200</td>\n",
       "      <td>NaN</td>\n",
       "      <td>2013-11-01</td>\n",
       "      <td>2014-09-29</td>\n",
       "      <td>1</td>\n",
       "      <td>1</td>\n",
       "      <td>0.00</td>\n",
       "      <td>0</td>\n",
       "      <td>2014-12-24</td>\n",
       "      <td>...</td>\n",
       "      <td>0</td>\n",
       "      <td>1</td>\n",
       "      <td>25.00</td>\n",
       "      <td>0.00</td>\n",
       "      <td>0</td>\n",
       "      <td>0.00</td>\n",
       "      <td>0</td>\n",
       "      <td>0</td>\n",
       "      <td>0</td>\n",
       "      <td>0.00</td>\n",
       "    </tr>\n",
       "    <tr>\n",
       "      <th>1</th>\n",
       "      <td>30030541103</td>\n",
       "      <td>200</td>\n",
       "      <td>NaN</td>\n",
       "      <td>2013-01-01</td>\n",
       "      <td>2013-12-31</td>\n",
       "      <td>1</td>\n",
       "      <td>1</td>\n",
       "      <td>0.00</td>\n",
       "      <td>0</td>\n",
       "      <td>9999-12-31</td>\n",
       "      <td>...</td>\n",
       "      <td>0</td>\n",
       "      <td>0</td>\n",
       "      <td>9994.00</td>\n",
       "      <td>315.98</td>\n",
       "      <td>0</td>\n",
       "      <td>0.00</td>\n",
       "      <td>0</td>\n",
       "      <td>0</td>\n",
       "      <td>0</td>\n",
       "      <td>-0.14</td>\n",
       "    </tr>\n",
       "    <tr>\n",
       "      <th>2</th>\n",
       "      <td>30030384403</td>\n",
       "      <td>200</td>\n",
       "      <td>NaN</td>\n",
       "      <td>2013-05-01</td>\n",
       "      <td>2014-04-30</td>\n",
       "      <td>1</td>\n",
       "      <td>1</td>\n",
       "      <td>-2.13</td>\n",
       "      <td>0</td>\n",
       "      <td>9999-12-31</td>\n",
       "      <td>...</td>\n",
       "      <td>0</td>\n",
       "      <td>0</td>\n",
       "      <td>241.00</td>\n",
       "      <td>0.00</td>\n",
       "      <td>0</td>\n",
       "      <td>0.00</td>\n",
       "      <td>0</td>\n",
       "      <td>0</td>\n",
       "      <td>0</td>\n",
       "      <td>0.25</td>\n",
       "    </tr>\n",
       "    <tr>\n",
       "      <th>3</th>\n",
       "      <td>30036523603</td>\n",
       "      <td>200</td>\n",
       "      <td>NaN</td>\n",
       "      <td>2013-10-17</td>\n",
       "      <td>2013-12-31</td>\n",
       "      <td>2</td>\n",
       "      <td>2</td>\n",
       "      <td>0.00</td>\n",
       "      <td>0</td>\n",
       "      <td>9999-12-31</td>\n",
       "      <td>...</td>\n",
       "      <td>0</td>\n",
       "      <td>0</td>\n",
       "      <td>2212.65</td>\n",
       "      <td>0.00</td>\n",
       "      <td>0</td>\n",
       "      <td>32.86</td>\n",
       "      <td>0</td>\n",
       "      <td>0</td>\n",
       "      <td>0</td>\n",
       "      <td>-0.15</td>\n",
       "    </tr>\n",
       "    <tr>\n",
       "      <th>4</th>\n",
       "      <td>30028953903</td>\n",
       "      <td>200</td>\n",
       "      <td>NaN</td>\n",
       "      <td>2013-10-01</td>\n",
       "      <td>2014-09-30</td>\n",
       "      <td>1</td>\n",
       "      <td>1</td>\n",
       "      <td>0.00</td>\n",
       "      <td>0</td>\n",
       "      <td>9999-12-31</td>\n",
       "      <td>...</td>\n",
       "      <td>0</td>\n",
       "      <td>0</td>\n",
       "      <td>32.00</td>\n",
       "      <td>0.00</td>\n",
       "      <td>0</td>\n",
       "      <td>0.00</td>\n",
       "      <td>0</td>\n",
       "      <td>0</td>\n",
       "      <td>0</td>\n",
       "      <td>-0.41</td>\n",
       "    </tr>\n",
       "  </tbody>\n",
       "</table>\n",
       "<p>5 rows × 26 columns</p>\n",
       "</div>"
      ],
      "text/plain": [
       "   ID_INTERNAL  CD_TYPE_ACCT  ID_ACCT DT_PD_ACCT_BEGIN DT_PD_ACCT_END  \\\n",
       "0  30034666303           200      NaN       2013-11-01     2014-09-29   \n",
       "1  30030541103           200      NaN       2013-01-01     2013-12-31   \n",
       "2  30030384403           200      NaN       2013-05-01     2014-04-30   \n",
       "3  30036523603           200      NaN       2013-10-17     2013-12-31   \n",
       "4  30028953903           200      NaN       2013-10-01     2014-09-30   \n",
       "\n",
       "   QT_ASSESSMENT  CD_TYPE_ASSESSMENT  AM_LIAB_CANCEL  AM_COLL_CANCEL  \\\n",
       "0              1                   1            0.00               0   \n",
       "1              1                   1            0.00               0   \n",
       "2              1                   1           -2.13               0   \n",
       "3              2                   2            0.00               0   \n",
       "4              1                   1            0.00               0   \n",
       "\n",
       "  DT_NOTICE_DEM_PYMT        ...         BalanceGZero  Warranted  AM_TAX_DUE  \\\n",
       "0         2014-12-24        ...                    0          1       25.00   \n",
       "1         9999-12-31        ...                    0          0     9994.00   \n",
       "2         9999-12-31        ...                    0          0      241.00   \n",
       "3         9999-12-31        ...                    0          0     2212.65   \n",
       "4         9999-12-31        ...                    0          0       32.00   \n",
       "\n",
       "   AM_PEN_UNDERPYMT  AM_PEN_LATE_FILE  AM_PEN_LATE_PYMT  AM_ABT_UNDERPYMT  \\\n",
       "0              0.00                 0              0.00                 0   \n",
       "1            315.98                 0              0.00                 0   \n",
       "2              0.00                 0              0.00                 0   \n",
       "3              0.00                 0             32.86                 0   \n",
       "4              0.00                 0              0.00                 0   \n",
       "\n",
       "   AM_ABT_LATE_FILE  AM_ABT_LATE_PYMT  AM_TAX_MATH_ERROR  \n",
       "0                 0                 0               0.00  \n",
       "1                 0                 0              -0.14  \n",
       "2                 0                 0               0.25  \n",
       "3                 0                 0              -0.15  \n",
       "4                 0                 0              -0.41  \n",
       "\n",
       "[5 rows x 26 columns]"
      ]
     },
     "execution_count": 3,
     "metadata": {},
     "output_type": "execute_result"
    }
   ],
   "source": [
    "a.head()"
   ]
  },
  {
   "cell_type": "code",
   "execution_count": 6,
   "metadata": {
    "collapsed": false,
    "run_control": {
     "frozen": false,
     "read_only": false
    }
   },
   "outputs": [
    {
     "data": {
      "text/html": [
       "<div>\n",
       "<table border=\"1\" class=\"dataframe\">\n",
       "  <thead>\n",
       "    <tr style=\"text-align: right;\">\n",
       "      <th></th>\n",
       "      <th>ID_INTERNAL</th>\n",
       "      <th>CD_TYPE_ACCT</th>\n",
       "      <th>ID_ACCT</th>\n",
       "      <th>QT_ASSESSMENT</th>\n",
       "      <th>CD_TYPE_ASSESSMENT</th>\n",
       "      <th>AM_LIAB_CANCEL</th>\n",
       "      <th>AM_COLL_CANCEL</th>\n",
       "      <th>AM_LIABILITY</th>\n",
       "      <th>AM_COLLECTIONS</th>\n",
       "      <th>AM_ASMT_BALANCE</th>\n",
       "      <th>...</th>\n",
       "      <th>BalanceGZero</th>\n",
       "      <th>Warranted</th>\n",
       "      <th>AM_TAX_DUE</th>\n",
       "      <th>AM_PEN_UNDERPYMT</th>\n",
       "      <th>AM_PEN_LATE_FILE</th>\n",
       "      <th>AM_PEN_LATE_PYMT</th>\n",
       "      <th>AM_ABT_UNDERPYMT</th>\n",
       "      <th>AM_ABT_LATE_FILE</th>\n",
       "      <th>AM_ABT_LATE_PYMT</th>\n",
       "      <th>AM_TAX_MATH_ERROR</th>\n",
       "    </tr>\n",
       "  </thead>\n",
       "  <tbody>\n",
       "    <tr>\n",
       "      <th>count</th>\n",
       "      <td>6.553500e+04</td>\n",
       "      <td>65535.000000</td>\n",
       "      <td>0</td>\n",
       "      <td>65535.000000</td>\n",
       "      <td>65535.000000</td>\n",
       "      <td>65535.000000</td>\n",
       "      <td>65535</td>\n",
       "      <td>65535.000000</td>\n",
       "      <td>65535.000000</td>\n",
       "      <td>65535.000000</td>\n",
       "      <td>...</td>\n",
       "      <td>65535.000000</td>\n",
       "      <td>65535.000000</td>\n",
       "      <td>65535.000000</td>\n",
       "      <td>65535.000000</td>\n",
       "      <td>65535.000000</td>\n",
       "      <td>65535.000000</td>\n",
       "      <td>65535.000000</td>\n",
       "      <td>65535.000000</td>\n",
       "      <td>65535.000000</td>\n",
       "      <td>65535.000000</td>\n",
       "    </tr>\n",
       "    <tr>\n",
       "      <th>mean</th>\n",
       "      <td>2.244230e+10</td>\n",
       "      <td>244.563210</td>\n",
       "      <td>NaN</td>\n",
       "      <td>1.006592</td>\n",
       "      <td>1.013077</td>\n",
       "      <td>-0.521380</td>\n",
       "      <td>0</td>\n",
       "      <td>10978.471481</td>\n",
       "      <td>10627.308525</td>\n",
       "      <td>351.162956</td>\n",
       "      <td>...</td>\n",
       "      <td>0.071397</td>\n",
       "      <td>0.027451</td>\n",
       "      <td>10753.559012</td>\n",
       "      <td>50.523602</td>\n",
       "      <td>120.787916</td>\n",
       "      <td>24.430680</td>\n",
       "      <td>-7.199800</td>\n",
       "      <td>-11.538842</td>\n",
       "      <td>-1.607595</td>\n",
       "      <td>0.288829</td>\n",
       "    </tr>\n",
       "    <tr>\n",
       "      <th>std</th>\n",
       "      <td>2.031230e+10</td>\n",
       "      <td>61.050942</td>\n",
       "      <td>NaN</td>\n",
       "      <td>0.094655</td>\n",
       "      <td>0.211655</td>\n",
       "      <td>66.821971</td>\n",
       "      <td>0</td>\n",
       "      <td>239495.549364</td>\n",
       "      <td>221985.935689</td>\n",
       "      <td>95067.777420</td>\n",
       "      <td>...</td>\n",
       "      <td>0.257489</td>\n",
       "      <td>0.163395</td>\n",
       "      <td>230732.458481</td>\n",
       "      <td>2980.940096</td>\n",
       "      <td>15597.849120</td>\n",
       "      <td>2823.348227</td>\n",
       "      <td>476.588065</td>\n",
       "      <td>912.359157</td>\n",
       "      <td>170.852868</td>\n",
       "      <td>89.054678</td>\n",
       "    </tr>\n",
       "    <tr>\n",
       "      <th>min</th>\n",
       "      <td>2.800000e+03</td>\n",
       "      <td>10.000000</td>\n",
       "      <td>NaN</td>\n",
       "      <td>1.000000</td>\n",
       "      <td>1.000000</td>\n",
       "      <td>-10858.570000</td>\n",
       "      <td>0</td>\n",
       "      <td>-226903.540000</td>\n",
       "      <td>-226903.540000</td>\n",
       "      <td>-2445558.810000</td>\n",
       "      <td>...</td>\n",
       "      <td>0.000000</td>\n",
       "      <td>0.000000</td>\n",
       "      <td>-226904.000000</td>\n",
       "      <td>-0.010000</td>\n",
       "      <td>0.000000</td>\n",
       "      <td>0.000000</td>\n",
       "      <td>-74173.900000</td>\n",
       "      <td>-151034.100000</td>\n",
       "      <td>-30674.060000</td>\n",
       "      <td>-2878.830000</td>\n",
       "    </tr>\n",
       "    <tr>\n",
       "      <th>25%</th>\n",
       "      <td>1.000945e+10</td>\n",
       "      <td>200.000000</td>\n",
       "      <td>NaN</td>\n",
       "      <td>1.000000</td>\n",
       "      <td>1.000000</td>\n",
       "      <td>0.000000</td>\n",
       "      <td>0</td>\n",
       "      <td>0.000000</td>\n",
       "      <td>0.000000</td>\n",
       "      <td>0.000000</td>\n",
       "      <td>...</td>\n",
       "      <td>0.000000</td>\n",
       "      <td>0.000000</td>\n",
       "      <td>0.000000</td>\n",
       "      <td>0.000000</td>\n",
       "      <td>0.000000</td>\n",
       "      <td>0.000000</td>\n",
       "      <td>0.000000</td>\n",
       "      <td>0.000000</td>\n",
       "      <td>0.000000</td>\n",
       "      <td>0.000000</td>\n",
       "    </tr>\n",
       "    <tr>\n",
       "      <th>50%</th>\n",
       "      <td>2.001174e+10</td>\n",
       "      <td>200.000000</td>\n",
       "      <td>NaN</td>\n",
       "      <td>1.000000</td>\n",
       "      <td>1.000000</td>\n",
       "      <td>0.000000</td>\n",
       "      <td>0</td>\n",
       "      <td>27.670000</td>\n",
       "      <td>25.000000</td>\n",
       "      <td>0.000000</td>\n",
       "      <td>...</td>\n",
       "      <td>0.000000</td>\n",
       "      <td>0.000000</td>\n",
       "      <td>25.000000</td>\n",
       "      <td>0.000000</td>\n",
       "      <td>0.000000</td>\n",
       "      <td>0.000000</td>\n",
       "      <td>0.000000</td>\n",
       "      <td>0.000000</td>\n",
       "      <td>0.000000</td>\n",
       "      <td>0.000000</td>\n",
       "    </tr>\n",
       "    <tr>\n",
       "      <th>75%</th>\n",
       "      <td>3.001356e+10</td>\n",
       "      <td>320.000000</td>\n",
       "      <td>NaN</td>\n",
       "      <td>1.000000</td>\n",
       "      <td>1.000000</td>\n",
       "      <td>0.000000</td>\n",
       "      <td>0</td>\n",
       "      <td>1021.690000</td>\n",
       "      <td>990.345000</td>\n",
       "      <td>0.000000</td>\n",
       "      <td>...</td>\n",
       "      <td>0.000000</td>\n",
       "      <td>0.000000</td>\n",
       "      <td>984.000000</td>\n",
       "      <td>0.000000</td>\n",
       "      <td>0.000000</td>\n",
       "      <td>0.000000</td>\n",
       "      <td>0.000000</td>\n",
       "      <td>0.000000</td>\n",
       "      <td>0.000000</td>\n",
       "      <td>0.000000</td>\n",
       "    </tr>\n",
       "    <tr>\n",
       "      <th>max</th>\n",
       "      <td>7.001227e+10</td>\n",
       "      <td>330.000000</td>\n",
       "      <td>NaN</td>\n",
       "      <td>5.000000</td>\n",
       "      <td>7.000000</td>\n",
       "      <td>0.000000</td>\n",
       "      <td>0</td>\n",
       "      <td>23861041.110000</td>\n",
       "      <td>23263263.460000</td>\n",
       "      <td>23861041.110000</td>\n",
       "      <td>...</td>\n",
       "      <td>1.000000</td>\n",
       "      <td>1.000000</td>\n",
       "      <td>23249130.000000</td>\n",
       "      <td>739088.350000</td>\n",
       "      <td>3952641.110000</td>\n",
       "      <td>702691.750000</td>\n",
       "      <td>0.000000</td>\n",
       "      <td>0.000000</td>\n",
       "      <td>0.000000</td>\n",
       "      <td>22610.720000</td>\n",
       "    </tr>\n",
       "  </tbody>\n",
       "</table>\n",
       "<p>8 rows × 22 columns</p>\n",
       "</div>"
      ],
      "text/plain": [
       "        ID_INTERNAL  CD_TYPE_ACCT  ID_ACCT  QT_ASSESSMENT  CD_TYPE_ASSESSMENT  \\\n",
       "count  6.553500e+04  65535.000000        0   65535.000000        65535.000000   \n",
       "mean   2.244230e+10    244.563210      NaN       1.006592            1.013077   \n",
       "std    2.031230e+10     61.050942      NaN       0.094655            0.211655   \n",
       "min    2.800000e+03     10.000000      NaN       1.000000            1.000000   \n",
       "25%    1.000945e+10    200.000000      NaN       1.000000            1.000000   \n",
       "50%    2.001174e+10    200.000000      NaN       1.000000            1.000000   \n",
       "75%    3.001356e+10    320.000000      NaN       1.000000            1.000000   \n",
       "max    7.001227e+10    330.000000      NaN       5.000000            7.000000   \n",
       "\n",
       "       AM_LIAB_CANCEL  AM_COLL_CANCEL     AM_LIABILITY   AM_COLLECTIONS  \\\n",
       "count    65535.000000           65535     65535.000000     65535.000000   \n",
       "mean        -0.521380               0     10978.471481     10627.308525   \n",
       "std         66.821971               0    239495.549364    221985.935689   \n",
       "min     -10858.570000               0   -226903.540000   -226903.540000   \n",
       "25%          0.000000               0         0.000000         0.000000   \n",
       "50%          0.000000               0        27.670000        25.000000   \n",
       "75%          0.000000               0      1021.690000       990.345000   \n",
       "max          0.000000               0  23861041.110000  23263263.460000   \n",
       "\n",
       "       AM_ASMT_BALANCE        ...          BalanceGZero     Warranted  \\\n",
       "count     65535.000000        ...          65535.000000  65535.000000   \n",
       "mean        351.162956        ...              0.071397      0.027451   \n",
       "std       95067.777420        ...              0.257489      0.163395   \n",
       "min    -2445558.810000        ...              0.000000      0.000000   \n",
       "25%           0.000000        ...              0.000000      0.000000   \n",
       "50%           0.000000        ...              0.000000      0.000000   \n",
       "75%           0.000000        ...              0.000000      0.000000   \n",
       "max    23861041.110000        ...              1.000000      1.000000   \n",
       "\n",
       "            AM_TAX_DUE  AM_PEN_UNDERPYMT  AM_PEN_LATE_FILE  AM_PEN_LATE_PYMT  \\\n",
       "count     65535.000000      65535.000000      65535.000000      65535.000000   \n",
       "mean      10753.559012         50.523602        120.787916         24.430680   \n",
       "std      230732.458481       2980.940096      15597.849120       2823.348227   \n",
       "min     -226904.000000         -0.010000          0.000000          0.000000   \n",
       "25%           0.000000          0.000000          0.000000          0.000000   \n",
       "50%          25.000000          0.000000          0.000000          0.000000   \n",
       "75%         984.000000          0.000000          0.000000          0.000000   \n",
       "max    23249130.000000     739088.350000    3952641.110000     702691.750000   \n",
       "\n",
       "       AM_ABT_UNDERPYMT  AM_ABT_LATE_FILE  AM_ABT_LATE_PYMT  AM_TAX_MATH_ERROR  \n",
       "count      65535.000000      65535.000000      65535.000000       65535.000000  \n",
       "mean          -7.199800        -11.538842         -1.607595           0.288829  \n",
       "std          476.588065        912.359157        170.852868          89.054678  \n",
       "min       -74173.900000    -151034.100000     -30674.060000       -2878.830000  \n",
       "25%            0.000000          0.000000          0.000000           0.000000  \n",
       "50%            0.000000          0.000000          0.000000           0.000000  \n",
       "75%            0.000000          0.000000          0.000000           0.000000  \n",
       "max            0.000000          0.000000          0.000000       22610.720000  \n",
       "\n",
       "[8 rows x 22 columns]"
      ]
     },
     "execution_count": 6,
     "metadata": {},
     "output_type": "execute_result"
    }
   ],
   "source": [
    "a.describe()"
   ]
  },
  {
   "cell_type": "code",
   "execution_count": 8,
   "metadata": {
    "collapsed": false,
    "run_control": {
     "frozen": false,
     "read_only": false
    }
   },
   "outputs": [
    {
     "data": {
      "text/plain": [
       "ID_INTERNAL             int64\n",
       "CD_TYPE_ACCT            int64\n",
       "ID_ACCT               float64\n",
       "DT_PD_ACCT_BEGIN       object\n",
       "DT_PD_ACCT_END         object\n",
       "QT_ASSESSMENT           int64\n",
       "CD_TYPE_ASSESSMENT      int64\n",
       "AM_LIAB_CANCEL        float64\n",
       "AM_COLL_CANCEL          int64\n",
       "DT_NOTICE_DEM_PYMT     object\n",
       "DT_WARRANT             object\n",
       "AM_LIABILITY          float64\n",
       "AM_COLLECTIONS        float64\n",
       "AM_ASMT_BALANCE       float64\n",
       "AM_PYMT_TOTAL         float64\n",
       "YearBegin               int64\n",
       "BalanceGZero            int64\n",
       "Warranted               int64\n",
       "AM_TAX_DUE            float64\n",
       "AM_PEN_UNDERPYMT      float64\n",
       "AM_PEN_LATE_FILE      float64\n",
       "AM_PEN_LATE_PYMT      float64\n",
       "AM_ABT_UNDERPYMT      float64\n",
       "AM_ABT_LATE_FILE      float64\n",
       "AM_ABT_LATE_PYMT      float64\n",
       "AM_TAX_MATH_ERROR     float64\n",
       "dtype: object"
      ]
     },
     "execution_count": 8,
     "metadata": {},
     "output_type": "execute_result"
    }
   ],
   "source": [
    "a.dtypes"
   ]
  },
  {
   "cell_type": "code",
   "execution_count": 9,
   "metadata": {
    "collapsed": true,
    "run_control": {
     "frozen": false,
     "read_only": false
    }
   },
   "outputs": [],
   "source": [
    "# Create unique receivable id\n",
    "# I can create the key while converting int values to string (object) values\n",
    "a['RecKey'] = a.ID_INTERNAL.map(str) + a.CD_TYPE_ACCT.map(str) + a.ID_ACCT + a.QT_ASSESSMENT.map(str) + a.DT_PD_ACCT_BEGIN"
   ]
  },
  {
   "cell_type": "code",
   "execution_count": null,
   "metadata": {
    "collapsed": true,
    "run_control": {
     "frozen": false,
     "read_only": false
    }
   },
   "outputs": [],
   "source": [
    "# I want to perform a supervised perdiction of a measurement/outcome to\n",
    "# accurately predict unseen test cases\n",
    "# understand which inputs affect the outcome, \n",
    "# asses the quality of predictions and inferences\n",
    "\n",
    "# Features I want to use: \n",
    "# Tax Type (GCT, UBT, Bank)\n",
    "# Filing period\n",
    "# Amount Due - categories up to 5k, 5 to 50K, 50 to 100k, 100 to 500k (match gct min tax categories)\n",
    "# Assessment Type \n",
    "# Penalties\n",
    "# Abatements\n",
    "# Remaining Balance greater 0\n",
    "   \n"
   ]
  },
  {
   "cell_type": "code",
   "execution_count": 17,
   "metadata": {
    "collapsed": false,
    "run_control": {
     "frozen": false,
     "read_only": false
    }
   },
   "outputs": [],
   "source": [
    "# account type feature\n",
    "actdummy = pd.get_dummies(a['CD_TYPE_ACCT'])\n",
    "actdummy.columns = ['Bank', 'GCT', 'UBTI','UBTP']"
   ]
  },
  {
   "cell_type": "code",
   "execution_count": 18,
   "metadata": {
    "collapsed": false,
    "run_control": {
     "frozen": false,
     "read_only": false
    }
   },
   "outputs": [
    {
     "data": {
      "text/plain": [
       "Bank    float64\n",
       "GCT     float64\n",
       "UBTI    float64\n",
       "UBTP    float64\n",
       "dtype: object"
      ]
     },
     "execution_count": 18,
     "metadata": {},
     "output_type": "execute_result"
    }
   ],
   "source": [
    "actdummy.dtypes"
   ]
  },
  {
   "cell_type": "code",
   "execution_count": 19,
   "metadata": {
    "collapsed": true,
    "run_control": {
     "frozen": false,
     "read_only": false
    }
   },
   "outputs": [],
   "source": [
    "a = pd.concat([a, actdummy], axis=1)"
   ]
  },
  {
   "cell_type": "code",
   "execution_count": 20,
   "metadata": {
    "collapsed": true,
    "run_control": {
     "frozen": false,
     "read_only": false
    }
   },
   "outputs": [],
   "source": [
    "#Period feature\n",
    "yeardummy = pd.get_dummies(a['YearBegin'])"
   ]
  },
  {
   "cell_type": "code",
   "execution_count": 21,
   "metadata": {
    "collapsed": true,
    "run_control": {
     "frozen": false,
     "read_only": false
    }
   },
   "outputs": [],
   "source": [
    "a = pd.concat([a, yeardummy], axis=1)"
   ]
  },
  {
   "cell_type": "code",
   "execution_count": 31,
   "metadata": {
    "collapsed": false,
    "run_control": {
     "frozen": false,
     "read_only": false
    }
   },
   "outputs": [],
   "source": [
    "#amount feature\n",
    "a['500KOver'] = a[\"AM_LIABILITY\"].map(lambda x: 1 if x >= 500000 else 0)\n",
    "a['100to500K'] = a[\"AM_LIABILITY\"].map(lambda x: 1 if 100000 < x <= 500000 else 0)\n",
    "a['50to100K'] = a[\"AM_LIABILITY\"].map(lambda x: 1 if 50000 < x <= 100000 else 0)\n",
    "a['5to50k'] = a[\"AM_LIABILITY\"].map(lambda x: 1 if 5000 < x <= 50000 else 0)\n",
    "a['5kUnder'] = a[\"AM_LIABILITY\"].map(lambda x: 1 if x <= 5000 else 0)"
   ]
  },
  {
   "cell_type": "code",
   "execution_count": 28,
   "metadata": {
    "collapsed": true,
    "run_control": {
     "frozen": false,
     "read_only": false
    }
   },
   "outputs": [],
   "source": [
    "# Assessment Type Feature\n",
    "asmtdummy = pd.get_dummies(a['CD_TYPE_ASSESSMENT'])"
   ]
  },
  {
   "cell_type": "code",
   "execution_count": 29,
   "metadata": {
    "collapsed": true,
    "run_control": {
     "frozen": false,
     "read_only": false
    }
   },
   "outputs": [],
   "source": [
    "a = pd.concat([a, asmtdummy], axis=1)"
   ]
  },
  {
   "cell_type": "code",
   "execution_count": 32,
   "metadata": {
    "collapsed": true,
    "run_control": {
     "frozen": false,
     "read_only": false
    }
   },
   "outputs": [],
   "source": [
    "#Late File penalty\n",
    "a['LFPen'] = a[\"AM_PEN_LATE_FILE\"].map(lambda x: 1 if x > 0 else 0)"
   ]
  },
  {
   "cell_type": "code",
   "execution_count": 33,
   "metadata": {
    "collapsed": true,
    "run_control": {
     "frozen": false,
     "read_only": false
    }
   },
   "outputs": [],
   "source": [
    "#Underpayment penalty\n",
    "a['UPen'] = a[\"AM_PEN_UNDERPYMT\"].map(lambda x: 1 if x > 0 else 0)"
   ]
  },
  {
   "cell_type": "code",
   "execution_count": 34,
   "metadata": {
    "collapsed": true,
    "run_control": {
     "frozen": false,
     "read_only": false
    }
   },
   "outputs": [],
   "source": [
    "#Late Pay penalty\n",
    "a['LPPen'] = a[\"AM_PEN_LATE_PYMT\"].map(lambda x: 1 if x > 0 else 0)"
   ]
  },
  {
   "cell_type": "code",
   "execution_count": 35,
   "metadata": {
    "collapsed": true,
    "run_control": {
     "frozen": false,
     "read_only": false
    }
   },
   "outputs": [],
   "source": [
    "#Late Pay abatement\n",
    "a['LPAbat'] = a[\"AM_ABT_LATE_PYMT\"].map(lambda x: 1 if x > 0 else 0)"
   ]
  },
  {
   "cell_type": "code",
   "execution_count": 36,
   "metadata": {
    "collapsed": true,
    "run_control": {
     "frozen": false,
     "read_only": false
    }
   },
   "outputs": [],
   "source": [
    "#Late File abatement\n",
    "a['LFAbat'] = a[\"AM_ABT_LATE_FILE\"].map(lambda x: 1 if x > 0 else 0)"
   ]
  },
  {
   "cell_type": "code",
   "execution_count": 37,
   "metadata": {
    "collapsed": true,
    "run_control": {
     "frozen": false,
     "read_only": false
    }
   },
   "outputs": [],
   "source": [
    "#Underpayment abatement\n",
    "a['UPAbat'] = a[\"AM_ABT_UNDERPYMT\"].map(lambda x: 1 if x > 0 else 0)"
   ]
  },
  {
   "cell_type": "code",
   "execution_count": 38,
   "metadata": {
    "collapsed": false,
    "run_control": {
     "frozen": false,
     "read_only": false
    }
   },
   "outputs": [],
   "source": [
    "#Math Error Feature\n",
    "a['MathError'] = a[\"AM_TAX_MATH_ERROR\"].map(lambda x: 1 if x > 0 else 0)"
   ]
  },
  {
   "cell_type": "code",
   "execution_count": 39,
   "metadata": {
    "collapsed": false,
    "run_control": {
     "frozen": false,
     "read_only": false
    }
   },
   "outputs": [],
   "source": [
    "#payments\n",
    "a['Payments'] = a[\"AM_PYMT_TOTAL\"].map(lambda x: 1 if x > 0 else 0)"
   ]
  },
  {
   "cell_type": "markdown",
   "metadata": {
    "run_control": {
     "frozen": false,
     "read_only": false
    }
   },
   "source": [
    "Prepare Data for Logistic Regression"
   ]
  },
  {
   "cell_type": "code",
   "execution_count": 41,
   "metadata": {
    "collapsed": false,
    "run_control": {
     "frozen": false,
     "read_only": false
    }
   },
   "outputs": [
    {
     "data": {
      "text/plain": [
       "ID_INTERNAL             int64\n",
       "CD_TYPE_ACCT            int64\n",
       "ID_ACCT               float64\n",
       "DT_PD_ACCT_BEGIN       object\n",
       "DT_PD_ACCT_END         object\n",
       "QT_ASSESSMENT           int64\n",
       "CD_TYPE_ASSESSMENT      int64\n",
       "AM_LIAB_CANCEL        float64\n",
       "AM_COLL_CANCEL          int64\n",
       "DT_NOTICE_DEM_PYMT     object\n",
       "DT_WARRANT             object\n",
       "AM_LIABILITY          float64\n",
       "AM_COLLECTIONS        float64\n",
       "AM_ASMT_BALANCE       float64\n",
       "AM_PYMT_TOTAL         float64\n",
       "YearBegin               int64\n",
       "BalanceGZero            int64\n",
       "Warranted               int64\n",
       "AM_TAX_DUE            float64\n",
       "AM_PEN_UNDERPYMT      float64\n",
       "AM_PEN_LATE_FILE      float64\n",
       "AM_PEN_LATE_PYMT      float64\n",
       "AM_ABT_UNDERPYMT      float64\n",
       "AM_ABT_LATE_FILE      float64\n",
       "AM_ABT_LATE_PYMT      float64\n",
       "AM_TAX_MATH_ERROR     float64\n",
       "RecKey                 object\n",
       "Bank                  float64\n",
       "GCT                   float64\n",
       "UBTI                  float64\n",
       "UBTP                  float64\n",
       "2012                  float64\n",
       "2013                  float64\n",
       "2014                  float64\n",
       "MathError               int64\n",
       "1                     float64\n",
       "2                     float64\n",
       "3                     float64\n",
       "4                     float64\n",
       "5                     float64\n",
       "7                     float64\n",
       "500KOver                int64\n",
       "100to500K               int64\n",
       "50to100K                int64\n",
       "5to50k                  int64\n",
       "5kUnder                 int64\n",
       "LFPen                   int64\n",
       "UPen                    int64\n",
       "LPPen                   int64\n",
       "LPAbat                  int64\n",
       "LFAbat                  int64\n",
       "UPAbat                  int64\n",
       "Payments                int64\n",
       "dtype: object"
      ]
     },
     "execution_count": 41,
     "metadata": {},
     "output_type": "execute_result"
    }
   ],
   "source": [
    "#drop the columns i don't need\n",
    "a.dtypes"
   ]
  },
  {
   "cell_type": "code",
   "execution_count": null,
   "metadata": {
    "collapsed": true,
    "run_control": {
     "frozen": false,
     "read_only": false
    }
   },
   "outputs": [],
   "source": [
    "del a [ID_INTERNAL]\n",
    "del a [CD_TYPE_ACCT]"
   ]
  },
  {
   "cell_type": "code",
   "execution_count": 46,
   "metadata": {
    "collapsed": false,
    "run_control": {
     "frozen": false,
     "read_only": false
    }
   },
   "outputs": [],
   "source": [
    "X = a[['Bank','GCT','UBTI', 'UBTP',2012,2013,2014,'MathError',1,2,3,4,5,7,'500KOver','100to500K','50to100K','5to50k','5kUnder','LFPen','UPen','LPPen','LPAbat','LFAbat','UPAbat','Payments']]"
   ]
  },
  {
   "cell_type": "code",
   "execution_count": 47,
   "metadata": {
    "collapsed": true,
    "run_control": {
     "frozen": false,
     "read_only": false
    }
   },
   "outputs": [],
   "source": [
    "y = a[['Warranted']]"
   ]
  },
  {
   "cell_type": "code",
   "execution_count": 49,
   "metadata": {
    "collapsed": true,
    "run_control": {
     "frozen": false,
     "read_only": false
    }
   },
   "outputs": [],
   "source": [
    "# flatten y into a 1-D array\n",
    "y = np.ravel(y)"
   ]
  },
  {
   "cell_type": "code",
   "execution_count": 50,
   "metadata": {
    "collapsed": false,
    "run_control": {
     "frozen": false,
     "read_only": false
    }
   },
   "outputs": [
    {
     "data": {
      "text/plain": [
       "0.9760128175783932"
      ]
     },
     "execution_count": 50,
     "metadata": {},
     "output_type": "execute_result"
    }
   ],
   "source": [
    "# instantiate a logistic regression model, and fit with X and y\n",
    "model = LogisticRegression()\n",
    "model = model.fit(X, y)\n",
    "\n",
    "# check the accuracy on the training set\n",
    "model.score(X, y)"
   ]
  },
  {
   "cell_type": "code",
   "execution_count": 51,
   "metadata": {
    "collapsed": false,
    "run_control": {
     "frozen": false,
     "read_only": false
    }
   },
   "outputs": [
    {
     "data": {
      "text/plain": [
       "0.027450980392156862"
      ]
     },
     "execution_count": 51,
     "metadata": {},
     "output_type": "execute_result"
    }
   ],
   "source": [
    "# what percentage had warrants?\n",
    "y.mean()"
   ]
  },
  {
   "cell_type": "code",
   "execution_count": 52,
   "metadata": {
    "collapsed": false,
    "run_control": {
     "frozen": false,
     "read_only": false
    }
   },
   "outputs": [
    {
     "data": {
      "text/html": [
       "<div>\n",
       "<table border=\"1\" class=\"dataframe\">\n",
       "  <thead>\n",
       "    <tr style=\"text-align: right;\">\n",
       "      <th></th>\n",
       "      <th>0</th>\n",
       "      <th>1</th>\n",
       "    </tr>\n",
       "  </thead>\n",
       "  <tbody>\n",
       "    <tr>\n",
       "      <th>0</th>\n",
       "      <td>Bank</td>\n",
       "      <td>[0.998463989811]</td>\n",
       "    </tr>\n",
       "    <tr>\n",
       "      <th>1</th>\n",
       "      <td>GCT</td>\n",
       "      <td>[0.52095504491]</td>\n",
       "    </tr>\n",
       "    <tr>\n",
       "      <th>2</th>\n",
       "      <td>UBTI</td>\n",
       "      <td>[-0.594689082661]</td>\n",
       "    </tr>\n",
       "    <tr>\n",
       "      <th>3</th>\n",
       "      <td>UBTP</td>\n",
       "      <td>[-3.63306735308]</td>\n",
       "    </tr>\n",
       "    <tr>\n",
       "      <th>4</th>\n",
       "      <td>2012</td>\n",
       "      <td>[-0.530474551745]</td>\n",
       "    </tr>\n",
       "    <tr>\n",
       "      <th>5</th>\n",
       "      <td>2013</td>\n",
       "      <td>[-0.600821711347]</td>\n",
       "    </tr>\n",
       "    <tr>\n",
       "      <th>6</th>\n",
       "      <td>2014</td>\n",
       "      <td>[-1.57704113781]</td>\n",
       "    </tr>\n",
       "    <tr>\n",
       "      <th>7</th>\n",
       "      <td>MathError</td>\n",
       "      <td>[0.000542667197284]</td>\n",
       "    </tr>\n",
       "    <tr>\n",
       "      <th>8</th>\n",
       "      <td>1</td>\n",
       "      <td>[-0.39057423921]</td>\n",
       "    </tr>\n",
       "    <tr>\n",
       "      <th>9</th>\n",
       "      <td>2</td>\n",
       "      <td>[-1.61025374209]</td>\n",
       "    </tr>\n",
       "    <tr>\n",
       "      <th>10</th>\n",
       "      <td>3</td>\n",
       "      <td>[-0.233855670653]</td>\n",
       "    </tr>\n",
       "    <tr>\n",
       "      <th>11</th>\n",
       "      <td>4</td>\n",
       "      <td>[0.0341123303187]</td>\n",
       "    </tr>\n",
       "    <tr>\n",
       "      <th>12</th>\n",
       "      <td>5</td>\n",
       "      <td>[-0.14256135522]</td>\n",
       "    </tr>\n",
       "    <tr>\n",
       "      <th>13</th>\n",
       "      <td>7</td>\n",
       "      <td>[-0.365204724243]</td>\n",
       "    </tr>\n",
       "    <tr>\n",
       "      <th>14</th>\n",
       "      <td>500KOver</td>\n",
       "      <td>[-0.700732189748]</td>\n",
       "    </tr>\n",
       "    <tr>\n",
       "      <th>15</th>\n",
       "      <td>100to500K</td>\n",
       "      <td>[-0.169127476977]</td>\n",
       "    </tr>\n",
       "    <tr>\n",
       "      <th>16</th>\n",
       "      <td>50to100K</td>\n",
       "      <td>[-0.443928197558]</td>\n",
       "    </tr>\n",
       "    <tr>\n",
       "      <th>17</th>\n",
       "      <td>5to50k</td>\n",
       "      <td>[-0.599344196362]</td>\n",
       "    </tr>\n",
       "    <tr>\n",
       "      <th>18</th>\n",
       "      <td>5kUnder</td>\n",
       "      <td>[-0.79520534038]</td>\n",
       "    </tr>\n",
       "    <tr>\n",
       "      <th>19</th>\n",
       "      <td>LFPen</td>\n",
       "      <td>[-0.207784253128]</td>\n",
       "    </tr>\n",
       "    <tr>\n",
       "      <th>20</th>\n",
       "      <td>UPen</td>\n",
       "      <td>[0.95746641042]</td>\n",
       "    </tr>\n",
       "    <tr>\n",
       "      <th>21</th>\n",
       "      <td>LPPen</td>\n",
       "      <td>[4.2065268322]</td>\n",
       "    </tr>\n",
       "    <tr>\n",
       "      <th>22</th>\n",
       "      <td>LPAbat</td>\n",
       "      <td>[0.0]</td>\n",
       "    </tr>\n",
       "    <tr>\n",
       "      <th>23</th>\n",
       "      <td>LFAbat</td>\n",
       "      <td>[0.0]</td>\n",
       "    </tr>\n",
       "    <tr>\n",
       "      <th>24</th>\n",
       "      <td>UPAbat</td>\n",
       "      <td>[0.0]</td>\n",
       "    </tr>\n",
       "    <tr>\n",
       "      <th>25</th>\n",
       "      <td>Payments</td>\n",
       "      <td>[-1.84363810489]</td>\n",
       "    </tr>\n",
       "  </tbody>\n",
       "</table>\n",
       "</div>"
      ],
      "text/plain": [
       "            0                    1\n",
       "0        Bank     [0.998463989811]\n",
       "1         GCT      [0.52095504491]\n",
       "2        UBTI    [-0.594689082661]\n",
       "3        UBTP     [-3.63306735308]\n",
       "4        2012    [-0.530474551745]\n",
       "5        2013    [-0.600821711347]\n",
       "6        2014     [-1.57704113781]\n",
       "7   MathError  [0.000542667197284]\n",
       "8           1     [-0.39057423921]\n",
       "9           2     [-1.61025374209]\n",
       "10          3    [-0.233855670653]\n",
       "11          4    [0.0341123303187]\n",
       "12          5     [-0.14256135522]\n",
       "13          7    [-0.365204724243]\n",
       "14   500KOver    [-0.700732189748]\n",
       "15  100to500K    [-0.169127476977]\n",
       "16   50to100K    [-0.443928197558]\n",
       "17     5to50k    [-0.599344196362]\n",
       "18    5kUnder     [-0.79520534038]\n",
       "19      LFPen    [-0.207784253128]\n",
       "20       UPen      [0.95746641042]\n",
       "21      LPPen       [4.2065268322]\n",
       "22     LPAbat                [0.0]\n",
       "23     LFAbat                [0.0]\n",
       "24     UPAbat                [0.0]\n",
       "25   Payments     [-1.84363810489]"
      ]
     },
     "execution_count": 52,
     "metadata": {},
     "output_type": "execute_result"
    }
   ],
   "source": [
    "# examine the coefficients\n",
    "pd.DataFrame(zip(X.columns, np.transpose(model.coef_)))"
   ]
  },
  {
   "cell_type": "code",
   "execution_count": 55,
   "metadata": {
    "collapsed": false,
    "run_control": {
     "frozen": false,
     "read_only": false
    }
   },
   "outputs": [
    {
     "data": {
      "text/plain": [
       "LogisticRegression(C=1.0, class_weight=None, dual=False, fit_intercept=True,\n",
       "          intercept_scaling=1, penalty='l2', random_state=None, tol=0.0001)"
      ]
     },
     "execution_count": 55,
     "metadata": {},
     "output_type": "execute_result"
    }
   ],
   "source": [
    "# evaluate the model by splitting into train and test sets\n",
    "X_train, X_test, y_train, y_test = train_test_split(X, y, test_size=0.3, random_state=0)\n",
    "model2 = LogisticRegression()\n",
    "model2.fit(X_train, y_train)"
   ]
  },
  {
   "cell_type": "code",
   "execution_count": 56,
   "metadata": {
    "collapsed": false,
    "run_control": {
     "frozen": false,
     "read_only": false
    }
   },
   "outputs": [
    {
     "name": "stdout",
     "output_type": "stream",
     "text": [
      "[0 0 0 ..., 0 0 0]\n"
     ]
    }
   ],
   "source": [
    "# predict class labels for the test set\n",
    "predicted = model2.predict(X_test)\n",
    "print predicted"
   ]
  },
  {
   "cell_type": "code",
   "execution_count": 57,
   "metadata": {
    "collapsed": false,
    "run_control": {
     "frozen": false,
     "read_only": false
    }
   },
   "outputs": [
    {
     "name": "stdout",
     "output_type": "stream",
     "text": [
      "[[  9.93199305e-01   6.80069507e-03]\n",
      " [  9.92496337e-01   7.50366271e-03]\n",
      " [  9.97458868e-01   2.54113216e-03]\n",
      " ..., \n",
      " [  8.51856155e-01   1.48143845e-01]\n",
      " [  9.96924629e-01   3.07537103e-03]\n",
      " [  9.99611864e-01   3.88135696e-04]]\n"
     ]
    }
   ],
   "source": [
    "# generate class probabilities\n",
    "probs = model2.predict_proba(X_test)\n",
    "print probs"
   ]
  },
  {
   "cell_type": "code",
   "execution_count": 58,
   "metadata": {
    "collapsed": false,
    "run_control": {
     "frozen": false,
     "read_only": false
    }
   },
   "outputs": [
    {
     "name": "stdout",
     "output_type": "stream",
     "text": [
      "0.976196531204\n",
      "0.940029668067\n"
     ]
    }
   ],
   "source": [
    "# generate evaluation metrics\n",
    "print metrics.accuracy_score(y_test, predicted)\n",
    "print metrics.roc_auc_score(y_test, probs[:, 1])"
   ]
  },
  {
   "cell_type": "code",
   "execution_count": 59,
   "metadata": {
    "collapsed": false,
    "run_control": {
     "frozen": false,
     "read_only": false
    }
   },
   "outputs": [
    {
     "name": "stdout",
     "output_type": "stream",
     "text": [
      "[[19085    62]\n",
      " [  406   108]]\n",
      "             precision    recall  f1-score   support\n",
      "\n",
      "          0       0.98      1.00      0.99     19147\n",
      "          1       0.64      0.21      0.32       514\n",
      "\n",
      "avg / total       0.97      0.98      0.97     19661\n",
      "\n"
     ]
    }
   ],
   "source": [
    "print metrics.confusion_matrix(y_test, predicted)\n",
    "print metrics.classification_report(y_test, predicted)"
   ]
  },
  {
   "cell_type": "code",
   "execution_count": 60,
   "metadata": {
    "collapsed": false,
    "run_control": {
     "frozen": false,
     "read_only": false
    }
   },
   "outputs": [
    {
     "name": "stdout",
     "output_type": "stream",
     "text": [
      "[ 0.97238328  0.9722307   0.97482453  0.97604516  0.97574001  0.97604516\n",
      "  0.97817793  0.97848314  0.97680452  0.97588523]\n",
      "0.975661965762\n"
     ]
    }
   ],
   "source": [
    "# evaluate the model using 10-fold cross-validation\n",
    "scores = cross_val_score(LogisticRegression(), X, y, scoring='accuracy', cv=10)\n",
    "print scores\n",
    "print scores.mean()"
   ]
  }
 ],
 "metadata": {
  "kernelspec": {
   "display_name": "Python [default]",
   "language": "python",
   "name": "python2"
  },
  "language_info": {
   "codemirror_mode": {
    "name": "ipython",
    "version": 2
   },
   "file_extension": ".py",
   "mimetype": "text/x-python",
   "name": "python",
   "nbconvert_exporter": "python",
   "pygments_lexer": "ipython2",
   "version": "2.7.12"
  },
  "toc": {
   "colors": {
    "hover_highlight": "#DAA520",
    "running_highlight": "#FF0000",
    "selected_highlight": "#FFD700"
   },
   "moveMenuLeft": true,
   "nav_menu": {
    "height": "12px",
    "width": "252px"
   },
   "navigate_menu": true,
   "number_sections": true,
   "sideBar": true,
   "threshold": 4,
   "toc_cell": false,
   "toc_section_display": "block",
   "toc_window_display": false
  }
 },
 "nbformat": 4,
 "nbformat_minor": 0
}
