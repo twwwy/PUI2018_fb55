{
 "cells": [
  {
   "cell_type": "code",
   "execution_count": 37,
   "metadata": {
    "ExecuteTime": {
     "end_time": "2018-09-20T12:13:39.358375Z",
     "start_time": "2018-09-20T08:13:39.355306-04:00"
    }
   },
   "outputs": [],
   "source": [
    "# example of API call to retrieve data in json and manipulate it\n",
    "# FBB 2017 revised 2018 for NYu CUSP PUI\n",
    "# note that this requres the API key so it must be run locally with env variable or set up to read the API key from a file\n",
    "# DO NOT UPLOAD A SCRIPT WITH YOUR API KEY TO GITHUB!!!"
   ]
  },
  {
   "cell_type": "code",
   "execution_count": 38,
   "metadata": {
    "ExecuteTime": {
     "end_time": "2018-09-20T12:16:12.130184Z",
     "start_time": "2018-09-20T08:16:12.077455-04:00"
    },
    "run_control": {
     "frozen": false,
     "read_only": false
    }
   },
   "outputs": [
    {
     "name": "stdout",
     "output_type": "stream",
     "text": [
      "Populating the interactive namespace from numpy and matplotlib\n"
     ]
    },
    {
     "name": "stderr",
     "output_type": "stream",
     "text": [
      "//anaconda/lib/python2.7/site-packages/IPython/core/magics/pylab.py:161: UserWarning: pylab import has clobbered these variables: ['f']\n",
      "`%matplotlib` prevents importing * from pylab and numpy\n",
      "  \"\\n`%matplotlib` prevents importing * from pylab and numpy\"\n"
     ]
    }
   ],
   "source": [
    "import pylab as pl\n",
    "import os\n",
    "import json\n",
    "try:\n",
    "    import urllib2 as urllib\n",
    "except ImportError:\n",
    "    import urllib.request as urllib\n",
    "\n",
    "%pylab inline\n",
    "pl.rc('font', size=15)\n",
    "\n",
    "#url = \"http://api.openweathermap.org/data/2.5/weather?q=NewYork&mode=Json&units=metric&&cnt=7&APPID=XXXXXXXXXXXXXXXXXXXXXXXX\"\n",
    "url = \"http://api.openweathermap.org/data/2.5/weather?q=\" + \\\n",
    "    \"New York&APPID=\" + os.getenv(\"OPENWEATHERKEY\") \n",
    "#print (url)\n",
    "response = urllib.urlopen(url)\n",
    "data = response.read().decode(\"utf-8\")\n",
    "data = json.loads(data)"
   ]
  },
  {
   "cell_type": "code",
   "execution_count": 10,
   "metadata": {
    "ExecuteTime": {
     "end_time": "2018-09-20T12:04:49.912455Z",
     "start_time": "2018-09-20T08:04:49.905161-04:00"
    },
    "run_control": {
     "frozen": false,
     "read_only": false
    }
   },
   "outputs": [
    {
     "data": {
      "text/plain": [
       "dict"
      ]
     },
     "execution_count": 10,
     "metadata": {},
     "output_type": "execute_result"
    }
   ],
   "source": [
    "(type(data))"
   ]
  },
  {
   "cell_type": "code",
   "execution_count": 11,
   "metadata": {
    "ExecuteTime": {
     "end_time": "2018-09-20T12:04:51.458883Z",
     "start_time": "2018-09-20T08:04:51.450496-04:00"
    },
    "run_control": {
     "frozen": false,
     "read_only": false
    }
   },
   "outputs": [
    {
     "data": {
      "text/plain": [
       "[u'clouds',\n",
       " u'name',\n",
       " u'visibility',\n",
       " u'sys',\n",
       " u'weather',\n",
       " u'coord',\n",
       " u'base',\n",
       " u'dt',\n",
       " u'main',\n",
       " u'id',\n",
       " u'wind',\n",
       " u'cod']"
      ]
     },
     "execution_count": 11,
     "metadata": {},
     "output_type": "execute_result"
    }
   ],
   "source": [
    "data.keys()"
   ]
  },
  {
   "cell_type": "code",
   "execution_count": 17,
   "metadata": {
    "ExecuteTime": {
     "end_time": "2018-09-20T12:07:34.088807Z",
     "start_time": "2018-09-20T08:07:33.798539-04:00"
    }
   },
   "outputs": [
    {
     "name": "stdout",
     "output_type": "stream",
     "text": [
      "http://api.openweathermap.org/data/2.5/forecast?q=New York&mode=Json&units=metric&&cnt=7&APPID=3b88ff8525c54b98e391c45ba71ecefb\n"
     ]
    }
   ],
   "source": [
    "url = \"http://api.openweathermap.org/data/2.5/forecast?q=\" + \\\n",
    "    \"New York&mode=Json&units=metric&&cnt=7&APPID=\" + os.getenv(\"OPENWEATHERKEY\") \n",
    "print (url)\n",
    "response = urllib.urlopen(url)\n",
    "data = response.read().decode(\"utf-8\")\n",
    "data = json.loads(data)"
   ]
  },
  {
   "cell_type": "code",
   "execution_count": 18,
   "metadata": {
    "ExecuteTime": {
     "end_time": "2018-09-20T12:07:35.553341Z",
     "start_time": "2018-09-20T08:07:35.533932-04:00"
    },
    "run_control": {
     "frozen": false,
     "read_only": false
    }
   },
   "outputs": [
    {
     "data": {
      "text/plain": [
       "{u'city': {u'coord': {u'lat': 40.7306, u'lon': -73.9867},\n",
       "  u'country': u'US',\n",
       "  u'id': 5128581,\n",
       "  u'name': u'New York',\n",
       "  u'population': 8175133},\n",
       " u'cnt': 7,\n",
       " u'cod': u'200',\n",
       " u'list': [{u'clouds': {u'all': 92},\n",
       "   u'dt': 1537455600,\n",
       "   u'dt_txt': u'2018-09-20 15:00:00',\n",
       "   u'main': {u'grnd_level': 1033.78,\n",
       "    u'humidity': 100,\n",
       "    u'pressure': 1033.78,\n",
       "    u'sea_level': 1037.17,\n",
       "    u'temp': 18.54,\n",
       "    u'temp_kf': 0.59,\n",
       "    u'temp_max': 18.54,\n",
       "    u'temp_min': 17.95},\n",
       "   u'rain': {u'3h': 0.09},\n",
       "   u'sys': {u'pod': u'd'},\n",
       "   u'weather': [{u'description': u'light rain',\n",
       "     u'icon': u'10d',\n",
       "     u'id': 500,\n",
       "     u'main': u'Rain'}],\n",
       "   u'wind': {u'deg': 56.0011, u'speed': 1.67}},\n",
       "  {u'clouds': {u'all': 92},\n",
       "   u'dt': 1537466400,\n",
       "   u'dt_txt': u'2018-09-20 18:00:00',\n",
       "   u'main': {u'grnd_level': 1033.82,\n",
       "    u'humidity': 100,\n",
       "    u'pressure': 1033.82,\n",
       "    u'sea_level': 1037.17,\n",
       "    u'temp': 19.98,\n",
       "    u'temp_kf': 0.39,\n",
       "    u'temp_max': 19.98,\n",
       "    u'temp_min': 19.59},\n",
       "   u'rain': {u'3h': 0.0575},\n",
       "   u'sys': {u'pod': u'd'},\n",
       "   u'weather': [{u'description': u'light rain',\n",
       "     u'icon': u'10d',\n",
       "     u'id': 500,\n",
       "     u'main': u'Rain'}],\n",
       "   u'wind': {u'deg': 32.501, u'speed': 1.36}},\n",
       "  {u'clouds': {u'all': 92},\n",
       "   u'dt': 1537477200,\n",
       "   u'dt_txt': u'2018-09-20 21:00:00',\n",
       "   u'main': {u'grnd_level': 1033.27,\n",
       "    u'humidity': 93,\n",
       "    u'pressure': 1033.27,\n",
       "    u'sea_level': 1036.69,\n",
       "    u'temp': 20.43,\n",
       "    u'temp_kf': 0.2,\n",
       "    u'temp_max': 20.43,\n",
       "    u'temp_min': 20.24},\n",
       "   u'rain': {},\n",
       "   u'sys': {u'pod': u'd'},\n",
       "   u'weather': [{u'description': u'overcast clouds',\n",
       "     u'icon': u'04d',\n",
       "     u'id': 804,\n",
       "     u'main': u'Clouds'}],\n",
       "   u'wind': {u'deg': 276.503, u'speed': 0.95}},\n",
       "  {u'clouds': {u'all': 80},\n",
       "   u'dt': 1537488000,\n",
       "   u'dt_txt': u'2018-09-21 00:00:00',\n",
       "   u'main': {u'grnd_level': 1033.99,\n",
       "    u'humidity': 96,\n",
       "    u'pressure': 1033.99,\n",
       "    u'sea_level': 1037.41,\n",
       "    u'temp': 19.61,\n",
       "    u'temp_kf': 0,\n",
       "    u'temp_max': 19.61,\n",
       "    u'temp_min': 19.61},\n",
       "   u'rain': {u'3h': 0.0125},\n",
       "   u'sys': {u'pod': u'n'},\n",
       "   u'weather': [{u'description': u'light rain',\n",
       "     u'icon': u'10n',\n",
       "     u'id': 500,\n",
       "     u'main': u'Rain'}],\n",
       "   u'wind': {u'deg': 199.509, u'speed': 0.9}},\n",
       "  {u'clouds': {u'all': 8},\n",
       "   u'dt': 1537498800,\n",
       "   u'dt_txt': u'2018-09-21 03:00:00',\n",
       "   u'main': {u'grnd_level': 1034.89,\n",
       "    u'humidity': 97,\n",
       "    u'pressure': 1034.89,\n",
       "    u'sea_level': 1038.33,\n",
       "    u'temp': 18.84,\n",
       "    u'temp_kf': 0,\n",
       "    u'temp_max': 18.84,\n",
       "    u'temp_min': 18.84},\n",
       "   u'rain': {u'3h': 0.035},\n",
       "   u'sys': {u'pod': u'n'},\n",
       "   u'weather': [{u'description': u'light rain',\n",
       "     u'icon': u'10n',\n",
       "     u'id': 500,\n",
       "     u'main': u'Rain'}],\n",
       "   u'wind': {u'deg': 138.003, u'speed': 2.31}},\n",
       "  {u'clouds': {u'all': 8},\n",
       "   u'dt': 1537509600,\n",
       "   u'dt_txt': u'2018-09-21 06:00:00',\n",
       "   u'main': {u'grnd_level': 1035.12,\n",
       "    u'humidity': 100,\n",
       "    u'pressure': 1035.12,\n",
       "    u'sea_level': 1038.51,\n",
       "    u'temp': 17.91,\n",
       "    u'temp_kf': 0,\n",
       "    u'temp_max': 17.91,\n",
       "    u'temp_min': 17.91},\n",
       "   u'rain': {},\n",
       "   u'sys': {u'pod': u'n'},\n",
       "   u'weather': [{u'description': u'clear sky',\n",
       "     u'icon': u'02n',\n",
       "     u'id': 800,\n",
       "     u'main': u'Clear'}],\n",
       "   u'wind': {u'deg': 125.502, u'speed': 2.7}},\n",
       "  {u'clouds': {u'all': 12},\n",
       "   u'dt': 1537520400,\n",
       "   u'dt_txt': u'2018-09-21 09:00:00',\n",
       "   u'main': {u'grnd_level': 1034.94,\n",
       "    u'humidity': 100,\n",
       "    u'pressure': 1034.94,\n",
       "    u'sea_level': 1038.27,\n",
       "    u'temp': 17.46,\n",
       "    u'temp_kf': 0,\n",
       "    u'temp_max': 17.46,\n",
       "    u'temp_min': 17.46},\n",
       "   u'rain': {},\n",
       "   u'sys': {u'pod': u'n'},\n",
       "   u'weather': [{u'description': u'few clouds',\n",
       "     u'icon': u'02n',\n",
       "     u'id': 801,\n",
       "     u'main': u'Clouds'}],\n",
       "   u'wind': {u'deg': 120.002, u'speed': 2.97}}],\n",
       " u'message': 0.0053}"
      ]
     },
     "execution_count": 18,
     "metadata": {},
     "output_type": "execute_result"
    }
   ],
   "source": [
    "data"
   ]
  },
  {
   "cell_type": "code",
   "execution_count": 19,
   "metadata": {
    "ExecuteTime": {
     "end_time": "2018-09-20T12:07:43.735950Z",
     "start_time": "2018-09-20T08:07:43.730715-04:00"
    }
   },
   "outputs": [
    {
     "data": {
      "text/plain": [
       "{u'coord': {u'lat': 40.7306, u'lon': -73.9867},\n",
       " u'country': u'US',\n",
       " u'id': 5128581,\n",
       " u'name': u'New York',\n",
       " u'population': 8175133}"
      ]
     },
     "execution_count": 19,
     "metadata": {},
     "output_type": "execute_result"
    }
   ],
   "source": [
    "data['city']"
   ]
  },
  {
   "cell_type": "code",
   "execution_count": 20,
   "metadata": {
    "ExecuteTime": {
     "end_time": "2018-09-20T12:07:58.788333Z",
     "start_time": "2018-09-20T08:07:58.765838-04:00"
    },
    "run_control": {
     "frozen": false,
     "read_only": false
    }
   },
   "outputs": [
    {
     "data": {
      "text/plain": [
       "[{u'clouds': {u'all': 92},\n",
       "  u'dt': 1537455600,\n",
       "  u'dt_txt': u'2018-09-20 15:00:00',\n",
       "  u'main': {u'grnd_level': 1033.78,\n",
       "   u'humidity': 100,\n",
       "   u'pressure': 1033.78,\n",
       "   u'sea_level': 1037.17,\n",
       "   u'temp': 18.54,\n",
       "   u'temp_kf': 0.59,\n",
       "   u'temp_max': 18.54,\n",
       "   u'temp_min': 17.95},\n",
       "  u'rain': {u'3h': 0.09},\n",
       "  u'sys': {u'pod': u'd'},\n",
       "  u'weather': [{u'description': u'light rain',\n",
       "    u'icon': u'10d',\n",
       "    u'id': 500,\n",
       "    u'main': u'Rain'}],\n",
       "  u'wind': {u'deg': 56.0011, u'speed': 1.67}},\n",
       " {u'clouds': {u'all': 92},\n",
       "  u'dt': 1537466400,\n",
       "  u'dt_txt': u'2018-09-20 18:00:00',\n",
       "  u'main': {u'grnd_level': 1033.82,\n",
       "   u'humidity': 100,\n",
       "   u'pressure': 1033.82,\n",
       "   u'sea_level': 1037.17,\n",
       "   u'temp': 19.98,\n",
       "   u'temp_kf': 0.39,\n",
       "   u'temp_max': 19.98,\n",
       "   u'temp_min': 19.59},\n",
       "  u'rain': {u'3h': 0.0575},\n",
       "  u'sys': {u'pod': u'd'},\n",
       "  u'weather': [{u'description': u'light rain',\n",
       "    u'icon': u'10d',\n",
       "    u'id': 500,\n",
       "    u'main': u'Rain'}],\n",
       "  u'wind': {u'deg': 32.501, u'speed': 1.36}},\n",
       " {u'clouds': {u'all': 92},\n",
       "  u'dt': 1537477200,\n",
       "  u'dt_txt': u'2018-09-20 21:00:00',\n",
       "  u'main': {u'grnd_level': 1033.27,\n",
       "   u'humidity': 93,\n",
       "   u'pressure': 1033.27,\n",
       "   u'sea_level': 1036.69,\n",
       "   u'temp': 20.43,\n",
       "   u'temp_kf': 0.2,\n",
       "   u'temp_max': 20.43,\n",
       "   u'temp_min': 20.24},\n",
       "  u'rain': {},\n",
       "  u'sys': {u'pod': u'd'},\n",
       "  u'weather': [{u'description': u'overcast clouds',\n",
       "    u'icon': u'04d',\n",
       "    u'id': 804,\n",
       "    u'main': u'Clouds'}],\n",
       "  u'wind': {u'deg': 276.503, u'speed': 0.95}},\n",
       " {u'clouds': {u'all': 80},\n",
       "  u'dt': 1537488000,\n",
       "  u'dt_txt': u'2018-09-21 00:00:00',\n",
       "  u'main': {u'grnd_level': 1033.99,\n",
       "   u'humidity': 96,\n",
       "   u'pressure': 1033.99,\n",
       "   u'sea_level': 1037.41,\n",
       "   u'temp': 19.61,\n",
       "   u'temp_kf': 0,\n",
       "   u'temp_max': 19.61,\n",
       "   u'temp_min': 19.61},\n",
       "  u'rain': {u'3h': 0.0125},\n",
       "  u'sys': {u'pod': u'n'},\n",
       "  u'weather': [{u'description': u'light rain',\n",
       "    u'icon': u'10n',\n",
       "    u'id': 500,\n",
       "    u'main': u'Rain'}],\n",
       "  u'wind': {u'deg': 199.509, u'speed': 0.9}},\n",
       " {u'clouds': {u'all': 8},\n",
       "  u'dt': 1537498800,\n",
       "  u'dt_txt': u'2018-09-21 03:00:00',\n",
       "  u'main': {u'grnd_level': 1034.89,\n",
       "   u'humidity': 97,\n",
       "   u'pressure': 1034.89,\n",
       "   u'sea_level': 1038.33,\n",
       "   u'temp': 18.84,\n",
       "   u'temp_kf': 0,\n",
       "   u'temp_max': 18.84,\n",
       "   u'temp_min': 18.84},\n",
       "  u'rain': {u'3h': 0.035},\n",
       "  u'sys': {u'pod': u'n'},\n",
       "  u'weather': [{u'description': u'light rain',\n",
       "    u'icon': u'10n',\n",
       "    u'id': 500,\n",
       "    u'main': u'Rain'}],\n",
       "  u'wind': {u'deg': 138.003, u'speed': 2.31}},\n",
       " {u'clouds': {u'all': 8},\n",
       "  u'dt': 1537509600,\n",
       "  u'dt_txt': u'2018-09-21 06:00:00',\n",
       "  u'main': {u'grnd_level': 1035.12,\n",
       "   u'humidity': 100,\n",
       "   u'pressure': 1035.12,\n",
       "   u'sea_level': 1038.51,\n",
       "   u'temp': 17.91,\n",
       "   u'temp_kf': 0,\n",
       "   u'temp_max': 17.91,\n",
       "   u'temp_min': 17.91},\n",
       "  u'rain': {},\n",
       "  u'sys': {u'pod': u'n'},\n",
       "  u'weather': [{u'description': u'clear sky',\n",
       "    u'icon': u'02n',\n",
       "    u'id': 800,\n",
       "    u'main': u'Clear'}],\n",
       "  u'wind': {u'deg': 125.502, u'speed': 2.7}},\n",
       " {u'clouds': {u'all': 12},\n",
       "  u'dt': 1537520400,\n",
       "  u'dt_txt': u'2018-09-21 09:00:00',\n",
       "  u'main': {u'grnd_level': 1034.94,\n",
       "   u'humidity': 100,\n",
       "   u'pressure': 1034.94,\n",
       "   u'sea_level': 1038.27,\n",
       "   u'temp': 17.46,\n",
       "   u'temp_kf': 0,\n",
       "   u'temp_max': 17.46,\n",
       "   u'temp_min': 17.46},\n",
       "  u'rain': {},\n",
       "  u'sys': {u'pod': u'n'},\n",
       "  u'weather': [{u'description': u'few clouds',\n",
       "    u'icon': u'02n',\n",
       "    u'id': 801,\n",
       "    u'main': u'Clouds'}],\n",
       "  u'wind': {u'deg': 120.002, u'speed': 2.97}}]"
      ]
     },
     "execution_count": 20,
     "metadata": {},
     "output_type": "execute_result"
    }
   ],
   "source": [
    "data['list']"
   ]
  },
  {
   "cell_type": "code",
   "execution_count": 22,
   "metadata": {
    "ExecuteTime": {
     "end_time": "2018-09-20T12:08:31.145781Z",
     "start_time": "2018-09-20T08:08:31.137682-04:00"
    },
    "run_control": {
     "frozen": false,
     "read_only": false
    }
   },
   "outputs": [
    {
     "data": {
      "text/plain": [
       "7"
      ]
     },
     "execution_count": 22,
     "metadata": {},
     "output_type": "execute_result"
    }
   ],
   "source": [
    "len(data['list'])"
   ]
  },
  {
   "cell_type": "code",
   "execution_count": 23,
   "metadata": {
    "ExecuteTime": {
     "end_time": "2018-09-20T12:08:38.876480Z",
     "start_time": "2018-09-20T08:08:38.869090-04:00"
    }
   },
   "outputs": [
    {
     "data": {
      "text/plain": [
       "{u'clouds': {u'all': 92},\n",
       " u'dt': 1537455600,\n",
       " u'dt_txt': u'2018-09-20 15:00:00',\n",
       " u'main': {u'grnd_level': 1033.78,\n",
       "  u'humidity': 100,\n",
       "  u'pressure': 1033.78,\n",
       "  u'sea_level': 1037.17,\n",
       "  u'temp': 18.54,\n",
       "  u'temp_kf': 0.59,\n",
       "  u'temp_max': 18.54,\n",
       "  u'temp_min': 17.95},\n",
       " u'rain': {u'3h': 0.09},\n",
       " u'sys': {u'pod': u'd'},\n",
       " u'weather': [{u'description': u'light rain',\n",
       "   u'icon': u'10d',\n",
       "   u'id': 500,\n",
       "   u'main': u'Rain'}],\n",
       " u'wind': {u'deg': 56.0011, u'speed': 1.67}}"
      ]
     },
     "execution_count": 23,
     "metadata": {},
     "output_type": "execute_result"
    }
   ],
   "source": [
    "data['list'][0]"
   ]
  },
  {
   "cell_type": "code",
   "execution_count": 24,
   "metadata": {
    "ExecuteTime": {
     "end_time": "2018-09-20T12:08:41.536009Z",
     "start_time": "2018-09-20T08:08:41.530327-04:00"
    },
    "run_control": {
     "frozen": false,
     "read_only": false
    }
   },
   "outputs": [
    {
     "data": {
      "text/plain": [
       "1537455600"
      ]
     },
     "execution_count": 24,
     "metadata": {},
     "output_type": "execute_result"
    }
   ],
   "source": [
    "data['list'][0]['dt']"
   ]
  },
  {
   "cell_type": "code",
   "execution_count": 25,
   "metadata": {
    "ExecuteTime": {
     "end_time": "2018-09-20T12:08:43.556619Z",
     "start_time": "2018-09-20T08:08:43.550602-04:00"
    },
    "run_control": {
     "frozen": false,
     "read_only": false
    }
   },
   "outputs": [
    {
     "data": {
      "text/plain": [
       "18.54"
      ]
     },
     "execution_count": 25,
     "metadata": {},
     "output_type": "execute_result"
    }
   ],
   "source": [
    "data['list'][0]['main']['temp']"
   ]
  },
  {
   "cell_type": "code",
   "execution_count": 36,
   "metadata": {
    "ExecuteTime": {
     "end_time": "2018-09-20T12:11:43.909922Z",
     "start_time": "2018-09-20T08:11:43.669421-04:00"
    },
    "run_control": {
     "frozen": false,
     "read_only": false
    }
   },
   "outputs": [
    {
     "name": "stdout",
     "output_type": "stream",
     "text": [
      "(1537455600, 18.54)\n",
      "(1537466400, 19.98)\n",
      "(1537477200, 20.43)\n",
      "(1537488000, 19.61)\n",
      "(1537498800, 18.84)\n",
      "(1537509600, 17.91)\n",
      "(1537520400, 17.46)\n"
     ]
    },
    {
     "data": {
      "image/png": "[encoded data removed]",
      "text/plain": [
       "<Figure size 1440x360 with 1 Axes>"
      ]
     },
     "metadata": {},
     "output_type": "display_data"
    }
   ],
   "source": [
    "f = pl.figure(figsize=(20,5))\n",
    "for it in data['list']:\n",
    "    print (it['dt'], it['main']['temp'])\n",
    "    for k in it['main']:\n",
    "        if k.startswith('temp') and not 'kf' in k: \n",
    "            pl.plot(it['dt'], it['main'][k], 'ko')\n",
    "pl.xlabel(\"date\")\n",
    "pl.ylabel(\"temperature\")\n",
    "pl.title(\"NYC temperature 5-days\");"
   ]
  },
  {
   "cell_type": "code",
   "execution_count": 35,
   "metadata": {
    "ExecuteTime": {
     "end_time": "2018-09-20T12:11:34.539041Z",
     "start_time": "2018-09-20T08:11:34.225311-04:00"
    },
    "run_control": {
     "frozen": false,
     "read_only": false
    }
   },
   "outputs": [
    {
     "name": "stdout",
     "output_type": "stream",
     "text": [
      "(u'2018-09-20 15:00:00', 18.54)\n",
      "(u'2018-09-20 18:00:00', 19.98)\n",
      "(u'2018-09-20 21:00:00', 20.43)\n",
      "(u'2018-09-21 00:00:00', 19.61)\n",
      "(u'2018-09-21 03:00:00', 18.84)\n",
      "(u'2018-09-21 06:00:00', 17.91)\n",
      "(u'2018-09-21 09:00:00', 17.46)\n"
     ]
    },
    {
     "data": {
      "image/png": "[encoded data removed]",
      "text/plain": [
       "<Figure size 1440x360 with 1 Axes>"
      ]
     },
     "metadata": {},
     "output_type": "display_data"
    }
   ],
   "source": [
    "f = pl.figure(figsize=(20,5))\n",
    "for it in data['list']:\n",
    "    print (it['dt_txt'], it['main']['temp'])\n",
    "    for k in it['main']:\n",
    "        if k.startswith('temp') and not 'kf' in k: \n",
    "            pl.plot(it['dt_txt'], it['main'][k], 'ko')\n",
    "            \n",
    "pl.xlabel(\"date\")\n",
    "pl.ylabel(\"temperature\")\n",
    "pl.title(\"NYC temperature 5-days\");"
   ]
  },
  {
   "cell_type": "code",
   "execution_count": null,
   "metadata": {
    "collapsed": true,
    "run_control": {
     "frozen": false,
     "read_only": false
    }
   },
   "outputs": [],
   "source": []
  }
 ],
 "metadata": {
  "anaconda-cloud": {},
  "kernelspec": {
   "display_name": "Python 3",
   "language": "python",
   "name": "python3"
  },
  "language_info": {
   "codemirror_mode": {
    "name": "ipython",
    "version": 2
   },
   "file_extension": ".py",
   "mimetype": "text/x-python",
   "name": "python",
   "nbconvert_exporter": "python",
   "pygments_lexer": "ipython2",
   "version": "2.7.3"
  },
  "toc": {
   "colors": {
    "hover_highlight": "#DAA520",
    "running_highlight": "#FF0000",
    "selected_highlight": "#FFD700"
   },
   "moveMenuLeft": true,
   "nav_menu": {
    "height": "13px",
    "width": "251px"
   },
   "navigate_menu": true,
   "number_sections": true,
   "sideBar": true,
   "threshold": 4,
   "toc_cell": false,
   "toc_section_display": "block",
   "toc_window_display": false
  }
 },
 "nbformat": 4,
 "nbformat_minor": 1
}
