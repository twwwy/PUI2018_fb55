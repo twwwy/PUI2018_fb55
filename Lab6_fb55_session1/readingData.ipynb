{
 "cells": [
  {
   "cell_type": "markdown",
   "metadata": {
    "toc": "true"
   },
   "source": [
    "# Table of Contents\n",
    " <p><div class=\"lev3 toc-item\"><a href=\"#Code-written-to-demonstrate-various-ways-to-read-in-a-file-in-python-and-data-wrangling\" data-toc-modified-id=\"Code-written-to-demonstrate-various-ways-to-read-in-a-file-in-python-and-data-wrangling-001\"><span class=\"toc-item-num\">0.0.1&nbsp;&nbsp;</span>Code written to demonstrate various ways to read in a file in python and data wrangling</a></div><div class=\"lev1 toc-item\"><a href=\"#reading-in-data\" data-toc-modified-id=\"reading-in-data-1\"><span class=\"toc-item-num\">1&nbsp;&nbsp;</span>reading in data</a></div><div class=\"lev2 toc-item\"><a href=\"#using-builtin-functions:-readlines()\" data-toc-modified-id=\"using-builtin-functions:-readlines()-11\"><span class=\"toc-item-num\">1.1&nbsp;&nbsp;</span>using builtin functions: readlines()</a></div><div class=\"lev2 toc-item\"><a href=\"#using-built-functions:-readline()\" data-toc-modified-id=\"using-built-functions:-readline()-12\"><span class=\"toc-item-num\">1.2&nbsp;&nbsp;</span>using built functions: readline()</a></div><div class=\"lev2 toc-item\"><a href=\"#using-built-in-functions:-read()-to-read-the-whole-file-at-once\" data-toc-modified-id=\"using-built-in-functions:-read()-to-read-the-whole-file-at-once-13\"><span class=\"toc-item-num\">1.3&nbsp;&nbsp;</span>using built in functions: read() to read the whole file at once</a></div><div class=\"lev2 toc-item\"><a href=\"#storing-the-data-after-reading-it\" data-toc-modified-id=\"storing-the-data-after-reading-it-14\"><span class=\"toc-item-num\">1.4&nbsp;&nbsp;</span>storing the data after reading it</a></div><div class=\"lev2 toc-item\"><a href=\"#numpy-methods:-genfromtxt-and-loadtxt---excellent-to-read-in-files-containing-only-or-mostly-numbers\" data-toc-modified-id=\"numpy-methods:-genfromtxt-and-loadtxt---excellent-to-read-in-files-containing-only-or-mostly-numbers-15\"><span class=\"toc-item-num\">1.5&nbsp;&nbsp;</span>numpy methods: genfromtxt and loadtxt - excellent to read in files containing only or mostly numbers</a></div><div class=\"lev2 toc-item\"><a href=\"#the-allmighty-pandas-data-reader\" data-toc-modified-id=\"the-allmighty-pandas-data-reader-16\"><span class=\"toc-item-num\">1.6&nbsp;&nbsp;</span>the allmighty pandas data reader</a></div><div class=\"lev1 toc-item\"><a href=\"#data-manipulation-with-dataframes\" data-toc-modified-id=\"data-manipulation-with-dataframes-2\"><span class=\"toc-item-num\">2&nbsp;&nbsp;</span>data manipulation with dataframes</a></div><div class=\"lev2 toc-item\"><a href=\"#selecting-values-by-content\" data-toc-modified-id=\"selecting-values-by-content-21\"><span class=\"toc-item-num\">2.1&nbsp;&nbsp;</span>selecting values by content</a></div><div class=\"lev2 toc-item\"><a href=\"#removing-columns\" data-toc-modified-id=\"removing-columns-22\"><span class=\"toc-item-num\">2.2&nbsp;&nbsp;</span>removing columns</a></div><div class=\"lev2 toc-item\"><a href=\"#plotting\" data-toc-modified-id=\"plotting-23\"><span class=\"toc-item-num\">2.3&nbsp;&nbsp;</span>plotting</a></div><div class=\"lev3 toc-item\"><a href=\"#Figure-1:\" data-toc-modified-id=\"Figure-1:-231\"><span class=\"toc-item-num\">2.3.1&nbsp;&nbsp;</span>Figure 1:</a></div><div class=\"lev3 toc-item\"><a href=\"#Figure-2:\" data-toc-modified-id=\"Figure-2:-232\"><span class=\"toc-item-num\">2.3.2&nbsp;&nbsp;</span>Figure 2:</a></div><div class=\"lev3 toc-item\"><a href=\"#Figure-3:\" data-toc-modified-id=\"Figure-3:-233\"><span class=\"toc-item-num\">2.3.3&nbsp;&nbsp;</span>Figure 3:</a></div><div class=\"lev3 toc-item\"><a href=\"#Figure-4:\" data-toc-modified-id=\"Figure-4:-234\"><span class=\"toc-item-num\">2.3.4&nbsp;&nbsp;</span>Figure 4:</a></div>"
   ]
  },
  {
   "cell_type": "code",
   "execution_count": 73,
   "metadata": {
    "ExecuteTime": {
     "end_time": "2018-10-04T03:38:32.708044Z",
     "start_time": "2018-10-04T03:38:32.696390Z"
    },
    "run_control": {
     "frozen": false,
     "read_only": false
    }
   },
   "outputs": [
    {
     "name": "stdout",
     "output_type": "stream",
     "text": [
      "Populating the interactive namespace from numpy and matplotlib\n"
     ]
    }
   ],
   "source": [
    "from __future__ import print_function\n",
    "import os\n",
    "import numpy as np\n",
    "import pandas as pd\n",
    "#import json\n",
    "import pylab as pl\n",
    "\n",
    "%pylab inline\n",
    "import seaborn\n"
   ]
  },
  {
   "cell_type": "markdown",
   "metadata": {
    "run_control": {
     "frozen": false,
     "read_only": false
    }
   },
   "source": [
    "### Code written to demonstrate various ways to read in a file in python and data wrangling \n",
    "\n",
    "Uses 311 data: reports and complains issued by citizens to the NYC agencies\n",
    "The data is downloaded in CSV format from [NYC open data](https://nycopendata.socrata.com/data?cat=business) and available on https://serv.cusp.nyu.edu/~fbianco/PUIdata/\n",
    "\n",
    "- 311_Service_Requests_from_2010_to_Present_short.csv is a reducted file wchich contains id, date, zip, location in XY state coords, longitude, latitude, and contains 100 rows.\n",
    "- 311_Service_Requests_from_2010_to_Present_head.csv contains all variables, but only 100 lines\n",
    "-  311_Service_Requests_from_2010_to_Present_short.csv contains all variables all rows (34898). It is large and I only use it when I use pandas because with all other functions it is really slow!\n",
    "- NYPD_7_Major_Felony_Incidents.csv is the crime data from NYOD also downloaded from [NYC open data](https://nycopendata.socrata.com/data?cat=business). Only the year 2015 is downloaded.\n",
    "\n",
    "Note that there is a lot of output dumped in this file. This is because I am trying to show how the data is formatted once ingested.\n",
    "\n",
    " CUSP [PUI2018](https://serv.cusp.nyu.edu/~fbianco/PUI2018)"
   ]
  },
  {
   "cell_type": "code",
   "execution_count": 2,
   "metadata": {
    "ExecuteTime": {
     "end_time": "2018-10-04T03:24:38.007165Z",
     "start_time": "2018-10-04T03:24:38.003206Z"
    },
    "run_control": {
     "frozen": false,
     "read_only": false
    }
   },
   "outputs": [
    {
     "name": "stdout",
     "output_type": "stream",
     "text": [
      "/Users/fbb/science/Dropbox//UI/PUIdata\n"
     ]
    }
   ],
   "source": [
    "# use the environmental variable PUIDATA to access data stored in your own PUIDATA directory\n",
    "PUIdata = os.getenv('PUIDATA')\n",
    "\n",
    "print (PUIdata)"
   ]
  },
  {
   "cell_type": "markdown",
   "metadata": {
    "run_control": {
     "frozen": false,
     "read_only": false
    }
   },
   "source": [
    "# reading in data\n",
    "\n",
    "## using builtin functions: readlines()"
   ]
  },
  {
   "cell_type": "code",
   "execution_count": 26,
   "metadata": {
    "ExecuteTime": {
     "end_time": "2018-10-04T03:32:33.618795Z",
     "start_time": "2018-10-04T03:32:10.883625Z"
    },
    "run_control": {
     "frozen": false,
     "read_only": false
    }
   },
   "outputs": [
    {
     "name": "stdout",
     "output_type": "stream",
     "text": [
      "  % Total    % Received % Xferd  Average Speed   Time    Time     Time  Current\n",
      "                                 Dload  Upload   Total   Spent    Left  Speed\n",
      "100  8520  100  8520    0     0  28033      0 --:--:-- --:--:-- --:--:-- 28305\n",
      "  % Total    % Received % Xferd  Average Speed   Time    Time     Time  Current\n",
      "                                 Dload  Upload   Total   Spent    Left  Speed\n",
      "100 63114  100 63114    0     0   217k      0 --:--:-- --:--:-- --:--:--  220k\n",
      "  % Total    % Received % Xferd  Average Speed   Time    Time     Time  Current\n",
      "                                 Dload  Upload   Total   Spent    Left  Speed\n",
      "100 21.0M  100 21.0M    0     0  1004k      0  0:00:21  0:00:21 --:--:-- 1641k720k      0  0:00:29  0:00:03  0:00:26  721k  0     0   866k      0  0:00:24  0:00:14  0:00:10  951k\n",
      "/bin/sh: /Users/fbb/science/Dropbox//UI/PUIdata: is a directory\n"
     ]
    }
   ],
   "source": [
    "# opening the file the old fashion way: a C style read\n",
    "!curl -O https://serv.cusp.nyu.edu/~fbianco/PUIdata/NYPD_7_Major_Felony_Incidents.csv\"\n",
    "!curl -O https://serv.cusp.nyu.edu/~fbianco/PUIdata/311_Service_Requests_from_2010_to_Present_short.csv\n",
    "!curl -O https://serv.cusp.nyu.edu/~fbianco/PUIdata/311_Service_Requests_from_2010_to_Present_head.csv\n",
    "!curl -O https://serv.cusp.nyu.edu/~fbianco/PUIdata/311_Service_Requests_from_2010_to_Present.csv\n",
    "!mv 311_*.csv NYP*csv $PUIDATA\n",
    "!$PUIDATA"
   ]
  },
  {
   "cell_type": "code",
   "execution_count": 27,
   "metadata": {
    "ExecuteTime": {
     "end_time": "2018-10-04T03:32:33.628453Z",
     "start_time": "2018-10-04T03:32:33.622621Z"
    }
   },
   "outputs": [],
   "source": [
    "fin = open(PUIdata + \"/311_Service_Requests_from_2010_to_Present_short.csv\", \"r\")"
   ]
  },
  {
   "cell_type": "code",
   "execution_count": 28,
   "metadata": {
    "ExecuteTime": {
     "end_time": "2018-10-04T03:32:39.678041Z",
     "start_time": "2018-10-04T03:32:39.667099Z"
    },
    "run_control": {
     "frozen": false,
     "read_only": false
    }
   },
   "outputs": [],
   "source": [
    "# within Python you can ask for help on a function or variable\n",
    "# here readlines is a method of a File variable\n",
    "fin.readlines?"
   ]
  },
  {
   "cell_type": "code",
   "execution_count": 29,
   "metadata": {
    "ExecuteTime": {
     "end_time": "2018-10-04T03:32:40.199035Z",
     "start_time": "2018-10-04T03:32:40.191679Z"
    },
    "run_control": {
     "frozen": false,
     "read_only": false
    }
   },
   "outputs": [
    {
     "data": {
      "text/plain": [
       "'34212771,09/01/2016 12:00:06 AM,11413,1052223,185368,40.67520813178531,-73.75494944502233\\n'"
      ]
     },
     "execution_count": 29,
     "metadata": {},
     "output_type": "execute_result"
    }
   ],
   "source": [
    "csv = fin.readlines()\n",
    "csv[1]\n"
   ]
  },
  {
   "cell_type": "code",
   "execution_count": 30,
   "metadata": {
    "ExecuteTime": {
     "end_time": "2018-10-04T03:32:41.122770Z",
     "start_time": "2018-10-04T03:32:41.115605Z"
    },
    "run_control": {
     "frozen": false,
     "read_only": false
    }
   },
   "outputs": [
    {
     "data": {
      "text/plain": [
       "list"
      ]
     },
     "execution_count": 30,
     "metadata": {},
     "output_type": "execute_result"
    }
   ],
   "source": [
    "type(csv)"
   ]
  },
  {
   "cell_type": "code",
   "execution_count": 31,
   "metadata": {
    "ExecuteTime": {
     "end_time": "2018-10-04T03:32:45.586835Z",
     "start_time": "2018-10-04T03:32:45.581157Z"
    },
    "run_control": {
     "frozen": false,
     "read_only": false
    }
   },
   "outputs": [
    {
     "data": {
      "text/plain": [
       "str"
      ]
     },
     "execution_count": 31,
     "metadata": {},
     "output_type": "execute_result"
    }
   ],
   "source": [
    "type(csv[0])"
   ]
  },
  {
   "cell_type": "code",
   "execution_count": 32,
   "metadata": {
    "ExecuteTime": {
     "end_time": "2018-10-04T03:32:46.577598Z",
     "start_time": "2018-10-04T03:32:46.573131Z"
    },
    "run_control": {
     "frozen": false,
     "read_only": false
    }
   },
   "outputs": [],
   "source": [
    "fin.close()"
   ]
  },
  {
   "cell_type": "markdown",
   "metadata": {
    "run_control": {
     "frozen": false,
     "read_only": false
    }
   },
   "source": [
    "##  using built functions: readline()"
   ]
  },
  {
   "cell_type": "code",
   "execution_count": 33,
   "metadata": {
    "ExecuteTime": {
     "end_time": "2018-10-04T03:32:53.948891Z",
     "start_time": "2018-10-04T03:32:53.942443Z"
    },
    "run_control": {
     "frozen": false,
     "read_only": false
    }
   },
   "outputs": [],
   "source": [
    "fin = open(PUIdata + \"/311_Service_Requests_from_2010_to_Present_head.csv\", \"r\")\n",
    "fin.readline?"
   ]
  },
  {
   "cell_type": "code",
   "execution_count": 34,
   "metadata": {
    "ExecuteTime": {
     "end_time": "2018-10-04T03:32:59.642639Z",
     "start_time": "2018-10-04T03:32:59.630046Z"
    },
    "run_control": {
     "frozen": false,
     "read_only": false
    }
   },
   "outputs": [
    {
     "name": "stdout",
     "output_type": "stream",
     "text": [
      "Unique Key,Created Date,Closed Date,Agency,Agency Name,Complaint Type,Descriptor,Location Type,Incident Zip,Incident Address,Street Name,Cross Street 1,Cross Street 2,Intersection Street 1,Intersection Street 2,Address Type,City,Landmark,Facility Type,Status,Due Date,Resolution Description,Resolution Action Updated Date,Community Board,Borough,X Coordinate (State Plane),Y Coordinate (State Plane),Park Facility Name,Park Borough,School Name,School Number,School Region,School Code,School Phone Number,School Address,School City,School State,School Zip,School Not Found,School or Citywide Complaint,Vehicle Type,Taxi Company Borough,Taxi Pick Up Location,Bridge Highway Name,Bridge Highway Direction,Road Ramp,Bridge Highway Segment,Garage Lot Name,Ferry Direction,Ferry Terminal Name,Latitude,Longitude,Location\n",
      "\n",
      "34212771,09/01/2016 12:00:06 AM,09/01/2016 06:02:10 AM,NYPD,New York City Police Department,Noise - Residential,Loud Television,Residential Building/House,11413,137-47 CARSON STREET,CARSON STREET,137 ROAD,138 AVENUE,,,ADDRESS,SPRINGFIELD GARDENS,,Precinct,Closed,09/01/2016 08:00:06 AM,The Police Department responded to the complaint and with the information available observed no evidence of the violation at that time.,09/01/2016 06:02:10 AM,13 QUEENS,QUEENS,1052223,185368,Unspecified,QUEENS,Unspecified,Unspecified,Unspecified,Unspecified,Unspecified,Unspecified,Unspecified,Unspecified,Unspecified,N,,,,,,,,,,,,40.67520813178531,-73.75494944502233,\"(40.67520813178531, -73.75494944502233)\"\n",
      "\n",
      "34212392,09/01/2016 12:00:35 AM,09/02/2016 04:53:48 PM,NYPD,New York City Police Department,Blocked Driveway,No Access,Street/Sidewalk,10469,943 EAST 217 STREET,EAST 217 STREET,BRONXWOOD AVENUE,PAULDING AVENUE,,,ADDRESS,BRONX,,Precinct,Closed,09/01/2016 08:00:35 AM,The Police Department reviewed your complaint and provided additional information below.,09/02/2016 04:53:49 PM,12 BRONX,BRONX,1023875,259913,Unspecified,BRONX,Unspecified,Unspecified,Unspecified,Unspecified,Unspecified,Unspecified,Unspecified,Unspecified,Unspecified,N,,,,,,,,,,,,40.87998640855491,-73.85670741555177,\"(40.87998640855491, -73.85670741555177)\"\n",
      "\n",
      "34214520,09/01/2016 12:00:37 AM,09/01/2016 01:05:43 AM,NYPD,New York City Police Department,Blocked Driveway,No Access,Street/Sidewalk,11369,98-02 25 AVENUE,25 AVENUE,98 STREET,99 STREET,,,ADDRESS,EAST ELMHURST,,Precinct,Closed,09/01/2016 08:00:37 AM,The Police Department responded and upon arrival those responsible for the condition were gone.,09/01/2016 01:05:43 AM,03 QUEENS,QUEENS,1019812,217879,Unspecified,QUEENS,Unspecified,Unspecified,Unspecified,Unspecified,Unspecified,Unspecified,Unspecified,Unspecified,Unspecified,N,,,,,,,,,,,,40.76463242381882,-73.87162284918391,\"(40.76463242381882, -73.87162284918391)\"\n",
      "\n",
      "34212483,09/01/2016 12:00:54 AM,09/01/2016 03:15:32 AM,NYPD,New York City Police Department,Blocked Driveway,No Access,Street/Sidewalk,10466,1017 EAST 226 STREET,EAST 226 STREET,PAULDING AVENUE,LACONIA AVENUE,,,ADDRESS,BRONX,,Precinct,Closed,09/01/2016 08:00:54 AM,The Police Department issued a summons in response to the complaint.,09/01/2016 03:15:32 AM,12 BRONX,BRONX,1025510,261946,Unspecified,BRONX,Unspecified,Unspecified,Unspecified,Unspecified,Unspecified,Unspecified,Unspecified,Unspecified,Unspecified,N,,,,,,,,,,,,40.885558858976104,-73.85078238918491,\"(40.885558858976104, -73.85078238918491)\"\n",
      "\n",
      "34214231,09/01/2016 12:01:15 AM,09/06/2016 09:27:00 AM,DOT,Department of Transportation,Street Condition,Pothole,,10040,4700 BROADWAY,BROADWAY,ARDEN STREET,DONGAN PLACE,,,ADDRESS,NEW YORK,,N/A,Closed,,The Department of Transportation inspected this complaint and found that the problem was fixed.,09/06/2016 09:27:00 AM,12 MANHATTAN,MANHATTAN,1003750,254115,Unspecified,MANHATTAN,Unspecified,Unspecified,Unspecified,Unspecified,Unspecified,Unspecified,Unspecified,Unspecified,Unspecified,,,,,,,,,,,,,40.864140093130686,-73.92950060219349,\"(40.864140093130686, -73.92950060219349)\"\n",
      "\n",
      "34223410,09/01/2016 12:02:00 AM,09/01/2016 11:33:00 AM,DEP,Department of Environmental Protection,Water System,Hydrant Running Full (WA4),,10031,,,,,BROADWAY,WEST 135 STREET,INTERSECTION,NEW YORK,,N/A,Closed,,The Department of Environmental Protection determined that this complaint is a duplicate of a previously filed complaint. The original complaint is being addressed.,09/01/2016 11:33:00 AM,09 MANHATTAN,MANHATTAN,996684,238064,Unspecified,MANHATTAN,Unspecified,Unspecified,Unspecified,Unspecified,Unspecified,Unspecified,Unspecified,Unspecified,Unspecified,,,,,,,,,,,,,40.820097574803015,-73.95507644617044,\"(40.820097574803015, -73.95507644617044)\"\n",
      "\n",
      "34219357,09/01/2016 12:02:00 AM,09/02/2016 12:00:00 PM,DSNY,BCC - Queens East,Sanitation Condition,12 Dead Animals,Sidewalk,11365,180-15 64 AVENUE,64 AVENUE,UTOPIA PARKWAY,181 STREET,,,ADDRESS,Fresh Meadows,,DSNY Garage,Closed,,The Department of Sanitation investigated this complaint and found no condition at the location.,09/02/2016 12:00:00 PM,08 QUEENS,QUEENS,1041679,208204,Unspecified,QUEENS,Unspecified,Unspecified,Unspecified,Unspecified,Unspecified,Unspecified,Unspecified,Unspecified,Unspecified,,,,,,,,,,,,,40.73796206550144,-73.79276687084037,\"(40.73796206550144, -73.79276687084037)\"\n",
      "\n",
      "34211394,09/01/2016 12:02:03 AM,,TLC,Taxi and Limousine Commission,Taxi Complaint,Driver Complaint,,11103,,,,,STEINWAY STREET,30 AVENUE,INTERSECTION,ASTORIA,,N/A,Assigned,10/17/2016 08:32:42 AM,The Taxi and Limousine Commission will contact you within 14 days to confirm your complaint details. Please note your Service Request number for future reference.,09/02/2016 08:33:07 AM,01 QUEENS,QUEENS,1007798,217595,Unspecified,QUEENS,Unspecified,Unspecified,Unspecified,Unspecified,Unspecified,Unspecified,Unspecified,Unspecified,Unspecified,N,,,,Other,,,,,,,,40.76389308093824,-73.91499378600639,\"(40.76389308093824, -73.91499378600639)\"\n",
      "\n",
      "34217294,09/01/2016 12:02:07 AM,09/01/2016 03:46:46 AM,NYPD,New York City Police Department,Noise - Residential,Loud Music/Party,Residential Building/House,10468,2685 GRAND CONCOURSE,GRAND CONCOURSE,EAST KINGSBRIDGE ROAD,EAST 196 STREET,,,ADDRESS,BRONX,,Precinct,Closed,09/01/2016 08:02:07 AM,The Police Department responded to the complaint but officers were unable to gain entry into the premises.,09/01/2016 03:46:46 AM,07 BRONX,BRONX,1013623,255108,Unspecified,BRONX,Unspecified,Unspecified,Unspecified,Unspecified,Unspecified,Unspecified,Unspecified,Unspecified,Unspecified,N,,,,,,,,,,,,40.86683824468553,-73.89380189150275,\"(40.86683824468553, -73.89380189150275)\"\n",
      "\n",
      "34213164,09/01/2016 12:03:16 AM,09/01/2016 03:46:38 AM,NYPD,New York City Police Department,Noise - Commercial,Loud Music/Party,Store/Commercial,11222,284 DRIGGS AVENUE,DRIGGS AVENUE,ECKFORD STREET,LEONARD STREET,,,ADDRESS,BROOKLYN,,Precinct,Closed,09/01/2016 08:03:16 AM,The Police Department responded to the complaint and took action to fix the condition.,09/01/2016 03:46:39 AM,01 BROOKLYN,BROOKLYN,998402,202531,Unspecified,BROOKLYN,Unspecified,Unspecified,Unspecified,Unspecified,Unspecified,Unspecified,Unspecified,Unspecified,Unspecified,N,,,,,,,,,,,,40.7225662037401,-73.94894420645994,\"(40.7225662037401, -73.94894420645994)\"\n",
      "\n",
      "34212770,09/01/2016 12:03:35 AM,09/01/2016 03:46:28 AM,NYPD,New York City Police Department,Noise - Commercial,Loud Talking,Club/Bar/Restaurant,11249,149 NORTH 6 STREET,NORTH 6 STREET,BERRY STREET,BEDFORD AVENUE,,,ADDRESS,BROOKLYN,,Precinct,Closed,09/01/2016 08:03:35 AM,The Police Department responded to the complaint and took action to fix the condition.,09/01/2016 03:46:28 AM,01 BROOKLYN,BROOKLYN,995738,200662,Unspecified,BROOKLYN,Unspecified,Unspecified,Unspecified,Unspecified,Unspecified,Unspecified,Unspecified,Unspecified,Unspecified,N,,,,,,,,,,,,40.717440110199995,-73.95855823667199,\"(40.717440110199995, -73.95855823667199)\"\n",
      "\n",
      "34214130,09/01/2016 12:03:52 AM,09/01/2016 02:41:40 AM,NYPD,New York City Police Department,Illegal Parking,Double Parked Blocking Traffic,Street/Sidewalk,10003,81 1 AVENUE,1 AVENUE,EAST 4 STREET,EAST 5 STREET,,,ADDRESS,NEW YORK,,Precinct,Closed,09/01/2016 08:03:52 AM,The Police Department responded and upon arrival those responsible for the condition were gone.,09/01/2016 02:41:40 AM,03 MANHATTAN,MANHATTAN,987942,203667,Unspecified,MANHATTAN,Unspecified,Unspecified,Unspecified,Unspecified,Unspecified,Unspecified,Unspecified,Unspecified,Unspecified,N,,,,,,,,,,,,40.72569479789409,-73.98667984531457,\"(40.72569479789409, -73.98667984531457)\"\n",
      "\n",
      "34217841,09/01/2016 12:05:17 AM,,TLC,Taxi and Limousine Commission,Taxi Complaint,Driver Complaint,,10031,531 WEST 143 STREET,WEST 143 STREET,HAMILTON PLACE,BROADWAY,,,ADDRESS,NEW YORK,,N/A,Assigned,10/17/2016 08:32:42 AM,The Taxi and Limousine Commission will contact you within 14 days to confirm your complaint details. Please note your Service Request number for future reference.,09/02/2016 08:33:01 AM,09 MANHATTAN,MANHATTAN,998155,239652,Unspecified,MANHATTAN,Unspecified,Unspecified,Unspecified,Unspecified,Unspecified,Unspecified,Unspecified,Unspecified,Unspecified,N,,,,Other,,,,,,,,40.82445399167001,-73.94975849134453,\"(40.82445399167001, -73.94975849134453)\"\n",
      "\n",
      "34212954,09/01/2016 12:05:31 AM,09/01/2016 03:22:57 AM,NYPD,New York City Police Department,Illegal Parking,Blocked Hydrant,Street/Sidewalk,11367,,,,,148 PLACE,61 ROAD,INTERSECTION,FLUSHING,,Precinct,Closed,09/01/2016 08:05:31 AM,The Police Department responded and upon arrival those responsible for the condition were gone.,09/01/2016 03:22:57 AM,08 QUEENS,QUEENS,1033787,208970,Unspecified,QUEENS,Unspecified,Unspecified,Unspecified,Unspecified,Unspecified,Unspecified,Unspecified,Unspecified,Unspecified,N,,,,,,,,,,,,40.740112265819256,-73.82123950679446,\"(40.740112265819256, -73.82123950679446)\"\n",
      "\n",
      "34216160,09/01/2016 12:05:54 AM,09/01/2016 02:59:15 AM,NYPD,New York City Police Department,Illegal Parking,Double Parked Blocking Traffic,Street/Sidewalk,10003,BOWERY,BOWERY,,,,,LATLONG,NEW YORK,,Precinct,Closed,09/01/2016 08:05:54 AM,The Police Department responded to the complaint and with the information available observed no evidence of the violation at that time.,09/01/2016 02:59:15 AM,03 MANHATTAN,MANHATTAN,986426,203499,Unspecified,MANHATTAN,Unspecified,Unspecified,Unspecified,Unspecified,Unspecified,Unspecified,Unspecified,Unspecified,Unspecified,N,,,,,,,,,,,,40.72523418153373,-73.99214938889838,\"(40.72523418153373, -73.99214938889838)\"\n",
      "\n",
      "34216500,09/01/2016 12:06:14 AM,09/01/2016 03:49:38 AM,NYPD,New York City Police Department,Blocked Driveway,Partial Access,Street/Sidewalk,11421,89-19 90 STREET,90 STREET,89 AVENUE,91 AVENUE,,,ADDRESS,WOODHAVEN,,Precinct,Closed,09/01/2016 08:06:14 AM,The Police Department responded and upon arrival those responsible for the condition were gone.,09/01/2016 03:49:38 AM,09 QUEENS,QUEENS,1024827,190774,Unspecified,QUEENS,Unspecified,Unspecified,Unspecified,Unspecified,Unspecified,Unspecified,Unspecified,Unspecified,Unspecified,N,,,,,,,,,,,,40.690214316362415,-73.85368240559568,\"(40.690214316362415, -73.85368240559568)\"\n",
      "\n",
      "34221835,09/01/2016 12:06:43 AM,,HPD,Department of Housing Preservation and Development,HEAT/HOT WATER,ENTIRE BUILDING,RESIDENTIAL BUILDING,10453,1841 DR M L KING JR BOULEVARD,DR M L KING JR BOULEVARD,,,,,ADDRESS,BRONX,,N/A,Open,,The following complaint conditions are still open. HPD may attempt to contact you to verify the correction of the condition or may conduct an inspection.,09/01/2016 12:00:00 AM,05 BRONX,BRONX,1007941,249537,Unspecified,BRONX,Unspecified,Unspecified,Unspecified,Unspecified,Unspecified,Unspecified,Unspecified,Unspecified,Unspecified,,,,,,,,,,,,,40.851564608300045,-73.91436484385679,\"(40.851564608300045, -73.91436484385679)\"\n",
      "\n",
      "34211702,09/01/2016 12:06:56 AM,09/01/2016 04:59:06 AM,NYPD,New York City Police Department,Noise - Street/Sidewalk,Loud Talking,Street/Sidewalk,11221,194 STUYVESANT AVENUE,STUYVESANT AVENUE,QUINCY STREET,GATES AVENUE,,,ADDRESS,BROOKLYN,,Precinct,Closed,09/01/2016 08:06:56 AM,The Police Department responded to the complaint and with the information available observed no evidence of the violation at that time.,09/01/2016 04:59:06 AM,03 BROOKLYN,BROOKLYN,1002780,190153,Unspecified,BROOKLYN,Unspecified,Unspecified,Unspecified,Unspecified,Unspecified,Unspecified,Unspecified,Unspecified,Unspecified,N,,,,,,,,,,,,40.68858343380662,-73.93318387971877,\"(40.68858343380662, -73.93318387971877)\"\n",
      "\n",
      "34219447,09/01/2016 12:07:00 AM,09/01/2016 12:08:00 AM,DEP,Department of Environmental Protection,Water System,Hydrant Running (WC3),,10023,325 WEST END AVENUE,WEST END AVENUE,,,,,ADDRESS,NEW YORK,,N/A,Closed,,The Department of Environmental Protection determined that this complaint is a duplicate of a previously filed complaint. The original complaint is being addressed.,09/01/2016 12:08:00 AM,07 MANHATTAN,MANHATTAN,988996,224194,Unspecified,MANHATTAN,Unspecified,Unspecified,Unspecified,Unspecified,Unspecified,Unspecified,Unspecified,Unspecified,Unspecified,,,,,,,,,,,,,40.78203569609998,-73.98286269079273,\"(40.78203569609998, -73.98286269079273)\"\n",
      "\n",
      "34217113,09/01/2016 12:07:09 AM,09/01/2016 01:13:48 AM,NYPD,New York City Police Department,Illegal Parking,Commercial Overnight Parking,Street/Sidewalk,11204,5400 21 AVENUE,21 AVENUE,53 STREET,WASHINGTON CEMETERY BOUNDARY,,,ADDRESS,BROOKLYN,,Precinct,Closed,09/01/2016 08:07:09 AM,The Police Department issued a summons in response to the complaint.,09/01/2016 01:13:48 AM,12 BROOKLYN,BROOKLYN,990555,165641,Unspecified,BROOKLYN,Unspecified,Unspecified,Unspecified,Unspecified,Unspecified,Unspecified,Unspecified,Unspecified,Unspecified,N,,,,,,,,,,,,40.621320511236384,-73.97728812364555,\"(40.621320511236384, -73.97728812364555)\"\n",
      "\n",
      "34214548,09/01/2016 12:07:25 AM,,DOT,Department of Transportation,Street Condition,\"Rough, Pitted or Cracked Roads\",Street,11367,,,,,MAIN STREET,68 DRIVE,INTERSECTION,FLUSHING,,N/A,Open,11/30/2016 12:07:25 AM,The Department of Transportation requires 90 days to respond to this type of complaint.  Please note your Service Request number for future reference.,,08 QUEENS,QUEENS,1032885,206014,Unspecified,QUEENS,Unspecified,Unspecified,Unspecified,Unspecified,Unspecified,Unspecified,Unspecified,Unspecified,Unspecified,N,,,,,,,,,,,,40.7320037982969,-73.82451584786384,\"(40.7320037982969, -73.82451584786384)\"\n",
      "\n",
      "34221511,09/01/2016 12:08:00 AM,09/01/2016 12:00:00 PM,DSNY,A - Queens,Dirty Conditions,E3 Dirty Sidewalk,Sidewalk,11416,95-24 89 STREET,89 STREET,95 AVENUE,97 AVENUE,,,ADDRESS,Ozone Park,,N/A,Closed,,The Department of Sanitation investigated this complaint and issued a Notice of Violation.,09/01/2016 12:00:00 PM,09 QUEENS,QUEENS,1025173,189045,Unspecified,QUEENS,Unspecified,Unspecified,Unspecified,Unspecified,Unspecified,Unspecified,Unspecified,Unspecified,Unspecified,,,,,,,,,,,,,40.68546702174521,-73.85244526015111,\"(40.68546702174521, -73.85244526015111)\"\n",
      "\n",
      "34217276,09/01/2016 12:08:16 AM,,ACS,ACS,Forms,Community Outreach,,,,,,,,,,,,,Email Sent,09/15/2016 12:09:13 AM,,,0 Unspecified,Unspecified,,,Unspecified,Unspecified,Unspecified,Unspecified,Unspecified,Unspecified,Unspecified,Unspecified,Unspecified,Unspecified,Unspecified,,,,,,,,,1-1-1299426410,,,,,,\n",
      "\n",
      "34217959,09/01/2016 12:08:39 AM,09/01/2016 04:05:02 AM,NYPD,New York City Police Department,Noise - Street/Sidewalk,Loud Music/Party,Street/Sidewalk,11225,916 CARROLL STREET,CARROLL STREET,WASHINGTON AVENUE,PEDESTRIAN OVERPASS,,,ADDRESS,BROOKLYN,,Precinct,Closed,09/01/2016 08:08:39 AM,The Police Department responded to the complaint and determined that police action was not necessary.,09/01/2016 04:05:02 AM,09 BROOKLYN,BROOKLYN,995025,182824,Unspecified,BROOKLYN,Unspecified,Unspecified,Unspecified,Unspecified,Unspecified,Unspecified,Unspecified,Unspecified,Unspecified,N,,,,,,,,,,,,40.668479828005744,-73.96115884217696,\"(40.668479828005744, -73.96115884217696)\"\n",
      "\n",
      "34210942,09/01/2016 12:08:43 AM,09/01/2016 01:36:15 AM,NYPD,New York City Police Department,Noise - Residential,Loud Music/Party,Residential Building/House,11372,35-43 84 STREET,84 STREET,35 AVENUE,37 AVENUE,,,ADDRESS,JACKSON HEIGHTS,,Precinct,Closed,09/01/2016 08:08:43 AM,The Police Department responded to the complaint and took action to fix the condition.,09/01/2016 01:36:15 AM,03 QUEENS,QUEENS,1016737,213135,Unspecified,QUEENS,Unspecified,Unspecified,Unspecified,Unspecified,Unspecified,Unspecified,Unspecified,Unspecified,Unspecified,N,,,,,,,,,,,,40.751623202335196,-73.88274636451436,\"(40.751623202335196, -73.88274636451436)\"\n",
      "\n",
      "34213767,09/01/2016 12:08:44 AM,09/02/2016 05:29:11 PM,DOT,Department of Transportation,Street Condition,Defective Hardware,Street,11367,141-26 68 DRIVE,68 DRIVE,141 STREET,MAIN STREET,,,ADDRESS,FLUSHING,,N/A,Closed,09/11/2016 12:08:44 AM,\"The  Department of Transportation inspected the condition you reported and issued a Corrective Action Repair (CAR) to the contractor or utility company. The responsible party has a maximum of 30 days to correct the condition. If after that time the condition still exists, the Agency may issue the responsible party a summons and/or correct the condition.\",09/02/2016 05:29:11 PM,08 QUEENS,QUEENS,1032646,205925,Unspecified,QUEENS,Unspecified,Unspecified,Unspecified,Unspecified,Unspecified,Unspecified,Unspecified,Unspecified,Unspecified,N,,,,,,,,,,,,40.731760826548225,-73.82537884231014,\"(40.731760826548225, -73.82537884231014)\"\n",
      "\n",
      "34214112,09/01/2016 12:09:01 AM,09/01/2016 01:31:12 AM,NYPD,New York City Police Department,Illegal Parking,Blocked Hydrant,Street/Sidewalk,11355,59-40 157 STREET,157 STREET,59 AVENUE,LONG ISLAND EXPRESSWAY,,,ADDRESS,FLUSHING,,Precinct,Closed,09/01/2016 08:09:01 AM,The Police Department responded and upon arrival those responsible for the condition were gone.,09/01/2016 01:31:12 AM,07 QUEENS,QUEENS,1036542,208762,Unspecified,QUEENS,Unspecified,Unspecified,Unspecified,Unspecified,Unspecified,Unspecified,Unspecified,Unspecified,Unspecified,N,,,,,,,,,,,,40.73952549828759,-73.81129938974755,\"(40.73952549828759, -73.81129938974755)\"\n",
      "\n",
      "34212140,09/01/2016 12:09:18 AM,,ACS,ACS,Forms,Community Outreach,,,,,,,,,,,,,Email Sent,09/15/2016 12:10:16 AM,,,0 Unspecified,Unspecified,,,Unspecified,Unspecified,Unspecified,Unspecified,Unspecified,Unspecified,Unspecified,Unspecified,Unspecified,Unspecified,Unspecified,,,,,,,,,1-1-1299426404,,,,,,\n",
      "\n",
      "34216046,09/01/2016 12:10:25 AM,09/01/2016 01:31:08 AM,NYPD,New York City Police Department,Noise - Park,Loud Talking,Park/Playground,11106,34-50 24 STREET,24 STREET,34 AVENUE,35 AVENUE,,,ADDRESS,ASTORIA,,Precinct,Closed,09/01/2016 08:10:25 AM,The Police Department responded and upon arrival those responsible for the condition were gone.,09/01/2016 01:31:08 AM,01 QUEENS,QUEENS,1003028,216533,Unspecified,QUEENS,Unspecified,Unspecified,Unspecified,Unspecified,Unspecified,Unspecified,Unspecified,Unspecified,Unspecified,N,,,,,,,,,,,,40.76098958340112,-73.93221602635003,\"(40.76098958340112, -73.93221602635003)\"\n",
      "\n",
      "34214014,09/01/2016 12:10:37 AM,09/01/2016 02:01:11 AM,NYPD,New York City Police Department,Noise - Residential,Loud Music/Party,Residential Building/House,11377,,,,,58 STREET,31 AVENUE,INTERSECTION,WOODSIDE,,Precinct,Closed,09/01/2016 08:10:37 AM,The Police Department responded to the complaint and with the information available observed no evidence of the violation at that time.,09/01/2016 02:01:11 AM,01 QUEENS,QUEENS,1010935,215224,Unspecified,QUEENS,Unspecified,Unspecified,Unspecified,Unspecified,Unspecified,Unspecified,Unspecified,Unspecified,Unspecified,N,,,,,,,,,,,,40.75737638603846,-73.9036789113306,\"(40.75737638603846, -73.9036789113306)\"\n",
      "\n",
      "34216956,09/01/2016 12:10:42 AM,09/01/2016 08:06:35 PM,NYPD,New York City Police Department,Noise - Residential,Loud Television,Residential Building/House,11229,3040 AVENUE W,AVENUE W,BATCHELDER STREET,BRAGG STREET,,,ADDRESS,BROOKLYN,,Precinct,Closed,09/01/2016 08:10:42 AM,The Police Department responded to the complaint and with the information available observed no evidence of the violation at that time.,09/01/2016 08:06:35 PM,15 BROOKLYN,BROOKLYN,1001875,156569,Unspecified,BROOKLYN,Unspecified,Unspecified,Unspecified,Unspecified,Unspecified,Unspecified,Unspecified,Unspecified,Unspecified,N,,,,,,,,,,,,40.596404450232136,-73.93653489611431,\"(40.596404450232136, -73.93653489611431)\"\n",
      "\n",
      "34226414,09/01/2016 12:11:00 AM,09/01/2016 04:05:00 AM,DEP,Department of Environmental Protection,Water System,Hydrant Running Full (WA4),,10040,97 ELLWOOD STREET,ELLWOOD STREET,W 196 ST,BEND,,,ADDRESS,NEW YORK,,N/A,Closed,,\"The Department of Environment Protection inspected your complaint but could not find the problem you reported. If the condition persists, please call 311 (or 212-639-9675 if calling from a non-New York City area code) with more detailed information to submit a new complaint.\",09/01/2016 04:05:00 AM,12 MANHATTAN,MANHATTAN,1003827,253156,Unspecified,MANHATTAN,Unspecified,Unspecified,Unspecified,Unspecified,Unspecified,Unspecified,Unspecified,Unspecified,Unspecified,,,,,,,,,,,,,40.861507758243285,-73.92922502137085,\"(40.861507758243285, -73.92922502137085)\"\n",
      "\n",
      "34224524,09/01/2016 12:11:00 AM,09/01/2016 12:00:00 PM,DSNY,A - Manhattan,Dirty Conditions,E3 Dirty Sidewalk,Sidewalk,10065,,,,,EAST 61 STREET,1 AVENUE,INTERSECTION,NEW YORK,,N/A,Closed,,The Department of Sanitation investigated this complaint and found no violation at the location.,09/01/2016 12:00:00 PM,08 MANHATTAN,MANHATTAN,995035,216480,Unspecified,MANHATTAN,Unspecified,Unspecified,Unspecified,Unspecified,Unspecified,Unspecified,Unspecified,Unspecified,Unspecified,,,,,,,,,,,,,40.76085747543163,-73.96106887544212,\"(40.76085747543163, -73.96106887544212)\"\n",
      "\n",
      "34217709,09/01/2016 12:11:24 AM,09/02/2016 04:54:51 PM,NYPD,New York City Police Department,Blocked Driveway,No Access,Street/Sidewalk,10466,4069 BARNES AVENUE,BARNES AVENUE,EAST 228 STREET,EAST 229 STREET,,,ADDRESS,BRONX,,Precinct,Closed,09/01/2016 08:11:24 AM,The Police Department reviewed your complaint and provided additional information below.,09/02/2016 04:54:51 PM,12 BRONX,BRONX,1023994,263312,Unspecified,BRONX,Unspecified,Unspecified,Unspecified,Unspecified,Unspecified,Unspecified,Unspecified,Unspecified,Unspecified,N,,,,,,,,,,,,40.8893150523013,-73.85625691673303,\"(40.8893150523013, -73.85625691673303)\"\n",
      "\n",
      "34218143,09/01/2016 12:11:41 AM,09/01/2016 02:11:56 AM,NYPD,New York City Police Department,Noise - Residential,Banging/Pounding,Residential Building/House,11355,142-12 41 AVENUE,41 AVENUE,UNION STREET,BOWNE STREET,,,ADDRESS,FLUSHING,,Precinct,Closed,09/01/2016 08:11:41 AM,The Police Department responded to the complaint and with the information available observed no evidence of the violation at that time.,09/01/2016 02:11:56 AM,07 QUEENS,QUEENS,1032597,216015,Unspecified,QUEENS,Unspecified,Unspecified,Unspecified,Unspecified,Unspecified,Unspecified,Unspecified,Unspecified,Unspecified,N,,,,,,,,,,,,40.759455560769595,-73.8254831111012,\"(40.759455560769595, -73.8254831111012)\"\n",
      "\n",
      "34222231,09/01/2016 12:13:00 AM,09/01/2016 12:00:00 PM,DSNY,Brooklyn South 10,Derelict Vehicles,14 Derelict Vehicles,Street,11209,9321 RIDGE BOULEVARD,RIDGE BOULEVARD,93 STREET,94 STREET,,,ADDRESS,BROOKLYN,,N/A,Pending,,The Department of Sanitation removed the items.,09/01/2016 12:13:00 AM,10 BROOKLYN,BROOKLYN,974316,164824,Unspecified,BROOKLYN,Unspecified,Unspecified,Unspecified,Unspecified,Unspecified,Unspecified,Unspecified,Unspecified,Unspecified,,,,,,,,,,,,,40.619074690688336,-74.03578305984678,\"(40.619074690688336, -74.03578305984678)\"\n",
      "\n",
      "34217303,09/01/2016 12:13:16 AM,09/01/2016 02:56:50 AM,NYPD,New York City Police Department,Illegal Parking,Double Parked Blocking Traffic,Street/Sidewalk,10003,BOWERY,BOWERY,,,,,LATLONG,NEW YORK,,Precinct,Closed,09/01/2016 08:13:16 AM,The Police Department responded to the complaint and with the information available observed no evidence of the violation at that time.,09/01/2016 02:56:50 AM,03 MANHATTAN,MANHATTAN,986426,203499,Unspecified,MANHATTAN,Unspecified,Unspecified,Unspecified,Unspecified,Unspecified,Unspecified,Unspecified,Unspecified,Unspecified,N,,,,,,,,,,,,40.72523418153373,-73.99214938889838,\"(40.72523418153373, -73.99214938889838)\"\n",
      "\n",
      "34213421,09/01/2016 12:13:22 AM,09/01/2016 04:19:55 AM,NYPD,New York City Police Department,Noise - Street/Sidewalk,Loud Music/Party,Street/Sidewalk,11238,135 EASTERN PARKWAY,EASTERN PARKWAY,UNDERHILL AVENUE,BEND,,,ADDRESS,BROOKLYN,,Precinct,Closed,09/01/2016 08:13:22 AM,The Police Department responded to the complaint and with the information available observed no evidence of the violation at that time.,09/01/2016 04:19:55 AM,08 BROOKLYN,BROOKLYN,994156,184165,Unspecified,BROOKLYN,Unspecified,Unspecified,Unspecified,Unspecified,Unspecified,Unspecified,Unspecified,Unspecified,Unspecified,N,,,,,,,,,,,,40.67216158783738,-73.96428939702098,\"(40.67216158783738, -73.96428939702098)\"\n",
      "\n",
      "34215972,09/01/2016 12:13:30 AM,09/01/2016 05:56:13 AM,NYPD,New York City Police Department,Blocked Driveway,No Access,Street/Sidewalk,11411,118-28 219 STREET,219 STREET,118 AVENUE,119 AVENUE,,,ADDRESS,CAMBRIA HEIGHTS,,Precinct,Closed,09/01/2016 08:13:30 AM,The Police Department responded and upon arrival those responsible for the condition were gone.,09/01/2016 05:56:13 AM,13 QUEENS,QUEENS,1055754,191946,Unspecified,QUEENS,Unspecified,Unspecified,Unspecified,Unspecified,Unspecified,Unspecified,Unspecified,Unspecified,Unspecified,N,,,,,,,,,,,,40.693235345638115,-73.74215004653367,\"(40.693235345638115, -73.74215004653367)\"\n",
      "\n",
      "34222268,09/01/2016 12:14:00 AM,,DEP,Department of Environmental Protection,Noise,Noise: Jack Hammering (NC2),,10001,401 WEST   31 STREET,WEST   31 STREET,9 AVE,LINCOLN TUNNEL APPROACH,,,ADDRESS,NEW YORK,,N/A,Open,,,,04 MANHATTAN,MANHATTAN,984824,213090,Unspecified,MANHATTAN,Unspecified,Unspecified,Unspecified,Unspecified,Unspecified,Unspecified,Unspecified,Unspecified,Unspecified,,,,,,,,,,,,,40.75155934859421,-73.99792829432809,\"(40.75155934859421, -73.99792829432809)\"\n",
      "\n",
      "34221144,09/01/2016 12:14:00 AM,09/02/2016 12:14:00 AM,DEP,Department of Environmental Protection,Lead,Lead Kit Request (Residential) (L10),,10012,2 WASHINGTON SQUARE VILLAGE,WASHINGTON SQUARE VILLAGE,MERCER ST,W BROADWAY,,,ADDRESS,NEW YORK,,N/A,Closed,,The Department of Environmental Protection investigated this complaint and created a Service Request to have a Lead Test Kit sent to the complainant.,09/02/2016 12:14:00 AM,02 MANHATTAN,MANHATTAN,985366,204639,Unspecified,MANHATTAN,Unspecified,Unspecified,Unspecified,Unspecified,Unspecified,Unspecified,Unspecified,Unspecified,Unspecified,,,,,,,,,,,,,40.72836340128487,-73.99597348649338,\"(40.72836340128487, -73.99597348649338)\"\n",
      "\n",
      "34213744,09/01/2016 12:14:12 AM,09/01/2016 05:56:09 AM,NYPD,New York City Police Department,Noise - Commercial,Loud Music/Party,Club/Bar/Restaurant,11433,92-06 173 STREET,173 STREET,JAMAICA AVENUE,93 AVENUE,,,ADDRESS,JAMAICA,,Precinct,Closed,09/01/2016 08:14:12 AM,The Police Department responded to the complaint and with the information available observed no evidence of the violation at that time.,09/01/2016 05:56:09 AM,12 QUEENS,QUEENS,1043415,197121,Unspecified,QUEENS,Unspecified,Unspecified,Unspecified,Unspecified,Unspecified,Unspecified,Unspecified,Unspecified,Unspecified,N,,,,,,,,,,,,40.70753055918456,-73.78659995072763,\"(40.70753055918456, -73.78659995072763)\"\n",
      "\n",
      "34224352,09/01/2016 12:15:00 AM,09/01/2016 12:00:00 PM,DSNY,Bronx 04,Sanitation Condition,15 Street Cond/Dump-Out/Drop-Off,Street,10456,1420 GRAND CONCOURSE,GRAND CONCOURSE,EAST 170 STREET,EAST 171 STREET,,,ADDRESS,BRONX,,N/A,Closed,,The Department of Sanitation investigated this complaint and issued a Notice of Violation.,09/01/2016 12:00:00 PM,04 BRONX,BRONX,1008199,245050,Unspecified,BRONX,Unspecified,Unspecified,Unspecified,Unspecified,Unspecified,Unspecified,Unspecified,Unspecified,Unspecified,,,,,,,,,,,,,40.83924842108658,-73.9134482849396,\"(40.83924842108658, -73.9134482849396)\"\n",
      "\n",
      "34223699,09/01/2016 12:15:00 AM,,DEP,Department of Environmental Protection,Air Quality,\"Air: Smoke, Chimney or vent (AS1)\",,10009,,,,,A AVENUE,EAST 5 STREET,INTERSECTION,NEW YORK,,N/A,Open,,,,03 MANHATTAN,MANHATTAN,988573,203364,Unspecified,MANHATTAN,Unspecified,Unspecified,Unspecified,Unspecified,Unspecified,Unspecified,Unspecified,Unspecified,Unspecified,,,,,,,,,,,,,40.72486285062061,-73.98440349134948,\"(40.72486285062061, -73.98440349134948)\"\n",
      "\n",
      "34213166,09/01/2016 12:15:00 AM,09/01/2016 04:50:32 AM,NYPD,New York City Police Department,Noise - Street/Sidewalk,Loud Talking,Street/Sidewalk,11221,646 KOSCIUSKO STREET,KOSCIUSKO STREET,BROADWAY,BUSHWICK AVENUE,,,ADDRESS,BROOKLYN,,Precinct,Closed,09/01/2016 08:15:00 AM,The Police Department responded and upon arrival those responsible for the condition were gone.,09/01/2016 04:50:32 AM,04 BROOKLYN,BROOKLYN,1004273,192099,Unspecified,BROOKLYN,Unspecified,Unspecified,Unspecified,Unspecified,Unspecified,Unspecified,Unspecified,Unspecified,Unspecified,N,,,,,,,,,,,,40.6939215015067,-73.9277945865984,\"(40.6939215015067, -73.9277945865984)\"\n",
      "\n",
      "34212338,09/01/2016 12:15:50 AM,09/01/2016 06:08:20 AM,NYPD,New York City Police Department,Noise - Street/Sidewalk,Loud Music/Party,Street/Sidewalk,11434,114-46 158 STREET,158 STREET,MEYER AVENUE,115 ROAD,,,ADDRESS,JAMAICA,,Precinct,Closed,09/01/2016 08:15:50 AM,The Police Department responded to the complaint and with the information available observed no evidence of the violation at that time.,09/01/2016 06:08:20 AM,12 QUEENS,QUEENS,1042873,189735,Unspecified,QUEENS,Unspecified,Unspecified,Unspecified,Unspecified,Unspecified,Unspecified,Unspecified,Unspecified,Unspecified,N,,,,,,,,,,,,40.68726137504832,-73.7886191483978,\"(40.68726137504832, -73.7886191483978)\"\n",
      "\n",
      "34210938,09/01/2016 12:15:55 AM,09/01/2016 11:23:34 PM,NYPD,New York City Police Department,Noise - Residential,Loud Music/Party,Residential Building/House,10454,282 BROOK AVENUE,BROOK AVENUE,EAST 139 STREET,EAST 140 STREET,,,ADDRESS,BRONX,,Precinct,Closed,09/01/2016 08:15:55 AM,The Police Department responded to the complaint and with the information available observed no evidence of the violation at that time.,09/01/2016 11:23:34 PM,01 BRONX,BRONX,1006781,233878,Unspecified,BRONX,Unspecified,Unspecified,Unspecified,Unspecified,Unspecified,Unspecified,Unspecified,Unspecified,Unspecified,N,,,,,,,,,,,,40.80858819601399,-73.91861044996179,\"(40.80858819601399, -73.91861044996179)\"\n",
      "\n",
      "34216167,09/01/2016 12:16:00 AM,09/02/2016 11:20:00 PM,DOT,Department of Transportation,Street Light Condition,Street Light Out,,,677 204 ST W,204 ST W,BROADWAY,COOPER ST,,,ADDRESS,,,N/A,Closed,,Service Request status for this request is available on the Department of Transportationâs website. Please click the âLearn Moreâ link below.,09/02/2016 11:20:00 PM,Unspecified MANHATTAN,MANHATTAN,,,Unspecified,MANHATTAN,Unspecified,Unspecified,Unspecified,Unspecified,Unspecified,Unspecified,Unspecified,Unspecified,Unspecified,,,,,,,,,,,,,,,\n",
      "\n",
      "34216756,09/01/2016 12:16:47 AM,09/02/2016 11:34:16 AM,DCA,Department of Consumer Affairs,Consumer Complaint,Overcharge,,11417,135-45 CROSS BAY BOULEVARD,CROSS BAY BOULEVARD,REDDING STREET,PITKIN AVENUE,,,ADDRESS,OZONE PARK,,N/A,Closed,09/05/2016 12:16:47 AM,\"Unfortunately, the behavior that you complained about does not violate any law or rule. As a result, no city agency has the jurisdiction to act on the matter.\",09/02/2016 11:34:16 AM,10 QUEENS,QUEENS,1027732,184438,Unspecified,QUEENS,Unspecified,Unspecified,Unspecified,Unspecified,Unspecified,Unspecified,Unspecified,Unspecified,Unspecified,N,,,,,,,,,,,,40.672809669126686,-73.84324810086851,\"(40.672809669126686, -73.84324810086851)\"\n",
      "\n",
      "34213978,09/01/2016 12:17:06 AM,09/01/2016 02:28:50 AM,NYPD,New York City Police Department,Noise - Commercial,Loud Music/Party,Club/Bar/Restaurant,11236,1370 ROCKAWAY PARKWAY,ROCKAWAY PARKWAY,FARRAGUT ROAD,SMITHS LANE,,,ADDRESS,BROOKLYN,,Precinct,Closed,09/01/2016 08:17:06 AM,The Police Department responded to the complaint and with the information available observed no evidence of the violation at that time.,09/01/2016 02:28:50 AM,18 BROOKLYN,BROOKLYN,1010983,174768,Unspecified,BROOKLYN,Unspecified,Unspecified,Unspecified,Unspecified,Unspecified,Unspecified,Unspecified,Unspecified,Unspecified,N,,,,,,,,,,,,40.646334085527656,-73.90366624505096,\"(40.646334085527656, -73.90366624505096)\"\n",
      "\n",
      "34216504,09/01/2016 12:17:42 AM,09/01/2016 06:08:23 AM,NYPD,New York City Police Department,Noise - Street/Sidewalk,Loud Music/Party,Street/Sidewalk,11434,114-38 158 STREET,158 STREET,MEYER AVENUE,115 ROAD,,,ADDRESS,JAMAICA,,Precinct,Closed,09/01/2016 08:17:42 AM,The Police Department responded to the complaint and with the information available observed no evidence of the violation at that time.,09/01/2016 06:08:23 AM,12 QUEENS,QUEENS,1042844,189758,Unspecified,QUEENS,Unspecified,Unspecified,Unspecified,Unspecified,Unspecified,Unspecified,Unspecified,Unspecified,Unspecified,N,,,,,,,,,,,,40.6873246966227,-73.78872351519618,\"(40.6873246966227, -73.78872351519618)\"\n",
      "\n",
      "34213839,09/01/2016 12:17:52 AM,09/01/2016 06:09:43 AM,NYPD,New York City Police Department,Noise - Street/Sidewalk,Loud Music/Party,Street/Sidewalk,11238,842 WASHINGTON AVENUE,WASHINGTON AVENUE,ST JOHNS PLACE,LINCOLN PLACE,,,ADDRESS,BROOKLYN,,Precinct,Closed,09/01/2016 08:17:52 AM,The Police Department responded to the complaint and with the information available observed no evidence of the violation at that time.,09/01/2016 06:09:43 AM,08 BROOKLYN,BROOKLYN,994556,184471,Unspecified,BROOKLYN,Unspecified,Unspecified,Unspecified,Unspecified,Unspecified,Unspecified,Unspecified,Unspecified,Unspecified,N,,,,,,,,,,,,40.67300103249724,-73.96284695060235,\"(40.67300103249724, -73.96284695060235)\"\n",
      "\n",
      "34217179,09/01/2016 12:18:13 AM,09/01/2016 05:10:02 AM,NYPD,New York City Police Department,Illegal Parking,Blocked Hydrant,Street/Sidewalk,11218,1163 40 STREET,40 STREET,FT HAMILTON PARKWAY,12 AVENUE,,,ADDRESS,BROOKLYN,,Precinct,Closed,09/01/2016 08:18:13 AM,The Police Department issued a summons in response to the complaint.,09/01/2016 05:10:02 AM,12 BROOKLYN,BROOKLYN,987044,173146,Unspecified,BROOKLYN,Unspecified,Unspecified,Unspecified,Unspecified,Unspecified,Unspecified,Unspecified,Unspecified,Unspecified,N,,,,,,,,,,,,40.64192195131148,-73.9899323435359,\"(40.64192195131148, -73.9899323435359)\"\n",
      "\n",
      "34216324,09/01/2016 12:18:28 AM,,ACS,ACS,Forms,Community Outreach,,,,,,,,,,,,,Email Sent,09/15/2016 12:18:34 AM,,,0 Unspecified,Unspecified,,,Unspecified,Unspecified,Unspecified,Unspecified,Unspecified,Unspecified,Unspecified,Unspecified,Unspecified,Unspecified,Unspecified,,,,,,,,,1-1-1299426407,,,,,,\n",
      "\n",
      "34211957,09/01/2016 12:19:32 AM,09/01/2016 03:28:33 AM,NYPD,New York City Police Department,Illegal Parking,Blocked Hydrant,Street/Sidewalk,11204,2131 71 STREET,71 STREET,21 AVENUE,BAY PARKWAY,,,ADDRESS,BROOKLYN,,Precinct,Closed,09/01/2016 08:19:32 AM,The Police Department responded to the complaint and determined that police action was not necessary.,09/01/2016 03:28:33 AM,11 BROOKLYN,BROOKLYN,988033,161993,Unspecified,BROOKLYN,Unspecified,Unspecified,Unspecified,Unspecified,Unspecified,Unspecified,Unspecified,Unspecified,Unspecified,N,,,,,,,,,,,,40.61130894279118,-73.98637491794774,\"(40.61130894279118, -73.98637491794774)\"\n",
      "\n",
      "34211967,09/01/2016 12:19:49 AM,09/01/2016 04:05:03 AM,NYPD,New York City Police Department,Noise - Residential,Loud Music/Party,Residential Building/House,11225,,,,,UNION STREET,CLASSON AVENUE,INTERSECTION,BROOKLYN,,Precinct,Closed,09/01/2016 08:19:49 AM,The Police Department responded to the complaint and determined that police action was not necessary.,09/01/2016 04:05:03 AM,09 BROOKLYN,BROOKLYN,994885,183552,Unspecified,BROOKLYN,Unspecified,Unspecified,Unspecified,Unspecified,Unspecified,Unspecified,Unspecified,Unspecified,Unspecified,N,,,,,,,,,,,,40.670478194523135,-73.96166235828056,\"(40.670478194523135, -73.96166235828056)\"\n",
      "\n",
      "34212999,09/01/2016 12:20:27 AM,09/01/2016 01:58:51 AM,NYPD,New York City Police Department,Illegal Parking,Posted Parking Sign Violation,Street/Sidewalk,10027,3002 BROADWAY,BROADWAY,WEST 116 STREET,WEST 120 STREET,,,ADDRESS,NEW YORK,,Precinct,Closed,09/01/2016 08:20:27 AM,The Police Department responded to the complaint and with the information available observed no evidence of the violation at that time.,09/01/2016 01:58:51 AM,09 MANHATTAN,MANHATTAN,994449,234020,Unspecified,MANHATTAN,Unspecified,Unspecified,Unspecified,Unspecified,Unspecified,Unspecified,Unspecified,Unspecified,Unspecified,N,,,,,,,,,,,,40.80900078927538,-73.96315755751426,\"(40.80900078927538, -73.96315755751426)\"\n",
      "\n",
      "34214166,09/01/2016 12:21:04 AM,09/01/2016 12:47:21 AM,NYPD,New York City Police Department,Noise - Park,Loud Music/Party,Park/Playground,10023,235 WEST 63 STREET,WEST 63 STREET,PEDESTRIAN PATH,WEST END AVENUE,,,ADDRESS,NEW YORK,,Precinct,Closed,09/01/2016 08:21:04 AM,The Police Department responded to the complaint and took action to fix the condition.,09/01/2016 12:47:21 AM,07 MANHATTAN,MANHATTAN,987616,221189,Unspecified,MANHATTAN,Unspecified,Unspecified,Unspecified,Unspecified,Unspecified,Unspecified,Unspecified,Unspecified,Unspecified,N,,,,,,,,,,,,40.77378839670657,-73.98784723163601,\"(40.77378839670657, -73.98784723163601)\"\n",
      "\n",
      "34214406,09/01/2016 12:21:21 AM,09/01/2016 06:02:06 AM,NYPD,New York City Police Department,Blocked Driveway,Partial Access,Street/Sidewalk,11413,220-02 135 AVENUE,135 AVENUE,220 STREET,220 PLACE,,,ADDRESS,SPRINGFIELD GARDENS,,Precinct,Closed,09/01/2016 08:21:21 AM,The Police Department responded to the complaint and with the information available observed no evidence of the violation at that time.,09/01/2016 06:02:07 AM,13 QUEENS,QUEENS,1053495,186226,Unspecified,QUEENS,Unspecified,Unspecified,Unspecified,Unspecified,Unspecified,Unspecified,Unspecified,Unspecified,Unspecified,N,,,,,,,,,,,,40.67755328034302,-73.75035494665852,\"(40.67755328034302, -73.75035494665852)\"\n",
      "\n",
      "34213441,09/01/2016 12:21:59 AM,09/01/2016 04:19:54 AM,NYPD,New York City Police Department,Noise - Park,Loud Music/Party,Park/Playground,11238,,,,,UNDERHILL AVENUE,EASTERN PARKWAY,INTERSECTION,BROOKLYN,,Precinct,Closed,09/01/2016 08:21:59 AM,The Police Department responded to the complaint and with the information available observed no evidence of the violation at that time.,09/01/2016 04:19:54 AM,08 BROOKLYN,BROOKLYN,993280,184460,Unspecified,BROOKLYN,Unspecified,Unspecified,Unspecified,Unspecified,Unspecified,Unspecified,Unspecified,Unspecified,Unspecified,N,,,,,,,,,,,,40.672972233472,-73.96744693490606,\"(40.672972233472, -73.96744693490606)\"\n",
      "\n",
      "34225420,09/01/2016 12:22:00 AM,09/01/2016 12:24:00 AM,DEP,Department of Environmental Protection,Water System,Hydrant Running Full (WA4),,10031,513 WEST  135 STREET,WEST  135 STREET,AMSTERDAM AVE,BROADWAY,,,ADDRESS,NEW YORK,,N/A,Closed,,The Department of Environmental Protection determined that this complaint is a duplicate of a previously filed complaint. The original complaint is being addressed.,09/01/2016 12:24:00 AM,09 MANHATTAN,MANHATTAN,997301,237743,Unspecified,MANHATTAN,Unspecified,Unspecified,Unspecified,Unspecified,Unspecified,Unspecified,Unspecified,Unspecified,Unspecified,,,,,,,,,,,,,40.819215630339144,-73.95284787409446,\"(40.819215630339144, -73.95284787409446)\"\n",
      "\n",
      "34215208,09/01/2016 12:22:00 AM,,DOT,Department of Transportation,Street Light Condition,Street Light Out,,,314 100 ST E,100 ST E,1 AVE,2 AVE,,,ADDRESS,,,N/A,Assigned,,Service Request status for this request is available on the Department of Transportationâs website. Please click the âLearn Moreâ link below.,09/01/2016 09:55:00 PM,Unspecified MANHATTAN,MANHATTAN,,,Unspecified,MANHATTAN,Unspecified,Unspecified,Unspecified,Unspecified,Unspecified,Unspecified,Unspecified,Unspecified,Unspecified,,,,,,,,,,,,,,,\n",
      "\n",
      "34211102,09/01/2016 12:22:45 AM,,DOT,Department of Transportation,Street Condition,Pothole,,11223,2261 EAST    8 STREET,EAST    8 STREET,AVENUE V,GRAVESEND NECK ROAD,,,ADDRESS,BROOKLYN,,N/A,Open,,The Department of Transportation referred this complaint to the appropriate Maintenance Unit for repair.,09/01/2016 12:22:45 AM,15 BROOKLYN,BROOKLYN,994691,155989,Unspecified,BROOKLYN,Unspecified,Unspecified,Unspecified,Unspecified,Unspecified,Unspecified,Unspecified,Unspecified,Unspecified,,,,,,,,,,,,,40.59482384199664,-73.96240434458852,\"(40.59482384199664, -73.96240434458852)\"\n",
      "\n",
      "34211752,09/01/2016 12:23:00 AM,09/01/2016 10:20:00 PM,DOT,Department of Transportation,Street Light Condition,Street Light Out,,,,,,,1 AVE,100 ST E,INTERSECTION,,,N/A,Closed,,Service Request status for this request is available on the Department of Transportationâs website. Please click the âLearn Moreâ link below.,09/01/2016 10:20:00 PM,Unspecified MANHATTAN,MANHATTAN,,,Unspecified,MANHATTAN,Unspecified,Unspecified,Unspecified,Unspecified,Unspecified,Unspecified,Unspecified,Unspecified,Unspecified,,,,,,,,,,,,,,,\n",
      "\n",
      "34224255,09/01/2016 12:24:00 AM,,DEP,Department of Environmental Protection,Noise,Noise: Construction Before/After Hours (NM1),,10039,,,,,WEST 155 STREET,FREDERICK DOUGLASS BOULEVARD,INTERSECTION,NEW YORK,,N/A,Open,,,,10 MANHATTAN,MANHATTAN,1001611,241370,Unspecified,MANHATTAN,Unspecified,Unspecified,Unspecified,Unspecified,Unspecified,Unspecified,Unspecified,Unspecified,Unspecified,,,,,,,,,,,,,40.82916329411408,-73.93726683976101,\"(40.82916329411408, -73.93726683976101)\"\n",
      "\n",
      "34216968,09/01/2016 12:24:00 AM,09/01/2016 09:33:00 AM,DOT,Department of Transportation,Street Light Condition,Street Light Out,,11362,,,,,57 AVENUE,255 STREET,INTERSECTION,Little Neck,,N/A,Closed,,Service Request status for this request is available on the Department of Transportationâs website. Please click the âLearn Moreâ link below.,09/01/2016 09:33:00 AM,11 QUEENS,QUEENS,1060234,217434,Unspecified,QUEENS,Unspecified,Unspecified,Unspecified,Unspecified,Unspecified,Unspecified,Unspecified,Unspecified,Unspecified,,,,,,,,,,,,,40.76315601171262,-73.72570705681578,\"(40.76315601171262, -73.72570705681578)\"\n",
      "\n",
      "34216052,09/01/2016 12:24:10 AM,09/01/2016 04:40:17 PM,DPR,Department of Parks and Recreation,Damaged Tree,Branch or Limb Has Fallen Down,Street,11377,50-14 BROADWAY,BROADWAY,49 STREET,51 STREET,,,ADDRESS,WOODSIDE,,N/A,Closed,09/09/2016 06:27:18 AM,No action was taken because the Department of Parks and Recreation determined that the issue is out of its jurisdiction. The condition may be on private property or in an area serviced by another organization.,09/01/2016 04:40:17 PM,01 QUEENS,QUEENS,1009017,214363,Unspecified,QUEENS,Unspecified,Unspecified,Unspecified,Unspecified,Unspecified,Unspecified,Unspecified,Unspecified,Unspecified,,,,,,,,,,,,,40.75501874230602,-73.91060521258929,\"(40.75501874230602, -73.91060521258929)\"\n",
      "\n",
      "34225272,09/01/2016 12:25:00 AM,,DEP,Department of Environmental Protection,Noise,Noise: Jack Hammering (NC2),,10001,406 WEST   31 STREET,WEST   31 STREET,9 AVE,LINCOLN TUNNEL APPROACH,,,ADDRESS,NEW YORK,,N/A,Open,,,,04 MANHATTAN,MANHATTAN,984765,213117,Unspecified,MANHATTAN,Unspecified,Unspecified,Unspecified,Unspecified,Unspecified,Unspecified,Unspecified,Unspecified,Unspecified,,,,,,,,,,,,,40.75163346039767,-73.99814123761671,\"(40.75163346039767, -73.99814123761671)\"\n",
      "\n",
      "34222223,09/01/2016 12:25:00 AM,,DEP,Department of Environmental Protection,Noise,Noise: Construction Before/After Hours (NM1),,10001,460 WEST   31 STREET,WEST   31 STREET,LINCOLN TUNNEL APPROACH,10 AVE,,,ADDRESS,NEW YORK,,N/A,Open,,,,04 MANHATTAN,MANHATTAN,984275,213402,Unspecified,MANHATTAN,Unspecified,Unspecified,Unspecified,Unspecified,Unspecified,Unspecified,Unspecified,Unspecified,Unspecified,,,,,,,,,,,,,40.75241572822062,-73.99990976775675,\"(40.75241572822062, -73.99990976775675)\"\n",
      "\n",
      "34218580,09/01/2016 12:25:32 AM,09/01/2016 04:19:53 AM,NYPD,New York City Police Department,Noise - Street/Sidewalk,Loud Music/Party,Street/Sidewalk,11238,125 EASTERN PARKWAY,EASTERN PARKWAY,UNDERHILL AVENUE,BEND,,,ADDRESS,BROOKLYN,,Precinct,Closed,09/01/2016 08:25:32 AM,The Police Department responded to the complaint and with the information available observed no evidence of the violation at that time.,09/01/2016 04:19:53 AM,08 BROOKLYN,BROOKLYN,993913,184267,Unspecified,BROOKLYN,Unspecified,Unspecified,Unspecified,Unspecified,Unspecified,Unspecified,Unspecified,Unspecified,Unspecified,N,,,,,,,,,,,,40.672441823514696,-73.96516525277444,\"(40.672441823514696, -73.96516525277444)\"\n",
      "\n",
      "34211701,09/01/2016 12:25:34 AM,09/01/2016 04:06:06 AM,NYPD,New York City Police Department,Noise - Street/Sidewalk,Loud Music/Party,Street/Sidewalk,11225,,,,,WASHINGTON AVENUE,CARROLL STREET,INTERSECTION,BROOKLYN,,Precinct,Closed,09/01/2016 08:25:34 AM,The Police Department responded to the complaint and determined that police action was not necessary.,09/01/2016 04:06:06 AM,09 BROOKLYN,BROOKLYN,994793,182891,Unspecified,BROOKLYN,Unspecified,Unspecified,Unspecified,Unspecified,Unspecified,Unspecified,Unspecified,Unspecified,Unspecified,N,,,,,,,,,,,,40.66866400736249,-73.96199503878134,\"(40.66866400736249, -73.96199503878134)\"\n",
      "\n",
      "34218966,09/01/2016 12:26:02 AM,09/01/2016 03:42:01 PM,NYPD,New York City Police Department,Noise - Street/Sidewalk,Loud Talking,Street/Sidewalk,10040,129 NAGLE AVENUE,NAGLE AVENUE,SICKLES STREET,ARDEN STREET,,,ADDRESS,NEW YORK,,Precinct,Closed,09/01/2016 08:26:02 AM,The Police Department responded to the complaint and with the information available observed no evidence of the violation at that time.,09/01/2016 03:42:01 PM,12 MANHATTAN,MANHATTAN,1004500,252913,Unspecified,MANHATTAN,Unspecified,Unspecified,Unspecified,Unspecified,Unspecified,Unspecified,Unspecified,Unspecified,Unspecified,N,,,,,,,,,,,,40.860839278581864,-73.92679271990852,\"(40.860839278581864, -73.92679271990852)\"\n",
      "\n",
      "34223817,09/01/2016 12:26:12 AM,,HPD,Department of Housing Preservation and Development,DOOR/WINDOW,DOOR,RESIDENTIAL BUILDING,10454,282 BROOK AVENUE,BROOK AVENUE,,,,,ADDRESS,BRONX,,N/A,Open,,\"The Department of Housing Preservation and Development was not able to gain access to inspect the conditions. If the conditions still exist and an inspection is required, please contact the borough office with your complaint number at 718 579-6777 (BRONX).\",09/01/2016 12:00:00 AM,01 BRONX,BRONX,1006781,233878,Unspecified,BRONX,Unspecified,Unspecified,Unspecified,Unspecified,Unspecified,Unspecified,Unspecified,Unspecified,Unspecified,,,,,,,,,,,,,40.80858819601399,-73.91861044996179,\"(40.80858819601399, -73.91861044996179)\"\n",
      "\n",
      "34218182,09/01/2016 12:26:27 AM,09/01/2016 01:35:03 AM,NYPD,New York City Police Department,Noise - Residential,Banging/Pounding,Residential Building/House,11212,501 THATFORD AVENUE,THATFORD AVENUE,LOTT AVENUE,HEGEMAN AVENUE,,,ADDRESS,BROOKLYN,,Precinct,Closed,09/01/2016 08:26:27 AM,The Police Department responded to the complaint and took action to fix the condition.,09/01/2016 01:35:04 AM,16 BROOKLYN,BROOKLYN,1010154,178838,Unspecified,BROOKLYN,Unspecified,Unspecified,Unspecified,Unspecified,Unspecified,Unspecified,Unspecified,Unspecified,Unspecified,N,,,,,,,,,,,,40.65750780667287,-73.90663795568324,\"(40.65750780667287, -73.90663795568324)\"\n",
      "\n",
      "34216138,09/01/2016 12:28:10 AM,09/01/2016 03:28:20 AM,NYPD,New York City Police Department,Noise - Residential,Banging/Pounding,Residential Building/House,10457,2089 ANTHONY AVENUE,ANTHONY AVENUE,EAST 180 STREET,EAST 181 STREET,,,ADDRESS,BRONX,,Precinct,Closed,09/01/2016 08:28:10 AM,The Police Department responded to the complaint and with the information available observed no evidence of the violation at that time.,09/01/2016 03:28:20 AM,05 BRONX,BRONX,1011471,250229,Unspecified,BRONX,Unspecified,Unspecified,Unspecified,Unspecified,Unspecified,Unspecified,Unspecified,Unspecified,Unspecified,N,,,,,,,,,,,,40.853453764088435,-73.90160225766626,\"(40.853453764088435, -73.90160225766626)\"\n",
      "\n",
      "34218992,09/01/2016 12:28:44 AM,09/01/2016 03:42:05 PM,NYPD,New York City Police Department,Noise - Street/Sidewalk,Loud Music/Party,Street/Sidewalk,10040,600 WEST 192 STREET,WEST 192 STREET,ST NICHOLAS AVENUE,WADSWORTH AVENUE,,,ADDRESS,NEW YORK,,Precinct,Closed,09/01/2016 08:28:44 AM,The Police Department responded to the complaint and with the information available observed no evidence of the violation at that time.,09/01/2016 03:42:05 PM,12 MANHATTAN,MANHATTAN,1003928,251236,Unspecified,MANHATTAN,Unspecified,Unspecified,Unspecified,Unspecified,Unspecified,Unspecified,Unspecified,Unspecified,Unspecified,N,,,,,,,,,,,,40.85623771170069,-73.92886552195142,\"(40.85623771170069, -73.92886552195142)\"\n",
      "\n",
      "34217470,09/01/2016 12:29:13 AM,,3-1-1,311 Executive Office - EC,Agency Issues,Call Center Complaint,,,,,,,,,,,,N/A,Open,09/15/2016 12:33:46 AM,Your comments have been submitted to the 311 Call Center.  Status is usually available in 14 days. Please note your service request number for future reference.,,0 Unspecified,Unspecified,,,Unspecified,Unspecified,Unspecified,Unspecified,Unspecified,Unspecified,Unspecified,Unspecified,Unspecified,Unspecified,Unspecified,N,,,,,,,,,,,,,,\n",
      "\n",
      "34214839,09/01/2016 12:29:20 AM,09/01/2016 08:06:34 PM,NYPD,New York City Police Department,Noise - Residential,Loud Television,Residential Building/House,11229,3040 AVENUE W,AVENUE W,BATCHELDER STREET,BRAGG STREET,,,ADDRESS,BROOKLYN,,Precinct,Closed,09/01/2016 08:29:20 AM,The Police Department responded to the complaint and with the information available observed no evidence of the violation at that time.,09/01/2016 08:06:34 PM,15 BROOKLYN,BROOKLYN,1001875,156569,Unspecified,BROOKLYN,Unspecified,Unspecified,Unspecified,Unspecified,Unspecified,Unspecified,Unspecified,Unspecified,Unspecified,N,,,,,,,,,,,,40.596404450232136,-73.93653489611431,\"(40.596404450232136, -73.93653489611431)\"\n",
      "\n",
      "34216795,09/01/2016 12:30:55 AM,09/01/2016 12:31:35 AM,HRA,HRA Benefit Card Replacement,Benefit Card Replacement,Food Stamp,NYC Street Address,,,,,,,,,,,N/A,Closed,,\"The Human Resources Administration received your request. If you are eligible for a benefit card replacement, you will receive it in 7 to 10 business days. No further updates will be available by calling 311 or on 311 Online.\",,0 Unspecified,Unspecified,,,Unspecified,Unspecified,Unspecified,Unspecified,Unspecified,Unspecified,Unspecified,Unspecified,Unspecified,Unspecified,Unspecified,N,,,,,,,,,,,,,,\n",
      "\n",
      "34211839,09/01/2016 12:30:59 AM,09/01/2016 11:59:43 AM,NYPD,New York City Police Department,Blocked Driveway,No Access,Street/Sidewalk,11229,1810 EAST 18 STREET,EAST 18 STREET,AVENUE R,AVENUE S,,,ADDRESS,BROOKLYN,,Precinct,Closed,09/01/2016 08:30:59 AM,The Police Department responded and upon arrival those responsible for the condition were gone.,09/01/2016 11:59:43 AM,15 BROOKLYN,BROOKLYN,996803,159926,Unspecified,BROOKLYN,Unspecified,Unspecified,Unspecified,Unspecified,Unspecified,Unspecified,Unspecified,Unspecified,Unspecified,N,,,,,,,,,,,,40.60562736792954,-73.95479220020816,\"(40.60562736792954, -73.95479220020816)\"\n",
      "\n",
      "34221378,09/01/2016 12:31:00 AM,09/03/2016 03:30:00 AM,DEP,Department of Environmental Protection,Water System,Hydrant Running (WC3),,11207,83 VAN SICLEN AVENUE,VAN SICLEN AVENUE,ARLINGTON AVE,FULTON ST,,,ADDRESS,BROOKLYN,,N/A,Closed,,The Department of Environmental Protection investigated this complaint and shut the running hydrant.,09/03/2016 03:30:00 AM,05 BROOKLYN,BROOKLYN,1014266,186493,Unspecified,BROOKLYN,Unspecified,Unspecified,Unspecified,Unspecified,Unspecified,Unspecified,Unspecified,Unspecified,Unspecified,,,,,,,,,,,,,40.67850607568998,-73.8917835982187,\"(40.67850607568998, -73.8917835982187)\"\n",
      "\n",
      "34213443,09/01/2016 12:31:49 AM,09/01/2016 04:18:49 AM,NYPD,New York City Police Department,Noise - Street/Sidewalk,Loud Music/Party,Street/Sidewalk,11238,115 EASTERN PARKWAY,EASTERN PARKWAY,UNDERHILL AVENUE,BEND,,,ADDRESS,BROOKLYN,,Precinct,Closed,09/01/2016 08:31:49 AM,The Police Department responded to the complaint and with the information available observed no evidence of the violation at that time.,09/01/2016 04:18:50 AM,08 BROOKLYN,BROOKLYN,993855,184290,Unspecified,BROOKLYN,Unspecified,Unspecified,Unspecified,Unspecified,Unspecified,Unspecified,Unspecified,Unspecified,Unspecified,N,,,,,,,,,,,,40.672505016468776,-73.96537430777059,\"(40.672505016468776, -73.96537430777059)\"\n",
      "\n",
      "34211256,09/01/2016 12:31:52 AM,09/01/2016 12:32:37 AM,HRA,HRA Benefit Card Replacement,Benefit Card Replacement,Medicaid,NYC Street Address,,,,,,,,,,,N/A,Closed,,\"The Human Resources Administration received your request. If you are eligible for a benefit card replacement, you will receive it in 7 to 10 business days. No further updates will be available by calling 311 or on 311 Online.\",,0 Unspecified,Unspecified,,,Unspecified,Unspecified,Unspecified,Unspecified,Unspecified,Unspecified,Unspecified,Unspecified,Unspecified,Unspecified,Unspecified,N,,,,,,,,,,,,,,\n",
      "\n",
      "34215673,09/01/2016 12:33:42 AM,,DCA,Department of Consumer Affairs,Consumer Complaint,False Advertising,,10001,1167 BROADWAY,BROADWAY,WEST 27 STREET,WEST 28 STREET,,,ADDRESS,NEW YORK,,N/A,Assigned,09/17/2016 01:03:17 PM,\"The Department of Consumer Affairs has already mailed you a complaint form. In order for DCA to be able to help, you must complete that form and return it to DCA along with requested documentation. DCA will contact you approximately 30 days after receiving your complete complaint which we must forward to the reported business for its response.     If you do not receive the complaint form within 15 days from the date of your initial request, please call 311 back.\",09/02/2016 01:04:17 PM,05 MANHATTAN,MANHATTAN,987344,210624,Unspecified,MANHATTAN,Unspecified,Unspecified,Unspecified,Unspecified,Unspecified,Unspecified,Unspecified,Unspecified,Unspecified,N,,,,,,,,,,,,40.74479027643488,-73.98883413571019,\"(40.74479027643488, -73.98883413571019)\"\n",
      "\n",
      "34215616,09/01/2016 12:33:48 AM,09/01/2016 03:49:36 AM,NYPD,New York City Police Department,Blocked Driveway,No Access,Street/Sidewalk,11421,86-82 76 STREET,76 STREET,JAMAICA AVENUE,88 AVENUE,,,ADDRESS,WOODHAVEN,,Precinct,Closed,09/01/2016 08:33:48 AM,The Police Department responded and upon arrival those responsible for the condition were gone.,09/01/2016 03:49:36 AM,09 QUEENS,QUEENS,1021534,191135,Unspecified,QUEENS,Unspecified,Unspecified,Unspecified,Unspecified,Unspecified,Unspecified,Unspecified,Unspecified,Unspecified,N,,,,,,,,,,,,40.69121966184664,-73.86555469725296,\"(40.69121966184664, -73.86555469725296)\"\n",
      "\n",
      "34218919,09/01/2016 12:33:49 AM,09/01/2016 04:06:07 AM,NYPD,New York City Police Department,Noise - Street/Sidewalk,Loud Music/Party,Street/Sidewalk,11225,UNION STREET,UNION STREET,CLASSON AVENUE,FRANKLIN AVENUE,,,BLOCKFACE,BROOKLYN,,Precinct,Closed,09/01/2016 08:33:49 AM,The Police Department responded to the complaint and determined that police action was not necessary.,09/01/2016 04:06:07 AM,09 BROOKLYN,BROOKLYN,995203,183465,Unspecified,BROOKLYN,Unspecified,Unspecified,Unspecified,Unspecified,Unspecified,Unspecified,Unspecified,Unspecified,Unspecified,N,,,,,,,,,,,,40.67023901128435,-73.96051615564376,\"(40.67023901128435, -73.96051615564376)\"\n",
      "\n",
      "34225320,09/01/2016 12:34:00 AM,09/01/2016 12:40:00 AM,DEP,Department of Environmental Protection,Water System,Hydrant Leaking (WC1),,11207,FULTON STREET,FULTON STREET,VAN SICLEN AVENUE,HENDRIX STREET,,,BLOCKFACE,BROOKLYN,,N/A,Closed,,The Department of Environmental Protection determined that this complaint is a duplicate of a previously filed complaint. The original complaint is being addressed.,09/01/2016 12:40:00 AM,05 BROOKLYN,BROOKLYN,1014421,186344,Unspecified,BROOKLYN,Unspecified,Unspecified,Unspecified,Unspecified,Unspecified,Unspecified,Unspecified,Unspecified,Unspecified,,,,,,,,,,,,,40.67809657777363,-73.89122544581065,\"(40.67809657777363, -73.89122544581065)\"\n",
      "\n",
      "34214171,09/01/2016 12:35:19 AM,09/01/2016 01:31:03 AM,NYPD,New York City Police Department,Noise - Residential,Loud Music/Party,Residential Building/House,11106,35-20 24 STREET,24 STREET,35 AVENUE,36 AVENUE,,,ADDRESS,ASTORIA,,Precinct,Closed,09/01/2016 08:35:19 AM,The Police Department responded and upon arrival those responsible for the condition were gone.,09/01/2016 01:31:03 AM,01 QUEENS,QUEENS,1002759,216129,Unspecified,QUEENS,Unspecified,Unspecified,Unspecified,Unspecified,Unspecified,Unspecified,Unspecified,Unspecified,Unspecified,N,,,,,,,,,,,,40.759881274582206,-73.93318816228367,\"(40.759881274582206, -73.93318816228367)\"\n",
      "\n",
      "34216015,09/01/2016 12:36:12 AM,09/01/2016 01:36:18 AM,NYPD,New York City Police Department,Noise - Commercial,Banging/Pounding,Store/Commercial,11372,37-13 85 STREET,85 STREET,37 AVENUE,FORLEY STREET,,,ADDRESS,JACKSON HEIGHTS,,Precinct,Closed,09/01/2016 08:36:12 AM,The Police Department responded to the complaint and took action to fix the condition.,09/01/2016 01:36:18 AM,03 QUEENS,QUEENS,1017106,212378,Unspecified,QUEENS,Unspecified,Unspecified,Unspecified,Unspecified,Unspecified,Unspecified,Unspecified,Unspecified,Unspecified,N,,,,,,,,,,,,40.74954406701735,-73.88141825228973,\"(40.74954406701735, -73.88141825228973)\"\n",
      "\n",
      "34217349,09/01/2016 12:36:25 AM,09/01/2016 02:36:28 AM,NYPD,New York City Police Department,Noise - Residential,Loud Music/Party,Residential Building/House,10027,409 WEST 129 STREET,WEST 129 STREET,ST NICHOLAS TERRACE,CONVENT AVENUE,,,ADDRESS,NEW YORK,,Precinct,Closed,09/01/2016 08:36:25 AM,The Police Department responded to the complaint and took action to fix the condition.,09/01/2016 02:36:28 AM,09 MANHATTAN,MANHATTAN,997557,235781,Unspecified,MANHATTAN,Unspecified,Unspecified,Unspecified,Unspecified,Unspecified,Unspecified,Unspecified,Unspecified,Unspecified,N,,,,,,,,,,,,40.81383010929395,-73.95192685875286,\"(40.81383010929395, -73.95192685875286)\"\n",
      "\n",
      "34216084,09/01/2016 12:36:28 AM,09/01/2016 01:01:12 AM,NYPD,New York City Police Department,Noise - Street/Sidewalk,Loud Music/Party,Street/Sidewalk,11238,200 EASTERN PARKWAY,EASTERN PARKWAY,UNDERHILL AVENUE,BEND,,,ADDRESS,BROOKLYN,,Precinct,Closed,09/01/2016 08:36:28 AM,The Police Department responded to the complaint and took action to fix the condition.,09/01/2016 01:01:12 AM,55 BROOKLYN,BROOKLYN,994502,184046,Unspecified,BROOKLYN,Unspecified,Unspecified,Unspecified,Unspecified,Unspecified,Unspecified,Unspecified,Unspecified,Unspecified,N,,,,,,,,,,,,40.67183456561807,-73.96304226656703,\"(40.67183456561807, -73.96304226656703)\"\n",
      "\n",
      "34225674,09/01/2016 12:37:11 AM,09/01/2016 12:37:11 AM,DOB,Department of Buildings,Elevator,Elevator - Defective/Not Working,,10011,40 FIFTH AVENUE,FIFTH AVENUE,,,,,ADDRESS,NEW YORK,,N/A,Open,,Your Service Request has been submitted to the Department of Buildings.  Please check back later for status.,09/01/2016 12:00:00 AM,02 MANHATTAN,MANHATTAN,985536,206665,Unspecified,MANHATTAN,Unspecified,Unspecified,Unspecified,Unspecified,Unspecified,Unspecified,Unspecified,Unspecified,Unspecified,,,,,,,,,,,,,40.733924251736944,-73.99535974148363,\"(40.733924251736944, -73.99535974148363)\"\n",
      "\n",
      "34213074,09/01/2016 12:37:24 AM,09/01/2016 06:08:30 AM,NYPD,New York City Police Department,Noise - Residential,Loud Music/Party,Residential Building/House,11434,125-60 SUTPHIN BOULEVARD,SUTPHIN BOULEVARD,125 AVENUE,ROCKAWAY BOULEVARD,,,ADDRESS,JAMAICA,,Precinct,Closed,09/01/2016 08:37:24 AM,The Police Department responded to the complaint and with the information available observed no evidence of the violation at that time.,09/01/2016 06:08:30 AM,12 QUEENS,QUEENS,1042871,184825,Unspecified,QUEENS,Unspecified,Unspecified,Unspecified,Unspecified,Unspecified,Unspecified,Unspecified,Unspecified,Unspecified,N,,,,,,,,,,,,40.673784591981686,-73.78866907200431,\"(40.673784591981686, -73.78866907200431)\"\n",
      "\n",
      "34213142,09/01/2016 12:37:26 AM,09/01/2016 02:34:10 AM,NYPD,New York City Police Department,Noise - Residential,Loud Music/Party,Residential Building/House,10027,409 WEST 129 STREET,WEST 129 STREET,ST NICHOLAS TERRACE,CONVENT AVENUE,,,ADDRESS,NEW YORK,,Precinct,Closed,09/01/2016 08:37:26 AM,The Police Department responded to the complaint and took action to fix the condition.,09/01/2016 02:34:10 AM,09 MANHATTAN,MANHATTAN,997557,235781,Unspecified,MANHATTAN,Unspecified,Unspecified,Unspecified,Unspecified,Unspecified,Unspecified,Unspecified,Unspecified,Unspecified,N,,,,,,,,,,,,40.81383010929395,-73.95192685875286,\"(40.81383010929395, -73.95192685875286)\"\n",
      "\n",
      "34213059,09/01/2016 12:37:37 AM,09/01/2016 07:47:30 AM,NYPD,New York City Police Department,Illegal Parking,Commercial Overnight Parking,Street/Sidewalk,11370,19-87 77 STREET,77 STREET,19 ROAD,21 AVENUE,,,ADDRESS,EAST ELMHURST,,Precinct,Closed,09/01/2016 08:37:37 AM,The Police Department responded to the complaint and with the information available observed no evidence of the violation at that time.,09/01/2016 07:47:30 AM,01 QUEENS,QUEENS,1013843,220707,Unspecified,QUEENS,Unspecified,Unspecified,Unspecified,Unspecified,Unspecified,Unspecified,Unspecified,Unspecified,Unspecified,N,,,,,,,,,,,,40.77241653883299,-73.89315818370672,\"(40.77241653883299, -73.89315818370672)\"\n",
      "\n",
      "34226286,09/01/2016 12:39:00 AM,,DEP,Department of Environmental Protection,Noise,Noise: Construction Before/After Hours (NM1),,10021,308 EAST   72 STREET,EAST   72 STREET,2 AVE,1 AVE,,,ADDRESS,NEW YORK,,N/A,Open,,,,08 MANHATTAN,MANHATTAN,995918,219297,Unspecified,MANHATTAN,Unspecified,Unspecified,Unspecified,Unspecified,Unspecified,Unspecified,Unspecified,Unspecified,Unspecified,,,,,,,,,,,,,40.76858829093216,-73.95787657918987,\"(40.76858829093216, -73.95787657918987)\"\n",
      "\n",
      "34213103,09/01/2016 12:39:27 AM,09/01/2016 03:13:08 AM,NYPD,New York City Police Department,Noise - Residential,Loud Music/Party,Residential Building/House,10471,6211 BROADWAY,BROADWAY,WEST 251 STREET,WEST 252 STREET,,,ADDRESS,BRONX,,Precinct,Closed,09/01/2016 08:39:27 AM,The Police Department responded to the complaint but officers were unable to gain entry into the premises.,09/01/2016 03:13:09 AM,08 BRONX,BRONX,1012781,265876,Unspecified,BRONX,Unspecified,Unspecified,Unspecified,Unspecified,Unspecified,Unspecified,Unspecified,Unspecified,Unspecified,N,,,,,,,,,,,,40.896395792492356,-73.89680027435357,\"(40.896395792492356, -73.89680027435357)\"\n",
      "\n",
      "34210952,09/01/2016 12:39:36 AM,09/01/2016 05:35:18 AM,NYPD,New York City Police Department,Noise - Residential,Loud Music/Party,Residential Building/House,11428,,,,,218 PLACE,92 AVENUE,INTERSECTION,QUEENS VILLAGE,,Precinct,Closed,09/01/2016 08:39:36 AM,The Police Department responded to the complaint and with the information available observed no evidence of the violation at that time.,09/01/2016 05:35:19 AM,13 QUEENS,QUEENS,1056152,203046,Unspecified,QUEENS,Unspecified,Unspecified,Unspecified,Unspecified,Unspecified,Unspecified,Unspecified,Unspecified,Unspecified,N,,,,,,,,,,,,40.723698860008355,-73.74059629620191,\"(40.723698860008355, -73.74059629620191)\"\n",
      "\n",
      "34215036,09/01/2016 12:39:57 AM,09/01/2016 03:48:21 AM,NYPD,New York City Police Department,Noise - Residential,Loud Music/Party,Residential Building/House,11222,262A KINGSLAND AVENUE,KINGSLAND AVENUE,DRIGGS AVENUE,NASSAU AVENUE,,,ADDRESS,BROOKLYN,,Precinct,Closed,09/01/2016 08:39:57 AM,The Police Department responded to the complaint and took action to fix the condition.,09/01/2016 03:48:21 AM,01 BROOKLYN,BROOKLYN,1000438,203567,Unspecified,BROOKLYN,Unspecified,Unspecified,Unspecified,Unspecified,Unspecified,Unspecified,Unspecified,Unspecified,Unspecified,N,,,,,,,,,,,,40.72540628058875,-73.9415964935895,\"(40.72540628058875, -73.9415964935895)\"\n",
      "\n"
     ]
    }
   ],
   "source": [
    "for l in fin.readlines():\n",
    "    print (l)   "
   ]
  },
  {
   "cell_type": "code",
   "execution_count": 35,
   "metadata": {
    "ExecuteTime": {
     "end_time": "2018-10-04T03:33:02.135122Z",
     "start_time": "2018-10-04T03:33:02.131593Z"
    },
    "run_control": {
     "frozen": false,
     "read_only": false
    }
   },
   "outputs": [],
   "source": [
    "fin.close()"
   ]
  },
  {
   "cell_type": "markdown",
   "metadata": {
    "run_control": {
     "frozen": false,
     "read_only": false
    }
   },
   "source": [
    "##  using built in functions: read() to read the whole file at once"
   ]
  },
  {
   "cell_type": "code",
   "execution_count": 36,
   "metadata": {
    "ExecuteTime": {
     "end_time": "2018-10-04T03:33:31.536347Z",
     "start_time": "2018-10-04T03:33:31.529320Z"
    },
    "run_control": {
     "frozen": false,
     "read_only": false
    }
   },
   "outputs": [],
   "source": [
    "fin = open(PUIdata + \"/311_Service_Requests_from_2010_to_Present_head.csv\", \"r\")\n",
    "fin.read?\n",
    "fin.close()"
   ]
  },
  {
   "cell_type": "code",
   "execution_count": 37,
   "metadata": {
    "ExecuteTime": {
     "end_time": "2018-10-04T03:33:32.740047Z",
     "start_time": "2018-10-04T03:33:32.724771Z"
    },
    "run_control": {
     "frozen": false,
     "read_only": false
    }
   },
   "outputs": [
    {
     "name": "stdout",
     "output_type": "stream",
     "text": [
      "Unique Key,Created Date,Closed Date,Agency,Agency Name,Complaint Type,Descriptor,Location Type,Incident Zip,Incident Address,Street Name,Cross Street 1,Cross Street 2,Intersection Street 1,Intersection Street 2,Address Type,City,Landmark,Facility Type,Status,Due Date,Resolution Description,Resolution Action Updated Date,Community Board,Borough,X Coordinate (State Plane),Y Coordinate (State Plane),Park Facility Name,Park Borough,School Name,School Number,School Region,School Code,School Phone Number,School Address,School City,School State,School Zip,School Not Found,School or Citywide Complaint,Vehicle Type,Taxi Company Borough,Taxi Pick Up Location,Bridge Highway Name,Bridge Highway Direction,Road Ramp,Bridge Highway Segment,Garage Lot Name,Ferry Direction,Ferry Terminal Name,Latitude,Longitude,Location\n",
      "34212771,09/01/2016 12:00:06 AM,09/01/2016 06:02:10 AM,NYPD,New York City Police Department,Noise - Residential,Loud Television,Residential Building/House,11413,137-47 CARSON STREET,CARSON STREET,137 ROAD,138 AVENUE,,,ADDRESS,SPRINGFIELD GARDENS,,Precinct,Closed,09/01/2016 08:00:06 AM,The Police Department responded to the complaint and with the information available observed no evidence of the violation at that time.,09/01/2016 06:02:10 AM,13 QUEENS,QUEENS,1052223,185368,Unspecified,QUEENS,Unspecified,Unspecified,Unspecified,Unspecified,Unspecified,Unspecified,Unspecified,Unspecified,Unspecified,N,,,,,,,,,,,,40.67520813178531,-73.75494944502233,\"(40.67520813178531, -73.75494944502233)\"\n",
      "34212392,09/01/2016 12:00:35 AM,09/02/2016 04:53:48 PM,NYPD,New York City Police Department,Blocked Driveway,No Access,Street/Sidewalk,10469,943 EAST 217 STREET,EAST 217 STREET,BRONXWOOD AVENUE,PAULDING AVENUE,,,ADDRESS,BRONX,,Precinct,Closed,09/01/2016 08:00:35 AM,The Police Department reviewed your complaint and provided additional information below.,09/02/2016 04:53:49 PM,12 BRONX,BRONX,1023875,259913,Unspecified,BRONX,Unspecified,Unspecified,Unspecified,Unspecified,Unspecified,Unspecified,Unspecified,Unspecified,Unspecified,N,,,,,,,,,,,,40.87998640855491,-73.85670741555177,\"(40.87998640855491, -73.85670741555177)\"\n",
      "34214520,09/01/2016 12:00:37 AM,09/01/2016 01:05:43 AM,NYPD,New York City Police Department,Blocked Driveway,No Access,Street/Sidewalk,11369,98-02 25 AVENUE,25 AVENUE,98 STREET,99 STREET,,,ADDRESS,EAST ELMHURST,,Precinct,Closed,09/01/2016 08:00:37 AM,The Police Department responded and upon arrival those responsible for the condition were gone.,09/01/2016 01:05:43 AM,03 QUEENS,QUEENS,1019812,217879,Unspecified,QUEENS,Unspecified,Unspecified,Unspecified,Unspecified,Unspecified,Unspecified,Unspecified,Unspecified,Unspecified,N,,,,,,,,,,,,40.76463242381882,-73.87162284918391,\"(40.76463242381882, -73.87162284918391)\"\n",
      "34212483,09/01/2016 12:00:54 AM,09/01/2016 03:15:32 AM,NYPD,New York City Police Department,Blocked Driveway,No Access,Street/Sidewalk,10466,1017 EAST 226 STREET,EAST 226 STREET,PAULDING AVENUE,LACONIA AVENUE,,,ADDRESS,BRONX,,Precinct,Closed,09/01/2016 08:00:54 AM,The Police Department issued a summons in response to the complaint.,09/01/2016 03:15:32 AM,12 BRONX,BRONX,1025510,261946,Unspecified,BRONX,Unspecified,Unspecified,Unspecified,Unspecified,Unspecified,Unspecified,Unspecified,Unspecified,Unspecified,N,,,,,,,,,,,,40.885558858976104,-73.85078238918491,\"(40.885558858976104, -73.85078238918491)\"\n",
      "34214231,09/01/2016 12:01:15 AM,09/06/2016 09:27:00 AM,DOT,Department of Transportation,Street Condition,Pothole,,10040,4700 BROADWAY,BROADWAY,ARDEN STREET,DONGAN PLACE,,,ADDRESS,NEW YORK,,N/A,Closed,,The Department of Transportation inspected this complaint and found that the problem was fixed.,09/06/2016 09:27:00 AM,12 MANHATTAN,MANHATTAN,1003750,254115,Unspecified,MANHATTAN,Unspecified,Unspecified,Unspecified,Unspecified,Unspecified,Unspecified,Unspecified,Unspecified,Unspecified,,,,,,,,,,,,,40.864140093130686,-73.92950060219349,\"(40.864140093130686, -73.92950060219349)\"\n",
      "34223410,09/01/2016 12:02:00 AM,09/01/2016 11:33:00 AM,DEP,Department of Environmental Protection,Water System,Hydrant Running Full (WA4),,10031,,,,,BROADWAY,WEST 135 STREET,INTERSECTION,NEW YORK,,N/A,Closed,,The Department of Environmental Protection determined that this complaint is a duplicate of a previously filed complaint. The original complaint is being addressed.,09/01/2016 11:33:00 AM,09 MANHATTAN,MANHATTAN,996684,238064,Unspecified,MANHATTAN,Unspecified,Unspecified,Unspecified,Unspecified,Unspecified,Unspecified,Unspecified,Unspecified,Unspecified,,,,,,,,,,,,,40.820097574803015,-73.95507644617044,\"(40.820097574803015, -73.95507644617044)\"\n",
      "34219357,09/01/2016 12:02:00 AM,09/02/2016 12:00:00 PM,DSNY,BCC - Queens East,Sanitation Condition,12 Dead Animals,Sidewalk,11365,180-15 64 AVENUE,64 AVENUE,UTOPIA PARKWAY,181 STREET,,,ADDRESS,Fresh Meadows,,DSNY Garage,Closed,,The Department of Sanitation investigated this complaint and found no condition at the location.,09/02/2016 12:00:00 PM,08 QUEENS,QUEENS,1041679,208204,Unspecified,QUEENS,Unspecified,Unspecified,Unspecified,Unspecified,Unspecified,Unspecified,Unspecified,Unspecified,Unspecified,,,,,,,,,,,,,40.73796206550144,-73.79276687084037,\"(40.73796206550144, -73.79276687084037)\"\n",
      "34211394,09/01/2016 12:02:03 AM,,TLC,Taxi and Limousine Commission,Taxi Complaint,Driver Complaint,,11103,,,,,STEINWAY STREET,30 AVENUE,INTERSECTION,ASTORIA,,N/A,Assigned,10/17/2016 08:32:42 AM,The Taxi and Limousine Commission will contact you within 14 days to confirm your complaint details. Please note your Service Request number for future reference.,09/02/2016 08:33:07 AM,01 QUEENS,QUEENS,1007798,217595,Unspecified,QUEENS,Unspecified,Unspecified,Unspecified,Unspecified,Unspecified,Unspecified,Unspecified,Unspecified,Unspecified,N,,,,Other,,,,,,,,40.76389308093824,-73.91499378600639,\"(40.76389308093824, -73.91499378600639)\"\n",
      "34217294,09/01/2016 12:02:07 AM,09/01/2016 03:46:46 AM,NYPD,New York City Police Department,Noise - Residential,Loud Music/Party,Residential Building/House,10468,2685 GRAND CONCOURSE,GRAND CONCOURSE,EAST KINGSBRIDGE ROAD,EAST 196 STREET,,,ADDRESS,BRONX,,Precinct,Closed,09/01/2016 08:02:07 AM,The Police Department responded to the complaint but officers were unable to gain entry into the premises.,09/01/2016 03:46:46 AM,07 BRONX,BRONX,1013623,255108,Unspecified,BRONX,Unspecified,Unspecified,Unspecified,Unspecified,Unspecified,Unspecified,Unspecified,Unspecified,Unspecified,N,,,,,,,,,,,,40.86683824468553,-73.89380189150275,\"(40.86683824468553, -73.89380189150275)\"\n",
      "34213164,09/01/2016 12:03:16 AM,09/01/2016 03:46:38 AM,NYPD,New York City Police Department,Noise - Commercial,Loud Music/Party,Store/Commercial,11222,284 DRIGGS AVENUE,DRIGGS AVENUE,ECKFORD STREET,LEONARD STREET,,,ADDRESS,BROOKLYN,,Precinct,Closed,09/01/2016 08:03:16 AM,The Police Department responded to the complaint and took action to fix the condition.,09/01/2016 03:46:39 AM,01 BROOKLYN,BROOKLYN,998402,202531,Unspecified,BROOKLYN,Unspecified,Unspecified,Unspecified,Unspecified,Unspecified,Unspecified,Unspecified,Unspecified,Unspecified,N,,,,,,,,,,,,40.7225662037401,-73.94894420645994,\"(40.7225662037401, -73.94894420645994)\"\n",
      "34212770,09/01/2016 12:03:35 AM,09/01/2016 03:46:28 AM,NYPD,New York City Police Department,Noise - Commercial,Loud Talking,Club/Bar/Restaurant,11249,149 NORTH 6 STREET,NORTH 6 STREET,BERRY STREET,BEDFORD AVENUE,,,ADDRESS,BROOKLYN,,Precinct,Closed,09/01/2016 08:03:35 AM,The Police Department responded to the complaint and took action to fix the condition.,09/01/2016 03:46:28 AM,01 BROOKLYN,BROOKLYN,995738,200662,Unspecified,BROOKLYN,Unspecified,Unspecified,Unspecified,Unspecified,Unspecified,Unspecified,Unspecified,Unspecified,Unspecified,N,,,,,,,,,,,,40.717440110199995,-73.95855823667199,\"(40.717440110199995, -73.95855823667199)\"\n",
      "34214130,09/01/2016 12:03:52 AM,09/01/2016 02:41:40 AM,NYPD,New York City Police Department,Illegal Parking,Double Parked Blocking Traffic,Street/Sidewalk,10003,81 1 AVENUE,1 AVENUE,EAST 4 STREET,EAST 5 STREET,,,ADDRESS,NEW YORK,,Precinct,Closed,09/01/2016 08:03:52 AM,The Police Department responded and upon arrival those responsible for the condition were gone.,09/01/2016 02:41:40 AM,03 MANHATTAN,MANHATTAN,987942,203667,Unspecified,MANHATTAN,Unspecified,Unspecified,Unspecified,Unspecified,Unspecified,Unspecified,Unspecified,Unspecified,Unspecified,N,,,,,,,,,,,,40.72569479789409,-73.98667984531457,\"(40.72569479789409, -73.98667984531457)\"\n",
      "34217841,09/01/2016 12:05:17 AM,,TLC,Taxi and Limousine Commission,Taxi Complaint,Driver Complaint,,10031,531 WEST 143 STREET,WEST 143 STREET,HAMILTON PLACE,BROADWAY,,,ADDRESS,NEW YORK,,N/A,Assigned,10/17/2016 08:32:42 AM,The Taxi and Limousine Commission will contact you within 14 days to confirm your complaint details. Please note your Service Request number for future reference.,09/02/2016 08:33:01 AM,09 MANHATTAN,MANHATTAN,998155,239652,Unspecified,MANHATTAN,Unspecified,Unspecified,Unspecified,Unspecified,Unspecified,Unspecified,Unspecified,Unspecified,Unspecified,N,,,,Other,,,,,,,,40.82445399167001,-73.94975849134453,\"(40.82445399167001, -73.94975849134453)\"\n",
      "34212954,09/01/2016 12:05:31 AM,09/01/2016 03:22:57 AM,NYPD,New York City Police Department,Illegal Parking,Blocked Hydrant,Street/Sidewalk,11367,,,,,148 PLACE,61 ROAD,INTERSECTION,FLUSHING,,Precinct,Closed,09/01/2016 08:05:31 AM,The Police Department responded and upon arrival those responsible for the condition were gone.,09/01/2016 03:22:57 AM,08 QUEENS,QUEENS,1033787,208970,Unspecified,QUEENS,Unspecified,Unspecified,Unspecified,Unspecified,Unspecified,Unspecified,Unspecified,Unspecified,Unspecified,N,,,,,,,,,,,,40.740112265819256,-73.82123950679446,\"(40.740112265819256, -73.82123950679446)\"\n",
      "34216160,09/01/2016 12:05:54 AM,09/01/2016 02:59:15 AM,NYPD,New York City Police Department,Illegal Parking,Double Parked Blocking Traffic,Street/Sidewalk,10003,BOWERY,BOWERY,,,,,LATLONG,NEW YORK,,Precinct,Closed,09/01/2016 08:05:54 AM,The Police Department responded to the complaint and with the information available observed no evidence of the violation at that time.,09/01/2016 02:59:15 AM,03 MANHATTAN,MANHATTAN,986426,203499,Unspecified,MANHATTAN,Unspecified,Unspecified,Unspecified,Unspecified,Unspecified,Unspecified,Unspecified,Unspecified,Unspecified,N,,,,,,,,,,,,40.72523418153373,-73.99214938889838,\"(40.72523418153373, -73.99214938889838)\"\n",
      "34216500,09/01/2016 12:06:14 AM,09/01/2016 03:49:38 AM,NYPD,New York City Police Department,Blocked Driveway,Partial Access,Street/Sidewalk,11421,89-19 90 STREET,90 STREET,89 AVENUE,91 AVENUE,,,ADDRESS,WOODHAVEN,,Precinct,Closed,09/01/2016 08:06:14 AM,The Police Department responded and upon arrival those responsible for the condition were gone.,09/01/2016 03:49:38 AM,09 QUEENS,QUEENS,1024827,190774,Unspecified,QUEENS,Unspecified,Unspecified,Unspecified,Unspecified,Unspecified,Unspecified,Unspecified,Unspecified,Unspecified,N,,,,,,,,,,,,40.690214316362415,-73.85368240559568,\"(40.690214316362415, -73.85368240559568)\"\n",
      "34221835,09/01/2016 12:06:43 AM,,HPD,Department of Housing Preservation and Development,HEAT/HOT WATER,ENTIRE BUILDING,RESIDENTIAL BUILDING,10453,1841 DR M L KING JR BOULEVARD,DR M L KING JR BOULEVARD,,,,,ADDRESS,BRONX,,N/A,Open,,The following complaint conditions are still open. HPD may attempt to contact you to verify the correction of the condition or may conduct an inspection.,09/01/2016 12:00:00 AM,05 BRONX,BRONX,1007941,249537,Unspecified,BRONX,Unspecified,Unspecified,Unspecified,Unspecified,Unspecified,Unspecified,Unspecified,Unspecified,Unspecified,,,,,,,,,,,,,40.851564608300045,-73.91436484385679,\"(40.851564608300045, -73.91436484385679)\"\n",
      "34211702,09/01/2016 12:06:56 AM,09/01/2016 04:59:06 AM,NYPD,New York City Police Department,Noise - Street/Sidewalk,Loud Talking,Street/Sidewalk,11221,194 STUYVESANT AVENUE,STUYVESANT AVENUE,QUINCY STREET,GATES AVENUE,,,ADDRESS,BROOKLYN,,Precinct,Closed,09/01/2016 08:06:56 AM,The Police Department responded to the complaint and with the information available observed no evidence of the violation at that time.,09/01/2016 04:59:06 AM,03 BROOKLYN,BROOKLYN,1002780,190153,Unspecified,BROOKLYN,Unspecified,Unspecified,Unspecified,Unspecified,Unspecified,Unspecified,Unspecified,Unspecified,Unspecified,N,,,,,,,,,,,,40.68858343380662,-73.93318387971877,\"(40.68858343380662, -73.93318387971877)\"\n",
      "34219447,09/01/2016 12:07:00 AM,09/01/2016 12:08:00 AM,DEP,Department of Environmental Protection,Water System,Hydrant Running (WC3),,10023,325 WEST END AVENUE,WEST END AVENUE,,,,,ADDRESS,NEW YORK,,N/A,Closed,,The Department of Environmental Protection determined that this complaint is a duplicate of a previously filed complaint. The original complaint is being addressed.,09/01/2016 12:08:00 AM,07 MANHATTAN,MANHATTAN,988996,224194,Unspecified,MANHATTAN,Unspecified,Unspecified,Unspecified,Unspecified,Unspecified,Unspecified,Unspecified,Unspecified,Unspecified,,,,,,,,,,,,,40.78203569609998,-73.98286269079273,\"(40.78203569609998, -73.98286269079273)\"\n",
      "34217113,09/01/2016 12:07:09 AM,09/01/2016 01:13:48 AM,NYPD,New York City Police Department,Illegal Parking,Commercial Overnight Parking,Street/Sidewalk,11204,5400 21 AVENUE,21 AVENUE,53 STREET,WASHINGTON CEMETERY BOUNDARY,,,ADDRESS,BROOKLYN,,Precinct,Closed,09/01/2016 08:07:09 AM,The Police Department issued a summons in response to the complaint.,09/01/2016 01:13:48 AM,12 BROOKLYN,BROOKLYN,990555,165641,Unspecified,BROOKLYN,Unspecified,Unspecified,Unspecified,Unspecified,Unspecified,Unspecified,Unspecified,Unspecified,Unspecified,N,,,,,,,,,,,,40.621320511236384,-73.97728812364555,\"(40.621320511236384, -73.97728812364555)\"\n",
      "34214548,09/01/2016 12:07:25 AM,,DOT,Department of Transportation,Street Condition,\"Rough, Pitted or Cracked Roads\",Street,11367,,,,,MAIN STREET,68 DRIVE,INTERSECTION,FLUSHING,,N/A,Open,11/30/2016 12:07:25 AM,The Department of Transportation requires 90 days to respond to this type of complaint.  Please note your Service Request number for future reference.,,08 QUEENS,QUEENS,1032885,206014,Unspecified,QUEENS,Unspecified,Unspecified,Unspecified,Unspecified,Unspecified,Unspecified,Unspecified,Unspecified,Unspecified,N,,,,,,,,,,,,40.7320037982969,-73.82451584786384,\"(40.7320037982969, -73.82451584786384)\"\n",
      "34221511,09/01/2016 12:08:00 AM,09/01/2016 12:00:00 PM,DSNY,A - Queens,Dirty Conditions,E3 Dirty Sidewalk,Sidewalk,11416,95-24 89 STREET,89 STREET,95 AVENUE,97 AVENUE,,,ADDRESS,Ozone Park,,N/A,Closed,,The Department of Sanitation investigated this complaint and issued a Notice of Violation.,09/01/2016 12:00:00 PM,09 QUEENS,QUEENS,1025173,189045,Unspecified,QUEENS,Unspecified,Unspecified,Unspecified,Unspecified,Unspecified,Unspecified,Unspecified,Unspecified,Unspecified,,,,,,,,,,,,,40.68546702174521,-73.85244526015111,\"(40.68546702174521, -73.85244526015111)\"\n",
      "34217276,09/01/2016 12:08:16 AM,,ACS,ACS,Forms,Community Outreach,,,,,,,,,,,,,Email Sent,09/15/2016 12:09:13 AM,,,0 Unspecified,Unspecified,,,Unspecified,Unspecified,Unspecified,Unspecified,Unspecified,Unspecified,Unspecified,Unspecified,Unspecified,Unspecified,Unspecified,,,,,,,,,1-1-1299426410,,,,,,\n",
      "34217959,09/01/2016 12:08:39 AM,09/01/2016 04:05:02 AM,NYPD,New York City Police Department,Noise - Street/Sidewalk,Loud Music/Party,Street/Sidewalk,11225,916 CARROLL STREET,CARROLL STREET,WASHINGTON AVENUE,PEDESTRIAN OVERPASS,,,ADDRESS,BROOKLYN,,Precinct,Closed,09/01/2016 08:08:39 AM,The Police Department responded to the complaint and determined that police action was not necessary.,09/01/2016 04:05:02 AM,09 BROOKLYN,BROOKLYN,995025,182824,Unspecified,BROOKLYN,Unspecified,Unspecified,Unspecified,Unspecified,Unspecified,Unspecified,Unspecified,Unspecified,Unspecified,N,,,,,,,,,,,,40.668479828005744,-73.96115884217696,\"(40.668479828005744, -73.96115884217696)\"\n",
      "34210942,09/01/2016 12:08:43 AM,09/01/2016 01:36:15 AM,NYPD,New York City Police Department,Noise - Residential,Loud Music/Party,Residential Building/House,11372,35-43 84 STREET,84 STREET,35 AVENUE,37 AVENUE,,,ADDRESS,JACKSON HEIGHTS,,Precinct,Closed,09/01/2016 08:08:43 AM,The Police Department responded to the complaint and took action to fix the condition.,09/01/2016 01:36:15 AM,03 QUEENS,QUEENS,1016737,213135,Unspecified,QUEENS,Unspecified,Unspecified,Unspecified,Unspecified,Unspecified,Unspecified,Unspecified,Unspecified,Unspecified,N,,,,,,,,,,,,40.751623202335196,-73.88274636451436,\"(40.751623202335196, -73.88274636451436)\"\n",
      "34213767,09/01/2016 12:08:44 AM,09/02/2016 05:29:11 PM,DOT,Department of Transportation,Street Condition,Defective Hardware,Street,11367,141-26 68 DRIVE,68 DRIVE,141 STREET,MAIN STREET,,,ADDRESS,FLUSHING,,N/A,Closed,09/11/2016 12:08:44 AM,\"The  Department of Transportation inspected the condition you reported and issued a Corrective Action Repair (CAR) to the contractor or utility company. The responsible party has a maximum of 30 days to correct the condition. If after that time the condition still exists, the Agency may issue the responsible party a summons and/or correct the condition.\",09/02/2016 05:29:11 PM,08 QUEENS,QUEENS,1032646,205925,Unspecified,QUEENS,Unspecified,Unspecified,Unspecified,Unspecified,Unspecified,Unspecified,Unspecified,Unspecified,Unspecified,N,,,,,,,,,,,,40.731760826548225,-73.82537884231014,\"(40.731760826548225, -73.82537884231014)\"\n",
      "34214112,09/01/2016 12:09:01 AM,09/01/2016 01:31:12 AM,NYPD,New York City Police Department,Illegal Parking,Blocked Hydrant,Street/Sidewalk,11355,59-40 157 STREET,157 STREET,59 AVENUE,LONG ISLAND EXPRESSWAY,,,ADDRESS,FLUSHING,,Precinct,Closed,09/01/2016 08:09:01 AM,The Police Department responded and upon arrival those responsible for the condition were gone.,09/01/2016 01:31:12 AM,07 QUEENS,QUEENS,1036542,208762,Unspecified,QUEENS,Unspecified,Unspecified,Unspecified,Unspecified,Unspecified,Unspecified,Unspecified,Unspecified,Unspecified,N,,,,,,,,,,,,40.73952549828759,-73.81129938974755,\"(40.73952549828759, -73.81129938974755)\"\n",
      "34212140,09/01/2016 12:09:18 AM,,ACS,ACS,Forms,Community Outreach,,,,,,,,,,,,,Email Sent,09/15/2016 12:10:16 AM,,,0 Unspecified,Unspecified,,,Unspecified,Unspecified,Unspecified,Unspecified,Unspecified,Unspecified,Unspecified,Unspecified,Unspecified,Unspecified,Unspecified,,,,,,,,,1-1-1299426404,,,,,,\n",
      "34216046,09/01/2016 12:10:25 AM,09/01/2016 01:31:08 AM,NYPD,New York City Police Department,Noise - Park,Loud Talking,Park/Playground,11106,34-50 24 STREET,24 STREET,34 AVENUE,35 AVENUE,,,ADDRESS,ASTORIA,,Precinct,Closed,09/01/2016 08:10:25 AM,The Police Department responded and upon arrival those responsible for the condition were gone.,09/01/2016 01:31:08 AM,01 QUEENS,QUEENS,1003028,216533,Unspecified,QUEENS,Unspecified,Unspecified,Unspecified,Unspecified,Unspecified,Unspecified,Unspecified,Unspecified,Unspecified,N,,,,,,,,,,,,40.76098958340112,-73.93221602635003,\"(40.76098958340112, -73.93221602635003)\"\n",
      "34214014,09/01/2016 12:10:37 AM,09/01/2016 02:01:11 AM,NYPD,New York City Police Department,Noise - Residential,Loud Music/Party,Residential Building/House,11377,,,,,58 STREET,31 AVENUE,INTERSECTION,WOODSIDE,,Precinct,Closed,09/01/2016 08:10:37 AM,The Police Department responded to the complaint and with the information available observed no evidence of the violation at that time.,09/01/2016 02:01:11 AM,01 QUEENS,QUEENS,1010935,215224,Unspecified,QUEENS,Unspecified,Unspecified,Unspecified,Unspecified,Unspecified,Unspecified,Unspecified,Unspecified,Unspecified,N,,,,,,,,,,,,40.75737638603846,-73.9036789113306,\"(40.75737638603846, -73.9036789113306)\"\n",
      "34216956,09/01/2016 12:10:42 AM,09/01/2016 08:06:35 PM,NYPD,New York City Police Department,Noise - Residential,Loud Television,Residential Building/House,11229,3040 AVENUE W,AVENUE W,BATCHELDER STREET,BRAGG STREET,,,ADDRESS,BROOKLYN,,Precinct,Closed,09/01/2016 08:10:42 AM,The Police Department responded to the complaint and with the information available observed no evidence of the violation at that time.,09/01/2016 08:06:35 PM,15 BROOKLYN,BROOKLYN,1001875,156569,Unspecified,BROOKLYN,Unspecified,Unspecified,Unspecified,Unspecified,Unspecified,Unspecified,Unspecified,Unspecified,Unspecified,N,,,,,,,,,,,,40.596404450232136,-73.93653489611431,\"(40.596404450232136, -73.93653489611431)\"\n",
      "34226414,09/01/2016 12:11:00 AM,09/01/2016 04:05:00 AM,DEP,Department of Environmental Protection,Water System,Hydrant Running Full (WA4),,10040,97 ELLWOOD STREET,ELLWOOD STREET,W 196 ST,BEND,,,ADDRESS,NEW YORK,,N/A,Closed,,\"The Department of Environment Protection inspected your complaint but could not find the problem you reported. If the condition persists, please call 311 (or 212-639-9675 if calling from a non-New York City area code) with more detailed information to submit a new complaint.\",09/01/2016 04:05:00 AM,12 MANHATTAN,MANHATTAN,1003827,253156,Unspecified,MANHATTAN,Unspecified,Unspecified,Unspecified,Unspecified,Unspecified,Unspecified,Unspecified,Unspecified,Unspecified,,,,,,,,,,,,,40.861507758243285,-73.92922502137085,\"(40.861507758243285, -73.92922502137085)\"\n",
      "34224524,09/01/2016 12:11:00 AM,09/01/2016 12:00:00 PM,DSNY,A - Manhattan,Dirty Conditions,E3 Dirty Sidewalk,Sidewalk,10065,,,,,EAST 61 STREET,1 AVENUE,INTERSECTION,NEW YORK,,N/A,Closed,,The Department of Sanitation investigated this complaint and found no violation at the location.,09/01/2016 12:00:00 PM,08 MANHATTAN,MANHATTAN,995035,216480,Unspecified,MANHATTAN,Unspecified,Unspecified,Unspecified,Unspecified,Unspecified,Unspecified,Unspecified,Unspecified,Unspecified,,,,,,,,,,,,,40.76085747543163,-73.96106887544212,\"(40.76085747543163, -73.96106887544212)\"\n",
      "34217709,09/01/2016 12:11:24 AM,09/02/2016 04:54:51 PM,NYPD,New York City Police Department,Blocked Driveway,No Access,Street/Sidewalk,10466,4069 BARNES AVENUE,BARNES AVENUE,EAST 228 STREET,EAST 229 STREET,,,ADDRESS,BRONX,,Precinct,Closed,09/01/2016 08:11:24 AM,The Police Department reviewed your complaint and provided additional information below.,09/02/2016 04:54:51 PM,12 BRONX,BRONX,1023994,263312,Unspecified,BRONX,Unspecified,Unspecified,Unspecified,Unspecified,Unspecified,Unspecified,Unspecified,Unspecified,Unspecified,N,,,,,,,,,,,,40.8893150523013,-73.85625691673303,\"(40.8893150523013, -73.85625691673303)\"\n",
      "34218143,09/01/2016 12:11:41 AM,09/01/2016 02:11:56 AM,NYPD,New York City Police Department,Noise - Residential,Banging/Pounding,Residential Building/House,11355,142-12 41 AVENUE,41 AVENUE,UNION STREET,BOWNE STREET,,,ADDRESS,FLUSHING,,Precinct,Closed,09/01/2016 08:11:41 AM,The Police Department responded to the complaint and with the information available observed no evidence of the violation at that time.,09/01/2016 02:11:56 AM,07 QUEENS,QUEENS,1032597,216015,Unspecified,QUEENS,Unspecified,Unspecified,Unspecified,Unspecified,Unspecified,Unspecified,Unspecified,Unspecified,Unspecified,N,,,,,,,,,,,,40.759455560769595,-73.8254831111012,\"(40.759455560769595, -73.8254831111012)\"\n",
      "34222231,09/01/2016 12:13:00 AM,09/01/2016 12:00:00 PM,DSNY,Brooklyn South 10,Derelict Vehicles,14 Derelict Vehicles,Street,11209,9321 RIDGE BOULEVARD,RIDGE BOULEVARD,93 STREET,94 STREET,,,ADDRESS,BROOKLYN,,N/A,Pending,,The Department of Sanitation removed the items.,09/01/2016 12:13:00 AM,10 BROOKLYN,BROOKLYN,974316,164824,Unspecified,BROOKLYN,Unspecified,Unspecified,Unspecified,Unspecified,Unspecified,Unspecified,Unspecified,Unspecified,Unspecified,,,,,,,,,,,,,40.619074690688336,-74.03578305984678,\"(40.619074690688336, -74.03578305984678)\"\n",
      "34217303,09/01/2016 12:13:16 AM,09/01/2016 02:56:50 AM,NYPD,New York City Police Department,Illegal Parking,Double Parked Blocking Traffic,Street/Sidewalk,10003,BOWERY,BOWERY,,,,,LATLONG,NEW YORK,,Precinct,Closed,09/01/2016 08:13:16 AM,The Police Department responded to the complaint and with the information available observed no evidence of the violation at that time.,09/01/2016 02:56:50 AM,03 MANHATTAN,MANHATTAN,986426,203499,Unspecified,MANHATTAN,Unspecified,Unspecified,Unspecified,Unspecified,Unspecified,Unspecified,Unspecified,Unspecified,Unspecified,N,,,,,,,,,,,,40.72523418153373,-73.99214938889838,\"(40.72523418153373, -73.99214938889838)\"\n",
      "34213421,09/01/2016 12:13:22 AM,09/01/2016 04:19:55 AM,NYPD,New York City Police Department,Noise - Street/Sidewalk,Loud Music/Party,Street/Sidewalk,11238,135 EASTERN PARKWAY,EASTERN PARKWAY,UNDERHILL AVENUE,BEND,,,ADDRESS,BROOKLYN,,Precinct,Closed,09/01/2016 08:13:22 AM,The Police Department responded to the complaint and with the information available observed no evidence of the violation at that time.,09/01/2016 04:19:55 AM,08 BROOKLYN,BROOKLYN,994156,184165,Unspecified,BROOKLYN,Unspecified,Unspecified,Unspecified,Unspecified,Unspecified,Unspecified,Unspecified,Unspecified,Unspecified,N,,,,,,,,,,,,40.67216158783738,-73.96428939702098,\"(40.67216158783738, -73.96428939702098)\"\n",
      "34215972,09/01/2016 12:13:30 AM,09/01/2016 05:56:13 AM,NYPD,New York City Police Department,Blocked Driveway,No Access,Street/Sidewalk,11411,118-28 219 STREET,219 STREET,118 AVENUE,119 AVENUE,,,ADDRESS,CAMBRIA HEIGHTS,,Precinct,Closed,09/01/2016 08:13:30 AM,The Police Department responded and upon arrival those responsible for the condition were gone.,09/01/2016 05:56:13 AM,13 QUEENS,QUEENS,1055754,191946,Unspecified,QUEENS,Unspecified,Unspecified,Unspecified,Unspecified,Unspecified,Unspecified,Unspecified,Unspecified,Unspecified,N,,,,,,,,,,,,40.693235345638115,-73.74215004653367,\"(40.693235345638115, -73.74215004653367)\"\n",
      "34222268,09/01/2016 12:14:00 AM,,DEP,Department of Environmental Protection,Noise,Noise: Jack Hammering (NC2),,10001,401 WEST   31 STREET,WEST   31 STREET,9 AVE,LINCOLN TUNNEL APPROACH,,,ADDRESS,NEW YORK,,N/A,Open,,,,04 MANHATTAN,MANHATTAN,984824,213090,Unspecified,MANHATTAN,Unspecified,Unspecified,Unspecified,Unspecified,Unspecified,Unspecified,Unspecified,Unspecified,Unspecified,,,,,,,,,,,,,40.75155934859421,-73.99792829432809,\"(40.75155934859421, -73.99792829432809)\"\n",
      "34221144,09/01/2016 12:14:00 AM,09/02/2016 12:14:00 AM,DEP,Department of Environmental Protection,Lead,Lead Kit Request (Residential) (L10),,10012,2 WASHINGTON SQUARE VILLAGE,WASHINGTON SQUARE VILLAGE,MERCER ST,W BROADWAY,,,ADDRESS,NEW YORK,,N/A,Closed,,The Department of Environmental Protection investigated this complaint and created a Service Request to have a Lead Test Kit sent to the complainant.,09/02/2016 12:14:00 AM,02 MANHATTAN,MANHATTAN,985366,204639,Unspecified,MANHATTAN,Unspecified,Unspecified,Unspecified,Unspecified,Unspecified,Unspecified,Unspecified,Unspecified,Unspecified,,,,,,,,,,,,,40.72836340128487,-73.99597348649338,\"(40.72836340128487, -73.99597348649338)\"\n",
      "34213744,09/01/2016 12:14:12 AM,09/01/2016 05:56:09 AM,NYPD,New York City Police Department,Noise - Commercial,Loud Music/Party,Club/Bar/Restaurant,11433,92-06 173 STREET,173 STREET,JAMAICA AVENUE,93 AVENUE,,,ADDRESS,JAMAICA,,Precinct,Closed,09/01/2016 08:14:12 AM,The Police Department responded to the complaint and with the information available observed no evidence of the violation at that time.,09/01/2016 05:56:09 AM,12 QUEENS,QUEENS,1043415,197121,Unspecified,QUEENS,Unspecified,Unspecified,Unspecified,Unspecified,Unspecified,Unspecified,Unspecified,Unspecified,Unspecified,N,,,,,,,,,,,,40.70753055918456,-73.78659995072763,\"(40.70753055918456, -73.78659995072763)\"\n",
      "34224352,09/01/2016 12:15:00 AM,09/01/2016 12:00:00 PM,DSNY,Bronx 04,Sanitation Condition,15 Street Cond/Dump-Out/Drop-Off,Street,10456,1420 GRAND CONCOURSE,GRAND CONCOURSE,EAST 170 STREET,EAST 171 STREET,,,ADDRESS,BRONX,,N/A,Closed,,The Department of Sanitation investigated this complaint and issued a Notice of Violation.,09/01/2016 12:00:00 PM,04 BRONX,BRONX,1008199,245050,Unspecified,BRONX,Unspecified,Unspecified,Unspecified,Unspecified,Unspecified,Unspecified,Unspecified,Unspecified,Unspecified,,,,,,,,,,,,,40.83924842108658,-73.9134482849396,\"(40.83924842108658, -73.9134482849396)\"\n",
      "34223699,09/01/2016 12:15:00 AM,,DEP,Department of Environmental Protection,Air Quality,\"Air: Smoke, Chimney or vent (AS1)\",,10009,,,,,A AVENUE,EAST 5 STREET,INTERSECTION,NEW YORK,,N/A,Open,,,,03 MANHATTAN,MANHATTAN,988573,203364,Unspecified,MANHATTAN,Unspecified,Unspecified,Unspecified,Unspecified,Unspecified,Unspecified,Unspecified,Unspecified,Unspecified,,,,,,,,,,,,,40.72486285062061,-73.98440349134948,\"(40.72486285062061, -73.98440349134948)\"\n",
      "34213166,09/01/2016 12:15:00 AM,09/01/2016 04:50:32 AM,NYPD,New York City Police Department,Noise - Street/Sidewalk,Loud Talking,Street/Sidewalk,11221,646 KOSCIUSKO STREET,KOSCIUSKO STREET,BROADWAY,BUSHWICK AVENUE,,,ADDRESS,BROOKLYN,,Precinct,Closed,09/01/2016 08:15:00 AM,The Police Department responded and upon arrival those responsible for the condition were gone.,09/01/2016 04:50:32 AM,04 BROOKLYN,BROOKLYN,1004273,192099,Unspecified,BROOKLYN,Unspecified,Unspecified,Unspecified,Unspecified,Unspecified,Unspecified,Unspecified,Unspecified,Unspecified,N,,,,,,,,,,,,40.6939215015067,-73.9277945865984,\"(40.6939215015067, -73.9277945865984)\"\n",
      "34212338,09/01/2016 12:15:50 AM,09/01/2016 06:08:20 AM,NYPD,New York City Police Department,Noise - Street/Sidewalk,Loud Music/Party,Street/Sidewalk,11434,114-46 158 STREET,158 STREET,MEYER AVENUE,115 ROAD,,,ADDRESS,JAMAICA,,Precinct,Closed,09/01/2016 08:15:50 AM,The Police Department responded to the complaint and with the information available observed no evidence of the violation at that time.,09/01/2016 06:08:20 AM,12 QUEENS,QUEENS,1042873,189735,Unspecified,QUEENS,Unspecified,Unspecified,Unspecified,Unspecified,Unspecified,Unspecified,Unspecified,Unspecified,Unspecified,N,,,,,,,,,,,,40.68726137504832,-73.7886191483978,\"(40.68726137504832, -73.7886191483978)\"\n",
      "34210938,09/01/2016 12:15:55 AM,09/01/2016 11:23:34 PM,NYPD,New York City Police Department,Noise - Residential,Loud Music/Party,Residential Building/House,10454,282 BROOK AVENUE,BROOK AVENUE,EAST 139 STREET,EAST 140 STREET,,,ADDRESS,BRONX,,Precinct,Closed,09/01/2016 08:15:55 AM,The Police Department responded to the complaint and with the information available observed no evidence of the violation at that time.,09/01/2016 11:23:34 PM,01 BRONX,BRONX,1006781,233878,Unspecified,BRONX,Unspecified,Unspecified,Unspecified,Unspecified,Unspecified,Unspecified,Unspecified,Unspecified,Unspecified,N,,,,,,,,,,,,40.80858819601399,-73.91861044996179,\"(40.80858819601399, -73.91861044996179)\"\n",
      "34216167,09/01/2016 12:16:00 AM,09/02/2016 11:20:00 PM,DOT,Department of Transportation,Street Light Condition,Street Light Out,,,677 204 ST W,204 ST W,BROADWAY,COOPER ST,,,ADDRESS,,,N/A,Closed,,Service Request status for this request is available on the Department of Transportationâs website. Please click the âLearn Moreâ link below.,09/02/2016 11:20:00 PM,Unspecified MANHATTAN,MANHATTAN,,,Unspecified,MANHATTAN,Unspecified,Unspecified,Unspecified,Unspecified,Unspecified,Unspecified,Unspecified,Unspecified,Unspecified,,,,,,,,,,,,,,,\n",
      "34216756,09/01/2016 12:16:47 AM,09/02/2016 11:34:16 AM,DCA,Department of Consumer Affairs,Consumer Complaint,Overcharge,,11417,135-45 CROSS BAY BOULEVARD,CROSS BAY BOULEVARD,REDDING STREET,PITKIN AVENUE,,,ADDRESS,OZONE PARK,,N/A,Closed,09/05/2016 12:16:47 AM,\"Unfortunately, the behavior that you complained about does not violate any law or rule. As a result, no city agency has the jurisdiction to act on the matter.\",09/02/2016 11:34:16 AM,10 QUEENS,QUEENS,1027732,184438,Unspecified,QUEENS,Unspecified,Unspecified,Unspecified,Unspecified,Unspecified,Unspecified,Unspecified,Unspecified,Unspecified,N,,,,,,,,,,,,40.672809669126686,-73.84324810086851,\"(40.672809669126686, -73.84324810086851)\"\n",
      "34213978,09/01/2016 12:17:06 AM,09/01/2016 02:28:50 AM,NYPD,New York City Police Department,Noise - Commercial,Loud Music/Party,Club/Bar/Restaurant,11236,1370 ROCKAWAY PARKWAY,ROCKAWAY PARKWAY,FARRAGUT ROAD,SMITHS LANE,,,ADDRESS,BROOKLYN,,Precinct,Closed,09/01/2016 08:17:06 AM,The Police Department responded to the complaint and with the information available observed no evidence of the violation at that time.,09/01/2016 02:28:50 AM,18 BROOKLYN,BROOKLYN,1010983,174768,Unspecified,BROOKLYN,Unspecified,Unspecified,Unspecified,Unspecified,Unspecified,Unspecified,Unspecified,Unspecified,Unspecified,N,,,,,,,,,,,,40.646334085527656,-73.90366624505096,\"(40.646334085527656, -73.90366624505096)\"\n",
      "34216504,09/01/2016 12:17:42 AM,09/01/2016 06:08:23 AM,NYPD,New York City Police Department,Noise - Street/Sidewalk,Loud Music/Party,Street/Sidewalk,11434,114-38 158 STREET,158 STREET,MEYER AVENUE,115 ROAD,,,ADDRESS,JAMAICA,,Precinct,Closed,09/01/2016 08:17:42 AM,The Police Department responded to the complaint and with the information available observed no evidence of the violation at that time.,09/01/2016 06:08:23 AM,12 QUEENS,QUEENS,1042844,189758,Unspecified,QUEENS,Unspecified,Unspecified,Unspecified,Unspecified,Unspecified,Unspecified,Unspecified,Unspecified,Unspecified,N,,,,,,,,,,,,40.6873246966227,-73.78872351519618,\"(40.6873246966227, -73.78872351519618)\"\n",
      "34213839,09/01/2016 12:17:52 AM,09/01/2016 06:09:43 AM,NYPD,New York City Police Department,Noise - Street/Sidewalk,Loud Music/Party,Street/Sidewalk,11238,842 WASHINGTON AVENUE,WASHINGTON AVENUE,ST JOHNS PLACE,LINCOLN PLACE,,,ADDRESS,BROOKLYN,,Precinct,Closed,09/01/2016 08:17:52 AM,The Police Department responded to the complaint and with the information available observed no evidence of the violation at that time.,09/01/2016 06:09:43 AM,08 BROOKLYN,BROOKLYN,994556,184471,Unspecified,BROOKLYN,Unspecified,Unspecified,Unspecified,Unspecified,Unspecified,Unspecified,Unspecified,Unspecified,Unspecified,N,,,,,,,,,,,,40.67300103249724,-73.96284695060235,\"(40.67300103249724, -73.96284695060235)\"\n",
      "34217179,09/01/2016 12:18:13 AM,09/01/2016 05:10:02 AM,NYPD,New York City Police Department,Illegal Parking,Blocked Hydrant,Street/Sidewalk,11218,1163 40 STREET,40 STREET,FT HAMILTON PARKWAY,12 AVENUE,,,ADDRESS,BROOKLYN,,Precinct,Closed,09/01/2016 08:18:13 AM,The Police Department issued a summons in response to the complaint.,09/01/2016 05:10:02 AM,12 BROOKLYN,BROOKLYN,987044,173146,Unspecified,BROOKLYN,Unspecified,Unspecified,Unspecified,Unspecified,Unspecified,Unspecified,Unspecified,Unspecified,Unspecified,N,,,,,,,,,,,,40.64192195131148,-73.9899323435359,\"(40.64192195131148, -73.9899323435359)\"\n",
      "34216324,09/01/2016 12:18:28 AM,,ACS,ACS,Forms,Community Outreach,,,,,,,,,,,,,Email Sent,09/15/2016 12:18:34 AM,,,0 Unspecified,Unspecified,,,Unspecified,Unspecified,Unspecified,Unspecified,Unspecified,Unspecified,Unspecified,Unspecified,Unspecified,Unspecified,Unspecified,,,,,,,,,1-1-1299426407,,,,,,\n",
      "34211957,09/01/2016 12:19:32 AM,09/01/2016 03:28:33 AM,NYPD,New York City Police Department,Illegal Parking,Blocked Hydrant,Street/Sidewalk,11204,2131 71 STREET,71 STREET,21 AVENUE,BAY PARKWAY,,,ADDRESS,BROOKLYN,,Precinct,Closed,09/01/2016 08:19:32 AM,The Police Department responded to the complaint and determined that police action was not necessary.,09/01/2016 03:28:33 AM,11 BROOKLYN,BROOKLYN,988033,161993,Unspecified,BROOKLYN,Unspecified,Unspecified,Unspecified,Unspecified,Unspecified,Unspecified,Unspecified,Unspecified,Unspecified,N,,,,,,,,,,,,40.61130894279118,-73.98637491794774,\"(40.61130894279118, -73.98637491794774)\"\n",
      "34211967,09/01/2016 12:19:49 AM,09/01/2016 04:05:03 AM,NYPD,New York City Police Department,Noise - Residential,Loud Music/Party,Residential Building/House,11225,,,,,UNION STREET,CLASSON AVENUE,INTERSECTION,BROOKLYN,,Precinct,Closed,09/01/2016 08:19:49 AM,The Police Department responded to the complaint and determined that police action was not necessary.,09/01/2016 04:05:03 AM,09 BROOKLYN,BROOKLYN,994885,183552,Unspecified,BROOKLYN,Unspecified,Unspecified,Unspecified,Unspecified,Unspecified,Unspecified,Unspecified,Unspecified,Unspecified,N,,,,,,,,,,,,40.670478194523135,-73.96166235828056,\"(40.670478194523135, -73.96166235828056)\"\n",
      "34212999,09/01/2016 12:20:27 AM,09/01/2016 01:58:51 AM,NYPD,New York City Police Department,Illegal Parking,Posted Parking Sign Violation,Street/Sidewalk,10027,3002 BROADWAY,BROADWAY,WEST 116 STREET,WEST 120 STREET,,,ADDRESS,NEW YORK,,Precinct,Closed,09/01/2016 08:20:27 AM,The Police Department responded to the complaint and with the information available observed no evidence of the violation at that time.,09/01/2016 01:58:51 AM,09 MANHATTAN,MANHATTAN,994449,234020,Unspecified,MANHATTAN,Unspecified,Unspecified,Unspecified,Unspecified,Unspecified,Unspecified,Unspecified,Unspecified,Unspecified,N,,,,,,,,,,,,40.80900078927538,-73.96315755751426,\"(40.80900078927538, -73.96315755751426)\"\n",
      "34214166,09/01/2016 12:21:04 AM,09/01/2016 12:47:21 AM,NYPD,New York City Police Department,Noise - Park,Loud Music/Party,Park/Playground,10023,235 WEST 63 STREET,WEST 63 STREET,PEDESTRIAN PATH,WEST END AVENUE,,,ADDRESS,NEW YORK,,Precinct,Closed,09/01/2016 08:21:04 AM,The Police Department responded to the complaint and took action to fix the condition.,09/01/2016 12:47:21 AM,07 MANHATTAN,MANHATTAN,987616,221189,Unspecified,MANHATTAN,Unspecified,Unspecified,Unspecified,Unspecified,Unspecified,Unspecified,Unspecified,Unspecified,Unspecified,N,,,,,,,,,,,,40.77378839670657,-73.98784723163601,\"(40.77378839670657, -73.98784723163601)\"\n",
      "34214406,09/01/2016 12:21:21 AM,09/01/2016 06:02:06 AM,NYPD,New York City Police Department,Blocked Driveway,Partial Access,Street/Sidewalk,11413,220-02 135 AVENUE,135 AVENUE,220 STREET,220 PLACE,,,ADDRESS,SPRINGFIELD GARDENS,,Precinct,Closed,09/01/2016 08:21:21 AM,The Police Department responded to the complaint and with the information available observed no evidence of the violation at that time.,09/01/2016 06:02:07 AM,13 QUEENS,QUEENS,1053495,186226,Unspecified,QUEENS,Unspecified,Unspecified,Unspecified,Unspecified,Unspecified,Unspecified,Unspecified,Unspecified,Unspecified,N,,,,,,,,,,,,40.67755328034302,-73.75035494665852,\"(40.67755328034302, -73.75035494665852)\"\n",
      "34213441,09/01/2016 12:21:59 AM,09/01/2016 04:19:54 AM,NYPD,New York City Police Department,Noise - Park,Loud Music/Party,Park/Playground,11238,,,,,UNDERHILL AVENUE,EASTERN PARKWAY,INTERSECTION,BROOKLYN,,Precinct,Closed,09/01/2016 08:21:59 AM,The Police Department responded to the complaint and with the information available observed no evidence of the violation at that time.,09/01/2016 04:19:54 AM,08 BROOKLYN,BROOKLYN,993280,184460,Unspecified,BROOKLYN,Unspecified,Unspecified,Unspecified,Unspecified,Unspecified,Unspecified,Unspecified,Unspecified,Unspecified,N,,,,,,,,,,,,40.672972233472,-73.96744693490606,\"(40.672972233472, -73.96744693490606)\"\n",
      "34225420,09/01/2016 12:22:00 AM,09/01/2016 12:24:00 AM,DEP,Department of Environmental Protection,Water System,Hydrant Running Full (WA4),,10031,513 WEST  135 STREET,WEST  135 STREET,AMSTERDAM AVE,BROADWAY,,,ADDRESS,NEW YORK,,N/A,Closed,,The Department of Environmental Protection determined that this complaint is a duplicate of a previously filed complaint. The original complaint is being addressed.,09/01/2016 12:24:00 AM,09 MANHATTAN,MANHATTAN,997301,237743,Unspecified,MANHATTAN,Unspecified,Unspecified,Unspecified,Unspecified,Unspecified,Unspecified,Unspecified,Unspecified,Unspecified,,,,,,,,,,,,,40.819215630339144,-73.95284787409446,\"(40.819215630339144, -73.95284787409446)\"\n",
      "34215208,09/01/2016 12:22:00 AM,,DOT,Department of Transportation,Street Light Condition,Street Light Out,,,314 100 ST E,100 ST E,1 AVE,2 AVE,,,ADDRESS,,,N/A,Assigned,,Service Request status for this request is available on the Department of Transportationâs website. Please click the âLearn Moreâ link below.,09/01/2016 09:55:00 PM,Unspecified MANHATTAN,MANHATTAN,,,Unspecified,MANHATTAN,Unspecified,Unspecified,Unspecified,Unspecified,Unspecified,Unspecified,Unspecified,Unspecified,Unspecified,,,,,,,,,,,,,,,\n",
      "34211102,09/01/2016 12:22:45 AM,,DOT,Department of Transportation,Street Condition,Pothole,,11223,2261 EAST    8 STREET,EAST    8 STREET,AVENUE V,GRAVESEND NECK ROAD,,,ADDRESS,BROOKLYN,,N/A,Open,,The Department of Transportation referred this complaint to the appropriate Maintenance Unit for repair.,09/01/2016 12:22:45 AM,15 BROOKLYN,BROOKLYN,994691,155989,Unspecified,BROOKLYN,Unspecified,Unspecified,Unspecified,Unspecified,Unspecified,Unspecified,Unspecified,Unspecified,Unspecified,,,,,,,,,,,,,40.59482384199664,-73.96240434458852,\"(40.59482384199664, -73.96240434458852)\"\n",
      "34211752,09/01/2016 12:23:00 AM,09/01/2016 10:20:00 PM,DOT,Department of Transportation,Street Light Condition,Street Light Out,,,,,,,1 AVE,100 ST E,INTERSECTION,,,N/A,Closed,,Service Request status for this request is available on the Department of Transportationâs website. Please click the âLearn Moreâ link below.,09/01/2016 10:20:00 PM,Unspecified MANHATTAN,MANHATTAN,,,Unspecified,MANHATTAN,Unspecified,Unspecified,Unspecified,Unspecified,Unspecified,Unspecified,Unspecified,Unspecified,Unspecified,,,,,,,,,,,,,,,\n",
      "34224255,09/01/2016 12:24:00 AM,,DEP,Department of Environmental Protection,Noise,Noise: Construction Before/After Hours (NM1),,10039,,,,,WEST 155 STREET,FREDERICK DOUGLASS BOULEVARD,INTERSECTION,NEW YORK,,N/A,Open,,,,10 MANHATTAN,MANHATTAN,1001611,241370,Unspecified,MANHATTAN,Unspecified,Unspecified,Unspecified,Unspecified,Unspecified,Unspecified,Unspecified,Unspecified,Unspecified,,,,,,,,,,,,,40.82916329411408,-73.93726683976101,\"(40.82916329411408, -73.93726683976101)\"\n",
      "34216968,09/01/2016 12:24:00 AM,09/01/2016 09:33:00 AM,DOT,Department of Transportation,Street Light Condition,Street Light Out,,11362,,,,,57 AVENUE,255 STREET,INTERSECTION,Little Neck,,N/A,Closed,,Service Request status for this request is available on the Department of Transportationâs website. Please click the âLearn Moreâ link below.,09/01/2016 09:33:00 AM,11 QUEENS,QUEENS,1060234,217434,Unspecified,QUEENS,Unspecified,Unspecified,Unspecified,Unspecified,Unspecified,Unspecified,Unspecified,Unspecified,Unspecified,,,,,,,,,,,,,40.76315601171262,-73.72570705681578,\"(40.76315601171262, -73.72570705681578)\"\n",
      "34216052,09/01/2016 12:24:10 AM,09/01/2016 04:40:17 PM,DPR,Department of Parks and Recreation,Damaged Tree,Branch or Limb Has Fallen Down,Street,11377,50-14 BROADWAY,BROADWAY,49 STREET,51 STREET,,,ADDRESS,WOODSIDE,,N/A,Closed,09/09/2016 06:27:18 AM,No action was taken because the Department of Parks and Recreation determined that the issue is out of its jurisdiction. The condition may be on private property or in an area serviced by another organization.,09/01/2016 04:40:17 PM,01 QUEENS,QUEENS,1009017,214363,Unspecified,QUEENS,Unspecified,Unspecified,Unspecified,Unspecified,Unspecified,Unspecified,Unspecified,Unspecified,Unspecified,,,,,,,,,,,,,40.75501874230602,-73.91060521258929,\"(40.75501874230602, -73.91060521258929)\"\n",
      "34225272,09/01/2016 12:25:00 AM,,DEP,Department of Environmental Protection,Noise,Noise: Jack Hammering (NC2),,10001,406 WEST   31 STREET,WEST   31 STREET,9 AVE,LINCOLN TUNNEL APPROACH,,,ADDRESS,NEW YORK,,N/A,Open,,,,04 MANHATTAN,MANHATTAN,984765,213117,Unspecified,MANHATTAN,Unspecified,Unspecified,Unspecified,Unspecified,Unspecified,Unspecified,Unspecified,Unspecified,Unspecified,,,,,,,,,,,,,40.75163346039767,-73.99814123761671,\"(40.75163346039767, -73.99814123761671)\"\n",
      "34222223,09/01/2016 12:25:00 AM,,DEP,Department of Environmental Protection,Noise,Noise: Construction Before/After Hours (NM1),,10001,460 WEST   31 STREET,WEST   31 STREET,LINCOLN TUNNEL APPROACH,10 AVE,,,ADDRESS,NEW YORK,,N/A,Open,,,,04 MANHATTAN,MANHATTAN,984275,213402,Unspecified,MANHATTAN,Unspecified,Unspecified,Unspecified,Unspecified,Unspecified,Unspecified,Unspecified,Unspecified,Unspecified,,,,,,,,,,,,,40.75241572822062,-73.99990976775675,\"(40.75241572822062, -73.99990976775675)\"\n",
      "34218580,09/01/2016 12:25:32 AM,09/01/2016 04:19:53 AM,NYPD,New York City Police Department,Noise - Street/Sidewalk,Loud Music/Party,Street/Sidewalk,11238,125 EASTERN PARKWAY,EASTERN PARKWAY,UNDERHILL AVENUE,BEND,,,ADDRESS,BROOKLYN,,Precinct,Closed,09/01/2016 08:25:32 AM,The Police Department responded to the complaint and with the information available observed no evidence of the violation at that time.,09/01/2016 04:19:53 AM,08 BROOKLYN,BROOKLYN,993913,184267,Unspecified,BROOKLYN,Unspecified,Unspecified,Unspecified,Unspecified,Unspecified,Unspecified,Unspecified,Unspecified,Unspecified,N,,,,,,,,,,,,40.672441823514696,-73.96516525277444,\"(40.672441823514696, -73.96516525277444)\"\n",
      "34211701,09/01/2016 12:25:34 AM,09/01/2016 04:06:06 AM,NYPD,New York City Police Department,Noise - Street/Sidewalk,Loud Music/Party,Street/Sidewalk,11225,,,,,WASHINGTON AVENUE,CARROLL STREET,INTERSECTION,BROOKLYN,,Precinct,Closed,09/01/2016 08:25:34 AM,The Police Department responded to the complaint and determined that police action was not necessary.,09/01/2016 04:06:06 AM,09 BROOKLYN,BROOKLYN,994793,182891,Unspecified,BROOKLYN,Unspecified,Unspecified,Unspecified,Unspecified,Unspecified,Unspecified,Unspecified,Unspecified,Unspecified,N,,,,,,,,,,,,40.66866400736249,-73.96199503878134,\"(40.66866400736249, -73.96199503878134)\"\n",
      "34218966,09/01/2016 12:26:02 AM,09/01/2016 03:42:01 PM,NYPD,New York City Police Department,Noise - Street/Sidewalk,Loud Talking,Street/Sidewalk,10040,129 NAGLE AVENUE,NAGLE AVENUE,SICKLES STREET,ARDEN STREET,,,ADDRESS,NEW YORK,,Precinct,Closed,09/01/2016 08:26:02 AM,The Police Department responded to the complaint and with the information available observed no evidence of the violation at that time.,09/01/2016 03:42:01 PM,12 MANHATTAN,MANHATTAN,1004500,252913,Unspecified,MANHATTAN,Unspecified,Unspecified,Unspecified,Unspecified,Unspecified,Unspecified,Unspecified,Unspecified,Unspecified,N,,,,,,,,,,,,40.860839278581864,-73.92679271990852,\"(40.860839278581864, -73.92679271990852)\"\n",
      "34223817,09/01/2016 12:26:12 AM,,HPD,Department of Housing Preservation and Development,DOOR/WINDOW,DOOR,RESIDENTIAL BUILDING,10454,282 BROOK AVENUE,BROOK AVENUE,,,,,ADDRESS,BRONX,,N/A,Open,,\"The Department of Housing Preservation and Development was not able to gain access to inspect the conditions. If the conditions still exist and an inspection is required, please contact the borough office with your complaint number at 718 579-6777 (BRONX).\",09/01/2016 12:00:00 AM,01 BRONX,BRONX,1006781,233878,Unspecified,BRONX,Unspecified,Unspecified,Unspecified,Unspecified,Unspecified,Unspecified,Unspecified,Unspecified,Unspecified,,,,,,,,,,,,,40.80858819601399,-73.91861044996179,\"(40.80858819601399, -73.91861044996179)\"\n",
      "34218182,09/01/2016 12:26:27 AM,09/01/2016 01:35:03 AM,NYPD,New York City Police Department,Noise - Residential,Banging/Pounding,Residential Building/House,11212,501 THATFORD AVENUE,THATFORD AVENUE,LOTT AVENUE,HEGEMAN AVENUE,,,ADDRESS,BROOKLYN,,Precinct,Closed,09/01/2016 08:26:27 AM,The Police Department responded to the complaint and took action to fix the condition.,09/01/2016 01:35:04 AM,16 BROOKLYN,BROOKLYN,1010154,178838,Unspecified,BROOKLYN,Unspecified,Unspecified,Unspecified,Unspecified,Unspecified,Unspecified,Unspecified,Unspecified,Unspecified,N,,,,,,,,,,,,40.65750780667287,-73.90663795568324,\"(40.65750780667287, -73.90663795568324)\"\n",
      "34216138,09/01/2016 12:28:10 AM,09/01/2016 03:28:20 AM,NYPD,New York City Police Department,Noise - Residential,Banging/Pounding,Residential Building/House,10457,2089 ANTHONY AVENUE,ANTHONY AVENUE,EAST 180 STREET,EAST 181 STREET,,,ADDRESS,BRONX,,Precinct,Closed,09/01/2016 08:28:10 AM,The Police Department responded to the complaint and with the information available observed no evidence of the violation at that time.,09/01/2016 03:28:20 AM,05 BRONX,BRONX,1011471,250229,Unspecified,BRONX,Unspecified,Unspecified,Unspecified,Unspecified,Unspecified,Unspecified,Unspecified,Unspecified,Unspecified,N,,,,,,,,,,,,40.853453764088435,-73.90160225766626,\"(40.853453764088435, -73.90160225766626)\"\n",
      "34218992,09/01/2016 12:28:44 AM,09/01/2016 03:42:05 PM,NYPD,New York City Police Department,Noise - Street/Sidewalk,Loud Music/Party,Street/Sidewalk,10040,600 WEST 192 STREET,WEST 192 STREET,ST NICHOLAS AVENUE,WADSWORTH AVENUE,,,ADDRESS,NEW YORK,,Precinct,Closed,09/01/2016 08:28:44 AM,The Police Department responded to the complaint and with the information available observed no evidence of the violation at that time.,09/01/2016 03:42:05 PM,12 MANHATTAN,MANHATTAN,1003928,251236,Unspecified,MANHATTAN,Unspecified,Unspecified,Unspecified,Unspecified,Unspecified,Unspecified,Unspecified,Unspecified,Unspecified,N,,,,,,,,,,,,40.85623771170069,-73.92886552195142,\"(40.85623771170069, -73.92886552195142)\"\n",
      "34217470,09/01/2016 12:29:13 AM,,3-1-1,311 Executive Office - EC,Agency Issues,Call Center Complaint,,,,,,,,,,,,N/A,Open,09/15/2016 12:33:46 AM,Your comments have been submitted to the 311 Call Center.  Status is usually available in 14 days. Please note your service request number for future reference.,,0 Unspecified,Unspecified,,,Unspecified,Unspecified,Unspecified,Unspecified,Unspecified,Unspecified,Unspecified,Unspecified,Unspecified,Unspecified,Unspecified,N,,,,,,,,,,,,,,\n",
      "34214839,09/01/2016 12:29:20 AM,09/01/2016 08:06:34 PM,NYPD,New York City Police Department,Noise - Residential,Loud Television,Residential Building/House,11229,3040 AVENUE W,AVENUE W,BATCHELDER STREET,BRAGG STREET,,,ADDRESS,BROOKLYN,,Precinct,Closed,09/01/2016 08:29:20 AM,The Police Department responded to the complaint and with the information available observed no evidence of the violation at that time.,09/01/2016 08:06:34 PM,15 BROOKLYN,BROOKLYN,1001875,156569,Unspecified,BROOKLYN,Unspecified,Unspecified,Unspecified,Unspecified,Unspecified,Unspecified,Unspecified,Unspecified,Unspecified,N,,,,,,,,,,,,40.596404450232136,-73.93653489611431,\"(40.596404450232136, -73.93653489611431)\"\n",
      "34216795,09/01/2016 12:30:55 AM,09/01/2016 12:31:35 AM,HRA,HRA Benefit Card Replacement,Benefit Card Replacement,Food Stamp,NYC Street Address,,,,,,,,,,,N/A,Closed,,\"The Human Resources Administration received your request. If you are eligible for a benefit card replacement, you will receive it in 7 to 10 business days. No further updates will be available by calling 311 or on 311 Online.\",,0 Unspecified,Unspecified,,,Unspecified,Unspecified,Unspecified,Unspecified,Unspecified,Unspecified,Unspecified,Unspecified,Unspecified,Unspecified,Unspecified,N,,,,,,,,,,,,,,\n",
      "34211839,09/01/2016 12:30:59 AM,09/01/2016 11:59:43 AM,NYPD,New York City Police Department,Blocked Driveway,No Access,Street/Sidewalk,11229,1810 EAST 18 STREET,EAST 18 STREET,AVENUE R,AVENUE S,,,ADDRESS,BROOKLYN,,Precinct,Closed,09/01/2016 08:30:59 AM,The Police Department responded and upon arrival those responsible for the condition were gone.,09/01/2016 11:59:43 AM,15 BROOKLYN,BROOKLYN,996803,159926,Unspecified,BROOKLYN,Unspecified,Unspecified,Unspecified,Unspecified,Unspecified,Unspecified,Unspecified,Unspecified,Unspecified,N,,,,,,,,,,,,40.60562736792954,-73.95479220020816,\"(40.60562736792954, -73.95479220020816)\"\n",
      "34221378,09/01/2016 12:31:00 AM,09/03/2016 03:30:00 AM,DEP,Department of Environmental Protection,Water System,Hydrant Running (WC3),,11207,83 VAN SICLEN AVENUE,VAN SICLEN AVENUE,ARLINGTON AVE,FULTON ST,,,ADDRESS,BROOKLYN,,N/A,Closed,,The Department of Environmental Protection investigated this complaint and shut the running hydrant.,09/03/2016 03:30:00 AM,05 BROOKLYN,BROOKLYN,1014266,186493,Unspecified,BROOKLYN,Unspecified,Unspecified,Unspecified,Unspecified,Unspecified,Unspecified,Unspecified,Unspecified,Unspecified,,,,,,,,,,,,,40.67850607568998,-73.8917835982187,\"(40.67850607568998, -73.8917835982187)\"\n",
      "34213443,09/01/2016 12:31:49 AM,09/01/2016 04:18:49 AM,NYPD,New York City Police Department,Noise - Street/Sidewalk,Loud Music/Party,Street/Sidewalk,11238,115 EASTERN PARKWAY,EASTERN PARKWAY,UNDERHILL AVENUE,BEND,,,ADDRESS,BROOKLYN,,Precinct,Closed,09/01/2016 08:31:49 AM,The Police Department responded to the complaint and with the information available observed no evidence of the violation at that time.,09/01/2016 04:18:50 AM,08 BROOKLYN,BROOKLYN,993855,184290,Unspecified,BROOKLYN,Unspecified,Unspecified,Unspecified,Unspecified,Unspecified,Unspecified,Unspecified,Unspecified,Unspecified,N,,,,,,,,,,,,40.672505016468776,-73.96537430777059,\"(40.672505016468776, -73.96537430777059)\"\n",
      "34211256,09/01/2016 12:31:52 AM,09/01/2016 12:32:37 AM,HRA,HRA Benefit Card Replacement,Benefit Card Replacement,Medicaid,NYC Street Address,,,,,,,,,,,N/A,Closed,,\"The Human Resources Administration received your request. If you are eligible for a benefit card replacement, you will receive it in 7 to 10 business days. No further updates will be available by calling 311 or on 311 Online.\",,0 Unspecified,Unspecified,,,Unspecified,Unspecified,Unspecified,Unspecified,Unspecified,Unspecified,Unspecified,Unspecified,Unspecified,Unspecified,Unspecified,N,,,,,,,,,,,,,,\n",
      "34215673,09/01/2016 12:33:42 AM,,DCA,Department of Consumer Affairs,Consumer Complaint,False Advertising,,10001,1167 BROADWAY,BROADWAY,WEST 27 STREET,WEST 28 STREET,,,ADDRESS,NEW YORK,,N/A,Assigned,09/17/2016 01:03:17 PM,\"The Department of Consumer Affairs has already mailed you a complaint form. In order for DCA to be able to help, you must complete that form and return it to DCA along with requested documentation. DCA will contact you approximately 30 days after receiving your complete complaint which we must forward to the reported business for its response.     If you do not receive the complaint form within 15 days from the date of your initial request, please call 311 back.\",09/02/2016 01:04:17 PM,05 MANHATTAN,MANHATTAN,987344,210624,Unspecified,MANHATTAN,Unspecified,Unspecified,Unspecified,Unspecified,Unspecified,Unspecified,Unspecified,Unspecified,Unspecified,N,,,,,,,,,,,,40.74479027643488,-73.98883413571019,\"(40.74479027643488, -73.98883413571019)\"\n",
      "34215616,09/01/2016 12:33:48 AM,09/01/2016 03:49:36 AM,NYPD,New York City Police Department,Blocked Driveway,No Access,Street/Sidewalk,11421,86-82 76 STREET,76 STREET,JAMAICA AVENUE,88 AVENUE,,,ADDRESS,WOODHAVEN,,Precinct,Closed,09/01/2016 08:33:48 AM,The Police Department responded and upon arrival those responsible for the condition were gone.,09/01/2016 03:49:36 AM,09 QUEENS,QUEENS,1021534,191135,Unspecified,QUEENS,Unspecified,Unspecified,Unspecified,Unspecified,Unspecified,Unspecified,Unspecified,Unspecified,Unspecified,N,,,,,,,,,,,,40.69121966184664,-73.86555469725296,\"(40.69121966184664, -73.86555469725296)\"\n",
      "34218919,09/01/2016 12:33:49 AM,09/01/2016 04:06:07 AM,NYPD,New York City Police Department,Noise - Street/Sidewalk,Loud Music/Party,Street/Sidewalk,11225,UNION STREET,UNION STREET,CLASSON AVENUE,FRANKLIN AVENUE,,,BLOCKFACE,BROOKLYN,,Precinct,Closed,09/01/2016 08:33:49 AM,The Police Department responded to the complaint and determined that police action was not necessary.,09/01/2016 04:06:07 AM,09 BROOKLYN,BROOKLYN,995203,183465,Unspecified,BROOKLYN,Unspecified,Unspecified,Unspecified,Unspecified,Unspecified,Unspecified,Unspecified,Unspecified,Unspecified,N,,,,,,,,,,,,40.67023901128435,-73.96051615564376,\"(40.67023901128435, -73.96051615564376)\"\n",
      "34225320,09/01/2016 12:34:00 AM,09/01/2016 12:40:00 AM,DEP,Department of Environmental Protection,Water System,Hydrant Leaking (WC1),,11207,FULTON STREET,FULTON STREET,VAN SICLEN AVENUE,HENDRIX STREET,,,BLOCKFACE,BROOKLYN,,N/A,Closed,,The Department of Environmental Protection determined that this complaint is a duplicate of a previously filed complaint. The original complaint is being addressed.,09/01/2016 12:40:00 AM,05 BROOKLYN,BROOKLYN,1014421,186344,Unspecified,BROOKLYN,Unspecified,Unspecified,Unspecified,Unspecified,Unspecified,Unspecified,Unspecified,Unspecified,Unspecified,,,,,,,,,,,,,40.67809657777363,-73.89122544581065,\"(40.67809657777363, -73.89122544581065)\"\n",
      "34214171,09/01/2016 12:35:19 AM,09/01/2016 01:31:03 AM,NYPD,New York City Police Department,Noise - Residential,Loud Music/Party,Residential Building/House,11106,35-20 24 STREET,24 STREET,35 AVENUE,36 AVENUE,,,ADDRESS,ASTORIA,,Precinct,Closed,09/01/2016 08:35:19 AM,The Police Department responded and upon arrival those responsible for the condition were gone.,09/01/2016 01:31:03 AM,01 QUEENS,QUEENS,1002759,216129,Unspecified,QUEENS,Unspecified,Unspecified,Unspecified,Unspecified,Unspecified,Unspecified,Unspecified,Unspecified,Unspecified,N,,,,,,,,,,,,40.759881274582206,-73.93318816228367,\"(40.759881274582206, -73.93318816228367)\"\n",
      "34216015,09/01/2016 12:36:12 AM,09/01/2016 01:36:18 AM,NYPD,New York City Police Department,Noise - Commercial,Banging/Pounding,Store/Commercial,11372,37-13 85 STREET,85 STREET,37 AVENUE,FORLEY STREET,,,ADDRESS,JACKSON HEIGHTS,,Precinct,Closed,09/01/2016 08:36:12 AM,The Police Department responded to the complaint and took action to fix the condition.,09/01/2016 01:36:18 AM,03 QUEENS,QUEENS,1017106,212378,Unspecified,QUEENS,Unspecified,Unspecified,Unspecified,Unspecified,Unspecified,Unspecified,Unspecified,Unspecified,Unspecified,N,,,,,,,,,,,,40.74954406701735,-73.88141825228973,\"(40.74954406701735, -73.88141825228973)\"\n",
      "34217349,09/01/2016 12:36:25 AM,09/01/2016 02:36:28 AM,NYPD,New York City Police Department,Noise - Residential,Loud Music/Party,Residential Building/House,10027,409 WEST 129 STREET,WEST 129 STREET,ST NICHOLAS TERRACE,CONVENT AVENUE,,,ADDRESS,NEW YORK,,Precinct,Closed,09/01/2016 08:36:25 AM,The Police Department responded to the complaint and took action to fix the condition.,09/01/2016 02:36:28 AM,09 MANHATTAN,MANHATTAN,997557,235781,Unspecified,MANHATTAN,Unspecified,Unspecified,Unspecified,Unspecified,Unspecified,Unspecified,Unspecified,Unspecified,Unspecified,N,,,,,,,,,,,,40.81383010929395,-73.95192685875286,\"(40.81383010929395, -73.95192685875286)\"\n",
      "34216084,09/01/2016 12:36:28 AM,09/01/2016 01:01:12 AM,NYPD,New York City Police Department,Noise - Street/Sidewalk,Loud Music/Party,Street/Sidewalk,11238,200 EASTERN PARKWAY,EASTERN PARKWAY,UNDERHILL AVENUE,BEND,,,ADDRESS,BROOKLYN,,Precinct,Closed,09/01/2016 08:36:28 AM,The Police Department responded to the complaint and took action to fix the condition.,09/01/2016 01:01:12 AM,55 BROOKLYN,BROOKLYN,994502,184046,Unspecified,BROOKLYN,Unspecified,Unspecified,Unspecified,Unspecified,Unspecified,Unspecified,Unspecified,Unspecified,Unspecified,N,,,,,,,,,,,,40.67183456561807,-73.96304226656703,\"(40.67183456561807, -73.96304226656703)\"\n",
      "34225674,09/01/2016 12:37:11 AM,09/01/2016 12:37:11 AM,DOB,Department of Buildings,Elevator,Elevator - Defective/Not Working,,10011,40 FIFTH AVENUE,FIFTH AVENUE,,,,,ADDRESS,NEW YORK,,N/A,Open,,Your Service Request has been submitted to the Department of Buildings.  Please check back later for status.,09/01/2016 12:00:00 AM,02 MANHATTAN,MANHATTAN,985536,206665,Unspecified,MANHATTAN,Unspecified,Unspecified,Unspecified,Unspecified,Unspecified,Unspecified,Unspecified,Unspecified,Unspecified,,,,,,,,,,,,,40.733924251736944,-73.99535974148363,\"(40.733924251736944, -73.99535974148363)\"\n",
      "34213074,09/01/2016 12:37:24 AM,09/01/2016 06:08:30 AM,NYPD,New York City Police Department,Noise - Residential,Loud Music/Party,Residential Building/House,11434,125-60 SUTPHIN BOULEVARD,SUTPHIN BOULEVARD,125 AVENUE,ROCKAWAY BOULEVARD,,,ADDRESS,JAMAICA,,Precinct,Closed,09/01/2016 08:37:24 AM,The Police Department responded to the complaint and with the information available observed no evidence of the violation at that time.,09/01/2016 06:08:30 AM,12 QUEENS,QUEENS,1042871,184825,Unspecified,QUEENS,Unspecified,Unspecified,Unspecified,Unspecified,Unspecified,Unspecified,Unspecified,Unspecified,Unspecified,N,,,,,,,,,,,,40.673784591981686,-73.78866907200431,\"(40.673784591981686, -73.78866907200431)\"\n",
      "34213142,09/01/2016 12:37:26 AM,09/01/2016 02:34:10 AM,NYPD,New York City Police Department,Noise - Residential,Loud Music/Party,Residential Building/House,10027,409 WEST 129 STREET,WEST 129 STREET,ST NICHOLAS TERRACE,CONVENT AVENUE,,,ADDRESS,NEW YORK,,Precinct,Closed,09/01/2016 08:37:26 AM,The Police Department responded to the complaint and took action to fix the condition.,09/01/2016 02:34:10 AM,09 MANHATTAN,MANHATTAN,997557,235781,Unspecified,MANHATTAN,Unspecified,Unspecified,Unspecified,Unspecified,Unspecified,Unspecified,Unspecified,Unspecified,Unspecified,N,,,,,,,,,,,,40.81383010929395,-73.95192685875286,\"(40.81383010929395, -73.95192685875286)\"\n",
      "34213059,09/01/2016 12:37:37 AM,09/01/2016 07:47:30 AM,NYPD,New York City Police Department,Illegal Parking,Commercial Overnight Parking,Street/Sidewalk,11370,19-87 77 STREET,77 STREET,19 ROAD,21 AVENUE,,,ADDRESS,EAST ELMHURST,,Precinct,Closed,09/01/2016 08:37:37 AM,The Police Department responded to the complaint and with the information available observed no evidence of the violation at that time.,09/01/2016 07:47:30 AM,01 QUEENS,QUEENS,1013843,220707,Unspecified,QUEENS,Unspecified,Unspecified,Unspecified,Unspecified,Unspecified,Unspecified,Unspecified,Unspecified,Unspecified,N,,,,,,,,,,,,40.77241653883299,-73.89315818370672,\"(40.77241653883299, -73.89315818370672)\"\n",
      "34226286,09/01/2016 12:39:00 AM,,DEP,Department of Environmental Protection,Noise,Noise: Construction Before/After Hours (NM1),,10021,308 EAST   72 STREET,EAST   72 STREET,2 AVE,1 AVE,,,ADDRESS,NEW YORK,,N/A,Open,,,,08 MANHATTAN,MANHATTAN,995918,219297,Unspecified,MANHATTAN,Unspecified,Unspecified,Unspecified,Unspecified,Unspecified,Unspecified,Unspecified,Unspecified,Unspecified,,,,,,,,,,,,,40.76858829093216,-73.95787657918987,\"(40.76858829093216, -73.95787657918987)\"\n",
      "34213103,09/01/2016 12:39:27 AM,09/01/2016 03:13:08 AM,NYPD,New York City Police Department,Noise - Residential,Loud Music/Party,Residential Building/House,10471,6211 BROADWAY,BROADWAY,WEST 251 STREET,WEST 252 STREET,,,ADDRESS,BRONX,,Precinct,Closed,09/01/2016 08:39:27 AM,The Police Department responded to the complaint but officers were unable to gain entry into the premises.,09/01/2016 03:13:09 AM,08 BRONX,BRONX,1012781,265876,Unspecified,BRONX,Unspecified,Unspecified,Unspecified,Unspecified,Unspecified,Unspecified,Unspecified,Unspecified,Unspecified,N,,,,,,,,,,,,40.896395792492356,-73.89680027435357,\"(40.896395792492356, -73.89680027435357)\"\n",
      "34210952,09/01/2016 12:39:36 AM,09/01/2016 05:35:18 AM,NYPD,New York City Police Department,Noise - Residential,Loud Music/Party,Residential Building/House,11428,,,,,218 PLACE,92 AVENUE,INTERSECTION,QUEENS VILLAGE,,Precinct,Closed,09/01/2016 08:39:36 AM,The Police Department responded to the complaint and with the information available observed no evidence of the violation at that time.,09/01/2016 05:35:19 AM,13 QUEENS,QUEENS,1056152,203046,Unspecified,QUEENS,Unspecified,Unspecified,Unspecified,Unspecified,Unspecified,Unspecified,Unspecified,Unspecified,Unspecified,N,,,,,,,,,,,,40.723698860008355,-73.74059629620191,\"(40.723698860008355, -73.74059629620191)\"\n",
      "34215036,09/01/2016 12:39:57 AM,09/01/2016 03:48:21 AM,NYPD,New York City Police Department,Noise - Residential,Loud Music/Party,Residential Building/House,11222,262A KINGSLAND AVENUE,KINGSLAND AVENUE,DRIGGS AVENUE,NASSAU AVENUE,,,ADDRESS,BROOKLYN,,Precinct,Closed,09/01/2016 08:39:57 AM,The Police Department responded to the complaint and took action to fix the condition.,09/01/2016 03:48:21 AM,01 BROOKLYN,BROOKLYN,1000438,203567,Unspecified,BROOKLYN,Unspecified,Unspecified,Unspecified,Unspecified,Unspecified,Unspecified,Unspecified,Unspecified,Unspecified,N,,,,,,,,,,,,40.72540628058875,-73.9415964935895,\"(40.72540628058875, -73.9415964935895)\"\n",
      "\n"
     ]
    },
    {
     "data": {
      "text/plain": [
       "str"
      ]
     },
     "execution_count": 37,
     "metadata": {},
     "output_type": "execute_result"
    }
   ],
   "source": [
    "with open(PUIdata + \"/311_Service_Requests_from_2010_to_Present_head.csv\") as fin:\n",
    "    toodata = fin.read()\n",
    "    print (toodata)\n",
    "type(toodata)"
   ]
  },
  {
   "cell_type": "code",
   "execution_count": 38,
   "metadata": {
    "ExecuteTime": {
     "end_time": "2018-10-04T03:33:41.916842Z",
     "start_time": "2018-10-04T03:33:41.911157Z"
    },
    "run_control": {
     "frozen": false,
     "read_only": false
    }
   },
   "outputs": [
    {
     "data": {
      "text/plain": [
       "str"
      ]
     },
     "execution_count": 38,
     "metadata": {},
     "output_type": "execute_result"
    }
   ],
   "source": [
    "type(toodata)"
   ]
  },
  {
   "cell_type": "markdown",
   "metadata": {
    "run_control": {
     "frozen": false,
     "read_only": false
    }
   },
   "source": [
    "## storing the data after reading it"
   ]
  },
  {
   "cell_type": "code",
   "execution_count": 39,
   "metadata": {
    "ExecuteTime": {
     "end_time": "2018-10-04T03:33:49.063699Z",
     "start_time": "2018-10-04T03:33:49.049473Z"
    },
    "run_control": {
     "frozen": false,
     "read_only": false
    },
    "scrolled": true
   },
   "outputs": [
    {
     "name": "stdout",
     "output_type": "stream",
     "text": [
      "['Unique Key', 'Created Date', 'Incident Zip', 'X Coordinate (State Plane)', 'Y Coordinate (State Plane)', 'Latitude', 'Longitude\\n']\n",
      "['34212771', '09/01/2016 12:00:06 AM', '11413', '1052223', '185368', '40.67520813178531', '-73.75494944502233\\n']\n",
      "['34212392', '09/01/2016 12:00:35 AM', '10469', '1023875', '259913', '40.87998640855491', '-73.85670741555177\\n']\n",
      "['34214520', '09/01/2016 12:00:37 AM', '11369', '1019812', '217879', '40.76463242381882', '-73.87162284918391\\n']\n",
      "['34212483', '09/01/2016 12:00:54 AM', '10466', '1025510', '261946', '40.885558858976104', '-73.85078238918491\\n']\n",
      "['34214231', '09/01/2016 12:01:15 AM', '10040', '1003750', '254115', '40.864140093130686', '-73.92950060219349\\n']\n",
      "['34223410', '09/01/2016 12:02:00 AM', '10031', '996684', '238064', '40.820097574803015', '-73.95507644617044\\n']\n",
      "['34219357', '09/01/2016 12:02:00 AM', '11365', '1041679', '208204', '40.73796206550144', '-73.79276687084037\\n']\n",
      "['34211394', '09/01/2016 12:02:03 AM', '11103', '1007798', '217595', '40.76389308093824', '-73.91499378600639\\n']\n",
      "['34217294', '09/01/2016 12:02:07 AM', '10468', '1013623', '255108', '40.86683824468553', '-73.89380189150275\\n']\n",
      "['34213164', '09/01/2016 12:03:16 AM', '11222', '998402', '202531', '40.7225662037401', '-73.94894420645994\\n']\n",
      "['34212770', '09/01/2016 12:03:35 AM', '11249', '995738', '200662', '40.717440110199995', '-73.95855823667199\\n']\n",
      "['34214130', '09/01/2016 12:03:52 AM', '10003', '987942', '203667', '40.72569479789409', '-73.98667984531457\\n']\n",
      "['34217841', '09/01/2016 12:05:17 AM', '10031', '998155', '239652', '40.82445399167001', '-73.94975849134453\\n']\n",
      "['34212954', '09/01/2016 12:05:31 AM', '11367', '1033787', '208970', '40.740112265819256', '-73.82123950679446\\n']\n",
      "['34216160', '09/01/2016 12:05:54 AM', '10003', '986426', '203499', '40.72523418153373', '-73.99214938889838\\n']\n",
      "['34216500', '09/01/2016 12:06:14 AM', '11421', '1024827', '190774', '40.690214316362415', '-73.85368240559568\\n']\n",
      "['34221835', '09/01/2016 12:06:43 AM', '10453', '1007941', '249537', '40.851564608300045', '-73.91436484385679\\n']\n",
      "['34211702', '09/01/2016 12:06:56 AM', '11221', '1002780', '190153', '40.68858343380662', '-73.93318387971877\\n']\n",
      "['34219447', '09/01/2016 12:07:00 AM', '10023', '988996', '224194', '40.78203569609998', '-73.98286269079273\\n']\n",
      "['34217113', '09/01/2016 12:07:09 AM', '11204', '990555', '165641', '40.621320511236384', '-73.97728812364555\\n']\n",
      "['34214548', '09/01/2016 12:07:25 AM', '11367', '1032885', '206014', '40.7320037982969', '-73.82451584786384\\n']\n",
      "['34221511', '09/01/2016 12:08:00 AM', '11416', '1025173', '189045', '40.68546702174521', '-73.85244526015111\\n']\n",
      "['34217276', '09/01/2016 12:08:16 AM', '', '', '', '', '\\n']\n",
      "['34217959', '09/01/2016 12:08:39 AM', '11225', '995025', '182824', '40.668479828005744', '-73.96115884217696\\n']\n",
      "['34210942', '09/01/2016 12:08:43 AM', '11372', '1016737', '213135', '40.751623202335196', '-73.88274636451436\\n']\n",
      "['34213767', '09/01/2016 12:08:44 AM', '11367', '1032646', '205925', '40.731760826548225', '-73.82537884231014\\n']\n",
      "['34214112', '09/01/2016 12:09:01 AM', '11355', '1036542', '208762', '40.73952549828759', '-73.81129938974755\\n']\n",
      "['34212140', '09/01/2016 12:09:18 AM', '', '', '', '', '\\n']\n",
      "['34216046', '09/01/2016 12:10:25 AM', '11106', '1003028', '216533', '40.76098958340112', '-73.93221602635003\\n']\n",
      "['34214014', '09/01/2016 12:10:37 AM', '11377', '1010935', '215224', '40.75737638603846', '-73.9036789113306\\n']\n",
      "['34216956', '09/01/2016 12:10:42 AM', '11229', '1001875', '156569', '40.596404450232136', '-73.93653489611431\\n']\n",
      "['34226414', '09/01/2016 12:11:00 AM', '10040', '1003827', '253156', '40.861507758243285', '-73.92922502137085\\n']\n",
      "['34224524', '09/01/2016 12:11:00 AM', '10065', '995035', '216480', '40.76085747543163', '-73.96106887544212\\n']\n",
      "['34217709', '09/01/2016 12:11:24 AM', '10466', '1023994', '263312', '40.8893150523013', '-73.85625691673303\\n']\n",
      "['34218143', '09/01/2016 12:11:41 AM', '11355', '1032597', '216015', '40.759455560769595', '-73.8254831111012\\n']\n",
      "['34222231', '09/01/2016 12:13:00 AM', '11209', '974316', '164824', '40.619074690688336', '-74.03578305984678\\n']\n",
      "['34217303', '09/01/2016 12:13:16 AM', '10003', '986426', '203499', '40.72523418153373', '-73.99214938889838\\n']\n",
      "['34213421', '09/01/2016 12:13:22 AM', '11238', '994156', '184165', '40.67216158783738', '-73.96428939702098\\n']\n",
      "['34215972', '09/01/2016 12:13:30 AM', '11411', '1055754', '191946', '40.693235345638115', '-73.74215004653367\\n']\n",
      "['34222268', '09/01/2016 12:14:00 AM', '10001', '984824', '213090', '40.75155934859421', '-73.99792829432809\\n']\n",
      "['34221144', '09/01/2016 12:14:00 AM', '10012', '985366', '204639', '40.72836340128487', '-73.99597348649338\\n']\n",
      "['34213744', '09/01/2016 12:14:12 AM', '11433', '1043415', '197121', '40.70753055918456', '-73.78659995072763\\n']\n",
      "['34224352', '09/01/2016 12:15:00 AM', '10456', '1008199', '245050', '40.83924842108658', '-73.9134482849396\\n']\n",
      "['34223699', '09/01/2016 12:15:00 AM', '10009', '988573', '203364', '40.72486285062061', '-73.98440349134948\\n']\n",
      "['34213166', '09/01/2016 12:15:00 AM', '11221', '1004273', '192099', '40.6939215015067', '-73.9277945865984\\n']\n",
      "['34212338', '09/01/2016 12:15:50 AM', '11434', '1042873', '189735', '40.68726137504832', '-73.7886191483978\\n']\n",
      "['34210938', '09/01/2016 12:15:55 AM', '10454', '1006781', '233878', '40.80858819601399', '-73.91861044996179\\n']\n",
      "['34216167', '09/01/2016 12:16:00 AM', '', '', '', '', '\\n']\n",
      "['34216756', '09/01/2016 12:16:47 AM', '11417', '1027732', '184438', '40.672809669126686', '-73.84324810086851\\n']\n",
      "['34213978', '09/01/2016 12:17:06 AM', '11236', '1010983', '174768', '40.646334085527656', '-73.90366624505096\\n']\n",
      "['34216504', '09/01/2016 12:17:42 AM', '11434', '1042844', '189758', '40.6873246966227', '-73.78872351519618\\n']\n",
      "['34213839', '09/01/2016 12:17:52 AM', '11238', '994556', '184471', '40.67300103249724', '-73.96284695060235\\n']\n",
      "['34217179', '09/01/2016 12:18:13 AM', '11218', '987044', '173146', '40.64192195131148', '-73.9899323435359\\n']\n",
      "['34216324', '09/01/2016 12:18:28 AM', '', '', '', '', '\\n']\n",
      "['34211957', '09/01/2016 12:19:32 AM', '11204', '988033', '161993', '40.61130894279118', '-73.98637491794774\\n']\n",
      "['34211967', '09/01/2016 12:19:49 AM', '11225', '994885', '183552', '40.670478194523135', '-73.96166235828056\\n']\n",
      "['34212999', '09/01/2016 12:20:27 AM', '10027', '994449', '234020', '40.80900078927538', '-73.96315755751426\\n']\n",
      "['34214166', '09/01/2016 12:21:04 AM', '10023', '987616', '221189', '40.77378839670657', '-73.98784723163601\\n']\n",
      "['34214406', '09/01/2016 12:21:21 AM', '11413', '1053495', '186226', '40.67755328034302', '-73.75035494665852\\n']\n",
      "['34213441', '09/01/2016 12:21:59 AM', '11238', '993280', '184460', '40.672972233472', '-73.96744693490606\\n']\n",
      "['34225420', '09/01/2016 12:22:00 AM', '10031', '997301', '237743', '40.819215630339144', '-73.95284787409446\\n']\n",
      "['34215208', '09/01/2016 12:22:00 AM', '', '', '', '', '\\n']\n",
      "['34211102', '09/01/2016 12:22:45 AM', '11223', '994691', '155989', '40.59482384199664', '-73.96240434458852\\n']\n",
      "['34211752', '09/01/2016 12:23:00 AM', '', '', '', '', '\\n']\n",
      "['34224255', '09/01/2016 12:24:00 AM', '10039', '1001611', '241370', '40.82916329411408', '-73.93726683976101\\n']\n",
      "['34216968', '09/01/2016 12:24:00 AM', '11362', '1060234', '217434', '40.76315601171262', '-73.72570705681578\\n']\n",
      "['34216052', '09/01/2016 12:24:10 AM', '11377', '1009017', '214363', '40.75501874230602', '-73.91060521258929\\n']\n",
      "['34225272', '09/01/2016 12:25:00 AM', '10001', '984765', '213117', '40.75163346039767', '-73.99814123761671\\n']\n",
      "['34222223', '09/01/2016 12:25:00 AM', '10001', '984275', '213402', '40.75241572822062', '-73.99990976775675\\n']\n",
      "['34218580', '09/01/2016 12:25:32 AM', '11238', '993913', '184267', '40.672441823514696', '-73.96516525277444\\n']\n",
      "['34211701', '09/01/2016 12:25:34 AM', '11225', '994793', '182891', '40.66866400736249', '-73.96199503878134\\n']\n",
      "['34218966', '09/01/2016 12:26:02 AM', '10040', '1004500', '252913', '40.860839278581864', '-73.92679271990852\\n']\n",
      "['34223817', '09/01/2016 12:26:12 AM', '10454', '1006781', '233878', '40.80858819601399', '-73.91861044996179\\n']\n",
      "['34218182', '09/01/2016 12:26:27 AM', '11212', '1010154', '178838', '40.65750780667287', '-73.90663795568324\\n']\n",
      "['34216138', '09/01/2016 12:28:10 AM', '10457', '1011471', '250229', '40.853453764088435', '-73.90160225766626\\n']\n",
      "['34218992', '09/01/2016 12:28:44 AM', '10040', '1003928', '251236', '40.85623771170069', '-73.92886552195142\\n']\n",
      "['34217470', '09/01/2016 12:29:13 AM', '', '', '', '', '\\n']\n",
      "['34214839', '09/01/2016 12:29:20 AM', '11229', '1001875', '156569', '40.596404450232136', '-73.93653489611431\\n']\n",
      "['34216795', '09/01/2016 12:30:55 AM', '', '', '', '', '\\n']\n",
      "['34211839', '09/01/2016 12:30:59 AM', '11229', '996803', '159926', '40.60562736792954', '-73.95479220020816\\n']\n",
      "['34221378', '09/01/2016 12:31:00 AM', '11207', '1014266', '186493', '40.67850607568998', '-73.8917835982187\\n']\n",
      "['34213443', '09/01/2016 12:31:49 AM', '11238', '993855', '184290', '40.672505016468776', '-73.96537430777059\\n']\n",
      "['34211256', '09/01/2016 12:31:52 AM', '', '', '', '', '\\n']\n",
      "['34215673', '09/01/2016 12:33:42 AM', '10001', '987344', '210624', '40.74479027643488', '-73.98883413571019\\n']\n",
      "['34215616', '09/01/2016 12:33:48 AM', '11421', '1021534', '191135', '40.69121966184664', '-73.86555469725296\\n']\n",
      "['34218919', '09/01/2016 12:33:49 AM', '11225', '995203', '183465', '40.67023901128435', '-73.96051615564376\\n']\n",
      "['34225320', '09/01/2016 12:34:00 AM', '11207', '1014421', '186344', '40.67809657777363', '-73.89122544581065\\n']\n",
      "['34214171', '09/01/2016 12:35:19 AM', '11106', '1002759', '216129', '40.759881274582206', '-73.93318816228367\\n']\n",
      "['34216015', '09/01/2016 12:36:12 AM', '11372', '1017106', '212378', '40.74954406701735', '-73.88141825228973\\n']\n",
      "['34217349', '09/01/2016 12:36:25 AM', '10027', '997557', '235781', '40.81383010929395', '-73.95192685875286\\n']\n",
      "['34216084', '09/01/2016 12:36:28 AM', '11238', '994502', '184046', '40.67183456561807', '-73.96304226656703\\n']\n",
      "['34225674', '09/01/2016 12:37:11 AM', '10011', '985536', '206665', '40.733924251736944', '-73.99535974148363\\n']\n",
      "['34213074', '09/01/2016 12:37:24 AM', '11434', '1042871', '184825', '40.673784591981686', '-73.78866907200431\\n']\n",
      "['34213142', '09/01/2016 12:37:26 AM', '10027', '997557', '235781', '40.81383010929395', '-73.95192685875286\\n']\n",
      "['34213059', '09/01/2016 12:37:37 AM', '11370', '1013843', '220707', '40.77241653883299', '-73.89315818370672\\n']\n",
      "['34226286', '09/01/2016 12:39:00 AM', '10021', '995918', '219297', '40.76858829093216', '-73.95787657918987\\n']\n",
      "['34213103', '09/01/2016 12:39:27 AM', '10471', '1012781', '265876', '40.896395792492356', '-73.89680027435357\\n']\n",
      "['34210952', '09/01/2016 12:39:36 AM', '11428', '1056152', '203046', '40.723698860008355', '-73.74059629620191\\n']\n",
      "['34215036', '09/01/2016 12:39:57 AM', '11222', '1000438', '203567', '40.72540628058875', '-73.9415964935895\\n']\n"
     ]
    }
   ],
   "source": [
    "alldata = []\n",
    "for l in csv:\n",
    "    data = l.split(',')\n",
    "    print (data)\n",
    "    alldata.append(data)"
   ]
  },
  {
   "cell_type": "code",
   "execution_count": 40,
   "metadata": {
    "ExecuteTime": {
     "end_time": "2018-10-04T03:33:56.171641Z",
     "start_time": "2018-10-04T03:33:56.144935Z"
    },
    "run_control": {
     "frozen": false,
     "read_only": false
    }
   },
   "outputs": [
    {
     "data": {
      "text/plain": [
       "[['Unique Key',\n",
       "  'Created Date',\n",
       "  'Incident Zip',\n",
       "  'X Coordinate (State Plane)',\n",
       "  'Y Coordinate (State Plane)',\n",
       "  'Latitude',\n",
       "  'Longitude\\n'],\n",
       " ['34212771',\n",
       "  '09/01/2016 12:00:06 AM',\n",
       "  '11413',\n",
       "  '1052223',\n",
       "  '185368',\n",
       "  '40.67520813178531',\n",
       "  '-73.75494944502233\\n'],\n",
       " ['34212392',\n",
       "  '09/01/2016 12:00:35 AM',\n",
       "  '10469',\n",
       "  '1023875',\n",
       "  '259913',\n",
       "  '40.87998640855491',\n",
       "  '-73.85670741555177\\n'],\n",
       " ['34214520',\n",
       "  '09/01/2016 12:00:37 AM',\n",
       "  '11369',\n",
       "  '1019812',\n",
       "  '217879',\n",
       "  '40.76463242381882',\n",
       "  '-73.87162284918391\\n'],\n",
       " ['34212483',\n",
       "  '09/01/2016 12:00:54 AM',\n",
       "  '10466',\n",
       "  '1025510',\n",
       "  '261946',\n",
       "  '40.885558858976104',\n",
       "  '-73.85078238918491\\n'],\n",
       " ['34214231',\n",
       "  '09/01/2016 12:01:15 AM',\n",
       "  '10040',\n",
       "  '1003750',\n",
       "  '254115',\n",
       "  '40.864140093130686',\n",
       "  '-73.92950060219349\\n'],\n",
       " ['34223410',\n",
       "  '09/01/2016 12:02:00 AM',\n",
       "  '10031',\n",
       "  '996684',\n",
       "  '238064',\n",
       "  '40.820097574803015',\n",
       "  '-73.95507644617044\\n'],\n",
       " ['34219357',\n",
       "  '09/01/2016 12:02:00 AM',\n",
       "  '11365',\n",
       "  '1041679',\n",
       "  '208204',\n",
       "  '40.73796206550144',\n",
       "  '-73.79276687084037\\n'],\n",
       " ['34211394',\n",
       "  '09/01/2016 12:02:03 AM',\n",
       "  '11103',\n",
       "  '1007798',\n",
       "  '217595',\n",
       "  '40.76389308093824',\n",
       "  '-73.91499378600639\\n'],\n",
       " ['34217294',\n",
       "  '09/01/2016 12:02:07 AM',\n",
       "  '10468',\n",
       "  '1013623',\n",
       "  '255108',\n",
       "  '40.86683824468553',\n",
       "  '-73.89380189150275\\n'],\n",
       " ['34213164',\n",
       "  '09/01/2016 12:03:16 AM',\n",
       "  '11222',\n",
       "  '998402',\n",
       "  '202531',\n",
       "  '40.7225662037401',\n",
       "  '-73.94894420645994\\n'],\n",
       " ['34212770',\n",
       "  '09/01/2016 12:03:35 AM',\n",
       "  '11249',\n",
       "  '995738',\n",
       "  '200662',\n",
       "  '40.717440110199995',\n",
       "  '-73.95855823667199\\n'],\n",
       " ['34214130',\n",
       "  '09/01/2016 12:03:52 AM',\n",
       "  '10003',\n",
       "  '987942',\n",
       "  '203667',\n",
       "  '40.72569479789409',\n",
       "  '-73.98667984531457\\n'],\n",
       " ['34217841',\n",
       "  '09/01/2016 12:05:17 AM',\n",
       "  '10031',\n",
       "  '998155',\n",
       "  '239652',\n",
       "  '40.82445399167001',\n",
       "  '-73.94975849134453\\n'],\n",
       " ['34212954',\n",
       "  '09/01/2016 12:05:31 AM',\n",
       "  '11367',\n",
       "  '1033787',\n",
       "  '208970',\n",
       "  '40.740112265819256',\n",
       "  '-73.82123950679446\\n'],\n",
       " ['34216160',\n",
       "  '09/01/2016 12:05:54 AM',\n",
       "  '10003',\n",
       "  '986426',\n",
       "  '203499',\n",
       "  '40.72523418153373',\n",
       "  '-73.99214938889838\\n'],\n",
       " ['34216500',\n",
       "  '09/01/2016 12:06:14 AM',\n",
       "  '11421',\n",
       "  '1024827',\n",
       "  '190774',\n",
       "  '40.690214316362415',\n",
       "  '-73.85368240559568\\n'],\n",
       " ['34221835',\n",
       "  '09/01/2016 12:06:43 AM',\n",
       "  '10453',\n",
       "  '1007941',\n",
       "  '249537',\n",
       "  '40.851564608300045',\n",
       "  '-73.91436484385679\\n'],\n",
       " ['34211702',\n",
       "  '09/01/2016 12:06:56 AM',\n",
       "  '11221',\n",
       "  '1002780',\n",
       "  '190153',\n",
       "  '40.68858343380662',\n",
       "  '-73.93318387971877\\n'],\n",
       " ['34219447',\n",
       "  '09/01/2016 12:07:00 AM',\n",
       "  '10023',\n",
       "  '988996',\n",
       "  '224194',\n",
       "  '40.78203569609998',\n",
       "  '-73.98286269079273\\n'],\n",
       " ['34217113',\n",
       "  '09/01/2016 12:07:09 AM',\n",
       "  '11204',\n",
       "  '990555',\n",
       "  '165641',\n",
       "  '40.621320511236384',\n",
       "  '-73.97728812364555\\n'],\n",
       " ['34214548',\n",
       "  '09/01/2016 12:07:25 AM',\n",
       "  '11367',\n",
       "  '1032885',\n",
       "  '206014',\n",
       "  '40.7320037982969',\n",
       "  '-73.82451584786384\\n'],\n",
       " ['34221511',\n",
       "  '09/01/2016 12:08:00 AM',\n",
       "  '11416',\n",
       "  '1025173',\n",
       "  '189045',\n",
       "  '40.68546702174521',\n",
       "  '-73.85244526015111\\n'],\n",
       " ['34217276', '09/01/2016 12:08:16 AM', '', '', '', '', '\\n'],\n",
       " ['34217959',\n",
       "  '09/01/2016 12:08:39 AM',\n",
       "  '11225',\n",
       "  '995025',\n",
       "  '182824',\n",
       "  '40.668479828005744',\n",
       "  '-73.96115884217696\\n'],\n",
       " ['34210942',\n",
       "  '09/01/2016 12:08:43 AM',\n",
       "  '11372',\n",
       "  '1016737',\n",
       "  '213135',\n",
       "  '40.751623202335196',\n",
       "  '-73.88274636451436\\n'],\n",
       " ['34213767',\n",
       "  '09/01/2016 12:08:44 AM',\n",
       "  '11367',\n",
       "  '1032646',\n",
       "  '205925',\n",
       "  '40.731760826548225',\n",
       "  '-73.82537884231014\\n'],\n",
       " ['34214112',\n",
       "  '09/01/2016 12:09:01 AM',\n",
       "  '11355',\n",
       "  '1036542',\n",
       "  '208762',\n",
       "  '40.73952549828759',\n",
       "  '-73.81129938974755\\n'],\n",
       " ['34212140', '09/01/2016 12:09:18 AM', '', '', '', '', '\\n'],\n",
       " ['34216046',\n",
       "  '09/01/2016 12:10:25 AM',\n",
       "  '11106',\n",
       "  '1003028',\n",
       "  '216533',\n",
       "  '40.76098958340112',\n",
       "  '-73.93221602635003\\n'],\n",
       " ['34214014',\n",
       "  '09/01/2016 12:10:37 AM',\n",
       "  '11377',\n",
       "  '1010935',\n",
       "  '215224',\n",
       "  '40.75737638603846',\n",
       "  '-73.9036789113306\\n'],\n",
       " ['34216956',\n",
       "  '09/01/2016 12:10:42 AM',\n",
       "  '11229',\n",
       "  '1001875',\n",
       "  '156569',\n",
       "  '40.596404450232136',\n",
       "  '-73.93653489611431\\n'],\n",
       " ['34226414',\n",
       "  '09/01/2016 12:11:00 AM',\n",
       "  '10040',\n",
       "  '1003827',\n",
       "  '253156',\n",
       "  '40.861507758243285',\n",
       "  '-73.92922502137085\\n'],\n",
       " ['34224524',\n",
       "  '09/01/2016 12:11:00 AM',\n",
       "  '10065',\n",
       "  '995035',\n",
       "  '216480',\n",
       "  '40.76085747543163',\n",
       "  '-73.96106887544212\\n'],\n",
       " ['34217709',\n",
       "  '09/01/2016 12:11:24 AM',\n",
       "  '10466',\n",
       "  '1023994',\n",
       "  '263312',\n",
       "  '40.8893150523013',\n",
       "  '-73.85625691673303\\n'],\n",
       " ['34218143',\n",
       "  '09/01/2016 12:11:41 AM',\n",
       "  '11355',\n",
       "  '1032597',\n",
       "  '216015',\n",
       "  '40.759455560769595',\n",
       "  '-73.8254831111012\\n'],\n",
       " ['34222231',\n",
       "  '09/01/2016 12:13:00 AM',\n",
       "  '11209',\n",
       "  '974316',\n",
       "  '164824',\n",
       "  '40.619074690688336',\n",
       "  '-74.03578305984678\\n'],\n",
       " ['34217303',\n",
       "  '09/01/2016 12:13:16 AM',\n",
       "  '10003',\n",
       "  '986426',\n",
       "  '203499',\n",
       "  '40.72523418153373',\n",
       "  '-73.99214938889838\\n'],\n",
       " ['34213421',\n",
       "  '09/01/2016 12:13:22 AM',\n",
       "  '11238',\n",
       "  '994156',\n",
       "  '184165',\n",
       "  '40.67216158783738',\n",
       "  '-73.96428939702098\\n'],\n",
       " ['34215972',\n",
       "  '09/01/2016 12:13:30 AM',\n",
       "  '11411',\n",
       "  '1055754',\n",
       "  '191946',\n",
       "  '40.693235345638115',\n",
       "  '-73.74215004653367\\n'],\n",
       " ['34222268',\n",
       "  '09/01/2016 12:14:00 AM',\n",
       "  '10001',\n",
       "  '984824',\n",
       "  '213090',\n",
       "  '40.75155934859421',\n",
       "  '-73.99792829432809\\n'],\n",
       " ['34221144',\n",
       "  '09/01/2016 12:14:00 AM',\n",
       "  '10012',\n",
       "  '985366',\n",
       "  '204639',\n",
       "  '40.72836340128487',\n",
       "  '-73.99597348649338\\n'],\n",
       " ['34213744',\n",
       "  '09/01/2016 12:14:12 AM',\n",
       "  '11433',\n",
       "  '1043415',\n",
       "  '197121',\n",
       "  '40.70753055918456',\n",
       "  '-73.78659995072763\\n'],\n",
       " ['34224352',\n",
       "  '09/01/2016 12:15:00 AM',\n",
       "  '10456',\n",
       "  '1008199',\n",
       "  '245050',\n",
       "  '40.83924842108658',\n",
       "  '-73.9134482849396\\n'],\n",
       " ['34223699',\n",
       "  '09/01/2016 12:15:00 AM',\n",
       "  '10009',\n",
       "  '988573',\n",
       "  '203364',\n",
       "  '40.72486285062061',\n",
       "  '-73.98440349134948\\n'],\n",
       " ['34213166',\n",
       "  '09/01/2016 12:15:00 AM',\n",
       "  '11221',\n",
       "  '1004273',\n",
       "  '192099',\n",
       "  '40.6939215015067',\n",
       "  '-73.9277945865984\\n'],\n",
       " ['34212338',\n",
       "  '09/01/2016 12:15:50 AM',\n",
       "  '11434',\n",
       "  '1042873',\n",
       "  '189735',\n",
       "  '40.68726137504832',\n",
       "  '-73.7886191483978\\n'],\n",
       " ['34210938',\n",
       "  '09/01/2016 12:15:55 AM',\n",
       "  '10454',\n",
       "  '1006781',\n",
       "  '233878',\n",
       "  '40.80858819601399',\n",
       "  '-73.91861044996179\\n'],\n",
       " ['34216167', '09/01/2016 12:16:00 AM', '', '', '', '', '\\n'],\n",
       " ['34216756',\n",
       "  '09/01/2016 12:16:47 AM',\n",
       "  '11417',\n",
       "  '1027732',\n",
       "  '184438',\n",
       "  '40.672809669126686',\n",
       "  '-73.84324810086851\\n'],\n",
       " ['34213978',\n",
       "  '09/01/2016 12:17:06 AM',\n",
       "  '11236',\n",
       "  '1010983',\n",
       "  '174768',\n",
       "  '40.646334085527656',\n",
       "  '-73.90366624505096\\n'],\n",
       " ['34216504',\n",
       "  '09/01/2016 12:17:42 AM',\n",
       "  '11434',\n",
       "  '1042844',\n",
       "  '189758',\n",
       "  '40.6873246966227',\n",
       "  '-73.78872351519618\\n'],\n",
       " ['34213839',\n",
       "  '09/01/2016 12:17:52 AM',\n",
       "  '11238',\n",
       "  '994556',\n",
       "  '184471',\n",
       "  '40.67300103249724',\n",
       "  '-73.96284695060235\\n'],\n",
       " ['34217179',\n",
       "  '09/01/2016 12:18:13 AM',\n",
       "  '11218',\n",
       "  '987044',\n",
       "  '173146',\n",
       "  '40.64192195131148',\n",
       "  '-73.9899323435359\\n'],\n",
       " ['34216324', '09/01/2016 12:18:28 AM', '', '', '', '', '\\n'],\n",
       " ['34211957',\n",
       "  '09/01/2016 12:19:32 AM',\n",
       "  '11204',\n",
       "  '988033',\n",
       "  '161993',\n",
       "  '40.61130894279118',\n",
       "  '-73.98637491794774\\n'],\n",
       " ['34211967',\n",
       "  '09/01/2016 12:19:49 AM',\n",
       "  '11225',\n",
       "  '994885',\n",
       "  '183552',\n",
       "  '40.670478194523135',\n",
       "  '-73.96166235828056\\n'],\n",
       " ['34212999',\n",
       "  '09/01/2016 12:20:27 AM',\n",
       "  '10027',\n",
       "  '994449',\n",
       "  '234020',\n",
       "  '40.80900078927538',\n",
       "  '-73.96315755751426\\n'],\n",
       " ['34214166',\n",
       "  '09/01/2016 12:21:04 AM',\n",
       "  '10023',\n",
       "  '987616',\n",
       "  '221189',\n",
       "  '40.77378839670657',\n",
       "  '-73.98784723163601\\n'],\n",
       " ['34214406',\n",
       "  '09/01/2016 12:21:21 AM',\n",
       "  '11413',\n",
       "  '1053495',\n",
       "  '186226',\n",
       "  '40.67755328034302',\n",
       "  '-73.75035494665852\\n'],\n",
       " ['34213441',\n",
       "  '09/01/2016 12:21:59 AM',\n",
       "  '11238',\n",
       "  '993280',\n",
       "  '184460',\n",
       "  '40.672972233472',\n",
       "  '-73.96744693490606\\n'],\n",
       " ['34225420',\n",
       "  '09/01/2016 12:22:00 AM',\n",
       "  '10031',\n",
       "  '997301',\n",
       "  '237743',\n",
       "  '40.819215630339144',\n",
       "  '-73.95284787409446\\n'],\n",
       " ['34215208', '09/01/2016 12:22:00 AM', '', '', '', '', '\\n'],\n",
       " ['34211102',\n",
       "  '09/01/2016 12:22:45 AM',\n",
       "  '11223',\n",
       "  '994691',\n",
       "  '155989',\n",
       "  '40.59482384199664',\n",
       "  '-73.96240434458852\\n'],\n",
       " ['34211752', '09/01/2016 12:23:00 AM', '', '', '', '', '\\n'],\n",
       " ['34224255',\n",
       "  '09/01/2016 12:24:00 AM',\n",
       "  '10039',\n",
       "  '1001611',\n",
       "  '241370',\n",
       "  '40.82916329411408',\n",
       "  '-73.93726683976101\\n'],\n",
       " ['34216968',\n",
       "  '09/01/2016 12:24:00 AM',\n",
       "  '11362',\n",
       "  '1060234',\n",
       "  '217434',\n",
       "  '40.76315601171262',\n",
       "  '-73.72570705681578\\n'],\n",
       " ['34216052',\n",
       "  '09/01/2016 12:24:10 AM',\n",
       "  '11377',\n",
       "  '1009017',\n",
       "  '214363',\n",
       "  '40.75501874230602',\n",
       "  '-73.91060521258929\\n'],\n",
       " ['34225272',\n",
       "  '09/01/2016 12:25:00 AM',\n",
       "  '10001',\n",
       "  '984765',\n",
       "  '213117',\n",
       "  '40.75163346039767',\n",
       "  '-73.99814123761671\\n'],\n",
       " ['34222223',\n",
       "  '09/01/2016 12:25:00 AM',\n",
       "  '10001',\n",
       "  '984275',\n",
       "  '213402',\n",
       "  '40.75241572822062',\n",
       "  '-73.99990976775675\\n'],\n",
       " ['34218580',\n",
       "  '09/01/2016 12:25:32 AM',\n",
       "  '11238',\n",
       "  '993913',\n",
       "  '184267',\n",
       "  '40.672441823514696',\n",
       "  '-73.96516525277444\\n'],\n",
       " ['34211701',\n",
       "  '09/01/2016 12:25:34 AM',\n",
       "  '11225',\n",
       "  '994793',\n",
       "  '182891',\n",
       "  '40.66866400736249',\n",
       "  '-73.96199503878134\\n'],\n",
       " ['34218966',\n",
       "  '09/01/2016 12:26:02 AM',\n",
       "  '10040',\n",
       "  '1004500',\n",
       "  '252913',\n",
       "  '40.860839278581864',\n",
       "  '-73.92679271990852\\n'],\n",
       " ['34223817',\n",
       "  '09/01/2016 12:26:12 AM',\n",
       "  '10454',\n",
       "  '1006781',\n",
       "  '233878',\n",
       "  '40.80858819601399',\n",
       "  '-73.91861044996179\\n'],\n",
       " ['34218182',\n",
       "  '09/01/2016 12:26:27 AM',\n",
       "  '11212',\n",
       "  '1010154',\n",
       "  '178838',\n",
       "  '40.65750780667287',\n",
       "  '-73.90663795568324\\n'],\n",
       " ['34216138',\n",
       "  '09/01/2016 12:28:10 AM',\n",
       "  '10457',\n",
       "  '1011471',\n",
       "  '250229',\n",
       "  '40.853453764088435',\n",
       "  '-73.90160225766626\\n'],\n",
       " ['34218992',\n",
       "  '09/01/2016 12:28:44 AM',\n",
       "  '10040',\n",
       "  '1003928',\n",
       "  '251236',\n",
       "  '40.85623771170069',\n",
       "  '-73.92886552195142\\n'],\n",
       " ['34217470', '09/01/2016 12:29:13 AM', '', '', '', '', '\\n'],\n",
       " ['34214839',\n",
       "  '09/01/2016 12:29:20 AM',\n",
       "  '11229',\n",
       "  '1001875',\n",
       "  '156569',\n",
       "  '40.596404450232136',\n",
       "  '-73.93653489611431\\n'],\n",
       " ['34216795', '09/01/2016 12:30:55 AM', '', '', '', '', '\\n'],\n",
       " ['34211839',\n",
       "  '09/01/2016 12:30:59 AM',\n",
       "  '11229',\n",
       "  '996803',\n",
       "  '159926',\n",
       "  '40.60562736792954',\n",
       "  '-73.95479220020816\\n'],\n",
       " ['34221378',\n",
       "  '09/01/2016 12:31:00 AM',\n",
       "  '11207',\n",
       "  '1014266',\n",
       "  '186493',\n",
       "  '40.67850607568998',\n",
       "  '-73.8917835982187\\n'],\n",
       " ['34213443',\n",
       "  '09/01/2016 12:31:49 AM',\n",
       "  '11238',\n",
       "  '993855',\n",
       "  '184290',\n",
       "  '40.672505016468776',\n",
       "  '-73.96537430777059\\n'],\n",
       " ['34211256', '09/01/2016 12:31:52 AM', '', '', '', '', '\\n'],\n",
       " ['34215673',\n",
       "  '09/01/2016 12:33:42 AM',\n",
       "  '10001',\n",
       "  '987344',\n",
       "  '210624',\n",
       "  '40.74479027643488',\n",
       "  '-73.98883413571019\\n'],\n",
       " ['34215616',\n",
       "  '09/01/2016 12:33:48 AM',\n",
       "  '11421',\n",
       "  '1021534',\n",
       "  '191135',\n",
       "  '40.69121966184664',\n",
       "  '-73.86555469725296\\n'],\n",
       " ['34218919',\n",
       "  '09/01/2016 12:33:49 AM',\n",
       "  '11225',\n",
       "  '995203',\n",
       "  '183465',\n",
       "  '40.67023901128435',\n",
       "  '-73.96051615564376\\n'],\n",
       " ['34225320',\n",
       "  '09/01/2016 12:34:00 AM',\n",
       "  '11207',\n",
       "  '1014421',\n",
       "  '186344',\n",
       "  '40.67809657777363',\n",
       "  '-73.89122544581065\\n'],\n",
       " ['34214171',\n",
       "  '09/01/2016 12:35:19 AM',\n",
       "  '11106',\n",
       "  '1002759',\n",
       "  '216129',\n",
       "  '40.759881274582206',\n",
       "  '-73.93318816228367\\n'],\n",
       " ['34216015',\n",
       "  '09/01/2016 12:36:12 AM',\n",
       "  '11372',\n",
       "  '1017106',\n",
       "  '212378',\n",
       "  '40.74954406701735',\n",
       "  '-73.88141825228973\\n'],\n",
       " ['34217349',\n",
       "  '09/01/2016 12:36:25 AM',\n",
       "  '10027',\n",
       "  '997557',\n",
       "  '235781',\n",
       "  '40.81383010929395',\n",
       "  '-73.95192685875286\\n'],\n",
       " ['34216084',\n",
       "  '09/01/2016 12:36:28 AM',\n",
       "  '11238',\n",
       "  '994502',\n",
       "  '184046',\n",
       "  '40.67183456561807',\n",
       "  '-73.96304226656703\\n'],\n",
       " ['34225674',\n",
       "  '09/01/2016 12:37:11 AM',\n",
       "  '10011',\n",
       "  '985536',\n",
       "  '206665',\n",
       "  '40.733924251736944',\n",
       "  '-73.99535974148363\\n'],\n",
       " ['34213074',\n",
       "  '09/01/2016 12:37:24 AM',\n",
       "  '11434',\n",
       "  '1042871',\n",
       "  '184825',\n",
       "  '40.673784591981686',\n",
       "  '-73.78866907200431\\n'],\n",
       " ['34213142',\n",
       "  '09/01/2016 12:37:26 AM',\n",
       "  '10027',\n",
       "  '997557',\n",
       "  '235781',\n",
       "  '40.81383010929395',\n",
       "  '-73.95192685875286\\n'],\n",
       " ['34213059',\n",
       "  '09/01/2016 12:37:37 AM',\n",
       "  '11370',\n",
       "  '1013843',\n",
       "  '220707',\n",
       "  '40.77241653883299',\n",
       "  '-73.89315818370672\\n'],\n",
       " ['34226286',\n",
       "  '09/01/2016 12:39:00 AM',\n",
       "  '10021',\n",
       "  '995918',\n",
       "  '219297',\n",
       "  '40.76858829093216',\n",
       "  '-73.95787657918987\\n'],\n",
       " ['34213103',\n",
       "  '09/01/2016 12:39:27 AM',\n",
       "  '10471',\n",
       "  '1012781',\n",
       "  '265876',\n",
       "  '40.896395792492356',\n",
       "  '-73.89680027435357\\n'],\n",
       " ['34210952',\n",
       "  '09/01/2016 12:39:36 AM',\n",
       "  '11428',\n",
       "  '1056152',\n",
       "  '203046',\n",
       "  '40.723698860008355',\n",
       "  '-73.74059629620191\\n'],\n",
       " ['34215036',\n",
       "  '09/01/2016 12:39:57 AM',\n",
       "  '11222',\n",
       "  '1000438',\n",
       "  '203567',\n",
       "  '40.72540628058875',\n",
       "  '-73.9415964935895\\n']]"
      ]
     },
     "execution_count": 40,
     "metadata": {},
     "output_type": "execute_result"
    }
   ],
   "source": [
    "alldata"
   ]
  },
  {
   "cell_type": "markdown",
   "metadata": {
    "run_control": {
     "frozen": false,
     "read_only": false
    }
   },
   "source": [
    "## numpy methods: genfromtxt and loadtxt - excellent to read in files containing only or mostly numbers"
   ]
  },
  {
   "cell_type": "code",
   "execution_count": 41,
   "metadata": {
    "ExecuteTime": {
     "end_time": "2018-10-04T03:34:03.729171Z",
     "start_time": "2018-10-04T03:34:03.721592Z"
    },
    "run_control": {
     "frozen": false,
     "read_only": false
    }
   },
   "outputs": [],
   "source": [
    "np.genfromtxt?"
   ]
  },
  {
   "cell_type": "code",
   "execution_count": 42,
   "metadata": {
    "ExecuteTime": {
     "end_time": "2018-10-04T03:34:08.382474Z",
     "start_time": "2018-10-04T03:34:08.371929Z"
    },
    "run_control": {
     "frozen": false,
     "read_only": false
    }
   },
   "outputs": [
    {
     "data": {
      "text/plain": [
       "numpy.ndarray"
      ]
     },
     "execution_count": 42,
     "metadata": {},
     "output_type": "execute_result"
    }
   ],
   "source": [
    "# reading NUMERICAL ONLY  data \n",
    "data = np.genfromtxt(PUIdata + \"/311_Service_Requests_from_2010_to_Present_short.csv\",\n",
    "                     delimiter = ',', usecols=(0,2,3,4,5,6), skip_header=1)\n",
    "type(data)"
   ]
  },
  {
   "cell_type": "code",
   "execution_count": 43,
   "metadata": {
    "ExecuteTime": {
     "end_time": "2018-10-04T03:34:10.113324Z",
     "start_time": "2018-10-04T03:34:10.106914Z"
    },
    "run_control": {
     "frozen": false,
     "read_only": false
    }
   },
   "outputs": [
    {
     "data": {
      "text/plain": [
       "array([ 3.42127710e+07,  1.14130000e+04,  1.05222300e+06,  1.85368000e+05,\n",
       "        4.06752081e+01, -7.37549494e+01])"
      ]
     },
     "execution_count": 43,
     "metadata": {},
     "output_type": "execute_result"
    }
   ],
   "source": [
    "data[0]"
   ]
  },
  {
   "cell_type": "code",
   "execution_count": 44,
   "metadata": {
    "ExecuteTime": {
     "end_time": "2018-10-04T03:34:10.770859Z",
     "start_time": "2018-10-04T03:34:10.762517Z"
    },
    "run_control": {
     "frozen": false,
     "read_only": false
    }
   },
   "outputs": [
    {
     "data": {
      "text/plain": [
       "(99, 6)"
      ]
     },
     "execution_count": 44,
     "metadata": {},
     "output_type": "execute_result"
    }
   ],
   "source": [
    "data.shape"
   ]
  },
  {
   "cell_type": "code",
   "execution_count": 45,
   "metadata": {
    "ExecuteTime": {
     "end_time": "2018-10-04T03:34:11.408761Z",
     "start_time": "2018-10-04T03:34:11.399151Z"
    },
    "run_control": {
     "frozen": false,
     "read_only": false
    }
   },
   "outputs": [
    {
     "data": {
      "text/plain": [
       "(6, 99)"
      ]
     },
     "execution_count": 45,
     "metadata": {},
     "output_type": "execute_result"
    }
   ],
   "source": [
    "# reading NUMERICAL ONLY  data while unpacking it\n",
    "data = np.genfromtxt(PUIdata + \"/311_Service_Requests_from_2010_to_Present_short.csv\",\n",
    "                     delimiter = ',', usecols=(0,2,3,4,5,6), skip_header=1, \n",
    "                    unpack = True)\n",
    "data.shape"
   ]
  },
  {
   "cell_type": "code",
   "execution_count": 46,
   "metadata": {
    "ExecuteTime": {
     "end_time": "2018-10-04T03:34:12.303055Z",
     "start_time": "2018-10-04T03:34:12.295312Z"
    },
    "run_control": {
     "frozen": false,
     "read_only": false
    }
   },
   "outputs": [
    {
     "data": {
      "text/plain": [
       "array([34212771., 34212392., 34214520., 34212483., 34214231., 34223410.,\n",
       "       34219357., 34211394., 34217294., 34213164., 34212770., 34214130.,\n",
       "       34217841., 34212954., 34216160., 34216500., 34221835., 34211702.,\n",
       "       34219447., 34217113., 34214548., 34221511., 34217276., 34217959.,\n",
       "       34210942., 34213767., 34214112., 34212140., 34216046., 34214014.,\n",
       "       34216956., 34226414., 34224524., 34217709., 34218143., 34222231.,\n",
       "       34217303., 34213421., 34215972., 34222268., 34221144., 34213744.,\n",
       "       34224352., 34223699., 34213166., 34212338., 34210938., 34216167.,\n",
       "       34216756., 34213978., 34216504., 34213839., 34217179., 34216324.,\n",
       "       34211957., 34211967., 34212999., 34214166., 34214406., 34213441.,\n",
       "       34225420., 34215208., 34211102., 34211752., 34224255., 34216968.,\n",
       "       34216052., 34225272., 34222223., 34218580., 34211701., 34218966.,\n",
       "       34223817., 34218182., 34216138., 34218992., 34217470., 34214839.,\n",
       "       34216795., 34211839., 34221378., 34213443., 34211256., 34215673.,\n",
       "       34215616., 34218919., 34225320., 34214171., 34216015., 34217349.,\n",
       "       34216084., 34225674., 34213074., 34213142., 34213059., 34226286.,\n",
       "       34213103., 34210952., 34215036.])"
      ]
     },
     "execution_count": 46,
     "metadata": {},
     "output_type": "execute_result"
    }
   ],
   "source": [
    "data[0]"
   ]
  },
  {
   "cell_type": "code",
   "execution_count": 47,
   "metadata": {
    "ExecuteTime": {
     "end_time": "2018-10-04T03:34:13.060871Z",
     "start_time": "2018-10-04T03:34:13.051419Z"
    },
    "run_control": {
     "frozen": false,
     "read_only": false
    }
   },
   "outputs": [
    {
     "data": {
      "text/plain": [
       "numpy.ndarray"
      ]
     },
     "execution_count": 47,
     "metadata": {},
     "output_type": "execute_result"
    }
   ],
   "source": [
    "# reading hybrid data passing a dictionary of types\n",
    "data =  np.genfromtxt(PUIdata + \"/311_Service_Requests_from_2010_to_Present_short.csv\",\n",
    "                     delimiter = ',', dtype={'names':['id', 'date', 'zip','x','y','lat','lon'], \n",
    "                                             'formats':['d', 'S22', 'd', 'd', 'd', 'f', 'f']}, \n",
    "                      skip_header = 1)\n",
    "type(data)"
   ]
  },
  {
   "cell_type": "code",
   "execution_count": 48,
   "metadata": {
    "ExecuteTime": {
     "end_time": "2018-10-04T03:34:14.729547Z",
     "start_time": "2018-10-04T03:34:14.718887Z"
    },
    "run_control": {
     "frozen": false,
     "read_only": false
    }
   },
   "outputs": [
    {
     "data": {
      "text/plain": [
       "(34212771., b'09/01/2016 12:00:06 AM', 11413., 1052223., 185368., 40.67521, -73.75495)"
      ]
     },
     "execution_count": 48,
     "metadata": {},
     "output_type": "execute_result"
    }
   ],
   "source": [
    "data[0]"
   ]
  },
  {
   "cell_type": "code",
   "execution_count": 49,
   "metadata": {
    "ExecuteTime": {
     "end_time": "2018-10-04T03:34:16.472878Z",
     "start_time": "2018-10-04T03:34:16.466647Z"
    },
    "run_control": {
     "frozen": false,
     "read_only": false
    }
   },
   "outputs": [
    {
     "data": {
      "text/plain": [
       "(34212392., b'09/01/2016 12:00:35 AM', 10469., 1023875., 259913., 40.879986, -73.856705)"
      ]
     },
     "execution_count": 49,
     "metadata": {},
     "output_type": "execute_result"
    }
   ],
   "source": [
    "data[1]"
   ]
  },
  {
   "cell_type": "markdown",
   "metadata": {
    "run_control": {
     "frozen": false,
     "read_only": false
    }
   },
   "source": [
    "## the allmighty pandas data reader"
   ]
  },
  {
   "cell_type": "code",
   "execution_count": 50,
   "metadata": {
    "ExecuteTime": {
     "end_time": "2018-10-04T03:34:25.346660Z",
     "start_time": "2018-10-04T03:34:25.334071Z"
    },
    "run_control": {
     "frozen": false,
     "read_only": false
    }
   },
   "outputs": [],
   "source": [
    "pd.read_csv?"
   ]
  },
  {
   "cell_type": "code",
   "execution_count": 51,
   "metadata": {
    "ExecuteTime": {
     "end_time": "2018-10-04T03:35:10.028357Z",
     "start_time": "2018-10-04T03:35:09.202197Z"
    },
    "run_control": {
     "frozen": false,
     "read_only": false
    }
   },
   "outputs": [
    {
     "name": "stderr",
     "output_type": "stream",
     "text": [
      "//anaconda/envs/py36/lib/python3.6/site-packages/IPython/core/interactiveshell.py:2785: DtypeWarning: Columns (17,40,47) have mixed types. Specify dtype option on import or set low_memory=False.\n",
      "  interactivity=interactivity, compiler=compiler, result=result)\n"
     ]
    },
    {
     "data": {
      "text/plain": [
       "Index(['Unique Key', 'Created Date', 'Closed Date', 'Agency', 'Agency Name',\n",
       "       'Complaint Type', 'Descriptor', 'Location Type', 'Incident Zip',\n",
       "       'Incident Address', 'Street Name', 'Cross Street 1', 'Cross Street 2',\n",
       "       'Intersection Street 1', 'Intersection Street 2', 'Address Type',\n",
       "       'City', 'Landmark', 'Facility Type', 'Status', 'Due Date',\n",
       "       'Resolution Description', 'Resolution Action Updated Date',\n",
       "       'Community Board', 'Borough', 'X Coordinate (State Plane)',\n",
       "       'Y Coordinate (State Plane)', 'Park Facility Name', 'Park Borough',\n",
       "       'School Name', 'School Number', 'School Region', 'School Code',\n",
       "       'School Phone Number', 'School Address', 'School City', 'School State',\n",
       "       'School Zip', 'School Not Found', 'School or Citywide Complaint',\n",
       "       'Vehicle Type', 'Taxi Company Borough', 'Taxi Pick Up Location',\n",
       "       'Bridge Highway Name', 'Bridge Highway Direction', 'Road Ramp',\n",
       "       'Bridge Highway Segment', 'Garage Lot Name', 'Ferry Direction',\n",
       "       'Ferry Terminal Name', 'Latitude', 'Longitude', 'Location'],\n",
       "      dtype='object')"
      ]
     },
     "execution_count": 51,
     "metadata": {},
     "output_type": "execute_result"
    }
   ],
   "source": [
    "df1 = pd.read_csv(PUIdata + \"/311_Service_Requests_from_2010_to_Present.csv\")\n",
    "df1.columns"
   ]
  },
  {
   "cell_type": "markdown",
   "metadata": {},
   "source": [
    "# data manipulation with dataframes"
   ]
  },
  {
   "cell_type": "code",
   "execution_count": 52,
   "metadata": {
    "ExecuteTime": {
     "end_time": "2018-10-04T03:35:10.546365Z",
     "start_time": "2018-10-04T03:35:10.528499Z"
    },
    "run_control": {
     "frozen": false,
     "read_only": false
    }
   },
   "outputs": [
    {
     "data": {
      "text/plain": [
       "0        The Police Department responded to the complai...\n",
       "1        The Police Department reviewed your complaint ...\n",
       "2        The Police Department responded and upon arriv...\n",
       "3        The Police Department issued a summons in resp...\n",
       "4        The Department of Transportation inspected thi...\n",
       "5        The Department of Environmental Protection det...\n",
       "6        The Department of Sanitation investigated this...\n",
       "7        The Taxi and Limousine Commission will contact...\n",
       "8        The Police Department responded to the complai...\n",
       "9        The Police Department responded to the complai...\n",
       "10       The Police Department responded to the complai...\n",
       "11       The Police Department responded and upon arriv...\n",
       "12       The Taxi and Limousine Commission will contact...\n",
       "13       The Police Department responded and upon arriv...\n",
       "14       The Police Department responded to the complai...\n",
       "15       The Police Department responded and upon arriv...\n",
       "16       The following complaint conditions are still o...\n",
       "17       The Police Department responded to the complai...\n",
       "18       The Department of Environmental Protection det...\n",
       "19       The Police Department issued a summons in resp...\n",
       "20       The Department of Transportation requires 90 d...\n",
       "21       The Department of Sanitation investigated this...\n",
       "22                                                     NaN\n",
       "23       The Police Department responded to the complai...\n",
       "24       The Police Department responded to the complai...\n",
       "25       The  Department of Transportation inspected th...\n",
       "26       The Police Department responded and upon arriv...\n",
       "27                                                     NaN\n",
       "28       The Police Department responded and upon arriv...\n",
       "29       The Police Department responded to the complai...\n",
       "                               ...                        \n",
       "34867    Your complaint has been received by the Police...\n",
       "34868    The Human Resources Administration received yo...\n",
       "34869    The Police Department responded to the complai...\n",
       "34870    The Department of Health and Mental Hygiene wi...\n",
       "34871    The Taxi and Limousine Commission will contact...\n",
       "34872    The Human Resources Administration received yo...\n",
       "34873    The Police Department responded to the complai...\n",
       "34874    Your complaint has been received by the Police...\n",
       "34875    Your complaint has been received by the Police...\n",
       "34876    Your complaint has been received by the Police...\n",
       "34877    Your complaint has been forwarded to the New Y...\n",
       "34878    The Police Department issued a summons in resp...\n",
       "34879    Your complaint has been received by the Police...\n",
       "34880    The Police Department responded to the complai...\n",
       "34881    Your complaint has been forwarded to the New Y...\n",
       "34882    Your complaint has been forwarded to the New Y...\n",
       "34883    Your complaint has been forwarded to the New Y...\n",
       "34884    Your complaint has been received by the Police...\n",
       "34885    Your complaint has been received by the Police...\n",
       "34886    The Police Department issued a summons in resp...\n",
       "34887    The Police Department responded to the complai...\n",
       "34888    The Taxi and Limousine Commission will contact...\n",
       "34889    Your complaint has been received by the Police...\n",
       "34890    Your complaint has been received by the Police...\n",
       "34891    The Police Department responded to the complai...\n",
       "34892    Your complaint has been received by the Police...\n",
       "34893    The Police Department responded and upon arriv...\n",
       "34894    The Department of Parks and Recreation usually...\n",
       "34895    The Department of Health and Mental Hygiene wi...\n",
       "34896    Your complaint has been received by the Police...\n",
       "Name: Resolution Description, Length: 34897, dtype: object"
      ]
     },
     "execution_count": 52,
     "metadata": {},
     "output_type": "execute_result"
    }
   ],
   "source": [
    "df1['Resolution Description']"
   ]
  },
  {
   "cell_type": "code",
   "execution_count": 53,
   "metadata": {
    "ExecuteTime": {
     "end_time": "2018-10-04T03:35:11.381838Z",
     "start_time": "2018-10-04T03:35:11.361066Z"
    },
    "run_control": {
     "frozen": false,
     "read_only": false
    }
   },
   "outputs": [
    {
     "data": {
      "text/plain": [
       "0               Noise - Residential\n",
       "1                  Blocked Driveway\n",
       "2                  Blocked Driveway\n",
       "3                  Blocked Driveway\n",
       "4                  Street Condition\n",
       "5                      Water System\n",
       "6              Sanitation Condition\n",
       "7                    Taxi Complaint\n",
       "8               Noise - Residential\n",
       "9                Noise - Commercial\n",
       "10               Noise - Commercial\n",
       "11                  Illegal Parking\n",
       "12                   Taxi Complaint\n",
       "13                  Illegal Parking\n",
       "14                  Illegal Parking\n",
       "15                 Blocked Driveway\n",
       "16                   HEAT/HOT WATER\n",
       "17          Noise - Street/Sidewalk\n",
       "18                     Water System\n",
       "19                  Illegal Parking\n",
       "20                 Street Condition\n",
       "21                 Dirty Conditions\n",
       "22                            Forms\n",
       "23          Noise - Street/Sidewalk\n",
       "24              Noise - Residential\n",
       "25                 Street Condition\n",
       "26                  Illegal Parking\n",
       "27                            Forms\n",
       "28                     Noise - Park\n",
       "29              Noise - Residential\n",
       "                    ...            \n",
       "34867       Noise - Street/Sidewalk\n",
       "34868      Benefit Card Replacement\n",
       "34869           Noise - Residential\n",
       "34870                        Rodent\n",
       "34871    For Hire Vehicle Complaint\n",
       "34872      Benefit Card Replacement\n",
       "34873            Noise - Commercial\n",
       "34874                  Animal Abuse\n",
       "34875               Illegal Parking\n",
       "34876            Noise - Commercial\n",
       "34877            Noise - Commercial\n",
       "34878              Blocked Driveway\n",
       "34879           Noise - Residential\n",
       "34880       Noise - Street/Sidewalk\n",
       "34881           Noise - Residential\n",
       "34882           Noise - Residential\n",
       "34883           Noise - Residential\n",
       "34884           Noise - Residential\n",
       "34885       Noise - Street/Sidewalk\n",
       "34886               Illegal Parking\n",
       "34887            Noise - Commercial\n",
       "34888                Taxi Complaint\n",
       "34889            Noise - Commercial\n",
       "34890               Noise - Vehicle\n",
       "34891           Noise - Residential\n",
       "34892           Noise - Residential\n",
       "34893       Noise - Street/Sidewalk\n",
       "34894       Overgrown Tree/Branches\n",
       "34895                    Poison Ivy\n",
       "34896            Noise - Commercial\n",
       "Name: Complaint Type, Length: 34897, dtype: object"
      ]
     },
     "execution_count": 53,
     "metadata": {},
     "output_type": "execute_result"
    }
   ],
   "source": [
    "df1['Complaint Type']"
   ]
  },
  {
   "cell_type": "markdown",
   "metadata": {
    "run_control": {
     "frozen": false,
     "read_only": false
    }
   },
   "source": [
    "## selecting values by content"
   ]
  },
  {
   "cell_type": "code",
   "execution_count": 54,
   "metadata": {
    "ExecuteTime": {
     "end_time": "2018-10-04T03:35:13.075248Z",
     "start_time": "2018-10-04T03:35:13.031032Z"
    },
    "run_control": {
     "frozen": false,
     "read_only": false
    }
   },
   "outputs": [
    {
     "data": {
      "text/plain": [
       "0         True\n",
       "1        False\n",
       "2        False\n",
       "3        False\n",
       "4        False\n",
       "5        False\n",
       "6        False\n",
       "7        False\n",
       "8         True\n",
       "9         True\n",
       "10        True\n",
       "11       False\n",
       "12       False\n",
       "13       False\n",
       "14       False\n",
       "15       False\n",
       "16       False\n",
       "17        True\n",
       "18       False\n",
       "19       False\n",
       "20       False\n",
       "21       False\n",
       "22       False\n",
       "23        True\n",
       "24        True\n",
       "25       False\n",
       "26       False\n",
       "27       False\n",
       "28        True\n",
       "29        True\n",
       "         ...  \n",
       "34867     True\n",
       "34868    False\n",
       "34869     True\n",
       "34870    False\n",
       "34871    False\n",
       "34872    False\n",
       "34873     True\n",
       "34874    False\n",
       "34875    False\n",
       "34876     True\n",
       "34877     True\n",
       "34878    False\n",
       "34879     True\n",
       "34880     True\n",
       "34881     True\n",
       "34882     True\n",
       "34883     True\n",
       "34884     True\n",
       "34885     True\n",
       "34886    False\n",
       "34887     True\n",
       "34888    False\n",
       "34889     True\n",
       "34890     True\n",
       "34891     True\n",
       "34892     True\n",
       "34893     True\n",
       "34894    False\n",
       "34895    False\n",
       "34896     True\n",
       "Name: Complaint Type, Length: 34897, dtype: bool"
      ]
     },
     "execution_count": 54,
     "metadata": {},
     "output_type": "execute_result"
    }
   ],
   "source": [
    "df1['Complaint Type'].str.contains(\"Noise\")"
   ]
  },
  {
   "cell_type": "code",
   "execution_count": 55,
   "metadata": {
    "ExecuteTime": {
     "end_time": "2018-10-04T03:35:13.911116Z",
     "start_time": "2018-10-04T03:35:13.853906Z"
    },
    "run_control": {
     "frozen": false,
     "read_only": false
    }
   },
   "outputs": [],
   "source": [
    "#indexing a dataframe by the value of a feature (series-column)\n",
    "dfNoise = df1[df1['Complaint Type'].str.contains(\"Noise\")]"
   ]
  },
  {
   "cell_type": "code",
   "execution_count": 56,
   "metadata": {
    "ExecuteTime": {
     "end_time": "2018-10-04T03:35:15.084592Z",
     "start_time": "2018-10-04T03:35:15.036511Z"
    },
    "run_control": {
     "frozen": false,
     "read_only": false
    }
   },
   "outputs": [
    {
     "data": {
      "text/html": [
       "<div>\n",
       "<style scoped>\n",
       "    .dataframe tbody tr th:only-of-type {\n",
       "        vertical-align: middle;\n",
       "    }\n",
       "\n",
       "    .dataframe tbody tr th {\n",
       "        vertical-align: top;\n",
       "    }\n",
       "\n",
       "    .dataframe thead th {\n",
       "        text-align: right;\n",
       "    }\n",
       "</style>\n",
       "<table border=\"1\" class=\"dataframe\">\n",
       "  <thead>\n",
       "    <tr style=\"text-align: right;\">\n",
       "      <th></th>\n",
       "      <th>Unique Key</th>\n",
       "      <th>Created Date</th>\n",
       "      <th>Closed Date</th>\n",
       "      <th>Agency</th>\n",
       "      <th>Agency Name</th>\n",
       "      <th>Complaint Type</th>\n",
       "      <th>Descriptor</th>\n",
       "      <th>Location Type</th>\n",
       "      <th>Incident Zip</th>\n",
       "      <th>Incident Address</th>\n",
       "      <th>...</th>\n",
       "      <th>Bridge Highway Name</th>\n",
       "      <th>Bridge Highway Direction</th>\n",
       "      <th>Road Ramp</th>\n",
       "      <th>Bridge Highway Segment</th>\n",
       "      <th>Garage Lot Name</th>\n",
       "      <th>Ferry Direction</th>\n",
       "      <th>Ferry Terminal Name</th>\n",
       "      <th>Latitude</th>\n",
       "      <th>Longitude</th>\n",
       "      <th>Location</th>\n",
       "    </tr>\n",
       "  </thead>\n",
       "  <tbody>\n",
       "    <tr>\n",
       "      <th>0</th>\n",
       "      <td>34212771</td>\n",
       "      <td>09/01/2016 12:00:06 AM</td>\n",
       "      <td>09/01/2016 06:02:10 AM</td>\n",
       "      <td>NYPD</td>\n",
       "      <td>New York City Police Department</td>\n",
       "      <td>Noise - Residential</td>\n",
       "      <td>Loud Television</td>\n",
       "      <td>Residential Building/House</td>\n",
       "      <td>11413.0</td>\n",
       "      <td>137-47 CARSON STREET</td>\n",
       "      <td>...</td>\n",
       "      <td>NaN</td>\n",
       "      <td>NaN</td>\n",
       "      <td>NaN</td>\n",
       "      <td>NaN</td>\n",
       "      <td>NaN</td>\n",
       "      <td>NaN</td>\n",
       "      <td>NaN</td>\n",
       "      <td>40.675208</td>\n",
       "      <td>-73.754949</td>\n",
       "      <td>(40.67520813178531, -73.75494944502233)</td>\n",
       "    </tr>\n",
       "    <tr>\n",
       "      <th>8</th>\n",
       "      <td>34217294</td>\n",
       "      <td>09/01/2016 12:02:07 AM</td>\n",
       "      <td>09/01/2016 03:46:46 AM</td>\n",
       "      <td>NYPD</td>\n",
       "      <td>New York City Police Department</td>\n",
       "      <td>Noise - Residential</td>\n",
       "      <td>Loud Music/Party</td>\n",
       "      <td>Residential Building/House</td>\n",
       "      <td>10468.0</td>\n",
       "      <td>2685 GRAND CONCOURSE</td>\n",
       "      <td>...</td>\n",
       "      <td>NaN</td>\n",
       "      <td>NaN</td>\n",
       "      <td>NaN</td>\n",
       "      <td>NaN</td>\n",
       "      <td>NaN</td>\n",
       "      <td>NaN</td>\n",
       "      <td>NaN</td>\n",
       "      <td>40.866838</td>\n",
       "      <td>-73.893802</td>\n",
       "      <td>(40.86683824468553, -73.89380189150275)</td>\n",
       "    </tr>\n",
       "    <tr>\n",
       "      <th>9</th>\n",
       "      <td>34213164</td>\n",
       "      <td>09/01/2016 12:03:16 AM</td>\n",
       "      <td>09/01/2016 03:46:38 AM</td>\n",
       "      <td>NYPD</td>\n",
       "      <td>New York City Police Department</td>\n",
       "      <td>Noise - Commercial</td>\n",
       "      <td>Loud Music/Party</td>\n",
       "      <td>Store/Commercial</td>\n",
       "      <td>11222.0</td>\n",
       "      <td>284 DRIGGS AVENUE</td>\n",
       "      <td>...</td>\n",
       "      <td>NaN</td>\n",
       "      <td>NaN</td>\n",
       "      <td>NaN</td>\n",
       "      <td>NaN</td>\n",
       "      <td>NaN</td>\n",
       "      <td>NaN</td>\n",
       "      <td>NaN</td>\n",
       "      <td>40.722566</td>\n",
       "      <td>-73.948944</td>\n",
       "      <td>(40.7225662037401, -73.94894420645994)</td>\n",
       "    </tr>\n",
       "    <tr>\n",
       "      <th>10</th>\n",
       "      <td>34212770</td>\n",
       "      <td>09/01/2016 12:03:35 AM</td>\n",
       "      <td>09/01/2016 03:46:28 AM</td>\n",
       "      <td>NYPD</td>\n",
       "      <td>New York City Police Department</td>\n",
       "      <td>Noise - Commercial</td>\n",
       "      <td>Loud Talking</td>\n",
       "      <td>Club/Bar/Restaurant</td>\n",
       "      <td>11249.0</td>\n",
       "      <td>149 NORTH 6 STREET</td>\n",
       "      <td>...</td>\n",
       "      <td>NaN</td>\n",
       "      <td>NaN</td>\n",
       "      <td>NaN</td>\n",
       "      <td>NaN</td>\n",
       "      <td>NaN</td>\n",
       "      <td>NaN</td>\n",
       "      <td>NaN</td>\n",
       "      <td>40.717440</td>\n",
       "      <td>-73.958558</td>\n",
       "      <td>(40.717440110199995, -73.95855823667199)</td>\n",
       "    </tr>\n",
       "    <tr>\n",
       "      <th>17</th>\n",
       "      <td>34211702</td>\n",
       "      <td>09/01/2016 12:06:56 AM</td>\n",
       "      <td>09/01/2016 04:59:06 AM</td>\n",
       "      <td>NYPD</td>\n",
       "      <td>New York City Police Department</td>\n",
       "      <td>Noise - Street/Sidewalk</td>\n",
       "      <td>Loud Talking</td>\n",
       "      <td>Street/Sidewalk</td>\n",
       "      <td>11221.0</td>\n",
       "      <td>194 STUYVESANT AVENUE</td>\n",
       "      <td>...</td>\n",
       "      <td>NaN</td>\n",
       "      <td>NaN</td>\n",
       "      <td>NaN</td>\n",
       "      <td>NaN</td>\n",
       "      <td>NaN</td>\n",
       "      <td>NaN</td>\n",
       "      <td>NaN</td>\n",
       "      <td>40.688583</td>\n",
       "      <td>-73.933184</td>\n",
       "      <td>(40.68858343380662, -73.93318387971877)</td>\n",
       "    </tr>\n",
       "  </tbody>\n",
       "</table>\n",
       "<p>5 rows × 53 columns</p>\n",
       "</div>"
      ],
      "text/plain": [
       "    Unique Key            Created Date             Closed Date Agency  \\\n",
       "0     34212771  09/01/2016 12:00:06 AM  09/01/2016 06:02:10 AM   NYPD   \n",
       "8     34217294  09/01/2016 12:02:07 AM  09/01/2016 03:46:46 AM   NYPD   \n",
       "9     34213164  09/01/2016 12:03:16 AM  09/01/2016 03:46:38 AM   NYPD   \n",
       "10    34212770  09/01/2016 12:03:35 AM  09/01/2016 03:46:28 AM   NYPD   \n",
       "17    34211702  09/01/2016 12:06:56 AM  09/01/2016 04:59:06 AM   NYPD   \n",
       "\n",
       "                        Agency Name           Complaint Type  \\\n",
       "0   New York City Police Department      Noise - Residential   \n",
       "8   New York City Police Department      Noise - Residential   \n",
       "9   New York City Police Department       Noise - Commercial   \n",
       "10  New York City Police Department       Noise - Commercial   \n",
       "17  New York City Police Department  Noise - Street/Sidewalk   \n",
       "\n",
       "          Descriptor               Location Type  Incident Zip  \\\n",
       "0    Loud Television  Residential Building/House       11413.0   \n",
       "8   Loud Music/Party  Residential Building/House       10468.0   \n",
       "9   Loud Music/Party            Store/Commercial       11222.0   \n",
       "10      Loud Talking         Club/Bar/Restaurant       11249.0   \n",
       "17      Loud Talking             Street/Sidewalk       11221.0   \n",
       "\n",
       "         Incident Address                    ...                     \\\n",
       "0    137-47 CARSON STREET                    ...                      \n",
       "8    2685 GRAND CONCOURSE                    ...                      \n",
       "9       284 DRIGGS AVENUE                    ...                      \n",
       "10     149 NORTH 6 STREET                    ...                      \n",
       "17  194 STUYVESANT AVENUE                    ...                      \n",
       "\n",
       "   Bridge Highway Name Bridge Highway Direction Road Ramp  \\\n",
       "0                  NaN                      NaN       NaN   \n",
       "8                  NaN                      NaN       NaN   \n",
       "9                  NaN                      NaN       NaN   \n",
       "10                 NaN                      NaN       NaN   \n",
       "17                 NaN                      NaN       NaN   \n",
       "\n",
       "   Bridge Highway Segment Garage Lot Name Ferry Direction Ferry Terminal Name  \\\n",
       "0                     NaN             NaN             NaN                 NaN   \n",
       "8                     NaN             NaN             NaN                 NaN   \n",
       "9                     NaN             NaN             NaN                 NaN   \n",
       "10                    NaN             NaN             NaN                 NaN   \n",
       "17                    NaN             NaN             NaN                 NaN   \n",
       "\n",
       "     Latitude  Longitude                                  Location  \n",
       "0   40.675208 -73.754949   (40.67520813178531, -73.75494944502233)  \n",
       "8   40.866838 -73.893802   (40.86683824468553, -73.89380189150275)  \n",
       "9   40.722566 -73.948944    (40.7225662037401, -73.94894420645994)  \n",
       "10  40.717440 -73.958558  (40.717440110199995, -73.95855823667199)  \n",
       "17  40.688583 -73.933184   (40.68858343380662, -73.93318387971877)  \n",
       "\n",
       "[5 rows x 53 columns]"
      ]
     },
     "execution_count": 56,
     "metadata": {},
     "output_type": "execute_result"
    }
   ],
   "source": [
    "dfNoise.head()"
   ]
  },
  {
   "cell_type": "markdown",
   "metadata": {},
   "source": [
    "## removing columns"
   ]
  },
  {
   "cell_type": "code",
   "execution_count": 57,
   "metadata": {
    "ExecuteTime": {
     "end_time": "2018-10-04T03:35:16.345387Z",
     "start_time": "2018-10-04T03:35:16.272034Z"
    },
    "run_control": {
     "frozen": false,
     "read_only": false
    }
   },
   "outputs": [
    {
     "data": {
      "text/html": [
       "<div>\n",
       "<style scoped>\n",
       "    .dataframe tbody tr th:only-of-type {\n",
       "        vertical-align: middle;\n",
       "    }\n",
       "\n",
       "    .dataframe tbody tr th {\n",
       "        vertical-align: top;\n",
       "    }\n",
       "\n",
       "    .dataframe thead th {\n",
       "        text-align: right;\n",
       "    }\n",
       "</style>\n",
       "<table border=\"1\" class=\"dataframe\">\n",
       "  <thead>\n",
       "    <tr style=\"text-align: right;\">\n",
       "      <th></th>\n",
       "      <th>X Coordinate (State Plane)</th>\n",
       "      <th>Y Coordinate (State Plane)</th>\n",
       "      <th>Latitude</th>\n",
       "      <th>Longitude</th>\n",
       "    </tr>\n",
       "  </thead>\n",
       "  <tbody>\n",
       "    <tr>\n",
       "      <th>0</th>\n",
       "      <td>1052223.0</td>\n",
       "      <td>185368.0</td>\n",
       "      <td>40.675208</td>\n",
       "      <td>-73.754949</td>\n",
       "    </tr>\n",
       "    <tr>\n",
       "      <th>8</th>\n",
       "      <td>1013623.0</td>\n",
       "      <td>255108.0</td>\n",
       "      <td>40.866838</td>\n",
       "      <td>-73.893802</td>\n",
       "    </tr>\n",
       "    <tr>\n",
       "      <th>9</th>\n",
       "      <td>998402.0</td>\n",
       "      <td>202531.0</td>\n",
       "      <td>40.722566</td>\n",
       "      <td>-73.948944</td>\n",
       "    </tr>\n",
       "    <tr>\n",
       "      <th>10</th>\n",
       "      <td>995738.0</td>\n",
       "      <td>200662.0</td>\n",
       "      <td>40.717440</td>\n",
       "      <td>-73.958558</td>\n",
       "    </tr>\n",
       "    <tr>\n",
       "      <th>17</th>\n",
       "      <td>1002780.0</td>\n",
       "      <td>190153.0</td>\n",
       "      <td>40.688583</td>\n",
       "      <td>-73.933184</td>\n",
       "    </tr>\n",
       "    <tr>\n",
       "      <th>23</th>\n",
       "      <td>995025.0</td>\n",
       "      <td>182824.0</td>\n",
       "      <td>40.668480</td>\n",
       "      <td>-73.961159</td>\n",
       "    </tr>\n",
       "    <tr>\n",
       "      <th>24</th>\n",
       "      <td>1016737.0</td>\n",
       "      <td>213135.0</td>\n",
       "      <td>40.751623</td>\n",
       "      <td>-73.882746</td>\n",
       "    </tr>\n",
       "    <tr>\n",
       "      <th>28</th>\n",
       "      <td>1003028.0</td>\n",
       "      <td>216533.0</td>\n",
       "      <td>40.760990</td>\n",
       "      <td>-73.932216</td>\n",
       "    </tr>\n",
       "    <tr>\n",
       "      <th>29</th>\n",
       "      <td>1010935.0</td>\n",
       "      <td>215224.0</td>\n",
       "      <td>40.757376</td>\n",
       "      <td>-73.903679</td>\n",
       "    </tr>\n",
       "    <tr>\n",
       "      <th>30</th>\n",
       "      <td>1001875.0</td>\n",
       "      <td>156569.0</td>\n",
       "      <td>40.596404</td>\n",
       "      <td>-73.936535</td>\n",
       "    </tr>\n",
       "    <tr>\n",
       "      <th>34</th>\n",
       "      <td>1032597.0</td>\n",
       "      <td>216015.0</td>\n",
       "      <td>40.759456</td>\n",
       "      <td>-73.825483</td>\n",
       "    </tr>\n",
       "    <tr>\n",
       "      <th>37</th>\n",
       "      <td>994156.0</td>\n",
       "      <td>184165.0</td>\n",
       "      <td>40.672162</td>\n",
       "      <td>-73.964289</td>\n",
       "    </tr>\n",
       "    <tr>\n",
       "      <th>39</th>\n",
       "      <td>984824.0</td>\n",
       "      <td>213090.0</td>\n",
       "      <td>40.751559</td>\n",
       "      <td>-73.997928</td>\n",
       "    </tr>\n",
       "    <tr>\n",
       "      <th>41</th>\n",
       "      <td>1043415.0</td>\n",
       "      <td>197121.0</td>\n",
       "      <td>40.707531</td>\n",
       "      <td>-73.786600</td>\n",
       "    </tr>\n",
       "    <tr>\n",
       "      <th>44</th>\n",
       "      <td>1004273.0</td>\n",
       "      <td>192099.0</td>\n",
       "      <td>40.693922</td>\n",
       "      <td>-73.927795</td>\n",
       "    </tr>\n",
       "    <tr>\n",
       "      <th>45</th>\n",
       "      <td>1042873.0</td>\n",
       "      <td>189735.0</td>\n",
       "      <td>40.687261</td>\n",
       "      <td>-73.788619</td>\n",
       "    </tr>\n",
       "    <tr>\n",
       "      <th>46</th>\n",
       "      <td>1006781.0</td>\n",
       "      <td>233878.0</td>\n",
       "      <td>40.808588</td>\n",
       "      <td>-73.918610</td>\n",
       "    </tr>\n",
       "    <tr>\n",
       "      <th>49</th>\n",
       "      <td>1010983.0</td>\n",
       "      <td>174768.0</td>\n",
       "      <td>40.646334</td>\n",
       "      <td>-73.903666</td>\n",
       "    </tr>\n",
       "    <tr>\n",
       "      <th>50</th>\n",
       "      <td>1042844.0</td>\n",
       "      <td>189758.0</td>\n",
       "      <td>40.687325</td>\n",
       "      <td>-73.788724</td>\n",
       "    </tr>\n",
       "    <tr>\n",
       "      <th>51</th>\n",
       "      <td>994556.0</td>\n",
       "      <td>184471.0</td>\n",
       "      <td>40.673001</td>\n",
       "      <td>-73.962847</td>\n",
       "    </tr>\n",
       "    <tr>\n",
       "      <th>55</th>\n",
       "      <td>994885.0</td>\n",
       "      <td>183552.0</td>\n",
       "      <td>40.670478</td>\n",
       "      <td>-73.961662</td>\n",
       "    </tr>\n",
       "    <tr>\n",
       "      <th>57</th>\n",
       "      <td>987616.0</td>\n",
       "      <td>221189.0</td>\n",
       "      <td>40.773788</td>\n",
       "      <td>-73.987847</td>\n",
       "    </tr>\n",
       "    <tr>\n",
       "      <th>59</th>\n",
       "      <td>993280.0</td>\n",
       "      <td>184460.0</td>\n",
       "      <td>40.672972</td>\n",
       "      <td>-73.967447</td>\n",
       "    </tr>\n",
       "    <tr>\n",
       "      <th>64</th>\n",
       "      <td>1001611.0</td>\n",
       "      <td>241370.0</td>\n",
       "      <td>40.829163</td>\n",
       "      <td>-73.937267</td>\n",
       "    </tr>\n",
       "    <tr>\n",
       "      <th>67</th>\n",
       "      <td>984765.0</td>\n",
       "      <td>213117.0</td>\n",
       "      <td>40.751633</td>\n",
       "      <td>-73.998141</td>\n",
       "    </tr>\n",
       "    <tr>\n",
       "      <th>68</th>\n",
       "      <td>984275.0</td>\n",
       "      <td>213402.0</td>\n",
       "      <td>40.752416</td>\n",
       "      <td>-73.999910</td>\n",
       "    </tr>\n",
       "    <tr>\n",
       "      <th>69</th>\n",
       "      <td>993913.0</td>\n",
       "      <td>184267.0</td>\n",
       "      <td>40.672442</td>\n",
       "      <td>-73.965165</td>\n",
       "    </tr>\n",
       "    <tr>\n",
       "      <th>70</th>\n",
       "      <td>994793.0</td>\n",
       "      <td>182891.0</td>\n",
       "      <td>40.668664</td>\n",
       "      <td>-73.961995</td>\n",
       "    </tr>\n",
       "    <tr>\n",
       "      <th>71</th>\n",
       "      <td>1004500.0</td>\n",
       "      <td>252913.0</td>\n",
       "      <td>40.860839</td>\n",
       "      <td>-73.926793</td>\n",
       "    </tr>\n",
       "    <tr>\n",
       "      <th>73</th>\n",
       "      <td>1010154.0</td>\n",
       "      <td>178838.0</td>\n",
       "      <td>40.657508</td>\n",
       "      <td>-73.906638</td>\n",
       "    </tr>\n",
       "    <tr>\n",
       "      <th>...</th>\n",
       "      <td>...</td>\n",
       "      <td>...</td>\n",
       "      <td>...</td>\n",
       "      <td>...</td>\n",
       "    </tr>\n",
       "    <tr>\n",
       "      <th>34852</th>\n",
       "      <td>998105.0</td>\n",
       "      <td>239674.0</td>\n",
       "      <td>40.824514</td>\n",
       "      <td>-73.949939</td>\n",
       "    </tr>\n",
       "    <tr>\n",
       "      <th>34855</th>\n",
       "      <td>999480.0</td>\n",
       "      <td>235676.0</td>\n",
       "      <td>40.813539</td>\n",
       "      <td>-73.944980</td>\n",
       "    </tr>\n",
       "    <tr>\n",
       "      <th>34856</th>\n",
       "      <td>988650.0</td>\n",
       "      <td>202743.0</td>\n",
       "      <td>40.723158</td>\n",
       "      <td>-73.984126</td>\n",
       "    </tr>\n",
       "    <tr>\n",
       "      <th>34857</th>\n",
       "      <td>982815.0</td>\n",
       "      <td>197525.0</td>\n",
       "      <td>40.708837</td>\n",
       "      <td>-74.005176</td>\n",
       "    </tr>\n",
       "    <tr>\n",
       "      <th>34858</th>\n",
       "      <td>997709.0</td>\n",
       "      <td>180293.0</td>\n",
       "      <td>40.661529</td>\n",
       "      <td>-73.951489</td>\n",
       "    </tr>\n",
       "    <tr>\n",
       "      <th>34860</th>\n",
       "      <td>998105.0</td>\n",
       "      <td>239674.0</td>\n",
       "      <td>40.824514</td>\n",
       "      <td>-73.949939</td>\n",
       "    </tr>\n",
       "    <tr>\n",
       "      <th>34861</th>\n",
       "      <td>1005780.0</td>\n",
       "      <td>241837.0</td>\n",
       "      <td>40.830436</td>\n",
       "      <td>-73.922201</td>\n",
       "    </tr>\n",
       "    <tr>\n",
       "      <th>34862</th>\n",
       "      <td>1012311.0</td>\n",
       "      <td>253724.0</td>\n",
       "      <td>40.863044</td>\n",
       "      <td>-73.898551</td>\n",
       "    </tr>\n",
       "    <tr>\n",
       "      <th>34864</th>\n",
       "      <td>987478.0</td>\n",
       "      <td>155249.0</td>\n",
       "      <td>40.592798</td>\n",
       "      <td>-73.988377</td>\n",
       "    </tr>\n",
       "    <tr>\n",
       "      <th>34865</th>\n",
       "      <td>1022651.0</td>\n",
       "      <td>238885.0</td>\n",
       "      <td>40.822276</td>\n",
       "      <td>-73.861254</td>\n",
       "    </tr>\n",
       "    <tr>\n",
       "      <th>34866</th>\n",
       "      <td>999430.0</td>\n",
       "      <td>190741.0</td>\n",
       "      <td>40.690204</td>\n",
       "      <td>-73.945262</td>\n",
       "    </tr>\n",
       "    <tr>\n",
       "      <th>34867</th>\n",
       "      <td>1020442.0</td>\n",
       "      <td>254765.0</td>\n",
       "      <td>40.865871</td>\n",
       "      <td>-73.869150</td>\n",
       "    </tr>\n",
       "    <tr>\n",
       "      <th>34869</th>\n",
       "      <td>1045610.0</td>\n",
       "      <td>225380.0</td>\n",
       "      <td>40.785079</td>\n",
       "      <td>-73.778425</td>\n",
       "    </tr>\n",
       "    <tr>\n",
       "      <th>34873</th>\n",
       "      <td>954218.0</td>\n",
       "      <td>150264.0</td>\n",
       "      <td>40.579065</td>\n",
       "      <td>-74.108113</td>\n",
       "    </tr>\n",
       "    <tr>\n",
       "      <th>34876</th>\n",
       "      <td>1008721.0</td>\n",
       "      <td>192512.0</td>\n",
       "      <td>40.695044</td>\n",
       "      <td>-73.911753</td>\n",
       "    </tr>\n",
       "    <tr>\n",
       "      <th>34877</th>\n",
       "      <td>1000785.0</td>\n",
       "      <td>155321.0</td>\n",
       "      <td>40.592981</td>\n",
       "      <td>-73.940463</td>\n",
       "    </tr>\n",
       "    <tr>\n",
       "      <th>34879</th>\n",
       "      <td>994561.0</td>\n",
       "      <td>168015.0</td>\n",
       "      <td>40.627833</td>\n",
       "      <td>-73.962854</td>\n",
       "    </tr>\n",
       "    <tr>\n",
       "      <th>34880</th>\n",
       "      <td>1000677.0</td>\n",
       "      <td>236466.0</td>\n",
       "      <td>40.815705</td>\n",
       "      <td>-73.940654</td>\n",
       "    </tr>\n",
       "    <tr>\n",
       "      <th>34881</th>\n",
       "      <td>1022508.0</td>\n",
       "      <td>259061.0</td>\n",
       "      <td>40.877654</td>\n",
       "      <td>-73.861656</td>\n",
       "    </tr>\n",
       "    <tr>\n",
       "      <th>34882</th>\n",
       "      <td>1001150.0</td>\n",
       "      <td>229507.0</td>\n",
       "      <td>40.796604</td>\n",
       "      <td>-73.938963</td>\n",
       "    </tr>\n",
       "    <tr>\n",
       "      <th>34883</th>\n",
       "      <td>1010034.0</td>\n",
       "      <td>222867.0</td>\n",
       "      <td>40.778357</td>\n",
       "      <td>-73.906902</td>\n",
       "    </tr>\n",
       "    <tr>\n",
       "      <th>34884</th>\n",
       "      <td>1022019.0</td>\n",
       "      <td>255628.0</td>\n",
       "      <td>40.868234</td>\n",
       "      <td>-73.863443</td>\n",
       "    </tr>\n",
       "    <tr>\n",
       "      <th>34885</th>\n",
       "      <td>1020441.0</td>\n",
       "      <td>254797.0</td>\n",
       "      <td>40.865959</td>\n",
       "      <td>-73.869153</td>\n",
       "    </tr>\n",
       "    <tr>\n",
       "      <th>34887</th>\n",
       "      <td>983960.0</td>\n",
       "      <td>208557.0</td>\n",
       "      <td>40.739117</td>\n",
       "      <td>-74.001046</td>\n",
       "    </tr>\n",
       "    <tr>\n",
       "      <th>34889</th>\n",
       "      <td>1004570.0</td>\n",
       "      <td>254202.0</td>\n",
       "      <td>40.864377</td>\n",
       "      <td>-73.926536</td>\n",
       "    </tr>\n",
       "    <tr>\n",
       "      <th>34890</th>\n",
       "      <td>997406.0</td>\n",
       "      <td>196471.0</td>\n",
       "      <td>40.705934</td>\n",
       "      <td>-73.952549</td>\n",
       "    </tr>\n",
       "    <tr>\n",
       "      <th>34891</th>\n",
       "      <td>996363.0</td>\n",
       "      <td>207335.0</td>\n",
       "      <td>40.735755</td>\n",
       "      <td>-73.956292</td>\n",
       "    </tr>\n",
       "    <tr>\n",
       "      <th>34892</th>\n",
       "      <td>1002495.0</td>\n",
       "      <td>188882.0</td>\n",
       "      <td>40.685095</td>\n",
       "      <td>-73.934215</td>\n",
       "    </tr>\n",
       "    <tr>\n",
       "      <th>34893</th>\n",
       "      <td>984453.0</td>\n",
       "      <td>204401.0</td>\n",
       "      <td>40.727710</td>\n",
       "      <td>-73.999268</td>\n",
       "    </tr>\n",
       "    <tr>\n",
       "      <th>34896</th>\n",
       "      <td>1004570.0</td>\n",
       "      <td>254202.0</td>\n",
       "      <td>40.864377</td>\n",
       "      <td>-73.926536</td>\n",
       "    </tr>\n",
       "  </tbody>\n",
       "</table>\n",
       "<p>10485 rows × 4 columns</p>\n",
       "</div>"
      ],
      "text/plain": [
       "       X Coordinate (State Plane)  Y Coordinate (State Plane)   Latitude  \\\n",
       "0                       1052223.0                    185368.0  40.675208   \n",
       "8                       1013623.0                    255108.0  40.866838   \n",
       "9                        998402.0                    202531.0  40.722566   \n",
       "10                       995738.0                    200662.0  40.717440   \n",
       "17                      1002780.0                    190153.0  40.688583   \n",
       "23                       995025.0                    182824.0  40.668480   \n",
       "24                      1016737.0                    213135.0  40.751623   \n",
       "28                      1003028.0                    216533.0  40.760990   \n",
       "29                      1010935.0                    215224.0  40.757376   \n",
       "30                      1001875.0                    156569.0  40.596404   \n",
       "34                      1032597.0                    216015.0  40.759456   \n",
       "37                       994156.0                    184165.0  40.672162   \n",
       "39                       984824.0                    213090.0  40.751559   \n",
       "41                      1043415.0                    197121.0  40.707531   \n",
       "44                      1004273.0                    192099.0  40.693922   \n",
       "45                      1042873.0                    189735.0  40.687261   \n",
       "46                      1006781.0                    233878.0  40.808588   \n",
       "49                      1010983.0                    174768.0  40.646334   \n",
       "50                      1042844.0                    189758.0  40.687325   \n",
       "51                       994556.0                    184471.0  40.673001   \n",
       "55                       994885.0                    183552.0  40.670478   \n",
       "57                       987616.0                    221189.0  40.773788   \n",
       "59                       993280.0                    184460.0  40.672972   \n",
       "64                      1001611.0                    241370.0  40.829163   \n",
       "67                       984765.0                    213117.0  40.751633   \n",
       "68                       984275.0                    213402.0  40.752416   \n",
       "69                       993913.0                    184267.0  40.672442   \n",
       "70                       994793.0                    182891.0  40.668664   \n",
       "71                      1004500.0                    252913.0  40.860839   \n",
       "73                      1010154.0                    178838.0  40.657508   \n",
       "...                           ...                         ...        ...   \n",
       "34852                    998105.0                    239674.0  40.824514   \n",
       "34855                    999480.0                    235676.0  40.813539   \n",
       "34856                    988650.0                    202743.0  40.723158   \n",
       "34857                    982815.0                    197525.0  40.708837   \n",
       "34858                    997709.0                    180293.0  40.661529   \n",
       "34860                    998105.0                    239674.0  40.824514   \n",
       "34861                   1005780.0                    241837.0  40.830436   \n",
       "34862                   1012311.0                    253724.0  40.863044   \n",
       "34864                    987478.0                    155249.0  40.592798   \n",
       "34865                   1022651.0                    238885.0  40.822276   \n",
       "34866                    999430.0                    190741.0  40.690204   \n",
       "34867                   1020442.0                    254765.0  40.865871   \n",
       "34869                   1045610.0                    225380.0  40.785079   \n",
       "34873                    954218.0                    150264.0  40.579065   \n",
       "34876                   1008721.0                    192512.0  40.695044   \n",
       "34877                   1000785.0                    155321.0  40.592981   \n",
       "34879                    994561.0                    168015.0  40.627833   \n",
       "34880                   1000677.0                    236466.0  40.815705   \n",
       "34881                   1022508.0                    259061.0  40.877654   \n",
       "34882                   1001150.0                    229507.0  40.796604   \n",
       "34883                   1010034.0                    222867.0  40.778357   \n",
       "34884                   1022019.0                    255628.0  40.868234   \n",
       "34885                   1020441.0                    254797.0  40.865959   \n",
       "34887                    983960.0                    208557.0  40.739117   \n",
       "34889                   1004570.0                    254202.0  40.864377   \n",
       "34890                    997406.0                    196471.0  40.705934   \n",
       "34891                    996363.0                    207335.0  40.735755   \n",
       "34892                   1002495.0                    188882.0  40.685095   \n",
       "34893                    984453.0                    204401.0  40.727710   \n",
       "34896                   1004570.0                    254202.0  40.864377   \n",
       "\n",
       "       Longitude  \n",
       "0     -73.754949  \n",
       "8     -73.893802  \n",
       "9     -73.948944  \n",
       "10    -73.958558  \n",
       "17    -73.933184  \n",
       "23    -73.961159  \n",
       "24    -73.882746  \n",
       "28    -73.932216  \n",
       "29    -73.903679  \n",
       "30    -73.936535  \n",
       "34    -73.825483  \n",
       "37    -73.964289  \n",
       "39    -73.997928  \n",
       "41    -73.786600  \n",
       "44    -73.927795  \n",
       "45    -73.788619  \n",
       "46    -73.918610  \n",
       "49    -73.903666  \n",
       "50    -73.788724  \n",
       "51    -73.962847  \n",
       "55    -73.961662  \n",
       "57    -73.987847  \n",
       "59    -73.967447  \n",
       "64    -73.937267  \n",
       "67    -73.998141  \n",
       "68    -73.999910  \n",
       "69    -73.965165  \n",
       "70    -73.961995  \n",
       "71    -73.926793  \n",
       "73    -73.906638  \n",
       "...          ...  \n",
       "34852 -73.949939  \n",
       "34855 -73.944980  \n",
       "34856 -73.984126  \n",
       "34857 -74.005176  \n",
       "34858 -73.951489  \n",
       "34860 -73.949939  \n",
       "34861 -73.922201  \n",
       "34862 -73.898551  \n",
       "34864 -73.988377  \n",
       "34865 -73.861254  \n",
       "34866 -73.945262  \n",
       "34867 -73.869150  \n",
       "34869 -73.778425  \n",
       "34873 -74.108113  \n",
       "34876 -73.911753  \n",
       "34877 -73.940463  \n",
       "34879 -73.962854  \n",
       "34880 -73.940654  \n",
       "34881 -73.861656  \n",
       "34882 -73.938963  \n",
       "34883 -73.906902  \n",
       "34884 -73.863443  \n",
       "34885 -73.869153  \n",
       "34887 -74.001046  \n",
       "34889 -73.926536  \n",
       "34890 -73.952549  \n",
       "34891 -73.956292  \n",
       "34892 -73.934215  \n",
       "34893 -73.999268  \n",
       "34896 -73.926536  \n",
       "\n",
       "[10485 rows x 4 columns]"
      ]
     },
     "execution_count": 57,
     "metadata": {},
     "output_type": "execute_result"
    }
   ],
   "source": [
    "dfNoise.drop([u'Unique Key', u'Created Date', u'Closed Date', u'Agency',\n",
    "       u'Agency Name', u'Complaint Type', u'Descriptor', u'Location Type',\n",
    "       u'Incident Zip', u'Incident Address', u'Street Name', u'Cross Street 1',\n",
    "       u'Cross Street 2', u'Intersection Street 1', u'Intersection Street 2',\n",
    "       u'Address Type', u'City', u'Landmark', u'Facility Type', u'Status',\n",
    "       u'Due Date', u'Resolution Description',\n",
    "       u'Resolution Action Updated Date', u'Community Board', u'Borough',\n",
    "       u'Park Facility Name', u'Park Borough', u'School Name',\n",
    "       u'School Number', u'School Region', u'School Code',\n",
    "       u'School Phone Number', u'School Address', u'School City',\n",
    "       u'School State', u'School Zip', u'School Not Found',\n",
    "       u'School or Citywide Complaint', u'Vehicle Type',\n",
    "       u'Taxi Company Borough', u'Taxi Pick Up Location',\n",
    "       u'Bridge Highway Name', u'Bridge Highway Direction', u'Road Ramp',\n",
    "       u'Bridge Highway Segment', u'Garage Lot Name', u'Ferry Direction',\n",
    "       u'Ferry Terminal Name',u'Location'],axis = 1)"
   ]
  },
  {
   "cell_type": "code",
   "execution_count": 58,
   "metadata": {
    "ExecuteTime": {
     "end_time": "2018-10-04T03:35:17.227329Z",
     "start_time": "2018-10-04T03:35:17.146118Z"
    },
    "run_control": {
     "frozen": false,
     "read_only": false
    }
   },
   "outputs": [
    {
     "name": "stderr",
     "output_type": "stream",
     "text": [
      "//anaconda/envs/py36/lib/python3.6/site-packages/pandas/core/frame.py:3694: SettingWithCopyWarning: \n",
      "A value is trying to be set on a copy of a slice from a DataFrame\n",
      "\n",
      "See the caveats in the documentation: http://pandas.pydata.org/pandas-docs/stable/indexing.html#indexing-view-versus-copy\n",
      "  errors=errors)\n"
     ]
    },
    {
     "data": {
      "text/html": [
       "<div>\n",
       "<style scoped>\n",
       "    .dataframe tbody tr th:only-of-type {\n",
       "        vertical-align: middle;\n",
       "    }\n",
       "\n",
       "    .dataframe tbody tr th {\n",
       "        vertical-align: top;\n",
       "    }\n",
       "\n",
       "    .dataframe thead th {\n",
       "        text-align: right;\n",
       "    }\n",
       "</style>\n",
       "<table border=\"1\" class=\"dataframe\">\n",
       "  <thead>\n",
       "    <tr style=\"text-align: right;\">\n",
       "      <th></th>\n",
       "      <th>X Coordinate (State Plane)</th>\n",
       "      <th>Y Coordinate (State Plane)</th>\n",
       "      <th>Latitude</th>\n",
       "      <th>Longitude</th>\n",
       "    </tr>\n",
       "  </thead>\n",
       "  <tbody>\n",
       "    <tr>\n",
       "      <th>0</th>\n",
       "      <td>1052223.0</td>\n",
       "      <td>185368.0</td>\n",
       "      <td>40.675208</td>\n",
       "      <td>-73.754949</td>\n",
       "    </tr>\n",
       "    <tr>\n",
       "      <th>8</th>\n",
       "      <td>1013623.0</td>\n",
       "      <td>255108.0</td>\n",
       "      <td>40.866838</td>\n",
       "      <td>-73.893802</td>\n",
       "    </tr>\n",
       "    <tr>\n",
       "      <th>9</th>\n",
       "      <td>998402.0</td>\n",
       "      <td>202531.0</td>\n",
       "      <td>40.722566</td>\n",
       "      <td>-73.948944</td>\n",
       "    </tr>\n",
       "    <tr>\n",
       "      <th>10</th>\n",
       "      <td>995738.0</td>\n",
       "      <td>200662.0</td>\n",
       "      <td>40.717440</td>\n",
       "      <td>-73.958558</td>\n",
       "    </tr>\n",
       "    <tr>\n",
       "      <th>17</th>\n",
       "      <td>1002780.0</td>\n",
       "      <td>190153.0</td>\n",
       "      <td>40.688583</td>\n",
       "      <td>-73.933184</td>\n",
       "    </tr>\n",
       "  </tbody>\n",
       "</table>\n",
       "</div>"
      ],
      "text/plain": [
       "    X Coordinate (State Plane)  Y Coordinate (State Plane)   Latitude  \\\n",
       "0                    1052223.0                    185368.0  40.675208   \n",
       "8                    1013623.0                    255108.0  40.866838   \n",
       "9                     998402.0                    202531.0  40.722566   \n",
       "10                    995738.0                    200662.0  40.717440   \n",
       "17                   1002780.0                    190153.0  40.688583   \n",
       "\n",
       "    Longitude  \n",
       "0  -73.754949  \n",
       "8  -73.893802  \n",
       "9  -73.948944  \n",
       "10 -73.958558  \n",
       "17 -73.933184  "
      ]
     },
     "execution_count": 58,
     "metadata": {},
     "output_type": "execute_result"
    }
   ],
   "source": [
    "dfNoise.drop([u'Unique Key', u'Created Date', u'Closed Date', u'Agency',\n",
    "       u'Agency Name', u'Complaint Type', u'Descriptor', u'Location Type',\n",
    "       u'Incident Zip', u'Incident Address', u'Street Name', u'Cross Street 1',\n",
    "       u'Cross Street 2', u'Intersection Street 1', u'Intersection Street 2',\n",
    "       u'Address Type', u'City', u'Landmark', u'Facility Type', u'Status',\n",
    "       u'Due Date', u'Resolution Description',\n",
    "       u'Resolution Action Updated Date', u'Community Board', u'Borough',\n",
    "       u'Park Facility Name', u'Park Borough', u'School Name',\n",
    "       u'School Number', u'School Region', u'School Code',\n",
    "       u'School Phone Number', u'School Address', u'School City',\n",
    "       u'School State', u'School Zip', u'School Not Found',\n",
    "       u'School or Citywide Complaint', u'Vehicle Type',\n",
    "       u'Taxi Company Borough', u'Taxi Pick Up Location',\n",
    "       u'Bridge Highway Name', u'Bridge Highway Direction', u'Road Ramp',\n",
    "       u'Bridge Highway Segment', u'Garage Lot Name', u'Ferry Direction',\n",
    "       u'Ferry Terminal Name',u'Location'], axis = 1, inplace=True)\n",
    "dfNoise.head()"
   ]
  },
  {
   "cell_type": "markdown",
   "metadata": {
    "ExecuteTime": {
     "end_time": "2018-10-04T10:59:00.337539Z",
     "start_time": "2018-10-04T10:59:00.332275Z"
    }
   },
   "source": [
    "## plotting"
   ]
  },
  {
   "cell_type": "code",
   "execution_count": 74,
   "metadata": {
    "ExecuteTime": {
     "end_time": "2018-10-04T03:38:39.727635Z",
     "start_time": "2018-10-04T03:38:39.311388Z"
    },
    "run_control": {
     "frozen": false,
     "read_only": false
    }
   },
   "outputs": [
    {
     "data": {
      "text/plain": [
       "Text(0.5,1,'Noise complaints')"
      ]
     },
     "execution_count": 74,
     "metadata": {},
     "output_type": "execute_result"
    },
    {
     "data": {
      "image/png": "[encoded data removed]",
      "text/plain": [
       "<Figure size 432x288 with 1 Axes>"
      ]
     },
     "metadata": {},
     "output_type": "display_data"
    }
   ],
   "source": [
    "ax = dfNoise.plot.scatter(x='X Coordinate (State Plane)', y='Y Coordinate (State Plane)', alpha=0.2)\n",
    "ax.set_title(\"Noise complaints\")"
   ]
  },
  {
   "cell_type": "markdown",
   "metadata": {
    "run_control": {
     "frozen": false,
     "read_only": false
    }
   },
   "source": [
    "### Figure 1: \n",
    "origin of all 311 complaints mapped in State Plane coordinates (feet)"
   ]
  },
  {
   "cell_type": "code",
   "execution_count": 75,
   "metadata": {
    "ExecuteTime": {
     "end_time": "2018-10-04T03:38:42.910397Z",
     "start_time": "2018-10-04T03:38:42.098374Z"
    },
    "run_control": {
     "frozen": false,
     "read_only": false
    }
   },
   "outputs": [
    {
     "data": {
      "text/plain": [
       "Text(0.5,1,'All complaints')"
      ]
     },
     "execution_count": 75,
     "metadata": {},
     "output_type": "execute_result"
    },
    {
     "data": {
      "image/png": "[encoded data removed]",
      "text/plain": [
       "<Figure size 432x288 with 1 Axes>"
      ]
     },
     "metadata": {},
     "output_type": "display_data"
    }
   ],
   "source": [
    "ax = df1.plot(x='Longitude', y='Latitude', kind=\"scatter\",alpha=0.2)\n",
    "ax.set_title(\"All complaints\")"
   ]
  },
  {
   "cell_type": "markdown",
   "metadata": {
    "run_control": {
     "frozen": false,
     "read_only": false
    }
   },
   "source": [
    "### Figure 2: \n",
    "origin of all 311 complaints mapped in Geographical Coordinates (Long and Lat)"
   ]
  },
  {
   "cell_type": "code",
   "execution_count": 76,
   "metadata": {
    "ExecuteTime": {
     "end_time": "2018-10-04T03:38:45.541809Z",
     "start_time": "2018-10-04T03:38:44.478503Z"
    },
    "run_control": {
     "frozen": false,
     "read_only": false
    }
   },
   "outputs": [
    {
     "data": {
      "text/plain": [
       "Text(0.5,1,'Noise complaints')"
      ]
     },
     "execution_count": 76,
     "metadata": {},
     "output_type": "execute_result"
    },
    {
     "data": {
      "image/png": "[encoded data removed]",
      "text/plain": [
       "<Figure size 432x288 with 1 Axes>"
      ]
     },
     "metadata": {},
     "output_type": "display_data"
    }
   ],
   "source": [
    "ax = df1.plot(x='Longitude', y='Latitude', kind=\"scatter\", alpha=0.2, color=\"Indianred\")\n",
    "ax.set_title(\"All complaints\")\n",
    "\n",
    "dfNoise.plot(x='Longitude', y='Latitude', alpha=0.1, kind=\"scatter\", ax=ax, color=\"SteelBlue\")\n",
    "ax.set_title(\"Noise complaints\")"
   ]
  },
  {
   "cell_type": "markdown",
   "metadata": {
    "run_control": {
     "frozen": false,
     "read_only": false
    }
   },
   "source": [
    "### Figure 3: \n",
    "origin of all 311 complaints related to noise (blue) overplotted all complains (red)"
   ]
  },
  {
   "cell_type": "code",
   "execution_count": 68,
   "metadata": {
    "ExecuteTime": {
     "end_time": "2018-10-04T03:37:22.560808Z",
     "start_time": "2018-10-04T03:37:22.556505Z"
    },
    "run_control": {
     "frozen": false,
     "read_only": false
    }
   },
   "outputs": [],
   "source": [
    "# add a dataframe"
   ]
  },
  {
   "cell_type": "code",
   "execution_count": 69,
   "metadata": {
    "ExecuteTime": {
     "end_time": "2018-10-04T03:37:24.248291Z",
     "start_time": "2018-10-04T03:37:23.515292Z"
    },
    "run_control": {
     "frozen": false,
     "read_only": false
    }
   },
   "outputs": [
    {
     "data": {
      "text/plain": [
       "Index(['OBJECTID', 'Identifier', 'Occurrence Date', 'Day of Week',\n",
       "       'Occurrence Month', 'Occurrence Day', 'Occurrence Year',\n",
       "       'Occurrence Hour', 'CompStat Month', 'CompStat Day', 'CompStat Year',\n",
       "       'Offense', 'Offense Classification', 'Sector', 'Precinct', 'Borough',\n",
       "       'Jurisdiction', 'XCoordinate', 'YCoordinate', 'Location 1'],\n",
       "      dtype='object')"
      ]
     },
     "execution_count": 69,
     "metadata": {},
     "output_type": "execute_result"
    }
   ],
   "source": [
    "dfCrime = pd.read_csv(PUIdata + \"/NYPD_7_Major_Felony_Incidents.csv\")\n",
    "dfCrime.columns"
   ]
  },
  {
   "cell_type": "code",
   "execution_count": 70,
   "metadata": {
    "ExecuteTime": {
     "end_time": "2018-10-04T03:37:25.047655Z",
     "start_time": "2018-10-04T03:37:25.033381Z"
    },
    "run_control": {
     "frozen": false,
     "read_only": false
    }
   },
   "outputs": [
    {
     "data": {
      "text/plain": [
       "'(40.6029515910001, -73.749976261)'"
      ]
     },
     "execution_count": 70,
     "metadata": {},
     "output_type": "execute_result"
    }
   ],
   "source": [
    "dfCrime['Location 1'][0]"
   ]
  },
  {
   "cell_type": "code",
   "execution_count": 71,
   "metadata": {
    "ExecuteTime": {
     "end_time": "2018-10-04T03:37:27.157498Z",
     "start_time": "2018-10-04T03:37:26.772104Z"
    },
    "run_control": {
     "frozen": false,
     "read_only": false
    }
   },
   "outputs": [],
   "source": [
    "dfCrime['Longitude'] = dfCrime['Location 1'].map(lambda x: float(x.replace('(','').replace(')','').split(',')[1]))\n",
    "dfCrime['Latitude'] = dfCrime['Location 1'].map(lambda x: float(x.replace('(','').replace(')','').split(',')[0]))\n",
    "dfCrime = dfCrime[:1000]"
   ]
  },
  {
   "cell_type": "code",
   "execution_count": 72,
   "metadata": {
    "ExecuteTime": {
     "end_time": "2018-10-04T03:37:28.985232Z",
     "start_time": "2018-10-04T03:37:27.904803Z"
    },
    "run_control": {
     "frozen": false,
     "read_only": false
    }
   },
   "outputs": [
    {
     "data": {
      "text/plain": [
       "Text(0.5,1,'Noise complaints and Crime')"
      ]
     },
     "execution_count": 72,
     "metadata": {},
     "output_type": "execute_result"
    },
    {
     "data": {
      "image/png": "[encoded data removed]",
      "text/plain": [
       "<Figure size 432x288 with 1 Axes>"
      ]
     },
     "metadata": {},
     "output_type": "display_data"
    }
   ],
   "source": [
    "ax = df1.plot(x='Longitude', y='Latitude', kind=\"scatter\", alpha=0.2, color=\"Indianred\")\n",
    "ax.set_title(\"All complaints\")\n",
    "\n",
    "dfNoise.plot(x='Longitude', y='Latitude', alpha=0.1, kind=\"scatter\", ax=ax, color=\"SteelBlue\")\n",
    "\n",
    "\n",
    "dfCrime.plot(x='Longitude', y='Latitude', alpha=0.1, kind=\"scatter\", ax=ax, color=\"Yellow\")\n",
    "ax.set_title(\"Noise complaints and Crime\")"
   ]
  },
  {
   "cell_type": "markdown",
   "metadata": {
    "collapsed": true,
    "run_control": {
     "frozen": false,
     "read_only": false
    }
   },
   "source": [
    "### Figure 4: \n",
    "origin of all 311 complaints related to noise (blue) overplotted all complains (red), \n",
    "and Crime statistics for all 7 major fellonies (yellow) (all for a short time spam of a few weeks in the recent past)"
   ]
  },
  {
   "cell_type": "code",
   "execution_count": null,
   "metadata": {
    "collapsed": true,
    "run_control": {
     "frozen": false,
     "read_only": false
    }
   },
   "outputs": [],
   "source": []
  }
 ],
 "metadata": {
  "kernelspec": {
   "display_name": "Python 3",
   "language": "python",
   "name": "python3"
  },
  "language_info": {
   "codemirror_mode": {
    "name": "ipython",
    "version": 3
   },
   "file_extension": ".py",
   "mimetype": "text/x-python",
   "name": "python",
   "nbconvert_exporter": "python",
   "pygments_lexer": "ipython3",
   "version": "3.6.5"
  },
  "toc": {
   "colors": {
    "hover_highlight": "#DAA520",
    "running_highlight": "#FF0000",
    "selected_highlight": "#FFD700"
   },
   "moveMenuLeft": true,
   "nav_menu": {
    "height": "289px",
    "width": "252px"
   },
   "navigate_menu": true,
   "number_sections": true,
   "sideBar": true,
   "threshold": 4,
   "toc_cell": true,
   "toc_section_display": "block",
   "toc_window_display": true
  }
 },
 "nbformat": 4,
 "nbformat_minor": 1
}
