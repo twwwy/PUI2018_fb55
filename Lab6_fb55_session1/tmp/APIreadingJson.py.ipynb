{
 "cells": [
  {
   "cell_type": "code",
   "execution_count": 37,
   "metadata": {
    "collapsed": false
   },
   "outputs": [
    {
     "name": "stdout",
     "output_type": "stream",
     "text": [
      "Populating the interactive namespace from numpy and matplotlib\n",
      "http://api.openweathermap.org/data/2.5/forecast?q=NewYork&mode=Json&units=metric&cnt=7&APPID=3b88ff8525c54b98e391c45ba71ecefb\n"
     ]
    }
   ],
   "source": [
    "import pylab as pl\n",
    "import os\n",
    "import json\n",
    "try:\n",
    "    import urllib2 as urllib\n",
    "except ImportError:\n",
    "    import urllib.request as urllib\n",
    "\n",
    "%pylab inline\n",
    "pl.rc('font', size=15)\n",
    "\n",
    "#url = \"http://api.openweathermap.org/data/2.5/weather?q=NewYork&mode=Json&units=metric&&cnt=7&APPID=3b88ff8525c54b98e391c45ba71ecefb\"\n",
    "url = \"http://api.openweathermap.org/data/2.5/forecast?q=\" + \\\n",
    "    \"NewYork&mode=Json&units=metric&cnt=7&APPID=\" + os.getenv(\"OPENWEATHKEY\") \n",
    "print (url)\n",
    "response = urllib.urlopen(url)\n",
    "data = response.read().decode(\"utf-8\")\n",
    "data = json.loads(data)"
   ]
  },
  {
   "cell_type": "code",
   "execution_count": 29,
   "metadata": {
    "collapsed": false
   },
   "outputs": [
    {
     "data": {
      "text/plain": [
       "dict"
      ]
     },
     "execution_count": 29,
     "metadata": {},
     "output_type": "execute_result"
    }
   ],
   "source": [
    "(type(data))"
   ]
  },
  {
   "cell_type": "code",
   "execution_count": 30,
   "metadata": {
    "collapsed": false
   },
   "outputs": [
    {
     "data": {
      "text/plain": [
       "[u'city', u'message', u'list', u'cod', u'cnt']"
      ]
     },
     "execution_count": 30,
     "metadata": {},
     "output_type": "execute_result"
    }
   ],
   "source": [
    "data.keys()"
   ]
  },
  {
   "cell_type": "code",
   "execution_count": 31,
   "metadata": {
    "collapsed": false
   },
   "outputs": [
    {
     "data": {
      "text/plain": [
       "{u'coord': {u'lat': 40.7143, u'lon': -74.006},\n",
       " u'country': u'US',\n",
       " u'id': 5128581,\n",
       " u'name': u'New York'}"
      ]
     },
     "execution_count": 31,
     "metadata": {},
     "output_type": "execute_result"
    }
   ],
   "source": [
    "data['city']"
   ]
  },
  {
   "cell_type": "code",
   "execution_count": 32,
   "metadata": {
    "collapsed": false
   },
   "outputs": [
    {
     "data": {
      "text/plain": [
       "[{u'clouds': {u'all': 80},\n",
       "  u'dt': 1505995200,\n",
       "  u'dt_txt': u'2017-09-21 12:00:00',\n",
       "  u'main': {u'grnd_level': 1026.07,\n",
       "   u'humidity': 75,\n",
       "   u'pressure': 1026.07,\n",
       "   u'sea_level': 1029.33,\n",
       "   u'temp': 22.01,\n",
       "   u'temp_kf': -0.24,\n",
       "   u'temp_max': 22.24,\n",
       "   u'temp_min': 22.01},\n",
       "  u'sys': {u'pod': u'd'},\n",
       "  u'weather': [{u'description': u'broken clouds',\n",
       "    u'icon': u'04d',\n",
       "    u'id': 803,\n",
       "    u'main': u'Clouds'}],\n",
       "  u'wind': {u'deg': 8.00366, u'speed': 3.51}},\n",
       " {u'clouds': {u'all': 92},\n",
       "  u'dt': 1506006000,\n",
       "  u'dt_txt': u'2017-09-21 15:00:00',\n",
       "  u'main': {u'grnd_level': 1026.97,\n",
       "   u'humidity': 71,\n",
       "   u'pressure': 1026.97,\n",
       "   u'sea_level': 1030.27,\n",
       "   u'temp': 23.15,\n",
       "   u'temp_kf': -0.18,\n",
       "   u'temp_max': 23.33,\n",
       "   u'temp_min': 23.15},\n",
       "  u'sys': {u'pod': u'd'},\n",
       "  u'weather': [{u'description': u'overcast clouds',\n",
       "    u'icon': u'04d',\n",
       "    u'id': 804,\n",
       "    u'main': u'Clouds'}],\n",
       "  u'wind': {u'deg': 11.0112, u'speed': 3.72}},\n",
       " {u'clouds': {u'all': 92},\n",
       "  u'dt': 1506016800,\n",
       "  u'dt_txt': u'2017-09-21 18:00:00',\n",
       "  u'main': {u'grnd_level': 1026.35,\n",
       "   u'humidity': 69,\n",
       "   u'pressure': 1026.35,\n",
       "   u'sea_level': 1029.66,\n",
       "   u'temp': 23.9,\n",
       "   u'temp_kf': -0.12,\n",
       "   u'temp_max': 24.02,\n",
       "   u'temp_min': 23.9},\n",
       "  u'sys': {u'pod': u'd'},\n",
       "  u'weather': [{u'description': u'overcast clouds',\n",
       "    u'icon': u'04d',\n",
       "    u'id': 804,\n",
       "    u'main': u'Clouds'}],\n",
       "  u'wind': {u'deg': 355.503, u'speed': 3.06}},\n",
       " {u'clouds': {u'all': 92},\n",
       "  u'dt': 1506027600,\n",
       "  u'dt_txt': u'2017-09-21 21:00:00',\n",
       "  u'main': {u'grnd_level': 1025.68,\n",
       "   u'humidity': 67,\n",
       "   u'pressure': 1025.68,\n",
       "   u'sea_level': 1029.02,\n",
       "   u'temp': 24.27,\n",
       "   u'temp_kf': -0.06,\n",
       "   u'temp_max': 24.33,\n",
       "   u'temp_min': 24.27},\n",
       "  u'sys': {u'pod': u'd'},\n",
       "  u'weather': [{u'description': u'overcast clouds',\n",
       "    u'icon': u'04d',\n",
       "    u'id': 804,\n",
       "    u'main': u'Clouds'}],\n",
       "  u'wind': {u'deg': 347.502, u'speed': 2.97}},\n",
       " {u'clouds': {u'all': 88},\n",
       "  u'dt': 1506038400,\n",
       "  u'dt_txt': u'2017-09-22 00:00:00',\n",
       "  u'main': {u'grnd_level': 1026.11,\n",
       "   u'humidity': 69,\n",
       "   u'pressure': 1026.11,\n",
       "   u'sea_level': 1029.43,\n",
       "   u'temp': 23.05,\n",
       "   u'temp_kf': 0,\n",
       "   u'temp_max': 23.05,\n",
       "   u'temp_min': 23.05},\n",
       "  u'sys': {u'pod': u'n'},\n",
       "  u'weather': [{u'description': u'overcast clouds',\n",
       "    u'icon': u'04n',\n",
       "    u'id': 804,\n",
       "    u'main': u'Clouds'}],\n",
       "  u'wind': {u'deg': 356.001, u'speed': 2.86}},\n",
       " {u'clouds': {u'all': 56},\n",
       "  u'dt': 1506049200,\n",
       "  u'dt_txt': u'2017-09-22 03:00:00',\n",
       "  u'main': {u'grnd_level': 1026.44,\n",
       "   u'humidity': 74,\n",
       "   u'pressure': 1026.44,\n",
       "   u'sea_level': 1029.76,\n",
       "   u'temp': 21.56,\n",
       "   u'temp_kf': 0,\n",
       "   u'temp_max': 21.56,\n",
       "   u'temp_min': 21.56},\n",
       "  u'sys': {u'pod': u'n'},\n",
       "  u'weather': [{u'description': u'broken clouds',\n",
       "    u'icon': u'04n',\n",
       "    u'id': 803,\n",
       "    u'main': u'Clouds'}],\n",
       "  u'wind': {u'deg': 14.5007, u'speed': 2.68}},\n",
       " {u'clouds': {u'all': 80},\n",
       "  u'dt': 1506060000,\n",
       "  u'dt_txt': u'2017-09-22 06:00:00',\n",
       "  u'main': {u'grnd_level': 1026.59,\n",
       "   u'humidity': 72,\n",
       "   u'pressure': 1026.59,\n",
       "   u'sea_level': 1029.89,\n",
       "   u'temp': 20.43,\n",
       "   u'temp_kf': 0,\n",
       "   u'temp_max': 20.43,\n",
       "   u'temp_min': 20.43},\n",
       "  u'sys': {u'pod': u'n'},\n",
       "  u'weather': [{u'description': u'broken clouds',\n",
       "    u'icon': u'04n',\n",
       "    u'id': 803,\n",
       "    u'main': u'Clouds'}],\n",
       "  u'wind': {u'deg': 15.0021, u'speed': 3.32}}]"
      ]
     },
     "execution_count": 32,
     "metadata": {},
     "output_type": "execute_result"
    }
   ],
   "source": [
    "data['list']"
   ]
  },
  {
   "cell_type": "code",
   "execution_count": 33,
   "metadata": {
    "collapsed": false
   },
   "outputs": [
    {
     "data": {
      "text/plain": [
       "{u'clouds': {u'all': 80},\n",
       " u'dt': 1505995200,\n",
       " u'dt_txt': u'2017-09-21 12:00:00',\n",
       " u'main': {u'grnd_level': 1026.07,\n",
       "  u'humidity': 75,\n",
       "  u'pressure': 1026.07,\n",
       "  u'sea_level': 1029.33,\n",
       "  u'temp': 22.01,\n",
       "  u'temp_kf': -0.24,\n",
       "  u'temp_max': 22.24,\n",
       "  u'temp_min': 22.01},\n",
       " u'sys': {u'pod': u'd'},\n",
       " u'weather': [{u'description': u'broken clouds',\n",
       "   u'icon': u'04d',\n",
       "   u'id': 803,\n",
       "   u'main': u'Clouds'}],\n",
       " u'wind': {u'deg': 8.00366, u'speed': 3.51}}"
      ]
     },
     "execution_count": 33,
     "metadata": {},
     "output_type": "execute_result"
    }
   ],
   "source": [
    "data['list'][0]"
   ]
  },
  {
   "cell_type": "code",
   "execution_count": 34,
   "metadata": {
    "collapsed": false
   },
   "outputs": [
    {
     "data": {
      "text/plain": [
       "1505995200"
      ]
     },
     "execution_count": 34,
     "metadata": {},
     "output_type": "execute_result"
    }
   ],
   "source": [
    "data['list'][0]['dt']"
   ]
  },
  {
   "cell_type": "code",
   "execution_count": 35,
   "metadata": {
    "collapsed": false
   },
   "outputs": [
    {
     "data": {
      "text/plain": [
       "22.01"
      ]
     },
     "execution_count": 35,
     "metadata": {},
     "output_type": "execute_result"
    }
   ],
   "source": [
    "data['list'][0]['main']['temp']"
   ]
  },
  {
   "cell_type": "code",
   "execution_count": 38,
   "metadata": {
    "collapsed": false
   },
   "outputs": [
    {
     "name": "stdout",
     "output_type": "stream",
     "text": [
      "(1505995200, 22.01)\n",
      "(1506006000, 23.15)\n",
      "(1506016800, 23.9)\n",
      "(1506027600, 24.27)\n",
      "(1506038400, 23.05)\n",
      "(1506049200, 21.56)\n",
      "(1506060000, 20.43)\n"
     ]
    },
    {
     "data": {
      "image/png": "[encoded data removed]",
      "text/plain": [
       "<matplotlib.figure.Figure at 0x10e5a4950>"
      ]
     },
     "metadata": {},
     "output_type": "display_data"
    }
   ],
   "source": [
    "f = pl.figure()\n",
    "for it in data['list']:\n",
    "    print (it['dt'], it['main']['temp'])\n",
    "    for k in it['main']:\n",
    "        if k.startswith('temp') and not 'kf' in k: \n",
    "            pl.plot(it['dt'], it['main'][k], 'ko')\n",
    "pl.xlabel(\"date\")\n",
    "pl.ylabel(\"temperature\")\n",
    "pl.title(\"NYC temperature 5-days\");"
   ]
  },
  {
   "cell_type": "code",
   "execution_count": null,
   "metadata": {
    "collapsed": true
   },
   "outputs": [],
   "source": [
    "f = pl.figure()\n",
    "for it in data['list']:\n",
    "    print (it['dt'], it['main']['temp'])\n",
    "    for k in it['main']:\n",
    "        if k.startswith('temp') and not 'kf' in k: \n",
    "            pl.plot(it['dt'], it['main'][k], 'ko')\n",
    "pl.xlabel(\"date\")\n",
    "pl.ylabel(\"temperature\")\n",
    "pl.title(\"NYC temperature 5-days\");"
   ]
  },
  {
   "cell_type": "code",
   "execution_count": null,
   "metadata": {
    "collapsed": true
   },
   "outputs": [],
   "source": []
  }
 ],
 "metadata": {
  "anaconda-cloud": {},
  "kernelspec": {
   "display_name": "Python [conda root]",
   "language": "python",
   "name": "conda-root-py"
  },
  "language_info": {
   "codemirror_mode": {
    "name": "ipython",
    "version": 2
   },
   "file_extension": ".py",
   "mimetype": "text/x-python",
   "name": "python",
   "nbconvert_exporter": "python",
   "pygments_lexer": "ipython2",
   "version": "2.7.3"
  }
 },
 "nbformat": 4,
 "nbformat_minor": 0
}
