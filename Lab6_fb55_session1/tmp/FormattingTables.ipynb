{
 "cells": [
  {
   "cell_type": "code",
   "execution_count": 2,
   "metadata": {
    "collapsed": false
   },
   "outputs": [
    {
     "name": "stdout",
     "output_type": "stream",
     "text": [
      "/Users/fbianco/science/Dropbox/UI/PUIdata\n"
     ]
    }
   ],
   "source": [
    "from __future__ import division, print_function\n",
    "__author__ = 'fbb CUSP 2016'\n",
    "import os\n",
    "import numpy as np\n",
    "from numpy.random import randn\n",
    "import pylab as pl\n",
    "\n",
    "from pandas import Series, DataFrame\n",
    "import pandas\n",
    "import pandas as pd\n",
    "\n",
    "PUIdata = os.getenv(\"PUIDATA\")\n",
    "print (PUIdata)"
   ]
  },
  {
   "cell_type": "markdown",
   "metadata": {
    "collapsed": false
   },
   "source": [
    "Notebook that parces and formatts Table 6.1 of D. Lane's Introduction to Statistics\n",
    "using Pandas functionalities\n",
    "\n",
    "Refer to https://github.com/fedhere/UInotebooks/blob/master/dataWrangling/PandasDataWrangling-Chap7.ipynb\n",
    "and Python for Data Analysis Chaoter 7\n",
    "for more pandas data munging functions and methods!\n"
   ]
  },
  {
   "cell_type": "code",
   "execution_count": 84,
   "metadata": {
    "collapsed": false
   },
   "outputs": [
    {
     "name": "stdout",
     "output_type": "stream",
     "text": [
      "Populating the interactive namespace from numpy and matplotlib\n"
     ]
    }
   ],
   "source": [
    "# setting up some preferences\n",
    "%pylab inline\n",
    "\n",
    "np.set_printoptions(precision=4, threshold=500)\n",
    "np.random.seed(123321)\n",
    "pl.rc('figure', figsize=(10, 6))\n",
    "pl.rc('font', size=15)\n",
    "pd.options.display.max_rows = 100"
   ]
  },
  {
   "cell_type": "code",
   "execution_count": 11,
   "metadata": {
    "collapsed": false
   },
   "outputs": [],
   "source": [
    "# use the environmental variable PUIDATA to access data \n",
    "# stored in your own PUIDATA directory\n",
    "PUIdata = os.getenv('PUIDATA')\n",
    "\n",
    "urlpath = \"https://serv.cusp.nyu.edu/~fbianco/PUI2017/data/\"\n",
    "os.system(\"wget \" + urlpath + \"IntrotoStats_Table6_1.csv\")\n",
    "os.system(\"mv IntrotoStats_Table6_1.csv \" + PUIdata);"
   ]
  },
  {
   "cell_type": "code",
   "execution_count": 60,
   "metadata": {
    "collapsed": false
   },
   "outputs": [
    {
     "data": {
      "text/html": [
       "<div style=\"max-height:1000px;max-width:1500px;overflow:auto;\">\n",
       "<table border=\"1\" class=\"dataframe\">\n",
       "  <thead>\n",
       "    <tr style=\"text-align: right;\">\n",
       "      <th></th>\n",
       "      <th>#Students Name</th>\n",
       "      <th>Hair Color</th>\n",
       "      <th>Gender</th>\n",
       "      <th>Major</th>\n",
       "      <th>Height</th>\n",
       "      <th>Computer Experience</th>\n",
       "    </tr>\n",
       "  </thead>\n",
       "  <tbody>\n",
       "    <tr>\n",
       "      <th>0</th>\n",
       "      <td>Norma</td>\n",
       "      <td>Brown</td>\n",
       "      <td>Female</td>\n",
       "      <td>Psychology</td>\n",
       "      <td>5'4\"</td>\n",
       "      <td>Lots</td>\n",
       "    </tr>\n",
       "    <tr>\n",
       "      <th>1</th>\n",
       "      <td>Amber</td>\n",
       "      <td>Blonde</td>\n",
       "      <td>Female</td>\n",
       "      <td>Social Science</td>\n",
       "      <td>5'7\"</td>\n",
       "      <td>Very Little</td>\n",
       "    </tr>\n",
       "    <tr>\n",
       "      <th>2</th>\n",
       "      <td>Paul</td>\n",
       "      <td>Blonde</td>\n",
       "      <td>Male</td>\n",
       "      <td>History</td>\n",
       "      <td>6'1\"</td>\n",
       "      <td>Moderate</td>\n",
       "    </tr>\n",
       "    <tr>\n",
       "      <th>3</th>\n",
       "      <td>Christopher</td>\n",
       "      <td>Black</td>\n",
       "      <td>Male</td>\n",
       "      <td>Biology</td>\n",
       "      <td>5'10\"</td>\n",
       "      <td>Lots</td>\n",
       "    </tr>\n",
       "    <tr>\n",
       "      <th>4</th>\n",
       "      <td>Sonya</td>\n",
       "      <td>Brown</td>\n",
       "      <td>Female</td>\n",
       "      <td>Psychology</td>\n",
       "      <td>5'4\"</td>\n",
       "      <td>Little</td>\n",
       "    </tr>\n",
       "  </tbody>\n",
       "</table>\n",
       "</div>"
      ],
      "text/plain": [
       "  #Students Name Hair Color  Gender           Major Height Computer Experience\n",
       "0          Norma      Brown  Female      Psychology   5'4\"                Lots\n",
       "1          Amber     Blonde  Female  Social Science   5'7\"         Very Little\n",
       "2           Paul     Blonde    Male         History   6'1\"            Moderate\n",
       "3    Christopher      Black    Male         Biology  5'10\"                Lots\n",
       "4          Sonya      Brown  Female      Psychology   5'4\"              Little"
      ]
     },
     "execution_count": 60,
     "metadata": {},
     "output_type": "execute_result"
    }
   ],
   "source": [
    "df_student = pd.read_csv(PUIdata + \"/IntrotoStats_Table6_1.csv\")\n",
    "df_student"
   ]
  },
  {
   "cell_type": "code",
   "execution_count": 61,
   "metadata": {
    "collapsed": true
   },
   "outputs": [],
   "source": [
    "# replacing entries with numbers (encoding categorical variables as numerical)\n",
    "# this can be done trivially with replace one value by one"
   ]
  },
  {
   "cell_type": "code",
   "execution_count": 62,
   "metadata": {
    "collapsed": true
   },
   "outputs": [],
   "source": [
    "df_student.Gender = df_student.Gender.replace('Female', 0)"
   ]
  },
  {
   "cell_type": "code",
   "execution_count": 63,
   "metadata": {
    "collapsed": false
   },
   "outputs": [],
   "source": [
    "df_student.Gender = df_student.Gender.replace('Male', 1)"
   ]
  },
  {
   "cell_type": "code",
   "execution_count": 64,
   "metadata": {
    "collapsed": false
   },
   "outputs": [
    {
     "data": {
      "text/html": [
       "<div style=\"max-height:1000px;max-width:1500px;overflow:auto;\">\n",
       "<table border=\"1\" class=\"dataframe\">\n",
       "  <thead>\n",
       "    <tr style=\"text-align: right;\">\n",
       "      <th></th>\n",
       "      <th>#Students Name</th>\n",
       "      <th>Hair Color</th>\n",
       "      <th>Gender</th>\n",
       "      <th>Major</th>\n",
       "      <th>Height</th>\n",
       "      <th>Computer Experience</th>\n",
       "    </tr>\n",
       "  </thead>\n",
       "  <tbody>\n",
       "    <tr>\n",
       "      <th>0</th>\n",
       "      <td>Norma</td>\n",
       "      <td>Brown</td>\n",
       "      <td>0</td>\n",
       "      <td>Psychology</td>\n",
       "      <td>5'4\"</td>\n",
       "      <td>Lots</td>\n",
       "    </tr>\n",
       "    <tr>\n",
       "      <th>1</th>\n",
       "      <td>Amber</td>\n",
       "      <td>Blonde</td>\n",
       "      <td>0</td>\n",
       "      <td>Social Science</td>\n",
       "      <td>5'7\"</td>\n",
       "      <td>Very Little</td>\n",
       "    </tr>\n",
       "    <tr>\n",
       "      <th>2</th>\n",
       "      <td>Paul</td>\n",
       "      <td>Blonde</td>\n",
       "      <td>1</td>\n",
       "      <td>History</td>\n",
       "      <td>6'1\"</td>\n",
       "      <td>Moderate</td>\n",
       "    </tr>\n",
       "    <tr>\n",
       "      <th>3</th>\n",
       "      <td>Christopher</td>\n",
       "      <td>Black</td>\n",
       "      <td>1</td>\n",
       "      <td>Biology</td>\n",
       "      <td>5'10\"</td>\n",
       "      <td>Lots</td>\n",
       "    </tr>\n",
       "    <tr>\n",
       "      <th>4</th>\n",
       "      <td>Sonya</td>\n",
       "      <td>Brown</td>\n",
       "      <td>0</td>\n",
       "      <td>Psychology</td>\n",
       "      <td>5'4\"</td>\n",
       "      <td>Little</td>\n",
       "    </tr>\n",
       "  </tbody>\n",
       "</table>\n",
       "</div>"
      ],
      "text/plain": [
       "  #Students Name Hair Color  Gender           Major Height Computer Experience\n",
       "0          Norma      Brown       0      Psychology   5'4\"                Lots\n",
       "1          Amber     Blonde       0  Social Science   5'7\"         Very Little\n",
       "2           Paul     Blonde       1         History   6'1\"            Moderate\n",
       "3    Christopher      Black       1         Biology  5'10\"                Lots\n",
       "4          Sonya      Brown       0      Psychology   5'4\"              Little"
      ]
     },
     "execution_count": 64,
     "metadata": {},
     "output_type": "execute_result"
    }
   ],
   "source": [
    "df_student"
   ]
  },
  {
   "cell_type": "code",
   "execution_count": 65,
   "metadata": {
    "collapsed": true
   },
   "outputs": [],
   "source": [
    "#creating a dictionary with the encoded values for the \"Computer Experience\" key\n",
    "experience_to_number = {\n",
    "    'None' : 0,\n",
    "    'Very Little' : 1,\n",
    "    'Little' : 2,\n",
    "    'Moderate' : 3,    \n",
    "    'Good' : 4,\n",
    "    'Lots' : 5\n",
    "}"
   ]
  },
  {
   "cell_type": "code",
   "execution_count": 66,
   "metadata": {
    "collapsed": false
   },
   "outputs": [],
   "source": [
    "# replacing Computer Experience string with a numerical with map and a dictionary\n",
    "# placing the new values in a new variable (new column)\n",
    "df_student['Experience'] = \\\n",
    "    df_student['Computer Experience'].map(experience_to_number)  "
   ]
  },
  {
   "cell_type": "code",
   "execution_count": 67,
   "metadata": {
    "collapsed": false
   },
   "outputs": [
    {
     "data": {
      "text/html": [
       "<div style=\"max-height:1000px;max-width:1500px;overflow:auto;\">\n",
       "<table border=\"1\" class=\"dataframe\">\n",
       "  <thead>\n",
       "    <tr style=\"text-align: right;\">\n",
       "      <th></th>\n",
       "      <th>#Students Name</th>\n",
       "      <th>Hair Color</th>\n",
       "      <th>Gender</th>\n",
       "      <th>Major</th>\n",
       "      <th>Height</th>\n",
       "      <th>Computer Experience</th>\n",
       "      <th>Experience</th>\n",
       "    </tr>\n",
       "  </thead>\n",
       "  <tbody>\n",
       "    <tr>\n",
       "      <th>0</th>\n",
       "      <td>Norma</td>\n",
       "      <td>Brown</td>\n",
       "      <td>0</td>\n",
       "      <td>Psychology</td>\n",
       "      <td>5'4\"</td>\n",
       "      <td>Lots</td>\n",
       "      <td>5</td>\n",
       "    </tr>\n",
       "    <tr>\n",
       "      <th>1</th>\n",
       "      <td>Amber</td>\n",
       "      <td>Blonde</td>\n",
       "      <td>0</td>\n",
       "      <td>Social Science</td>\n",
       "      <td>5'7\"</td>\n",
       "      <td>Very Little</td>\n",
       "      <td>1</td>\n",
       "    </tr>\n",
       "    <tr>\n",
       "      <th>2</th>\n",
       "      <td>Paul</td>\n",
       "      <td>Blonde</td>\n",
       "      <td>1</td>\n",
       "      <td>History</td>\n",
       "      <td>6'1\"</td>\n",
       "      <td>Moderate</td>\n",
       "      <td>3</td>\n",
       "    </tr>\n",
       "    <tr>\n",
       "      <th>3</th>\n",
       "      <td>Christopher</td>\n",
       "      <td>Black</td>\n",
       "      <td>1</td>\n",
       "      <td>Biology</td>\n",
       "      <td>5'10\"</td>\n",
       "      <td>Lots</td>\n",
       "      <td>5</td>\n",
       "    </tr>\n",
       "    <tr>\n",
       "      <th>4</th>\n",
       "      <td>Sonya</td>\n",
       "      <td>Brown</td>\n",
       "      <td>0</td>\n",
       "      <td>Psychology</td>\n",
       "      <td>5'4\"</td>\n",
       "      <td>Little</td>\n",
       "      <td>2</td>\n",
       "    </tr>\n",
       "  </tbody>\n",
       "</table>\n",
       "</div>"
      ],
      "text/plain": [
       "  #Students Name Hair Color  Gender           Major Height  \\\n",
       "0          Norma      Brown       0      Psychology   5'4\"   \n",
       "1          Amber     Blonde       0  Social Science   5'7\"   \n",
       "2           Paul     Blonde       1         History   6'1\"   \n",
       "3    Christopher      Black       1         Biology  5'10\"   \n",
       "4          Sonya      Brown       0      Psychology   5'4\"   \n",
       "\n",
       "  Computer Experience  Experience  \n",
       "0                Lots           5  \n",
       "1         Very Little           1  \n",
       "2            Moderate           3  \n",
       "3                Lots           5  \n",
       "4              Little           2  "
      ]
     },
     "execution_count": 67,
     "metadata": {},
     "output_type": "execute_result"
    }
   ],
   "source": [
    "df_student"
   ]
  },
  {
   "cell_type": "code",
   "execution_count": 68,
   "metadata": {
    "collapsed": false
   },
   "outputs": [],
   "source": [
    "# it can be done in bulk with a dictionary inline too with map, a dictionary, in place\n",
    "df_student['Hair Color'] =\\\n",
    "    df_student['Hair Color'].replace({'Brown':1,'Blonde':0,'Black':2})"
   ]
  },
  {
   "cell_type": "code",
   "execution_count": 69,
   "metadata": {
    "collapsed": false
   },
   "outputs": [
    {
     "data": {
      "text/html": [
       "<div style=\"max-height:1000px;max-width:1500px;overflow:auto;\">\n",
       "<table border=\"1\" class=\"dataframe\">\n",
       "  <thead>\n",
       "    <tr style=\"text-align: right;\">\n",
       "      <th></th>\n",
       "      <th>#Students Name</th>\n",
       "      <th>Hair Color</th>\n",
       "      <th>Gender</th>\n",
       "      <th>Major</th>\n",
       "      <th>Height</th>\n",
       "      <th>Computer Experience</th>\n",
       "      <th>Experience</th>\n",
       "    </tr>\n",
       "  </thead>\n",
       "  <tbody>\n",
       "    <tr>\n",
       "      <th>0</th>\n",
       "      <td>Norma</td>\n",
       "      <td>1</td>\n",
       "      <td>0</td>\n",
       "      <td>Psychology</td>\n",
       "      <td>5'4\"</td>\n",
       "      <td>Lots</td>\n",
       "      <td>5</td>\n",
       "    </tr>\n",
       "    <tr>\n",
       "      <th>1</th>\n",
       "      <td>Amber</td>\n",
       "      <td>0</td>\n",
       "      <td>0</td>\n",
       "      <td>Social Science</td>\n",
       "      <td>5'7\"</td>\n",
       "      <td>Very Little</td>\n",
       "      <td>1</td>\n",
       "    </tr>\n",
       "    <tr>\n",
       "      <th>2</th>\n",
       "      <td>Paul</td>\n",
       "      <td>0</td>\n",
       "      <td>1</td>\n",
       "      <td>History</td>\n",
       "      <td>6'1\"</td>\n",
       "      <td>Moderate</td>\n",
       "      <td>3</td>\n",
       "    </tr>\n",
       "    <tr>\n",
       "      <th>3</th>\n",
       "      <td>Christopher</td>\n",
       "      <td>2</td>\n",
       "      <td>1</td>\n",
       "      <td>Biology</td>\n",
       "      <td>5'10\"</td>\n",
       "      <td>Lots</td>\n",
       "      <td>5</td>\n",
       "    </tr>\n",
       "    <tr>\n",
       "      <th>4</th>\n",
       "      <td>Sonya</td>\n",
       "      <td>1</td>\n",
       "      <td>0</td>\n",
       "      <td>Psychology</td>\n",
       "      <td>5'4\"</td>\n",
       "      <td>Little</td>\n",
       "      <td>2</td>\n",
       "    </tr>\n",
       "  </tbody>\n",
       "</table>\n",
       "</div>"
      ],
      "text/plain": [
       "  #Students Name  Hair Color  Gender           Major Height  \\\n",
       "0          Norma           1       0      Psychology   5'4\"   \n",
       "1          Amber           0       0  Social Science   5'7\"   \n",
       "2           Paul           0       1         History   6'1\"   \n",
       "3    Christopher           2       1         Biology  5'10\"   \n",
       "4          Sonya           1       0      Psychology   5'4\"   \n",
       "\n",
       "  Computer Experience  Experience  \n",
       "0                Lots           5  \n",
       "1         Very Little           1  \n",
       "2            Moderate           3  \n",
       "3                Lots           5  \n",
       "4              Little           2  "
      ]
     },
     "execution_count": 69,
     "metadata": {},
     "output_type": "execute_result"
    }
   ],
   "source": [
    "df_student"
   ]
  },
  {
   "cell_type": "code",
   "execution_count": 70,
   "metadata": {
    "collapsed": false
   },
   "outputs": [],
   "source": [
    "#drop variables you do not need\n",
    "df_student.drop(['Computer Experience', 'Major', '#Students Name'], \n",
    "                axis=1, inplace=True)"
   ]
  },
  {
   "cell_type": "code",
   "execution_count": 71,
   "metadata": {
    "collapsed": false
   },
   "outputs": [
    {
     "data": {
      "text/html": [
       "<div style=\"max-height:1000px;max-width:1500px;overflow:auto;\">\n",
       "<table border=\"1\" class=\"dataframe\">\n",
       "  <thead>\n",
       "    <tr style=\"text-align: right;\">\n",
       "      <th></th>\n",
       "      <th>Hair Color</th>\n",
       "      <th>Gender</th>\n",
       "      <th>Height</th>\n",
       "      <th>Experience</th>\n",
       "    </tr>\n",
       "  </thead>\n",
       "  <tbody>\n",
       "    <tr>\n",
       "      <th>0</th>\n",
       "      <td>1</td>\n",
       "      <td>0</td>\n",
       "      <td>5'4\"</td>\n",
       "      <td>5</td>\n",
       "    </tr>\n",
       "    <tr>\n",
       "      <th>1</th>\n",
       "      <td>0</td>\n",
       "      <td>0</td>\n",
       "      <td>5'7\"</td>\n",
       "      <td>1</td>\n",
       "    </tr>\n",
       "    <tr>\n",
       "      <th>2</th>\n",
       "      <td>0</td>\n",
       "      <td>1</td>\n",
       "      <td>6'1\"</td>\n",
       "      <td>3</td>\n",
       "    </tr>\n",
       "    <tr>\n",
       "      <th>3</th>\n",
       "      <td>2</td>\n",
       "      <td>1</td>\n",
       "      <td>5'10\"</td>\n",
       "      <td>5</td>\n",
       "    </tr>\n",
       "    <tr>\n",
       "      <th>4</th>\n",
       "      <td>1</td>\n",
       "      <td>0</td>\n",
       "      <td>5'4\"</td>\n",
       "      <td>2</td>\n",
       "    </tr>\n",
       "  </tbody>\n",
       "</table>\n",
       "</div>"
      ],
      "text/plain": [
       "   Hair Color  Gender Height  Experience\n",
       "0           1       0   5'4\"           5\n",
       "1           0       0   5'7\"           1\n",
       "2           0       1   6'1\"           3\n",
       "3           2       1  5'10\"           5\n",
       "4           1       0   5'4\"           2"
      ]
     },
     "execution_count": 71,
     "metadata": {},
     "output_type": "execute_result"
    }
   ],
   "source": [
    "df_student"
   ]
  },
  {
   "cell_type": "code",
   "execution_count": 72,
   "metadata": {
    "collapsed": true
   },
   "outputs": [],
   "source": [
    "# lastly, format height. \n",
    "# create a function to parse heignt in feet, inch into meters\n",
    "# use map to apply it"
   ]
  },
  {
   "cell_type": "code",
   "execution_count": 73,
   "metadata": {
    "collapsed": true
   },
   "outputs": [],
   "source": [
    "def formatHeight(heightstring):\n",
    "    hs = heightstring.replace('\"','').split(\"'\")\n",
    "    return float(hs[0]) * 12 + float(hs[1])\n"
   ]
  },
  {
   "cell_type": "code",
   "execution_count": 74,
   "metadata": {
    "collapsed": true
   },
   "outputs": [],
   "source": [
    "df_student.Height = df_student.Height.map(formatHeight)"
   ]
  },
  {
   "cell_type": "code",
   "execution_count": 75,
   "metadata": {
    "collapsed": false
   },
   "outputs": [
    {
     "data": {
      "text/html": [
       "<div style=\"max-height:1000px;max-width:1500px;overflow:auto;\">\n",
       "<table border=\"1\" class=\"dataframe\">\n",
       "  <thead>\n",
       "    <tr style=\"text-align: right;\">\n",
       "      <th></th>\n",
       "      <th>Hair Color</th>\n",
       "      <th>Gender</th>\n",
       "      <th>Height</th>\n",
       "      <th>Experience</th>\n",
       "    </tr>\n",
       "  </thead>\n",
       "  <tbody>\n",
       "    <tr>\n",
       "      <th>0</th>\n",
       "      <td>1</td>\n",
       "      <td>0</td>\n",
       "      <td>64</td>\n",
       "      <td>5</td>\n",
       "    </tr>\n",
       "    <tr>\n",
       "      <th>1</th>\n",
       "      <td>0</td>\n",
       "      <td>0</td>\n",
       "      <td>67</td>\n",
       "      <td>1</td>\n",
       "    </tr>\n",
       "    <tr>\n",
       "      <th>2</th>\n",
       "      <td>0</td>\n",
       "      <td>1</td>\n",
       "      <td>73</td>\n",
       "      <td>3</td>\n",
       "    </tr>\n",
       "    <tr>\n",
       "      <th>3</th>\n",
       "      <td>2</td>\n",
       "      <td>1</td>\n",
       "      <td>70</td>\n",
       "      <td>5</td>\n",
       "    </tr>\n",
       "    <tr>\n",
       "      <th>4</th>\n",
       "      <td>1</td>\n",
       "      <td>0</td>\n",
       "      <td>64</td>\n",
       "      <td>2</td>\n",
       "    </tr>\n",
       "  </tbody>\n",
       "</table>\n",
       "</div>"
      ],
      "text/plain": [
       "   Hair Color  Gender  Height  Experience\n",
       "0           1       0      64           5\n",
       "1           0       0      67           1\n",
       "2           0       1      73           3\n",
       "3           2       1      70           5\n",
       "4           1       0      64           2"
      ]
     },
     "execution_count": 75,
     "metadata": {},
     "output_type": "execute_result"
    }
   ],
   "source": [
    "df_student"
   ]
  },
  {
   "cell_type": "code",
   "execution_count": 76,
   "metadata": {
    "collapsed": false
   },
   "outputs": [
    {
     "name": "stdout",
     "output_type": "stream",
     "text": [
      "Warning: Maximum number of iterations has been exceeded.\n",
      "         Current function value: 0.277259\n",
      "         Iterations: 35\n",
      "Parameters:              0           1          2\n",
      "x1  -0.424188   -0.487632  -0.333525\n",
      "x2  49.449195   19.159443  43.646782\n",
      "x3 -10.524509  106.092840  74.159656\n"
     ]
    },
    {
     "name": "stderr",
     "output_type": "stream",
     "text": [
      "/Users/fbianco/Library/Enthought/Canopy_64bit/User/lib/python2.7/site-packages/statsmodels-0.6.1-py2.7-macosx-10.6-x86_64.egg/statsmodels/base/model.py:466: ConvergenceWarning: Maximum Likelihood optimization failed to converge. Check mle_retvals\n",
      "  \"Check mle_retvals\", ConvergenceWarning)\n"
     ]
    }
   ],
   "source": [
    "import numpy as np\n",
    "import statsmodels.api as sm\n",
    "# NOTE: by PEP8 you should put all imports at the top. \n",
    "# I leave them here to show you the flow of the project as I write it\n",
    "logit_mod = sm.MNLogit(df_student.Experience, np.array([df_student.Height, \n",
    "                                               df_student['Hair Color'], \n",
    "                                               df_student.Gender]).T)\n",
    "logit_res = logit_mod.fit()\n",
    "print('Parameters: ', logit_res.params)"
   ]
  },
  {
   "cell_type": "code",
   "execution_count": 77,
   "metadata": {
    "collapsed": false
   },
   "outputs": [
    {
     "data": {
      "text/html": [
       "<table class=\"simpletable\">\n",
       "<caption>MNLogit Regression Results</caption>\n",
       "<tr>\n",
       "  <th>Dep. Variable:</th>    <td>Experience</td>    <th>  No. Observations:  </th>  <td>     5</td> \n",
       "</tr>\n",
       "<tr>\n",
       "  <th>Model:</th>              <td>MNLogit</td>     <th>  Df Residuals:      </th>  <td>    -4</td> \n",
       "</tr>\n",
       "<tr>\n",
       "  <th>Method:</th>               <td>MLE</td>       <th>  Df Model:          </th>  <td>     6</td> \n",
       "</tr>\n",
       "<tr>\n",
       "  <th>Date:</th>          <td>Thu, 21 Sep 2017</td> <th>  Pseudo R-squ.:     </th>  <td>0.7919</td> \n",
       "</tr>\n",
       "<tr>\n",
       "  <th>Time:</th>              <td>07:34:51</td>     <th>  Log-Likelihood:    </th> <td> -1.3863</td>\n",
       "</tr>\n",
       "<tr>\n",
       "  <th>converged:</th>           <td>False</td>      <th>  LL-Null:           </th> <td> -6.6609</td>\n",
       "</tr>\n",
       "<tr>\n",
       "  <th> </th>                      <td> </td>        <th>  LLR p-value:       </th>  <td>0.1033</td> \n",
       "</tr>\n",
       "</table>\n",
       "<table class=\"simpletable\">\n",
       "<tr>\n",
       "  <th>Experience=2</th>    <th>coef</th>     <th>std err</th>      <th>z</th>      <th>P>|z|</th> <th>[95.0% Conf. Int.]</th> \n",
       "</tr>\n",
       "<tr>\n",
       "  <th>x1</th>           <td>   -0.4242</td> <td> 2.22e+04</td> <td>-1.92e-05</td> <td> 1.000</td> <td>-4.34e+04  4.34e+04</td>\n",
       "</tr>\n",
       "<tr>\n",
       "  <th>x2</th>           <td>   49.4492</td> <td> 1.42e+06</td> <td> 3.48e-05</td> <td> 1.000</td> <td>-2.78e+06  2.78e+06</td>\n",
       "</tr>\n",
       "<tr>\n",
       "  <th>x3</th>           <td>  -10.5245</td> <td> 1.77e+17</td> <td>-5.96e-17</td> <td> 1.000</td> <td>-3.46e+17  3.46e+17</td>\n",
       "</tr>\n",
       "<tr>\n",
       "  <th>Experience=3</th>    <th>coef</th>     <th>std err</th>      <th>z</th>      <th>P>|z|</th> <th>[95.0% Conf. Int.]</th> \n",
       "</tr>\n",
       "<tr>\n",
       "  <th>x1</th>           <td>   -0.4876</td> <td> 1.71e+05</td> <td>-2.85e-06</td> <td> 1.000</td> <td>-3.35e+05  3.35e+05</td>\n",
       "</tr>\n",
       "<tr>\n",
       "  <th>x2</th>           <td>   19.1594</td> <td> 6.15e+05</td> <td> 3.12e-05</td> <td> 1.000</td> <td>-1.21e+06  1.21e+06</td>\n",
       "</tr>\n",
       "<tr>\n",
       "  <th>x3</th>           <td>  106.0928</td> <td>      nan</td> <td>      nan</td> <td>   nan</td> <td>      nan       nan</td>\n",
       "</tr>\n",
       "<tr>\n",
       "  <th>Experience=5</th>    <th>coef</th>     <th>std err</th>      <th>z</th>      <th>P>|z|</th> <th>[95.0% Conf. Int.]</th> \n",
       "</tr>\n",
       "<tr>\n",
       "  <th>x1</th>           <td>   -0.3335</td> <td> 1062.527</td> <td>   -0.000</td> <td> 1.000</td> <td>-2082.849  2082.182</td>\n",
       "</tr>\n",
       "<tr>\n",
       "  <th>x2</th>           <td>   43.6468</td> <td> 9.73e+04</td> <td>    0.000</td> <td> 1.000</td> <td>-1.91e+05  1.91e+05</td>\n",
       "</tr>\n",
       "<tr>\n",
       "  <th>x3</th>           <td>   74.1597</td> <td>      nan</td> <td>      nan</td> <td>   nan</td> <td>      nan       nan</td>\n",
       "</tr>\n",
       "</table>"
      ],
      "text/plain": [
       "<class 'statsmodels.iolib.summary.Summary'>\n",
       "\"\"\"\n",
       "                          MNLogit Regression Results                          \n",
       "==============================================================================\n",
       "Dep. Variable:             Experience   No. Observations:                    5\n",
       "Model:                        MNLogit   Df Residuals:                       -4\n",
       "Method:                           MLE   Df Model:                            6\n",
       "Date:                Thu, 21 Sep 2017   Pseudo R-squ.:                  0.7919\n",
       "Time:                        07:34:51   Log-Likelihood:                -1.3863\n",
       "converged:                      False   LL-Null:                       -6.6609\n",
       "                                        LLR p-value:                    0.1033\n",
       "================================================================================\n",
       "Experience=2       coef    std err          z      P>|z|      [95.0% Conf. Int.]\n",
       "--------------------------------------------------------------------------------\n",
       "x1              -0.4242   2.22e+04  -1.92e-05      1.000     -4.34e+04  4.34e+04\n",
       "x2              49.4492   1.42e+06   3.48e-05      1.000     -2.78e+06  2.78e+06\n",
       "x3             -10.5245   1.77e+17  -5.96e-17      1.000     -3.46e+17  3.46e+17\n",
       "--------------------------------------------------------------------------------\n",
       "Experience=3       coef    std err          z      P>|z|      [95.0% Conf. Int.]\n",
       "--------------------------------------------------------------------------------\n",
       "x1              -0.4876   1.71e+05  -2.85e-06      1.000     -3.35e+05  3.35e+05\n",
       "x2              19.1594   6.15e+05   3.12e-05      1.000     -1.21e+06  1.21e+06\n",
       "x3             106.0928        nan        nan        nan           nan       nan\n",
       "--------------------------------------------------------------------------------\n",
       "Experience=5       coef    std err          z      P>|z|      [95.0% Conf. Int.]\n",
       "--------------------------------------------------------------------------------\n",
       "x1              -0.3335   1062.527     -0.000      1.000     -2082.849  2082.182\n",
       "x2              43.6468   9.73e+04      0.000      1.000     -1.91e+05  1.91e+05\n",
       "x3              74.1597        nan        nan        nan           nan       nan\n",
       "================================================================================\n",
       "\"\"\""
      ]
     },
     "execution_count": 77,
     "metadata": {},
     "output_type": "execute_result"
    }
   ],
   "source": [
    "logit_res.summary()"
   ]
  },
  {
   "cell_type": "code",
   "execution_count": 85,
   "metadata": {
    "collapsed": false
   },
   "outputs": [
    {
     "data": {
      "image/png": "[encoded data removed]",
      "text/plain": [
       "<matplotlib.figure.Figure at 0x10f00bad0>"
      ]
     },
     "metadata": {},
     "output_type": "display_data"
    }
   ],
   "source": [
    "fig = pl.figure(figsize=(12,8))\n",
    "fig = sm.graphics.plot_partregress_grid(logit_res, fig=fig)\n"
   ]
  },
  {
   "cell_type": "code",
   "execution_count": null,
   "metadata": {
    "collapsed": true
   },
   "outputs": [],
   "source": []
  }
 ],
 "metadata": {
  "anaconda-cloud": {},
  "kernelspec": {
   "display_name": "Python [conda root]",
   "language": "python",
   "name": "conda-root-py"
  },
  "language_info": {
   "codemirror_mode": {
    "name": "ipython",
    "version": 2
   },
   "file_extension": ".py",
   "mimetype": "text/x-python",
   "name": "python",
   "nbconvert_exporter": "python",
   "pygments_lexer": "ipython2",
   "version": "2.7.3"
  }
 },
 "nbformat": 4,
 "nbformat_minor": 0
}
