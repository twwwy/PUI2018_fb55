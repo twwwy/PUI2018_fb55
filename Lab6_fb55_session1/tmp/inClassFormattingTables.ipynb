{
 "cells": [
  {
   "cell_type": "code",
   "execution_count": 4,
   "metadata": {
    "collapsed": false
   },
   "outputs": [],
   "source": [
    "import numpy as np\n",
    "import pandas as pd\n",
    "\n",
    "import sys\n",
    "import os"
   ]
  },
  {
   "cell_type": "code",
   "execution_count": 5,
   "metadata": {
    "collapsed": false
   },
   "outputs": [
    {
     "data": {
      "text/plain": [
       "'/Users/fbianco/science/Dropbox/UI/PUIdata'"
      ]
     },
     "execution_count": 5,
     "metadata": {},
     "output_type": "execute_result"
    }
   ],
   "source": [
    "os.getenv(\"PUIDATA\")"
   ]
  },
  {
   "cell_type": "code",
   "execution_count": 20,
   "metadata": {
    "collapsed": false
   },
   "outputs": [],
   "source": [
    "df = pd.read_csv('https://raw.githubusercontent.com/fedhere/PUI2017_fb55/master/Lab2_fb55/IntrotoStats_Table6_1.csv')"
   ]
  },
  {
   "cell_type": "code",
   "execution_count": 21,
   "metadata": {
    "collapsed": false
   },
   "outputs": [
    {
     "data": {
      "text/html": [
       "<div style=\"max-height:1000px;max-width:1500px;overflow:auto;\">\n",
       "<table border=\"1\" class=\"dataframe\">\n",
       "  <thead>\n",
       "    <tr style=\"text-align: right;\">\n",
       "      <th></th>\n",
       "      <th>#Students Name</th>\n",
       "      <th>Hair Color</th>\n",
       "      <th>Gender</th>\n",
       "      <th>Major</th>\n",
       "      <th>Height</th>\n",
       "      <th>Computer Experience</th>\n",
       "    </tr>\n",
       "  </thead>\n",
       "  <tbody>\n",
       "    <tr>\n",
       "      <th>0</th>\n",
       "      <td>Norma</td>\n",
       "      <td>Brown</td>\n",
       "      <td>Female</td>\n",
       "      <td>Psychology</td>\n",
       "      <td>5'4\"</td>\n",
       "      <td>Lots</td>\n",
       "    </tr>\n",
       "    <tr>\n",
       "      <th>1</th>\n",
       "      <td>Amber</td>\n",
       "      <td>Blonde</td>\n",
       "      <td>Female</td>\n",
       "      <td>Social Science</td>\n",
       "      <td>5'7\"</td>\n",
       "      <td>Very Little</td>\n",
       "    </tr>\n",
       "    <tr>\n",
       "      <th>2</th>\n",
       "      <td>Paul</td>\n",
       "      <td>Blonde</td>\n",
       "      <td>Male</td>\n",
       "      <td>History</td>\n",
       "      <td>6'1\"</td>\n",
       "      <td>Moderate</td>\n",
       "    </tr>\n",
       "    <tr>\n",
       "      <th>3</th>\n",
       "      <td>Christopher</td>\n",
       "      <td>Black</td>\n",
       "      <td>Male</td>\n",
       "      <td>Biology</td>\n",
       "      <td>5'10\"</td>\n",
       "      <td>Lots</td>\n",
       "    </tr>\n",
       "    <tr>\n",
       "      <th>4</th>\n",
       "      <td>Sonya</td>\n",
       "      <td>Brown</td>\n",
       "      <td>Female</td>\n",
       "      <td>Psychology</td>\n",
       "      <td>5'4\"</td>\n",
       "      <td>Little</td>\n",
       "    </tr>\n",
       "  </tbody>\n",
       "</table>\n",
       "</div>"
      ],
      "text/plain": [
       "  #Students Name Hair Color  Gender           Major Height Computer Experience\n",
       "0          Norma      Brown  Female      Psychology   5'4\"                Lots\n",
       "1          Amber     Blonde  Female  Social Science   5'7\"         Very Little\n",
       "2           Paul     Blonde    Male         History   6'1\"            Moderate\n",
       "3    Christopher      Black    Male         Biology  5'10\"                Lots\n",
       "4          Sonya      Brown  Female      Psychology   5'4\"              Little"
      ]
     },
     "execution_count": 21,
     "metadata": {},
     "output_type": "execute_result"
    }
   ],
   "source": [
    "df.head()"
   ]
  },
  {
   "cell_type": "code",
   "execution_count": 16,
   "metadata": {
    "collapsed": false
   },
   "outputs": [
    {
     "data": {
      "text/plain": [
       "(5, 6)"
      ]
     },
     "execution_count": 16,
     "metadata": {},
     "output_type": "execute_result"
    }
   ],
   "source": [
    "df.shape[0]"
   ]
  },
  {
   "cell_type": "code",
   "execution_count": 17,
   "metadata": {
    "collapsed": false
   },
   "outputs": [
    {
     "name": "stdout",
     "output_type": "stream",
     "text": [
      "  % Total    % Received % Xferd  Average Speed   Time    Time     Time  Current\n",
      "                                 Dload  Upload   Total   Spent    Left  Speed\n",
      "100   281  100   281    0     0   2127      0 --:--:-- --:--:-- --:--:--  2195\n"
     ]
    }
   ],
   "source": [
    "!curl -O https://serv.cusp.nyu.edu/~fbianco/PUI2017/data/IntrotoStats_Table6_1.csv"
   ]
  },
  {
   "cell_type": "code",
   "execution_count": 24,
   "metadata": {
    "collapsed": false
   },
   "outputs": [
    {
     "data": {
      "text/plain": [
       "array(['Female', 'Female', 'Male', 'Male', 'Female'], dtype=object)"
      ]
     },
     "execution_count": 24,
     "metadata": {},
     "output_type": "execute_result"
    }
   ],
   "source": [
    "df.Gender.values"
   ]
  },
  {
   "cell_type": "code",
   "execution_count": 25,
   "metadata": {
    "collapsed": false
   },
   "outputs": [
    {
     "data": {
      "text/plain": [
       "0       0\n",
       "1       0\n",
       "2    Male\n",
       "3    Male\n",
       "4       0\n",
       "Name: Gender, dtype: object"
      ]
     },
     "execution_count": 25,
     "metadata": {},
     "output_type": "execute_result"
    }
   ],
   "source": [
    "df['Gender'].replace('Female', 0)"
   ]
  },
  {
   "cell_type": "code",
   "execution_count": 26,
   "metadata": {
    "collapsed": false
   },
   "outputs": [
    {
     "data": {
      "text/plain": [
       "0    Female\n",
       "1    Female\n",
       "2      Male\n",
       "3      Male\n",
       "4    Female\n",
       "Name: Gender, dtype: object"
      ]
     },
     "execution_count": 26,
     "metadata": {},
     "output_type": "execute_result"
    }
   ],
   "source": [
    "df.Gender"
   ]
  },
  {
   "cell_type": "code",
   "execution_count": 27,
   "metadata": {
    "collapsed": true
   },
   "outputs": [],
   "source": [
    "df['Gender'] = df.Gender.replace('Female', 0)"
   ]
  },
  {
   "cell_type": "code",
   "execution_count": 28,
   "metadata": {
    "collapsed": false
   },
   "outputs": [
    {
     "data": {
      "text/plain": [
       "0       0\n",
       "1       0\n",
       "2    Male\n",
       "3    Male\n",
       "4       0\n",
       "Name: Gender, dtype: object"
      ]
     },
     "execution_count": 28,
     "metadata": {},
     "output_type": "execute_result"
    }
   ],
   "source": [
    "df.Gender"
   ]
  },
  {
   "cell_type": "code",
   "execution_count": 29,
   "metadata": {
    "collapsed": true
   },
   "outputs": [],
   "source": [
    "df.Gender = df.Gender.replace('Male', 1)"
   ]
  },
  {
   "cell_type": "code",
   "execution_count": 30,
   "metadata": {
    "collapsed": false
   },
   "outputs": [
    {
     "data": {
      "text/plain": [
       "0    0\n",
       "1    0\n",
       "2    1\n",
       "3    1\n",
       "4    0\n",
       "Name: Gender, dtype: int64"
      ]
     },
     "execution_count": 30,
     "metadata": {},
     "output_type": "execute_result"
    }
   ],
   "source": [
    "df.Gender"
   ]
  },
  {
   "cell_type": "code",
   "execution_count": 31,
   "metadata": {
    "collapsed": false
   },
   "outputs": [
    {
     "data": {
      "text/html": [
       "<div style=\"max-height:1000px;max-width:1500px;overflow:auto;\">\n",
       "<table border=\"1\" class=\"dataframe\">\n",
       "  <thead>\n",
       "    <tr style=\"text-align: right;\">\n",
       "      <th></th>\n",
       "      <th>#Students Name</th>\n",
       "      <th>Hair Color</th>\n",
       "      <th>Gender</th>\n",
       "      <th>Major</th>\n",
       "      <th>Height</th>\n",
       "      <th>Computer Experience</th>\n",
       "    </tr>\n",
       "  </thead>\n",
       "  <tbody>\n",
       "    <tr>\n",
       "      <th>0</th>\n",
       "      <td>Norma</td>\n",
       "      <td>Brown</td>\n",
       "      <td>0</td>\n",
       "      <td>Psychology</td>\n",
       "      <td>5'4\"</td>\n",
       "      <td>Lots</td>\n",
       "    </tr>\n",
       "    <tr>\n",
       "      <th>1</th>\n",
       "      <td>Amber</td>\n",
       "      <td>Blonde</td>\n",
       "      <td>0</td>\n",
       "      <td>Social Science</td>\n",
       "      <td>5'7\"</td>\n",
       "      <td>Very Little</td>\n",
       "    </tr>\n",
       "    <tr>\n",
       "      <th>2</th>\n",
       "      <td>Paul</td>\n",
       "      <td>Blonde</td>\n",
       "      <td>1</td>\n",
       "      <td>History</td>\n",
       "      <td>6'1\"</td>\n",
       "      <td>Moderate</td>\n",
       "    </tr>\n",
       "    <tr>\n",
       "      <th>3</th>\n",
       "      <td>Christopher</td>\n",
       "      <td>Black</td>\n",
       "      <td>1</td>\n",
       "      <td>Biology</td>\n",
       "      <td>5'10\"</td>\n",
       "      <td>Lots</td>\n",
       "    </tr>\n",
       "    <tr>\n",
       "      <th>4</th>\n",
       "      <td>Sonya</td>\n",
       "      <td>Brown</td>\n",
       "      <td>0</td>\n",
       "      <td>Psychology</td>\n",
       "      <td>5'4\"</td>\n",
       "      <td>Little</td>\n",
       "    </tr>\n",
       "  </tbody>\n",
       "</table>\n",
       "</div>"
      ],
      "text/plain": [
       "  #Students Name Hair Color  Gender           Major Height Computer Experience\n",
       "0          Norma      Brown       0      Psychology   5'4\"                Lots\n",
       "1          Amber     Blonde       0  Social Science   5'7\"         Very Little\n",
       "2           Paul     Blonde       1         History   6'1\"            Moderate\n",
       "3    Christopher      Black       1         Biology  5'10\"                Lots\n",
       "4          Sonya      Brown       0      Psychology   5'4\"              Little"
      ]
     },
     "execution_count": 31,
     "metadata": {},
     "output_type": "execute_result"
    }
   ],
   "source": [
    "df"
   ]
  },
  {
   "cell_type": "code",
   "execution_count": 32,
   "metadata": {
    "collapsed": false
   },
   "outputs": [
    {
     "data": {
      "text/plain": [
       "dtype('int64')"
      ]
     },
     "execution_count": 32,
     "metadata": {},
     "output_type": "execute_result"
    }
   ],
   "source": [
    "df.Gender.dtype"
   ]
  },
  {
   "cell_type": "code",
   "execution_count": 37,
   "metadata": {
    "collapsed": false
   },
   "outputs": [
    {
     "data": {
      "text/plain": [
       "dtype('O')"
      ]
     },
     "execution_count": 37,
     "metadata": {},
     "output_type": "execute_result"
    }
   ],
   "source": [
    "df.Major.dtype"
   ]
  },
  {
   "cell_type": "code",
   "execution_count": 38,
   "metadata": {
    "collapsed": true
   },
   "outputs": [],
   "source": [
    "df['Computer Experience'].map?"
   ]
  },
  {
   "cell_type": "code",
   "execution_count": null,
   "metadata": {
    "collapsed": true
   },
   "outputs": [],
   "source": [
    "df['Computer Experience'].map"
   ]
  },
  {
   "cell_type": "code",
   "execution_count": 39,
   "metadata": {
    "collapsed": true
   },
   "outputs": [],
   "source": [
    "comp_dict = {'Lots': 3, 'Moderate': 2, 'Little': 1, 'Very Little': 0}"
   ]
  },
  {
   "cell_type": "code",
   "execution_count": 42,
   "metadata": {
    "collapsed": false
   },
   "outputs": [
    {
     "data": {
      "text/plain": [
       "3"
      ]
     },
     "execution_count": 42,
     "metadata": {},
     "output_type": "execute_result"
    }
   ],
   "source": [
    "comp_dict['Lots']"
   ]
  },
  {
   "cell_type": "code",
   "execution_count": 43,
   "metadata": {
    "collapsed": false
   },
   "outputs": [
    {
     "data": {
      "text/plain": [
       "['Lots', 'Very Little', 'Little', 'Moderate']"
      ]
     },
     "execution_count": 43,
     "metadata": {},
     "output_type": "execute_result"
    }
   ],
   "source": [
    "comp_dict.keys()"
   ]
  },
  {
   "cell_type": "code",
   "execution_count": 44,
   "metadata": {
    "collapsed": false
   },
   "outputs": [
    {
     "data": {
      "text/plain": [
       "[('Lots', 3), ('Very Little', 0), ('Little', 1), ('Moderate', 2)]"
      ]
     },
     "execution_count": 44,
     "metadata": {},
     "output_type": "execute_result"
    }
   ],
   "source": [
    "comp_dict.items()"
   ]
  },
  {
   "cell_type": "code",
   "execution_count": 45,
   "metadata": {
    "collapsed": false
   },
   "outputs": [
    {
     "data": {
      "text/plain": [
       "[3, 0, 1, 2]"
      ]
     },
     "execution_count": 45,
     "metadata": {},
     "output_type": "execute_result"
    }
   ],
   "source": [
    "comp_dict.values()"
   ]
  },
  {
   "cell_type": "code",
   "execution_count": 48,
   "metadata": {
    "collapsed": false
   },
   "outputs": [],
   "source": [
    "indx = np.array(comp_dict.values()) == 3"
   ]
  },
  {
   "cell_type": "code",
   "execution_count": 52,
   "metadata": {
    "collapsed": false
   },
   "outputs": [
    {
     "data": {
      "text/plain": [
       "array(['Lots'], \n",
       "      dtype='|S11')"
      ]
     },
     "execution_count": 52,
     "metadata": {},
     "output_type": "execute_result"
    }
   ],
   "source": [
    "np.array(comp_dict.keys())[indx]"
   ]
  },
  {
   "cell_type": "code",
   "execution_count": 53,
   "metadata": {
    "collapsed": false
   },
   "outputs": [
    {
     "data": {
      "text/plain": [
       "{0: 0, 1: 0, 2: 1, 3: 1, 4: 0}"
      ]
     },
     "execution_count": 53,
     "metadata": {},
     "output_type": "execute_result"
    }
   ],
   "source": [
    "df.Gender.to_dict()"
   ]
  },
  {
   "cell_type": "code",
   "execution_count": 55,
   "metadata": {
    "collapsed": false
   },
   "outputs": [],
   "source": [
    "comp_dict[\"Very\"] = 4"
   ]
  },
  {
   "cell_type": "code",
   "execution_count": 56,
   "metadata": {
    "collapsed": true
   },
   "outputs": [],
   "source": [
    "df['Computer Experience'].map?"
   ]
  },
  {
   "cell_type": "code",
   "execution_count": 58,
   "metadata": {
    "collapsed": false
   },
   "outputs": [],
   "source": [
    "df['Comp_Exp'] = df['Computer Experience'].map(comp_dict)"
   ]
  },
  {
   "cell_type": "code",
   "execution_count": 59,
   "metadata": {
    "collapsed": false
   },
   "outputs": [
    {
     "data": {
      "text/html": [
       "<div style=\"max-height:1000px;max-width:1500px;overflow:auto;\">\n",
       "<table border=\"1\" class=\"dataframe\">\n",
       "  <thead>\n",
       "    <tr style=\"text-align: right;\">\n",
       "      <th></th>\n",
       "      <th>#Students Name</th>\n",
       "      <th>Hair Color</th>\n",
       "      <th>Gender</th>\n",
       "      <th>Major</th>\n",
       "      <th>Height</th>\n",
       "      <th>Computer Experience</th>\n",
       "      <th>Comp_Exp</th>\n",
       "    </tr>\n",
       "  </thead>\n",
       "  <tbody>\n",
       "    <tr>\n",
       "      <th>0</th>\n",
       "      <td>Norma</td>\n",
       "      <td>Brown</td>\n",
       "      <td>0</td>\n",
       "      <td>Psychology</td>\n",
       "      <td>5'4\"</td>\n",
       "      <td>Lots</td>\n",
       "      <td>3</td>\n",
       "    </tr>\n",
       "    <tr>\n",
       "      <th>1</th>\n",
       "      <td>Amber</td>\n",
       "      <td>Blonde</td>\n",
       "      <td>0</td>\n",
       "      <td>Social Science</td>\n",
       "      <td>5'7\"</td>\n",
       "      <td>Very Little</td>\n",
       "      <td>0</td>\n",
       "    </tr>\n",
       "    <tr>\n",
       "      <th>2</th>\n",
       "      <td>Paul</td>\n",
       "      <td>Blonde</td>\n",
       "      <td>1</td>\n",
       "      <td>History</td>\n",
       "      <td>6'1\"</td>\n",
       "      <td>Moderate</td>\n",
       "      <td>2</td>\n",
       "    </tr>\n",
       "    <tr>\n",
       "      <th>3</th>\n",
       "      <td>Christopher</td>\n",
       "      <td>Black</td>\n",
       "      <td>1</td>\n",
       "      <td>Biology</td>\n",
       "      <td>5'10\"</td>\n",
       "      <td>Lots</td>\n",
       "      <td>3</td>\n",
       "    </tr>\n",
       "    <tr>\n",
       "      <th>4</th>\n",
       "      <td>Sonya</td>\n",
       "      <td>Brown</td>\n",
       "      <td>0</td>\n",
       "      <td>Psychology</td>\n",
       "      <td>5'4\"</td>\n",
       "      <td>Little</td>\n",
       "      <td>1</td>\n",
       "    </tr>\n",
       "  </tbody>\n",
       "</table>\n",
       "</div>"
      ],
      "text/plain": [
       "  #Students Name Hair Color  Gender           Major Height  \\\n",
       "0          Norma      Brown       0      Psychology   5'4\"   \n",
       "1          Amber     Blonde       0  Social Science   5'7\"   \n",
       "2           Paul     Blonde       1         History   6'1\"   \n",
       "3    Christopher      Black       1         Biology  5'10\"   \n",
       "4          Sonya      Brown       0      Psychology   5'4\"   \n",
       "\n",
       "  Computer Experience  Comp_Exp  \n",
       "0                Lots         3  \n",
       "1         Very Little         0  \n",
       "2            Moderate         2  \n",
       "3                Lots         3  \n",
       "4              Little         1  "
      ]
     },
     "execution_count": 59,
     "metadata": {},
     "output_type": "execute_result"
    }
   ],
   "source": [
    "df"
   ]
  },
  {
   "cell_type": "code",
   "execution_count": 62,
   "metadata": {
    "collapsed": true
   },
   "outputs": [],
   "source": [
    "\n",
    "def inchestofeet(height):\n",
    "    feet = int(height.split(\"'\")[0])\n",
    "    inches = int(height.strip('\"').split(\"'\")[1])\n",
    "    return feet + inches / 12.\n",
    "    \n",
    "    "
   ]
  },
  {
   "cell_type": "code",
   "execution_count": 63,
   "metadata": {
    "collapsed": false
   },
   "outputs": [
    {
     "data": {
      "text/plain": [
       "5.333333333333333"
      ]
     },
     "execution_count": 63,
     "metadata": {},
     "output_type": "execute_result"
    }
   ],
   "source": [
    "inchestofeet(\"5'4\")"
   ]
  },
  {
   "cell_type": "code",
   "execution_count": 65,
   "metadata": {
    "collapsed": false
   },
   "outputs": [],
   "source": [
    "df.Height = df.Height.map(inchestofeet)"
   ]
  },
  {
   "cell_type": "code",
   "execution_count": 66,
   "metadata": {
    "collapsed": false
   },
   "outputs": [
    {
     "data": {
      "text/html": [
       "<div style=\"max-height:1000px;max-width:1500px;overflow:auto;\">\n",
       "<table border=\"1\" class=\"dataframe\">\n",
       "  <thead>\n",
       "    <tr style=\"text-align: right;\">\n",
       "      <th></th>\n",
       "      <th>#Students Name</th>\n",
       "      <th>Hair Color</th>\n",
       "      <th>Gender</th>\n",
       "      <th>Major</th>\n",
       "      <th>Height</th>\n",
       "      <th>Computer Experience</th>\n",
       "      <th>Comp_Exp</th>\n",
       "    </tr>\n",
       "  </thead>\n",
       "  <tbody>\n",
       "    <tr>\n",
       "      <th>0</th>\n",
       "      <td>Norma</td>\n",
       "      <td>Brown</td>\n",
       "      <td>0</td>\n",
       "      <td>Psychology</td>\n",
       "      <td>5.333333</td>\n",
       "      <td>Lots</td>\n",
       "      <td>3</td>\n",
       "    </tr>\n",
       "    <tr>\n",
       "      <th>1</th>\n",
       "      <td>Amber</td>\n",
       "      <td>Blonde</td>\n",
       "      <td>0</td>\n",
       "      <td>Social Science</td>\n",
       "      <td>5.583333</td>\n",
       "      <td>Very Little</td>\n",
       "      <td>0</td>\n",
       "    </tr>\n",
       "    <tr>\n",
       "      <th>2</th>\n",
       "      <td>Paul</td>\n",
       "      <td>Blonde</td>\n",
       "      <td>1</td>\n",
       "      <td>History</td>\n",
       "      <td>6.083333</td>\n",
       "      <td>Moderate</td>\n",
       "      <td>2</td>\n",
       "    </tr>\n",
       "    <tr>\n",
       "      <th>3</th>\n",
       "      <td>Christopher</td>\n",
       "      <td>Black</td>\n",
       "      <td>1</td>\n",
       "      <td>Biology</td>\n",
       "      <td>5.833333</td>\n",
       "      <td>Lots</td>\n",
       "      <td>3</td>\n",
       "    </tr>\n",
       "    <tr>\n",
       "      <th>4</th>\n",
       "      <td>Sonya</td>\n",
       "      <td>Brown</td>\n",
       "      <td>0</td>\n",
       "      <td>Psychology</td>\n",
       "      <td>5.333333</td>\n",
       "      <td>Little</td>\n",
       "      <td>1</td>\n",
       "    </tr>\n",
       "  </tbody>\n",
       "</table>\n",
       "</div>"
      ],
      "text/plain": [
       "  #Students Name Hair Color  Gender           Major    Height  \\\n",
       "0          Norma      Brown       0      Psychology  5.333333   \n",
       "1          Amber     Blonde       0  Social Science  5.583333   \n",
       "2           Paul     Blonde       1         History  6.083333   \n",
       "3    Christopher      Black       1         Biology  5.833333   \n",
       "4          Sonya      Brown       0      Psychology  5.333333   \n",
       "\n",
       "  Computer Experience  Comp_Exp  \n",
       "0                Lots         3  \n",
       "1         Very Little         0  \n",
       "2            Moderate         2  \n",
       "3                Lots         3  \n",
       "4              Little         1  "
      ]
     },
     "execution_count": 66,
     "metadata": {},
     "output_type": "execute_result"
    }
   ],
   "source": [
    "df"
   ]
  },
  {
   "cell_type": "code",
   "execution_count": null,
   "metadata": {
    "collapsed": true
   },
   "outputs": [],
   "source": []
  }
 ],
 "metadata": {
  "anaconda-cloud": {},
  "kernelspec": {
   "display_name": "Python [default]",
   "language": "python",
   "name": "python2"
  },
  "language_info": {
   "codemirror_mode": {
    "name": "ipython",
    "version": 2
   },
   "file_extension": ".py",
   "mimetype": "text/x-python",
   "name": "python",
   "nbconvert_exporter": "python",
   "pygments_lexer": "ipython2",
   "version": "2.7.3"
  }
 },
 "nbformat": 4,
 "nbformat_minor": 1
}
