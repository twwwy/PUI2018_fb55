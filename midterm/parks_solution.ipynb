{
 "cells": [
  {
   "cell_type": "markdown",
   "metadata": {
    "toc": "true"
   },
   "source": [
    "# Table of Contents\n",
    " <p><div class=\"lev2 toc-item\"><a href=\"#Investigation-of-access-to-green-as-a-function-of-socioeconomic-status\" data-toc-modified-id=\"Investigation-of-access-to-green-as-a-function-of-socioeconomic-status-01\"><span class=\"toc-item-num\">0.1&nbsp;&nbsp;</span>Investigation of access to green as a function of socioeconomic status</a></div><div class=\"lev2 toc-item\"><a href=\"#Objective:-assessing-equity-in-NYC-greenery-distribution-by-relating-parks-conditions-to-unemployment\" data-toc-modified-id=\"Objective:-assessing-equity-in-NYC-greenery-distribution-by-relating-parks-conditions-to-unemployment-02\"><span class=\"toc-item-num\">0.2&nbsp;&nbsp;</span>Objective: assessing equity in NYC greenery distribution by relating parks conditions to unemployment</a></div><div class=\"lev3 toc-item\"><a href=\"#1-6-are-the-data-wrangling-portion-of-the-exercise,-and-are-worth-up-to-60%-of-the-points\" data-toc-modified-id=\"1-6-are-the-data-wrangling-portion-of-the-exercise,-and-are-worth-up-to-60%-of-the-points-021\"><span class=\"toc-item-num\">0.2.1&nbsp;&nbsp;</span>1-6 are the data wrangling portion of the exercise, and are worth up to 60% of the points</a></div><div class=\"lev3 toc-item\"><a href=\"#7-11-are-the-analysis-portion-of-the-exercise-(including-exploratory-and-visual-analysis),-and-are-worth-up-to-50%-of-the-points\" data-toc-modified-id=\"7-11-are-the-analysis-portion-of-the-exercise-(including-exploratory-and-visual-analysis),-and-are-worth-up-to-50%-of-the-points-022\"><span class=\"toc-item-num\">0.2.2&nbsp;&nbsp;</span>7-11 are the analysis portion of the exercise (including exploratory and visual analysis), and are worth up to 50% of the points</a></div><div class=\"lev2 toc-item\"><a href=\"#Data-Wrangling-(each-task-is-10%-of-the-points)\" data-toc-modified-id=\"Data-Wrangling-(each-task-is-10%-of-the-points)-03\"><span class=\"toc-item-num\">0.3&nbsp;&nbsp;</span>Data Wrangling (each task is 10% of the points)</a></div><div class=\"lev2 toc-item\"><a href=\"#Analysis-(visual-and-quantitative)\" data-toc-modified-id=\"Analysis-(visual-and-quantitative)-04\"><span class=\"toc-item-num\">0.4&nbsp;&nbsp;</span>Analysis (visual and quantitative)</a></div><div class=\"lev1 toc-item\"><a href=\"#Download-park-inspection-data\" data-toc-modified-id=\"Download-park-inspection-data-1\"><span class=\"toc-item-num\">1&nbsp;&nbsp;</span>Download park inspection data</a></div><div class=\"lev3 toc-item\"><a href=\"#method--1\" data-toc-modified-id=\"method--1-101\"><span class=\"toc-item-num\">1.0.1&nbsp;&nbsp;</span>method  1</a></div><div class=\"lev3 toc-item\"><a href=\"#method--2---download\" data-toc-modified-id=\"method--2---download-102\"><span class=\"toc-item-num\">1.0.2&nbsp;&nbsp;</span>method  2 - download</a></div><div class=\"lev1 toc-item\"><a href=\"#Download-parks-shapefile-for-the-NYC-Open-Data-data.\" data-toc-modified-id=\"Download-parks-shapefile-for-the-NYC-Open-Data-data.-2\"><span class=\"toc-item-num\">2&nbsp;&nbsp;</span>Download parks shapefile for the NYC Open Data data.</a></div><div class=\"lev1 toc-item\"><a href=\"#Download-unemployment-rate-information-from-ACS-2015-(5-year-survey)-for-Brooklyn-at-the-PUMA-geographical-aggregation-level.\" data-toc-modified-id=\"Download-unemployment-rate-information-from-ACS-2015-(5-year-survey)-for-Brooklyn-at-the-PUMA-geographical-aggregation-level.-3\"><span class=\"toc-item-num\">3&nbsp;&nbsp;</span>Download unemployment rate information from ACS 2015 (5 year survey) for Brooklyn at the PUMA geographical aggregation level.</a></div><div class=\"lev3 toc-item\"><a href=\"#method-1-:-Since-the-variable-names-are-provide,-all-I-have-to-do-is-getting-them-from-API\" data-toc-modified-id=\"method-1-:-Since-the-variable-names-are-provide,-all-I-have-to-do-is-getting-them-from-API-301\"><span class=\"toc-item-num\">3.0.1&nbsp;&nbsp;</span>method 1 : Since the variable names are provide, all I have to do is getting them from API</a></div><div class=\"lev1 toc-item\"><a href=\"#Obtain-the-PUMA-spatial-file\" data-toc-modified-id=\"Obtain-the-PUMA-spatial-file-4\"><span class=\"toc-item-num\">4&nbsp;&nbsp;</span>Obtain the PUMA spatial file</a></div><div class=\"lev1 toc-item\"><a href=\"#Download-the-file-assigning-each-park-to-a-Puma\" data-toc-modified-id=\"Download-the-file-assigning-each-park-to-a-Puma-5\"><span class=\"toc-item-num\">5&nbsp;&nbsp;</span>Download the file assigning each park to a Puma</a></div><div class=\"lev2 toc-item\"><a href=\"#Extra-Credit-1---recreate-the-ParksByPUMA-file\" data-toc-modified-id=\"Extra-Credit-1---recreate-the-ParksByPUMA-file-51\"><span class=\"toc-item-num\">5.1&nbsp;&nbsp;</span>Extra Credit 1 - recreate the ParksByPUMA file</a></div><div class=\"lev2 toc-item\"><a href=\"#Extra-Credit-2---do-it-better\" data-toc-modified-id=\"Extra-Credit-2---do-it-better-52\"><span class=\"toc-item-num\">5.2&nbsp;&nbsp;</span>Extra Credit 2 - do it better</a></div><div class=\"lev3 toc-item\"><a href=\"#find-the-centroid-of-each-park\" data-toc-modified-id=\"find-the-centroid-of-each-park-521\"><span class=\"toc-item-num\">5.2.1&nbsp;&nbsp;</span>find the centroid of each park</a></div><div class=\"lev3 toc-item\"><a href=\"#set-that-as-the-new-shapefile-geometry\" data-toc-modified-id=\"set-that-as-the-new-shapefile-geometry-522\"><span class=\"toc-item-num\">5.2.2&nbsp;&nbsp;</span>set that as the new shapefile geometry</a></div><div class=\"lev3 toc-item\"><a href=\"#spatial-joint-to-assign-each-park-to-a-PUMA-based-on-where-the-center-of-the-park-is\" data-toc-modified-id=\"spatial-joint-to-assign-each-park-to-a-PUMA-based-on-where-the-center-of-the-park-is-523\"><span class=\"toc-item-num\">5.2.3&nbsp;&nbsp;</span>spatial joint to assign each park to a PUMA based on where the center of the park is</a></div><div class=\"lev1 toc-item\"><a href=\"#Data-Aggregation\" data-toc-modified-id=\"Data-Aggregation-6\"><span class=\"toc-item-num\">6&nbsp;&nbsp;</span>Data Aggregation</a></div><div class=\"lev1 toc-item\"><a href=\"#7-Make-a-map-for-each-of-the-variables:-unemployment-fraction,-average-park-condition,-number-of-parks-in-the-PUMA.\" data-toc-modified-id=\"7-Make-a-map-for-each-of-the-variables:-unemployment-fraction,-average-park-condition,-number-of-parks-in-the-PUMA.-7\"><span class=\"toc-item-num\">7&nbsp;&nbsp;</span>7 Make a map for each of the variables: unemployment fraction, average park condition, number of parks in the PUMA.</a></div><div class=\"lev1 toc-item\"><a href=\"#Assess-if-any--of-these-distributions-are-consistent-with-a-Gaussian.\" data-toc-modified-id=\"Assess-if-any--of-these-distributions-are-consistent-with-a-Gaussian.-8\"><span class=\"toc-item-num\">8&nbsp;&nbsp;</span>Assess if any  of these distributions are consistent with a Gaussian.</a></div><div class=\"lev2 toc-item\"><a href=\"#setting-a-significance-threshold-:-alpha-=-0.05\" data-toc-modified-id=\"setting-a-significance-threshold-:-alpha-=-0.05-81\"><span class=\"toc-item-num\">8.1&nbsp;&nbsp;</span>setting a significance threshold : alpha = 0.05</a></div><div class=\"lev2 toc-item\"><a href=\"#declaring-the-null-hypothesis\" data-toc-modified-id=\"declaring-the-null-hypothesis-82\"><span class=\"toc-item-num\">8.2&nbsp;&nbsp;</span>declaring the null hypothesis</a></div><div class=\"lev2 toc-item\"><a href=\"#testing\" data-toc-modified-id=\"testing-83\"><span class=\"toc-item-num\">8.3&nbsp;&nbsp;</span>testing</a></div><div class=\"lev3 toc-item\"><a href=\"#KS-test\" data-toc-modified-id=\"KS-test-831\"><span class=\"toc-item-num\">8.3.1&nbsp;&nbsp;</span>KS test</a></div><div class=\"lev3 toc-item\"><a href=\"#AD-test\" data-toc-modified-id=\"AD-test-832\"><span class=\"toc-item-num\">8.3.2&nbsp;&nbsp;</span>AD test</a></div><div class=\"lev1 toc-item\"><a href=\"#Plot-the-distributions-of-each-feature\" data-toc-modified-id=\"Plot-the-distributions-of-each-feature-9\"><span class=\"toc-item-num\">9&nbsp;&nbsp;</span>Plot the distributions of each feature</a></div><div class=\"lev1 toc-item\"><a href=\"#Measure-correlation-between-parks-condition-and-unemployment\" data-toc-modified-id=\"Measure-correlation-between-parks-condition-and-unemployment-10\"><span class=\"toc-item-num\">10&nbsp;&nbsp;</span>Measure correlation between parks condition and unemployment</a></div><div class=\"lev1 toc-item\"><a href=\"#Test-if-the-average-park-condition-is-significantly-different-for-PUMAs-with-an-unemployment-fraction-grater-than-0.05-and-lower-then-0.05\" data-toc-modified-id=\"Test-if-the-average-park-condition-is-significantly-different-for-PUMAs-with-an-unemployment-fraction-grater-than-0.05-and-lower-then-0.05-11\"><span class=\"toc-item-num\">11&nbsp;&nbsp;</span>Test if the average park condition is significantly different for PUMAs with an unemployment fraction grater than 0.05 and lower then 0.05</a></div><div class=\"lev2 toc-item\"><a href=\"#setting-a-significance-threshold-:-alpha-=-0.05\" data-toc-modified-id=\"setting-a-significance-threshold-:-alpha-=-0.05-111\"><span class=\"toc-item-num\">11.1&nbsp;&nbsp;</span>setting a significance threshold : alpha = 0.05</a></div><div class=\"lev2 toc-item\"><a href=\"#Null-Hypothesis:\" data-toc-modified-id=\"Null-Hypothesis:-112\"><span class=\"toc-item-num\">11.2&nbsp;&nbsp;</span>Null Hypothesis:</a></div><div class=\"lev2 toc-item\"><a href=\"#test:-I-can-use-a-KS-or-AD-test\" data-toc-modified-id=\"test:-I-can-use-a-KS-or-AD-test-113\"><span class=\"toc-item-num\">11.3&nbsp;&nbsp;</span>test: I can use a KS or AD test</a></div><div class=\"lev3 toc-item\"><a href=\"#KS\" data-toc-modified-id=\"KS-1131\"><span class=\"toc-item-num\">11.3.1&nbsp;&nbsp;</span>KS</a></div><div class=\"lev1 toc-item\"><a href=\"#Overall-Conclusions\" data-toc-modified-id=\"Overall-Conclusions-12\"><span class=\"toc-item-num\">12&nbsp;&nbsp;</span>Overall Conclusions</a></div>"
   ]
  },
  {
   "cell_type": "markdown",
   "metadata": {
    "run_control": {
     "frozen": false,
     "read_only": false
    }
   },
   "source": [
    "##  Investigation of access to green as a function of socioeconomic status\n",
    "\n",
    "The NYC parks are inspected by the NYC parks department. \n",
    "\n",
    "Studies show that access to vegetation has positive physical and psychological health effects on citizens in urban environments (see for example [this study](https://journals.plos.org/plosone/article?id=10.1371/journal.pone.0153211), but access to green is generally uneven and possibly unequitably distributed. Often more vulnerable sections of the city population  have less access to natural resources.  See for example [this study](\n",
    "https://journals.plos.org/plosone/article?id=10.1371/journal.pone.0122051).\n",
    "Furthermore, in areas with higher crime and worse socioeconomic condition the condition of the green spaces may be worse.\n",
    "\n",
    "This analysis is designed explore how parks conditions relate to socioeconomic conditions in Brooklyn.\n",
    "\n",
    "First hint: the data download may take some time - Start downloading the data as soon as possible!\n",
    "\n"
   ]
  },
  {
   "cell_type": "markdown",
   "metadata": {
    "run_control": {
     "frozen": false,
     "read_only": false
    }
   },
   "source": [
    "## Objective: assessing equity in NYC greenery distribution by relating parks conditions to unemployment"
   ]
  },
  {
   "cell_type": "markdown",
   "metadata": {
    "run_control": {
     "frozen": false,
     "read_only": false
    }
   },
   "source": [
    "PLEASE SEE THE HINTS TO EACH TASK [here](https://docs.google.com/document/d/1a009HzGw_1j9dlqyD5Zg9aibUgpYmXMlJqiA5XUzZos/edit?usp=sharing) (no points loss for hints!)\n",
    "\n",
    "You will receive points for each of the marked deliverables, *and for your discussion of your findings*. \n",
    "\n",
    "### 1-6 are the data wrangling portion of the exercise, and are worth up to 60% of the points\n",
    "*In the data wrangling portion points are awarded for data processed so that they support the analysis in parts 5-10. This portion is likely going to be the most time consuming.*\n",
    "\n",
    "### 7-11 are the analysis portion of the exercise (including exploratory and visual analysis), and are worth up to 50% of the points \n",
    "*In the data analysis portion points are awarded for correct analysis, conclusions supported by the analysis *and expressed in full sentences*, and plots that support the analysis and conclusions.*\n",
    "\n",
    "*That sums up to 110%, but the maximum grate is reached at 100%. This means you have a better chance to get 100% on your test, and if you exceed 100% the rest will be accounted for as extra credit and help your cumulative score at the end of the semester.*\n",
    "\n",
    "## Data Wrangling (each task is 10% of the points)\n",
    "    1. Download 2015 tree census data data and subsample it to reduce it to a manageable size including only the Manhattan trees (solution for this step is available)\n",
    "\n",
    "    2. Download Download socioeconomic features: ACS 2016 race and ethnicity information for Manhattan aggregated at the Zipcode level (solution for this step is available). \n",
    " \n",
    "    3. Download a NYC (Mahnattan) ZIPCODE shapefile. \n",
    "    \n",
    "    4. Identify the column from the tree census file that describes health of trees.  What kind of variable is this? Remake the plot in step 1 colorcoding the trees by kind of problem. \n",
    "    \n",
    "    5.  Group the tree dataframe by zipcode and calculate theaverage tree health and number of trees per zipcode (solution for this step is available).\n",
    "    \n",
    "    6. Data aggregation task: join the zipcode geodataframe with the population diversity data and with the zipcode level tree statistics. Calculate the number of trees per person by zipcode (solution for this step is available).\n",
    "\n",
    "\n",
    "## Analysis (visual and quantitative)\n",
    "\n",
    "    7. Make a map for each of the variables: population diversity, number of trees per person, average tree health.\n",
    "   \n",
    "    8. Plot the distribution of trees per person, the tree health, and population diversity by zipcode\n",
    "\n",
    "    9. Assess which of these distributions is most consistent with a Gaussian.\n",
    "   \n",
    "    10. Measure correlation between number of trees per person and population diversity and between tree health and population diversity\n",
    "    \n",
    "    11. Based on the result in 10, choose either tree health or trees per person and assess if the distribution of this variable is consistent with the population diversity with a p-value based test.\n",
    "\n",
    "    \n",
    "    ExtraCredit:  A more appropriate analysis would be an analysis of the spatial correlation of these variables. Measure the spatial correlation of number of trees per person and/or of tree health with the population diversity"
   ]
  },
  {
   "cell_type": "code",
   "execution_count": 1,
   "metadata": {
    "ExecuteTime": {
     "end_time": "2018-11-15T19:47:18.261836Z",
     "start_time": "2018-11-15T19:47:17.032442Z"
    },
    "run_control": {
     "frozen": false,
     "read_only": false
    }
   },
   "outputs": [],
   "source": [
    "from __future__ import print_function, division\n",
    "import pandas as pd\n",
    "import os\n",
    "import requests\n",
    "import shapely\n",
    "import json\n",
    "import urllib\n",
    "from fiona.crs import from_epsg\n",
    "import scipy as sp\n",
    "from scipy import stats"
   ]
  },
  {
   "cell_type": "code",
   "execution_count": 2,
   "metadata": {
    "ExecuteTime": {
     "end_time": "2018-11-15T19:47:18.636560Z",
     "start_time": "2018-11-15T19:47:18.286295Z"
    },
    "run_control": {
     "frozen": false,
     "read_only": false
    }
   },
   "outputs": [
    {
     "name": "stdout",
     "output_type": "stream",
     "text": [
      "Populating the interactive namespace from numpy and matplotlib\n"
     ]
    }
   ],
   "source": [
    "import geopandas as gpd\n",
    "import pylab as pl\n",
    "import io\n",
    "import pylab as pl\n",
    "\n",
    "%pylab inline"
   ]
  },
  {
   "cell_type": "code",
   "execution_count": 3,
   "metadata": {
    "ExecuteTime": {
     "end_time": "2018-11-15T19:47:18.654643Z",
     "start_time": "2018-11-15T19:47:18.641246Z"
    },
    "run_control": {
     "frozen": false,
     "read_only": false
    }
   },
   "outputs": [],
   "source": [
    "from censusAPI import myAPI"
   ]
  },
  {
   "cell_type": "code",
   "execution_count": 33,
   "metadata": {
    "ExecuteTime": {
     "end_time": "2018-11-15T20:23:11.051329Z",
     "start_time": "2018-11-15T20:23:11.038688Z"
    }
   },
   "outputs": [],
   "source": [
    "import queryCarto as qc"
   ]
  },
  {
   "cell_type": "markdown",
   "metadata": {
    "run_control": {
     "frozen": false,
     "read_only": false
    }
   },
   "source": [
    "# Download park inspection data \n",
    "\n",
    "You can find the data on [NYC Open Data](https://data.cityofnewyork.us/dataset/Parks-Inspection-Program-Inspections/yg3y-7juh) or [here](https://www.nycgovparks.org/park-features/parks-inspection-program)\n",
    "\n",
    "Convert the \"Overall condition\" column to a numerical value. There are multiple inspections per park. Group the dataframe by park park id and get the mean condition for each park. \n",
    "\n",
    "_the deliverable is a table like the one below_\n",
    "\n",
    "You can find the solution [here](https://serv.cusp.nyu.edu/~fbianco/PUIdata/parksinspections.csv) - if you use this solution you will not get the 10 points for this deliverable (but you can go back later to this! and if you do get the solution later you will get the points!)\n",
    "\n",
    "[hints](https://docs.google.com/document/d/1G-jCVwpHKQNJTisN4btTKO7hpFz9CxvYva2H8vWGHC0/edit?usp=sharing)\n"
   ]
  },
  {
   "cell_type": "markdown",
   "metadata": {},
   "source": [
    "**Note:** all downloads need to be done within the notebook to be reproducible and if the data is pulled (as opposed to be read directly) it needs to be moved to the $PUIDATA directory"
   ]
  },
  {
   "cell_type": "markdown",
   "metadata": {},
   "source": [
    "### method  1\n",
    "\n",
    "The link given above is a link to a csv file, so I can read it directly"
   ]
  },
  {
   "cell_type": "code",
   "execution_count": 4,
   "metadata": {
    "ExecuteTime": {
     "end_time": "2018-11-15T19:55:12.831756Z",
     "start_time": "2018-11-15T19:55:03.294806Z"
    },
    "run_control": {
     "frozen": false,
     "marked": false,
     "read_only": false
    }
   },
   "outputs": [],
   "source": [
    "inspections = pd.read_csv(\"https://data.cityofnewyork.us/api/views/yg3y-7juh/rows.csv?accessType=DOWNLOAD\")"
   ]
  },
  {
   "cell_type": "code",
   "execution_count": 5,
   "metadata": {
    "ExecuteTime": {
     "end_time": "2018-11-15T19:55:12.958686Z",
     "start_time": "2018-11-15T19:55:12.858519Z"
    },
    "run_control": {
     "frozen": false,
     "read_only": false
    }
   },
   "outputs": [
    {
     "data": {
      "text/html": [
       "<div>\n",
       "<style scoped>\n",
       "    .dataframe tbody tr th:only-of-type {\n",
       "        vertical-align: middle;\n",
       "    }\n",
       "\n",
       "    .dataframe tbody tr th {\n",
       "        vertical-align: top;\n",
       "    }\n",
       "\n",
       "    .dataframe thead th {\n",
       "        text-align: right;\n",
       "    }\n",
       "</style>\n",
       "<table border=\"1\" class=\"dataframe\">\n",
       "  <thead>\n",
       "    <tr style=\"text-align: right;\">\n",
       "      <th></th>\n",
       "      <th>Prop ID</th>\n",
       "      <th>AMPSDistrict</th>\n",
       "      <th>Inspection ID</th>\n",
       "      <th>Season</th>\n",
       "      <th>Round</th>\n",
       "      <th>Date</th>\n",
       "      <th>BeginInspection</th>\n",
       "      <th>EndInspection</th>\n",
       "      <th>Inspection Year</th>\n",
       "      <th>inspector</th>\n",
       "      <th>inspector2</th>\n",
       "      <th>Overall Condition</th>\n",
       "      <th>Cleanliness</th>\n",
       "      <th>Safety Condition</th>\n",
       "      <th>Structural Condition</th>\n",
       "      <th>VisitorCount</th>\n",
       "      <th>Closed?</th>\n",
       "      <th>Comments</th>\n",
       "      <th>InspectionType</th>\n",
       "      <th>inspAddedDate</th>\n",
       "    </tr>\n",
       "  </thead>\n",
       "  <tbody>\n",
       "    <tr>\n",
       "      <th>0</th>\n",
       "      <td>Q066A</td>\n",
       "      <td>1</td>\n",
       "      <td>68214</td>\n",
       "      <td>Summer</td>\n",
       "      <td>1</td>\n",
       "      <td>05/24/2010 12:00:00 AM</td>\n",
       "      <td>12:30 PM</td>\n",
       "      <td>12:46 PM</td>\n",
       "      <td>2010</td>\n",
       "      <td>3</td>\n",
       "      <td>NaN</td>\n",
       "      <td>A</td>\n",
       "      <td>A</td>\n",
       "      <td>NaN</td>\n",
       "      <td>NaN</td>\n",
       "      <td>NaN</td>\n",
       "      <td>Under Construction.</td>\n",
       "      <td>Site closed for bridge maintenance, exterior r...</td>\n",
       "      <td>PIP</td>\n",
       "      <td>2010-05-24 14:40:00</td>\n",
       "    </tr>\n",
       "    <tr>\n",
       "      <th>1</th>\n",
       "      <td>QZ284</td>\n",
       "      <td>4</td>\n",
       "      <td>68220</td>\n",
       "      <td>Summer</td>\n",
       "      <td>1</td>\n",
       "      <td>05/24/2010 12:00:00 AM</td>\n",
       "      <td>11:45 AM</td>\n",
       "      <td>11:55 AM</td>\n",
       "      <td>2010</td>\n",
       "      <td>15</td>\n",
       "      <td>NaN</td>\n",
       "      <td>A</td>\n",
       "      <td>A</td>\n",
       "      <td>NaN</td>\n",
       "      <td>NaN</td>\n",
       "      <td>NaN</td>\n",
       "      <td>NaN</td>\n",
       "      <td>NaN</td>\n",
       "      <td>PIP</td>\n",
       "      <td>2010-05-24 14:56:00</td>\n",
       "    </tr>\n",
       "    <tr>\n",
       "      <th>2</th>\n",
       "      <td>Q121A</td>\n",
       "      <td>12</td>\n",
       "      <td>68227</td>\n",
       "      <td>Summer</td>\n",
       "      <td>1</td>\n",
       "      <td>05/24/2010 12:00:00 AM</td>\n",
       "      <td>11:05 AM</td>\n",
       "      <td>11:35 AM</td>\n",
       "      <td>2010</td>\n",
       "      <td>18</td>\n",
       "      <td>NaN</td>\n",
       "      <td>A</td>\n",
       "      <td>A</td>\n",
       "      <td>NaN</td>\n",
       "      <td>NaN</td>\n",
       "      <td>NaN</td>\n",
       "      <td>NaN</td>\n",
       "      <td>NaN</td>\n",
       "      <td>PIP</td>\n",
       "      <td>2010-05-24 15:23:00</td>\n",
       "    </tr>\n",
       "    <tr>\n",
       "      <th>3</th>\n",
       "      <td>Q301</td>\n",
       "      <td>12</td>\n",
       "      <td>68228</td>\n",
       "      <td>Summer</td>\n",
       "      <td>1</td>\n",
       "      <td>05/24/2010 12:00:00 AM</td>\n",
       "      <td>10:20 AM</td>\n",
       "      <td>10:54 AM</td>\n",
       "      <td>2010</td>\n",
       "      <td>18</td>\n",
       "      <td>NaN</td>\n",
       "      <td>U</td>\n",
       "      <td>U</td>\n",
       "      <td>NaN</td>\n",
       "      <td>NaN</td>\n",
       "      <td>NaN</td>\n",
       "      <td>NaN</td>\n",
       "      <td>NaN</td>\n",
       "      <td>PIP</td>\n",
       "      <td>2010-05-24 15:37:00</td>\n",
       "    </tr>\n",
       "    <tr>\n",
       "      <th>4</th>\n",
       "      <td>M196</td>\n",
       "      <td>3</td>\n",
       "      <td>68234</td>\n",
       "      <td>Summer</td>\n",
       "      <td>1</td>\n",
       "      <td>05/25/2010 12:00:00 AM</td>\n",
       "      <td>09:25 AM</td>\n",
       "      <td>09:37 AM</td>\n",
       "      <td>2010</td>\n",
       "      <td>6</td>\n",
       "      <td>NaN</td>\n",
       "      <td>A</td>\n",
       "      <td>A</td>\n",
       "      <td>NaN</td>\n",
       "      <td>NaN</td>\n",
       "      <td>NaN</td>\n",
       "      <td>Partial Constr./Rest of Site Rated.</td>\n",
       "      <td>Most of park closed for school repair.</td>\n",
       "      <td>PIP</td>\n",
       "      <td>2010-05-25 12:07:00</td>\n",
       "    </tr>\n",
       "  </tbody>\n",
       "</table>\n",
       "</div>"
      ],
      "text/plain": [
       "  Prop ID AMPSDistrict  Inspection ID  Season  Round                    Date  \\\n",
       "0   Q066A            1          68214  Summer      1  05/24/2010 12:00:00 AM   \n",
       "1   QZ284            4          68220  Summer      1  05/24/2010 12:00:00 AM   \n",
       "2   Q121A           12          68227  Summer      1  05/24/2010 12:00:00 AM   \n",
       "3    Q301           12          68228  Summer      1  05/24/2010 12:00:00 AM   \n",
       "4    M196            3          68234  Summer      1  05/25/2010 12:00:00 AM   \n",
       "\n",
       "  BeginInspection EndInspection  Inspection Year  inspector  inspector2  \\\n",
       "0        12:30 PM      12:46 PM             2010          3         NaN   \n",
       "1        11:45 AM      11:55 AM             2010         15         NaN   \n",
       "2        11:05 AM      11:35 AM             2010         18         NaN   \n",
       "3        10:20 AM      10:54 AM             2010         18         NaN   \n",
       "4        09:25 AM      09:37 AM             2010          6         NaN   \n",
       "\n",
       "  Overall Condition Cleanliness Safety Condition Structural Condition  \\\n",
       "0                 A           A              NaN                  NaN   \n",
       "1                 A           A              NaN                  NaN   \n",
       "2                 A           A              NaN                  NaN   \n",
       "3                 U           U              NaN                  NaN   \n",
       "4                 A           A              NaN                  NaN   \n",
       "\n",
       "   VisitorCount                              Closed?  \\\n",
       "0           NaN                  Under Construction.   \n",
       "1           NaN                                  NaN   \n",
       "2           NaN                                  NaN   \n",
       "3           NaN                                  NaN   \n",
       "4           NaN  Partial Constr./Rest of Site Rated.   \n",
       "\n",
       "                                            Comments InspectionType  \\\n",
       "0  Site closed for bridge maintenance, exterior r...            PIP   \n",
       "1                                                NaN            PIP   \n",
       "2                                                NaN            PIP   \n",
       "3                                                NaN            PIP   \n",
       "4             Most of park closed for school repair.            PIP   \n",
       "\n",
       "         inspAddedDate  \n",
       "0  2010-05-24 14:40:00  \n",
       "1  2010-05-24 14:56:00  \n",
       "2  2010-05-24 15:23:00  \n",
       "3  2010-05-24 15:37:00  \n",
       "4  2010-05-25 12:07:00  "
      ]
     },
     "execution_count": 5,
     "metadata": {},
     "output_type": "execute_result"
    }
   ],
   "source": [
    "inspections.head()"
   ]
  },
  {
   "cell_type": "code",
   "execution_count": 6,
   "metadata": {
    "ExecuteTime": {
     "end_time": "2018-11-15T19:55:13.117342Z",
     "start_time": "2018-11-15T19:55:12.970841Z"
    },
    "run_control": {
     "frozen": false,
     "read_only": false
    }
   },
   "outputs": [
    {
     "data": {
      "text/html": [
       "<div>\n",
       "<style scoped>\n",
       "    .dataframe tbody tr th:only-of-type {\n",
       "        vertical-align: middle;\n",
       "    }\n",
       "\n",
       "    .dataframe tbody tr th {\n",
       "        vertical-align: top;\n",
       "    }\n",
       "\n",
       "    .dataframe thead th {\n",
       "        text-align: right;\n",
       "    }\n",
       "</style>\n",
       "<table border=\"1\" class=\"dataframe\">\n",
       "  <thead>\n",
       "    <tr style=\"text-align: right;\">\n",
       "      <th></th>\n",
       "      <th>Prop ID</th>\n",
       "      <th>condition</th>\n",
       "    </tr>\n",
       "  </thead>\n",
       "  <tbody>\n",
       "    <tr>\n",
       "      <th>0</th>\n",
       "      <td>B001</td>\n",
       "      <td>0.794872</td>\n",
       "    </tr>\n",
       "    <tr>\n",
       "      <th>1</th>\n",
       "      <td>B002</td>\n",
       "      <td>0.523810</td>\n",
       "    </tr>\n",
       "    <tr>\n",
       "      <th>2</th>\n",
       "      <td>B003</td>\n",
       "      <td>1.000000</td>\n",
       "    </tr>\n",
       "    <tr>\n",
       "      <th>3</th>\n",
       "      <td>B006</td>\n",
       "      <td>1.000000</td>\n",
       "    </tr>\n",
       "    <tr>\n",
       "      <th>4</th>\n",
       "      <td>B007</td>\n",
       "      <td>-0.371429</td>\n",
       "    </tr>\n",
       "  </tbody>\n",
       "</table>\n",
       "</div>"
      ],
      "text/plain": [
       "  Prop ID  condition\n",
       "0    B001   0.794872\n",
       "1    B002   0.523810\n",
       "2    B003   1.000000\n",
       "3    B006   1.000000\n",
       "4    B007  -0.371429"
      ]
     },
     "execution_count": 6,
     "metadata": {},
     "output_type": "execute_result"
    }
   ],
   "source": [
    "#leave\n",
    "inspections[\"condition\"]  = inspections[\"Overall Condition\"].map({\"A\":1, \"N\":np.nan, \"U\":-1})\n",
    "parksinspection = inspections.groupby(\"Prop ID\").mean().reset_index()[[\"Prop ID\", \"condition\"]]\n",
    "parksinspection.head()                       "
   ]
  },
  {
   "cell_type": "markdown",
   "metadata": {},
   "source": [
    "### method  2 - download"
   ]
  },
  {
   "cell_type": "code",
   "execution_count": 8,
   "metadata": {
    "ExecuteTime": {
     "end_time": "2018-11-15T19:57:08.040606Z",
     "start_time": "2018-11-15T19:57:00.001410Z"
    }
   },
   "outputs": [
    {
     "name": "stdout",
     "output_type": "stream",
     "text": [
      "  % Total    % Received % Xferd  Average Speed   Time    Time     Time  Current\n",
      "                                 Dload  Upload   Total   Spent    Left  Speed\n",
      "100 12.8M    0 12.8M    0     0  1885k      0 --:--:--  0:00:07 --:--:-- 1878k\n"
     ]
    }
   ],
   "source": [
    "! curl https://data.cityofnewyork.us/api/views/yg3y-7juh/rows.csv?accessType=DOWNLOAD > $PUIDATA/inspections.csv\n",
    "    \n",
    "    "
   ]
  },
  {
   "cell_type": "code",
   "execution_count": 11,
   "metadata": {
    "ExecuteTime": {
     "end_time": "2018-11-15T19:58:14.281571Z",
     "start_time": "2018-11-15T19:58:13.509110Z"
    }
   },
   "outputs": [
    {
     "data": {
      "text/html": [
       "<div>\n",
       "<style scoped>\n",
       "    .dataframe tbody tr th:only-of-type {\n",
       "        vertical-align: middle;\n",
       "    }\n",
       "\n",
       "    .dataframe tbody tr th {\n",
       "        vertical-align: top;\n",
       "    }\n",
       "\n",
       "    .dataframe thead th {\n",
       "        text-align: right;\n",
       "    }\n",
       "</style>\n",
       "<table border=\"1\" class=\"dataframe\">\n",
       "  <thead>\n",
       "    <tr style=\"text-align: right;\">\n",
       "      <th></th>\n",
       "      <th>Prop ID</th>\n",
       "      <th>condition</th>\n",
       "    </tr>\n",
       "  </thead>\n",
       "  <tbody>\n",
       "    <tr>\n",
       "      <th>0</th>\n",
       "      <td>B001</td>\n",
       "      <td>0.794872</td>\n",
       "    </tr>\n",
       "    <tr>\n",
       "      <th>1</th>\n",
       "      <td>B002</td>\n",
       "      <td>0.523810</td>\n",
       "    </tr>\n",
       "    <tr>\n",
       "      <th>2</th>\n",
       "      <td>B003</td>\n",
       "      <td>1.000000</td>\n",
       "    </tr>\n",
       "    <tr>\n",
       "      <th>3</th>\n",
       "      <td>B006</td>\n",
       "      <td>1.000000</td>\n",
       "    </tr>\n",
       "    <tr>\n",
       "      <th>4</th>\n",
       "      <td>B007</td>\n",
       "      <td>-0.371429</td>\n",
       "    </tr>\n",
       "  </tbody>\n",
       "</table>\n",
       "</div>"
      ],
      "text/plain": [
       "  Prop ID  condition\n",
       "0    B001   0.794872\n",
       "1    B002   0.523810\n",
       "2    B003   1.000000\n",
       "3    B006   1.000000\n",
       "4    B007  -0.371429"
      ]
     },
     "execution_count": 11,
     "metadata": {},
     "output_type": "execute_result"
    }
   ],
   "source": [
    "inspections = pd.read_csv(os.getenv(\"PUIDATA\") + \"/inspections.csv\")\n",
    "#leave\n",
    "inspections[\"condition\"]  = inspections[\"Overall Condition\"].map({\"A\":1, \"N\":np.nan, \"U\":-1})\n",
    "parksinspection = inspections.groupby(\"Prop ID\").mean().reset_index()[[\"Prop ID\", \"condition\"]]\n",
    "parksinspection.head()                       "
   ]
  },
  {
   "cell_type": "raw",
   "metadata": {},
   "source": [
    "# this is the data I saved to provide a solution\n",
    "parksinspection.to_csv(\"parksinspections.csv\")"
   ]
  },
  {
   "cell_type": "markdown",
   "metadata": {
    "run_control": {
     "frozen": false,
     "read_only": false
    }
   },
   "source": [
    "# Download parks shapefile for the NYC Open Data data. \n",
    "\n",
    "Data can be accessed from the NYC data portal [here](https://data.cityofnewyork.us/City-Government/Parks-Properties/k2ya-ucmv)\n",
    "\n",
    "\n",
    "Note that the file will take some time to read! Start the download right away and then go back to the instructions. \n",
    "\n",
    "(Don't forget to move the file to $PUIDATA!)\n",
    " \n",
    "\n",
    "Extract the Brooklyn park properties  from this file and merge it with the inspection data. plot the parks colorcoded by condition.\n",
    "\n",
    "Note that this step is not essential to the rest of the notebook. If you cannot do this you can still move on to the following tasks.\n",
    "\n",
    "_Deliverable: a map like the one below._\n",
    "\n",
    "[hints](https://docs.google.com/document/d/1LprYegmew6uVnw1nFOzAAMw5nVCJko0zgdnjEDpyisg/edit?usp=sharing)"
   ]
  },
  {
   "cell_type": "markdown",
   "metadata": {},
   "source": [
    "This is a shapefile and I am given the link, so I do need to download it directly : the actual link I need is obtained right-clicking on the appropriate format under the Export menu\n",
    "![alt text](2_link1.png)"
   ]
  },
  {
   "cell_type": "markdown",
   "metadata": {},
   "source": [
    "This way to download data from NYC open data is not strictly \"reproducible\"\n",
    "since every time a file set is packaged this way the name is different (geo_export_...) I am ok with this tho for PUI"
   ]
  },
  {
   "cell_type": "code",
   "execution_count": 8,
   "metadata": {
    "ExecuteTime": {
     "end_time": "2018-11-15T07:37:03.469169Z",
     "start_time": "2018-11-15T07:37:01.668135Z"
    },
    "run_control": {
     "frozen": false,
     "read_only": false
    }
   },
   "outputs": [
    {
     "name": "stdout",
     "output_type": "stream",
     "text": [
      "Archive:  file.gz\n",
      "  inflating: /Users/fbb/Dropbox//UI/PUIdata/geo_export_f65c54fc-b5ec-4324-a0d6-0362aea54edd.dbf  \n",
      "  inflating: /Users/fbb/Dropbox//UI/PUIdata/geo_export_f65c54fc-b5ec-4324-a0d6-0362aea54edd.shp  \n",
      "  inflating: /Users/fbb/Dropbox//UI/PUIdata/geo_export_f65c54fc-b5ec-4324-a0d6-0362aea54edd.shx  \n",
      "  inflating: /Users/fbb/Dropbox//UI/PUIdata/geo_export_f65c54fc-b5ec-4324-a0d6-0362aea54edd.prj  \n"
     ]
    }
   ],
   "source": [
    "url = \"https://data.cityofnewyork.us/api/geospatial/k2ya-ucmv?method=export&format=Shapefile\"\n",
    "urllib.request.urlretrieve(url, \"file.gz\")\n",
    "!unzip -d $PUIDATA file.gz"
   ]
  },
  {
   "cell_type": "markdown",
   "metadata": {},
   "source": [
    "A better solution:"
   ]
  },
  {
   "cell_type": "code",
   "execution_count": 12,
   "metadata": {
    "ExecuteTime": {
     "end_time": "2018-11-15T20:02:21.592618Z",
     "start_time": "2018-11-15T20:02:19.173557Z"
    }
   },
   "outputs": [
    {
     "name": "stdout",
     "output_type": "stream",
     "text": [
      "Archive:  file.gz\n",
      "  inflating: /Users/fbb/Dropbox//UI/PUIdata/parksfiles/geo_export_4f37387d-0c7f-4225-8348-af61a2dd7ff5.dbf  \n",
      "  inflating: /Users/fbb/Dropbox//UI/PUIdata/parksfiles/geo_export_4f37387d-0c7f-4225-8348-af61a2dd7ff5.shp  \n",
      "  inflating: /Users/fbb/Dropbox//UI/PUIdata/parksfiles/geo_export_4f37387d-0c7f-4225-8348-af61a2dd7ff5.shx  \n",
      "  inflating: /Users/fbb/Dropbox//UI/PUIdata/parksfiles/geo_export_4f37387d-0c7f-4225-8348-af61a2dd7ff5.prj  \n"
     ]
    }
   ],
   "source": [
    "url = \"https://data.cityofnewyork.us/api/geospatial/k2ya-ucmv?method=export&format=Shapefile\"\n",
    "urllib.request.urlretrieve(url, \"file.gz\")\n",
    "!mkdir $PUIDATA/parksfiles\n",
    "!unzip -d $PUIDATA/parksfiles file.gz"
   ]
  },
  {
   "cell_type": "code",
   "execution_count": 17,
   "metadata": {
    "ExecuteTime": {
     "end_time": "2018-11-15T20:04:34.607103Z",
     "start_time": "2018-11-15T20:04:33.204174Z"
    },
    "run_control": {
     "frozen": false,
     "read_only": false
    }
   },
   "outputs": [
    {
     "data": {
      "text/plain": [
       "(2007, 36)"
      ]
     },
     "execution_count": 17,
     "metadata": {},
     "output_type": "execute_result"
    }
   ],
   "source": [
    "\n",
    "parks = gpd.GeoDataFrame.from_file(glob.glob(os.getenv(\"PUIDATA\") + \n",
    "                                   \"/parksfiles/geo_export_*.shp\")[0])\n",
    "\n",
    "#leave\n",
    "parks.shape"
   ]
  },
  {
   "cell_type": "code",
   "execution_count": 18,
   "metadata": {
    "ExecuteTime": {
     "end_time": "2018-11-15T20:04:36.176081Z",
     "start_time": "2018-11-15T20:04:35.946994Z"
    },
    "run_control": {
     "frozen": false,
     "read_only": false
    }
   },
   "outputs": [
    {
     "data": {
      "text/html": [
       "<div>\n",
       "<style scoped>\n",
       "    .dataframe tbody tr th:only-of-type {\n",
       "        vertical-align: middle;\n",
       "    }\n",
       "\n",
       "    .dataframe tbody tr th {\n",
       "        vertical-align: top;\n",
       "    }\n",
       "\n",
       "    .dataframe thead th {\n",
       "        text-align: right;\n",
       "    }\n",
       "</style>\n",
       "<table border=\"1\" class=\"dataframe\">\n",
       "  <thead>\n",
       "    <tr style=\"text-align: right;\">\n",
       "      <th></th>\n",
       "      <th>acquisitio</th>\n",
       "      <th>acres</th>\n",
       "      <th>address</th>\n",
       "      <th>borough</th>\n",
       "      <th>class</th>\n",
       "      <th>commission</th>\n",
       "      <th>communityb</th>\n",
       "      <th>councildis</th>\n",
       "      <th>department</th>\n",
       "      <th>eapply</th>\n",
       "      <th>...</th>\n",
       "      <th>precinct</th>\n",
       "      <th>retired</th>\n",
       "      <th>signname</th>\n",
       "      <th>subcategor</th>\n",
       "      <th>typecatego</th>\n",
       "      <th>url</th>\n",
       "      <th>us_congres</th>\n",
       "      <th>waterfront</th>\n",
       "      <th>zipcode</th>\n",
       "      <th>geometry</th>\n",
       "    </tr>\n",
       "  </thead>\n",
       "  <tbody>\n",
       "    <tr>\n",
       "      <th>0</th>\n",
       "      <td>19440801000000.00000</td>\n",
       "      <td>0.991</td>\n",
       "      <td>None</td>\n",
       "      <td>M</td>\n",
       "      <td>PLGD</td>\n",
       "      <td>20100106000000.00000</td>\n",
       "      <td>111</td>\n",
       "      <td>9</td>\n",
       "      <td>M-11</td>\n",
       "      <td>Abraham Lincoln Playground</td>\n",
       "      <td>...</td>\n",
       "      <td>25</td>\n",
       "      <td>False</td>\n",
       "      <td>Abraham Lincoln Playground</td>\n",
       "      <td>Neighborhood Plgd</td>\n",
       "      <td>Community Park</td>\n",
       "      <td>http://www.nycgovparks.org/parks/M193/</td>\n",
       "      <td>13</td>\n",
       "      <td>No</td>\n",
       "      <td>10037</td>\n",
       "      <td>POLYGON ((-73.93682693707335 40.81184552631012...</td>\n",
       "    </tr>\n",
       "    <tr>\n",
       "      <th>1</th>\n",
       "      <td>None</td>\n",
       "      <td>0.030</td>\n",
       "      <td>None</td>\n",
       "      <td>Q</td>\n",
       "      <td>PARK</td>\n",
       "      <td>20090423000000.00000</td>\n",
       "      <td>413</td>\n",
       "      <td>23</td>\n",
       "      <td>Q-13</td>\n",
       "      <td>Father Reilly Square</td>\n",
       "      <td>...</td>\n",
       "      <td>105</td>\n",
       "      <td>False</td>\n",
       "      <td>Father Reilly Square</td>\n",
       "      <td>Sitting Area/Triangle/Mall</td>\n",
       "      <td>Triangle/Plaza</td>\n",
       "      <td>http://www.nycgovparks.org/parks/Q159/</td>\n",
       "      <td>5</td>\n",
       "      <td>No</td>\n",
       "      <td>11428</td>\n",
       "      <td>POLYGON ((-73.73628053979716 40.72267578865961...</td>\n",
       "    </tr>\n",
       "    <tr>\n",
       "      <th>2</th>\n",
       "      <td>19360824000000.00000</td>\n",
       "      <td>0.911</td>\n",
       "      <td>2300 Ryer Avenue</td>\n",
       "      <td>X</td>\n",
       "      <td>PARK</td>\n",
       "      <td>20100106000000.00000</td>\n",
       "      <td>205</td>\n",
       "      <td>15</td>\n",
       "      <td>X-05</td>\n",
       "      <td>Slattery Playground</td>\n",
       "      <td>...</td>\n",
       "      <td>46</td>\n",
       "      <td>False</td>\n",
       "      <td>Slattery Playground</td>\n",
       "      <td>Neighborhood Plgd</td>\n",
       "      <td>Playground</td>\n",
       "      <td>http://www.nycgovparks.org/parks/X085/</td>\n",
       "      <td>15</td>\n",
       "      <td>No</td>\n",
       "      <td>10458</td>\n",
       "      <td>POLYGON ((-73.89825077067158 40.85693358482933...</td>\n",
       "    </tr>\n",
       "    <tr>\n",
       "      <th>3</th>\n",
       "      <td>19520206000000.00000</td>\n",
       "      <td>0.189</td>\n",
       "      <td>349 RODNEY STREET</td>\n",
       "      <td>B</td>\n",
       "      <td>PARK</td>\n",
       "      <td>20100106000000.00000</td>\n",
       "      <td>301</td>\n",
       "      <td>34</td>\n",
       "      <td>B-01</td>\n",
       "      <td>Rodney Playground Center</td>\n",
       "      <td>...</td>\n",
       "      <td>90</td>\n",
       "      <td>False</td>\n",
       "      <td>Rodney Playground Center</td>\n",
       "      <td>Sitting Area/Triangle/Mall</td>\n",
       "      <td>Neighborhood Park</td>\n",
       "      <td>http://www.nycgovparks.org/parks/B223PD/</td>\n",
       "      <td>7</td>\n",
       "      <td>No</td>\n",
       "      <td>11211</td>\n",
       "      <td>POLYGON ((-73.95533291494969 40.71042213200856...</td>\n",
       "    </tr>\n",
       "    <tr>\n",
       "      <th>4</th>\n",
       "      <td>19240403000000.00000</td>\n",
       "      <td>0.554</td>\n",
       "      <td>124 11 STREET</td>\n",
       "      <td>B</td>\n",
       "      <td>PARK</td>\n",
       "      <td>20110712000000.00000</td>\n",
       "      <td>306</td>\n",
       "      <td>39</td>\n",
       "      <td>B-06</td>\n",
       "      <td>Ennis Playground</td>\n",
       "      <td>...</td>\n",
       "      <td>78</td>\n",
       "      <td>False</td>\n",
       "      <td>Ennis Playground</td>\n",
       "      <td>Neighborhood Plgd</td>\n",
       "      <td>Playground</td>\n",
       "      <td>http://www.nycgovparks.org/parks/B095/</td>\n",
       "      <td>7</td>\n",
       "      <td>No</td>\n",
       "      <td>11215</td>\n",
       "      <td>POLYGON ((-73.99424820391394 40.67057586455565...</td>\n",
       "    </tr>\n",
       "  </tbody>\n",
       "</table>\n",
       "<p>5 rows × 36 columns</p>\n",
       "</div>"
      ],
      "text/plain": [
       "             acquisitio  acres            address borough class  \\\n",
       "0  19440801000000.00000  0.991               None       M  PLGD   \n",
       "1                  None  0.030               None       Q  PARK   \n",
       "2  19360824000000.00000  0.911   2300 Ryer Avenue       X  PARK   \n",
       "3  19520206000000.00000  0.189  349 RODNEY STREET       B  PARK   \n",
       "4  19240403000000.00000  0.554      124 11 STREET       B  PARK   \n",
       "\n",
       "             commission communityb councildis department  \\\n",
       "0  20100106000000.00000        111          9       M-11   \n",
       "1  20090423000000.00000        413         23       Q-13   \n",
       "2  20100106000000.00000        205         15       X-05   \n",
       "3  20100106000000.00000        301         34       B-01   \n",
       "4  20110712000000.00000        306         39       B-06   \n",
       "\n",
       "                       eapply  \\\n",
       "0  Abraham Lincoln Playground   \n",
       "1        Father Reilly Square   \n",
       "2         Slattery Playground   \n",
       "3    Rodney Playground Center   \n",
       "4            Ennis Playground   \n",
       "\n",
       "                         ...                          precinct retired  \\\n",
       "0                        ...                                25   False   \n",
       "1                        ...                               105   False   \n",
       "2                        ...                                46   False   \n",
       "3                        ...                                90   False   \n",
       "4                        ...                                78   False   \n",
       "\n",
       "                     signname                  subcategor         typecatego  \\\n",
       "0  Abraham Lincoln Playground           Neighborhood Plgd     Community Park   \n",
       "1        Father Reilly Square  Sitting Area/Triangle/Mall     Triangle/Plaza   \n",
       "2         Slattery Playground           Neighborhood Plgd         Playground   \n",
       "3    Rodney Playground Center  Sitting Area/Triangle/Mall  Neighborhood Park   \n",
       "4            Ennis Playground           Neighborhood Plgd         Playground   \n",
       "\n",
       "                                        url us_congres waterfront zipcode  \\\n",
       "0    http://www.nycgovparks.org/parks/M193/         13         No   10037   \n",
       "1    http://www.nycgovparks.org/parks/Q159/          5         No   11428   \n",
       "2    http://www.nycgovparks.org/parks/X085/         15         No   10458   \n",
       "3  http://www.nycgovparks.org/parks/B223PD/          7         No   11211   \n",
       "4    http://www.nycgovparks.org/parks/B095/          7         No   11215   \n",
       "\n",
       "                                            geometry  \n",
       "0  POLYGON ((-73.93682693707335 40.81184552631012...  \n",
       "1  POLYGON ((-73.73628053979716 40.72267578865961...  \n",
       "2  POLYGON ((-73.89825077067158 40.85693358482933...  \n",
       "3  POLYGON ((-73.95533291494969 40.71042213200856...  \n",
       "4  POLYGON ((-73.99424820391394 40.67057586455565...  \n",
       "\n",
       "[5 rows x 36 columns]"
      ]
     },
     "execution_count": 18,
     "metadata": {},
     "output_type": "execute_result"
    }
   ],
   "source": [
    "parks.head()"
   ]
  },
  {
   "cell_type": "markdown",
   "metadata": {
    "ExecuteTime": {
     "end_time": "2018-11-15T07:39:18.938263Z",
     "start_time": "2018-11-15T07:39:18.926849Z"
    },
    "run_control": {
     "frozen": false,
     "read_only": false
    }
   },
   "source": [
    "**looking for a column describing borough to exctract Brooklyn (BK)**"
   ]
  },
  {
   "cell_type": "code",
   "execution_count": 19,
   "metadata": {
    "ExecuteTime": {
     "end_time": "2018-11-15T20:04:51.036903Z",
     "start_time": "2018-11-15T20:04:51.019596Z"
    },
    "run_control": {
     "frozen": false,
     "read_only": false
    }
   },
   "outputs": [],
   "source": [
    "bkParks = parks[parks[\"borough\"] == 'B']\n"
   ]
  },
  {
   "cell_type": "code",
   "execution_count": 20,
   "metadata": {
    "ExecuteTime": {
     "end_time": "2018-11-15T20:04:51.845488Z",
     "start_time": "2018-11-15T20:04:51.833253Z"
    },
    "run_control": {
     "frozen": false,
     "read_only": false
    }
   },
   "outputs": [
    {
     "data": {
      "text/plain": [
       "(608, 36)"
      ]
     },
     "execution_count": 20,
     "metadata": {},
     "output_type": "execute_result"
    }
   ],
   "source": [
    "bkParks.shape"
   ]
  },
  {
   "cell_type": "code",
   "execution_count": 21,
   "metadata": {
    "ExecuteTime": {
     "end_time": "2018-11-15T20:04:58.395932Z",
     "start_time": "2018-11-15T20:04:54.368468Z"
    },
    "run_control": {
     "frozen": false,
     "read_only": false
    }
   },
   "outputs": [
    {
     "data": {
      "image/png": "[encoded data removed]",
      "text/plain": [
       "<Figure size 720x720 with 1 Axes>"
      ]
     },
     "metadata": {},
     "output_type": "display_data"
    }
   ],
   "source": [
    "ax = bkParks.plot(color=\"g\", edgecolor=\"k\", figsize=(10,10))\n",
    "ax.set_ylabel(\"latitude\", fontsize=20)\n",
    "ax.set_xlabel(\"longitude\", fontsize=20);\n"
   ]
  },
  {
   "cell_type": "markdown",
   "metadata": {
    "run_control": {
     "frozen": false,
     "read_only": false
    }
   },
   "source": [
    "**Figure 1:** Brooklyn Park Properties: the plant of all properties managed by the NYC parks department is shown in green. In addition to large park properties like Prospect Park (in central Brooklyn) several small properties are located across the entire Borough."
   ]
  },
  {
   "cell_type": "code",
   "execution_count": 23,
   "metadata": {
    "ExecuteTime": {
     "end_time": "2018-11-15T20:05:42.295284Z",
     "start_time": "2018-11-15T20:05:42.275620Z"
    },
    "run_control": {
     "frozen": false,
     "read_only": false
    }
   },
   "outputs": [
    {
     "data": {
      "text/plain": [
       "{'init': 'epsg:4326'}"
      ]
     },
     "execution_count": 23,
     "metadata": {},
     "output_type": "execute_result"
    }
   ],
   "source": [
    "# checking coordinates system is in place\n",
    "bkParks.crs"
   ]
  },
  {
   "cell_type": "code",
   "execution_count": 24,
   "metadata": {
    "ExecuteTime": {
     "end_time": "2018-11-15T20:05:45.385225Z",
     "start_time": "2018-11-15T20:05:45.269034Z"
    },
    "run_control": {
     "frozen": false,
     "read_only": false
    }
   },
   "outputs": [
    {
     "data": {
      "text/html": [
       "<div>\n",
       "<style scoped>\n",
       "    .dataframe tbody tr th:only-of-type {\n",
       "        vertical-align: middle;\n",
       "    }\n",
       "\n",
       "    .dataframe tbody tr th {\n",
       "        vertical-align: top;\n",
       "    }\n",
       "\n",
       "    .dataframe thead th {\n",
       "        text-align: right;\n",
       "    }\n",
       "</style>\n",
       "<table border=\"1\" class=\"dataframe\">\n",
       "  <thead>\n",
       "    <tr style=\"text-align: right;\">\n",
       "      <th></th>\n",
       "      <th>acquisitio</th>\n",
       "      <th>acres</th>\n",
       "      <th>address</th>\n",
       "      <th>borough</th>\n",
       "      <th>class</th>\n",
       "      <th>commission</th>\n",
       "      <th>communityb</th>\n",
       "      <th>councildis</th>\n",
       "      <th>department</th>\n",
       "      <th>eapply</th>\n",
       "      <th>...</th>\n",
       "      <th>precinct</th>\n",
       "      <th>retired</th>\n",
       "      <th>signname</th>\n",
       "      <th>subcategor</th>\n",
       "      <th>typecatego</th>\n",
       "      <th>url</th>\n",
       "      <th>us_congres</th>\n",
       "      <th>waterfront</th>\n",
       "      <th>zipcode</th>\n",
       "      <th>geometry</th>\n",
       "    </tr>\n",
       "  </thead>\n",
       "  <tbody>\n",
       "    <tr>\n",
       "      <th>3</th>\n",
       "      <td>19520206000000.00000</td>\n",
       "      <td>0.189</td>\n",
       "      <td>349 RODNEY STREET</td>\n",
       "      <td>B</td>\n",
       "      <td>PARK</td>\n",
       "      <td>20100106000000.00000</td>\n",
       "      <td>301</td>\n",
       "      <td>34</td>\n",
       "      <td>B-01</td>\n",
       "      <td>Rodney Playground Center</td>\n",
       "      <td>...</td>\n",
       "      <td>90</td>\n",
       "      <td>False</td>\n",
       "      <td>Rodney Playground Center</td>\n",
       "      <td>Sitting Area/Triangle/Mall</td>\n",
       "      <td>Neighborhood Park</td>\n",
       "      <td>http://www.nycgovparks.org/parks/B223PD/</td>\n",
       "      <td>7</td>\n",
       "      <td>No</td>\n",
       "      <td>11211</td>\n",
       "      <td>POLYGON ((-73.95533291494969 40.71042213200856...</td>\n",
       "    </tr>\n",
       "    <tr>\n",
       "      <th>4</th>\n",
       "      <td>19240403000000.00000</td>\n",
       "      <td>0.554</td>\n",
       "      <td>124 11 STREET</td>\n",
       "      <td>B</td>\n",
       "      <td>PARK</td>\n",
       "      <td>20110712000000.00000</td>\n",
       "      <td>306</td>\n",
       "      <td>39</td>\n",
       "      <td>B-06</td>\n",
       "      <td>Ennis Playground</td>\n",
       "      <td>...</td>\n",
       "      <td>78</td>\n",
       "      <td>False</td>\n",
       "      <td>Ennis Playground</td>\n",
       "      <td>Neighborhood Plgd</td>\n",
       "      <td>Playground</td>\n",
       "      <td>http://www.nycgovparks.org/parks/B095/</td>\n",
       "      <td>7</td>\n",
       "      <td>No</td>\n",
       "      <td>11215</td>\n",
       "      <td>POLYGON ((-73.99424820391394 40.67057586455565...</td>\n",
       "    </tr>\n",
       "    <tr>\n",
       "      <th>5</th>\n",
       "      <td>19380606000000.00000</td>\n",
       "      <td>0.036</td>\n",
       "      <td>None</td>\n",
       "      <td>B</td>\n",
       "      <td>PARK</td>\n",
       "      <td>20100106000000.00000</td>\n",
       "      <td>301</td>\n",
       "      <td>33</td>\n",
       "      <td>B-01</td>\n",
       "      <td>Pvt. Sonsire Triangle</td>\n",
       "      <td>...</td>\n",
       "      <td>94</td>\n",
       "      <td>False</td>\n",
       "      <td>Pvt. Sonsire Triangle</td>\n",
       "      <td>Sitting Area/Triangle/Mall</td>\n",
       "      <td>Triangle/Plaza</td>\n",
       "      <td>http://www.nycgovparks.org/parks/B196/</td>\n",
       "      <td>12</td>\n",
       "      <td>No</td>\n",
       "      <td>11211</td>\n",
       "      <td>POLYGON ((-73.95241848162225 40.71828618172859...</td>\n",
       "    </tr>\n",
       "    <tr>\n",
       "      <th>8</th>\n",
       "      <td>19550127000000.00000</td>\n",
       "      <td>1.210</td>\n",
       "      <td>9920 SEAVIEW AVENUE</td>\n",
       "      <td>B</td>\n",
       "      <td>PARK</td>\n",
       "      <td>20100106000000.00000</td>\n",
       "      <td>318</td>\n",
       "      <td>46</td>\n",
       "      <td>B-18</td>\n",
       "      <td>Bayview Playground (PS 272)</td>\n",
       "      <td>...</td>\n",
       "      <td>69</td>\n",
       "      <td>False</td>\n",
       "      <td>Bayview Playground</td>\n",
       "      <td>JOP</td>\n",
       "      <td>Jointly Operated Playground</td>\n",
       "      <td>http://www.nycgovparks.org/parks/B274/</td>\n",
       "      <td>8</td>\n",
       "      <td>No</td>\n",
       "      <td>11236</td>\n",
       "      <td>POLYGON ((-73.88605616693891 40.63518371430879...</td>\n",
       "    </tr>\n",
       "    <tr>\n",
       "      <th>9</th>\n",
       "      <td>19340626000000.00000</td>\n",
       "      <td>0.567</td>\n",
       "      <td>358 SCHERMERHORN STREET</td>\n",
       "      <td>B</td>\n",
       "      <td>PARK</td>\n",
       "      <td>20100106000000.00000</td>\n",
       "      <td>302</td>\n",
       "      <td>33</td>\n",
       "      <td>B-02</td>\n",
       "      <td>Sixteen Sycamores Playground</td>\n",
       "      <td>...</td>\n",
       "      <td>84</td>\n",
       "      <td>False</td>\n",
       "      <td>Sixteen Sycamores Playground</td>\n",
       "      <td>Neighborhood Plgd</td>\n",
       "      <td>Playground</td>\n",
       "      <td>http://www.nycgovparks.org/parks/B137/</td>\n",
       "      <td>8</td>\n",
       "      <td>No</td>\n",
       "      <td>11217</td>\n",
       "      <td>POLYGON ((-73.9811229077025 40.68694745390135,...</td>\n",
       "    </tr>\n",
       "  </tbody>\n",
       "</table>\n",
       "<p>5 rows × 36 columns</p>\n",
       "</div>"
      ],
      "text/plain": [
       "             acquisitio  acres                  address borough class  \\\n",
       "3  19520206000000.00000  0.189        349 RODNEY STREET       B  PARK   \n",
       "4  19240403000000.00000  0.554            124 11 STREET       B  PARK   \n",
       "5  19380606000000.00000  0.036                     None       B  PARK   \n",
       "8  19550127000000.00000  1.210      9920 SEAVIEW AVENUE       B  PARK   \n",
       "9  19340626000000.00000  0.567  358 SCHERMERHORN STREET       B  PARK   \n",
       "\n",
       "             commission communityb councildis department  \\\n",
       "3  20100106000000.00000        301         34       B-01   \n",
       "4  20110712000000.00000        306         39       B-06   \n",
       "5  20100106000000.00000        301         33       B-01   \n",
       "8  20100106000000.00000        318         46       B-18   \n",
       "9  20100106000000.00000        302         33       B-02   \n",
       "\n",
       "                         eapply  \\\n",
       "3      Rodney Playground Center   \n",
       "4              Ennis Playground   \n",
       "5         Pvt. Sonsire Triangle   \n",
       "8   Bayview Playground (PS 272)   \n",
       "9  Sixteen Sycamores Playground   \n",
       "\n",
       "                         ...                          precinct retired  \\\n",
       "3                        ...                                90   False   \n",
       "4                        ...                                78   False   \n",
       "5                        ...                                94   False   \n",
       "8                        ...                                69   False   \n",
       "9                        ...                                84   False   \n",
       "\n",
       "                       signname                  subcategor  \\\n",
       "3      Rodney Playground Center  Sitting Area/Triangle/Mall   \n",
       "4              Ennis Playground           Neighborhood Plgd   \n",
       "5         Pvt. Sonsire Triangle  Sitting Area/Triangle/Mall   \n",
       "8            Bayview Playground                         JOP   \n",
       "9  Sixteen Sycamores Playground           Neighborhood Plgd   \n",
       "\n",
       "                    typecatego                                       url  \\\n",
       "3            Neighborhood Park  http://www.nycgovparks.org/parks/B223PD/   \n",
       "4                   Playground    http://www.nycgovparks.org/parks/B095/   \n",
       "5               Triangle/Plaza    http://www.nycgovparks.org/parks/B196/   \n",
       "8  Jointly Operated Playground    http://www.nycgovparks.org/parks/B274/   \n",
       "9                   Playground    http://www.nycgovparks.org/parks/B137/   \n",
       "\n",
       "  us_congres waterfront zipcode  \\\n",
       "3          7         No   11211   \n",
       "4          7         No   11215   \n",
       "5         12         No   11211   \n",
       "8          8         No   11236   \n",
       "9          8         No   11217   \n",
       "\n",
       "                                            geometry  \n",
       "3  POLYGON ((-73.95533291494969 40.71042213200856...  \n",
       "4  POLYGON ((-73.99424820391394 40.67057586455565...  \n",
       "5  POLYGON ((-73.95241848162225 40.71828618172859...  \n",
       "8  POLYGON ((-73.88605616693891 40.63518371430879...  \n",
       "9  POLYGON ((-73.9811229077025 40.68694745390135,...  \n",
       "\n",
       "[5 rows x 36 columns]"
      ]
     },
     "execution_count": 24,
     "metadata": {},
     "output_type": "execute_result"
    }
   ],
   "source": [
    "bkParks.head()"
   ]
  },
  {
   "cell_type": "markdown",
   "metadata": {
    "ExecuteTime": {
     "end_time": "2018-11-15T07:40:47.163791Z",
     "start_time": "2018-11-15T07:40:47.154783Z"
    },
    "run_control": {
     "frozen": false,
     "read_only": false
    }
   },
   "source": [
    "**Merging with park condition file**\n",
    "\n",
    "I need to find a column that has the same identifier for the two files. This is tricky! and its tricky due to sub-excellent data management issues: the parks names are not fully consistent."
   ]
  },
  {
   "cell_type": "code",
   "execution_count": 25,
   "metadata": {
    "ExecuteTime": {
     "end_time": "2018-11-15T20:07:48.787382Z",
     "start_time": "2018-11-15T20:07:48.770743Z"
    },
    "run_control": {
     "frozen": false,
     "read_only": false
    }
   },
   "outputs": [
    {
     "data": {
      "text/plain": [
       "array(['B001', 'B002', 'B003', ..., 'XZ96', 'XZ97', 'XZ99'], dtype=object)"
      ]
     },
     "execution_count": 25,
     "metadata": {},
     "output_type": "execute_result"
    }
   ],
   "source": [
    "parksinspection[\"Prop ID\"].unique()"
   ]
  },
  {
   "cell_type": "code",
   "execution_count": 26,
   "metadata": {
    "ExecuteTime": {
     "end_time": "2018-11-15T20:07:50.639854Z",
     "start_time": "2018-11-15T20:07:50.619994Z"
    },
    "run_control": {
     "frozen": false,
     "read_only": false
    }
   },
   "outputs": [
    {
     "data": {
      "text/plain": [
       "Index(['acquisitio', 'acres', 'address', 'borough', 'class', 'commission',\n",
       "       'communityb', 'councildis', 'department', 'eapply', 'gisobjid',\n",
       "       'gispropnum', 'global_id', 'jurisdicti', 'location', 'mapped',\n",
       "       'name311', 'nys_assemb', 'nys_senate', 'objectid', 'omppropid',\n",
       "       'parentid', 'permit', 'permitdist', 'permitpare', 'pip_ratabl',\n",
       "       'precinct', 'retired', 'signname', 'subcategor', 'typecatego', 'url',\n",
       "       'us_congres', 'waterfront', 'zipcode', 'geometry'],\n",
       "      dtype='object')"
      ]
     },
     "execution_count": 26,
     "metadata": {},
     "output_type": "execute_result"
    }
   ],
   "source": [
    "bkParks.columns"
   ]
  },
  {
   "cell_type": "markdown",
   "metadata": {},
   "source": [
    "There are many columns! I dont want to miss anything so I will have to see the top of the file for each"
   ]
  },
  {
   "cell_type": "code",
   "execution_count": 23,
   "metadata": {
    "ExecuteTime": {
     "end_time": "2018-11-15T07:42:13.389433Z",
     "start_time": "2018-11-15T07:42:13.354114Z"
    },
    "run_control": {
     "frozen": false,
     "read_only": false
    }
   },
   "outputs": [
    {
     "data": {
      "text/html": [
       "<div>\n",
       "<style scoped>\n",
       "    .dataframe tbody tr th:only-of-type {\n",
       "        vertical-align: middle;\n",
       "    }\n",
       "\n",
       "    .dataframe tbody tr th {\n",
       "        vertical-align: top;\n",
       "    }\n",
       "\n",
       "    .dataframe thead th {\n",
       "        text-align: right;\n",
       "    }\n",
       "</style>\n",
       "<table border=\"1\" class=\"dataframe\">\n",
       "  <thead>\n",
       "    <tr style=\"text-align: right;\">\n",
       "      <th></th>\n",
       "      <th>acquisitio</th>\n",
       "      <th>acres</th>\n",
       "      <th>address</th>\n",
       "      <th>borough</th>\n",
       "      <th>class</th>\n",
       "      <th>commission</th>\n",
       "      <th>communityb</th>\n",
       "      <th>councildis</th>\n",
       "      <th>department</th>\n",
       "      <th>eapply</th>\n",
       "      <th>gisobjid</th>\n",
       "      <th>gispropnum</th>\n",
       "      <th>global_id</th>\n",
       "      <th>jurisdicti</th>\n",
       "      <th>location</th>\n",
       "    </tr>\n",
       "  </thead>\n",
       "  <tbody>\n",
       "    <tr>\n",
       "      <th>3</th>\n",
       "      <td>19520206000000.00000</td>\n",
       "      <td>0.189</td>\n",
       "      <td>349 RODNEY STREET</td>\n",
       "      <td>B</td>\n",
       "      <td>PARK</td>\n",
       "      <td>20100106000000.00000</td>\n",
       "      <td>301</td>\n",
       "      <td>34</td>\n",
       "      <td>B-01</td>\n",
       "      <td>Rodney Playground Center</td>\n",
       "      <td>100003716.0</td>\n",
       "      <td>B223PD</td>\n",
       "      <td>{F14C1976-8BEC-49F1-A139-798EA720A52E}</td>\n",
       "      <td>DPR</td>\n",
       "      <td>Rodney St., S. 3 St., Borniquen Pl.</td>\n",
       "    </tr>\n",
       "    <tr>\n",
       "      <th>4</th>\n",
       "      <td>19240403000000.00000</td>\n",
       "      <td>0.554</td>\n",
       "      <td>124 11 STREET</td>\n",
       "      <td>B</td>\n",
       "      <td>PARK</td>\n",
       "      <td>20110712000000.00000</td>\n",
       "      <td>306</td>\n",
       "      <td>39</td>\n",
       "      <td>B-06</td>\n",
       "      <td>Ennis Playground</td>\n",
       "      <td>100004454.0</td>\n",
       "      <td>B095</td>\n",
       "      <td>{B2FA7ABF-7ECB-4847-8979-0DD773A819F8}</td>\n",
       "      <td>DPR</td>\n",
       "      <td>11 St., 12 St. bet. 2 Ave. and 3 Ave.</td>\n",
       "    </tr>\n",
       "    <tr>\n",
       "      <th>5</th>\n",
       "      <td>19380606000000.00000</td>\n",
       "      <td>0.036</td>\n",
       "      <td>None</td>\n",
       "      <td>B</td>\n",
       "      <td>PARK</td>\n",
       "      <td>20100106000000.00000</td>\n",
       "      <td>301</td>\n",
       "      <td>33</td>\n",
       "      <td>B-01</td>\n",
       "      <td>Pvt. Sonsire Triangle</td>\n",
       "      <td>100004090.0</td>\n",
       "      <td>B196</td>\n",
       "      <td>{EC6F815B-499D-4029-A35E-8B32F325AB17}</td>\n",
       "      <td>DPR</td>\n",
       "      <td>Union Ave., N. 11 St. and Roebling St.</td>\n",
       "    </tr>\n",
       "    <tr>\n",
       "      <th>8</th>\n",
       "      <td>19550127000000.00000</td>\n",
       "      <td>1.210</td>\n",
       "      <td>9920 SEAVIEW AVENUE</td>\n",
       "      <td>B</td>\n",
       "      <td>PARK</td>\n",
       "      <td>20100106000000.00000</td>\n",
       "      <td>318</td>\n",
       "      <td>46</td>\n",
       "      <td>B-18</td>\n",
       "      <td>Bayview Playground (PS 272)</td>\n",
       "      <td>100004645.0</td>\n",
       "      <td>B274</td>\n",
       "      <td>{15E02F5C-3C60-49AA-8160-2609F1BE9BB1}</td>\n",
       "      <td>DPR/DOE</td>\n",
       "      <td>Seaview Ave. between E. 99 St. and E. 101 St.</td>\n",
       "    </tr>\n",
       "    <tr>\n",
       "      <th>9</th>\n",
       "      <td>19340626000000.00000</td>\n",
       "      <td>0.567</td>\n",
       "      <td>358 SCHERMERHORN STREET</td>\n",
       "      <td>B</td>\n",
       "      <td>PARK</td>\n",
       "      <td>20100106000000.00000</td>\n",
       "      <td>302</td>\n",
       "      <td>33</td>\n",
       "      <td>B-02</td>\n",
       "      <td>Sixteen Sycamores Playground</td>\n",
       "      <td>100004436.0</td>\n",
       "      <td>B137</td>\n",
       "      <td>{C8D17881-4291-4BEB-A72A-5EE05D6C7905}</td>\n",
       "      <td>DPR</td>\n",
       "      <td>Schermerhorn St. bet. Nevins St. and 3 Ave.</td>\n",
       "    </tr>\n",
       "  </tbody>\n",
       "</table>\n",
       "</div>"
      ],
      "text/plain": [
       "             acquisitio  acres                  address borough class  \\\n",
       "3  19520206000000.00000  0.189        349 RODNEY STREET       B  PARK   \n",
       "4  19240403000000.00000  0.554            124 11 STREET       B  PARK   \n",
       "5  19380606000000.00000  0.036                     None       B  PARK   \n",
       "8  19550127000000.00000  1.210      9920 SEAVIEW AVENUE       B  PARK   \n",
       "9  19340626000000.00000  0.567  358 SCHERMERHORN STREET       B  PARK   \n",
       "\n",
       "             commission communityb councildis department  \\\n",
       "3  20100106000000.00000        301         34       B-01   \n",
       "4  20110712000000.00000        306         39       B-06   \n",
       "5  20100106000000.00000        301         33       B-01   \n",
       "8  20100106000000.00000        318         46       B-18   \n",
       "9  20100106000000.00000        302         33       B-02   \n",
       "\n",
       "                         eapply     gisobjid gispropnum  \\\n",
       "3      Rodney Playground Center  100003716.0     B223PD   \n",
       "4              Ennis Playground  100004454.0       B095   \n",
       "5         Pvt. Sonsire Triangle  100004090.0       B196   \n",
       "8   Bayview Playground (PS 272)  100004645.0       B274   \n",
       "9  Sixteen Sycamores Playground  100004436.0       B137   \n",
       "\n",
       "                                global_id jurisdicti  \\\n",
       "3  {F14C1976-8BEC-49F1-A139-798EA720A52E}        DPR   \n",
       "4  {B2FA7ABF-7ECB-4847-8979-0DD773A819F8}        DPR   \n",
       "5  {EC6F815B-499D-4029-A35E-8B32F325AB17}        DPR   \n",
       "8  {15E02F5C-3C60-49AA-8160-2609F1BE9BB1}    DPR/DOE   \n",
       "9  {C8D17881-4291-4BEB-A72A-5EE05D6C7905}        DPR   \n",
       "\n",
       "                                        location  \n",
       "3            Rodney St., S. 3 St., Borniquen Pl.  \n",
       "4          11 St., 12 St. bet. 2 Ave. and 3 Ave.  \n",
       "5         Union Ave., N. 11 St. and Roebling St.  \n",
       "8  Seaview Ave. between E. 99 St. and E. 101 St.  \n",
       "9    Schermerhorn St. bet. Nevins St. and 3 Ave.  "
      ]
     },
     "execution_count": 23,
     "metadata": {},
     "output_type": "execute_result"
    }
   ],
   "source": [
    "bkParks.iloc[:,:15].head()"
   ]
  },
  {
   "cell_type": "code",
   "execution_count": 24,
   "metadata": {
    "ExecuteTime": {
     "end_time": "2018-11-15T07:42:37.131048Z",
     "start_time": "2018-11-15T07:42:37.100507Z"
    },
    "run_control": {
     "frozen": false,
     "read_only": false
    }
   },
   "outputs": [
    {
     "data": {
      "text/html": [
       "<div>\n",
       "<style scoped>\n",
       "    .dataframe tbody tr th:only-of-type {\n",
       "        vertical-align: middle;\n",
       "    }\n",
       "\n",
       "    .dataframe tbody tr th {\n",
       "        vertical-align: top;\n",
       "    }\n",
       "\n",
       "    .dataframe thead th {\n",
       "        text-align: right;\n",
       "    }\n",
       "</style>\n",
       "<table border=\"1\" class=\"dataframe\">\n",
       "  <thead>\n",
       "    <tr style=\"text-align: right;\">\n",
       "      <th></th>\n",
       "      <th>mapped</th>\n",
       "      <th>name311</th>\n",
       "      <th>nys_assemb</th>\n",
       "      <th>nys_senate</th>\n",
       "      <th>objectid</th>\n",
       "      <th>omppropid</th>\n",
       "      <th>parentid</th>\n",
       "      <th>permit</th>\n",
       "      <th>permitdist</th>\n",
       "      <th>permitpare</th>\n",
       "      <th>pip_ratabl</th>\n",
       "      <th>precinct</th>\n",
       "      <th>retired</th>\n",
       "      <th>signname</th>\n",
       "      <th>subcategor</th>\n",
       "    </tr>\n",
       "  </thead>\n",
       "  <tbody>\n",
       "    <tr>\n",
       "      <th>3</th>\n",
       "      <td>True</td>\n",
       "      <td>Rodney Playground Center</td>\n",
       "      <td>53</td>\n",
       "      <td>18</td>\n",
       "      <td>5124.0</td>\n",
       "      <td>B223PD</td>\n",
       "      <td>B-01</td>\n",
       "      <td>Y</td>\n",
       "      <td>B-01</td>\n",
       "      <td>B-01</td>\n",
       "      <td>Yes</td>\n",
       "      <td>90</td>\n",
       "      <td>False</td>\n",
       "      <td>Rodney Playground Center</td>\n",
       "      <td>Sitting Area/Triangle/Mall</td>\n",
       "    </tr>\n",
       "    <tr>\n",
       "      <th>4</th>\n",
       "      <td>False</td>\n",
       "      <td>Ennis Playground</td>\n",
       "      <td>51</td>\n",
       "      <td>25</td>\n",
       "      <td>5456.0</td>\n",
       "      <td>B095</td>\n",
       "      <td>B-06</td>\n",
       "      <td>Y</td>\n",
       "      <td>B-06</td>\n",
       "      <td>B-06</td>\n",
       "      <td>Yes</td>\n",
       "      <td>78</td>\n",
       "      <td>False</td>\n",
       "      <td>Ennis Playground</td>\n",
       "      <td>Neighborhood Plgd</td>\n",
       "    </tr>\n",
       "    <tr>\n",
       "      <th>5</th>\n",
       "      <td>False</td>\n",
       "      <td>Pvt. Sonsire Triangle</td>\n",
       "      <td>50</td>\n",
       "      <td>26</td>\n",
       "      <td>5788.0</td>\n",
       "      <td>B196</td>\n",
       "      <td>B-01</td>\n",
       "      <td>Y</td>\n",
       "      <td>B-01</td>\n",
       "      <td>B-01</td>\n",
       "      <td>Yes</td>\n",
       "      <td>94</td>\n",
       "      <td>False</td>\n",
       "      <td>Pvt. Sonsire Triangle</td>\n",
       "      <td>Sitting Area/Triangle/Mall</td>\n",
       "    </tr>\n",
       "    <tr>\n",
       "      <th>8</th>\n",
       "      <td>Part</td>\n",
       "      <td>Bayview Playground</td>\n",
       "      <td>59</td>\n",
       "      <td>19</td>\n",
       "      <td>5147.0</td>\n",
       "      <td>B274</td>\n",
       "      <td>B-18</td>\n",
       "      <td>Y</td>\n",
       "      <td>B-18</td>\n",
       "      <td>B-18</td>\n",
       "      <td>Yes</td>\n",
       "      <td>69</td>\n",
       "      <td>False</td>\n",
       "      <td>Bayview Playground</td>\n",
       "      <td>JOP</td>\n",
       "    </tr>\n",
       "    <tr>\n",
       "      <th>9</th>\n",
       "      <td>False</td>\n",
       "      <td>Sixteen Sycamores Playground</td>\n",
       "      <td>52</td>\n",
       "      <td>25</td>\n",
       "      <td>5479.0</td>\n",
       "      <td>B137</td>\n",
       "      <td>B-02</td>\n",
       "      <td>Y</td>\n",
       "      <td>B-02</td>\n",
       "      <td>B-02</td>\n",
       "      <td>Yes</td>\n",
       "      <td>84</td>\n",
       "      <td>False</td>\n",
       "      <td>Sixteen Sycamores Playground</td>\n",
       "      <td>Neighborhood Plgd</td>\n",
       "    </tr>\n",
       "  </tbody>\n",
       "</table>\n",
       "</div>"
      ],
      "text/plain": [
       "  mapped                       name311 nys_assemb nys_senate  objectid  \\\n",
       "3   True      Rodney Playground Center         53         18    5124.0   \n",
       "4  False              Ennis Playground         51         25    5456.0   \n",
       "5  False         Pvt. Sonsire Triangle         50         26    5788.0   \n",
       "8   Part            Bayview Playground         59         19    5147.0   \n",
       "9  False  Sixteen Sycamores Playground         52         25    5479.0   \n",
       "\n",
       "  omppropid parentid permit permitdist permitpare pip_ratabl precinct retired  \\\n",
       "3    B223PD     B-01      Y       B-01       B-01        Yes       90   False   \n",
       "4      B095     B-06      Y       B-06       B-06        Yes       78   False   \n",
       "5      B196     B-01      Y       B-01       B-01        Yes       94   False   \n",
       "8      B274     B-18      Y       B-18       B-18        Yes       69   False   \n",
       "9      B137     B-02      Y       B-02       B-02        Yes       84   False   \n",
       "\n",
       "                       signname                  subcategor  \n",
       "3      Rodney Playground Center  Sitting Area/Triangle/Mall  \n",
       "4              Ennis Playground           Neighborhood Plgd  \n",
       "5         Pvt. Sonsire Triangle  Sitting Area/Triangle/Mall  \n",
       "8            Bayview Playground                         JOP  \n",
       "9  Sixteen Sycamores Playground           Neighborhood Plgd  "
      ]
     },
     "execution_count": 24,
     "metadata": {},
     "output_type": "execute_result"
    }
   ],
   "source": [
    "bkParks.iloc[:,15:30].head()"
   ]
  },
  {
   "cell_type": "code",
   "execution_count": 25,
   "metadata": {
    "ExecuteTime": {
     "end_time": "2018-11-15T07:43:21.656130Z",
     "start_time": "2018-11-15T07:43:21.626130Z"
    },
    "run_control": {
     "frozen": false,
     "read_only": false
    }
   },
   "outputs": [
    {
     "data": {
      "text/html": [
       "<div>\n",
       "<style scoped>\n",
       "    .dataframe tbody tr th:only-of-type {\n",
       "        vertical-align: middle;\n",
       "    }\n",
       "\n",
       "    .dataframe tbody tr th {\n",
       "        vertical-align: top;\n",
       "    }\n",
       "\n",
       "    .dataframe thead th {\n",
       "        text-align: right;\n",
       "    }\n",
       "</style>\n",
       "<table border=\"1\" class=\"dataframe\">\n",
       "  <thead>\n",
       "    <tr style=\"text-align: right;\">\n",
       "      <th></th>\n",
       "      <th>typecatego</th>\n",
       "      <th>url</th>\n",
       "      <th>us_congres</th>\n",
       "      <th>waterfront</th>\n",
       "      <th>zipcode</th>\n",
       "      <th>geometry</th>\n",
       "    </tr>\n",
       "  </thead>\n",
       "  <tbody>\n",
       "    <tr>\n",
       "      <th>3</th>\n",
       "      <td>Neighborhood Park</td>\n",
       "      <td>http://www.nycgovparks.org/parks/B223PD/</td>\n",
       "      <td>7</td>\n",
       "      <td>No</td>\n",
       "      <td>11211</td>\n",
       "      <td>POLYGON ((-73.95533291494969 40.71042213200856...</td>\n",
       "    </tr>\n",
       "    <tr>\n",
       "      <th>4</th>\n",
       "      <td>Playground</td>\n",
       "      <td>http://www.nycgovparks.org/parks/B095/</td>\n",
       "      <td>7</td>\n",
       "      <td>No</td>\n",
       "      <td>11215</td>\n",
       "      <td>POLYGON ((-73.99424820391394 40.67057586455565...</td>\n",
       "    </tr>\n",
       "    <tr>\n",
       "      <th>5</th>\n",
       "      <td>Triangle/Plaza</td>\n",
       "      <td>http://www.nycgovparks.org/parks/B196/</td>\n",
       "      <td>12</td>\n",
       "      <td>No</td>\n",
       "      <td>11211</td>\n",
       "      <td>POLYGON ((-73.95241848162225 40.71828618172859...</td>\n",
       "    </tr>\n",
       "    <tr>\n",
       "      <th>8</th>\n",
       "      <td>Jointly Operated Playground</td>\n",
       "      <td>http://www.nycgovparks.org/parks/B274/</td>\n",
       "      <td>8</td>\n",
       "      <td>No</td>\n",
       "      <td>11236</td>\n",
       "      <td>POLYGON ((-73.88605616693891 40.63518371430879...</td>\n",
       "    </tr>\n",
       "    <tr>\n",
       "      <th>9</th>\n",
       "      <td>Playground</td>\n",
       "      <td>http://www.nycgovparks.org/parks/B137/</td>\n",
       "      <td>8</td>\n",
       "      <td>No</td>\n",
       "      <td>11217</td>\n",
       "      <td>POLYGON ((-73.9811229077025 40.68694745390135,...</td>\n",
       "    </tr>\n",
       "  </tbody>\n",
       "</table>\n",
       "</div>"
      ],
      "text/plain": [
       "                    typecatego                                       url  \\\n",
       "3            Neighborhood Park  http://www.nycgovparks.org/parks/B223PD/   \n",
       "4                   Playground    http://www.nycgovparks.org/parks/B095/   \n",
       "5               Triangle/Plaza    http://www.nycgovparks.org/parks/B196/   \n",
       "8  Jointly Operated Playground    http://www.nycgovparks.org/parks/B274/   \n",
       "9                   Playground    http://www.nycgovparks.org/parks/B137/   \n",
       "\n",
       "  us_congres waterfront zipcode  \\\n",
       "3          7         No   11211   \n",
       "4          7         No   11215   \n",
       "5         12         No   11211   \n",
       "8          8         No   11236   \n",
       "9          8         No   11217   \n",
       "\n",
       "                                            geometry  \n",
       "3  POLYGON ((-73.95533291494969 40.71042213200856...  \n",
       "4  POLYGON ((-73.99424820391394 40.67057586455565...  \n",
       "5  POLYGON ((-73.95241848162225 40.71828618172859...  \n",
       "8  POLYGON ((-73.88605616693891 40.63518371430879...  \n",
       "9  POLYGON ((-73.9811229077025 40.68694745390135,...  "
      ]
     },
     "execution_count": 25,
     "metadata": {},
     "output_type": "execute_result"
    }
   ],
   "source": [
    "bkParks.iloc[:,30:].head()"
   ]
  },
  {
   "cell_type": "markdown",
   "metadata": {},
   "source": [
    "I decide that gispropnum is the most adequate column"
   ]
  },
  {
   "cell_type": "code",
   "execution_count": 27,
   "metadata": {
    "ExecuteTime": {
     "end_time": "2018-11-15T20:08:49.039584Z",
     "start_time": "2018-11-15T20:08:49.004173Z"
    },
    "run_control": {
     "frozen": false,
     "read_only": false
    }
   },
   "outputs": [],
   "source": [
    "bkParks = bkParks.merge(parksinspection, left_on=\"gispropnum\", \n",
    "              right_on=\"Prop ID\")"
   ]
  },
  {
   "cell_type": "code",
   "execution_count": 28,
   "metadata": {
    "ExecuteTime": {
     "end_time": "2018-11-15T20:08:53.671307Z",
     "start_time": "2018-11-15T20:08:50.130050Z"
    },
    "run_control": {
     "frozen": false,
     "read_only": false
    }
   },
   "outputs": [
    {
     "name": "stderr",
     "output_type": "stream",
     "text": [
      "//anaconda/envs/GEOP/lib/python3.6/site-packages/matplotlib/colors.py:504: RuntimeWarning: invalid value encountered in less\n",
      "  xa[xa < 0] = -1\n"
     ]
    },
    {
     "data": {
      "image/png": "[encoded data removed]",
      "text/plain": [
       "<Figure size 720x720 with 2 Axes>"
      ]
     },
     "metadata": {},
     "output_type": "display_data"
    }
   ],
   "source": [
    "# leave\n",
    "ax = bkParks.plot(column=\"condition\", k=3, cmap=\"RdBu\", legend=True, figsize=(10,10) )\n",
    "ax.set_ylabel(\"latitude\", fontsize=20)\n",
    "ax.set_xlabel(\"longitude\", fontsize=20);"
   ]
  },
  {
   "cell_type": "markdown",
   "metadata": {},
   "source": [
    "** Figure 2 **: Brooklyn parks are color-coded by the result of the NYC Parks Department parks inspection averaged over all inspection zones for each park, where -1 corresponds to *unacceptable conditions* overall, and 1 (red) corresponds to *Acceptable conditions* overall. Several parks are missing due to mismatches in the recorded parks identifiers. Notably, prospect park is missing as well as large park areas in or near the Rockaways."
   ]
  },
  {
   "cell_type": "markdown",
   "metadata": {
    "run_control": {
     "frozen": false,
     "read_only": false
    }
   },
   "source": [
    "# Download unemployment rate information from ACS 2015 (5 year survey) for Brooklyn at the PUMA geographical aggregation level. \n",
    "\n",
    "\n",
    "You can start from scratch from [American Fact Finder](https://factfinder.census.gov/faces/nav/jsf/pages/index.xhtml). You can obtain the data through the API directly as you did in HW7 or prepare the file online at the American Fact Finder site and download it, then upload it to the ADRF (also as instructed in HW7) - this may be time consuming if you are not very familiar with this portal.\n",
    "\n",
    "Alternatively you can download the data with an SQL query from the data that I uploaded at https://nyu.carto.com/u/fb55/dataset/acs15  (same points earned). This is the same kind of SQL query you used in the databases homework (HW6)\n",
    "\n",
    "The relevant variables are:\n",
    "\n",
    "unemployed males (17-64 years old)= 'C23002G_008E'\n",
    "\n",
    "unemployed females (17-64 years old) = 'C23002G_021E'\n",
    "\n",
    "total surveyed population  (17-64 years old) = 'C23002G_001E'\n",
    "\n",
    "Combine them to obtain a dataframe containing the Brooklyn *unemployment fraction* per PUMA and the total surveyed population (which you will treat as the puma population from now on)\n",
    "\n",
    "_Deliverable: a table as the one below which contains the total population by PUMA (surveyed for unemployment) and the unemployment rate_ \n",
    "\n",
    "You can find the solution [here](https://serv.cusp.nyu.edu/~fbianco/PUIdata/acs15_final.csv) - if you use this solution you will not get the 10 points for this deliverable (but you can go back later to this! and if you do get the solution later you will get the points!)\n",
    "\n",
    "[hint](https://docs.google.com/document/d/1Ps_jXCOdxZyNspVOHdKHbPQWf8WiLTI0bQccMMgNUU8/edit?usp=sharing)\n"
   ]
  },
  {
   "cell_type": "markdown",
   "metadata": {
    "run_control": {
     "frozen": false,
     "read_only": false
    }
   },
   "source": [
    "### method 1 : Since the variable names are provide, all I have to do is getting them from API"
   ]
  },
  {
   "cell_type": "code",
   "execution_count": 48,
   "metadata": {
    "ExecuteTime": {
     "end_time": "2018-11-15T20:47:16.665509Z",
     "start_time": "2018-11-15T20:47:13.936520Z"
    },
    "run_control": {
     "frozen": false,
     "read_only": false
    }
   },
   "outputs": [],
   "source": [
    "url = \"https://api.census.gov/data/2015/acs/acs5/variables.json\"\n",
    "resp = requests.request('GET', url)\n",
    "aff1y = json.loads(resp.text)"
   ]
  },
  {
   "cell_type": "code",
   "execution_count": 49,
   "metadata": {
    "ExecuteTime": {
     "end_time": "2018-11-15T20:47:16.690743Z",
     "start_time": "2018-11-15T20:47:16.670074Z"
    },
    "run_control": {
     "frozen": false,
     "read_only": false
    }
   },
   "outputs": [],
   "source": [
    "#Python3\n",
    "affkeys = np.array(list(aff1y['variables'].keys()))\n",
    "#Python2\n",
    "#affkeys = np.array(aff1y['variables'].keys())"
   ]
  },
  {
   "cell_type": "code",
   "execution_count": 50,
   "metadata": {
    "ExecuteTime": {
     "end_time": "2018-11-15T20:47:16.733691Z",
     "start_time": "2018-11-15T20:47:16.695060Z"
    },
    "run_control": {
     "frozen": false,
     "read_only": false
    }
   },
   "outputs": [
    {
     "data": {
      "text/plain": [
       "[('C23002G_008E',\n",
       "  'Estimate!!Total!!Male!!16 to 64 years!!In labor force!!Civilian!!Unemployed'),\n",
       " ('C23002G_013E',\n",
       "  'Estimate!!Total!!Male!!65 years and over!!In labor force!!Unemployed'),\n",
       " ('C23002G_021E',\n",
       "  'Estimate!!Total!!Female!!16 to 64 years!!In labor force!!Civilian!!Unemployed'),\n",
       " ('C23002G_026E',\n",
       "  'Estimate!!Total!!Female!!65 years and over!!In labor force!!Unemployed')]"
      ]
     },
     "execution_count": 50,
     "metadata": {},
     "output_type": "execute_result"
    }
   ],
   "source": [
    "[(k, aff1y['variables'][k]['label'])  for k in affkeys \n",
    " if k.startswith(\"C23002G\") \n",
    " and 'Unemployed' in aff1y['variables'][k]['label']]\n",
    " "
   ]
  },
  {
   "cell_type": "code",
   "execution_count": 51,
   "metadata": {
    "ExecuteTime": {
     "end_time": "2018-11-15T20:47:16.761571Z",
     "start_time": "2018-11-15T20:47:16.739915Z"
    },
    "run_control": {
     "frozen": false,
     "read_only": false
    }
   },
   "outputs": [],
   "source": [
    "allgs = [k for k in affkeys if k.startswith(\"C23002G\") ]\n",
    " "
   ]
  },
  {
   "cell_type": "code",
   "execution_count": 52,
   "metadata": {
    "ExecuteTime": {
     "end_time": "2018-11-15T20:47:17.587553Z",
     "start_time": "2018-11-15T20:47:17.583963Z"
    },
    "run_control": {
     "frozen": false,
     "read_only": false
    }
   },
   "outputs": [],
   "source": [
    "keyUnemployedM = 'C23002G_008E'\n",
    "keyUnemployedF = 'C23002G_021E'"
   ]
  },
  {
   "cell_type": "code",
   "execution_count": 53,
   "metadata": {
    "ExecuteTime": {
     "end_time": "2018-11-15T20:47:18.154221Z",
     "start_time": "2018-11-15T20:47:18.151342Z"
    },
    "run_control": {
     "frozen": false,
     "read_only": false
    }
   },
   "outputs": [],
   "source": [
    "keysurveyed = 'C23002G_001E'"
   ]
  },
  {
   "cell_type": "code",
   "execution_count": 54,
   "metadata": {
    "ExecuteTime": {
     "end_time": "2018-11-15T20:47:19.331186Z",
     "start_time": "2018-11-15T20:47:18.674406Z"
    },
    "run_control": {
     "frozen": false,
     "read_only": false
    }
   },
   "outputs": [
    {
     "data": {
      "text/html": [
       "<div>\n",
       "<style scoped>\n",
       "    .dataframe tbody tr th:only-of-type {\n",
       "        vertical-align: middle;\n",
       "    }\n",
       "\n",
       "    .dataframe tbody tr th {\n",
       "        vertical-align: top;\n",
       "    }\n",
       "\n",
       "    .dataframe thead th {\n",
       "        text-align: right;\n",
       "    }\n",
       "</style>\n",
       "<table border=\"1\" class=\"dataframe\">\n",
       "  <thead>\n",
       "    <tr style=\"text-align: right;\">\n",
       "      <th></th>\n",
       "      <th>C23002G_008E</th>\n",
       "      <th>NAME</th>\n",
       "      <th>state</th>\n",
       "      <th>public use microdata area</th>\n",
       "      <th>Unnamed: 4</th>\n",
       "    </tr>\n",
       "  </thead>\n",
       "  <tbody>\n",
       "    <tr>\n",
       "      <th>0</th>\n",
       "      <td>75</td>\n",
       "      <td>St. Lawrence County PUMA, New York</td>\n",
       "      <td>36</td>\n",
       "      <td>100</td>\n",
       "      <td>NaN</td>\n",
       "    </tr>\n",
       "    <tr>\n",
       "      <th>1</th>\n",
       "      <td>141</td>\n",
       "      <td>Clinton, Franklin, Essex &amp; Hamilton Counties P...</td>\n",
       "      <td>36</td>\n",
       "      <td>200</td>\n",
       "      <td>NaN</td>\n",
       "    </tr>\n",
       "    <tr>\n",
       "      <th>2</th>\n",
       "      <td>50</td>\n",
       "      <td>Warren &amp; Washington Counties PUMA, New York</td>\n",
       "      <td>36</td>\n",
       "      <td>300</td>\n",
       "      <td>NaN</td>\n",
       "    </tr>\n",
       "    <tr>\n",
       "      <th>3</th>\n",
       "      <td>62</td>\n",
       "      <td>Herkimer (North &amp; Central) &amp; Oneida (Outer) Co...</td>\n",
       "      <td>36</td>\n",
       "      <td>401</td>\n",
       "      <td>NaN</td>\n",
       "    </tr>\n",
       "    <tr>\n",
       "      <th>4</th>\n",
       "      <td>83</td>\n",
       "      <td>Oneida County (Central)--Greater Utica &amp; Rome ...</td>\n",
       "      <td>36</td>\n",
       "      <td>402</td>\n",
       "      <td>NaN</td>\n",
       "    </tr>\n",
       "  </tbody>\n",
       "</table>\n",
       "</div>"
      ],
      "text/plain": [
       "   C23002G_008E                                               NAME  state  \\\n",
       "0            75                 St. Lawrence County PUMA, New York     36   \n",
       "1           141  Clinton, Franklin, Essex & Hamilton Counties P...     36   \n",
       "2            50        Warren & Washington Counties PUMA, New York     36   \n",
       "3            62  Herkimer (North & Central) & Oneida (Outer) Co...     36   \n",
       "4            83  Oneida County (Central)--Greater Utica & Rome ...     36   \n",
       "\n",
       "   public use microdata area  Unnamed: 4  \n",
       "0                        100         NaN  \n",
       "1                        200         NaN  \n",
       "2                        300         NaN  \n",
       "3                        401         NaN  \n",
       "4                        402         NaN  "
      ]
     },
     "execution_count": 54,
     "metadata": {},
     "output_type": "execute_result"
    }
   ],
   "source": [
    "url = \"https://api.census.gov/data/2015/acs/acs5?get=\" + keyUnemployedM +\\\n",
    "\",NAME&for=public%20use%20microdata%20area:*&in=state:36&key=\" + myAPI\n",
    "resp = requests.request('GET', url).content\n",
    "pumaun = pd.read_csv(io.StringIO(resp.decode('utf-8').replace('[','').replace(']','')))\n",
    "pumaun.dropna(subset=[keyUnemployedM]).head()\n"
   ]
  },
  {
   "cell_type": "code",
   "execution_count": 55,
   "metadata": {
    "ExecuteTime": {
     "end_time": "2018-11-15T20:47:20.133936Z",
     "start_time": "2018-11-15T20:47:19.333915Z"
    },
    "run_control": {
     "frozen": false,
     "read_only": false
    }
   },
   "outputs": [
    {
     "data": {
      "text/html": [
       "<div>\n",
       "<style scoped>\n",
       "    .dataframe tbody tr th:only-of-type {\n",
       "        vertical-align: middle;\n",
       "    }\n",
       "\n",
       "    .dataframe tbody tr th {\n",
       "        vertical-align: top;\n",
       "    }\n",
       "\n",
       "    .dataframe thead th {\n",
       "        text-align: right;\n",
       "    }\n",
       "</style>\n",
       "<table border=\"1\" class=\"dataframe\">\n",
       "  <thead>\n",
       "    <tr style=\"text-align: right;\">\n",
       "      <th></th>\n",
       "      <th>C23002G_021E</th>\n",
       "      <th>NAME</th>\n",
       "      <th>state</th>\n",
       "      <th>public use microdata area</th>\n",
       "      <th>Unnamed: 4</th>\n",
       "    </tr>\n",
       "  </thead>\n",
       "  <tbody>\n",
       "    <tr>\n",
       "      <th>0</th>\n",
       "      <td>79</td>\n",
       "      <td>St. Lawrence County PUMA, New York</td>\n",
       "      <td>36</td>\n",
       "      <td>100</td>\n",
       "      <td>NaN</td>\n",
       "    </tr>\n",
       "    <tr>\n",
       "      <th>1</th>\n",
       "      <td>74</td>\n",
       "      <td>Clinton, Franklin, Essex &amp; Hamilton Counties P...</td>\n",
       "      <td>36</td>\n",
       "      <td>200</td>\n",
       "      <td>NaN</td>\n",
       "    </tr>\n",
       "    <tr>\n",
       "      <th>2</th>\n",
       "      <td>42</td>\n",
       "      <td>Warren &amp; Washington Counties PUMA, New York</td>\n",
       "      <td>36</td>\n",
       "      <td>300</td>\n",
       "      <td>NaN</td>\n",
       "    </tr>\n",
       "    <tr>\n",
       "      <th>3</th>\n",
       "      <td>23</td>\n",
       "      <td>Herkimer (North &amp; Central) &amp; Oneida (Outer) Co...</td>\n",
       "      <td>36</td>\n",
       "      <td>401</td>\n",
       "      <td>NaN</td>\n",
       "    </tr>\n",
       "    <tr>\n",
       "      <th>4</th>\n",
       "      <td>124</td>\n",
       "      <td>Oneida County (Central)--Greater Utica &amp; Rome ...</td>\n",
       "      <td>36</td>\n",
       "      <td>402</td>\n",
       "      <td>NaN</td>\n",
       "    </tr>\n",
       "  </tbody>\n",
       "</table>\n",
       "</div>"
      ],
      "text/plain": [
       "   C23002G_021E                                               NAME  state  \\\n",
       "0            79                 St. Lawrence County PUMA, New York     36   \n",
       "1            74  Clinton, Franklin, Essex & Hamilton Counties P...     36   \n",
       "2            42        Warren & Washington Counties PUMA, New York     36   \n",
       "3            23  Herkimer (North & Central) & Oneida (Outer) Co...     36   \n",
       "4           124  Oneida County (Central)--Greater Utica & Rome ...     36   \n",
       "\n",
       "   public use microdata area  Unnamed: 4  \n",
       "0                        100         NaN  \n",
       "1                        200         NaN  \n",
       "2                        300         NaN  \n",
       "3                        401         NaN  \n",
       "4                        402         NaN  "
      ]
     },
     "execution_count": 55,
     "metadata": {},
     "output_type": "execute_result"
    }
   ],
   "source": [
    "\n",
    "url = \"https://api.census.gov/data/2015/acs/acs5?get=\" + keyUnemployedF +\\\n",
    "\",NAME&for=public%20use%20microdata%20area:*&in=state:36&key=\" + myAPI\n",
    "resp = requests.request('GET', url).content\n",
    "pumaunf = pd.read_csv(io.StringIO(resp.decode('utf-8').replace('[','').replace(']','')))\n",
    "pumaunf.head()"
   ]
  },
  {
   "cell_type": "code",
   "execution_count": 56,
   "metadata": {
    "ExecuteTime": {
     "end_time": "2018-11-15T20:47:20.738122Z",
     "start_time": "2018-11-15T20:47:20.193194Z"
    },
    "run_control": {
     "frozen": false,
     "read_only": false
    },
    "scrolled": true
   },
   "outputs": [
    {
     "data": {
      "text/html": [
       "<div>\n",
       "<style scoped>\n",
       "    .dataframe tbody tr th:only-of-type {\n",
       "        vertical-align: middle;\n",
       "    }\n",
       "\n",
       "    .dataframe tbody tr th {\n",
       "        vertical-align: top;\n",
       "    }\n",
       "\n",
       "    .dataframe thead th {\n",
       "        text-align: right;\n",
       "    }\n",
       "</style>\n",
       "<table border=\"1\" class=\"dataframe\">\n",
       "  <thead>\n",
       "    <tr style=\"text-align: right;\">\n",
       "      <th></th>\n",
       "      <th>C23002G_001E</th>\n",
       "      <th>NAME</th>\n",
       "      <th>state</th>\n",
       "      <th>public use microdata area</th>\n",
       "      <th>Unnamed: 4</th>\n",
       "    </tr>\n",
       "  </thead>\n",
       "  <tbody>\n",
       "    <tr>\n",
       "      <th>0</th>\n",
       "      <td>1304</td>\n",
       "      <td>St. Lawrence County PUMA, New York</td>\n",
       "      <td>36</td>\n",
       "      <td>100</td>\n",
       "      <td>NaN</td>\n",
       "    </tr>\n",
       "    <tr>\n",
       "      <th>1</th>\n",
       "      <td>1782</td>\n",
       "      <td>Clinton, Franklin, Essex &amp; Hamilton Counties P...</td>\n",
       "      <td>36</td>\n",
       "      <td>200</td>\n",
       "      <td>NaN</td>\n",
       "    </tr>\n",
       "    <tr>\n",
       "      <th>2</th>\n",
       "      <td>1066</td>\n",
       "      <td>Warren &amp; Washington Counties PUMA, New York</td>\n",
       "      <td>36</td>\n",
       "      <td>300</td>\n",
       "      <td>NaN</td>\n",
       "    </tr>\n",
       "    <tr>\n",
       "      <th>3</th>\n",
       "      <td>724</td>\n",
       "      <td>Herkimer (North &amp; Central) &amp; Oneida (Outer) Co...</td>\n",
       "      <td>36</td>\n",
       "      <td>401</td>\n",
       "      <td>NaN</td>\n",
       "    </tr>\n",
       "    <tr>\n",
       "      <th>4</th>\n",
       "      <td>2476</td>\n",
       "      <td>Oneida County (Central)--Greater Utica &amp; Rome ...</td>\n",
       "      <td>36</td>\n",
       "      <td>402</td>\n",
       "      <td>NaN</td>\n",
       "    </tr>\n",
       "  </tbody>\n",
       "</table>\n",
       "</div>"
      ],
      "text/plain": [
       "   C23002G_001E                                               NAME  state  \\\n",
       "0          1304                 St. Lawrence County PUMA, New York     36   \n",
       "1          1782  Clinton, Franklin, Essex & Hamilton Counties P...     36   \n",
       "2          1066        Warren & Washington Counties PUMA, New York     36   \n",
       "3           724  Herkimer (North & Central) & Oneida (Outer) Co...     36   \n",
       "4          2476  Oneida County (Central)--Greater Utica & Rome ...     36   \n",
       "\n",
       "   public use microdata area  Unnamed: 4  \n",
       "0                        100         NaN  \n",
       "1                        200         NaN  \n",
       "2                        300         NaN  \n",
       "3                        401         NaN  \n",
       "4                        402         NaN  "
      ]
     },
     "execution_count": 56,
     "metadata": {},
     "output_type": "execute_result"
    }
   ],
   "source": [
    "#getting the first row of the table: the total number of households\n",
    "url = \"https://api.census.gov/data/2015/acs/acs5?get=\"  + keysurveyed +\\\n",
    "\",NAME&for=public%20use%20microdata%20area:*&in=state:36&key=\" + myAPI\n",
    "resp = requests.request('GET', url).content\n",
    "pumaAll = pd.read_csv(io.StringIO(resp.decode('utf-8').replace('[','').replace(']','')))\n",
    "\n",
    "pumaAll.dropna(subset=[keysurveyed]).head()"
   ]
  },
  {
   "cell_type": "code",
   "execution_count": 57,
   "metadata": {
    "ExecuteTime": {
     "end_time": "2018-11-15T20:47:21.502502Z",
     "start_time": "2018-11-15T20:47:21.473375Z"
    },
    "run_control": {
     "frozen": false,
     "read_only": false
    },
    "scrolled": true
   },
   "outputs": [
    {
     "data": {
      "text/plain": [
       "0    0.118098\n",
       "1    0.120651\n",
       "2    0.086304\n",
       "3    0.117403\n",
       "4    0.083603\n",
       "Name: unemployedF, dtype: float64"
      ]
     },
     "execution_count": 57,
     "metadata": {},
     "output_type": "execute_result"
    }
   ],
   "source": [
    "pumaUnemployment = pumaAll.merge(pumaun).merge(pumaunf)\n",
    "pumaUnemployment['unemployedF']  = (pumaUnemployment[keyUnemployedF] + pumaUnemployment[keyUnemployedM]) / pumaUnemployment[keysurveyed]\n",
    "pumaUnemployment['unemployedF'].head()"
   ]
  },
  {
   "cell_type": "markdown",
   "metadata": {
    "run_control": {
     "frozen": false,
     "read_only": false
    }
   },
   "source": [
    "merge the 3 tables"
   ]
  },
  {
   "cell_type": "code",
   "execution_count": 58,
   "metadata": {
    "ExecuteTime": {
     "end_time": "2018-11-15T20:47:29.302953Z",
     "start_time": "2018-11-15T20:47:29.240407Z"
    },
    "run_control": {
     "frozen": false,
     "read_only": false
    }
   },
   "outputs": [],
   "source": [
    "pumaUnemployment  = pumaUnemployment[[\"unemployedF\", keysurveyed, \"public use microdata area\"]]\n",
    "pumaUnemployment.rename(columns={\"C23002G_001E\":\"total\"}, inplace=True)"
   ]
  },
  {
   "cell_type": "code",
   "execution_count": 59,
   "metadata": {
    "ExecuteTime": {
     "end_time": "2018-11-15T20:47:30.260098Z",
     "start_time": "2018-11-15T20:47:30.251634Z"
    },
    "run_control": {
     "frozen": false,
     "read_only": false
    }
   },
   "outputs": [
    {
     "data": {
      "text/html": [
       "<div>\n",
       "<style scoped>\n",
       "    .dataframe tbody tr th:only-of-type {\n",
       "        vertical-align: middle;\n",
       "    }\n",
       "\n",
       "    .dataframe tbody tr th {\n",
       "        vertical-align: top;\n",
       "    }\n",
       "\n",
       "    .dataframe thead th {\n",
       "        text-align: right;\n",
       "    }\n",
       "</style>\n",
       "<table border=\"1\" class=\"dataframe\">\n",
       "  <thead>\n",
       "    <tr style=\"text-align: right;\">\n",
       "      <th></th>\n",
       "      <th>unemployedF</th>\n",
       "      <th>total</th>\n",
       "      <th>public use microdata area</th>\n",
       "    </tr>\n",
       "  </thead>\n",
       "  <tbody>\n",
       "    <tr>\n",
       "      <th>0</th>\n",
       "      <td>0.118098</td>\n",
       "      <td>1304</td>\n",
       "      <td>100</td>\n",
       "    </tr>\n",
       "    <tr>\n",
       "      <th>1</th>\n",
       "      <td>0.120651</td>\n",
       "      <td>1782</td>\n",
       "      <td>200</td>\n",
       "    </tr>\n",
       "    <tr>\n",
       "      <th>2</th>\n",
       "      <td>0.086304</td>\n",
       "      <td>1066</td>\n",
       "      <td>300</td>\n",
       "    </tr>\n",
       "    <tr>\n",
       "      <th>3</th>\n",
       "      <td>0.117403</td>\n",
       "      <td>724</td>\n",
       "      <td>401</td>\n",
       "    </tr>\n",
       "    <tr>\n",
       "      <th>4</th>\n",
       "      <td>0.083603</td>\n",
       "      <td>2476</td>\n",
       "      <td>402</td>\n",
       "    </tr>\n",
       "  </tbody>\n",
       "</table>\n",
       "</div>"
      ],
      "text/plain": [
       "   unemployedF  total  public use microdata area\n",
       "0     0.118098   1304                        100\n",
       "1     0.120651   1782                        200\n",
       "2     0.086304   1066                        300\n",
       "3     0.117403    724                        401\n",
       "4     0.083603   2476                        402"
      ]
     },
     "execution_count": 59,
     "metadata": {},
     "output_type": "execute_result"
    }
   ],
   "source": [
    "#leave\n",
    "pumaUnemployment.head()"
   ]
  },
  {
   "cell_type": "code",
   "execution_count": 52,
   "metadata": {
    "ExecuteTime": {
     "end_time": "2018-11-15T07:50:56.754836Z",
     "start_time": "2018-11-15T07:50:56.744875Z"
    },
    "run_control": {
     "frozen": false,
     "read_only": false
    }
   },
   "outputs": [],
   "source": [
    "# this is the file I saved as solution\n",
    "pumaUnemployment.to_csv(\"acs15_final.csv\")"
   ]
  },
  {
   "cell_type": "markdown",
   "metadata": {
    "run_control": {
     "frozen": false,
     "read_only": false
    }
   },
   "source": [
    "**method 3:** go get it from the website. Since I have the names of the variable this also is easy."
   ]
  },
  {
   "cell_type": "code",
   "execution_count": null,
   "metadata": {
    "ExecuteTime": {
     "end_time": "2018-11-15T20:22:06.954905Z",
     "start_time": "2018-11-15T20:21:58.310429Z"
    },
    "run_control": {
     "frozen": false,
     "read_only": false
    }
   },
   "outputs": [],
   "source": [
    "!unzip -d $PUIDATA /Users/fbb/Downloads/ACS_15_1YR_C23001.zip"
   ]
  },
  {
   "cell_type": "code",
   "execution_count": 32,
   "metadata": {
    "ExecuteTime": {
     "end_time": "2018-11-15T20:22:12.363262Z",
     "start_time": "2018-11-15T20:22:12.067452Z"
    },
    "run_control": {
     "frozen": false,
     "marked": false,
     "read_only": false
    },
    "solution": "shown",
    "solution_first": true
   },
   "outputs": [],
   "source": [
    "tmp = pd.read_csv(os.getenv(\"PUIDATA\") + \"/ACS_15_1YR_C23001.csv\", encoding = \"ISO-8859-1\")"
   ]
  },
  {
   "cell_type": "raw",
   "metadata": {
    "ExecuteTime": {
     "end_time": "2018-11-01T11:03:46.621220Z",
     "start_time": "2018-11-01T11:03:46.599185Z"
    }
   },
   "source": [
    "# this is the file I saved and posted on Carto\n",
    "tmp.to_csv(\"acs15.csv\", index=False)"
   ]
  },
  {
   "cell_type": "markdown",
   "metadata": {
    "run_control": {
     "frozen": false,
     "read_only": false
    }
   },
   "source": [
    "**method 3:** getting from carto w SQL (recommanded)"
   ]
  },
  {
   "cell_type": "code",
   "execution_count": 60,
   "metadata": {
    "ExecuteTime": {
     "end_time": "2018-11-15T20:47:43.883334Z",
     "start_time": "2018-11-15T20:47:43.150388Z"
    },
    "run_control": {
     "frozen": false,
     "read_only": false
    }
   },
   "outputs": [
    {
     "data": {
      "text/html": [
       "<div>\n",
       "<style scoped>\n",
       "    .dataframe tbody tr th:only-of-type {\n",
       "        vertical-align: middle;\n",
       "    }\n",
       "\n",
       "    .dataframe tbody tr th {\n",
       "        vertical-align: top;\n",
       "    }\n",
       "\n",
       "    .dataframe thead th {\n",
       "        text-align: right;\n",
       "    }\n",
       "</style>\n",
       "<table border=\"1\" class=\"dataframe\">\n",
       "  <thead>\n",
       "    <tr style=\"text-align: right;\">\n",
       "      <th></th>\n",
       "      <th>public_use_microdata_area</th>\n",
       "      <th>c23002g_008e</th>\n",
       "      <th>c23002g_021e</th>\n",
       "      <th>c23002g_001e</th>\n",
       "    </tr>\n",
       "  </thead>\n",
       "  <tbody>\n",
       "    <tr>\n",
       "      <th>0</th>\n",
       "      <td>100</td>\n",
       "      <td>75</td>\n",
       "      <td>79</td>\n",
       "      <td>1304</td>\n",
       "    </tr>\n",
       "    <tr>\n",
       "      <th>1</th>\n",
       "      <td>200</td>\n",
       "      <td>141</td>\n",
       "      <td>74</td>\n",
       "      <td>1782</td>\n",
       "    </tr>\n",
       "    <tr>\n",
       "      <th>2</th>\n",
       "      <td>300</td>\n",
       "      <td>50</td>\n",
       "      <td>42</td>\n",
       "      <td>1066</td>\n",
       "    </tr>\n",
       "    <tr>\n",
       "      <th>3</th>\n",
       "      <td>401</td>\n",
       "      <td>62</td>\n",
       "      <td>23</td>\n",
       "      <td>724</td>\n",
       "    </tr>\n",
       "    <tr>\n",
       "      <th>4</th>\n",
       "      <td>402</td>\n",
       "      <td>83</td>\n",
       "      <td>124</td>\n",
       "      <td>2476</td>\n",
       "    </tr>\n",
       "  </tbody>\n",
       "</table>\n",
       "</div>"
      ],
      "text/plain": [
       "   public_use_microdata_area  c23002g_008e  c23002g_021e  c23002g_001e\n",
       "0                        100            75            79          1304\n",
       "1                        200           141            74          1782\n",
       "2                        300            50            42          1066\n",
       "3                        401            62            23           724\n",
       "4                        402            83           124          2476"
      ]
     },
     "execution_count": 60,
     "metadata": {},
     "output_type": "execute_result"
    }
   ],
   "source": [
    "# I gave you the queryCarto script which I imported at the top\n",
    "SQL_SOURCE = 'https://fb55.carto.com:443/api/v2/sql?q='\n",
    "\n",
    "tmp2 = qc.get_data(\"SELECT  public_use_microdata_area, %s, %s, %s FROM fb55.acs15\"%(keyUnemployedM,\n",
    "                                                                                    keyUnemployedF,                                                                                    keysurveyed), \n",
    "               sql_source=SQL_SOURCE)\n",
    "tmp2.head()"
   ]
  },
  {
   "cell_type": "markdown",
   "metadata": {
    "run_control": {
     "frozen": false,
     "read_only": false
    }
   },
   "source": [
    "**or use the solution**"
   ]
  },
  {
   "cell_type": "code",
   "execution_count": 66,
   "metadata": {
    "ExecuteTime": {
     "end_time": "2018-11-15T20:49:39.554001Z",
     "start_time": "2018-11-15T20:49:39.167207Z"
    },
    "run_control": {
     "frozen": false,
     "read_only": false
    }
   },
   "outputs": [
    {
     "data": {
      "text/html": [
       "<div>\n",
       "<style scoped>\n",
       "    .dataframe tbody tr th:only-of-type {\n",
       "        vertical-align: middle;\n",
       "    }\n",
       "\n",
       "    .dataframe tbody tr th {\n",
       "        vertical-align: top;\n",
       "    }\n",
       "\n",
       "    .dataframe thead th {\n",
       "        text-align: right;\n",
       "    }\n",
       "</style>\n",
       "<table border=\"1\" class=\"dataframe\">\n",
       "  <thead>\n",
       "    <tr style=\"text-align: right;\">\n",
       "      <th></th>\n",
       "      <th>unemployedF</th>\n",
       "      <th>total</th>\n",
       "      <th>public use microdata area</th>\n",
       "    </tr>\n",
       "  </thead>\n",
       "  <tbody>\n",
       "    <tr>\n",
       "      <th>0</th>\n",
       "      <td>0.118098</td>\n",
       "      <td>1304</td>\n",
       "      <td>100</td>\n",
       "    </tr>\n",
       "    <tr>\n",
       "      <th>1</th>\n",
       "      <td>0.120651</td>\n",
       "      <td>1782</td>\n",
       "      <td>200</td>\n",
       "    </tr>\n",
       "    <tr>\n",
       "      <th>2</th>\n",
       "      <td>0.086304</td>\n",
       "      <td>1066</td>\n",
       "      <td>300</td>\n",
       "    </tr>\n",
       "    <tr>\n",
       "      <th>3</th>\n",
       "      <td>0.117403</td>\n",
       "      <td>724</td>\n",
       "      <td>401</td>\n",
       "    </tr>\n",
       "    <tr>\n",
       "      <th>4</th>\n",
       "      <td>0.083603</td>\n",
       "      <td>2476</td>\n",
       "      <td>402</td>\n",
       "    </tr>\n",
       "  </tbody>\n",
       "</table>\n",
       "</div>"
      ],
      "text/plain": [
       "   unemployedF  total  public use microdata area\n",
       "0     0.118098   1304                        100\n",
       "1     0.120651   1782                        200\n",
       "2     0.086304   1066                        300\n",
       "3     0.117403    724                        401\n",
       "4     0.083603   2476                        402"
      ]
     },
     "execution_count": 66,
     "metadata": {},
     "output_type": "execute_result"
    }
   ],
   "source": [
    "pumaUnemployment = pd.read_csv(\"https://serv.cusp.nyu.edu/~fbianco/PUIdata/acs15_final.csv\"\n",
    "           ).drop(\"Unnamed: 0\", axis=1)\n",
    "pumaUnemployment.head()"
   ]
  },
  {
   "cell_type": "markdown",
   "metadata": {
    "run_control": {
     "frozen": false,
     "read_only": false
    }
   },
   "source": [
    "# Obtain the PUMA spatial file\n",
    "\n",
    "Download the PUMA shapefile for Brooklyn. \n",
    "\n",
    "_the deliverable for this portion is a plot of Brooklyn PUMAs like the one below_\n",
    "\n",
    "[hints](https://docs.google.com/document/d/1VebStvoAoq4YAVgQJ7gRjSyy8cycszIdgT33zJze5zk/edit?usp=sharing)"
   ]
  },
  {
   "cell_type": "markdown",
   "metadata": {},
   "source": [
    "A google search for PUMA NYC shape file takes me to the open data portal and I can find the download link to copy and paste\n",
    "\n",
    "![alt text](4_link1.png)"
   ]
  },
  {
   "cell_type": "code",
   "execution_count": 34,
   "metadata": {
    "ExecuteTime": {
     "end_time": "2018-11-15T20:31:13.604955Z",
     "start_time": "2018-11-15T20:31:12.554026Z"
    },
    "run_control": {
     "frozen": false,
     "read_only": false
    }
   },
   "outputs": [
    {
     "name": "stdout",
     "output_type": "stream",
     "text": [
      "Archive:  file.gz\r\n",
      "  inflating: /Users/fbb/Dropbox//UI/PUIdata/geo_export_23c76b5e-be10-4e36-b606-e8a9a2166641.dbf  \r\n",
      "  inflating: /Users/fbb/Dropbox//UI/PUIdata/geo_export_23c76b5e-be10-4e36-b606-e8a9a2166641.shp  \r\n",
      "  inflating: /Users/fbb/Dropbox//UI/PUIdata/geo_export_23c76b5e-be10-4e36-b606-e8a9a2166641.shx  \r\n",
      "  inflating: /Users/fbb/Dropbox//UI/PUIdata/geo_export_23c76b5e-be10-4e36-b606-e8a9a2166641.prj  \r\n"
     ]
    }
   ],
   "source": [
    "url = \"https://data.cityofnewyork.us/api/geospatial/cwiz-gcty?method=export&format=Shapefile\"\n",
    "urllib.request.urlretrieve(url, \"file.gz\")\n",
    "!unzip -d $PUIDATA file.gz"
   ]
  },
  {
   "cell_type": "code",
   "execution_count": 35,
   "metadata": {
    "ExecuteTime": {
     "end_time": "2018-11-15T20:31:15.211337Z",
     "start_time": "2018-11-15T20:31:15.041595Z"
    },
    "run_control": {
     "frozen": false,
     "read_only": false
    }
   },
   "outputs": [
    {
     "name": "stdout",
     "output_type": "stream",
     "text": [
      "Archive:  file.gz\r\n",
      "  inflating: geo_export_23c76b5e-be10-4e36-b606-e8a9a2166641.dbf  \r\n",
      "  inflating: geo_export_23c76b5e-be10-4e36-b606-e8a9a2166641.shp  \r\n",
      "  inflating: geo_export_23c76b5e-be10-4e36-b606-e8a9a2166641.shx  \r\n",
      "  inflating: geo_export_23c76b5e-be10-4e36-b606-e8a9a2166641.prj  \r\n"
     ]
    }
   ],
   "source": [
    "#!mv file.zip .\n",
    "!unzip file.gz"
   ]
  },
  {
   "cell_type": "code",
   "execution_count": 37,
   "metadata": {
    "ExecuteTime": {
     "end_time": "2018-11-15T20:31:36.118866Z",
     "start_time": "2018-11-15T20:31:35.988588Z"
    },
    "run_control": {
     "frozen": false,
     "read_only": false
    }
   },
   "outputs": [],
   "source": [
    "pumas = gpd.GeoDataFrame.from_file(os.getenv(\"PUIDATA\") + \n",
    "                \"/geo_export_23c76b5e-be10-4e36-b606-e8a9a2166641.shp\")"
   ]
  },
  {
   "cell_type": "code",
   "execution_count": 38,
   "metadata": {
    "ExecuteTime": {
     "end_time": "2018-11-15T20:31:38.605403Z",
     "start_time": "2018-11-15T20:31:38.522782Z"
    },
    "run_control": {
     "frozen": false,
     "read_only": false
    }
   },
   "outputs": [
    {
     "data": {
      "text/html": [
       "<div>\n",
       "<style scoped>\n",
       "    .dataframe tbody tr th:only-of-type {\n",
       "        vertical-align: middle;\n",
       "    }\n",
       "\n",
       "    .dataframe tbody tr th {\n",
       "        vertical-align: top;\n",
       "    }\n",
       "\n",
       "    .dataframe thead th {\n",
       "        text-align: right;\n",
       "    }\n",
       "</style>\n",
       "<table border=\"1\" class=\"dataframe\">\n",
       "  <thead>\n",
       "    <tr style=\"text-align: right;\">\n",
       "      <th></th>\n",
       "      <th>puma</th>\n",
       "      <th>shape_area</th>\n",
       "      <th>shape_leng</th>\n",
       "      <th>geometry</th>\n",
       "    </tr>\n",
       "  </thead>\n",
       "  <tbody>\n",
       "    <tr>\n",
       "      <th>0</th>\n",
       "      <td>3701</td>\n",
       "      <td>9.792852e+07</td>\n",
       "      <td>53227.144461</td>\n",
       "      <td>POLYGON ((-73.89641133483133 40.90450452082026...</td>\n",
       "    </tr>\n",
       "    <tr>\n",
       "      <th>1</th>\n",
       "      <td>3702</td>\n",
       "      <td>1.889860e+08</td>\n",
       "      <td>106050.002302</td>\n",
       "      <td>POLYGON ((-73.8442314689986 40.86942035096838,...</td>\n",
       "    </tr>\n",
       "    <tr>\n",
       "      <th>2</th>\n",
       "      <td>3703</td>\n",
       "      <td>2.670137e+08</td>\n",
       "      <td>304071.257466</td>\n",
       "      <td>(POLYGON ((-73.78833349834532 40.8346671297593...</td>\n",
       "    </tr>\n",
       "    <tr>\n",
       "      <th>3</th>\n",
       "      <td>3704</td>\n",
       "      <td>1.062129e+08</td>\n",
       "      <td>47970.901277</td>\n",
       "      <td>POLYGON ((-73.84792614069238 40.8713422330779,...</td>\n",
       "    </tr>\n",
       "    <tr>\n",
       "      <th>4</th>\n",
       "      <td>4015</td>\n",
       "      <td>8.105438e+07</td>\n",
       "      <td>50007.415493</td>\n",
       "      <td>POLYGON ((-73.95374853778468 40.63858633758547...</td>\n",
       "    </tr>\n",
       "  </tbody>\n",
       "</table>\n",
       "</div>"
      ],
      "text/plain": [
       "   puma    shape_area     shape_leng  \\\n",
       "0  3701  9.792852e+07   53227.144461   \n",
       "1  3702  1.889860e+08  106050.002302   \n",
       "2  3703  2.670137e+08  304071.257466   \n",
       "3  3704  1.062129e+08   47970.901277   \n",
       "4  4015  8.105438e+07   50007.415493   \n",
       "\n",
       "                                            geometry  \n",
       "0  POLYGON ((-73.89641133483133 40.90450452082026...  \n",
       "1  POLYGON ((-73.8442314689986 40.86942035096838,...  \n",
       "2  (POLYGON ((-73.78833349834532 40.8346671297593...  \n",
       "3  POLYGON ((-73.84792614069238 40.8713422330779,...  \n",
       "4  POLYGON ((-73.95374853778468 40.63858633758547...  "
      ]
     },
     "execution_count": 38,
     "metadata": {},
     "output_type": "execute_result"
    }
   ],
   "source": [
    "pumas.head()"
   ]
  },
  {
   "cell_type": "code",
   "execution_count": 39,
   "metadata": {
    "ExecuteTime": {
     "end_time": "2018-11-15T20:31:42.246650Z",
     "start_time": "2018-11-15T20:31:41.258504Z"
    },
    "run_control": {
     "frozen": false,
     "read_only": false
    }
   },
   "outputs": [
    {
     "name": "stderr",
     "output_type": "stream",
     "text": [
      "//anaconda/envs/GEOP/lib/python3.6/site-packages/geopandas/plotting.py:389: UserWarning: Only specify one of 'column' or 'color'. Using 'color'.\n",
      "  \"'color'.\", UserWarning)\n"
     ]
    },
    {
     "data": {
      "image/png": "[encoded data removed]",
      "text/plain": [
       "<Figure size 720x720 with 1 Axes>"
      ]
     },
     "metadata": {},
     "output_type": "display_data"
    }
   ],
   "source": [
    "#leave\n",
    "bk = pumas[(pumas.puma.astype(int) > 4000)]\n",
    "ax = bk.plot(column='puma', color=\"w\", edgecolor=\"k\", figsize=(10,10))\n",
    "ax.set_xlabel(\"longitude (deg)\", fontsize=20)\n",
    "ax.set_ylabel(\"latitude (deg)\", fontsize=20);"
   ]
  },
  {
   "cell_type": "markdown",
   "metadata": {},
   "source": [
    "**Figure 3** Map of the Public Use Microarea (PUMA) Data Census geography from 2017. PUMAs are \"PUMAs are statistical geographic areas defined for the dissemination of Public Use Microdata Sample (PUMS) data. PUMAs have a minimum population of 100,000, are aggregated from census tracts, and approximate Community Districts (CDs), or combinations of CDs\" - reference: NYC Open Data https://data.cityofnewyork.us/Housing-Development/Public-Use-Microdata-Areas-PUMA-/cwiz-gcty"
   ]
  },
  {
   "cell_type": "markdown",
   "metadata": {},
   "source": [
    "**Note: ** In the caption above I literally cied and pasted the \"About\" in the NYC Open Data PUMA page, and given appropriate credit to the reference"
   ]
  },
  {
   "cell_type": "markdown",
   "metadata": {
    "run_control": {
     "frozen": false,
     "read_only": false
    }
   },
   "source": [
    "# Download the file assigning each park to a Puma\n",
    "I prepared this file by assigning average park conditions and number of parks in each PUMA based on whose center the park falls in. \n",
    "\n",
    "https://serv.cusp.nyu.edu/~fbianco/PUIdata/parkToPuma.csv\n",
    "\n",
    "_Deliverable a table of parks by Puma_\n"
   ]
  },
  {
   "cell_type": "markdown",
   "metadata": {},
   "source": [
    "**Note:** this was your \"freebe\": something very simple that would give you 10 points. I hope you read the instructions and realized it and got these points!"
   ]
  },
  {
   "cell_type": "code",
   "execution_count": 74,
   "metadata": {
    "ExecuteTime": {
     "end_time": "2018-11-15T20:51:01.108349Z",
     "start_time": "2018-11-15T20:51:00.961946Z"
    },
    "run_control": {
     "frozen": false,
     "read_only": false
    },
    "solution": "hidden",
    "solution_first": true
   },
   "outputs": [],
   "source": [
    "parkByPuma = pd.read_csv(\"https://serv.cusp.nyu.edu/~fbianco/PUIdata/parkToPuma.csv\")\n",
    "parkByPuma.rename(columns={\"gispropnum\":\"parkcount\"}, inplace=True)"
   ]
  },
  {
   "cell_type": "code",
   "execution_count": 71,
   "metadata": {
    "ExecuteTime": {
     "end_time": "2018-11-15T20:50:42.641731Z",
     "start_time": "2018-11-15T20:50:42.630282Z"
    },
    "run_control": {
     "frozen": false,
     "read_only": false
    },
    "solution": "hidden"
   },
   "outputs": [
    {
     "data": {
      "text/html": [
       "<div>\n",
       "<style scoped>\n",
       "    .dataframe tbody tr th:only-of-type {\n",
       "        vertical-align: middle;\n",
       "    }\n",
       "\n",
       "    .dataframe tbody tr th {\n",
       "        vertical-align: top;\n",
       "    }\n",
       "\n",
       "    .dataframe thead th {\n",
       "        text-align: right;\n",
       "    }\n",
       "</style>\n",
       "<table border=\"1\" class=\"dataframe\">\n",
       "  <thead>\n",
       "    <tr style=\"text-align: right;\">\n",
       "      <th></th>\n",
       "      <th>puma</th>\n",
       "      <th>condition</th>\n",
       "      <th>parkcount</th>\n",
       "    </tr>\n",
       "  </thead>\n",
       "  <tbody>\n",
       "    <tr>\n",
       "      <th>0</th>\n",
       "      <td>4001</td>\n",
       "      <td>0.633277</td>\n",
       "      <td>52</td>\n",
       "    </tr>\n",
       "    <tr>\n",
       "      <th>1</th>\n",
       "      <td>4002</td>\n",
       "      <td>0.456086</td>\n",
       "      <td>17</td>\n",
       "    </tr>\n",
       "    <tr>\n",
       "      <th>2</th>\n",
       "      <td>4003</td>\n",
       "      <td>0.384951</td>\n",
       "      <td>23</td>\n",
       "    </tr>\n",
       "    <tr>\n",
       "      <th>3</th>\n",
       "      <td>4004</td>\n",
       "      <td>0.648573</td>\n",
       "      <td>49</td>\n",
       "    </tr>\n",
       "    <tr>\n",
       "      <th>4</th>\n",
       "      <td>4005</td>\n",
       "      <td>0.718519</td>\n",
       "      <td>29</td>\n",
       "    </tr>\n",
       "  </tbody>\n",
       "</table>\n",
       "</div>"
      ],
      "text/plain": [
       "   puma  condition  parkcount\n",
       "0  4001   0.633277         52\n",
       "1  4002   0.456086         17\n",
       "2  4003   0.384951         23\n",
       "3  4004   0.648573         49\n",
       "4  4005   0.718519         29"
      ]
     },
     "execution_count": 71,
     "metadata": {},
     "output_type": "execute_result"
    }
   ],
   "source": [
    "#leave\n",
    "parkByPuma.head()"
   ]
  },
  {
   "cell_type": "markdown",
   "metadata": {
    "ExecuteTime": {
     "end_time": "2018-11-15T20:38:57.666051Z",
     "start_time": "2018-11-15T20:38:57.655299Z"
    }
   },
   "source": [
    "## Extra Credit 1 - recreate the ParksByPUMA file\n",
    "\n",
    "I created this file by assigning to each park the PUMA whose park center falls in. I extracted the parks centers from the parks geometry column and did a geopandas spatial joint based on that (gpd.sjoin). I also counted the unique park names by PUMA and declared that is a good proxy for park access in a PUMA (is it?) Can you reproduce this? \n",
    "\n",
    "## Extra Credit 2 - do it better\n",
    "\n",
    "There are better ways to do it. Can you do it better? for example a better assignment would be to assign the PUMA that contains most of the park. Or assign multiple PUMAs if fractions of the park are in multiple PUMAs, or assign the PUMA tht contains the majority of the park. Up to you! But describe and motivate your choices.\n",
    "\n",
    "**please finish the mandatory tasks before attempting this!**"
   ]
  },
  {
   "cell_type": "markdown",
   "metadata": {},
   "source": [
    "### find the centroid of each park"
   ]
  },
  {
   "cell_type": "code",
   "execution_count": 63,
   "metadata": {
    "ExecuteTime": {
     "end_time": "2018-11-15T07:55:58.331599Z",
     "start_time": "2018-11-15T07:55:58.316587Z"
    },
    "run_control": {
     "frozen": false,
     "read_only": false
    }
   },
   "outputs": [],
   "source": [
    "bkParks[\"centers\"] = bkParks.centroid"
   ]
  },
  {
   "cell_type": "markdown",
   "metadata": {},
   "source": [
    "### set that as the new shapefile geometry\n",
    "I created a new shapefile so I would not mess with the other one"
   ]
  },
  {
   "cell_type": "code",
   "execution_count": 78,
   "metadata": {
    "ExecuteTime": {
     "end_time": "2018-11-08T23:34:44.958213Z",
     "start_time": "2018-11-08T23:34:44.952727Z"
    },
    "run_control": {
     "frozen": false,
     "read_only": false
    }
   },
   "outputs": [],
   "source": [
    "bkParks2.rename(columns={\"centers\":\"geometry\"}, inplace=True) "
   ]
  },
  {
   "cell_type": "markdown",
   "metadata": {},
   "source": [
    "### spatial joint to assign each park to a PUMA based on where the center of the park is"
   ]
  },
  {
   "cell_type": "code",
   "execution_count": 79,
   "metadata": {
    "ExecuteTime": {
     "end_time": "2018-11-08T23:34:45.379720Z",
     "start_time": "2018-11-08T23:34:45.205702Z"
    },
    "run_control": {
     "frozen": false,
     "read_only": false
    }
   },
   "outputs": [],
   "source": [
    "pd.DataFrame(gpd.sjoin(bkParks2, bk)[[\"gispropnum\", \"puma\"]]).to_csv(\"parkToPuma.csv\", index=False)"
   ]
  },
  {
   "cell_type": "markdown",
   "metadata": {
    "ExecuteTime": {
     "end_time": "2018-11-08T23:30:56.311486Z",
     "start_time": "2018-11-08T23:30:27.057Z"
    },
    "run_control": {
     "frozen": false,
     "read_only": false
    }
   },
   "source": [
    "a better solution would be to calculate the area with the gpd.intersect function for each park and each puma"
   ]
  },
  {
   "cell_type": "markdown",
   "metadata": {
    "run_control": {
     "frozen": false,
     "read_only": false
    }
   },
   "source": [
    "# Data Aggregation\n",
    "\n",
    "merge the dataframes and geodataframes (pumas, park inspections, unemployment), group them so that each PUMA has \n",
    "1. the unemployed fraction\n",
    "2. the average park condition\n",
    "3. the number of parks per PUMA\n",
    "4. the shape of the area (PUMA)\n",
    "\n",
    "_Your deliverable for this task is a dataframe like the one below_\n",
    "\n",
    "You can find the solution [here](https://serv.cusp.nyu.edu/~fbianco/PUIdata/parksFinal.csv) - if you use this solution you will not get the 10 points for this deliverable (but you can go back later to this! and if you do get the solution later you will get the points!) You will stil have to secure the PUMA shape file if you want to make the plots and merge it with this file\n",
    "\n",
    "[hints](https://docs.google.com/document/d/1EJnoZ3NWiUBOx4swbNMMdEA2c_mMOnr108ov79d26sM/edit?usp=sharing)"
   ]
  },
  {
   "cell_type": "markdown",
   "metadata": {},
   "source": [
    "**Note** the only trick here was to initiate merges from the geo dataframes so you would have a geoDF at the end. If you downloaded the solution you still needed to merge it with the PUMA geoDF to get a geometry cause I provided the file as a flat csv file. That file contained the shapes, but they were not shapely objects"
   ]
  },
  {
   "cell_type": "markdown",
   "metadata": {},
   "source": [
    "since I will merge on the PUMA it is a goof idea to check what data type they are in each file"
   ]
  },
  {
   "cell_type": "code",
   "execution_count": 68,
   "metadata": {
    "ExecuteTime": {
     "end_time": "2018-11-15T20:50:14.899419Z",
     "start_time": "2018-11-15T20:50:14.894063Z"
    },
    "run_control": {
     "frozen": false,
     "read_only": false
    }
   },
   "outputs": [
    {
     "data": {
      "text/plain": [
       "dtype('int64')"
      ]
     },
     "execution_count": 68,
     "metadata": {},
     "output_type": "execute_result"
    }
   ],
   "source": [
    "pumaUnemployment[\"public use microdata area\"].dtype"
   ]
  },
  {
   "cell_type": "code",
   "execution_count": 72,
   "metadata": {
    "ExecuteTime": {
     "end_time": "2018-11-15T20:50:50.945377Z",
     "start_time": "2018-11-15T20:50:50.939796Z"
    }
   },
   "outputs": [
    {
     "data": {
      "text/plain": [
       "dtype('int64')"
      ]
     },
     "execution_count": 72,
     "metadata": {},
     "output_type": "execute_result"
    }
   ],
   "source": [
    "parkByPuma['puma'].dtype"
   ]
  },
  {
   "cell_type": "code",
   "execution_count": 76,
   "metadata": {
    "ExecuteTime": {
     "end_time": "2018-11-15T20:51:25.763360Z",
     "start_time": "2018-11-15T20:51:25.756497Z"
    }
   },
   "outputs": [
    {
     "data": {
      "text/plain": [
       "dtype('O')"
      ]
     },
     "execution_count": 76,
     "metadata": {},
     "output_type": "execute_result"
    }
   ],
   "source": [
    "bk[\"puma\"].dtype"
   ]
  },
  {
   "cell_type": "code",
   "execution_count": 78,
   "metadata": {
    "ExecuteTime": {
     "end_time": "2018-11-15T20:51:41.435225Z",
     "start_time": "2018-11-15T20:51:41.264599Z"
    },
    "run_control": {
     "frozen": false,
     "read_only": false
    }
   },
   "outputs": [
    {
     "name": "stderr",
     "output_type": "stream",
     "text": [
      "//anaconda/envs/GEOP/lib/python3.6/site-packages/ipykernel_launcher.py:1: SettingWithCopyWarning: \n",
      "A value is trying to be set on a copy of a slice from a DataFrame.\n",
      "Try using .loc[row_indexer,col_indexer] = value instead\n",
      "\n",
      "See the caveats in the documentation: http://pandas.pydata.org/pandas-docs/stable/indexing.html#indexing-view-versus-copy\n",
      "  \"\"\"Entry point for launching an IPython kernel.\n"
     ]
    }
   ],
   "source": [
    "bk[\"puma\"] = bk.puma.astype(int, errors='ignore')\n"
   ]
  },
  {
   "cell_type": "code",
   "execution_count": 75,
   "metadata": {
    "ExecuteTime": {
     "end_time": "2018-11-15T20:51:08.084504Z",
     "start_time": "2018-11-15T20:51:08.051029Z"
    },
    "run_control": {
     "frozen": false,
     "read_only": false
    }
   },
   "outputs": [
    {
     "data": {
      "text/html": [
       "<div>\n",
       "<style scoped>\n",
       "    .dataframe tbody tr th:only-of-type {\n",
       "        vertical-align: middle;\n",
       "    }\n",
       "\n",
       "    .dataframe tbody tr th {\n",
       "        vertical-align: top;\n",
       "    }\n",
       "\n",
       "    .dataframe thead th {\n",
       "        text-align: right;\n",
       "    }\n",
       "</style>\n",
       "<table border=\"1\" class=\"dataframe\">\n",
       "  <thead>\n",
       "    <tr style=\"text-align: right;\">\n",
       "      <th></th>\n",
       "      <th>unemployedF</th>\n",
       "      <th>total</th>\n",
       "      <th>public use microdata area</th>\n",
       "      <th>puma</th>\n",
       "      <th>condition</th>\n",
       "      <th>parkcount</th>\n",
       "    </tr>\n",
       "  </thead>\n",
       "  <tbody>\n",
       "    <tr>\n",
       "      <th>0</th>\n",
       "      <td>0.077348</td>\n",
       "      <td>2896</td>\n",
       "      <td>4001</td>\n",
       "      <td>4001</td>\n",
       "      <td>0.633277</td>\n",
       "      <td>52</td>\n",
       "    </tr>\n",
       "    <tr>\n",
       "      <th>1</th>\n",
       "      <td>0.093567</td>\n",
       "      <td>3420</td>\n",
       "      <td>4002</td>\n",
       "      <td>4002</td>\n",
       "      <td>0.456086</td>\n",
       "      <td>17</td>\n",
       "    </tr>\n",
       "    <tr>\n",
       "      <th>2</th>\n",
       "      <td>0.100330</td>\n",
       "      <td>2422</td>\n",
       "      <td>4003</td>\n",
       "      <td>4003</td>\n",
       "      <td>0.384951</td>\n",
       "      <td>23</td>\n",
       "    </tr>\n",
       "    <tr>\n",
       "      <th>3</th>\n",
       "      <td>0.076729</td>\n",
       "      <td>3571</td>\n",
       "      <td>4004</td>\n",
       "      <td>4004</td>\n",
       "      <td>0.648573</td>\n",
       "      <td>49</td>\n",
       "    </tr>\n",
       "    <tr>\n",
       "      <th>4</th>\n",
       "      <td>0.070968</td>\n",
       "      <td>3100</td>\n",
       "      <td>4005</td>\n",
       "      <td>4005</td>\n",
       "      <td>0.718519</td>\n",
       "      <td>29</td>\n",
       "    </tr>\n",
       "    <tr>\n",
       "      <th>5</th>\n",
       "      <td>0.064383</td>\n",
       "      <td>2656</td>\n",
       "      <td>4006</td>\n",
       "      <td>4006</td>\n",
       "      <td>0.587387</td>\n",
       "      <td>15</td>\n",
       "    </tr>\n",
       "    <tr>\n",
       "      <th>6</th>\n",
       "      <td>0.093041</td>\n",
       "      <td>1322</td>\n",
       "      <td>4007</td>\n",
       "      <td>4007</td>\n",
       "      <td>0.531822</td>\n",
       "      <td>31</td>\n",
       "    </tr>\n",
       "    <tr>\n",
       "      <th>7</th>\n",
       "      <td>0.080983</td>\n",
       "      <td>2482</td>\n",
       "      <td>4008</td>\n",
       "      <td>4008</td>\n",
       "      <td>0.534375</td>\n",
       "      <td>20</td>\n",
       "    </tr>\n",
       "    <tr>\n",
       "      <th>8</th>\n",
       "      <td>0.026827</td>\n",
       "      <td>2162</td>\n",
       "      <td>4009</td>\n",
       "      <td>4009</td>\n",
       "      <td>0.385263</td>\n",
       "      <td>27</td>\n",
       "    </tr>\n",
       "    <tr>\n",
       "      <th>9</th>\n",
       "      <td>0.103331</td>\n",
       "      <td>1471</td>\n",
       "      <td>4010</td>\n",
       "      <td>4010</td>\n",
       "      <td>0.699052</td>\n",
       "      <td>11</td>\n",
       "    </tr>\n",
       "    <tr>\n",
       "      <th>10</th>\n",
       "      <td>0.067384</td>\n",
       "      <td>1395</td>\n",
       "      <td>4011</td>\n",
       "      <td>4011</td>\n",
       "      <td>0.624242</td>\n",
       "      <td>8</td>\n",
       "    </tr>\n",
       "    <tr>\n",
       "      <th>11</th>\n",
       "      <td>0.048829</td>\n",
       "      <td>3031</td>\n",
       "      <td>4012</td>\n",
       "      <td>4012</td>\n",
       "      <td>0.516839</td>\n",
       "      <td>23</td>\n",
       "    </tr>\n",
       "    <tr>\n",
       "      <th>12</th>\n",
       "      <td>0.081358</td>\n",
       "      <td>1856</td>\n",
       "      <td>4013</td>\n",
       "      <td>4013</td>\n",
       "      <td>0.464455</td>\n",
       "      <td>12</td>\n",
       "    </tr>\n",
       "    <tr>\n",
       "      <th>13</th>\n",
       "      <td>0.046433</td>\n",
       "      <td>1486</td>\n",
       "      <td>4014</td>\n",
       "      <td>4014</td>\n",
       "      <td>0.612903</td>\n",
       "      <td>10</td>\n",
       "    </tr>\n",
       "    <tr>\n",
       "      <th>14</th>\n",
       "      <td>0.105145</td>\n",
       "      <td>2235</td>\n",
       "      <td>4015</td>\n",
       "      <td>4015</td>\n",
       "      <td>0.783784</td>\n",
       "      <td>9</td>\n",
       "    </tr>\n",
       "    <tr>\n",
       "      <th>15</th>\n",
       "      <td>0.055728</td>\n",
       "      <td>1292</td>\n",
       "      <td>4016</td>\n",
       "      <td>4016</td>\n",
       "      <td>0.636923</td>\n",
       "      <td>18</td>\n",
       "    </tr>\n",
       "    <tr>\n",
       "      <th>16</th>\n",
       "      <td>0.085205</td>\n",
       "      <td>1291</td>\n",
       "      <td>4017</td>\n",
       "      <td>4017</td>\n",
       "      <td>0.393805</td>\n",
       "      <td>14</td>\n",
       "    </tr>\n",
       "    <tr>\n",
       "      <th>17</th>\n",
       "      <td>0.049550</td>\n",
       "      <td>1332</td>\n",
       "      <td>4018</td>\n",
       "      <td>4018</td>\n",
       "      <td>0.301556</td>\n",
       "      <td>15</td>\n",
       "    </tr>\n",
       "  </tbody>\n",
       "</table>\n",
       "</div>"
      ],
      "text/plain": [
       "    unemployedF  total  public use microdata area  puma  condition  parkcount\n",
       "0      0.077348   2896                       4001  4001   0.633277         52\n",
       "1      0.093567   3420                       4002  4002   0.456086         17\n",
       "2      0.100330   2422                       4003  4003   0.384951         23\n",
       "3      0.076729   3571                       4004  4004   0.648573         49\n",
       "4      0.070968   3100                       4005  4005   0.718519         29\n",
       "5      0.064383   2656                       4006  4006   0.587387         15\n",
       "6      0.093041   1322                       4007  4007   0.531822         31\n",
       "7      0.080983   2482                       4008  4008   0.534375         20\n",
       "8      0.026827   2162                       4009  4009   0.385263         27\n",
       "9      0.103331   1471                       4010  4010   0.699052         11\n",
       "10     0.067384   1395                       4011  4011   0.624242          8\n",
       "11     0.048829   3031                       4012  4012   0.516839         23\n",
       "12     0.081358   1856                       4013  4013   0.464455         12\n",
       "13     0.046433   1486                       4014  4014   0.612903         10\n",
       "14     0.105145   2235                       4015  4015   0.783784          9\n",
       "15     0.055728   1292                       4016  4016   0.636923         18\n",
       "16     0.085205   1291                       4017  4017   0.393805         14\n",
       "17     0.049550   1332                       4018  4018   0.301556         15"
      ]
     },
     "execution_count": 75,
     "metadata": {},
     "output_type": "execute_result"
    }
   ],
   "source": [
    "pumaUnemployment = pumaUnemployment.merge(parkByPuma, \n",
    "                                          left_on=\"public use microdata area\", \n",
    "                                          right_on=\"puma\")\n",
    "pumaUnemployment"
   ]
  },
  {
   "cell_type": "code",
   "execution_count": 79,
   "metadata": {
    "ExecuteTime": {
     "end_time": "2018-11-15T20:51:50.272874Z",
     "start_time": "2018-11-15T20:51:50.259655Z"
    },
    "run_control": {
     "frozen": false,
     "read_only": false
    }
   },
   "outputs": [],
   "source": [
    "bkmerged = bk.merge(pumaUnemployment, on=\"puma\")[[\"puma\", \n",
    "                                                  \"unemployedF\", \n",
    "                                                  \"condition\", \n",
    "                                                  \"parkcount\", \"geometry\"]]"
   ]
  },
  {
   "cell_type": "code",
   "execution_count": 80,
   "metadata": {
    "ExecuteTime": {
     "end_time": "2018-11-15T20:51:52.562604Z",
     "start_time": "2018-11-15T20:51:52.526549Z"
    },
    "run_control": {
     "frozen": false,
     "read_only": false
    }
   },
   "outputs": [
    {
     "data": {
      "text/html": [
       "<div>\n",
       "<style scoped>\n",
       "    .dataframe tbody tr th:only-of-type {\n",
       "        vertical-align: middle;\n",
       "    }\n",
       "\n",
       "    .dataframe tbody tr th {\n",
       "        vertical-align: top;\n",
       "    }\n",
       "\n",
       "    .dataframe thead th {\n",
       "        text-align: right;\n",
       "    }\n",
       "</style>\n",
       "<table border=\"1\" class=\"dataframe\">\n",
       "  <thead>\n",
       "    <tr style=\"text-align: right;\">\n",
       "      <th></th>\n",
       "      <th>puma</th>\n",
       "      <th>unemployedF</th>\n",
       "      <th>condition</th>\n",
       "      <th>parkcount</th>\n",
       "      <th>geometry</th>\n",
       "    </tr>\n",
       "  </thead>\n",
       "  <tbody>\n",
       "    <tr>\n",
       "      <th>0</th>\n",
       "      <td>4015</td>\n",
       "      <td>0.105145</td>\n",
       "      <td>0.783784</td>\n",
       "      <td>9</td>\n",
       "      <td>POLYGON ((-73.95374853778468 40.63858633758547...</td>\n",
       "    </tr>\n",
       "    <tr>\n",
       "      <th>1</th>\n",
       "      <td>4016</td>\n",
       "      <td>0.055728</td>\n",
       "      <td>0.636923</td>\n",
       "      <td>18</td>\n",
       "      <td>POLYGON ((-73.94405560932151 40.61199284173428...</td>\n",
       "    </tr>\n",
       "    <tr>\n",
       "      <th>2</th>\n",
       "      <td>4006</td>\n",
       "      <td>0.064383</td>\n",
       "      <td>0.587387</td>\n",
       "      <td>15</td>\n",
       "      <td>POLYGON ((-73.95526963654763 40.67012490485409...</td>\n",
       "    </tr>\n",
       "    <tr>\n",
       "      <th>3</th>\n",
       "      <td>4011</td>\n",
       "      <td>0.067384</td>\n",
       "      <td>0.624242</td>\n",
       "      <td>8</td>\n",
       "      <td>POLYGON ((-73.92828249221591 40.66144706650274...</td>\n",
       "    </tr>\n",
       "    <tr>\n",
       "      <th>4</th>\n",
       "      <td>4012</td>\n",
       "      <td>0.048829</td>\n",
       "      <td>0.516839</td>\n",
       "      <td>23</td>\n",
       "      <td>POLYGON ((-73.99684490483776 40.66903132477106...</td>\n",
       "    </tr>\n",
       "  </tbody>\n",
       "</table>\n",
       "</div>"
      ],
      "text/plain": [
       "   puma  unemployedF  condition  parkcount  \\\n",
       "0  4015     0.105145   0.783784          9   \n",
       "1  4016     0.055728   0.636923         18   \n",
       "2  4006     0.064383   0.587387         15   \n",
       "3  4011     0.067384   0.624242          8   \n",
       "4  4012     0.048829   0.516839         23   \n",
       "\n",
       "                                            geometry  \n",
       "0  POLYGON ((-73.95374853778468 40.63858633758547...  \n",
       "1  POLYGON ((-73.94405560932151 40.61199284173428...  \n",
       "2  POLYGON ((-73.95526963654763 40.67012490485409...  \n",
       "3  POLYGON ((-73.92828249221591 40.66144706650274...  \n",
       "4  POLYGON ((-73.99684490483776 40.66903132477106...  "
      ]
     },
     "execution_count": 80,
     "metadata": {},
     "output_type": "execute_result"
    }
   ],
   "source": [
    "#leave\n",
    "bkmerged.head()"
   ]
  },
  {
   "cell_type": "raw",
   "metadata": {
    "ExecuteTime": {
     "end_time": "2018-11-08T23:30:56.327061Z",
     "start_time": "2018-11-08T23:30:27.118Z"
    },
    "run_control": {
     "frozen": false,
     "read_only": false
    }
   },
   "source": [
    "# this is the file I saved for your solution\n",
    "bkmerged.to_csv(\"parksFinal.csv\")"
   ]
  },
  {
   "cell_type": "markdown",
   "metadata": {},
   "source": [
    "**or use the solution**"
   ]
  },
  {
   "cell_type": "code",
   "execution_count": 87,
   "metadata": {
    "ExecuteTime": {
     "end_time": "2018-11-15T20:55:30.574015Z",
     "start_time": "2018-11-15T20:55:29.301619Z"
    }
   },
   "outputs": [
    {
     "data": {
      "text/html": [
       "<div>\n",
       "<style scoped>\n",
       "    .dataframe tbody tr th:only-of-type {\n",
       "        vertical-align: middle;\n",
       "    }\n",
       "\n",
       "    .dataframe tbody tr th {\n",
       "        vertical-align: top;\n",
       "    }\n",
       "\n",
       "    .dataframe thead th {\n",
       "        text-align: right;\n",
       "    }\n",
       "</style>\n",
       "<table border=\"1\" class=\"dataframe\">\n",
       "  <thead>\n",
       "    <tr style=\"text-align: right;\">\n",
       "      <th></th>\n",
       "      <th>Unnamed: 0</th>\n",
       "      <th>puma</th>\n",
       "      <th>unemployedF</th>\n",
       "      <th>condition</th>\n",
       "      <th>parkcount</th>\n",
       "      <th>geometry</th>\n",
       "    </tr>\n",
       "  </thead>\n",
       "  <tbody>\n",
       "    <tr>\n",
       "      <th>0</th>\n",
       "      <td>0</td>\n",
       "      <td>4015</td>\n",
       "      <td>0.105145</td>\n",
       "      <td>0.783784</td>\n",
       "      <td>9</td>\n",
       "      <td>POLYGON ((-73.95374853778468 40.63858633758547...</td>\n",
       "    </tr>\n",
       "    <tr>\n",
       "      <th>1</th>\n",
       "      <td>1</td>\n",
       "      <td>4016</td>\n",
       "      <td>0.055728</td>\n",
       "      <td>0.636923</td>\n",
       "      <td>18</td>\n",
       "      <td>POLYGON ((-73.94405560932151 40.61199284173428...</td>\n",
       "    </tr>\n",
       "    <tr>\n",
       "      <th>2</th>\n",
       "      <td>2</td>\n",
       "      <td>4006</td>\n",
       "      <td>0.064383</td>\n",
       "      <td>0.587387</td>\n",
       "      <td>15</td>\n",
       "      <td>POLYGON ((-73.95526963654763 40.67012490485409...</td>\n",
       "    </tr>\n",
       "    <tr>\n",
       "      <th>3</th>\n",
       "      <td>3</td>\n",
       "      <td>4011</td>\n",
       "      <td>0.067384</td>\n",
       "      <td>0.624242</td>\n",
       "      <td>8</td>\n",
       "      <td>POLYGON ((-73.92828249221591 40.66144706650274...</td>\n",
       "    </tr>\n",
       "    <tr>\n",
       "      <th>4</th>\n",
       "      <td>4</td>\n",
       "      <td>4012</td>\n",
       "      <td>0.048829</td>\n",
       "      <td>0.516839</td>\n",
       "      <td>23</td>\n",
       "      <td>POLYGON ((-73.99684490483776 40.66903132477106...</td>\n",
       "    </tr>\n",
       "  </tbody>\n",
       "</table>\n",
       "</div>"
      ],
      "text/plain": [
       "   Unnamed: 0  puma  unemployedF  condition  parkcount  \\\n",
       "0           0  4015     0.105145   0.783784          9   \n",
       "1           1  4016     0.055728   0.636923         18   \n",
       "2           2  4006     0.064383   0.587387         15   \n",
       "3           3  4011     0.067384   0.624242          8   \n",
       "4           4  4012     0.048829   0.516839         23   \n",
       "\n",
       "                                            geometry  \n",
       "0  POLYGON ((-73.95374853778468 40.63858633758547...  \n",
       "1  POLYGON ((-73.94405560932151 40.61199284173428...  \n",
       "2  POLYGON ((-73.95526963654763 40.67012490485409...  \n",
       "3  POLYGON ((-73.92828249221591 40.66144706650274...  \n",
       "4  POLYGON ((-73.99684490483776 40.66903132477106...  "
      ]
     },
     "execution_count": 87,
     "metadata": {},
     "output_type": "execute_result"
    }
   ],
   "source": [
    "mergedSolution = pd.read_csv(\"https://serv.cusp.nyu.edu/~fbianco/PUIdata/parksFinal.csv\")\n",
    "mergedSolution.head()"
   ]
  },
  {
   "cell_type": "code",
   "execution_count": 88,
   "metadata": {
    "ExecuteTime": {
     "end_time": "2018-11-15T20:55:30.588969Z",
     "start_time": "2018-11-15T20:55:30.579417Z"
    }
   },
   "outputs": [
    {
     "data": {
      "text/plain": [
       "dtype('O')"
      ]
     },
     "execution_count": 88,
     "metadata": {},
     "output_type": "execute_result"
    }
   ],
   "source": [
    "mergedSolution.geometry.dtype"
   ]
  },
  {
   "cell_type": "markdown",
   "metadata": {},
   "source": [
    "*two way to get the shapely objects back in the file*\n",
    "\n",
    "**1 merge with puma shapefile**"
   ]
  },
  {
   "cell_type": "code",
   "execution_count": 102,
   "metadata": {
    "ExecuteTime": {
     "end_time": "2018-11-15T21:02:09.899058Z",
     "start_time": "2018-11-15T21:02:09.894084Z"
    }
   },
   "outputs": [],
   "source": [
    "mergedSolution.drop(\"geometry\", axis=1, inplace=True)"
   ]
  },
  {
   "cell_type": "code",
   "execution_count": 103,
   "metadata": {
    "ExecuteTime": {
     "end_time": "2018-11-15T21:02:12.458198Z",
     "start_time": "2018-11-15T21:02:12.443446Z"
    }
   },
   "outputs": [],
   "source": [
    "bkmerged = bk.merge(mergedSolution, on=\"puma\")[[\"puma\", \n",
    "                                                  \"unemployedF\", \n",
    "                                                  \"condition\", \n",
    "                                                  \"parkcount\", \"geometry\"]]"
   ]
  },
  {
   "cell_type": "code",
   "execution_count": 93,
   "metadata": {
    "ExecuteTime": {
     "end_time": "2018-11-15T20:56:20.068440Z",
     "start_time": "2018-11-15T20:56:20.029835Z"
    }
   },
   "outputs": [
    {
     "data": {
      "text/html": [
       "<div>\n",
       "<style scoped>\n",
       "    .dataframe tbody tr th:only-of-type {\n",
       "        vertical-align: middle;\n",
       "    }\n",
       "\n",
       "    .dataframe tbody tr th {\n",
       "        vertical-align: top;\n",
       "    }\n",
       "\n",
       "    .dataframe thead th {\n",
       "        text-align: right;\n",
       "    }\n",
       "</style>\n",
       "<table border=\"1\" class=\"dataframe\">\n",
       "  <thead>\n",
       "    <tr style=\"text-align: right;\">\n",
       "      <th></th>\n",
       "      <th>puma</th>\n",
       "      <th>unemployedF</th>\n",
       "      <th>condition</th>\n",
       "      <th>parkcount</th>\n",
       "      <th>geometry</th>\n",
       "    </tr>\n",
       "  </thead>\n",
       "  <tbody>\n",
       "    <tr>\n",
       "      <th>0</th>\n",
       "      <td>4015</td>\n",
       "      <td>0.105145</td>\n",
       "      <td>0.783784</td>\n",
       "      <td>9</td>\n",
       "      <td>POLYGON ((-73.95374853778468 40.63858633758547...</td>\n",
       "    </tr>\n",
       "    <tr>\n",
       "      <th>1</th>\n",
       "      <td>4016</td>\n",
       "      <td>0.055728</td>\n",
       "      <td>0.636923</td>\n",
       "      <td>18</td>\n",
       "      <td>POLYGON ((-73.94405560932151 40.61199284173428...</td>\n",
       "    </tr>\n",
       "    <tr>\n",
       "      <th>2</th>\n",
       "      <td>4006</td>\n",
       "      <td>0.064383</td>\n",
       "      <td>0.587387</td>\n",
       "      <td>15</td>\n",
       "      <td>POLYGON ((-73.95526963654763 40.67012490485409...</td>\n",
       "    </tr>\n",
       "    <tr>\n",
       "      <th>3</th>\n",
       "      <td>4011</td>\n",
       "      <td>0.067384</td>\n",
       "      <td>0.624242</td>\n",
       "      <td>8</td>\n",
       "      <td>POLYGON ((-73.92828249221591 40.66144706650274...</td>\n",
       "    </tr>\n",
       "    <tr>\n",
       "      <th>4</th>\n",
       "      <td>4012</td>\n",
       "      <td>0.048829</td>\n",
       "      <td>0.516839</td>\n",
       "      <td>23</td>\n",
       "      <td>POLYGON ((-73.99684490483776 40.66903132477106...</td>\n",
       "    </tr>\n",
       "  </tbody>\n",
       "</table>\n",
       "</div>"
      ],
      "text/plain": [
       "   puma  unemployedF  condition  parkcount  \\\n",
       "0  4015     0.105145   0.783784          9   \n",
       "1  4016     0.055728   0.636923         18   \n",
       "2  4006     0.064383   0.587387         15   \n",
       "3  4011     0.067384   0.624242          8   \n",
       "4  4012     0.048829   0.516839         23   \n",
       "\n",
       "                                            geometry  \n",
       "0  POLYGON ((-73.95374853778468 40.63858633758547...  \n",
       "1  POLYGON ((-73.94405560932151 40.61199284173428...  \n",
       "2  POLYGON ((-73.95526963654763 40.67012490485409...  \n",
       "3  POLYGON ((-73.92828249221591 40.66144706650274...  \n",
       "4  POLYGON ((-73.99684490483776 40.66903132477106...  "
      ]
     },
     "execution_count": 93,
     "metadata": {},
     "output_type": "execute_result"
    }
   ],
   "source": [
    "bkmerged.head()"
   ]
  },
  {
   "cell_type": "code",
   "execution_count": 105,
   "metadata": {
    "ExecuteTime": {
     "end_time": "2018-11-15T21:03:47.122286Z",
     "start_time": "2018-11-15T21:03:46.885025Z"
    }
   },
   "outputs": [
    {
     "data": {
      "image/png": "[encoded data removed]",
      "text/plain": [
       "<Figure size 432x288 with 1 Axes>"
      ]
     },
     "metadata": {},
     "output_type": "display_data"
    }
   ],
   "source": [
    "ax = bkmerged.plot()\n",
    "ax.axis('off')\n",
    "ax.set_title(\"puma test plot\");"
   ]
  },
  {
   "cell_type": "markdown",
   "metadata": {},
   "source": [
    "\n",
    "**convert geometry column to shapely objetc**\n",
    "\n",
    "you have done this with points in HW7 and in the lecture, but this is hard with polygons\n",
    "\n",
    "I had posted this [on slack](https://principleurbaninfo.slack.com/archives/CCJEW20RH/p1541118058084600)\n",
    " for the brave ones among you\n",
    "\n"
   ]
  },
  {
   "cell_type": "code",
   "execution_count": 100,
   "metadata": {
    "ExecuteTime": {
     "end_time": "2018-11-15T21:01:42.292834Z",
     "start_time": "2018-11-15T21:01:41.501589Z"
    }
   },
   "outputs": [
    {
     "data": {
      "text/html": [
       "<div>\n",
       "<style scoped>\n",
       "    .dataframe tbody tr th:only-of-type {\n",
       "        vertical-align: middle;\n",
       "    }\n",
       "\n",
       "    .dataframe tbody tr th {\n",
       "        vertical-align: top;\n",
       "    }\n",
       "\n",
       "    .dataframe thead th {\n",
       "        text-align: right;\n",
       "    }\n",
       "</style>\n",
       "<table border=\"1\" class=\"dataframe\">\n",
       "  <thead>\n",
       "    <tr style=\"text-align: right;\">\n",
       "      <th></th>\n",
       "      <th>Unnamed: 0</th>\n",
       "      <th>puma</th>\n",
       "      <th>unemployedF</th>\n",
       "      <th>condition</th>\n",
       "      <th>parkcount</th>\n",
       "      <th>geometry</th>\n",
       "    </tr>\n",
       "  </thead>\n",
       "  <tbody>\n",
       "    <tr>\n",
       "      <th>0</th>\n",
       "      <td>0</td>\n",
       "      <td>4015</td>\n",
       "      <td>0.105145</td>\n",
       "      <td>0.783784</td>\n",
       "      <td>9</td>\n",
       "      <td>POLYGON ((-73.95374853778468 40.63858633758547...</td>\n",
       "    </tr>\n",
       "    <tr>\n",
       "      <th>1</th>\n",
       "      <td>1</td>\n",
       "      <td>4016</td>\n",
       "      <td>0.055728</td>\n",
       "      <td>0.636923</td>\n",
       "      <td>18</td>\n",
       "      <td>POLYGON ((-73.94405560932151 40.61199284173428...</td>\n",
       "    </tr>\n",
       "    <tr>\n",
       "      <th>2</th>\n",
       "      <td>2</td>\n",
       "      <td>4006</td>\n",
       "      <td>0.064383</td>\n",
       "      <td>0.587387</td>\n",
       "      <td>15</td>\n",
       "      <td>POLYGON ((-73.95526963654763 40.67012490485409...</td>\n",
       "    </tr>\n",
       "    <tr>\n",
       "      <th>3</th>\n",
       "      <td>3</td>\n",
       "      <td>4011</td>\n",
       "      <td>0.067384</td>\n",
       "      <td>0.624242</td>\n",
       "      <td>8</td>\n",
       "      <td>POLYGON ((-73.92828249221591 40.66144706650274...</td>\n",
       "    </tr>\n",
       "    <tr>\n",
       "      <th>4</th>\n",
       "      <td>4</td>\n",
       "      <td>4012</td>\n",
       "      <td>0.048829</td>\n",
       "      <td>0.516839</td>\n",
       "      <td>23</td>\n",
       "      <td>POLYGON ((-73.99684490483776 40.66903132477106...</td>\n",
       "    </tr>\n",
       "  </tbody>\n",
       "</table>\n",
       "</div>"
      ],
      "text/plain": [
       "   Unnamed: 0  puma  unemployedF  condition  parkcount  \\\n",
       "0           0  4015     0.105145   0.783784          9   \n",
       "1           1  4016     0.055728   0.636923         18   \n",
       "2           2  4006     0.064383   0.587387         15   \n",
       "3           3  4011     0.067384   0.624242          8   \n",
       "4           4  4012     0.048829   0.516839         23   \n",
       "\n",
       "                                            geometry  \n",
       "0  POLYGON ((-73.95374853778468 40.63858633758547...  \n",
       "1  POLYGON ((-73.94405560932151 40.61199284173428...  \n",
       "2  POLYGON ((-73.95526963654763 40.67012490485409...  \n",
       "3  POLYGON ((-73.92828249221591 40.66144706650274...  \n",
       "4  POLYGON ((-73.99684490483776 40.66903132477106...  "
      ]
     },
     "execution_count": 100,
     "metadata": {},
     "output_type": "execute_result"
    }
   ],
   "source": [
    "bkmerged = pd.read_csv(\"https://serv.cusp.nyu.edu/~fbianco/PUIdata/parksFinal.csv\")\n",
    "bkmerged.head()"
   ]
  },
  {
   "cell_type": "code",
   "execution_count": null,
   "metadata": {
    "ExecuteTime": {
     "end_time": "2018-11-15T21:00:32.812999Z",
     "start_time": "2018-11-15T21:00:32.740598Z"
    }
   },
   "outputs": [],
   "source": [
    "import shapely.wkt \n",
    "P = [shapely.wkt.loads(shapely.wkt.dumps(g)) for g in \n",
    "     bkmerged.geometry.values]\n",
    "bkmerged['geometry'] = P\n",
    "bkmerged = gpd.GeoDataFrame(tmp)\n",
    "bkmerged.crs = bk.crs"
   ]
  },
  {
   "cell_type": "code",
   "execution_count": 106,
   "metadata": {
    "ExecuteTime": {
     "end_time": "2018-11-15T21:03:52.139634Z",
     "start_time": "2018-11-15T21:03:51.871707Z"
    }
   },
   "outputs": [
    {
     "data": {
      "image/png": "[encoded data removed]",
      "text/plain": [
       "<Figure size 432x288 with 1 Axes>"
      ]
     },
     "metadata": {},
     "output_type": "display_data"
    }
   ],
   "source": [
    "ax = bkmerged.plot()\n",
    "ax.axis('off')\n",
    "ax.set_title(\"puma test plot\");"
   ]
  },
  {
   "cell_type": "markdown",
   "metadata": {
    "run_control": {
     "frozen": false,
     "read_only": false
    }
   },
   "source": [
    "# 7 Make a map for each of the variables: unemployment fraction, average park condition, number of parks in the PUMA.\n",
    "\n",
    "Each map should be a choropleth of the relevant variable.\n",
    "\n",
    "_your deliverable is a series of 3 plots and appropriate comments_\n",
    "(They do not have to be in a single line, but please try to pay as much attention as you can given the time constraints to your plot design. I chose to put them in a single line designing them as a \"small multiple\" plot like Tufte recommands)\n",
    "\n",
    "[hints](https://docs.google.com/document/d/1a009HzGw_1j9dlqyD5Zg9aibUgpYmXMlJqiA5XUzZos/edit#heading=h.174i5wa5g9nj)\n"
   ]
  },
  {
   "cell_type": "code",
   "execution_count": 124,
   "metadata": {
    "ExecuteTime": {
     "end_time": "2018-11-15T21:11:40.356884Z",
     "start_time": "2018-11-15T21:11:39.483943Z"
    },
    "run_control": {
     "frozen": false,
     "read_only": false
    }
   },
   "outputs": [
    {
     "data": {
      "image/png": "[encoded data removed]",
      "text/plain": [
       "<Figure size 1080x360 with 3 Axes>"
      ]
     },
     "metadata": {},
     "output_type": "display_data"
    }
   ],
   "source": [
    "fig = pl.figure(figsize=(15,5))\n",
    "ax = fig.add_subplot(131)\n",
    "bkmerged.plot(column=\"unemployedF\", ax=ax, label=True)\n",
    "ax.set_title(\"unemployment rate\")\n",
    "ax.axis('off')\n",
    "\n",
    "ax = fig.add_subplot(132)\n",
    "bkmerged.plot(column=\"condition\", ax=ax, label=True)\n",
    "ax.set_title(\"parks condition\")\n",
    "ax.axis('off')\n",
    "\n",
    "ax = fig.add_subplot(133)\n",
    "bkmerged.plot(column=\"parkcount\", ax=ax, label=True)\n",
    "ax.set_title(\"park number\")\n",
    "ax.axis('off');\n"
   ]
  },
  {
   "cell_type": "markdown",
   "metadata": {},
   "source": [
    "**Figure 4** distribution of unemployment rate, average condition of the parks, and number of parks by PUMA (see figure 3). Yellow corresponds to the highest values of each variablem, purple to the lowest. Ranges are reported below. Unemployment rate is maximal in central Brooklyn, and minimal in the area surrounding JFK, Conversely, the average park condition seems to be maximal in central Brooklyn (which is in tension with our thesis) but the number of parks per PUMA (where parks are assigned to a PUMA based on the location of the park center) shows a minimum in central Brooklyn and maximum in the notheast PUMAs. Note, however, that loosing Prospect park during the merge significantly affect our inference. However, if prospect park appeared as a single unit in the park inspection data, likely our inference would not be affected."
   ]
  },
  {
   "cell_type": "code",
   "execution_count": 128,
   "metadata": {
    "ExecuteTime": {
     "end_time": "2018-11-15T21:18:06.939910Z",
     "start_time": "2018-11-15T21:18:06.929415Z"
    }
   },
   "outputs": [
    {
     "name": "stdout",
     "output_type": "stream",
     "text": [
      "range of Unemployment Fraction 0.03 0.11\n",
      "range of Park Condition 0.30 0.78\n",
      "range of number of parks 8.00 52.00\n"
     ]
    }
   ],
   "source": [
    "print(\"range of Unemployment Fraction {:.2f} {:.2f}\".format(bkmerged.unemployedF.min(), bkmerged.unemployedF.max()))\n",
    "print(\"range of Park Condition {:.2f} {:.2f}\".format(bkmerged.condition.min(), bkmerged.condition.max()))\n",
    "print(\"range of number of parks {:.2f} {:.2f}\".format(bkmerged.parkcount.min(), bkmerged.parkcount.max()))"
   ]
  },
  {
   "cell_type": "markdown",
   "metadata": {
    "run_control": {
     "frozen": false,
     "read_only": false
    }
   },
   "source": [
    "# Assess if any  of these distributions are consistent with a Gaussian.\n",
    "\n",
    "You used statistical tests that answer the question \"can you reject the null hypothesis that a sample comes from a Standard Normal distribution?\"  \n",
    "\n",
    "You do not need to frame this as a null hypothesis rejection test, but you can use the same test to compare how close to a Gaussian distribution each distribution is. \n",
    "\n",
    "Your deliverable for this portion is a test result (or the results of a few tests) and its interpretation that shows which of the three distributions is closer to a Gaussian\n",
    "\n",
    "\n",
    "[hints](https://docs.google.com/document/d/1a009HzGw_1j9dlqyD5Zg9aibUgpYmXMlJqiA5XUzZos/edit#heading=h.dk2we21e8881)"
   ]
  },
  {
   "cell_type": "markdown",
   "metadata": {},
   "source": [
    "## setting a significance threshold : alpha = 0.05"
   ]
  },
  {
   "cell_type": "markdown",
   "metadata": {},
   "source": [
    "**Note: if you did not do this before running the test that is a mistake!**"
   ]
  },
  {
   "cell_type": "code",
   "execution_count": 133,
   "metadata": {
    "ExecuteTime": {
     "end_time": "2018-11-15T21:23:20.159681Z",
     "start_time": "2018-11-15T21:23:20.154341Z"
    }
   },
   "outputs": [],
   "source": [
    "alpha = 0.05"
   ]
  },
  {
   "cell_type": "markdown",
   "metadata": {},
   "source": [
    "## declaring the null hypothesis\n",
    "Null Hypothesis: the vairiable sample for all three features (unemployment fraction, parks condition, and number of parks) is drawn from a Gaussian distribution, p-value 0.05"
   ]
  },
  {
   "cell_type": "markdown",
   "metadata": {},
   "source": [
    "## testing"
   ]
  },
  {
   "cell_type": "markdown",
   "metadata": {},
   "source": [
    "**Note** this can be answered with a KS test, in which case the data has to be standardized, or with an Anderson Darling test.\n",
    "### KS test"
   ]
  },
  {
   "cell_type": "code",
   "execution_count": 136,
   "metadata": {
    "ExecuteTime": {
     "end_time": "2018-11-15T21:23:41.093176Z",
     "start_time": "2018-11-15T21:23:41.078289Z"
    },
    "run_control": {
     "frozen": false,
     "read_only": false
    }
   },
   "outputs": [
    {
     "name": "stdout",
     "output_type": "stream",
     "text": [
      "the Null hypothesis that the samples are drawn from a Gaussian distribution cannot be rejected\n"
     ]
    }
   ],
   "source": [
    "print (\"For Unemployment Fraction\")\n",
    "p = sp.stats.kstest((bkmerged.unemployedF - bkmerged.unemployedF.mean())/\n",
    "                bkmerged.unemployedF.std(), \"norm\")[1]\n",
    "\n",
    "if p > alpha:\n",
    "    print(\"the Null hypothesis that the samples are drawn from a Gaussian distribution cannot be rejected\")\n",
    "else: \n",
    "    print(\"we reject the Null hypothesis that the samples are drawn from a Gaussian distribution at a p-value of\", alpha)"
   ]
  },
  {
   "cell_type": "code",
   "execution_count": 130,
   "metadata": {
    "ExecuteTime": {
     "end_time": "2018-11-15T21:21:18.494228Z",
     "start_time": "2018-11-15T21:21:18.479586Z"
    },
    "run_control": {
     "frozen": false,
     "read_only": false
    }
   },
   "outputs": [
    {
     "data": {
      "text/plain": [
       "KstestResult(statistic=0.12483840426372472, pvalue=0.9417706926862718)"
      ]
     },
     "execution_count": 130,
     "metadata": {},
     "output_type": "execute_result"
    }
   ],
   "source": [
    "print (\"For Average Park Condition\")\n",
    "p = sp.stats.kstest((bkmerged.condition - bkmerged.condition.mean())/\n",
    "                bkmerged.condition.std(), \"norm\")[1]\n",
    "if p > alpha:\n",
    "    print(\"the Null hypothesis that the samples are drawn from a Gaussian distribution cannot be rejected\")\n",
    "else: \n",
    "    print(\"we reject the Null hypothesis that the samples are drawn from a Gaussian distribution at a p-value of\", alpha)"
   ]
  },
  {
   "cell_type": "code",
   "execution_count": 137,
   "metadata": {
    "ExecuteTime": {
     "end_time": "2018-11-15T21:24:36.704266Z",
     "start_time": "2018-11-15T21:24:36.690646Z"
    },
    "run_control": {
     "frozen": false,
     "read_only": false
    }
   },
   "outputs": [
    {
     "name": "stdout",
     "output_type": "stream",
     "text": [
      "For Number of Parks\n",
      "the Null hypothesis that the samples are drawn from a Gaussian distribution cannot be rejected\n"
     ]
    }
   ],
   "source": [
    "print (\"For Number of Parks\")\n",
    "p = sp.stats.kstest((bkmerged.parkcount - bkmerged.parkcount.mean())/\n",
    "                bkmerged.parkcount.std(), \"norm\")[1]\n",
    "if p > alpha:\n",
    "    print(\"the Null hypothesis that the samples are drawn from a Gaussian distribution cannot be rejected\")\n",
    "else: \n",
    "    print(\"we reject the Null hypothesis that the samples are drawn from a Gaussian distribution at a p-value of\", alpha)"
   ]
  },
  {
   "cell_type": "markdown",
   "metadata": {},
   "source": [
    "**Conclusion** We cannot see statistical significant differences between the distribution and Gaussian distributions based on a KS test. However, although non-parametric, the KS test is sensible primarily to the central tendency of the distribution so differences at the tail may not be assessed "
   ]
  },
  {
   "cell_type": "markdown",
   "metadata": {},
   "source": [
    "### AD test"
   ]
  },
  {
   "cell_type": "code",
   "execution_count": 149,
   "metadata": {
    "ExecuteTime": {
     "end_time": "2018-11-15T21:28:12.119536Z",
     "start_time": "2018-11-15T21:28:12.109954Z"
    }
   },
   "outputs": [
    {
     "name": "stdout",
     "output_type": "stream",
     "text": [
      "For Unemployment Fraction\n",
      "the Null hypothesis that the samples are drawn from a Gaussian distribution cannot be rejected\n"
     ]
    }
   ],
   "source": [
    "print (\"For Unemployment Fraction\")\n",
    "ad = sp.stats.anderson(bkmerged.unemployedF, \"norm\")\n",
    "if ad[0] < ad[1][ad[2] == int(alpha * 100)]:\n",
    "     print(\"the Null hypothesis that the samples are drawn from a Gaussian distribution cannot be rejected\")\n",
    "else: \n",
    "    print(\"we reject the Null hypothesis that the samples are drawn from a Gaussian distribution at a p-value of\", alpha)\n"
   ]
  },
  {
   "cell_type": "code",
   "execution_count": 150,
   "metadata": {
    "ExecuteTime": {
     "end_time": "2018-11-15T21:28:54.410957Z",
     "start_time": "2018-11-15T21:28:54.397403Z"
    }
   },
   "outputs": [
    {
     "name": "stdout",
     "output_type": "stream",
     "text": [
      "For Average Park Condition\n",
      "the Null hypothesis that the samples are drawn from a Gaussian distribution cannot be rejected\n"
     ]
    }
   ],
   "source": [
    "print (\"For Average Park Condition\")\n",
    "ad = sp.stats.anderson(bkmerged.condition, \"norm\")\n",
    "if ad[0] < ad[1][ad[2] == int(alpha * 100)]:\n",
    "     print(\"the Null hypothesis that the samples are drawn from a Gaussian distribution cannot be rejected\")\n",
    "else: \n",
    "    print(\"we reject the Null hypothesis that the samples are drawn from a Gaussian distribution at a p-value of\", alpha)\n"
   ]
  },
  {
   "cell_type": "code",
   "execution_count": 151,
   "metadata": {
    "ExecuteTime": {
     "end_time": "2018-11-15T21:28:54.993853Z",
     "start_time": "2018-11-15T21:28:54.983553Z"
    }
   },
   "outputs": [
    {
     "name": "stdout",
     "output_type": "stream",
     "text": [
      "For Number of Parks\n",
      "we reject the Null hypothesis that the samples are drawn from a Gaussian distribution at a p-value of 0.05\n"
     ]
    }
   ],
   "source": [
    "print (\"For Number of Parks\")\n",
    "ad = sp.stats.anderson(bkmerged.parkcount, \"norm\")\n",
    "if ad[0] < ad[1][ad[2] == int(alpha * 100)]:\n",
    "     print(\"the Null hypothesis that the samples are drawn from a Gaussian distribution cannot be rejected\")\n",
    "else: \n",
    "    print(\"we reject the Null hypothesis that the samples are drawn from a Gaussian distribution at a p-value of\", alpha)\n"
   ]
  },
  {
   "cell_type": "markdown",
   "metadata": {},
   "source": [
    "**Conclusion** We cannot see statistical significant differences between the distribution and Gaussian distributions based on a AD test. \n",
    "However, the AD test's validity depends on assumptions on the Gaussianity of the residuals which were not verified."
   ]
  },
  {
   "cell_type": "markdown",
   "metadata": {
    "run_control": {
     "frozen": false,
     "read_only": false
    }
   },
   "source": [
    "# Plot the distributions of each feature\n",
    "\n",
    "Consider using this visualization to remove outliers if you see any [hint](https://docs.google.com/document/d/1a009HzGw_1j9dlqyD5Zg9aibUgpYmXMlJqiA5XUzZos/edit#heading=h.174i5wa5g9nj)\n",
    "\n",
    "Do the results of the KS test make sense in light of these plots?\n",
    "\n",
    "\n",
    "_your deliverable is a series of 3 plots and appropriate comments_"
   ]
  },
  {
   "cell_type": "code",
   "execution_count": 163,
   "metadata": {
    "ExecuteTime": {
     "end_time": "2018-11-15T21:33:50.854509Z",
     "start_time": "2018-11-15T21:33:50.185111Z"
    },
    "run_control": {
     "frozen": false,
     "read_only": false
    }
   },
   "outputs": [
    {
     "data": {
      "text/plain": [
       "Text(0,0.5,'Number of PUMAs')"
      ]
     },
     "execution_count": 163,
     "metadata": {},
     "output_type": "execute_result"
    },
    {
     "data": {
      "image/png": "[encoded data removed]",
      "text/plain": [
       "<Figure size 1440x360 with 3 Axes>"
      ]
     },
     "metadata": {},
     "output_type": "display_data"
    }
   ],
   "source": [
    "fig = pl.figure(figsize=(20,5))\n",
    "ax = fig.add_subplot(131)\n",
    "bkmerged.unemployedF.hist(ax=ax)\n",
    "ax.set_xlabel(\"Unemployment fraction per PUMA\")\n",
    "ax.set_ylabel(\"Number of PUMAs\")\n",
    "\n",
    "ax = fig.add_subplot(132)\n",
    "bkmerged.condition.hist(ax=ax)\n",
    "ax.set_xlabel(\"Average Ppark condition per PUMA\")\n",
    "ax.set_ylabel(\"Number of PUMAs\")\n",
    "\n",
    "ax = fig.add_subplot(133)\n",
    "bkmerged.parkcount.hist(ax=ax)\n",
    "ax.set_xlabel(\"Number of Parks per PUMA\")\n",
    "ax.set_ylabel(\"Number of PUMAs\")"
   ]
  },
  {
   "cell_type": "markdown",
   "metadata": {},
   "source": [
    "**Figure 5** Distribution of unemployment fraction (left) park condition (center) and number of parks (right) by PUMA in Brooklyn, NY. While the statistical tests indicate that the distributions are indistinguishable from Gaussians, they are not bell-shaped. The small number of samples, however, makes them statistically consistent with Gaussians."
   ]
  },
  {
   "cell_type": "markdown",
   "metadata": {
    "run_control": {
     "frozen": false,
     "read_only": false
    }
   },
   "source": [
    "# Measure correlation between parks condition and unemployment\n",
    "\n",
    "\n",
    "_your deliverable is a measure of correlation for each variable and an explanation of what they mean_"
   ]
  },
  {
   "cell_type": "markdown",
   "metadata": {},
   "source": [
    "**Note** do not use the p-value from the pearson's or Spearman's R - these are only valid under significant assumptins that you have not verified here"
   ]
  },
  {
   "cell_type": "code",
   "execution_count": 164,
   "metadata": {
    "ExecuteTime": {
     "end_time": "2018-11-15T21:35:41.202106Z",
     "start_time": "2018-11-15T21:35:41.192206Z"
    },
    "run_control": {
     "frozen": false,
     "read_only": false
    }
   },
   "outputs": [
    {
     "data": {
      "text/plain": [
       "(0.2662151782147638, 0.2856148656493033)"
      ]
     },
     "execution_count": 164,
     "metadata": {},
     "output_type": "execute_result"
    }
   ],
   "source": [
    "sp.stats.pearsonr(bkmerged.unemployedF, bkmerged.condition)"
   ]
  },
  {
   "cell_type": "code",
   "execution_count": 165,
   "metadata": {
    "ExecuteTime": {
     "end_time": "2018-11-15T21:36:30.663738Z",
     "start_time": "2018-11-15T21:36:30.658659Z"
    }
   },
   "outputs": [
    {
     "data": {
      "text/plain": [
       "(-0.03845184142400597, 0.879596570559457)"
      ]
     },
     "execution_count": 165,
     "metadata": {},
     "output_type": "execute_result"
    }
   ],
   "source": [
    "sp.stats.pearsonr(bkmerged.unemployedF, bkmerged.parkcount)"
   ]
  },
  {
   "cell_type": "markdown",
   "metadata": {},
   "source": [
    "**conclusions** there is a weak statistical correlation between park condition and unemployment: where unemployment is higher park conditions are better, which is opposite to our original thesis, while there is no correlation with park number so that our analysis does not identifies disparities in the parks access measured as number of parks with center in a specific PUMA. "
   ]
  },
  {
   "cell_type": "markdown",
   "metadata": {
    "ExecuteTime": {
     "end_time": "2018-11-01T14:00:25.616878Z",
     "start_time": "2018-11-01T14:00:25.606326Z"
    },
    "run_control": {
     "frozen": false,
     "read_only": false
    }
   },
   "source": [
    "   \n",
    "# Test if the average park condition is significantly different for PUMAs with an unemployment fraction grater than 0.05 and lower then 0.05\n",
    "\n",
    "This must be a test which returns a rejection (or non rejection) of a hypothesis. \n",
    "\n",
    "_your deliverable is Null hypothesis rejection test and a description of what it means_\n",
    "\n",
    "[hints](https://docs.google.com/document/d/1a009HzGw_1j9dlqyD5Zg9aibUgpYmXMlJqiA5XUzZos/edit#heading=h.ehszhe99hr1l)\n"
   ]
  },
  {
   "cell_type": "markdown",
   "metadata": {},
   "source": [
    "## setting a significance threshold : alpha = 0.05"
   ]
  },
  {
   "cell_type": "code",
   "execution_count": 166,
   "metadata": {
    "ExecuteTime": {
     "end_time": "2018-11-15T21:40:57.958830Z",
     "start_time": "2018-11-15T21:40:57.955946Z"
    }
   },
   "outputs": [],
   "source": [
    "alpha = 0.05"
   ]
  },
  {
   "cell_type": "markdown",
   "metadata": {},
   "source": [
    "## Null Hypothesis:\n",
    "the null hypothesis is that the distributions of park conditions is the same at high (unemployment fraction > 0/05) and low (unemployment fraction <= 0/05)\n",
    "unemployment rate come from the same parent distribution"
   ]
  },
  {
   "cell_type": "markdown",
   "metadata": {},
   "source": [
    "## test: I can use a KS or AD test"
   ]
  },
  {
   "cell_type": "markdown",
   "metadata": {},
   "source": [
    "### KS \n",
    "I do not need to standardize the distributions as I want to notice differences in the mean as well here!"
   ]
  },
  {
   "cell_type": "code",
   "execution_count": 170,
   "metadata": {
    "ExecuteTime": {
     "end_time": "2018-11-15T21:46:01.804807Z",
     "start_time": "2018-11-15T21:46:01.793718Z"
    },
    "run_control": {
     "frozen": false,
     "read_only": false
    }
   },
   "outputs": [
    {
     "name": "stdout",
     "output_type": "stream",
     "text": [
      "the Null hypothesis that the samples are drawn from a Gaussian distribution cannot be rejected\n"
     ]
    }
   ],
   "source": [
    "\n",
    "p = sp.stats.ttest_ind(bkmerged[bkmerged.unemployedF < 0.05]['condition'].values,\n",
    "                   bkmerged[bkmerged.unemployedF >= 0.05]['condition'].values)[1]\n",
    "if p > alpha:\n",
    "    print(\"the Null hypothesis that the samples are drawn from a Gaussian distribution cannot be rejected\")\n",
    "else: \n",
    "    print(\"we reject the Null hypothesis that the samples are drawn from a Gaussian distribution at a p-value of\", alpha)\n",
    "    "
   ]
  },
  {
   "cell_type": "markdown",
   "metadata": {
    "ExecuteTime": {
     "end_time": "2018-11-09T01:02:15.524652Z",
     "start_time": "2018-11-09T01:02:15.520819Z"
    },
    "run_control": {
     "frozen": false,
     "read_only": false
    }
   },
   "source": [
    "**conclusion ** The KS test reveals no disparities in parks maintenance with socioeconomic features (measured by unemployment fraction)"
   ]
  },
  {
   "cell_type": "markdown",
   "metadata": {
    "run_control": {
     "frozen": false,
     "read_only": false
    }
   },
   "source": [
    "# Overall Conclusions\n",
    "This analysis is largely exploratory but it did not reveal any disparities in parks access or mantanence condition of parks with our chosen socioeconomic feature of unemployment rate"
   ]
  },
  {
   "cell_type": "code",
   "execution_count": null,
   "metadata": {},
   "outputs": [],
   "source": []
  }
 ],
 "metadata": {
  "kernelspec": {
   "display_name": "Python 3",
   "language": "python",
   "name": "python3"
  },
  "toc": {
   "colors": {
    "hover_highlight": "#DAA520",
    "running_highlight": "#FF0000",
    "selected_highlight": "#FFD700"
   },
   "moveMenuLeft": true,
   "nav_menu": {
    "height": "13px",
    "width": "251px"
   },
   "navigate_menu": true,
   "number_sections": true,
   "sideBar": true,
   "threshold": 4,
   "toc_cell": true,
   "toc_section_display": "block",
   "toc_window_display": true
  }
 },
 "nbformat": 4,
 "nbformat_minor": 2
}
