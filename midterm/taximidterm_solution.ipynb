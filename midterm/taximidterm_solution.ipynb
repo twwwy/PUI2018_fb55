{
 "cells": [
  {
   "cell_type": "code",
   "execution_count": 1,
   "metadata": {
    "ExecuteTime": {
     "end_time": "2018-11-21T18:08:04.175132Z",
     "start_time": "2018-11-21T18:08:00.905326Z"
    },
    "run_control": {
     "frozen": false,
     "read_only": false
    }
   },
   "outputs": [
    {
     "name": "stdout",
     "output_type": "stream",
     "text": [
      "Populating the interactive namespace from numpy and matplotlib\n"
     ]
    }
   ],
   "source": [
    "import os\n",
    "import sys\n",
    "import pandas as pd\n",
    "import pylab as pl\n",
    "import scipy as sp\n",
    "from scipy import stats\n",
    "import numpy as np\n",
    "import statsmodels.formula.api as smf\n",
    "\n",
    "pl.style.use('fivethirtyeight')\n",
    "%pylab inline\n",
    "\n",
    "DEVELOPE = True # cut data by a factor 1000 to allow faster processing\n",
    "GEOPANDAS = True #False # use geopandas to get zips of rides\n",
    "ALTERNATIVES = False # use pre-prepared files"
   ]
  },
  {
   "cell_type": "code",
   "execution_count": 2,
   "metadata": {
    "ExecuteTime": {
     "end_time": "2018-11-21T18:08:04.959448Z",
     "start_time": "2018-11-21T18:08:04.955866Z"
    },
    "run_control": {
     "frozen": false,
     "read_only": false
    }
   },
   "outputs": [],
   "source": [
    "pl.rcParams['figure.figsize'] = [10.0, 6.0]"
   ]
  },
  {
   "cell_type": "markdown",
   "metadata": {
    "run_control": {
     "frozen": false,
     "read_only": false
    }
   },
   "source": [
    "# 1.  Gathering Taxi data\n",
    "### Download yellowcab data from 2009 and subsample it to reduce it to a manageable size\n"
   ]
  },
  {
   "cell_type": "code",
   "execution_count": 3,
   "metadata": {
    "ExecuteTime": {
     "end_time": "2018-11-21T18:08:05.535692Z",
     "start_time": "2018-11-21T18:08:05.525438Z"
    },
    "run_control": {
     "frozen": false,
     "read_only": false
    }
   },
   "outputs": [
    {
     "data": {
      "text/plain": [
       "'The path to the PUIdata directory is /Users/fbb/Dropbox//UI/PUIdata'"
      ]
     },
     "execution_count": 3,
     "metadata": {},
     "output_type": "execute_result"
    }
   ],
   "source": [
    "# check for PUIdata env var\n",
    "PUIdata = os.getenv(\"PUIDATA\")\n",
    "\"The path to the PUIdata directory is \" + PUIdata"
   ]
  },
  {
   "cell_type": "markdown",
   "metadata": {
    "run_control": {
     "frozen": false,
     "read_only": false
    }
   },
   "source": [
    "##### downloading data\n"
   ]
  },
  {
   "cell_type": "code",
   "execution_count": 95,
   "metadata": {
    "ExecuteTime": {
     "end_time": "2018-11-21T18:14:25.830816Z",
     "start_time": "2018-11-21T18:10:09.881135Z"
    },
    "run_control": {
     "frozen": false,
     "read_only": false
    }
   },
   "outputs": [
    {
     "name": "stdout",
     "output_type": "stream",
     "text": [
      "  % Total    % Received % Xferd  Average Speed   Time    Time     Time  Current\n",
      "                                 Dload  Upload   Total   Spent    Left  Speed\n",
      "100 2303M  100 2303M    0     0  9250k      0  0:04:15  0:04:15 --:--:-- 9720k  0  0:04:29  0:00:01  0:04:28 8115k8M    0     0   9.9M      0  0:03:50  0:00:05  0:03:45 10.1M 726M    0     0  9185k      0  0:04:16  0:01:21  0:02:55 7782k0     0  9006k      0  0:04:21  0:01:45  0:02:36 8119k     0  8981k      0  0:04:22  0:01:47  0:02:35 7724k    0     0  8857k      0  0:04:26  0:01:58  0:02:28 7532k7M    0     0  8747k      0  0:04:29  0:02:33  0:01:56 7956k   0  0:04:25  0:02:51  0:01:34 10.2M  0     0  9012k      0  0:04:21  0:03:09  0:01:12 9391k2M    0     0  9105k      0  0:04:19  0:03:25  0:00:54 10.3M   0     0  9211k      0  0:04:16  0:03:54  0:00:22 9622kM    0     0  9215k      0  0:04:15  0:04:05  0:00:10 8867k\n"
     ]
    }
   ],
   "source": [
    "!curl -O https://s3.amazonaws.com/nyc-tlc/trip+data/yellow_tripdata_2009-02.csv\n",
    "    "
   ]
  },
  {
   "cell_type": "code",
   "execution_count": 96,
   "metadata": {
    "ExecuteTime": {
     "end_time": "2018-11-21T18:18:24.756435Z",
     "start_time": "2018-11-21T18:18:24.599129Z"
    },
    "run_control": {
     "frozen": false,
     "read_only": false
    }
   },
   "outputs": [],
   "source": [
    "!mv yellow_tripdata_2009-02.csv $PUIDATA"
   ]
  },
  {
   "cell_type": "code",
   "execution_count": 97,
   "metadata": {
    "ExecuteTime": {
     "end_time": "2018-11-21T18:19:44.878188Z",
     "start_time": "2018-11-21T18:18:25.406716Z"
    },
    "run_control": {
     "frozen": false,
     "read_only": false
    }
   },
   "outputs": [],
   "source": [
    "# reading in data\n",
    "if not ALTERNATIVES: \n",
    "    yc200902 = pd.read_csv(PUIdata + \"/yellow_tripdata_2009-02.csv\")\n",
    "    yc200902.head()"
   ]
  },
  {
   "cell_type": "code",
   "execution_count": 98,
   "metadata": {
    "ExecuteTime": {
     "end_time": "2018-11-21T18:19:44.985998Z",
     "start_time": "2018-11-21T18:19:44.882757Z"
    },
    "run_control": {
     "frozen": false,
     "read_only": false
    }
   },
   "outputs": [
    {
     "data": {
      "text/html": [
       "<div>\n",
       "<style scoped>\n",
       "    .dataframe tbody tr th:only-of-type {\n",
       "        vertical-align: middle;\n",
       "    }\n",
       "\n",
       "    .dataframe tbody tr th {\n",
       "        vertical-align: top;\n",
       "    }\n",
       "\n",
       "    .dataframe thead th {\n",
       "        text-align: right;\n",
       "    }\n",
       "</style>\n",
       "<table border=\"1\" class=\"dataframe\">\n",
       "  <thead>\n",
       "    <tr style=\"text-align: right;\">\n",
       "      <th></th>\n",
       "      <th>vendor_name</th>\n",
       "      <th>Trip_Pickup_DateTime</th>\n",
       "      <th>Trip_Dropoff_DateTime</th>\n",
       "      <th>Passenger_Count</th>\n",
       "      <th>Trip_Distance</th>\n",
       "      <th>Start_Lon</th>\n",
       "      <th>Start_Lat</th>\n",
       "      <th>Rate_Code</th>\n",
       "      <th>store_and_forward</th>\n",
       "      <th>End_Lon</th>\n",
       "      <th>End_Lat</th>\n",
       "      <th>Payment_Type</th>\n",
       "      <th>Fare_Amt</th>\n",
       "      <th>surcharge</th>\n",
       "      <th>mta_tax</th>\n",
       "      <th>Tip_Amt</th>\n",
       "      <th>Tolls_Amt</th>\n",
       "      <th>Total_Amt</th>\n",
       "    </tr>\n",
       "  </thead>\n",
       "  <tbody>\n",
       "    <tr>\n",
       "      <th>0</th>\n",
       "      <td>DDS</td>\n",
       "      <td>2009-02-03 08:25:00</td>\n",
       "      <td>2009-02-03 08:33:39</td>\n",
       "      <td>1</td>\n",
       "      <td>1.60</td>\n",
       "      <td>-73.992768</td>\n",
       "      <td>40.758325</td>\n",
       "      <td>NaN</td>\n",
       "      <td>NaN</td>\n",
       "      <td>-73.994710</td>\n",
       "      <td>40.739723</td>\n",
       "      <td>CASH</td>\n",
       "      <td>6.9</td>\n",
       "      <td>0.0</td>\n",
       "      <td>NaN</td>\n",
       "      <td>0.00</td>\n",
       "      <td>0.0</td>\n",
       "      <td>6.90</td>\n",
       "    </tr>\n",
       "    <tr>\n",
       "      <th>1000</th>\n",
       "      <td>VTS</td>\n",
       "      <td>2009-02-11 23:03:00</td>\n",
       "      <td>2009-02-11 23:29:00</td>\n",
       "      <td>1</td>\n",
       "      <td>11.95</td>\n",
       "      <td>-73.968478</td>\n",
       "      <td>40.760553</td>\n",
       "      <td>NaN</td>\n",
       "      <td>NaN</td>\n",
       "      <td>-73.972788</td>\n",
       "      <td>40.637433</td>\n",
       "      <td>CASH</td>\n",
       "      <td>28.5</td>\n",
       "      <td>0.5</td>\n",
       "      <td>NaN</td>\n",
       "      <td>0.00</td>\n",
       "      <td>0.0</td>\n",
       "      <td>29.00</td>\n",
       "    </tr>\n",
       "    <tr>\n",
       "      <th>2000</th>\n",
       "      <td>VTS</td>\n",
       "      <td>2009-02-28 07:22:00</td>\n",
       "      <td>2009-02-28 07:32:00</td>\n",
       "      <td>3</td>\n",
       "      <td>2.86</td>\n",
       "      <td>-73.986690</td>\n",
       "      <td>40.726995</td>\n",
       "      <td>NaN</td>\n",
       "      <td>NaN</td>\n",
       "      <td>-73.988673</td>\n",
       "      <td>40.755612</td>\n",
       "      <td>CASH</td>\n",
       "      <td>9.3</td>\n",
       "      <td>0.0</td>\n",
       "      <td>NaN</td>\n",
       "      <td>0.00</td>\n",
       "      <td>0.0</td>\n",
       "      <td>9.30</td>\n",
       "    </tr>\n",
       "    <tr>\n",
       "      <th>3000</th>\n",
       "      <td>VTS</td>\n",
       "      <td>2009-02-14 17:02:00</td>\n",
       "      <td>2009-02-14 17:22:00</td>\n",
       "      <td>4</td>\n",
       "      <td>4.60</td>\n",
       "      <td>-73.991188</td>\n",
       "      <td>40.723345</td>\n",
       "      <td>NaN</td>\n",
       "      <td>NaN</td>\n",
       "      <td>-73.946650</td>\n",
       "      <td>40.776628</td>\n",
       "      <td>Credit</td>\n",
       "      <td>14.9</td>\n",
       "      <td>0.0</td>\n",
       "      <td>NaN</td>\n",
       "      <td>2.00</td>\n",
       "      <td>0.0</td>\n",
       "      <td>16.90</td>\n",
       "    </tr>\n",
       "    <tr>\n",
       "      <th>4000</th>\n",
       "      <td>CMT</td>\n",
       "      <td>2009-02-08 11:54:51</td>\n",
       "      <td>2009-02-08 12:06:43</td>\n",
       "      <td>1</td>\n",
       "      <td>2.40</td>\n",
       "      <td>-73.980833</td>\n",
       "      <td>40.744672</td>\n",
       "      <td>NaN</td>\n",
       "      <td>NaN</td>\n",
       "      <td>-73.984400</td>\n",
       "      <td>40.718905</td>\n",
       "      <td>Credit</td>\n",
       "      <td>9.3</td>\n",
       "      <td>0.0</td>\n",
       "      <td>NaN</td>\n",
       "      <td>1.39</td>\n",
       "      <td>0.0</td>\n",
       "      <td>10.69</td>\n",
       "    </tr>\n",
       "  </tbody>\n",
       "</table>\n",
       "</div>"
      ],
      "text/plain": [
       "     vendor_name Trip_Pickup_DateTime Trip_Dropoff_DateTime  Passenger_Count  \\\n",
       "0            DDS  2009-02-03 08:25:00   2009-02-03 08:33:39                1   \n",
       "1000         VTS  2009-02-11 23:03:00   2009-02-11 23:29:00                1   \n",
       "2000         VTS  2009-02-28 07:22:00   2009-02-28 07:32:00                3   \n",
       "3000         VTS  2009-02-14 17:02:00   2009-02-14 17:22:00                4   \n",
       "4000         CMT  2009-02-08 11:54:51   2009-02-08 12:06:43                1   \n",
       "\n",
       "      Trip_Distance  Start_Lon  Start_Lat  Rate_Code  store_and_forward  \\\n",
       "0              1.60 -73.992768  40.758325        NaN                NaN   \n",
       "1000          11.95 -73.968478  40.760553        NaN                NaN   \n",
       "2000           2.86 -73.986690  40.726995        NaN                NaN   \n",
       "3000           4.60 -73.991188  40.723345        NaN                NaN   \n",
       "4000           2.40 -73.980833  40.744672        NaN                NaN   \n",
       "\n",
       "        End_Lon    End_Lat Payment_Type  Fare_Amt  surcharge  mta_tax  \\\n",
       "0    -73.994710  40.739723         CASH       6.9        0.0      NaN   \n",
       "1000 -73.972788  40.637433         CASH      28.5        0.5      NaN   \n",
       "2000 -73.988673  40.755612         CASH       9.3        0.0      NaN   \n",
       "3000 -73.946650  40.776628       Credit      14.9        0.0      NaN   \n",
       "4000 -73.984400  40.718905       Credit       9.3        0.0      NaN   \n",
       "\n",
       "      Tip_Amt  Tolls_Amt  Total_Amt  \n",
       "0        0.00        0.0       6.90  \n",
       "1000     0.00        0.0      29.00  \n",
       "2000     0.00        0.0       9.30  \n",
       "3000     2.00        0.0      16.90  \n",
       "4000     1.39        0.0      10.69  "
      ]
     },
     "execution_count": 98,
     "metadata": {},
     "output_type": "execute_result"
    }
   ],
   "source": [
    "if not ALTERNATIVES:\n",
    "    if DEVELOPE: \n",
    "        yc200902_short = yc200902[::1000]\n",
    "    else: \n",
    "        yc200902_short = yc200902\n",
    "else: \n",
    "    yc200902_short = pd.read_csv(\n",
    "        \"http://cosmo.nyu.edu/~fb55/data/yc200902_tripdata_trimmed.csv\", \n",
    "        index_col=\"Unnamed: 0\")\n",
    "yc200902_short.head()\n"
   ]
  },
  {
   "cell_type": "code",
   "execution_count": 99,
   "metadata": {
    "ExecuteTime": {
     "end_time": "2018-11-21T18:20:49.633758Z",
     "start_time": "2018-11-21T18:20:49.625999Z"
    },
    "run_control": {
     "frozen": false,
     "read_only": false
    }
   },
   "outputs": [
    {
     "name": "stdout",
     "output_type": "stream",
     "text": [
      "the reducted dataset is 13381 observations by 18 variables\n"
     ]
    }
   ],
   "source": [
    "print (\"the reducted dataset is {:d} observations by {:d} variables\".\\\n",
    "       format(*yc200902_short.shape))"
   ]
  },
  {
   "cell_type": "markdown",
   "metadata": {
    "run_control": {
     "frozen": false,
     "read_only": false
    }
   },
   "source": [
    "# 2.  Reading in the income data for NYC\n",
    "## Download income information from IRS for NYC and extract the income per person by zipcode \n",
    "##### downloading data"
   ]
  },
  {
   "cell_type": "code",
   "execution_count": 100,
   "metadata": {
    "ExecuteTime": {
     "end_time": "2018-11-21T18:20:55.571324Z",
     "start_time": "2018-11-21T18:20:50.731124Z"
    },
    "run_control": {
     "frozen": false,
     "read_only": false
    },
    "scrolled": false
   },
   "outputs": [
    {
     "data": {
      "text/html": [
       "<div>\n",
       "<style scoped>\n",
       "    .dataframe tbody tr th:only-of-type {\n",
       "        vertical-align: middle;\n",
       "    }\n",
       "\n",
       "    .dataframe tbody tr th {\n",
       "        vertical-align: top;\n",
       "    }\n",
       "\n",
       "    .dataframe thead th {\n",
       "        text-align: right;\n",
       "    }\n",
       "</style>\n",
       "<table border=\"1\" class=\"dataframe\">\n",
       "  <thead>\n",
       "    <tr style=\"text-align: right;\">\n",
       "      <th></th>\n",
       "      <th>NEW YORK</th>\n",
       "      <th>Unnamed: 1</th>\n",
       "      <th>Unnamed: 2</th>\n",
       "      <th>Unnamed: 3</th>\n",
       "      <th>Unnamed: 4</th>\n",
       "      <th>Unnamed: 5</th>\n",
       "      <th>Unnamed: 6</th>\n",
       "      <th>Unnamed: 7</th>\n",
       "      <th>Unnamed: 8</th>\n",
       "      <th>Unnamed: 9</th>\n",
       "      <th>...</th>\n",
       "      <th>Unnamed: 61</th>\n",
       "      <th>Unnamed: 62</th>\n",
       "      <th>Unnamed: 63</th>\n",
       "      <th>Unnamed: 64</th>\n",
       "      <th>Unnamed: 65</th>\n",
       "      <th>Unnamed: 66</th>\n",
       "      <th>Unnamed: 67</th>\n",
       "      <th>Unnamed: 68</th>\n",
       "      <th>Unnamed: 69</th>\n",
       "      <th>Unnamed: 70</th>\n",
       "    </tr>\n",
       "  </thead>\n",
       "  <tbody>\n",
       "    <tr>\n",
       "      <th>0</th>\n",
       "      <td>Individual Income Tax Returns: \\nSelected Inco...</td>\n",
       "      <td>NaN</td>\n",
       "      <td>NaN</td>\n",
       "      <td>NaN</td>\n",
       "      <td>NaN</td>\n",
       "      <td>NaN</td>\n",
       "      <td>NaN</td>\n",
       "      <td>NaN</td>\n",
       "      <td>NaN</td>\n",
       "      <td>NaN</td>\n",
       "      <td>...</td>\n",
       "      <td>NaN</td>\n",
       "      <td>NaN</td>\n",
       "      <td>NaN</td>\n",
       "      <td>NaN</td>\n",
       "      <td>NaN</td>\n",
       "      <td>NaN</td>\n",
       "      <td>NaN</td>\n",
       "      <td>NaN</td>\n",
       "      <td>NaN</td>\n",
       "      <td>NaN</td>\n",
       "    </tr>\n",
       "    <tr>\n",
       "      <th>1</th>\n",
       "      <td>[Money amounts are in thousands of dollars]</td>\n",
       "      <td>NaN</td>\n",
       "      <td>NaN</td>\n",
       "      <td>NaN</td>\n",
       "      <td>NaN</td>\n",
       "      <td>NaN</td>\n",
       "      <td>NaN</td>\n",
       "      <td>NaN</td>\n",
       "      <td>NaN</td>\n",
       "      <td>NaN</td>\n",
       "      <td>...</td>\n",
       "      <td>NaN</td>\n",
       "      <td>NaN</td>\n",
       "      <td>NaN</td>\n",
       "      <td>NaN</td>\n",
       "      <td>NaN</td>\n",
       "      <td>NaN</td>\n",
       "      <td>NaN</td>\n",
       "      <td>NaN</td>\n",
       "      <td>NaN</td>\n",
       "      <td>NaN</td>\n",
       "    </tr>\n",
       "    <tr>\n",
       "      <th>2</th>\n",
       "      <td>ZIP\\ncode [1]</td>\n",
       "      <td>Size of adjusted gross income</td>\n",
       "      <td>Number of returns</td>\n",
       "      <td>Number of joint returns</td>\n",
       "      <td>Number with paid preparer's signature</td>\n",
       "      <td>Number of exemptions</td>\n",
       "      <td>Number of dependents</td>\n",
       "      <td>Adjusted gross income (AGI)</td>\n",
       "      <td>Salaries and wages in AGI</td>\n",
       "      <td>NaN</td>\n",
       "      <td>...</td>\n",
       "      <td>Alternative minimum tax</td>\n",
       "      <td>NaN</td>\n",
       "      <td>Income tax [6]</td>\n",
       "      <td>NaN</td>\n",
       "      <td>Total tax liability [7]</td>\n",
       "      <td>NaN</td>\n",
       "      <td>Tax due at time of filing [8]</td>\n",
       "      <td>NaN</td>\n",
       "      <td>Overpayments refunded [9]</td>\n",
       "      <td>NaN</td>\n",
       "    </tr>\n",
       "    <tr>\n",
       "      <th>3</th>\n",
       "      <td>NaN</td>\n",
       "      <td>NaN</td>\n",
       "      <td>NaN</td>\n",
       "      <td>NaN</td>\n",
       "      <td>NaN</td>\n",
       "      <td>NaN</td>\n",
       "      <td>NaN</td>\n",
       "      <td>NaN</td>\n",
       "      <td>Number of returns</td>\n",
       "      <td>Amount</td>\n",
       "      <td>...</td>\n",
       "      <td>Number of returns</td>\n",
       "      <td>Amount</td>\n",
       "      <td>Number of returns</td>\n",
       "      <td>Amount</td>\n",
       "      <td>Number of returns</td>\n",
       "      <td>Amount</td>\n",
       "      <td>Number of returns</td>\n",
       "      <td>Amount</td>\n",
       "      <td>Number of returns</td>\n",
       "      <td>Amount</td>\n",
       "    </tr>\n",
       "    <tr>\n",
       "      <th>4</th>\n",
       "      <td>NaN</td>\n",
       "      <td>NaN</td>\n",
       "      <td>-1</td>\n",
       "      <td>-2</td>\n",
       "      <td>-3</td>\n",
       "      <td>-4</td>\n",
       "      <td>-5</td>\n",
       "      <td>-6</td>\n",
       "      <td>-7</td>\n",
       "      <td>-8</td>\n",
       "      <td>...</td>\n",
       "      <td>-60</td>\n",
       "      <td>-61</td>\n",
       "      <td>-62</td>\n",
       "      <td>-63</td>\n",
       "      <td>-64</td>\n",
       "      <td>-65</td>\n",
       "      <td>-66</td>\n",
       "      <td>-67</td>\n",
       "      <td>-68</td>\n",
       "      <td>-69</td>\n",
       "    </tr>\n",
       "  </tbody>\n",
       "</table>\n",
       "<p>5 rows × 71 columns</p>\n",
       "</div>"
      ],
      "text/plain": [
       "                                            NEW YORK  \\\n",
       "0  Individual Income Tax Returns: \\nSelected Inco...   \n",
       "1        [Money amounts are in thousands of dollars]   \n",
       "2                                      ZIP\\ncode [1]   \n",
       "3                                                NaN   \n",
       "4                                                NaN   \n",
       "\n",
       "                      Unnamed: 1         Unnamed: 2               Unnamed: 3  \\\n",
       "0                            NaN                NaN                      NaN   \n",
       "1                            NaN                NaN                      NaN   \n",
       "2  Size of adjusted gross income  Number of returns  Number of joint returns   \n",
       "3                            NaN                NaN                      NaN   \n",
       "4                            NaN                 -1                       -2   \n",
       "\n",
       "                              Unnamed: 4            Unnamed: 5  \\\n",
       "0                                    NaN                   NaN   \n",
       "1                                    NaN                   NaN   \n",
       "2  Number with paid preparer's signature  Number of exemptions   \n",
       "3                                    NaN                   NaN   \n",
       "4                                     -3                    -4   \n",
       "\n",
       "             Unnamed: 6                   Unnamed: 7  \\\n",
       "0                   NaN                          NaN   \n",
       "1                   NaN                          NaN   \n",
       "2  Number of dependents  Adjusted gross income (AGI)   \n",
       "3                   NaN                          NaN   \n",
       "4                    -5                           -6   \n",
       "\n",
       "                  Unnamed: 8 Unnamed: 9     ...                  Unnamed: 61  \\\n",
       "0                        NaN        NaN     ...                          NaN   \n",
       "1                        NaN        NaN     ...                          NaN   \n",
       "2  Salaries and wages in AGI        NaN     ...      Alternative minimum tax   \n",
       "3          Number of returns     Amount     ...            Number of returns   \n",
       "4                         -7         -8     ...                          -60   \n",
       "\n",
       "  Unnamed: 62        Unnamed: 63 Unnamed: 64              Unnamed: 65  \\\n",
       "0         NaN                NaN         NaN                      NaN   \n",
       "1         NaN                NaN         NaN                      NaN   \n",
       "2         NaN     Income tax [6]         NaN  Total tax liability [7]   \n",
       "3      Amount  Number of returns      Amount        Number of returns   \n",
       "4         -61                -62         -63                      -64   \n",
       "\n",
       "  Unnamed: 66                    Unnamed: 67 Unnamed: 68  \\\n",
       "0         NaN                            NaN         NaN   \n",
       "1         NaN                            NaN         NaN   \n",
       "2         NaN  Tax due at time of filing [8]         NaN   \n",
       "3      Amount              Number of returns      Amount   \n",
       "4         -65                            -66         -67   \n",
       "\n",
       "                 Unnamed: 69 Unnamed: 70  \n",
       "0                        NaN         NaN  \n",
       "1                        NaN         NaN  \n",
       "2  Overpayments refunded [9]         NaN  \n",
       "3          Number of returns      Amount  \n",
       "4                        -68         -69  \n",
       "\n",
       "[5 rows x 71 columns]"
      ]
     },
     "execution_count": 100,
     "metadata": {},
     "output_type": "execute_result"
    }
   ],
   "source": [
    "pd.read_excel(\n",
    "        \"http://www.nber.org/tax-stats/zipcode/2009/09zp33ny.xls\").head()"
   ]
  },
  {
   "cell_type": "code",
   "execution_count": 101,
   "metadata": {
    "ExecuteTime": {
     "end_time": "2018-11-21T18:22:23.145347Z",
     "start_time": "2018-11-21T18:22:16.677888Z"
    },
    "run_control": {
     "frozen": false,
     "read_only": false
    }
   },
   "outputs": [],
   "source": [
    "if not ALTERNATIVES:\n",
    "    incomeByZip = pd.read_excel(\n",
    "        \"http://www.nber.org/tax-stats/zipcode/2009/09zp33ny.xls\", \n",
    "                   skiprows=3).iloc[10::8, [0,1,2,3,6,7]]\n",
    "    incomeByZip.to_csv(\"IncomeZipcode_2009.csv\")\n",
    "    incomeByZip.set_index(keys=[\"ZIP\\ncode [1]\"], inplace=True)\n",
    "    incomeByZip.head()"
   ]
  },
  {
   "cell_type": "code",
   "execution_count": 102,
   "metadata": {
    "ExecuteTime": {
     "end_time": "2018-11-21T18:22:23.482647Z",
     "start_time": "2018-11-21T18:22:23.149449Z"
    },
    "run_control": {
     "frozen": false,
     "read_only": false
    }
   },
   "outputs": [],
   "source": [
    "if not ALTERNATIVES:\n",
    "    incomeByZip.drop(\"Size of adjusted gross income\", axis=1, inplace=True)"
   ]
  },
  {
   "cell_type": "markdown",
   "metadata": {
    "run_control": {
     "frozen": false,
     "read_only": false
    }
   },
   "source": [
    "##### calculating pupolation in each zipcode"
   ]
  },
  {
   "cell_type": "code",
   "execution_count": 103,
   "metadata": {
    "ExecuteTime": {
     "end_time": "2018-11-21T18:22:54.839679Z",
     "start_time": "2018-11-21T18:22:54.828938Z"
    },
    "run_control": {
     "frozen": false,
     "read_only": false
    }
   },
   "outputs": [],
   "source": [
    "if not ALTERNATIVES:\n",
    "    incomeByZip[\"POPULATION\"] = (incomeByZip[\"Number of dependents\"] + \n",
    "                    incomeByZip[\"Number of joint returns\"] + \n",
    "                               incomeByZip[\"Number of returns\"])\n",
    "    incomeByZip[\"POPULATION\"].head()"
   ]
  },
  {
   "cell_type": "markdown",
   "metadata": {
    "run_control": {
     "frozen": false,
     "read_only": false
    }
   },
   "source": [
    "##### calculating income per person in each zipcode"
   ]
  },
  {
   "cell_type": "code",
   "execution_count": 104,
   "metadata": {
    "ExecuteTime": {
     "end_time": "2018-11-21T18:22:55.489111Z",
     "start_time": "2018-11-21T18:22:55.481922Z"
    },
    "run_control": {
     "frozen": false,
     "read_only": false
    }
   },
   "outputs": [],
   "source": [
    "if not ALTERNATIVES:\n",
    "    incomeByZip[\"incomePC\"] = (incomeByZip[\"Adjusted gross income (AGI)\"] / \n",
    "                               incomeByZip[\"POPULATION\"])"
   ]
  },
  {
   "cell_type": "markdown",
   "metadata": {
    "run_control": {
     "frozen": false,
     "read_only": false
    }
   },
   "source": [
    "##### cleaning up"
   ]
  },
  {
   "cell_type": "code",
   "execution_count": 105,
   "metadata": {
    "ExecuteTime": {
     "end_time": "2018-11-21T18:22:55.864042Z",
     "start_time": "2018-11-21T18:22:55.854647Z"
    },
    "run_control": {
     "frozen": false,
     "read_only": false
    }
   },
   "outputs": [],
   "source": [
    "if not ALTERNATIVES:\n",
    "    incomeByZip[\"ZIPCODE\"] = incomeByZip.index.values\n",
    "    incomeByZip.drop([\"Number of returns\", \"Number of joint returns\", \n",
    "                  \"Number of dependents\", \"Adjusted gross income (AGI)\"], \n",
    "                 axis=1, inplace=True)"
   ]
  },
  {
   "cell_type": "code",
   "execution_count": 106,
   "metadata": {
    "ExecuteTime": {
     "end_time": "2018-11-21T18:22:56.107588Z",
     "start_time": "2018-11-21T18:22:56.103360Z"
    },
    "run_control": {
     "frozen": false,
     "read_only": false
    }
   },
   "outputs": [],
   "source": [
    "if ALTERNATIVES:\n",
    "    incomeByZip = pd.read_json(\"http://cosmo.nyu.edu/~fb55/data/zipincome.json\")\n",
    "    incomeByZip.set_index(\"ZIPCODE\", inplace=True)"
   ]
  },
  {
   "cell_type": "code",
   "execution_count": 107,
   "metadata": {
    "ExecuteTime": {
     "end_time": "2018-11-21T18:22:56.563049Z",
     "start_time": "2018-11-21T18:22:56.545851Z"
    },
    "run_control": {
     "frozen": false,
     "read_only": false
    }
   },
   "outputs": [
    {
     "data": {
      "text/plain": [
       "10001"
      ]
     },
     "execution_count": 107,
     "metadata": {},
     "output_type": "execute_result"
    }
   ],
   "source": [
    "incomeByZip.index.values[0]"
   ]
  },
  {
   "cell_type": "code",
   "execution_count": 108,
   "metadata": {
    "ExecuteTime": {
     "end_time": "2018-11-21T18:22:56.672503Z",
     "start_time": "2018-11-21T18:22:56.659519Z"
    },
    "run_control": {
     "frozen": false,
     "read_only": false
    }
   },
   "outputs": [
    {
     "data": {
      "text/html": [
       "<div>\n",
       "<style scoped>\n",
       "    .dataframe tbody tr th:only-of-type {\n",
       "        vertical-align: middle;\n",
       "    }\n",
       "\n",
       "    .dataframe tbody tr th {\n",
       "        vertical-align: top;\n",
       "    }\n",
       "\n",
       "    .dataframe thead th {\n",
       "        text-align: right;\n",
       "    }\n",
       "</style>\n",
       "<table border=\"1\" class=\"dataframe\">\n",
       "  <thead>\n",
       "    <tr style=\"text-align: right;\">\n",
       "      <th></th>\n",
       "      <th>POPULATION</th>\n",
       "      <th>incomePC</th>\n",
       "      <th>ZIPCODE</th>\n",
       "    </tr>\n",
       "    <tr>\n",
       "      <th>ZIP\n",
       "code [1]</th>\n",
       "      <th></th>\n",
       "      <th></th>\n",
       "      <th></th>\n",
       "    </tr>\n",
       "  </thead>\n",
       "  <tbody>\n",
       "    <tr>\n",
       "      <th>10001</th>\n",
       "      <td>17426.0</td>\n",
       "      <td>94.386319</td>\n",
       "      <td>10001</td>\n",
       "    </tr>\n",
       "    <tr>\n",
       "      <th>10002</th>\n",
       "      <td>77558.0</td>\n",
       "      <td>21.312824</td>\n",
       "      <td>10002</td>\n",
       "    </tr>\n",
       "    <tr>\n",
       "      <th>10003</th>\n",
       "      <td>38156.0</td>\n",
       "      <td>119.356720</td>\n",
       "      <td>10003</td>\n",
       "    </tr>\n",
       "    <tr>\n",
       "      <th>10004</th>\n",
       "      <td>3231.0</td>\n",
       "      <td>150.291551</td>\n",
       "      <td>10004</td>\n",
       "    </tr>\n",
       "    <tr>\n",
       "      <th>10005</th>\n",
       "      <td>7371.0</td>\n",
       "      <td>430.402252</td>\n",
       "      <td>10005</td>\n",
       "    </tr>\n",
       "  </tbody>\n",
       "</table>\n",
       "</div>"
      ],
      "text/plain": [
       "               POPULATION    incomePC ZIPCODE\n",
       "ZIP\\ncode [1]                                \n",
       "10001             17426.0   94.386319   10001\n",
       "10002             77558.0   21.312824   10002\n",
       "10003             38156.0  119.356720   10003\n",
       "10004              3231.0  150.291551   10004\n",
       "10005              7371.0  430.402252   10005"
      ]
     },
     "execution_count": 108,
     "metadata": {},
     "output_type": "execute_result"
    }
   ],
   "source": [
    "incomeByZip.head()"
   ]
  },
  {
   "cell_type": "markdown",
   "metadata": {
    "run_control": {
     "frozen": false,
     "read_only": false
    }
   },
   "source": [
    "# 3. Feature engineering\n",
    "## Feature engineering task: extract the trip duration from the data and the tip percentage\n"
   ]
  },
  {
   "cell_type": "markdown",
   "metadata": {
    "run_control": {
     "frozen": false,
     "read_only": false
    }
   },
   "source": [
    "##### creating tip percentage"
   ]
  },
  {
   "cell_type": "code",
   "execution_count": 109,
   "metadata": {
    "ExecuteTime": {
     "end_time": "2018-11-21T18:22:57.147975Z",
     "start_time": "2018-11-21T18:22:56.908593Z"
    },
    "run_control": {
     "frozen": false,
     "read_only": false
    }
   },
   "outputs": [
    {
     "name": "stderr",
     "output_type": "stream",
     "text": [
      "//anaconda/envs/GEOP/lib/python3.6/site-packages/ipykernel_launcher.py:1: SettingWithCopyWarning: \n",
      "A value is trying to be set on a copy of a slice from a DataFrame.\n",
      "Try using .loc[row_indexer,col_indexer] = value instead\n",
      "\n",
      "See the caveats in the documentation: http://pandas.pydata.org/pandas-docs/stable/indexing.html#indexing-view-versus-copy\n",
      "  \"\"\"Entry point for launching an IPython kernel.\n"
     ]
    }
   ],
   "source": [
    "yc200902_short[\"tipPC\"] = yc200902_short[\"Tip_Amt\"] / yc200902_short[\"Fare_Amt\"]"
   ]
  },
  {
   "cell_type": "code",
   "execution_count": 110,
   "metadata": {
    "ExecuteTime": {
     "end_time": "2018-11-21T18:22:57.178440Z",
     "start_time": "2018-11-21T18:22:57.156287Z"
    },
    "run_control": {
     "frozen": false,
     "read_only": false
    }
   },
   "outputs": [
    {
     "name": "stdout",
     "output_type": "stream",
     "text": [
      "the tip percentage is calculated as percentage of the Fare \n"
     ]
    },
    {
     "data": {
      "text/plain": [
       "count    13381.000000\n",
       "mean         0.048661\n",
       "std          0.148067\n",
       "min          0.000000\n",
       "25%          0.000000\n",
       "50%          0.000000\n",
       "75%          0.000000\n",
       "max          9.000000\n",
       "Name: tipPC, dtype: float64"
      ]
     },
     "execution_count": 110,
     "metadata": {},
     "output_type": "execute_result"
    }
   ],
   "source": [
    "print (\"the tip percentage is calculated as percentage of the Fare \")\n",
    "yc200902_short[\"tipPC\"].describe()"
   ]
  },
  {
   "cell_type": "markdown",
   "metadata": {
    "run_control": {
     "frozen": false,
     "read_only": false
    }
   },
   "source": [
    "##### creting trip duration from drop off and pick up time"
   ]
  },
  {
   "cell_type": "code",
   "execution_count": 111,
   "metadata": {
    "ExecuteTime": {
     "end_time": "2018-11-21T18:22:57.665854Z",
     "start_time": "2018-11-21T18:22:57.345557Z"
    },
    "run_control": {
     "frozen": false,
     "read_only": false
    }
   },
   "outputs": [
    {
     "name": "stderr",
     "output_type": "stream",
     "text": [
      "//anaconda/envs/GEOP/lib/python3.6/site-packages/ipykernel_launcher.py:4: SettingWithCopyWarning: \n",
      "A value is trying to be set on a copy of a slice from a DataFrame.\n",
      "Try using .loc[row_indexer,col_indexer] = value instead\n",
      "\n",
      "See the caveats in the documentation: http://pandas.pydata.org/pandas-docs/stable/indexing.html#indexing-view-versus-copy\n",
      "  after removing the cwd from sys.path.\n"
     ]
    }
   ],
   "source": [
    "#python2 python3 may have differences here\n",
    "try:\n",
    "    yc200902_short[\"tripDuration\"] = (pd.to_datetime(yc200902_short[\"Trip_Dropoff_DateTime\"]) - \n",
    "         pd.to_datetime(yc200902_short[\"Trip_Pickup_DateTime\"])).dt.seconds / 3600.\n",
    "except TypeError:\n",
    "    yc200902_short[\"tripDuration\"] = np.array( [(((np.datetime64(t)) - \n",
    "                                                (np.datetime64(yc200902_short[\"Trip_Pickup_DateTime\"].\\\n",
    "                                                               values[i]))).astype(float) / 3600)\n",
    "                                                for i,t \n",
    "                                      in enumerate(yc200902_short[\"Trip_Dropoff_DateTime\"])]) \n",
    "except:\n",
    "    yc200902_short[\"tripDuration\"] = ((pd.to_datetime(yc200902_short[\"Trip_Dropoff_DateTime\"]) - \n",
    "         pd.to_datetime(yc200902_short[\"Trip_Pickup_DateTime\"])) \n",
    "        * 1e9).astype(\"timedelta64\", \"s\") / 3600.\n",
    "    "
   ]
  },
  {
   "cell_type": "code",
   "execution_count": 112,
   "metadata": {
    "ExecuteTime": {
     "end_time": "2018-11-21T18:22:57.683392Z",
     "start_time": "2018-11-21T18:22:57.669381Z"
    },
    "run_control": {
     "frozen": false,
     "read_only": false
    }
   },
   "outputs": [
    {
     "name": "stdout",
     "output_type": "stream",
     "text": [
      "the trip duration is expressed in hours\n"
     ]
    },
    {
     "data": {
      "text/plain": [
       "count    13381.000000\n",
       "mean         0.260709\n",
       "std          1.315832\n",
       "min          0.000000\n",
       "25%          0.100000\n",
       "50%          0.150833\n",
       "75%          0.245000\n",
       "max         23.983333\n",
       "Name: tripDuration, dtype: float64"
      ]
     },
     "execution_count": 112,
     "metadata": {},
     "output_type": "execute_result"
    }
   ],
   "source": [
    "print (\"the trip duration is expressed in hours\")\n",
    "yc200902_short[\"tripDuration\"].describe()"
   ]
  },
  {
   "cell_type": "code",
   "execution_count": 215,
   "metadata": {
    "ExecuteTime": {
     "end_time": "2018-11-21T18:32:19.929312Z",
     "start_time": "2018-11-21T18:32:15.708918Z"
    }
   },
   "outputs": [
    {
     "name": "stdout",
     "output_type": "stream",
     "text": [
      "  % Total    % Received % Xferd  Average Speed   Time    Time     Time  Current\n",
      "                                 Dload  Upload   Total   Spent    Left  Speed\n",
      "100 1478k    0 1478k    0     0  1478k      0 --:--:-- --:--:-- --:--:-- 1637k\n",
      "Archive:  YObIR0MbpUVA0EpQzZSq5x55FzKGM2ejSeahdvjqR20?filename=ZIP_CODE_040114.zip\n",
      "replace /Users/fbb/Dropbox//UI/PUIdata/ZIP_CODE_040114.shx? [y]es, [n]o, [A]ll, [N]one, [r]ename: ^C\n"
     ]
    },
    {
     "data": {
      "image/png": "[encoded data removed]",
      "text/plain": [
       "<Figure size 432x288 with 1 Axes>"
      ]
     },
     "metadata": {},
     "output_type": "display_data"
    }
   ],
   "source": [
    "! curl -O https://data.cityofnewyork.us/api/views/i8iw-xf4u/files/YObIR0MbpUVA0EpQzZSq5x55FzKGM2ejSeahdvjqR20?filename=ZIP_CODE_040114.zip\n",
    "! unzip YObIR0MbpUVA0EpQzZSq5x55FzKGM2ejSeahdvjqR20\\?filename\\=ZIP_CODE_040114.zip -d $PUIDATA\n",
    "zips = gp.GeoDataFrame.from_file(os.getenv(\"PUIDATA\") + \"/ZIP_CODE_040114.shp\")\n",
    "ax = zips.plot(color='white', edgecolor='black')\n",
    "ax.axis('off');\n"
   ]
  },
  {
   "cell_type": "markdown",
   "metadata": {},
   "source": [
    "Figure: boundaries of NYC zipcode. "
   ]
  },
  {
   "cell_type": "markdown",
   "metadata": {
    "run_control": {
     "frozen": false,
     "read_only": false
    }
   },
   "source": [
    "# 5. Finding the zipcode of each pick-up drop-off\n",
    "## Find the zipcodes of taxi rides origin and destination \n"
   ]
  },
  {
   "cell_type": "code",
   "execution_count": 113,
   "metadata": {
    "ExecuteTime": {
     "end_time": "2018-11-21T18:23:04.925454Z",
     "start_time": "2018-11-21T18:22:57.833299Z"
    },
    "run_control": {
     "frozen": false,
     "read_only": false
    }
   },
   "outputs": [
    {
     "name": "stdout",
     "output_type": "stream",
     "text": [
      "  % Total    % Received % Xferd  Average Speed   Time    Time     Time  Current\n",
      "                                 Dload  Upload   Total   Spent    Left  Speed\n",
      "100   194    0   194    0     0    194      0 --:--:-- --:--:-- --:--:--   984\n",
      "Archive:  application%2Fzip\n",
      "  End-of-central-directory signature not found.  Either this file is not\n",
      "  a zipfile, or it constitutes one disk of a multi-part archive.  In the\n",
      "  latter case the central directory and zipfile comment will be found on\n",
      "  the last disk(s) of this archive.\n",
      "unzip:  cannot find zipfile directory in one of application%2Fzip or\n",
      "        application%2Fzip.zip, and cannot find application%2Fzip.ZIP, period.\n",
      "Warning: CRS does not match!\n"
     ]
    }
   ],
   "source": [
    "if GEOPANDAS:\n",
    "    import shapely\n",
    "    from shapely import geometry\n",
    "    import collections\n",
    "    import geopandas as gp\n",
    "    from fiona.crs import from_epsg\n",
    "    \n",
    "    !curl -O https://data.cityofnewyork.us/download/i8iw-xf4u/application%2Fzip\n",
    "    !unzip -d $PUIDATA application\\%2Fzip\n",
    "    zipsNYC = gp.GeoDataFrame.from_file(PUIdata + \"/ZIP_CODE_040114.shp\")\n",
    "    zipsNYC.crs = from_epsg(2263) \n",
    "    \n",
    "    \n",
    "    ycgeodep = gp.GeoDataFrame(yc200902_short.copy())\n",
    "    ycgeodes = gp.GeoDataFrame(yc200902_short.copy())\n",
    "\n",
    "    # Create Point Geometry for based on lonlat column\n",
    "    # combine lat and lon to one column\n",
    "    ycgeodep['lonlat'] = list(zip(ycgeodep.Start_Lon, ycgeodep.Start_Lat))\n",
    "    # Create Point Geometry for based on lonlat column\n",
    "    ycgeodep['geometry'] = ycgeodep[['lonlat']].applymap(lambda x: \n",
    "                                                         shapely.geometry.Point(list(x)) )\n",
    "    #shorty.head()\n",
    "    ycgeodes['lonlat'] = list(zip(ycgeodes.End_Lon, ycgeodes.End_Lat))\n",
    "    # Create Point Geometry for based on lonlat column\n",
    "    ycgeodes['geometry'] = ycgeodes[['lonlat']].applymap(lambda x: \n",
    "                                                         shapely.geometry.Point(list(x)) )\n",
    "\n",
    "    ycgeodes.crs = from_epsg(4326)\n",
    "    ycgeodes.crs = from_epsg(4326)\n",
    "    zipsNYC.to_crs(epsg=4326, inplace=True)\n",
    "        \n",
    "    goodcoords = ((ycgeodep['Start_Lat']>0) & (ycgeodep['End_Lat']>0) & \\\n",
    "                  (ycgeodep['Start_Lat']<80) & (ycgeodep['End_Lat']<80))\n",
    "\n",
    "    ycgeodep = ycgeodep[goodcoords]\n",
    "    departureZip = gp.sjoin(ycgeodep, zipsNYC, how=\"inner\", op='intersects')[['Start_Lon', \n",
    "                                                                          'Start_Lat',\n",
    "                                                                          'End_Lon',\n",
    "                                                                          'lonlat', \n",
    "                                                                          'ZIPCODE']]\n",
    "    \n",
    "    ycgeodes = ycgeodes[goodcoords]\n",
    "    destinationZip = gp.sjoin(ycgeodes, zipsNYC, how=\"inner\", op='intersects')[['Start_Lon', \n",
    "                                                                          'Start_Lat',\n",
    "                                                                          'End_Lon',\n",
    "                                                                          'lonlat', \n",
    "                                                                          'ZIPCODE']]\n",
    "    destinationZip.to_csv(PUIdata + \"/destinationZIP.csv\")\n",
    "    departureZip.to_csv(PUIdata + \"/departureZIP.csv\")"
   ]
  },
  {
   "cell_type": "code",
   "execution_count": 114,
   "metadata": {
    "ExecuteTime": {
     "end_time": "2018-11-21T18:23:09.048131Z",
     "start_time": "2018-11-21T18:23:04.928944Z"
    },
    "run_control": {
     "frozen": false,
     "read_only": false
    }
   },
   "outputs": [
    {
     "data": {
      "image/png": "[encoded data removed]",
      "text/plain": [
       "<Figure size 720x360 with 2 Axes>"
      ]
     },
     "metadata": {},
     "output_type": "display_data"
    }
   ],
   "source": [
    "if GEOPANDAS:\n",
    "    fig = pl.figure(figsize=(10,5))\n",
    "    ax = fig.add_subplot(1,2,1)\n",
    "    ycgeodep.plot(color='r', alpha=0.2, ax=ax)\n",
    "    ycgeodep.plot(color='k', alpha=0.2, ax=ax)\n",
    "    zipsNYC.plot(ax=ax, alpha=0.2)\n",
    "\n",
    "    ax = fig.add_subplot(1,2,2)\n",
    "    zipsNYC.plot(ax=ax, alpha=0.2)\n",
    "    xlim = ax.get_xlim()\n",
    "    ylim = ax.get_ylim()\n",
    "    ycgeodep.plot(color='r', alpha=0.2, ax=ax)\n",
    "    ycgeodep.plot(color='k', alpha=0.2, ax=ax)\n",
    "    ax.set_xlim(xlim)\n",
    "    ax.set_ylim(ylim);"
   ]
  },
  {
   "cell_type": "markdown",
   "metadata": {
    "run_control": {
     "frozen": false,
     "read_only": false
    }
   },
   "source": [
    "#####  loading prepared files"
   ]
  },
  {
   "cell_type": "code",
   "execution_count": 115,
   "metadata": {
    "ExecuteTime": {
     "end_time": "2018-11-21T18:23:09.056028Z",
     "start_time": "2018-11-21T18:23:09.051166Z"
    },
    "run_control": {
     "frozen": false,
     "read_only": false
    }
   },
   "outputs": [],
   "source": [
    "if not GEOPANDAS:\n",
    "    departureZip = pd.read_csv(\"http://cosmo.nyu.edu/~fb55/data/departureZIP.csv\", \n",
    "                           index_col=\"Unnamed: 0\")\n",
    "    destinationZip = pd.read_csv(\"http://cosmo.nyu.edu/~fb55/data/destinationZIP.csv\",\n",
    "                             index_col=\"Unnamed: 0\")"
   ]
  },
  {
   "cell_type": "code",
   "execution_count": 116,
   "metadata": {
    "ExecuteTime": {
     "end_time": "2018-11-21T18:23:09.076627Z",
     "start_time": "2018-11-21T18:23:09.062040Z"
    },
    "run_control": {
     "frozen": false,
     "read_only": false
    }
   },
   "outputs": [
    {
     "name": "stdout",
     "output_type": "stream",
     "text": [
      "the reducted dataset is 13290 observations, 0.99 of the original\n",
      "the reducted dataset is 13265 observations, 0.99 of the original\n"
     ]
    }
   ],
   "source": [
    "print (\"the reducted dataset is {:d} observations, {:.2f} of the original\".\\\n",
    "       format(departureZip.shape[0], \n",
    "              (destinationZip.shape[0] * 1.0 / yc200902_short.shape[0])))\n",
    "print (\"the reducted dataset is {:d} observations, {:.2f} of the original\".\\\n",
    "       format(destinationZip.shape[0], \n",
    "              destinationZip.shape[0] * 1.0 / yc200902_short.shape[0]))"
   ]
  },
  {
   "cell_type": "code",
   "execution_count": 117,
   "metadata": {
    "ExecuteTime": {
     "end_time": "2018-11-21T18:23:09.100608Z",
     "start_time": "2018-11-21T18:23:09.081669Z"
    },
    "run_control": {
     "frozen": false,
     "read_only": false
    }
   },
   "outputs": [
    {
     "data": {
      "text/html": [
       "<div>\n",
       "<style scoped>\n",
       "    .dataframe tbody tr th:only-of-type {\n",
       "        vertical-align: middle;\n",
       "    }\n",
       "\n",
       "    .dataframe tbody tr th {\n",
       "        vertical-align: top;\n",
       "    }\n",
       "\n",
       "    .dataframe thead th {\n",
       "        text-align: right;\n",
       "    }\n",
       "</style>\n",
       "<table border=\"1\" class=\"dataframe\">\n",
       "  <thead>\n",
       "    <tr style=\"text-align: right;\">\n",
       "      <th></th>\n",
       "      <th>Start_Lon</th>\n",
       "      <th>Start_Lat</th>\n",
       "      <th>End_Lon</th>\n",
       "      <th>lonlat</th>\n",
       "      <th>ZIPCODE</th>\n",
       "    </tr>\n",
       "  </thead>\n",
       "  <tbody>\n",
       "    <tr>\n",
       "      <th>0</th>\n",
       "      <td>-73.992768</td>\n",
       "      <td>40.758325</td>\n",
       "      <td>-73.994710</td>\n",
       "      <td>(-73.992768, 40.758325)</td>\n",
       "      <td>10036</td>\n",
       "    </tr>\n",
       "    <tr>\n",
       "      <th>48000</th>\n",
       "      <td>-73.985048</td>\n",
       "      <td>40.755035</td>\n",
       "      <td>-73.982035</td>\n",
       "      <td>(-73.985048, 40.755035)</td>\n",
       "      <td>10036</td>\n",
       "    </tr>\n",
       "    <tr>\n",
       "      <th>98000</th>\n",
       "      <td>-73.989672</td>\n",
       "      <td>40.756602</td>\n",
       "      <td>-73.974902</td>\n",
       "      <td>(-73.989672, 40.756602)</td>\n",
       "      <td>10036</td>\n",
       "    </tr>\n",
       "    <tr>\n",
       "      <th>138000</th>\n",
       "      <td>-73.988487</td>\n",
       "      <td>40.757317</td>\n",
       "      <td>-73.991500</td>\n",
       "      <td>(-73.988487, 40.757317)</td>\n",
       "      <td>10036</td>\n",
       "    </tr>\n",
       "    <tr>\n",
       "      <th>162000</th>\n",
       "      <td>-73.984228</td>\n",
       "      <td>40.759523</td>\n",
       "      <td>-73.960294</td>\n",
       "      <td>(-73.984228, 40.759523)</td>\n",
       "      <td>10036</td>\n",
       "    </tr>\n",
       "  </tbody>\n",
       "</table>\n",
       "</div>"
      ],
      "text/plain": [
       "        Start_Lon  Start_Lat    End_Lon                   lonlat ZIPCODE\n",
       "0      -73.992768  40.758325 -73.994710  (-73.992768, 40.758325)   10036\n",
       "48000  -73.985048  40.755035 -73.982035  (-73.985048, 40.755035)   10036\n",
       "98000  -73.989672  40.756602 -73.974902  (-73.989672, 40.756602)   10036\n",
       "138000 -73.988487  40.757317 -73.991500  (-73.988487, 40.757317)   10036\n",
       "162000 -73.984228  40.759523 -73.960294  (-73.984228, 40.759523)   10036"
      ]
     },
     "execution_count": 117,
     "metadata": {},
     "output_type": "execute_result"
    }
   ],
   "source": [
    "departureZip.head()"
   ]
  },
  {
   "cell_type": "code",
   "execution_count": 118,
   "metadata": {
    "ExecuteTime": {
     "end_time": "2018-11-21T18:23:09.121195Z",
     "start_time": "2018-11-21T18:23:09.103058Z"
    },
    "run_control": {
     "frozen": false,
     "read_only": false
    }
   },
   "outputs": [
    {
     "data": {
      "text/html": [
       "<div>\n",
       "<style scoped>\n",
       "    .dataframe tbody tr th:only-of-type {\n",
       "        vertical-align: middle;\n",
       "    }\n",
       "\n",
       "    .dataframe tbody tr th {\n",
       "        vertical-align: top;\n",
       "    }\n",
       "\n",
       "    .dataframe thead th {\n",
       "        text-align: right;\n",
       "    }\n",
       "</style>\n",
       "<table border=\"1\" class=\"dataframe\">\n",
       "  <thead>\n",
       "    <tr style=\"text-align: right;\">\n",
       "      <th></th>\n",
       "      <th>Start_Lon</th>\n",
       "      <th>Start_Lat</th>\n",
       "      <th>End_Lon</th>\n",
       "      <th>lonlat</th>\n",
       "      <th>ZIPCODE</th>\n",
       "    </tr>\n",
       "  </thead>\n",
       "  <tbody>\n",
       "    <tr>\n",
       "      <th>0</th>\n",
       "      <td>-73.992768</td>\n",
       "      <td>40.758325</td>\n",
       "      <td>-73.994710</td>\n",
       "      <td>(-73.99471, 40.739723)</td>\n",
       "      <td>10011</td>\n",
       "    </tr>\n",
       "    <tr>\n",
       "      <th>7000</th>\n",
       "      <td>-73.999021</td>\n",
       "      <td>40.744549</td>\n",
       "      <td>-73.997600</td>\n",
       "      <td>(-73.9976, 40.737661)</td>\n",
       "      <td>10011</td>\n",
       "    </tr>\n",
       "    <tr>\n",
       "      <th>32000</th>\n",
       "      <td>-73.982172</td>\n",
       "      <td>40.751662</td>\n",
       "      <td>-73.995922</td>\n",
       "      <td>(-73.99592199999998, 40.733203)</td>\n",
       "      <td>10011</td>\n",
       "    </tr>\n",
       "    <tr>\n",
       "      <th>37000</th>\n",
       "      <td>-73.987318</td>\n",
       "      <td>40.733145</td>\n",
       "      <td>-74.000598</td>\n",
       "      <td>(-74.00059799999998, 40.742468)</td>\n",
       "      <td>10011</td>\n",
       "    </tr>\n",
       "    <tr>\n",
       "      <th>60000</th>\n",
       "      <td>-73.986377</td>\n",
       "      <td>40.719460</td>\n",
       "      <td>-73.997386</td>\n",
       "      <td>(-73.997386, 40.738333)</td>\n",
       "      <td>10011</td>\n",
       "    </tr>\n",
       "  </tbody>\n",
       "</table>\n",
       "</div>"
      ],
      "text/plain": [
       "       Start_Lon  Start_Lat    End_Lon                           lonlat  \\\n",
       "0     -73.992768  40.758325 -73.994710           (-73.99471, 40.739723)   \n",
       "7000  -73.999021  40.744549 -73.997600            (-73.9976, 40.737661)   \n",
       "32000 -73.982172  40.751662 -73.995922  (-73.99592199999998, 40.733203)   \n",
       "37000 -73.987318  40.733145 -74.000598  (-74.00059799999998, 40.742468)   \n",
       "60000 -73.986377  40.719460 -73.997386          (-73.997386, 40.738333)   \n",
       "\n",
       "      ZIPCODE  \n",
       "0       10011  \n",
       "7000    10011  \n",
       "32000   10011  \n",
       "37000   10011  \n",
       "60000   10011  "
      ]
     },
     "execution_count": 118,
     "metadata": {},
     "output_type": "execute_result"
    }
   ],
   "source": [
    "destinationZip.head()"
   ]
  },
  {
   "cell_type": "code",
   "execution_count": null,
   "metadata": {
    "run_control": {
     "frozen": false,
     "read_only": false
    }
   },
   "outputs": [],
   "source": []
  },
  {
   "cell_type": "markdown",
   "metadata": {
    "run_control": {
     "frozen": false,
     "read_only": false
    }
   },
   "source": [
    "##### merging the departure and destination files to extract departure and destination zipcodes only"
   ]
  },
  {
   "cell_type": "code",
   "execution_count": 119,
   "metadata": {
    "ExecuteTime": {
     "end_time": "2018-11-21T18:23:09.151443Z",
     "start_time": "2018-11-21T18:23:09.124017Z"
    },
    "run_control": {
     "frozen": false,
     "read_only": false
    }
   },
   "outputs": [],
   "source": [
    "zipcodes = departureZip[[\"ZIPCODE\"]].merge(destinationZip[[\"ZIPCODE\"]], \n",
    "                                           left_index=True, \n",
    "                                           right_index=True, how=\"inner\").rename(\n",
    "columns={\"ZIPCODE_x\": \"ZIPCODEdep\", \"ZIPCODE_y\":\"ZIPCODEdes\"})"
   ]
  },
  {
   "cell_type": "code",
   "execution_count": 120,
   "metadata": {
    "ExecuteTime": {
     "end_time": "2018-11-21T18:23:09.167469Z",
     "start_time": "2018-11-21T18:23:09.154666Z"
    },
    "run_control": {
     "frozen": false,
     "read_only": false
    }
   },
   "outputs": [
    {
     "data": {
      "text/html": [
       "<div>\n",
       "<style scoped>\n",
       "    .dataframe tbody tr th:only-of-type {\n",
       "        vertical-align: middle;\n",
       "    }\n",
       "\n",
       "    .dataframe tbody tr th {\n",
       "        vertical-align: top;\n",
       "    }\n",
       "\n",
       "    .dataframe thead th {\n",
       "        text-align: right;\n",
       "    }\n",
       "</style>\n",
       "<table border=\"1\" class=\"dataframe\">\n",
       "  <thead>\n",
       "    <tr style=\"text-align: right;\">\n",
       "      <th></th>\n",
       "      <th>ZIPCODEdep</th>\n",
       "      <th>ZIPCODEdes</th>\n",
       "    </tr>\n",
       "  </thead>\n",
       "  <tbody>\n",
       "    <tr>\n",
       "      <th>0</th>\n",
       "      <td>10036</td>\n",
       "      <td>10011</td>\n",
       "    </tr>\n",
       "    <tr>\n",
       "      <th>1000</th>\n",
       "      <td>10022</td>\n",
       "      <td>11218</td>\n",
       "    </tr>\n",
       "    <tr>\n",
       "      <th>2000</th>\n",
       "      <td>10003</td>\n",
       "      <td>10018</td>\n",
       "    </tr>\n",
       "    <tr>\n",
       "      <th>3000</th>\n",
       "      <td>10002</td>\n",
       "      <td>10128</td>\n",
       "    </tr>\n",
       "    <tr>\n",
       "      <th>4000</th>\n",
       "      <td>10016</td>\n",
       "      <td>10002</td>\n",
       "    </tr>\n",
       "  </tbody>\n",
       "</table>\n",
       "</div>"
      ],
      "text/plain": [
       "     ZIPCODEdep ZIPCODEdes\n",
       "0         10036      10011\n",
       "1000      10022      11218\n",
       "2000      10003      10018\n",
       "3000      10002      10128\n",
       "4000      10016      10002"
      ]
     },
     "execution_count": 120,
     "metadata": {},
     "output_type": "execute_result"
    }
   ],
   "source": [
    "zipcodes.head()\n"
   ]
  },
  {
   "cell_type": "code",
   "execution_count": 121,
   "metadata": {
    "ExecuteTime": {
     "end_time": "2018-11-21T18:23:09.200234Z",
     "start_time": "2018-11-21T18:23:09.182517Z"
    },
    "run_control": {
     "frozen": false,
     "read_only": false
    }
   },
   "outputs": [
    {
     "name": "stdout",
     "output_type": "stream",
     "text": [
      "the merged departure-destination zipcode dataset is 13421 observations, 1.00 of the original\n"
     ]
    }
   ],
   "source": [
    "print (\"the merged departure-destination zipcode dataset is \" + \n",
    "       \"{:d} observations, {:.2f} of the original\".\\\n",
    "       format(zipcodes.shape[0],zipcodes.shape[0] * 1.0 / yc200902_short.shape[0] ))"
   ]
  },
  {
   "cell_type": "markdown",
   "metadata": {
    "run_control": {
     "frozen": false,
     "read_only": false
    }
   },
   "source": [
    "###### ISSUE: The size of the merged zipcode dataset is larger than the size of each dataset, this indicates that some of the datapoints appear multiple times in either dataset, generating multiple observations. While this is a concern, we know that the extraction of zipcodes from the coordinates of pickup and dropoff was done in geopandas, thought geometric shapes intersections. It is easily explained with coordinates at the edge of a zipcode geometric shape belonging to more than one shape, leading to repeated observations in the resulting dataframe, with multiple arrivals or multiple destinations. To confirm this let's check the indices: we should see repeated indices.\n"
   ]
  },
  {
   "cell_type": "code",
   "execution_count": 122,
   "metadata": {
    "ExecuteTime": {
     "end_time": "2018-11-21T18:23:26.884570Z",
     "start_time": "2018-11-21T18:23:26.870936Z"
    },
    "run_control": {
     "frozen": false,
     "read_only": false
    }
   },
   "outputs": [
    {
     "name": "stdout",
     "output_type": "stream",
     "text": [
      "number of unique indices in merged zipcode df 13069\n",
      "number of duplicate indices in merged zipcode df 352\n",
      "percentage contamination by duplicate indices in merged zipcode df 2.62\n"
     ]
    }
   ],
   "source": [
    "print (\"number of unique indices in merged zipcode df {:d}\".\\\n",
    "       format(zipcodes.index.unique().shape[0]))\n",
    "print (\"number of duplicate indices in merged zipcode df {:d}\".\\\n",
    "       format(zipcodes.shape[0] - zipcodes.index.unique().shape[0]))\n",
    "print (\"percentage contamination by duplicate indices in merged zipcode df {:.2f}\".\\\n",
    "       format(100 * (1.0 - (zipcodes.index.unique().shape[0] * 1.0 / \n",
    "                            zipcodes.shape[0]))))"
   ]
  },
  {
   "cell_type": "markdown",
   "metadata": {
    "run_control": {
     "frozen": false,
     "read_only": false
    }
   },
   "source": [
    "###### A contamination by <3% is acceptable and we do not expect it to affect our result, especially since we expect the duplicate entries to be associated with multiple **neighbouring** zipcodes, that are unlikely to have significantly different income. I choose to keep only the first entry for each index."
   ]
  },
  {
   "cell_type": "code",
   "execution_count": 123,
   "metadata": {
    "ExecuteTime": {
     "end_time": "2018-11-21T18:23:27.310664Z",
     "start_time": "2018-11-21T18:23:27.283943Z"
    },
    "run_control": {
     "frozen": false,
     "read_only": false
    }
   },
   "outputs": [],
   "source": [
    "zipcodes = zipcodes.reset_index().drop_duplicates(subset='index', \n",
    "                                                  keep='last').set_index('index')\n",
    "zipcodes.ZIPCODEdep = zipcodes.ZIPCODEdep.astype(int64)\n",
    "zipcodes.ZIPCODEdes = zipcodes.ZIPCODEdes.astype(int64)"
   ]
  },
  {
   "cell_type": "code",
   "execution_count": 124,
   "metadata": {
    "ExecuteTime": {
     "end_time": "2018-11-21T18:23:27.521341Z",
     "start_time": "2018-11-21T18:23:27.504224Z"
    },
    "run_control": {
     "frozen": false,
     "read_only": false
    }
   },
   "outputs": [
    {
     "name": "stdout",
     "output_type": "stream",
     "text": [
      "number of unique indices in merged zipcode df 13069\n"
     ]
    },
    {
     "data": {
      "text/html": [
       "<div>\n",
       "<style scoped>\n",
       "    .dataframe tbody tr th:only-of-type {\n",
       "        vertical-align: middle;\n",
       "    }\n",
       "\n",
       "    .dataframe tbody tr th {\n",
       "        vertical-align: top;\n",
       "    }\n",
       "\n",
       "    .dataframe thead th {\n",
       "        text-align: right;\n",
       "    }\n",
       "</style>\n",
       "<table border=\"1\" class=\"dataframe\">\n",
       "  <thead>\n",
       "    <tr style=\"text-align: right;\">\n",
       "      <th></th>\n",
       "      <th>ZIPCODEdep</th>\n",
       "      <th>ZIPCODEdes</th>\n",
       "    </tr>\n",
       "    <tr>\n",
       "      <th>index</th>\n",
       "      <th></th>\n",
       "      <th></th>\n",
       "    </tr>\n",
       "  </thead>\n",
       "  <tbody>\n",
       "    <tr>\n",
       "      <th>0</th>\n",
       "      <td>10036</td>\n",
       "      <td>10011</td>\n",
       "    </tr>\n",
       "    <tr>\n",
       "      <th>1000</th>\n",
       "      <td>10022</td>\n",
       "      <td>11218</td>\n",
       "    </tr>\n",
       "    <tr>\n",
       "      <th>2000</th>\n",
       "      <td>10003</td>\n",
       "      <td>10018</td>\n",
       "    </tr>\n",
       "    <tr>\n",
       "      <th>3000</th>\n",
       "      <td>10002</td>\n",
       "      <td>10128</td>\n",
       "    </tr>\n",
       "    <tr>\n",
       "      <th>4000</th>\n",
       "      <td>10016</td>\n",
       "      <td>10002</td>\n",
       "    </tr>\n",
       "  </tbody>\n",
       "</table>\n",
       "</div>"
      ],
      "text/plain": [
       "       ZIPCODEdep  ZIPCODEdes\n",
       "index                        \n",
       "0           10036       10011\n",
       "1000        10022       11218\n",
       "2000        10003       10018\n",
       "3000        10002       10128\n",
       "4000        10016       10002"
      ]
     },
     "execution_count": 124,
     "metadata": {},
     "output_type": "execute_result"
    }
   ],
   "source": [
    "print (\"number of unique indices in merged zipcode df {:d}\".\\\n",
    "       format(zipcodes.index.unique().shape[0]))\n",
    "zipcodes.head()"
   ]
  },
  {
   "cell_type": "markdown",
   "metadata": {
    "run_control": {
     "frozen": false,
     "read_only": false
    }
   },
   "source": [
    "# 6. Data aggregation \n",
    "## Join the datasets so that your data contains at least: trip duration, trip distance, fare amount, tip percentage, departure zipcode income, and destination zipcode income. "
   ]
  },
  {
   "cell_type": "markdown",
   "metadata": {
    "run_control": {
     "frozen": false,
     "read_only": false
    }
   },
   "source": [
    "##### merging zipcodes and income to obtain income at departure and destination for every ride with associated zipcodes"
   ]
  },
  {
   "cell_type": "code",
   "execution_count": 125,
   "metadata": {
    "ExecuteTime": {
     "end_time": "2018-11-21T18:23:28.199851Z",
     "start_time": "2018-11-21T18:23:28.161594Z"
    },
    "run_control": {
     "frozen": false,
     "read_only": false
    }
   },
   "outputs": [
    {
     "data": {
      "text/html": [
       "<div>\n",
       "<style scoped>\n",
       "    .dataframe tbody tr th:only-of-type {\n",
       "        vertical-align: middle;\n",
       "    }\n",
       "\n",
       "    .dataframe tbody tr th {\n",
       "        vertical-align: top;\n",
       "    }\n",
       "\n",
       "    .dataframe thead th {\n",
       "        text-align: right;\n",
       "    }\n",
       "</style>\n",
       "<table border=\"1\" class=\"dataframe\">\n",
       "  <thead>\n",
       "    <tr style=\"text-align: right;\">\n",
       "      <th></th>\n",
       "      <th>incomeDep</th>\n",
       "      <th>incomeDes</th>\n",
       "    </tr>\n",
       "    <tr>\n",
       "      <th>index</th>\n",
       "      <th></th>\n",
       "      <th></th>\n",
       "    </tr>\n",
       "  </thead>\n",
       "  <tbody>\n",
       "    <tr>\n",
       "      <th>0</th>\n",
       "      <td>120.643519</td>\n",
       "      <td>121.765217</td>\n",
       "    </tr>\n",
       "    <tr>\n",
       "      <th>192000</th>\n",
       "      <td>120.643519</td>\n",
       "      <td>121.765217</td>\n",
       "    </tr>\n",
       "    <tr>\n",
       "      <th>398000</th>\n",
       "      <td>120.643519</td>\n",
       "      <td>121.765217</td>\n",
       "    </tr>\n",
       "    <tr>\n",
       "      <th>769000</th>\n",
       "      <td>120.643519</td>\n",
       "      <td>121.765217</td>\n",
       "    </tr>\n",
       "    <tr>\n",
       "      <th>1708000</th>\n",
       "      <td>120.643519</td>\n",
       "      <td>121.765217</td>\n",
       "    </tr>\n",
       "  </tbody>\n",
       "</table>\n",
       "</div>"
      ],
      "text/plain": [
       "          incomeDep   incomeDes\n",
       "index                          \n",
       "0        120.643519  121.765217\n",
       "192000   120.643519  121.765217\n",
       "398000   120.643519  121.765217\n",
       "769000   120.643519  121.765217\n",
       "1708000  120.643519  121.765217"
      ]
     },
     "execution_count": 125,
     "metadata": {},
     "output_type": "execute_result"
    }
   ],
   "source": [
    "ridesIncome = zipcodes.merge(incomeByZip, left_on=\"ZIPCODEdep\", right_index=True).\\\n",
    "    rename(columns={\"incomePC\":\"incomeDep\"}).merge(incomeByZip, left_on=\"ZIPCODEdes\", \n",
    "                                           right_index=True).rename(\n",
    "    columns={\"incomePC\":\"incomeDes\"})[[\"incomeDep\", \"incomeDes\"]]\n",
    "ridesIncome.head()"
   ]
  },
  {
   "cell_type": "code",
   "execution_count": 126,
   "metadata": {
    "ExecuteTime": {
     "end_time": "2018-11-21T18:23:28.423667Z",
     "start_time": "2018-11-21T18:23:28.418291Z"
    },
    "run_control": {
     "frozen": false,
     "read_only": false
    }
   },
   "outputs": [
    {
     "name": "stdout",
     "output_type": "stream",
     "text": [
      "number of unique indices in merged zipcode df 11981, 0.92 of the rides have income at arrival and destination\n"
     ]
    }
   ],
   "source": [
    "print (\"number of unique indices in merged zipcode df {:d}, {:.2f} of the rides\".\\\n",
    "       format(ridesIncome.shape[0], ridesIncome.shape[0] * 1.0 / zipcodes.shape[0] ) + \n",
    "       \" have income at arrival and destination\")\n"
   ]
  },
  {
   "cell_type": "markdown",
   "metadata": {
    "run_control": {
     "frozen": false,
     "read_only": false
    }
   },
   "source": [
    "##### Merging the rides information with the income information"
   ]
  },
  {
   "cell_type": "code",
   "execution_count": 127,
   "metadata": {
    "ExecuteTime": {
     "end_time": "2018-11-21T18:23:29.253179Z",
     "start_time": "2018-11-21T18:23:29.230259Z"
    },
    "run_control": {
     "frozen": false,
     "read_only": false
    }
   },
   "outputs": [
    {
     "data": {
      "text/html": [
       "<div>\n",
       "<style scoped>\n",
       "    .dataframe tbody tr th:only-of-type {\n",
       "        vertical-align: middle;\n",
       "    }\n",
       "\n",
       "    .dataframe tbody tr th {\n",
       "        vertical-align: top;\n",
       "    }\n",
       "\n",
       "    .dataframe thead th {\n",
       "        text-align: right;\n",
       "    }\n",
       "</style>\n",
       "<table border=\"1\" class=\"dataframe\">\n",
       "  <thead>\n",
       "    <tr style=\"text-align: right;\">\n",
       "      <th></th>\n",
       "      <th>Trip_Distance</th>\n",
       "      <th>Fare_Amt</th>\n",
       "      <th>tripDuration</th>\n",
       "      <th>tipPC</th>\n",
       "      <th>incomeDep</th>\n",
       "      <th>incomeDes</th>\n",
       "    </tr>\n",
       "  </thead>\n",
       "  <tbody>\n",
       "    <tr>\n",
       "      <th>0</th>\n",
       "      <td>1.60</td>\n",
       "      <td>6.9</td>\n",
       "      <td>0.144167</td>\n",
       "      <td>0.000000</td>\n",
       "      <td>120.643519</td>\n",
       "      <td>121.765217</td>\n",
       "    </tr>\n",
       "    <tr>\n",
       "      <th>1000</th>\n",
       "      <td>11.95</td>\n",
       "      <td>28.5</td>\n",
       "      <td>0.433333</td>\n",
       "      <td>0.000000</td>\n",
       "      <td>252.197725</td>\n",
       "      <td>20.352433</td>\n",
       "    </tr>\n",
       "    <tr>\n",
       "      <th>2000</th>\n",
       "      <td>2.86</td>\n",
       "      <td>9.3</td>\n",
       "      <td>0.166667</td>\n",
       "      <td>0.000000</td>\n",
       "      <td>119.356720</td>\n",
       "      <td>238.665860</td>\n",
       "    </tr>\n",
       "    <tr>\n",
       "      <th>3000</th>\n",
       "      <td>4.60</td>\n",
       "      <td>14.9</td>\n",
       "      <td>0.333333</td>\n",
       "      <td>0.134228</td>\n",
       "      <td>21.312824</td>\n",
       "      <td>178.157744</td>\n",
       "    </tr>\n",
       "    <tr>\n",
       "      <th>4000</th>\n",
       "      <td>2.40</td>\n",
       "      <td>9.3</td>\n",
       "      <td>0.197778</td>\n",
       "      <td>0.149462</td>\n",
       "      <td>115.621026</td>\n",
       "      <td>21.312824</td>\n",
       "    </tr>\n",
       "  </tbody>\n",
       "</table>\n",
       "</div>"
      ],
      "text/plain": [
       "      Trip_Distance  Fare_Amt  tripDuration     tipPC   incomeDep   incomeDes\n",
       "0              1.60       6.9      0.144167  0.000000  120.643519  121.765217\n",
       "1000          11.95      28.5      0.433333  0.000000  252.197725   20.352433\n",
       "2000           2.86       9.3      0.166667  0.000000  119.356720  238.665860\n",
       "3000           4.60      14.9      0.333333  0.134228   21.312824  178.157744\n",
       "4000           2.40       9.3      0.197778  0.149462  115.621026   21.312824"
      ]
     },
     "execution_count": 127,
     "metadata": {},
     "output_type": "execute_result"
    }
   ],
   "source": [
    "yc200902_final = yc200902_short[[\"Trip_Distance\", \"Fare_Amt\", \n",
    "                \"tripDuration\", \"tipPC\"]].merge(ridesIncome, right_index=True,\n",
    "                                                left_index=True)\n",
    "yc200902_final.head()"
   ]
  },
  {
   "cell_type": "code",
   "execution_count": 128,
   "metadata": {
    "ExecuteTime": {
     "end_time": "2018-11-21T18:23:29.810967Z",
     "start_time": "2018-11-21T18:23:29.807153Z"
    },
    "run_control": {
     "frozen": false,
     "read_only": false
    }
   },
   "outputs": [
    {
     "name": "stdout",
     "output_type": "stream",
     "text": [
      "number of observation inf the final dataset (before outliers rejection) 11981, a fraction of 0.90 of all registered rides\n"
     ]
    }
   ],
   "source": [
    "print (\"number of observation inf the final dataset (before outliers rejection) \" + \n",
    "       \"{:d}, a fraction of {:.2f} of all registered rides\".\\\n",
    "       format(yc200902_final.shape[0], \n",
    "              yc200902_final.shape[0] * 1.0 / yc200902_short.shape[0] ))\n"
   ]
  },
  {
   "cell_type": "markdown",
   "metadata": {
    "run_control": {
     "frozen": false,
     "read_only": false
    }
   },
   "source": [
    "# Analysis"
   ]
  },
  {
   "cell_type": "code",
   "execution_count": 129,
   "metadata": {
    "ExecuteTime": {
     "end_time": "2018-11-21T18:23:31.767848Z",
     "start_time": "2018-11-21T18:23:30.312875Z"
    },
    "run_control": {
     "frozen": false,
     "read_only": false
    }
   },
   "outputs": [
    {
     "name": "stdout",
     "output_type": "stream",
     "text": [
      "Populating the interactive namespace from numpy and matplotlib\n"
     ]
    },
    {
     "name": "stderr",
     "output_type": "stream",
     "text": [
      "//anaconda/envs/GEOP/lib/python3.6/site-packages/IPython/core/magics/pylab.py:160: UserWarning: pylab import has clobbered these variables: ['xlim', 'ylim']\n",
      "`%matplotlib` prevents importing * from pylab and numpy\n",
      "  \"\\n`%matplotlib` prevents importing * from pylab and numpy\"\n",
      "//anaconda/envs/GEOP/lib/python3.6/site-packages/matplotlib/cbook/deprecation.py:107: MatplotlibDeprecationWarning: Adding an axes using the same arguments as a previous axes currently reuses the earlier instance.  In a future version, a new instance will always be created and returned.  Meanwhile, this warning can be suppressed, and the future behavior ensured, by passing a unique label to each axes instance.\n",
      "  warnings.warn(message, mplDeprecation, stacklevel=1)\n"
     ]
    },
    {
     "data": {
      "image/png": "[encoded data removed]",
      "text/plain": [
       "<Figure size 720x360 with 3 Axes>"
      ]
     },
     "metadata": {},
     "output_type": "display_data"
    }
   ],
   "source": [
    "import pandas as pd\n",
    "import choroplethNYC as cp\n",
    "%pylab inline\n",
    "departureZip = pd.read_csv(\"http://cosmo.nyu.edu/~fb55/data/departureZIP.csv\", \n",
    "                           index_col=\"Unnamed: 0\")\n",
    "destinationZip = pd.read_csv(\"http://cosmo.nyu.edu/~fb55/data/destinationZIP.csv\",\n",
    "                             index_col=\"Unnamed: 0\")\n",
    "\n",
    "zipsNYC['ZIPCODE'] = zipsNYC['ZIPCODE'].astype(int)\n",
    "\n",
    "fig = pl.figure(figsize=(10,5))\n",
    "ax1 = fig.add_subplot(121)\n",
    "cp.choroplethNYC(zipsNYC.merge(departureZip.groupby('ZIPCODE').count().reset_index()), column = \"Start_Lon\", ax=ax1)\n",
    "ax2 = fig.add_subplot(122)\n",
    "cp.choroplethNYC(zipsNYC.merge(destinationZip.groupby('ZIPCODE').count().reset_index()), column = \"Start_Lon\", ax=ax2);\n"
   ]
  },
  {
   "cell_type": "markdown",
   "metadata": {
    "run_control": {
     "frozen": false,
     "read_only": false
    }
   },
   "source": [
    "# 6. Tip percentages\n",
    "## Plot the distribution of tip percentages and *report its first and second moment*. Remove outliers, replot and see if the moments changed significantly. "
   ]
  },
  {
   "cell_type": "code",
   "execution_count": 130,
   "metadata": {
    "ExecuteTime": {
     "end_time": "2018-11-21T18:23:31.806589Z",
     "start_time": "2018-11-21T18:23:31.773543Z"
    },
    "run_control": {
     "frozen": false,
     "read_only": false
    }
   },
   "outputs": [
    {
     "name": "stdout",
     "output_type": "stream",
     "text": [
      "characteristics of the tips percentage distribution\n"
     ]
    },
    {
     "data": {
      "text/plain": [
       "count    11981.000000\n",
       "mean         0.048310\n",
       "std          0.152607\n",
       "min          0.000000\n",
       "25%          0.000000\n",
       "50%          0.000000\n",
       "75%          0.000000\n",
       "max          9.000000\n",
       "Name: tipPC, dtype: float64"
      ]
     },
     "execution_count": 130,
     "metadata": {},
     "output_type": "execute_result"
    }
   ],
   "source": [
    "print (\"characteristics of the tips percentage distribution\")\n",
    "yc200902_final.tipPC.describe()"
   ]
  },
  {
   "cell_type": "code",
   "execution_count": 131,
   "metadata": {
    "ExecuteTime": {
     "end_time": "2018-11-21T18:23:31.822693Z",
     "start_time": "2018-11-21T18:23:31.810011Z"
    },
    "run_control": {
     "frozen": false,
     "read_only": false
    }
   },
   "outputs": [
    {
     "name": "stdout",
     "output_type": "stream",
     "text": [
      "the first and second moments of the tip distribution are 0.05 and 0.15 respectively\n"
     ]
    }
   ],
   "source": [
    "print (\"the first and second moments of the tip distribution are \" + \n",
    "       \"{:.2f} and {:.2} respectively\".format(yc200902_final.tipPC.mean(), \n",
    "                                             yc200902_final.tipPC.std()))"
   ]
  },
  {
   "cell_type": "code",
   "execution_count": 132,
   "metadata": {
    "ExecuteTime": {
     "end_time": "2018-11-21T18:23:32.117400Z",
     "start_time": "2018-11-21T18:23:31.828151Z"
    },
    "run_control": {
     "frozen": false,
     "read_only": false
    }
   },
   "outputs": [
    {
     "data": {
      "image/png": "[encoded data removed]",
      "text/plain": [
       "<Figure size 432x288 with 1 Axes>"
      ]
     },
     "metadata": {},
     "output_type": "display_data"
    }
   ],
   "source": [
    "ax = yc200902_final.tipPC.plot(kind=\"hist\")\n",
    "ax.set_xlabel(\"tip Percentage\");"
   ]
  },
  {
   "cell_type": "markdown",
   "metadata": {
    "run_control": {
     "frozen": false,
     "read_only": false
    }
   },
   "source": [
    "###### Fig 1\n",
    "\n",
    "Histogram of the distribution of tips as percentage of fare for all yellowcab rides in February 2009 with valid arrival and departure zipcodes within NYC (~90% of all registered rides). The distribution is dominated by very low percentage tips, and it stretches to 900%."
   ]
  },
  {
   "cell_type": "markdown",
   "metadata": {
    "run_control": {
     "frozen": false,
     "read_only": false
    }
   },
   "source": [
    "##### outlier rejection on tips"
   ]
  },
  {
   "cell_type": "code",
   "execution_count": 133,
   "metadata": {
    "ExecuteTime": {
     "end_time": "2018-11-21T18:23:34.189255Z",
     "start_time": "2018-11-21T18:23:34.179758Z"
    },
    "run_control": {
     "frozen": false,
     "read_only": false
    }
   },
   "outputs": [
    {
     "name": "stdout",
     "output_type": "stream",
     "text": [
      "fraction of 0 tips: 0.77\n",
      "fraction of tips > 1/2 of fare: 0.00\n",
      "number of tips > 1/2 of fare: 38.00\n"
     ]
    }
   ],
   "source": [
    "print (\"fraction of 0 tips: {:.2f}\".format((yc200902_final.tipPC == 0).sum() * 1.0 / \n",
    "       yc200902_final.shape[0]))\n",
    "print (\"fraction of tips > 1/2 of fare: {:.2f}\".format((yc200902_final.tipPC > 0.5).sum() * 1.0 / \n",
    "       yc200902_final.shape[0]))\n",
    "print (\"number of tips > 1/2 of fare: {:.2f}\".format((yc200902_final.tipPC > 0.5).sum()))"
   ]
  },
  {
   "cell_type": "markdown",
   "metadata": {
    "run_control": {
     "frozen": false,
     "read_only": false
    }
   },
   "source": [
    "although the percentiles, up to the 75% percentile are all 0 due to the overwhealming number of $0 tips, tips of 50% may reasonablly be considered outliers, and they are less than 1% of the original set\n",
    "\n",
    "tips that are $0 are likely dominated by cash tips that are not recorded by the driver to not to pay taxes on it. We will remove them as well"
   ]
  },
  {
   "cell_type": "code",
   "execution_count": 134,
   "metadata": {
    "ExecuteTime": {
     "end_time": "2018-11-21T18:23:35.158969Z",
     "start_time": "2018-11-21T18:23:35.152126Z"
    },
    "run_control": {
     "frozen": false,
     "read_only": false
    }
   },
   "outputs": [],
   "source": [
    "# indices of valid tips\n",
    "tipcut = (yc200902_final.tipPC>0) & (yc200902_final.tipPC<.50)"
   ]
  },
  {
   "cell_type": "code",
   "execution_count": 135,
   "metadata": {
    "ExecuteTime": {
     "end_time": "2018-11-21T18:23:35.790182Z",
     "start_time": "2018-11-21T18:23:35.775293Z"
    },
    "run_control": {
     "frozen": false,
     "read_only": false
    }
   },
   "outputs": [
    {
     "name": "stdout",
     "output_type": "stream",
     "text": [
      "distribution of non-zero tips less than 0.5xfare\n"
     ]
    },
    {
     "data": {
      "text/plain": [
       "count    2684.000000\n",
       "mean        0.198399\n",
       "std         0.077377\n",
       "min         0.000592\n",
       "25%         0.149351\n",
       "50%         0.200000\n",
       "75%         0.233766\n",
       "max         0.491803\n",
       "Name: tipPC, dtype: float64"
      ]
     },
     "execution_count": 135,
     "metadata": {},
     "output_type": "execute_result"
    }
   ],
   "source": [
    "print (\"distribution of non-zero tips less than 0.5xfare\")\n",
    "yc200902_final.tipPC[tipcut].describe()"
   ]
  },
  {
   "cell_type": "code",
   "execution_count": 136,
   "metadata": {
    "ExecuteTime": {
     "end_time": "2018-11-21T18:23:36.525236Z",
     "start_time": "2018-11-21T18:23:36.512147Z"
    },
    "run_control": {
     "frozen": false,
     "read_only": false
    }
   },
   "outputs": [
    {
     "name": "stdout",
     "output_type": "stream",
     "text": [
      "the first and second moments of the tip distribution are 0.20 and 0.077 respectively\n"
     ]
    }
   ],
   "source": [
    "print (\"the first and second moments of the tip distribution are \" + \n",
    "       \"{:.2f} and {:.2} respectively\".format(yc200902_final.tipPC[tipcut].mean(), \n",
    "                                             yc200902_final.tipPC[tipcut].std()))"
   ]
  },
  {
   "cell_type": "code",
   "execution_count": 137,
   "metadata": {
    "ExecuteTime": {
     "end_time": "2018-11-21T18:23:37.708241Z",
     "start_time": "2018-11-21T18:23:37.422005Z"
    },
    "run_control": {
     "frozen": false,
     "read_only": false
    }
   },
   "outputs": [
    {
     "data": {
      "image/png": "[encoded data removed]",
      "text/plain": [
       "<Figure size 432x288 with 1 Axes>"
      ]
     },
     "metadata": {},
     "output_type": "display_data"
    }
   ],
   "source": [
    "ax = yc200902_final.tipPC[tipcut].plot(kind=\"hist\")\n",
    "ax.set_xlabel(\"tip Percentage\");"
   ]
  },
  {
   "cell_type": "markdown",
   "metadata": {
    "run_control": {
     "frozen": false,
     "read_only": false
    }
   },
   "source": [
    "###### Fig 2\n",
    "\n",
    "Histogram of the distribution of tips as percentage of fare for the subset of data from Figure 1 where the tip is non-zero and less than 50% of the fare. The distribution is now bellshaped, with mean near the standard 20% tip with a standard deviation of 8%"
   ]
  },
  {
   "cell_type": "code",
   "execution_count": 138,
   "metadata": {
    "ExecuteTime": {
     "end_time": "2018-11-21T18:23:42.496066Z",
     "start_time": "2018-11-21T18:23:42.489527Z"
    },
    "run_control": {
     "frozen": false,
     "read_only": false
    }
   },
   "outputs": [],
   "source": [
    "# create a new view of the DF with the chosen cuts on tips\n",
    "yc200902_final_cut = yc200902_final[tipcut]"
   ]
  },
  {
   "cell_type": "code",
   "execution_count": 139,
   "metadata": {
    "ExecuteTime": {
     "end_time": "2018-11-21T18:23:42.852490Z",
     "start_time": "2018-11-21T18:23:42.846248Z"
    },
    "run_control": {
     "frozen": false,
     "read_only": false
    }
   },
   "outputs": [
    {
     "name": "stdout",
     "output_type": "stream",
     "text": [
      "the size of the dataset after the cuts on tip are applied is 2684, a fraction of 0.20 of all registered rides\n"
     ]
    }
   ],
   "source": [
    "print (\"the size of the dataset after the cuts on tip are applied is \" + \n",
    "       \"{:d}, a fraction of {:.2f} of all registered rides\".format(\n",
    "    yc200902_final_cut.shape[0], \n",
    "    yc200902_final_cut.shape[0] * 1.0 / yc200902_short.shape[0]))"
   ]
  },
  {
   "cell_type": "markdown",
   "metadata": {},
   "source": [
    "# Measure the correlation between trip percentage-duration and fare amount-duration¶\n"
   ]
  },
  {
   "cell_type": "code",
   "execution_count": 216,
   "metadata": {
    "ExecuteTime": {
     "end_time": "2018-11-21T18:36:51.691803Z",
     "start_time": "2018-11-21T18:36:51.685974Z"
    }
   },
   "outputs": [
    {
     "data": {
      "text/plain": [
       "(-0.23958314029743377, 3.087089679379012e-35)"
      ]
     },
     "execution_count": 216,
     "metadata": {},
     "output_type": "execute_result"
    }
   ],
   "source": [
    "sp.stats.pearsonr(yc200902_final_cut.tipPC, yc200902_final_cut.tripDuration)"
   ]
  },
  {
   "cell_type": "code",
   "execution_count": 217,
   "metadata": {
    "ExecuteTime": {
     "end_time": "2018-11-21T18:37:57.309984Z",
     "start_time": "2018-11-21T18:37:57.298560Z"
    }
   },
   "outputs": [
    {
     "data": {
      "text/plain": [
       "(0.8271496889890424, 0.0)"
      ]
     },
     "execution_count": 217,
     "metadata": {},
     "output_type": "execute_result"
    }
   ],
   "source": [
    "sp.stats.pearsonr(yc200902_final_cut.Fare_Amt, yc200902_final_cut.tripDuration)"
   ]
  },
  {
   "cell_type": "markdown",
   "metadata": {},
   "source": [
    "While the fare amount is very strongly positively correlated with the trip duration, the trip percentage significantly correlated with the trip duration, meaning that longer trip are tipped less in percentage: the tip amount does not increase as fast as the fare  amount with duration. We refrain from using the p-value for the correlation since the distributions are not Gaussian"
   ]
  },
  {
   "cell_type": "markdown",
   "metadata": {},
   "source": [
    "# Test if the distributions are consistent with coming from the same parent population\n"
   ]
  },
  {
   "cell_type": "code",
   "execution_count": 224,
   "metadata": {
    "ExecuteTime": {
     "end_time": "2018-11-21T18:45:27.846240Z",
     "start_time": "2018-11-21T18:45:27.835799Z"
    }
   },
   "outputs": [
    {
     "name": "stdout",
     "output_type": "stream",
     "text": [
      "The distributions of tips percentages and trip durations do not come from the same parent distribution (p < 0.05) according to the KS test\n"
     ]
    }
   ],
   "source": [
    "ksTips = sp.stats.ks_2samp((yc200902_final_cut.tipPC - yc200902_final_cut.tipPC.mean())  / \n",
    "                         yc200902_final_cut.tipPC.std(), \n",
    "                         (yc200902_final_cut.tripDuration - yc200902_final_cut.tripDuration.mean()) / \n",
    "                         yc200902_final_cut.tripDuration.std())\n",
    "verb = \" do not \" if ksTips[1] < alpha else \" do \"\n",
    "print (\"The distributions of tips percentages and trip durations\" + verb + \"come from the same parent distribution (p < 0.05) \" + \n",
    "      \"according to the KS test\")"
   ]
  },
  {
   "cell_type": "code",
   "execution_count": 225,
   "metadata": {
    "ExecuteTime": {
     "end_time": "2018-11-21T18:45:28.577462Z",
     "start_time": "2018-11-21T18:45:28.565004Z"
    }
   },
   "outputs": [
    {
     "name": "stdout",
     "output_type": "stream",
     "text": [
      "The distributions of tips percentages and trip durations do not come from the same parent distribution (p < 0.05) according to the KS test\n"
     ]
    }
   ],
   "source": [
    "ksTips = sp.stats.ks_2samp((yc200902_final_cut.Fare_Amt - yc200902_final_cut.Fare_Amt.mean())  / \n",
    "                         yc200902_final_cut.Fare_Amt.std(), \n",
    "                         (yc200902_final_cut.tripDuration - yc200902_final_cut.tripDuration.mean()) / \n",
    "                         yc200902_final_cut.tripDuration.std())\n",
    "verb = \" do not \" if ksTips[1] < alpha else \" do \"\n",
    "print (\"The distributions of tips percentages and trip durations\" + verb + \"come from the same parent distribution (p < 0.05) \" + \n",
    "      \"according to the KS test\")"
   ]
  },
  {
   "cell_type": "markdown",
   "metadata": {
    "run_control": {
     "frozen": false,
     "read_only": false
    }
   },
   "source": [
    "\n",
    "\n",
    "# Added analysis and modeling\n",
    "# Understanding if the tip percentages follows a Gaussian distribution\n",
    "## Test if the distribution is consistent with a Gaussian.\n"
   ]
  },
  {
   "cell_type": "markdown",
   "metadata": {
    "run_control": {
     "frozen": false,
     "read_only": false
    }
   },
   "source": [
    "##### Further exploration of tips distribution\n",
    "The large bin size may hide features in this distribution. Since we want to see if it is Gaussian it is better to visualize it with smaller bins"
   ]
  },
  {
   "cell_type": "code",
   "execution_count": 140,
   "metadata": {
    "ExecuteTime": {
     "end_time": "2018-11-21T18:23:44.326145Z",
     "start_time": "2018-11-21T18:23:43.846741Z"
    },
    "run_control": {
     "frozen": false,
     "read_only": false
    }
   },
   "outputs": [
    {
     "data": {
      "image/png": "[encoded data removed]",
      "text/plain": [
       "<Figure size 432x288 with 1 Axes>"
      ]
     },
     "metadata": {},
     "output_type": "display_data"
    }
   ],
   "source": [
    "ax = yc200902_final_cut.tipPC.plot(kind=\"hist\", bins=np.arange(-0.05, \n",
    "                                                                   0.55,\n",
    "                                                                  0.01))\n",
    "ax.set_xlabel(\"tip Percentage\");"
   ]
  },
  {
   "cell_type": "markdown",
   "metadata": {
    "run_control": {
     "frozen": false,
     "read_only": false
    }
   },
   "source": [
    "###### Fig 3\n",
    "\n",
    "As Figure 2, but plotted with smaller bins of size 0.01%. The new binning reveals sharp peaks at 15%, 20%, and 25% of the trip fare: these are easily explained by automated tipping percentage options on credit card machines, as well as standarard tipping costumes."
   ]
  },
  {
   "cell_type": "code",
   "execution_count": 141,
   "metadata": {
    "ExecuteTime": {
     "end_time": "2018-11-21T18:23:45.434372Z",
     "start_time": "2018-11-21T18:23:45.220722Z"
    },
    "run_control": {
     "frozen": false,
     "read_only": false
    }
   },
   "outputs": [
    {
     "data": {
      "text/plain": [
       "<matplotlib.axes._subplots.AxesSubplot at 0x1a3088e128>"
      ]
     },
     "execution_count": 141,
     "metadata": {},
     "output_type": "execute_result"
    },
    {
     "data": {
      "image/png": "[encoded data removed]",
      "text/plain": [
       "<Figure size 432x288 with 1 Axes>"
      ]
     },
     "metadata": {},
     "output_type": "display_data"
    }
   ],
   "source": [
    "yc200902_final_cut.tripDuration.hist()"
   ]
  },
  {
   "cell_type": "code",
   "execution_count": 142,
   "metadata": {
    "ExecuteTime": {
     "end_time": "2018-11-21T18:23:45.927967Z",
     "start_time": "2018-11-21T18:23:45.920969Z"
    },
    "run_control": {
     "frozen": false,
     "read_only": false
    }
   },
   "outputs": [],
   "source": [
    "durationcut = (yc200902_final_cut.tripDuration>0) & (yc200902_final_cut.tripDuration<.5)"
   ]
  },
  {
   "cell_type": "code",
   "execution_count": 143,
   "metadata": {
    "ExecuteTime": {
     "end_time": "2018-11-21T18:23:46.621445Z",
     "start_time": "2018-11-21T18:23:46.308764Z"
    },
    "run_control": {
     "frozen": false,
     "read_only": false
    }
   },
   "outputs": [
    {
     "data": {
      "text/plain": [
       "<matplotlib.axes._subplots.AxesSubplot at 0x1a302adeb8>"
      ]
     },
     "execution_count": 143,
     "metadata": {},
     "output_type": "execute_result"
    },
    {
     "data": {
      "image/png": "[encoded data removed]",
      "text/plain": [
       "<Figure size 432x288 with 1 Axes>"
      ]
     },
     "metadata": {},
     "output_type": "display_data"
    }
   ],
   "source": [
    "yc200902_final_cut[durationcut].tripDuration.hist()"
   ]
  },
  {
   "cell_type": "code",
   "execution_count": 144,
   "metadata": {
    "ExecuteTime": {
     "end_time": "2018-11-21T18:23:46.646380Z",
     "start_time": "2018-11-21T18:23:46.634059Z"
    },
    "run_control": {
     "frozen": false,
     "read_only": false
    }
   },
   "outputs": [],
   "source": [
    "yc200902_final_cut = yc200902_final_cut[durationcut]"
   ]
  },
  {
   "cell_type": "markdown",
   "metadata": {
    "run_control": {
     "frozen": false,
     "read_only": false
    }
   },
   "source": [
    "##### Statistical tests to assess if the distribution is Gaussian\n",
    "To assess if the distribution is in fact consistent with a Gaussian (however unlikely that is in the light of the structure of the distribution which was revealed by smaller than default binning) we set a significance threshold of 0.05 and we test the standardized distribution against a standard normal distribution with a KS  and an Anderson Darling test."
   ]
  },
  {
   "cell_type": "markdown",
   "metadata": {
    "run_control": {
     "frozen": false,
     "read_only": false
    }
   },
   "source": [
    "#### KS test: non parametric, sensitive to the core of the distribution"
   ]
  },
  {
   "cell_type": "code",
   "execution_count": 145,
   "metadata": {
    "ExecuteTime": {
     "end_time": "2018-11-21T18:23:47.310162Z",
     "start_time": "2018-11-21T18:23:47.302528Z"
    },
    "run_control": {
     "frozen": false,
     "read_only": false
    }
   },
   "outputs": [],
   "source": [
    "# statistical significance threshold\n",
    "alpha = 0.05"
   ]
  },
  {
   "cell_type": "code",
   "execution_count": 146,
   "metadata": {
    "ExecuteTime": {
     "end_time": "2018-11-21T18:23:47.564027Z",
     "start_time": "2018-11-21T18:23:47.549222Z"
    },
    "run_control": {
     "frozen": false,
     "read_only": false
    }
   },
   "outputs": [
    {
     "name": "stdout",
     "output_type": "stream",
     "text": [
      "The distribution of tips does not follow a normal distribution (p < 0.05) according to the KS test\n"
     ]
    }
   ],
   "source": [
    "ksTips = sp.stats.kstest((yc200902_final_cut.tipPC - \n",
    "                yc200902_final_cut.tipPC.mean())  / \n",
    "                         yc200902_final_cut.tipPC.std(), \"norm\")\n",
    "verb = \"does not \" if ksTips[1] < alpha else \"does \"\n",
    "print (\"The distribution of tips \" + verb + \"follow a normal distribution (p < 0.05) \" + \n",
    "      \"according to the KS test\")"
   ]
  },
  {
   "cell_type": "markdown",
   "metadata": {
    "run_control": {
     "frozen": false,
     "read_only": false
    }
   },
   "source": [
    "#### AD test, parametric (light assumptions on Gaussianity), more power away from center than KS"
   ]
  },
  {
   "cell_type": "code",
   "execution_count": 147,
   "metadata": {
    "ExecuteTime": {
     "end_time": "2018-11-21T18:23:48.048749Z",
     "start_time": "2018-11-21T18:23:48.032119Z"
    },
    "run_control": {
     "frozen": false,
     "read_only": false
    }
   },
   "outputs": [
    {
     "name": "stdout",
     "output_type": "stream",
     "text": [
      "The distribution of tips does not follow a normal distribution (p < 0.05) according to the AD test\n"
     ]
    }
   ],
   "source": [
    "adTips = sp.stats.anderson((yc200902_final_cut.tipPC - \n",
    "                yc200902_final_cut.tipPC.mean())  / \n",
    "                    yc200902_final_cut.tipPC.std(), \"norm\")\n",
    "verb = \"does not \" if adTips[0] > adTips[1][adTips[2] == alpha * 100] else \"does \"\n",
    "print (\"The distribution of tips \" + verb + \"follow a normal distribution (p < 0.05) \" + \n",
    "      \"according to the AD test\")\n"
   ]
  },
  {
   "cell_type": "code",
   "execution_count": 148,
   "metadata": {
    "ExecuteTime": {
     "end_time": "2018-11-21T18:23:48.304514Z",
     "start_time": "2018-11-21T18:23:48.288450Z"
    },
    "run_control": {
     "frozen": false,
     "read_only": false
    }
   },
   "outputs": [
    {
     "data": {
      "text/plain": [
       "(0.4730532490009363, 5.6242229867786514e-142)"
      ]
     },
     "execution_count": 148,
     "metadata": {},
     "output_type": "execute_result"
    }
   ],
   "source": [
    "sp.stats.pearsonr(yc200902_final_cut.tripDuration, yc200902_final_cut.tipPC * yc200902_final_cut.Fare_Amt)"
   ]
  },
  {
   "cell_type": "code",
   "execution_count": 149,
   "metadata": {
    "ExecuteTime": {
     "end_time": "2018-11-21T18:23:48.510892Z",
     "start_time": "2018-11-21T18:23:48.495267Z"
    },
    "run_control": {
     "frozen": false,
     "read_only": false
    }
   },
   "outputs": [
    {
     "data": {
      "text/plain": [
       "(-0.27663655378896496, 6.7054776257267975e-46)"
      ]
     },
     "execution_count": 149,
     "metadata": {},
     "output_type": "execute_result"
    }
   ],
   "source": [
    "sp.stats.pearsonr(yc200902_final_cut.tripDuration, yc200902_final_cut.tipPC)"
   ]
  },
  {
   "cell_type": "code",
   "execution_count": 150,
   "metadata": {
    "ExecuteTime": {
     "end_time": "2018-11-21T18:23:48.754498Z",
     "start_time": "2018-11-21T18:23:48.743992Z"
    },
    "run_control": {
     "frozen": false,
     "read_only": false
    }
   },
   "outputs": [
    {
     "data": {
      "text/plain": [
       "(0.7602038914070466, 0.0)"
      ]
     },
     "execution_count": 150,
     "metadata": {},
     "output_type": "execute_result"
    }
   ],
   "source": [
    "sp.stats.pearsonr(yc200902_final_cut.Fare_Amt, yc200902_final_cut.tipPC * yc200902_final_cut.Fare_Amt)"
   ]
  },
  {
   "cell_type": "code",
   "execution_count": 151,
   "metadata": {
    "ExecuteTime": {
     "end_time": "2018-11-21T18:23:49.268620Z",
     "start_time": "2018-11-21T18:23:49.026562Z"
    },
    "run_control": {
     "frozen": false,
     "read_only": false
    }
   },
   "outputs": [
    {
     "data": {
      "text/plain": [
       "<matplotlib.axes._subplots.AxesSubplot at 0x1a3097def0>"
      ]
     },
     "execution_count": 151,
     "metadata": {},
     "output_type": "execute_result"
    },
    {
     "data": {
      "image/png": "[encoded data removed]",
      "text/plain": [
       "<Figure size 432x288 with 1 Axes>"
      ]
     },
     "metadata": {},
     "output_type": "display_data"
    }
   ],
   "source": [
    "yc200902_final_cut.tripDuration.hist()"
   ]
  },
  {
   "cell_type": "code",
   "execution_count": 152,
   "metadata": {
    "ExecuteTime": {
     "end_time": "2018-11-21T18:23:49.287069Z",
     "start_time": "2018-11-21T18:23:49.274528Z"
    },
    "run_control": {
     "frozen": false,
     "read_only": false
    }
   },
   "outputs": [
    {
     "data": {
      "text/plain": [
       "(-0.27663655378896496, 6.7054776257267975e-46)"
      ]
     },
     "execution_count": 152,
     "metadata": {},
     "output_type": "execute_result"
    }
   ],
   "source": [
    "sp.stats.pearsonr(yc200902_final_cut.tripDuration, yc200902_final_cut.tipPC)\n"
   ]
  },
  {
   "cell_type": "code",
   "execution_count": 153,
   "metadata": {
    "ExecuteTime": {
     "end_time": "2018-11-21T18:23:49.629769Z",
     "start_time": "2018-11-21T18:23:49.619507Z"
    },
    "run_control": {
     "frozen": false,
     "read_only": false
    }
   },
   "outputs": [
    {
     "data": {
      "text/plain": [
       "((-0.02116652291589819, 0.2859792030983739),\n",
       " (0.015357567351500219, 0.43886051060097053))"
      ]
     },
     "execution_count": 153,
     "metadata": {},
     "output_type": "execute_result"
    }
   ],
   "source": [
    "sp.stats.pearsonr(yc200902_final_cut.tipPC, yc200902_final_cut.incomeDep), \\\n",
    "sp.stats.pearsonr(yc200902_final_cut.tipPC, yc200902_final_cut.incomeDes)\n"
   ]
  },
  {
   "cell_type": "markdown",
   "metadata": {
    "run_control": {
     "frozen": false,
     "read_only": false
    }
   },
   "source": [
    "# 8. Modeling to assess colinearity of Fare and trip distance\n",
    "## Fit a line to taxi fare vs trip duration and to taxi fare vs trip distance to decide which variable between duration and distance *contains more information when used in a model in conjunction with the fare*"
   ]
  },
  {
   "cell_type": "markdown",
   "metadata": {
    "run_control": {
     "frozen": false,
     "read_only": false
    }
   },
   "source": [
    "##### assessing colinearity of fare and trip duration"
   ]
  },
  {
   "cell_type": "code",
   "execution_count": 154,
   "metadata": {
    "ExecuteTime": {
     "end_time": "2018-11-21T18:23:50.849230Z",
     "start_time": "2018-11-21T18:23:50.805262Z"
    },
    "run_control": {
     "frozen": false,
     "read_only": false
    }
   },
   "outputs": [
    {
     "data": {
      "text/html": [
       "<table class=\"simpletable\">\n",
       "<caption>OLS Regression Results</caption>\n",
       "<tr>\n",
       "  <th>Dep. Variable:</th>        <td>Fare_Amt</td>     <th>  R-squared:         </th> <td>   0.531</td> \n",
       "</tr>\n",
       "<tr>\n",
       "  <th>Model:</th>                   <td>OLS</td>       <th>  Adj. R-squared:    </th> <td>   0.530</td> \n",
       "</tr>\n",
       "<tr>\n",
       "  <th>Method:</th>             <td>Least Squares</td>  <th>  F-statistic:       </th> <td>   2872.</td> \n",
       "</tr>\n",
       "<tr>\n",
       "  <th>Date:</th>             <td>Wed, 21 Nov 2018</td> <th>  Prob (F-statistic):</th>  <td>  0.00</td>  \n",
       "</tr>\n",
       "<tr>\n",
       "  <th>Time:</th>                 <td>13:23:50</td>     <th>  Log-Likelihood:    </th> <td> -7018.5</td> \n",
       "</tr>\n",
       "<tr>\n",
       "  <th>No. Observations:</th>      <td>  2543</td>      <th>  AIC:               </th> <td>1.404e+04</td>\n",
       "</tr>\n",
       "<tr>\n",
       "  <th>Df Residuals:</th>          <td>  2541</td>      <th>  BIC:               </th> <td>1.405e+04</td>\n",
       "</tr>\n",
       "<tr>\n",
       "  <th>Df Model:</th>              <td>     1</td>      <th>                     </th>     <td> </td>    \n",
       "</tr>\n",
       "<tr>\n",
       "  <th>Covariance Type:</th>      <td>nonrobust</td>    <th>                     </th>     <td> </td>    \n",
       "</tr>\n",
       "</table>\n",
       "<table class=\"simpletable\">\n",
       "<tr>\n",
       "        <td></td>          <th>coef</th>     <th>std err</th>      <th>t</th>      <th>P>|t|</th>  <th>[0.025</th>    <th>0.975]</th>  \n",
       "</tr>\n",
       "<tr>\n",
       "  <th>Intercept</th>    <td>    2.2429</td> <td>    0.161</td> <td>   13.934</td> <td> 0.000</td> <td>    1.927</td> <td>    2.559</td>\n",
       "</tr>\n",
       "<tr>\n",
       "  <th>tripDuration</th> <td>   39.6577</td> <td>    0.740</td> <td>   53.589</td> <td> 0.000</td> <td>   38.207</td> <td>   41.109</td>\n",
       "</tr>\n",
       "</table>\n",
       "<table class=\"simpletable\">\n",
       "<tr>\n",
       "  <th>Omnibus:</th>       <td>2861.873</td> <th>  Durbin-Watson:     </th>  <td>   1.944</td> \n",
       "</tr>\n",
       "<tr>\n",
       "  <th>Prob(Omnibus):</th>  <td> 0.000</td>  <th>  Jarque-Bera (JB):  </th> <td>262826.363</td>\n",
       "</tr>\n",
       "<tr>\n",
       "  <th>Skew:</th>           <td> 5.738</td>  <th>  Prob(JB):          </th>  <td>    0.00</td> \n",
       "</tr>\n",
       "<tr>\n",
       "  <th>Kurtosis:</th>       <td>51.464</td>  <th>  Cond. No.          </th>  <td>    10.1</td> \n",
       "</tr>\n",
       "</table>"
      ],
      "text/plain": [
       "<class 'statsmodels.iolib.summary.Summary'>\n",
       "\"\"\"\n",
       "                            OLS Regression Results                            \n",
       "==============================================================================\n",
       "Dep. Variable:               Fare_Amt   R-squared:                       0.531\n",
       "Model:                            OLS   Adj. R-squared:                  0.530\n",
       "Method:                 Least Squares   F-statistic:                     2872.\n",
       "Date:                Wed, 21 Nov 2018   Prob (F-statistic):               0.00\n",
       "Time:                        13:23:50   Log-Likelihood:                -7018.5\n",
       "No. Observations:                2543   AIC:                         1.404e+04\n",
       "Df Residuals:                    2541   BIC:                         1.405e+04\n",
       "Df Model:                           1                                         \n",
       "Covariance Type:            nonrobust                                         \n",
       "================================================================================\n",
       "                   coef    std err          t      P>|t|      [0.025      0.975]\n",
       "--------------------------------------------------------------------------------\n",
       "Intercept        2.2429      0.161     13.934      0.000       1.927       2.559\n",
       "tripDuration    39.6577      0.740     53.589      0.000      38.207      41.109\n",
       "==============================================================================\n",
       "Omnibus:                     2861.873   Durbin-Watson:                   1.944\n",
       "Prob(Omnibus):                  0.000   Jarque-Bera (JB):           262826.363\n",
       "Skew:                           5.738   Prob(JB):                         0.00\n",
       "Kurtosis:                      51.464   Cond. No.                         10.1\n",
       "==============================================================================\n",
       "\n",
       "Warnings:\n",
       "[1] Standard Errors assume that the covariance matrix of the errors is correctly specified.\n",
       "\"\"\""
      ]
     },
     "execution_count": 154,
     "metadata": {},
     "output_type": "execute_result"
    }
   ],
   "source": [
    "# modeling fare with duration\n",
    "tdmodel = smf.ols(formula='Fare_Amt ~ tripDuration', data=yc200902_final_cut).fit()\n",
    "tdmodel.summary()"
   ]
  },
  {
   "cell_type": "markdown",
   "metadata": {
    "run_control": {
     "frozen": false,
     "read_only": false
    }
   },
   "source": [
    "#### Trip duration model has very low predictive power on fare. However the distribution of trip duration has not been evaluated yet"
   ]
  },
  {
   "cell_type": "code",
   "execution_count": 155,
   "metadata": {
    "ExecuteTime": {
     "end_time": "2018-11-21T18:23:52.028473Z",
     "start_time": "2018-11-21T18:23:51.721778Z"
    },
    "run_control": {
     "frozen": false,
     "read_only": false
    }
   },
   "outputs": [
    {
     "data": {
      "image/png": "[encoded data removed]",
      "text/plain": [
       "<Figure size 432x288 with 1 Axes>"
      ]
     },
     "metadata": {},
     "output_type": "display_data"
    }
   ],
   "source": [
    "ax = yc200902_final_cut.plot.scatter(y=\"Fare_Amt\", x=\"tripDuration\", alpha=0.3)\n",
    "ax.plot(yc200902_final_cut.tripDuration, tdmodel.fittedvalues, 'k')\n",
    "ax.set_ylabel(\"Fare ($)\")\n",
    "ax.set_xlabel(\"trip duration (hours)\");"
   ]
  },
  {
   "cell_type": "markdown",
   "metadata": {
    "run_control": {
     "frozen": false,
     "read_only": false
    }
   },
   "source": [
    "###### Fig 4\n",
    "Scatter plot of trip fare against trip duration for February rides with non-zero tip and tip < 50% of Fare (subsampled 1 out of 1000). Also plotted (black line) is a linear fit of trip duration to fare. This figure reveals that the low pedictive power of a model of trip fare from trip duration (Rsquares = 0.02 or 2% of the variance in fare explained by duration) is due to the presence of extreme values in the distribution of trip durations. The values are split in roughly two groups, one within 5 hours, and one with duration close to 24 hours. The latter group is due to trips that cross the date line incorrectly logged or processed to derive trip duration. "
   ]
  },
  {
   "cell_type": "markdown",
   "metadata": {
    "run_control": {
     "frozen": false,
     "read_only": false
    }
   },
   "source": [
    "#### removing upper 2.5% (mean + 2 stdev) and <0 rides by duration"
   ]
  },
  {
   "cell_type": "code",
   "execution_count": 156,
   "metadata": {
    "ExecuteTime": {
     "end_time": "2018-11-21T18:23:52.790594Z",
     "start_time": "2018-11-21T18:23:52.775920Z"
    },
    "run_control": {
     "frozen": false,
     "read_only": false
    }
   },
   "outputs": [
    {
     "data": {
      "text/plain": [
       "count    2543.000000\n",
       "mean        0.191855\n",
       "std         0.102499\n",
       "min         0.005278\n",
       "25%         0.116667\n",
       "50%         0.170278\n",
       "75%         0.250278\n",
       "max         0.499444\n",
       "Name: tripDuration, dtype: float64"
      ]
     },
     "execution_count": 156,
     "metadata": {},
     "output_type": "execute_result"
    }
   ],
   "source": [
    "yc200902_final_cut.tripDuration.describe()"
   ]
  },
  {
   "cell_type": "code",
   "execution_count": 191,
   "metadata": {
    "ExecuteTime": {
     "end_time": "2018-11-21T18:26:41.212893Z",
     "start_time": "2018-11-21T18:26:41.196038Z"
    },
    "run_control": {
     "frozen": false,
     "read_only": false
    }
   },
   "outputs": [
    {
     "name": "stderr",
     "output_type": "stream",
     "text": [
      "//anaconda/envs/GEOP/lib/python3.6/site-packages/ipykernel_launcher.py:5: UserWarning: Boolean Series key will be reindexed to match DataFrame index.\n",
      "  \"\"\"\n",
      "//anaconda/envs/GEOP/lib/python3.6/site-packages/ipykernel_launcher.py:6: UserWarning: Boolean Series key will be reindexed to match DataFrame index.\n",
      "  \n"
     ]
    }
   ],
   "source": [
    "# there are no trip durations < 0 with this cut on tips, \n",
    "# but in case there were i leave that cut in\n",
    "upperlim = yc200902_final_cut.tripDuration.mean() +\\\n",
    "    yc200902_final_cut.tripDuration.std() * 2\n",
    "\n",
    "durationcut = (yc200902_final_cut[tipcut].tripDuration > 0) & (\n",
    "    yc200902_final_cut[tipcut].tripDuration < upperlim)\n",
    "\n",
    "yc200902_final_cut = yc200902_final[tipcut][durationcut]"
   ]
  },
  {
   "cell_type": "code",
   "execution_count": 192,
   "metadata": {
    "ExecuteTime": {
     "end_time": "2018-11-21T18:26:44.406189Z",
     "start_time": "2018-11-21T18:26:44.397892Z"
    },
    "run_control": {
     "frozen": false,
     "read_only": false
    }
   },
   "outputs": [
    {
     "name": "stdout",
     "output_type": "stream",
     "text": [
      "the size of the dataset after the cuts on duration are applied is 2650, a fraction of 0.20 of all registered rides\n"
     ]
    }
   ],
   "source": [
    "print (\"the size of the dataset after the cuts on duration are applied is \" + \n",
    "       \"{:d}, a fraction of {:.2f} of all registered rides\".format(\n",
    "    yc200902_final[tipcut][durationcut].shape[0], \n",
    "    yc200902_final[tipcut][durationcut].shape[0] * 1.0 / yc200902_short.shape[0]))"
   ]
  },
  {
   "cell_type": "code",
   "execution_count": 193,
   "metadata": {
    "ExecuteTime": {
     "end_time": "2018-11-21T18:26:46.985486Z",
     "start_time": "2018-11-21T18:26:46.653061Z"
    },
    "run_control": {
     "frozen": false,
     "read_only": false
    }
   },
   "outputs": [
    {
     "data": {
      "text/html": [
       "<table class=\"simpletable\">\n",
       "<caption>OLS Regression Results</caption>\n",
       "<tr>\n",
       "  <th>Dep. Variable:</th>        <td>Fare_Amt</td>     <th>  R-squared:         </th> <td>   0.426</td> \n",
       "</tr>\n",
       "<tr>\n",
       "  <th>Model:</th>                   <td>OLS</td>       <th>  Adj. R-squared:    </th> <td>   0.426</td> \n",
       "</tr>\n",
       "<tr>\n",
       "  <th>Method:</th>             <td>Least Squares</td>  <th>  F-statistic:       </th> <td>   1968.</td> \n",
       "</tr>\n",
       "<tr>\n",
       "  <th>Date:</th>             <td>Wed, 21 Nov 2018</td> <th>  Prob (F-statistic):</th> <td>6.03e-322</td>\n",
       "</tr>\n",
       "<tr>\n",
       "  <th>Time:</th>                 <td>13:26:46</td>     <th>  Log-Likelihood:    </th> <td> -8237.3</td> \n",
       "</tr>\n",
       "<tr>\n",
       "  <th>No. Observations:</th>      <td>  2650</td>      <th>  AIC:               </th> <td>1.648e+04</td>\n",
       "</tr>\n",
       "<tr>\n",
       "  <th>Df Residuals:</th>          <td>  2648</td>      <th>  BIC:               </th> <td>1.649e+04</td>\n",
       "</tr>\n",
       "<tr>\n",
       "  <th>Df Model:</th>              <td>     1</td>      <th>                     </th>     <td> </td>    \n",
       "</tr>\n",
       "<tr>\n",
       "  <th>Covariance Type:</th>      <td>nonrobust</td>    <th>                     </th>     <td> </td>    \n",
       "</tr>\n",
       "</table>\n",
       "<table class=\"simpletable\">\n",
       "<tr>\n",
       "        <td></td>          <th>coef</th>     <th>std err</th>      <th>t</th>      <th>P>|t|</th>  <th>[0.025</th>    <th>0.975]</th>  \n",
       "</tr>\n",
       "<tr>\n",
       "  <th>Intercept</th>    <td>    4.4338</td> <td>    0.175</td> <td>   25.301</td> <td> 0.000</td> <td>    4.090</td> <td>    4.777</td>\n",
       "</tr>\n",
       "<tr>\n",
       "  <th>tripDuration</th> <td>   29.4976</td> <td>    0.665</td> <td>   44.367</td> <td> 0.000</td> <td>   28.194</td> <td>   30.801</td>\n",
       "</tr>\n",
       "</table>\n",
       "<table class=\"simpletable\">\n",
       "<tr>\n",
       "  <th>Omnibus:</th>       <td>2014.358</td> <th>  Durbin-Watson:     </th>  <td>   1.975</td>  \n",
       "</tr>\n",
       "<tr>\n",
       "  <th>Prob(Omnibus):</th>  <td> 0.000</td>  <th>  Jarque-Bera (JB):  </th> <td>1927101.370</td>\n",
       "</tr>\n",
       "<tr>\n",
       "  <th>Skew:</th>           <td>-2.243</td>  <th>  Prob(JB):          </th>  <td>    0.00</td>  \n",
       "</tr>\n",
       "<tr>\n",
       "  <th>Kurtosis:</th>       <td>135.034</td> <th>  Cond. No.          </th>  <td>    6.60</td>  \n",
       "</tr>\n",
       "</table>"
      ],
      "text/plain": [
       "<class 'statsmodels.iolib.summary.Summary'>\n",
       "\"\"\"\n",
       "                            OLS Regression Results                            \n",
       "==============================================================================\n",
       "Dep. Variable:               Fare_Amt   R-squared:                       0.426\n",
       "Model:                            OLS   Adj. R-squared:                  0.426\n",
       "Method:                 Least Squares   F-statistic:                     1968.\n",
       "Date:                Wed, 21 Nov 2018   Prob (F-statistic):          6.03e-322\n",
       "Time:                        13:26:46   Log-Likelihood:                -8237.3\n",
       "No. Observations:                2650   AIC:                         1.648e+04\n",
       "Df Residuals:                    2648   BIC:                         1.649e+04\n",
       "Df Model:                           1                                         \n",
       "Covariance Type:            nonrobust                                         \n",
       "================================================================================\n",
       "                   coef    std err          t      P>|t|      [0.025      0.975]\n",
       "--------------------------------------------------------------------------------\n",
       "Intercept        4.4338      0.175     25.301      0.000       4.090       4.777\n",
       "tripDuration    29.4976      0.665     44.367      0.000      28.194      30.801\n",
       "==============================================================================\n",
       "Omnibus:                     2014.358   Durbin-Watson:                   1.975\n",
       "Prob(Omnibus):                  0.000   Jarque-Bera (JB):          1927101.370\n",
       "Skew:                          -2.243   Prob(JB):                         0.00\n",
       "Kurtosis:                     135.034   Cond. No.                         6.60\n",
       "==============================================================================\n",
       "\n",
       "Warnings:\n",
       "[1] Standard Errors assume that the covariance matrix of the errors is correctly specified.\n",
       "\"\"\""
      ]
     },
     "execution_count": 193,
     "metadata": {},
     "output_type": "execute_result"
    },
    {
     "data": {
      "image/png": "[encoded data removed]",
      "text/plain": [
       "<Figure size 432x288 with 1 Axes>"
      ]
     },
     "metadata": {},
     "output_type": "display_data"
    }
   ],
   "source": [
    "# trip duration model\n",
    "tdmodel = smf.ols(formula='Fare_Amt ~ tripDuration', data=yc200902_final_cut).fit()\n",
    "ax = yc200902_final_cut.plot.scatter(y=\"Fare_Amt\", x=\"tripDuration\", alpha=0.3)\n",
    "ax.plot(yc200902_final_cut.tripDuration, tdmodel.fittedvalues, 'k')\n",
    "ax.set_ylabel(\"Fare ($)\")\n",
    "ax.set_xlabel(\"trip duration (hours)\");\n",
    "tdmodel.summary()"
   ]
  },
  {
   "cell_type": "markdown",
   "metadata": {
    "run_control": {
     "frozen": false,
     "read_only": false
    }
   },
   "source": [
    "###### Fig 5\n",
    "As Figure 4 with outliers removed: rides shorter than 0 hours and longer than the 97.5%ile of the distribution. The fit significantly improved, with Rsquares = 0.4 or 40% of the variance in fare explained by duration. More outliers are observable in this plot: a single trip with duration >5 hours and several trips with fare exactly $45, the fixed fare from JFK. These can be considered outliers for the purpose of this analysis and will be removed in the next step."
   ]
  },
  {
   "cell_type": "markdown",
   "metadata": {
    "run_control": {
     "frozen": false,
     "read_only": false
    }
   },
   "source": [
    "#### cutting trip duration at 2 hours and removing fix fare"
   ]
  },
  {
   "cell_type": "code",
   "execution_count": 194,
   "metadata": {
    "ExecuteTime": {
     "end_time": "2018-11-21T18:26:48.735652Z",
     "start_time": "2018-11-21T18:26:48.717804Z"
    },
    "run_control": {
     "frozen": false,
     "read_only": false
    }
   },
   "outputs": [
    {
     "name": "stderr",
     "output_type": "stream",
     "text": [
      "//anaconda/envs/GEOP/lib/python3.6/site-packages/ipykernel_launcher.py:3: UserWarning: Boolean Series key will be reindexed to match DataFrame index.\n",
      "  This is separate from the ipykernel package so we can avoid doing imports until\n"
     ]
    }
   ],
   "source": [
    "# cuts\n",
    "durationcut = (yc200902_final.tripDuration > 0) & \\\n",
    "               (yc200902_final.tripDuration < 2) & \\\n",
    "               (~(yc200902_final.Fare_Amt == 45.0))\n",
    "yc200902_final_cut = yc200902_final[tipcut][durationcut]"
   ]
  },
  {
   "cell_type": "code",
   "execution_count": 195,
   "metadata": {
    "ExecuteTime": {
     "end_time": "2018-11-21T18:26:49.413490Z",
     "start_time": "2018-11-21T18:26:49.064588Z"
    },
    "run_control": {
     "frozen": false,
     "read_only": false
    }
   },
   "outputs": [
    {
     "data": {
      "text/html": [
       "<table class=\"simpletable\">\n",
       "<caption>OLS Regression Results</caption>\n",
       "<tr>\n",
       "  <th>Dep. Variable:</th>        <td>Fare_Amt</td>     <th>  R-squared:         </th> <td>   0.669</td> \n",
       "</tr>\n",
       "<tr>\n",
       "  <th>Model:</th>                   <td>OLS</td>       <th>  Adj. R-squared:    </th> <td>   0.669</td> \n",
       "</tr>\n",
       "<tr>\n",
       "  <th>Method:</th>             <td>Least Squares</td>  <th>  F-statistic:       </th> <td>   5262.</td> \n",
       "</tr>\n",
       "<tr>\n",
       "  <th>Date:</th>             <td>Wed, 21 Nov 2018</td> <th>  Prob (F-statistic):</th>  <td>  0.00</td>  \n",
       "</tr>\n",
       "<tr>\n",
       "  <th>Time:</th>                 <td>13:26:49</td>     <th>  Log-Likelihood:    </th> <td> -6671.8</td> \n",
       "</tr>\n",
       "<tr>\n",
       "  <th>No. Observations:</th>      <td>  2601</td>      <th>  AIC:               </th> <td>1.335e+04</td>\n",
       "</tr>\n",
       "<tr>\n",
       "  <th>Df Residuals:</th>          <td>  2599</td>      <th>  BIC:               </th> <td>1.336e+04</td>\n",
       "</tr>\n",
       "<tr>\n",
       "  <th>Df Model:</th>              <td>     1</td>      <th>                     </th>     <td> </td>    \n",
       "</tr>\n",
       "<tr>\n",
       "  <th>Covariance Type:</th>      <td>nonrobust</td>    <th>                     </th>     <td> </td>    \n",
       "</tr>\n",
       "</table>\n",
       "<table class=\"simpletable\">\n",
       "<tr>\n",
       "        <td></td>          <th>coef</th>     <th>std err</th>      <th>t</th>      <th>P>|t|</th>  <th>[0.025</th>    <th>0.975]</th>  \n",
       "</tr>\n",
       "<tr>\n",
       "  <th>Intercept</th>    <td>    2.6654</td> <td>    0.119</td> <td>   22.465</td> <td> 0.000</td> <td>    2.433</td> <td>    2.898</td>\n",
       "</tr>\n",
       "<tr>\n",
       "  <th>tripDuration</th> <td>   36.1378</td> <td>    0.498</td> <td>   72.540</td> <td> 0.000</td> <td>   35.161</td> <td>   37.115</td>\n",
       "</tr>\n",
       "</table>\n",
       "<table class=\"simpletable\">\n",
       "<tr>\n",
       "  <th>Omnibus:</th>       <td>1101.808</td> <th>  Durbin-Watson:     </th>  <td>   2.019</td> \n",
       "</tr>\n",
       "<tr>\n",
       "  <th>Prob(Omnibus):</th>  <td> 0.000</td>  <th>  Jarque-Bera (JB):  </th> <td>141662.821</td>\n",
       "</tr>\n",
       "<tr>\n",
       "  <th>Skew:</th>           <td> 0.974</td>  <th>  Prob(JB):          </th>  <td>    0.00</td> \n",
       "</tr>\n",
       "<tr>\n",
       "  <th>Kurtosis:</th>       <td>39.102</td>  <th>  Cond. No.          </th>  <td>    8.41</td> \n",
       "</tr>\n",
       "</table>"
      ],
      "text/plain": [
       "<class 'statsmodels.iolib.summary.Summary'>\n",
       "\"\"\"\n",
       "                            OLS Regression Results                            \n",
       "==============================================================================\n",
       "Dep. Variable:               Fare_Amt   R-squared:                       0.669\n",
       "Model:                            OLS   Adj. R-squared:                  0.669\n",
       "Method:                 Least Squares   F-statistic:                     5262.\n",
       "Date:                Wed, 21 Nov 2018   Prob (F-statistic):               0.00\n",
       "Time:                        13:26:49   Log-Likelihood:                -6671.8\n",
       "No. Observations:                2601   AIC:                         1.335e+04\n",
       "Df Residuals:                    2599   BIC:                         1.336e+04\n",
       "Df Model:                           1                                         \n",
       "Covariance Type:            nonrobust                                         \n",
       "================================================================================\n",
       "                   coef    std err          t      P>|t|      [0.025      0.975]\n",
       "--------------------------------------------------------------------------------\n",
       "Intercept        2.6654      0.119     22.465      0.000       2.433       2.898\n",
       "tripDuration    36.1378      0.498     72.540      0.000      35.161      37.115\n",
       "==============================================================================\n",
       "Omnibus:                     1101.808   Durbin-Watson:                   2.019\n",
       "Prob(Omnibus):                  0.000   Jarque-Bera (JB):           141662.821\n",
       "Skew:                           0.974   Prob(JB):                         0.00\n",
       "Kurtosis:                      39.102   Cond. No.                         8.41\n",
       "==============================================================================\n",
       "\n",
       "Warnings:\n",
       "[1] Standard Errors assume that the covariance matrix of the errors is correctly specified.\n",
       "\"\"\""
      ]
     },
     "execution_count": 195,
     "metadata": {},
     "output_type": "execute_result"
    },
    {
     "data": {
      "image/png": "[encoded data removed]",
      "text/plain": [
       "<Figure size 432x288 with 1 Axes>"
      ]
     },
     "metadata": {},
     "output_type": "display_data"
    }
   ],
   "source": [
    "# redo duration model\n",
    "tdmodel = smf.ols(formula='Fare_Amt ~ tripDuration', data=yc200902_final_cut).fit()\n",
    "ax = yc200902_final_cut.plot.scatter(y=\"Fare_Amt\", x=\"tripDuration\",\n",
    "                                    alpha=0.3)\n",
    "ax.set_ylabel(\"Fare ($)\")\n",
    "ax.plot(yc200902_final_cut.tripDuration, tdmodel.fittedvalues, 'k')\n",
    "tdmodel.summary()"
   ]
  },
  {
   "cell_type": "markdown",
   "metadata": {
    "run_control": {
     "frozen": false,
     "read_only": false
    }
   },
   "source": [
    "###### Fig 6\n",
    "As Figure 4 with outliers removed: rides shorter than 0 hours and longer than 2 hours and rides with fixed $45 fare. With these cuts trip duration predicts nearly 70% of the variance in the distribution. "
   ]
  },
  {
   "cell_type": "code",
   "execution_count": 196,
   "metadata": {
    "ExecuteTime": {
     "end_time": "2018-11-21T18:26:50.500583Z",
     "start_time": "2018-11-21T18:26:50.497072Z"
    },
    "run_control": {
     "frozen": false,
     "read_only": false
    }
   },
   "outputs": [
    {
     "name": "stdout",
     "output_type": "stream",
     "text": [
      "the size of the dataset after the cuts on duration are applied is 2601, a fraction of 0.19 of all registered rides\n"
     ]
    }
   ],
   "source": [
    "print (\"the size of the dataset after the cuts on duration are applied is \" + \n",
    "       \"{:d}, a fraction of {:.2f} of all registered rides\".format(\n",
    "    yc200902_final_cut.shape[0], \n",
    "    yc200902_final_cut.shape[0] * 1.0 / yc200902_short.shape[0]))"
   ]
  },
  {
   "cell_type": "code",
   "execution_count": 197,
   "metadata": {
    "ExecuteTime": {
     "end_time": "2018-11-21T18:26:50.936824Z",
     "start_time": "2018-11-21T18:26:50.892733Z"
    },
    "run_control": {
     "frozen": false,
     "read_only": false
    }
   },
   "outputs": [
    {
     "data": {
      "text/html": [
       "<table class=\"simpletable\">\n",
       "<caption>OLS Regression Results</caption>\n",
       "<tr>\n",
       "  <th>Dep. Variable:</th>        <td>Fare_Amt</td>     <th>  R-squared:         </th> <td>   0.840</td> \n",
       "</tr>\n",
       "<tr>\n",
       "  <th>Model:</th>                   <td>OLS</td>       <th>  Adj. R-squared:    </th> <td>   0.840</td> \n",
       "</tr>\n",
       "<tr>\n",
       "  <th>Method:</th>             <td>Least Squares</td>  <th>  F-statistic:       </th> <td>1.408e+04</td>\n",
       "</tr>\n",
       "<tr>\n",
       "  <th>Date:</th>             <td>Wed, 21 Nov 2018</td> <th>  Prob (F-statistic):</th>  <td>  0.00</td>  \n",
       "</tr>\n",
       "<tr>\n",
       "  <th>Time:</th>                 <td>13:26:50</td>     <th>  Log-Likelihood:    </th> <td> -6646.9</td> \n",
       "</tr>\n",
       "<tr>\n",
       "  <th>No. Observations:</th>      <td>  2684</td>      <th>  AIC:               </th> <td>1.330e+04</td>\n",
       "</tr>\n",
       "<tr>\n",
       "  <th>Df Residuals:</th>          <td>  2682</td>      <th>  BIC:               </th> <td>1.331e+04</td>\n",
       "</tr>\n",
       "<tr>\n",
       "  <th>Df Model:</th>              <td>     1</td>      <th>                     </th>     <td> </td>    \n",
       "</tr>\n",
       "<tr>\n",
       "  <th>Covariance Type:</th>      <td>nonrobust</td>    <th>                     </th>     <td> </td>    \n",
       "</tr>\n",
       "</table>\n",
       "<table class=\"simpletable\">\n",
       "<tr>\n",
       "        <td></td>           <th>coef</th>     <th>std err</th>      <th>t</th>      <th>P>|t|</th>  <th>[0.025</th>    <th>0.975]</th>  \n",
       "</tr>\n",
       "<tr>\n",
       "  <th>Intercept</th>     <td>    4.0625</td> <td>    0.078</td> <td>   51.802</td> <td> 0.000</td> <td>    3.909</td> <td>    4.216</td>\n",
       "</tr>\n",
       "<tr>\n",
       "  <th>Trip_Distance</th> <td>    2.2189</td> <td>    0.019</td> <td>  118.656</td> <td> 0.000</td> <td>    2.182</td> <td>    2.256</td>\n",
       "</tr>\n",
       "</table>\n",
       "<table class=\"simpletable\">\n",
       "<tr>\n",
       "  <th>Omnibus:</th>       <td>4279.807</td> <th>  Durbin-Watson:     </th>  <td>   2.022</td>  \n",
       "</tr>\n",
       "<tr>\n",
       "  <th>Prob(Omnibus):</th>  <td> 0.000</td>  <th>  Jarque-Bera (JB):  </th> <td>2179020.412</td>\n",
       "</tr>\n",
       "<tr>\n",
       "  <th>Skew:</th>           <td>10.254</td>  <th>  Prob(JB):          </th>  <td>    0.00</td>  \n",
       "</tr>\n",
       "<tr>\n",
       "  <th>Kurtosis:</th>       <td>141.072</td> <th>  Cond. No.          </th>  <td>    6.09</td>  \n",
       "</tr>\n",
       "</table>"
      ],
      "text/plain": [
       "<class 'statsmodels.iolib.summary.Summary'>\n",
       "\"\"\"\n",
       "                            OLS Regression Results                            \n",
       "==============================================================================\n",
       "Dep. Variable:               Fare_Amt   R-squared:                       0.840\n",
       "Model:                            OLS   Adj. R-squared:                  0.840\n",
       "Method:                 Least Squares   F-statistic:                 1.408e+04\n",
       "Date:                Wed, 21 Nov 2018   Prob (F-statistic):               0.00\n",
       "Time:                        13:26:50   Log-Likelihood:                -6646.9\n",
       "No. Observations:                2684   AIC:                         1.330e+04\n",
       "Df Residuals:                    2682   BIC:                         1.331e+04\n",
       "Df Model:                           1                                         \n",
       "Covariance Type:            nonrobust                                         \n",
       "=================================================================================\n",
       "                    coef    std err          t      P>|t|      [0.025      0.975]\n",
       "---------------------------------------------------------------------------------\n",
       "Intercept         4.0625      0.078     51.802      0.000       3.909       4.216\n",
       "Trip_Distance     2.2189      0.019    118.656      0.000       2.182       2.256\n",
       "==============================================================================\n",
       "Omnibus:                     4279.807   Durbin-Watson:                   2.022\n",
       "Prob(Omnibus):                  0.000   Jarque-Bera (JB):          2179020.412\n",
       "Skew:                          10.254   Prob(JB):                         0.00\n",
       "Kurtosis:                     141.072   Cond. No.                         6.09\n",
       "==============================================================================\n",
       "\n",
       "Warnings:\n",
       "[1] Standard Errors assume that the covariance matrix of the errors is correctly specified.\n",
       "\"\"\""
      ]
     },
     "execution_count": 197,
     "metadata": {},
     "output_type": "execute_result"
    }
   ],
   "source": [
    "# modeling fare and distance, using the original dataset\n",
    "ddmodel = smf.ols(formula='Fare_Amt ~ Trip_Distance', \n",
    "                  data=yc200902_final[tipcut]).fit()\n",
    "ddmodel.summary()"
   ]
  },
  {
   "cell_type": "code",
   "execution_count": 198,
   "metadata": {
    "ExecuteTime": {
     "end_time": "2018-11-21T18:26:51.554773Z",
     "start_time": "2018-11-21T18:26:51.226420Z"
    },
    "run_control": {
     "frozen": false,
     "read_only": false
    }
   },
   "outputs": [
    {
     "data": {
      "image/png": "[encoded data removed]",
      "text/plain": [
       "<Figure size 432x288 with 1 Axes>"
      ]
     },
     "metadata": {},
     "output_type": "display_data"
    }
   ],
   "source": [
    "ax = yc200902_final[tipcut].plot.scatter(y=\"Fare_Amt\", x=\"Trip_Distance\", alpha=0.3)\n",
    "ax.plot(yc200902_final[tipcut][\"Trip_Distance\"], ddmodel.fittedvalues, 'k')\n",
    "ax.set_ylabel(\"Fare ($)\")\n",
    "ax.set_xlabel(\"trip distance (miles)\");"
   ]
  },
  {
   "cell_type": "markdown",
   "metadata": {
    "run_control": {
     "frozen": false,
     "read_only": false
    }
   },
   "source": [
    "###### Fig 7\n",
    "Scatter plot of trip Fare against trip distance for February rides with non-zero tip and tip < 50% of Fare. Also plotted (black line) is a linear fit of trip distance to fare. The predictive power of distance is much higher than the predictive power of duration for fare: with the dataset where only tip outliers were removed the Rsquared is already over 80%. Nonetheless, some outliers are visible, particularly the same $45 fix fares that were seen in Figures 4 and 5."
   ]
  },
  {
   "cell_type": "markdown",
   "metadata": {
    "run_control": {
     "frozen": false,
     "read_only": false
    }
   },
   "source": [
    "# 9. Improve the fit by removing ''suspected'' outliers and *quantify* the improvement\n"
   ]
  },
  {
   "cell_type": "code",
   "execution_count": 199,
   "metadata": {
    "ExecuteTime": {
     "end_time": "2018-11-21T18:26:53.018627Z",
     "start_time": "2018-11-21T18:26:52.666191Z"
    },
    "run_control": {
     "frozen": false,
     "read_only": false
    }
   },
   "outputs": [
    {
     "data": {
      "image/png": "[encoded data removed]",
      "text/plain": [
       "<Figure size 432x288 with 1 Axes>"
      ]
     },
     "metadata": {},
     "output_type": "display_data"
    }
   ],
   "source": [
    "ddmodel = smf.ols(formula='Fare_Amt ~ Trip_Distance', data=yc200902_final_cut).fit()\n",
    "ddmodel.summary()\n",
    "ax = yc200902_final_cut.plot.scatter(y=\"Fare_Amt\", x=\"Trip_Distance\",\n",
    "                                    alpha = 0.3)\n",
    "ax.plot(yc200902_final_cut[\"Trip_Distance\"], ddmodel.fittedvalues, 'k')\n",
    "ax.set_ylabel(\"Fare ($)\")\n",
    "ax.set_xlabel(\"trip distance (miles)\");"
   ]
  },
  {
   "cell_type": "markdown",
   "metadata": {
    "run_control": {
     "frozen": false,
     "read_only": false
    }
   },
   "source": [
    "###### Fig 8\n",
    "As Figure 7 with outliers removed: rides shorter than 0 hours and longer than 2 hours, and rides with fixed fare. A few trips appear to have negative distance and should be removed.  "
   ]
  },
  {
   "cell_type": "code",
   "execution_count": 200,
   "metadata": {
    "ExecuteTime": {
     "end_time": "2018-11-21T18:26:53.632518Z",
     "start_time": "2018-11-21T18:26:53.624304Z"
    },
    "run_control": {
     "frozen": false,
     "read_only": false
    }
   },
   "outputs": [
    {
     "name": "stdout",
     "output_type": "stream",
     "text": [
      "number of trips with negative distance 3\n"
     ]
    }
   ],
   "source": [
    "print (\"number of trips with negative distance %d\"%(\n",
    "        yc200902_final_cut[\"Trip_Distance\"]<=0).sum())"
   ]
  },
  {
   "cell_type": "markdown",
   "metadata": {
    "run_control": {
     "frozen": false,
     "read_only": false
    }
   },
   "source": [
    "#### removing negative distance trips"
   ]
  },
  {
   "cell_type": "code",
   "execution_count": 201,
   "metadata": {
    "ExecuteTime": {
     "end_time": "2018-11-21T18:26:54.143067Z",
     "start_time": "2018-11-21T18:26:54.126711Z"
    },
    "run_control": {
     "frozen": false,
     "read_only": false
    }
   },
   "outputs": [
    {
     "name": "stderr",
     "output_type": "stream",
     "text": [
      "//anaconda/envs/GEOP/lib/python3.6/site-packages/ipykernel_launcher.py:3: UserWarning: Boolean Series key will be reindexed to match DataFrame index.\n",
      "  This is separate from the ipykernel package so we can avoid doing imports until\n"
     ]
    }
   ],
   "source": [
    "# cut on distance duration fare and tips\n",
    "durationdistancecut = (yc200902_final.tripDuration > 0) & \\\n",
    "               (yc200902_final.tripDuration < 2) & \\\n",
    "    (yc200902_final[\"Trip_Distance\"] > 0) & \\\n",
    "    (~(yc200902_final.Fare_Amt == 45.0))\n",
    "yc200902_final_cut = yc200902_final[tipcut][durationdistancecut]"
   ]
  },
  {
   "cell_type": "code",
   "execution_count": 202,
   "metadata": {
    "ExecuteTime": {
     "end_time": "2018-11-21T18:26:54.791612Z",
     "start_time": "2018-11-21T18:26:54.438334Z"
    },
    "run_control": {
     "frozen": false,
     "read_only": false
    }
   },
   "outputs": [
    {
     "data": {
      "text/html": [
       "<table class=\"simpletable\">\n",
       "<caption>OLS Regression Results</caption>\n",
       "<tr>\n",
       "  <th>Dep. Variable:</th>        <td>Fare_Amt</td>     <th>  R-squared:         </th> <td>   0.935</td> \n",
       "</tr>\n",
       "<tr>\n",
       "  <th>Model:</th>                   <td>OLS</td>       <th>  Adj. R-squared:    </th> <td>   0.935</td> \n",
       "</tr>\n",
       "<tr>\n",
       "  <th>Method:</th>             <td>Least Squares</td>  <th>  F-statistic:       </th> <td>3.754e+04</td>\n",
       "</tr>\n",
       "<tr>\n",
       "  <th>Date:</th>             <td>Wed, 21 Nov 2018</td> <th>  Prob (F-statistic):</th>  <td>  0.00</td>  \n",
       "</tr>\n",
       "<tr>\n",
       "  <th>Time:</th>                 <td>13:26:54</td>     <th>  Log-Likelihood:    </th> <td> -4532.7</td> \n",
       "</tr>\n",
       "<tr>\n",
       "  <th>No. Observations:</th>      <td>  2598</td>      <th>  AIC:               </th> <td>   9069.</td> \n",
       "</tr>\n",
       "<tr>\n",
       "  <th>Df Residuals:</th>          <td>  2596</td>      <th>  BIC:               </th> <td>   9081.</td> \n",
       "</tr>\n",
       "<tr>\n",
       "  <th>Df Model:</th>              <td>     1</td>      <th>                     </th>     <td> </td>    \n",
       "</tr>\n",
       "<tr>\n",
       "  <th>Covariance Type:</th>      <td>nonrobust</td>    <th>                     </th>     <td> </td>    \n",
       "</tr>\n",
       "</table>\n",
       "<table class=\"simpletable\">\n",
       "<tr>\n",
       "        <td></td>           <th>coef</th>     <th>std err</th>      <th>t</th>      <th>P>|t|</th>  <th>[0.025</th>    <th>0.975]</th>  \n",
       "</tr>\n",
       "<tr>\n",
       "  <th>Intercept</th>     <td>    3.8784</td> <td>    0.042</td> <td>   93.027</td> <td> 0.000</td> <td>    3.797</td> <td>    3.960</td>\n",
       "</tr>\n",
       "<tr>\n",
       "  <th>Trip_Distance</th> <td>    2.2199</td> <td>    0.011</td> <td>  193.756</td> <td> 0.000</td> <td>    2.197</td> <td>    2.242</td>\n",
       "</tr>\n",
       "</table>\n",
       "<table class=\"simpletable\">\n",
       "<tr>\n",
       "  <th>Omnibus:</th>       <td>930.516</td> <th>  Durbin-Watson:     </th> <td>   1.958</td>\n",
       "</tr>\n",
       "<tr>\n",
       "  <th>Prob(Omnibus):</th> <td> 0.000</td>  <th>  Jarque-Bera (JB):  </th> <td>6561.040</td>\n",
       "</tr>\n",
       "<tr>\n",
       "  <th>Skew:</th>          <td> 1.515</td>  <th>  Prob(JB):          </th> <td>    0.00</td>\n",
       "</tr>\n",
       "<tr>\n",
       "  <th>Kurtosis:</th>      <td>10.171</td>  <th>  Cond. No.          </th> <td>    5.83</td>\n",
       "</tr>\n",
       "</table>"
      ],
      "text/plain": [
       "<class 'statsmodels.iolib.summary.Summary'>\n",
       "\"\"\"\n",
       "                            OLS Regression Results                            \n",
       "==============================================================================\n",
       "Dep. Variable:               Fare_Amt   R-squared:                       0.935\n",
       "Model:                            OLS   Adj. R-squared:                  0.935\n",
       "Method:                 Least Squares   F-statistic:                 3.754e+04\n",
       "Date:                Wed, 21 Nov 2018   Prob (F-statistic):               0.00\n",
       "Time:                        13:26:54   Log-Likelihood:                -4532.7\n",
       "No. Observations:                2598   AIC:                             9069.\n",
       "Df Residuals:                    2596   BIC:                             9081.\n",
       "Df Model:                           1                                         \n",
       "Covariance Type:            nonrobust                                         \n",
       "=================================================================================\n",
       "                    coef    std err          t      P>|t|      [0.025      0.975]\n",
       "---------------------------------------------------------------------------------\n",
       "Intercept         3.8784      0.042     93.027      0.000       3.797       3.960\n",
       "Trip_Distance     2.2199      0.011    193.756      0.000       2.197       2.242\n",
       "==============================================================================\n",
       "Omnibus:                      930.516   Durbin-Watson:                   1.958\n",
       "Prob(Omnibus):                  0.000   Jarque-Bera (JB):             6561.040\n",
       "Skew:                           1.515   Prob(JB):                         0.00\n",
       "Kurtosis:                      10.171   Cond. No.                         5.83\n",
       "==============================================================================\n",
       "\n",
       "Warnings:\n",
       "[1] Standard Errors assume that the covariance matrix of the errors is correctly specified.\n",
       "\"\"\""
      ]
     },
     "execution_count": 202,
     "metadata": {},
     "output_type": "execute_result"
    },
    {
     "data": {
      "image/png": "[encoded data removed]",
      "text/plain": [
       "<Figure size 432x288 with 1 Axes>"
      ]
     },
     "metadata": {},
     "output_type": "display_data"
    }
   ],
   "source": [
    "#redo distance model\n",
    "ddmodel = smf.ols(formula='Fare_Amt ~ Trip_Distance', data=yc200902_final_cut).fit()\n",
    "ax = yc200902_final_cut.plot.scatter(y=\"Fare_Amt\", x=\"Trip_Distance\",\n",
    "                                    alpha = 0.3)\n",
    "ax.plot(yc200902_final_cut[\"Trip_Distance\"], ddmodel.fittedvalues, 'k')\n",
    "ax.set_ylabel(\"Fare ($)\")\n",
    "ax.set_xlabel(\"trip distance (miles)\");\n",
    "ddmodel.summary()"
   ]
  },
  {
   "cell_type": "markdown",
   "metadata": {
    "run_control": {
     "frozen": false,
     "read_only": false
    }
   },
   "source": [
    "###### Fig 9\n",
    "As Figure 8 with outliers removed: all rides shorter than 0 hours and longer than 2 hours, rides with fixed fare at $45 and rides with negative distance. The predictive power of this model is excellent, with 94% of the variance on fare conveyed by distance."
   ]
  },
  {
   "cell_type": "code",
   "execution_count": 203,
   "metadata": {
    "ExecuteTime": {
     "end_time": "2018-11-21T18:26:54.814592Z",
     "start_time": "2018-11-21T18:26:54.807064Z"
    },
    "run_control": {
     "frozen": false,
     "read_only": false
    }
   },
   "outputs": [
    {
     "name": "stdout",
     "output_type": "stream",
     "text": [
      "the size of the dataset after the cuts on duration are applied is 2598, a fraction of 0.19 of all registered rides\n"
     ]
    }
   ],
   "source": [
    "print (\"the size of the dataset after the cuts on duration are applied is \" + \n",
    "       \"{:d}, a fraction of {:.2f} of all registered rides\".format(\n",
    "    yc200902_final_cut.shape[0], \n",
    "    yc200902_final_cut.shape[0] * 1.0 / yc200902_short.shape[0]))"
   ]
  },
  {
   "cell_type": "markdown",
   "metadata": {
    "run_control": {
     "frozen": false,
     "read_only": false
    }
   },
   "source": [
    "#### Which variable should be used with fare to model tips? \n",
    "Due to the high collinearity of fare and distance, these two variables should not be used as predictors together in a model. Therefore in the following models of tip with fare we will use duration"
   ]
  },
  {
   "cell_type": "code",
   "execution_count": 204,
   "metadata": {
    "ExecuteTime": {
     "end_time": "2018-11-21T18:26:55.642682Z",
     "start_time": "2018-11-21T18:26:55.277828Z"
    },
    "run_control": {
     "frozen": false,
     "read_only": false
    }
   },
   "outputs": [
    {
     "data": {
      "text/html": [
       "<table class=\"simpletable\">\n",
       "<caption>OLS Regression Results</caption>\n",
       "<tr>\n",
       "  <th>Dep. Variable:</th>        <td>Fare_Amt</td>     <th>  R-squared:         </th> <td>   0.684</td> \n",
       "</tr>\n",
       "<tr>\n",
       "  <th>Model:</th>                   <td>OLS</td>       <th>  Adj. R-squared:    </th> <td>   0.684</td> \n",
       "</tr>\n",
       "<tr>\n",
       "  <th>Method:</th>             <td>Least Squares</td>  <th>  F-statistic:       </th> <td>   5624.</td> \n",
       "</tr>\n",
       "<tr>\n",
       "  <th>Date:</th>             <td>Wed, 21 Nov 2018</td> <th>  Prob (F-statistic):</th>  <td>  0.00</td>  \n",
       "</tr>\n",
       "<tr>\n",
       "  <th>Time:</th>                 <td>13:26:55</td>     <th>  Log-Likelihood:    </th> <td> -6592.6</td> \n",
       "</tr>\n",
       "<tr>\n",
       "  <th>No. Observations:</th>      <td>  2598</td>      <th>  AIC:               </th> <td>1.319e+04</td>\n",
       "</tr>\n",
       "<tr>\n",
       "  <th>Df Residuals:</th>          <td>  2596</td>      <th>  BIC:               </th> <td>1.320e+04</td>\n",
       "</tr>\n",
       "<tr>\n",
       "  <th>Df Model:</th>              <td>     1</td>      <th>                     </th>     <td> </td>    \n",
       "</tr>\n",
       "<tr>\n",
       "  <th>Covariance Type:</th>      <td>nonrobust</td>    <th>                     </th>     <td> </td>    \n",
       "</tr>\n",
       "</table>\n",
       "<table class=\"simpletable\">\n",
       "<tr>\n",
       "        <td></td>          <th>coef</th>     <th>std err</th>      <th>t</th>      <th>P>|t|</th>  <th>[0.025</th>    <th>0.975]</th>  \n",
       "</tr>\n",
       "<tr>\n",
       "  <th>Intercept</th>    <td>    2.5923</td> <td>    0.116</td> <td>   22.416</td> <td> 0.000</td> <td>    2.366</td> <td>    2.819</td>\n",
       "</tr>\n",
       "<tr>\n",
       "  <th>tripDuration</th> <td>   36.3943</td> <td>    0.485</td> <td>   74.992</td> <td> 0.000</td> <td>   35.443</td> <td>   37.346</td>\n",
       "</tr>\n",
       "</table>\n",
       "<table class=\"simpletable\">\n",
       "<tr>\n",
       "  <th>Omnibus:</th>       <td>907.759</td> <th>  Durbin-Watson:     </th>  <td>   2.030</td> \n",
       "</tr>\n",
       "<tr>\n",
       "  <th>Prob(Omnibus):</th> <td> 0.000</td>  <th>  Jarque-Bera (JB):  </th> <td>146107.842</td>\n",
       "</tr>\n",
       "<tr>\n",
       "  <th>Skew:</th>          <td> 0.509</td>  <th>  Prob(JB):          </th>  <td>    0.00</td> \n",
       "</tr>\n",
       "<tr>\n",
       "  <th>Kurtosis:</th>      <td>39.725</td>  <th>  Cond. No.          </th>  <td>    8.42</td> \n",
       "</tr>\n",
       "</table>"
      ],
      "text/plain": [
       "<class 'statsmodels.iolib.summary.Summary'>\n",
       "\"\"\"\n",
       "                            OLS Regression Results                            \n",
       "==============================================================================\n",
       "Dep. Variable:               Fare_Amt   R-squared:                       0.684\n",
       "Model:                            OLS   Adj. R-squared:                  0.684\n",
       "Method:                 Least Squares   F-statistic:                     5624.\n",
       "Date:                Wed, 21 Nov 2018   Prob (F-statistic):               0.00\n",
       "Time:                        13:26:55   Log-Likelihood:                -6592.6\n",
       "No. Observations:                2598   AIC:                         1.319e+04\n",
       "Df Residuals:                    2596   BIC:                         1.320e+04\n",
       "Df Model:                           1                                         \n",
       "Covariance Type:            nonrobust                                         \n",
       "================================================================================\n",
       "                   coef    std err          t      P>|t|      [0.025      0.975]\n",
       "--------------------------------------------------------------------------------\n",
       "Intercept        2.5923      0.116     22.416      0.000       2.366       2.819\n",
       "tripDuration    36.3943      0.485     74.992      0.000      35.443      37.346\n",
       "==============================================================================\n",
       "Omnibus:                      907.759   Durbin-Watson:                   2.030\n",
       "Prob(Omnibus):                  0.000   Jarque-Bera (JB):           146107.842\n",
       "Skew:                           0.509   Prob(JB):                         0.00\n",
       "Kurtosis:                      39.725   Cond. No.                         8.42\n",
       "==============================================================================\n",
       "\n",
       "Warnings:\n",
       "[1] Standard Errors assume that the covariance matrix of the errors is correctly specified.\n",
       "\"\"\""
      ]
     },
     "execution_count": 204,
     "metadata": {},
     "output_type": "execute_result"
    },
    {
     "data": {
      "image/png": "[encoded data removed]",
      "text/plain": [
       "<Figure size 432x288 with 1 Axes>"
      ]
     },
     "metadata": {},
     "output_type": "display_data"
    }
   ],
   "source": [
    "# assess trip duration model with final data cut\n",
    "tdmodel = smf.ols(formula='Fare_Amt ~ tripDuration', data=yc200902_final_cut).fit()\n",
    "ax = yc200902_final_cut.plot.scatter(y=\"Fare_Amt\", x=\"tripDuration\", \n",
    "                                    alpha=0.3)\n",
    "ax.plot(yc200902_final_cut.tripDuration, tdmodel.fittedvalues, 'k')\n",
    "ax.set_ylabel(\"Fare ($)\")\n",
    "ax.set_xlabel(\"trip duration (hours)\")\n",
    "tdmodel.summary()"
   ]
  },
  {
   "cell_type": "markdown",
   "metadata": {
    "run_control": {
     "frozen": false,
     "read_only": false
    }
   },
   "source": [
    "###### Fig 10\n",
    "As figure 7 with outliers removed: all rides shorter than 0 hours and longer than 2 hours, and rides with fixed fare at $45 and, in addition, rides with negative distance. The predictive power of the model is quitgood, but some 30% of the variance remains unexplained."
   ]
  },
  {
   "cell_type": "markdown",
   "metadata": {
    "run_control": {
     "frozen": false,
     "read_only": false
    }
   },
   "source": [
    "# 10. Multivariate models that include income\n",
    "## Create a multivariate liner model to predict the tip percentage as a function of trip fare and another variable, the one you chose in step 8. Create also a linear model to predict the tip percentage as a multivariate linear model with variables trip duration or distance and trip fare, and  also includes  income (by zipcode) at arrival and destination"
   ]
  },
  {
   "cell_type": "markdown",
   "metadata": {
    "run_control": {
     "frozen": false,
     "read_only": false
    }
   },
   "source": [
    "##### modeling trip percentage with fare and trip duration"
   ]
  },
  {
   "cell_type": "code",
   "execution_count": 205,
   "metadata": {
    "ExecuteTime": {
     "end_time": "2018-11-21T18:26:56.283446Z",
     "start_time": "2018-11-21T18:26:56.242569Z"
    },
    "run_control": {
     "frozen": false,
     "read_only": false
    }
   },
   "outputs": [
    {
     "data": {
      "text/html": [
       "<table class=\"simpletable\">\n",
       "<caption>OLS Regression Results</caption>\n",
       "<tr>\n",
       "  <th>Dep. Variable:</th>          <td>tipPC</td>      <th>  R-squared:         </th> <td>   0.063</td>\n",
       "</tr>\n",
       "<tr>\n",
       "  <th>Model:</th>                   <td>OLS</td>       <th>  Adj. R-squared:    </th> <td>   0.062</td>\n",
       "</tr>\n",
       "<tr>\n",
       "  <th>Method:</th>             <td>Least Squares</td>  <th>  F-statistic:       </th> <td>   87.39</td>\n",
       "</tr>\n",
       "<tr>\n",
       "  <th>Date:</th>             <td>Wed, 21 Nov 2018</td> <th>  Prob (F-statistic):</th> <td>1.87e-37</td>\n",
       "</tr>\n",
       "<tr>\n",
       "  <th>Time:</th>                 <td>13:26:56</td>     <th>  Log-Likelihood:    </th> <td>  3060.0</td>\n",
       "</tr>\n",
       "<tr>\n",
       "  <th>No. Observations:</th>      <td>  2598</td>      <th>  AIC:               </th> <td>  -6114.</td>\n",
       "</tr>\n",
       "<tr>\n",
       "  <th>Df Residuals:</th>          <td>  2595</td>      <th>  BIC:               </th> <td>  -6096.</td>\n",
       "</tr>\n",
       "<tr>\n",
       "  <th>Df Model:</th>              <td>     2</td>      <th>                     </th>     <td> </td>   \n",
       "</tr>\n",
       "<tr>\n",
       "  <th>Covariance Type:</th>      <td>nonrobust</td>    <th>                     </th>     <td> </td>   \n",
       "</tr>\n",
       "</table>\n",
       "<table class=\"simpletable\">\n",
       "<tr>\n",
       "        <td></td>          <th>coef</th>     <th>std err</th>      <th>t</th>      <th>P>|t|</th>  <th>[0.025</th>    <th>0.975]</th>  \n",
       "</tr>\n",
       "<tr>\n",
       "  <th>Intercept</th>    <td>    0.2333</td> <td>    0.003</td> <td>   75.817</td> <td> 0.000</td> <td>    0.227</td> <td>    0.239</td>\n",
       "</tr>\n",
       "<tr>\n",
       "  <th>Fare_Amt</th>     <td>   -0.0019</td> <td>    0.000</td> <td>   -3.973</td> <td> 0.000</td> <td>   -0.003</td> <td>   -0.001</td>\n",
       "</tr>\n",
       "<tr>\n",
       "  <th>tripDuration</th> <td>   -0.0799</td> <td>    0.021</td> <td>   -3.799</td> <td> 0.000</td> <td>   -0.121</td> <td>   -0.039</td>\n",
       "</tr>\n",
       "</table>\n",
       "<table class=\"simpletable\">\n",
       "<tr>\n",
       "  <th>Omnibus:</th>       <td>358.044</td> <th>  Durbin-Watson:     </th> <td>   2.023</td> \n",
       "</tr>\n",
       "<tr>\n",
       "  <th>Prob(Omnibus):</th> <td> 0.000</td>  <th>  Jarque-Bera (JB):  </th> <td> 559.158</td> \n",
       "</tr>\n",
       "<tr>\n",
       "  <th>Skew:</th>          <td> 0.957</td>  <th>  Prob(JB):          </th> <td>3.81e-122</td>\n",
       "</tr>\n",
       "<tr>\n",
       "  <th>Kurtosis:</th>      <td> 4.224</td>  <th>  Cond. No.          </th> <td>    164.</td> \n",
       "</tr>\n",
       "</table>"
      ],
      "text/plain": [
       "<class 'statsmodels.iolib.summary.Summary'>\n",
       "\"\"\"\n",
       "                            OLS Regression Results                            \n",
       "==============================================================================\n",
       "Dep. Variable:                  tipPC   R-squared:                       0.063\n",
       "Model:                            OLS   Adj. R-squared:                  0.062\n",
       "Method:                 Least Squares   F-statistic:                     87.39\n",
       "Date:                Wed, 21 Nov 2018   Prob (F-statistic):           1.87e-37\n",
       "Time:                        13:26:56   Log-Likelihood:                 3060.0\n",
       "No. Observations:                2598   AIC:                            -6114.\n",
       "Df Residuals:                    2595   BIC:                            -6096.\n",
       "Df Model:                           2                                         \n",
       "Covariance Type:            nonrobust                                         \n",
       "================================================================================\n",
       "                   coef    std err          t      P>|t|      [0.025      0.975]\n",
       "--------------------------------------------------------------------------------\n",
       "Intercept        0.2333      0.003     75.817      0.000       0.227       0.239\n",
       "Fare_Amt        -0.0019      0.000     -3.973      0.000      -0.003      -0.001\n",
       "tripDuration    -0.0799      0.021     -3.799      0.000      -0.121      -0.039\n",
       "==============================================================================\n",
       "Omnibus:                      358.044   Durbin-Watson:                   2.023\n",
       "Prob(Omnibus):                  0.000   Jarque-Bera (JB):              559.158\n",
       "Skew:                           0.957   Prob(JB):                    3.81e-122\n",
       "Kurtosis:                       4.224   Cond. No.                         164.\n",
       "==============================================================================\n",
       "\n",
       "Warnings:\n",
       "[1] Standard Errors assume that the covariance matrix of the errors is correctly specified.\n",
       "\"\"\""
      ]
     },
     "execution_count": 205,
     "metadata": {},
     "output_type": "execute_result"
    }
   ],
   "source": [
    "# fare and duration model\n",
    "m_Fare_Dur = smf.ols(formula='tipPC ~ Fare_Amt + tripDuration', \n",
    "                   data=yc200902_final_cut).fit()\n",
    "m_Fare_Dur .summary()"
   ]
  },
  {
   "cell_type": "markdown",
   "metadata": {
    "run_control": {
     "frozen": false,
     "read_only": false
    }
   },
   "source": [
    "#### the model has low predicive power with less than 10% variance explained: Rqueared = 0.062"
   ]
  },
  {
   "cell_type": "markdown",
   "metadata": {
    "run_control": {
     "frozen": false,
     "read_only": false
    }
   },
   "source": [
    "##### modeling trip percentage with fare and trip duration and income at both destination and departure"
   ]
  },
  {
   "cell_type": "code",
   "execution_count": 206,
   "metadata": {
    "ExecuteTime": {
     "end_time": "2018-11-21T18:26:56.960496Z",
     "start_time": "2018-11-21T18:26:56.915163Z"
    },
    "run_control": {
     "frozen": false,
     "read_only": false
    }
   },
   "outputs": [
    {
     "data": {
      "text/html": [
       "<table class=\"simpletable\">\n",
       "<caption>OLS Regression Results</caption>\n",
       "<tr>\n",
       "  <th>Dep. Variable:</th>          <td>tipPC</td>      <th>  R-squared:         </th> <td>   0.066</td>\n",
       "</tr>\n",
       "<tr>\n",
       "  <th>Model:</th>                   <td>OLS</td>       <th>  Adj. R-squared:    </th> <td>   0.064</td>\n",
       "</tr>\n",
       "<tr>\n",
       "  <th>Method:</th>             <td>Least Squares</td>  <th>  F-statistic:       </th> <td>   45.64</td>\n",
       "</tr>\n",
       "<tr>\n",
       "  <th>Date:</th>             <td>Wed, 21 Nov 2018</td> <th>  Prob (F-statistic):</th> <td>4.21e-37</td>\n",
       "</tr>\n",
       "<tr>\n",
       "  <th>Time:</th>                 <td>13:26:56</td>     <th>  Log-Likelihood:    </th> <td>  3063.7</td>\n",
       "</tr>\n",
       "<tr>\n",
       "  <th>No. Observations:</th>      <td>  2598</td>      <th>  AIC:               </th> <td>  -6117.</td>\n",
       "</tr>\n",
       "<tr>\n",
       "  <th>Df Residuals:</th>          <td>  2593</td>      <th>  BIC:               </th> <td>  -6088.</td>\n",
       "</tr>\n",
       "<tr>\n",
       "  <th>Df Model:</th>              <td>     4</td>      <th>                     </th>     <td> </td>   \n",
       "</tr>\n",
       "<tr>\n",
       "  <th>Covariance Type:</th>      <td>nonrobust</td>    <th>                     </th>     <td> </td>   \n",
       "</tr>\n",
       "</table>\n",
       "<table class=\"simpletable\">\n",
       "<tr>\n",
       "        <td></td>          <th>coef</th>     <th>std err</th>      <th>t</th>      <th>P>|t|</th>  <th>[0.025</th>    <th>0.975]</th>  \n",
       "</tr>\n",
       "<tr>\n",
       "  <th>Intercept</th>    <td>    0.2459</td> <td>    0.006</td> <td>   43.837</td> <td> 0.000</td> <td>    0.235</td> <td>    0.257</td>\n",
       "</tr>\n",
       "<tr>\n",
       "  <th>Fare_Amt</th>     <td>   -0.0022</td> <td>    0.000</td> <td>   -4.444</td> <td> 0.000</td> <td>   -0.003</td> <td>   -0.001</td>\n",
       "</tr>\n",
       "<tr>\n",
       "  <th>tripDuration</th> <td>   -0.0762</td> <td>    0.021</td> <td>   -3.619</td> <td> 0.000</td> <td>   -0.118</td> <td>   -0.035</td>\n",
       "</tr>\n",
       "<tr>\n",
       "  <th>incomeDes</th>    <td>-4.837e-05</td> <td> 2.18e-05</td> <td>   -2.217</td> <td> 0.027</td> <td>-9.12e-05</td> <td>-5.58e-06</td>\n",
       "</tr>\n",
       "<tr>\n",
       "  <th>incomeDep</th>    <td>-3.044e-05</td> <td> 2.23e-05</td> <td>   -1.367</td> <td> 0.172</td> <td>-7.41e-05</td> <td> 1.32e-05</td>\n",
       "</tr>\n",
       "</table>\n",
       "<table class=\"simpletable\">\n",
       "<tr>\n",
       "  <th>Omnibus:</th>       <td>357.883</td> <th>  Durbin-Watson:     </th> <td>   2.022</td> \n",
       "</tr>\n",
       "<tr>\n",
       "  <th>Prob(Omnibus):</th> <td> 0.000</td>  <th>  Jarque-Bera (JB):  </th> <td> 559.827</td> \n",
       "</tr>\n",
       "<tr>\n",
       "  <th>Skew:</th>          <td> 0.956</td>  <th>  Prob(JB):          </th> <td>2.72e-122</td>\n",
       "</tr>\n",
       "<tr>\n",
       "  <th>Kurtosis:</th>      <td> 4.231</td>  <th>  Cond. No.          </th> <td>2.98e+03</td> \n",
       "</tr>\n",
       "</table>"
      ],
      "text/plain": [
       "<class 'statsmodels.iolib.summary.Summary'>\n",
       "\"\"\"\n",
       "                            OLS Regression Results                            \n",
       "==============================================================================\n",
       "Dep. Variable:                  tipPC   R-squared:                       0.066\n",
       "Model:                            OLS   Adj. R-squared:                  0.064\n",
       "Method:                 Least Squares   F-statistic:                     45.64\n",
       "Date:                Wed, 21 Nov 2018   Prob (F-statistic):           4.21e-37\n",
       "Time:                        13:26:56   Log-Likelihood:                 3063.7\n",
       "No. Observations:                2598   AIC:                            -6117.\n",
       "Df Residuals:                    2593   BIC:                            -6088.\n",
       "Df Model:                           4                                         \n",
       "Covariance Type:            nonrobust                                         \n",
       "================================================================================\n",
       "                   coef    std err          t      P>|t|      [0.025      0.975]\n",
       "--------------------------------------------------------------------------------\n",
       "Intercept        0.2459      0.006     43.837      0.000       0.235       0.257\n",
       "Fare_Amt        -0.0022      0.000     -4.444      0.000      -0.003      -0.001\n",
       "tripDuration    -0.0762      0.021     -3.619      0.000      -0.118      -0.035\n",
       "incomeDes    -4.837e-05   2.18e-05     -2.217      0.027   -9.12e-05   -5.58e-06\n",
       "incomeDep    -3.044e-05   2.23e-05     -1.367      0.172   -7.41e-05    1.32e-05\n",
       "==============================================================================\n",
       "Omnibus:                      357.883   Durbin-Watson:                   2.022\n",
       "Prob(Omnibus):                  0.000   Jarque-Bera (JB):              559.827\n",
       "Skew:                           0.956   Prob(JB):                    2.72e-122\n",
       "Kurtosis:                       4.231   Cond. No.                     2.98e+03\n",
       "==============================================================================\n",
       "\n",
       "Warnings:\n",
       "[1] Standard Errors assume that the covariance matrix of the errors is correctly specified.\n",
       "[2] The condition number is large, 2.98e+03. This might indicate that there are\n",
       "strong multicollinearity or other numerical problems.\n",
       "\"\"\""
      ]
     },
     "execution_count": 206,
     "metadata": {},
     "output_type": "execute_result"
    }
   ],
   "source": [
    "# fare duration and both incomes model\n",
    "m_Fare_Dur_IncDes_IncDep = smf.ols(formula=\n",
    "                'tipPC ~ Fare_Amt + tripDuration + incomeDes + incomeDep', \n",
    "                   data=yc200902_final_cut).fit()\n",
    "m_Fare_Dur_IncDes_IncDep.summary()"
   ]
  },
  {
   "cell_type": "markdown",
   "metadata": {
    "run_control": {
     "frozen": false,
     "read_only": false
    }
   },
   "source": [
    "#### the predictive power of a model including fare, duration, and income at departure and destination is slightly higher, Rsquared = 0.065  compared to 0.062 of only fare and duration. This improvement is slight, and may not justify the added model complexity. To test if the model complexity is justified by the data, since these models are nested, a likelihood ratio test can be used."
   ]
  },
  {
   "cell_type": "markdown",
   "metadata": {
    "run_control": {
     "frozen": false,
     "read_only": false
    }
   },
   "source": [
    "# 11. Formal comparison of models and models with single income\n",
    "## Compare the two models in step 10 *formally*. Which is a better model? Finally,  create two mode models,  one with duration/distance,  fare and income at departure, one with duration/distance,  fare and income at destination. Which is better? Why? `"
   ]
  },
  {
   "cell_type": "markdown",
   "metadata": {
    "run_control": {
     "frozen": false,
     "read_only": false
    }
   },
   "source": [
    "##### Comparing model with and without income"
   ]
  },
  {
   "cell_type": "code",
   "execution_count": 207,
   "metadata": {
    "ExecuteTime": {
     "end_time": "2018-11-21T18:26:57.789338Z",
     "start_time": "2018-11-21T18:26:57.774775Z"
    },
    "run_control": {
     "frozen": false,
     "read_only": false
    }
   },
   "outputs": [],
   "source": [
    "# LR vetting function\n",
    "def printLRresult(lr, alpha=0.05):\n",
    "    '''function to print the result of a LR test in terms or NHST\n",
    "    Arguments:\n",
    "    lr: the likelihood ratio result from statsmodels compare_lr_test()\n",
    "    alpha (optional): the significance threshold. Default alpha = 0.05'''\n",
    "\n",
    "    rejected = False\n",
    "    verb = \"cannot \"\n",
    "    if lr[1] < alpha :\n",
    "        rejected = True\n",
    "        verb = \"CAN \"\n",
    "\n",
    "    print (\"The null hypothesis that the least complex model is better \" + verb + \n",
    "           \"be rejected (p<{:.2f})\".format(alpha))\n",
    "    return rejected\n",
    "        "
   ]
  },
  {
   "cell_type": "code",
   "execution_count": 208,
   "metadata": {
    "ExecuteTime": {
     "end_time": "2018-11-21T18:26:58.005371Z",
     "start_time": "2018-11-21T18:26:57.990949Z"
    },
    "run_control": {
     "frozen": false,
     "read_only": false
    }
   },
   "outputs": [
    {
     "name": "stdout",
     "output_type": "stream",
     "text": [
      "The null hypothesis that the least complex model is better CAN be rejected (p<0.05)\n",
      "The model including both income at destination and departure is better\n"
     ]
    }
   ],
   "source": [
    "# compare model with fare and duration with model with fare duration and both income\n",
    "lr1 = m_Fare_Dur_IncDes_IncDep.compare_lr_test(m_Fare_Dur)\n",
    "\n",
    "if printLRresult(lr1):\n",
    "    print (\"The model including both income at destination and departure is better\")\n",
    "else:\n",
    "    print (\"Likelihood Ration p-value {:.2f}\".format(lr1[1]))"
   ]
  },
  {
   "cell_type": "markdown",
   "metadata": {
    "run_control": {
     "frozen": false,
     "read_only": false
    }
   },
   "source": [
    "##### Creating models with a single income predictor: destination or departure"
   ]
  },
  {
   "cell_type": "markdown",
   "metadata": {
    "run_control": {
     "frozen": false,
     "read_only": false
    }
   },
   "source": [
    "#### Including only income at destination"
   ]
  },
  {
   "cell_type": "code",
   "execution_count": 209,
   "metadata": {
    "ExecuteTime": {
     "end_time": "2018-11-21T18:26:58.634479Z",
     "start_time": "2018-11-21T18:26:58.608073Z"
    },
    "run_control": {
     "frozen": false,
     "read_only": false
    }
   },
   "outputs": [
    {
     "name": "stdout",
     "output_type": "stream",
     "text": [
      "The null hypothesis that the least complex model is better cannot be rejected (p<0.05)\n",
      "The model with destination income alone is better than the model including both incomes\n",
      "Likelihood Ration p-value 0.17\n"
     ]
    }
   ],
   "source": [
    "m_Fare_Dur_IncDes = smf.ols(formula='tipPC ~ Fare_Amt + tripDuration + incomeDes', \n",
    "                     data=yc200902_final_cut).fit()\n",
    "lr2 = m_Fare_Dur_IncDes_IncDep.compare_lr_test(m_Fare_Dur_IncDes)\n",
    "if printLRresult(lr2):\n",
    "    print (\"The model including both incomes is \" + \n",
    "           \"better than the model with destination income\")\n",
    "else:\n",
    "    print (\"The model with destination income alone is better than the model \" + \n",
    "           \"including both incomes\\n\" + \n",
    "           \"Likelihood Ration p-value {:.2f}\".format(lr2[1]))    "
   ]
  },
  {
   "cell_type": "code",
   "execution_count": 210,
   "metadata": {
    "ExecuteTime": {
     "end_time": "2018-11-21T18:26:58.974570Z",
     "start_time": "2018-11-21T18:26:58.940728Z"
    },
    "run_control": {
     "frozen": false,
     "read_only": false
    }
   },
   "outputs": [
    {
     "data": {
      "text/html": [
       "<table class=\"simpletable\">\n",
       "<caption>OLS Regression Results</caption>\n",
       "<tr>\n",
       "  <th>Dep. Variable:</th>          <td>tipPC</td>      <th>  R-squared:         </th> <td>   0.065</td>\n",
       "</tr>\n",
       "<tr>\n",
       "  <th>Model:</th>                   <td>OLS</td>       <th>  Adj. R-squared:    </th> <td>   0.064</td>\n",
       "</tr>\n",
       "<tr>\n",
       "  <th>Method:</th>             <td>Least Squares</td>  <th>  F-statistic:       </th> <td>   60.21</td>\n",
       "</tr>\n",
       "<tr>\n",
       "  <th>Date:</th>             <td>Wed, 21 Nov 2018</td> <th>  Prob (F-statistic):</th> <td>1.25e-37</td>\n",
       "</tr>\n",
       "<tr>\n",
       "  <th>Time:</th>                 <td>13:26:58</td>     <th>  Log-Likelihood:    </th> <td>  3062.7</td>\n",
       "</tr>\n",
       "<tr>\n",
       "  <th>No. Observations:</th>      <td>  2598</td>      <th>  AIC:               </th> <td>  -6117.</td>\n",
       "</tr>\n",
       "<tr>\n",
       "  <th>Df Residuals:</th>          <td>  2594</td>      <th>  BIC:               </th> <td>  -6094.</td>\n",
       "</tr>\n",
       "<tr>\n",
       "  <th>Df Model:</th>              <td>     3</td>      <th>                     </th>     <td> </td>   \n",
       "</tr>\n",
       "<tr>\n",
       "  <th>Covariance Type:</th>      <td>nonrobust</td>    <th>                     </th>     <td> </td>   \n",
       "</tr>\n",
       "</table>\n",
       "<table class=\"simpletable\">\n",
       "<tr>\n",
       "        <td></td>          <th>coef</th>     <th>std err</th>      <th>t</th>      <th>P>|t|</th>  <th>[0.025</th>    <th>0.975]</th>  \n",
       "</tr>\n",
       "<tr>\n",
       "  <th>Intercept</th>    <td>    0.2419</td> <td>    0.005</td> <td>   50.447</td> <td> 0.000</td> <td>    0.233</td> <td>    0.251</td>\n",
       "</tr>\n",
       "<tr>\n",
       "  <th>Fare_Amt</th>     <td>   -0.0021</td> <td>    0.000</td> <td>   -4.355</td> <td> 0.000</td> <td>   -0.003</td> <td>   -0.001</td>\n",
       "</tr>\n",
       "<tr>\n",
       "  <th>tripDuration</th> <td>   -0.0781</td> <td>    0.021</td> <td>   -3.714</td> <td> 0.000</td> <td>   -0.119</td> <td>   -0.037</td>\n",
       "</tr>\n",
       "<tr>\n",
       "  <th>incomeDes</th>    <td>-5.123e-05</td> <td> 2.17e-05</td> <td>   -2.358</td> <td> 0.018</td> <td>-9.38e-05</td> <td>-8.63e-06</td>\n",
       "</tr>\n",
       "</table>\n",
       "<table class=\"simpletable\">\n",
       "<tr>\n",
       "  <th>Omnibus:</th>       <td>356.671</td> <th>  Durbin-Watson:     </th> <td>   2.025</td> \n",
       "</tr>\n",
       "<tr>\n",
       "  <th>Prob(Omnibus):</th> <td> 0.000</td>  <th>  Jarque-Bera (JB):  </th> <td> 557.131</td> \n",
       "</tr>\n",
       "<tr>\n",
       "  <th>Skew:</th>          <td> 0.954</td>  <th>  Prob(JB):          </th> <td>1.05e-121</td>\n",
       "</tr>\n",
       "<tr>\n",
       "  <th>Kurtosis:</th>      <td> 4.228</td>  <th>  Cond. No.          </th> <td>2.18e+03</td> \n",
       "</tr>\n",
       "</table>"
      ],
      "text/plain": [
       "<class 'statsmodels.iolib.summary.Summary'>\n",
       "\"\"\"\n",
       "                            OLS Regression Results                            \n",
       "==============================================================================\n",
       "Dep. Variable:                  tipPC   R-squared:                       0.065\n",
       "Model:                            OLS   Adj. R-squared:                  0.064\n",
       "Method:                 Least Squares   F-statistic:                     60.21\n",
       "Date:                Wed, 21 Nov 2018   Prob (F-statistic):           1.25e-37\n",
       "Time:                        13:26:58   Log-Likelihood:                 3062.7\n",
       "No. Observations:                2598   AIC:                            -6117.\n",
       "Df Residuals:                    2594   BIC:                            -6094.\n",
       "Df Model:                           3                                         \n",
       "Covariance Type:            nonrobust                                         \n",
       "================================================================================\n",
       "                   coef    std err          t      P>|t|      [0.025      0.975]\n",
       "--------------------------------------------------------------------------------\n",
       "Intercept        0.2419      0.005     50.447      0.000       0.233       0.251\n",
       "Fare_Amt        -0.0021      0.000     -4.355      0.000      -0.003      -0.001\n",
       "tripDuration    -0.0781      0.021     -3.714      0.000      -0.119      -0.037\n",
       "incomeDes    -5.123e-05   2.17e-05     -2.358      0.018   -9.38e-05   -8.63e-06\n",
       "==============================================================================\n",
       "Omnibus:                      356.671   Durbin-Watson:                   2.025\n",
       "Prob(Omnibus):                  0.000   Jarque-Bera (JB):              557.131\n",
       "Skew:                           0.954   Prob(JB):                    1.05e-121\n",
       "Kurtosis:                       4.228   Cond. No.                     2.18e+03\n",
       "==============================================================================\n",
       "\n",
       "Warnings:\n",
       "[1] Standard Errors assume that the covariance matrix of the errors is correctly specified.\n",
       "[2] The condition number is large, 2.18e+03. This might indicate that there are\n",
       "strong multicollinearity or other numerical problems.\n",
       "\"\"\""
      ]
     },
     "execution_count": 210,
     "metadata": {},
     "output_type": "execute_result"
    }
   ],
   "source": [
    "m_Fare_Dur_IncDes.summary()"
   ]
  },
  {
   "cell_type": "markdown",
   "metadata": {
    "run_control": {
     "frozen": false,
     "read_only": false
    }
   },
   "source": [
    "#### including only income at departure"
   ]
  },
  {
   "cell_type": "code",
   "execution_count": 211,
   "metadata": {
    "ExecuteTime": {
     "end_time": "2018-11-21T18:26:59.296238Z",
     "start_time": "2018-11-21T18:26:59.266076Z"
    },
    "run_control": {
     "frozen": false,
     "read_only": false
    }
   },
   "outputs": [
    {
     "name": "stdout",
     "output_type": "stream",
     "text": [
      "The null hypothesis that the least complex model is better CAN be rejected (p<0.05)\n",
      "The model including both incomes is better than the model with departure income\n"
     ]
    }
   ],
   "source": [
    "m_Fare_Dur_IncDep = smf.ols(formula='tipPC ~ Fare_Amt + tripDuration + incomeDep', \n",
    "                     data=yc200902_final_cut).fit()\n",
    "lr3 = m_Fare_Dur_IncDes_IncDep.compare_lr_test(m_Fare_Dur_IncDep)\n",
    "if printLRresult(lr3):\n",
    "    print (\"The model including both incomes is \" + \n",
    "           \"better than the model with departure income\")\n",
    "else:\n",
    "    print (\"The model with departure income alone is better than the model\" + \n",
    "           \"including both incomes\\n\" + \n",
    "           \"Likelihood Ration p-value {:.2f}\".format(lr3[1]))    "
   ]
  },
  {
   "cell_type": "code",
   "execution_count": 212,
   "metadata": {
    "ExecuteTime": {
     "end_time": "2018-11-21T18:26:59.625565Z",
     "start_time": "2018-11-21T18:26:59.599699Z"
    },
    "run_control": {
     "frozen": false,
     "read_only": false
    }
   },
   "outputs": [
    {
     "data": {
      "text/html": [
       "<table class=\"simpletable\">\n",
       "<caption>OLS Regression Results</caption>\n",
       "<tr>\n",
       "  <th>Dep. Variable:</th>          <td>tipPC</td>      <th>  R-squared:         </th> <td>   0.064</td>\n",
       "</tr>\n",
       "<tr>\n",
       "  <th>Model:</th>                   <td>OLS</td>       <th>  Adj. R-squared:    </th> <td>   0.063</td>\n",
       "</tr>\n",
       "<tr>\n",
       "  <th>Method:</th>             <td>Least Squares</td>  <th>  F-statistic:       </th> <td>   59.13</td>\n",
       "</tr>\n",
       "<tr>\n",
       "  <th>Date:</th>             <td>Wed, 21 Nov 2018</td> <th>  Prob (F-statistic):</th> <td>5.69e-37</td>\n",
       "</tr>\n",
       "<tr>\n",
       "  <th>Time:</th>                 <td>13:26:59</td>     <th>  Log-Likelihood:    </th> <td>  3061.2</td>\n",
       "</tr>\n",
       "<tr>\n",
       "  <th>No. Observations:</th>      <td>  2598</td>      <th>  AIC:               </th> <td>  -6114.</td>\n",
       "</tr>\n",
       "<tr>\n",
       "  <th>Df Residuals:</th>          <td>  2594</td>      <th>  BIC:               </th> <td>  -6091.</td>\n",
       "</tr>\n",
       "<tr>\n",
       "  <th>Df Model:</th>              <td>     3</td>      <th>                     </th>     <td> </td>   \n",
       "</tr>\n",
       "<tr>\n",
       "  <th>Covariance Type:</th>      <td>nonrobust</td>    <th>                     </th>     <td> </td>   \n",
       "</tr>\n",
       "</table>\n",
       "<table class=\"simpletable\">\n",
       "<tr>\n",
       "        <td></td>          <th>coef</th>     <th>std err</th>      <th>t</th>      <th>P>|t|</th>  <th>[0.025</th>    <th>0.975]</th>  \n",
       "</tr>\n",
       "<tr>\n",
       "  <th>Intercept</th>    <td>    0.2384</td> <td>    0.004</td> <td>   53.251</td> <td> 0.000</td> <td>    0.230</td> <td>    0.247</td>\n",
       "</tr>\n",
       "<tr>\n",
       "  <th>Fare_Amt</th>     <td>   -0.0020</td> <td>    0.000</td> <td>   -4.104</td> <td> 0.000</td> <td>   -0.003</td> <td>   -0.001</td>\n",
       "</tr>\n",
       "<tr>\n",
       "  <th>tripDuration</th> <td>   -0.0777</td> <td>    0.021</td> <td>   -3.686</td> <td> 0.000</td> <td>   -0.119</td> <td>   -0.036</td>\n",
       "</tr>\n",
       "<tr>\n",
       "  <th>incomeDep</th>    <td>-3.517e-05</td> <td> 2.22e-05</td> <td>   -1.585</td> <td> 0.113</td> <td>-7.87e-05</td> <td> 8.33e-06</td>\n",
       "</tr>\n",
       "</table>\n",
       "<table class=\"simpletable\">\n",
       "<tr>\n",
       "  <th>Omnibus:</th>       <td>359.142</td> <th>  Durbin-Watson:     </th> <td>   2.019</td> \n",
       "</tr>\n",
       "<tr>\n",
       "  <th>Prob(Omnibus):</th> <td> 0.000</td>  <th>  Jarque-Bera (JB):  </th> <td> 561.671</td> \n",
       "</tr>\n",
       "<tr>\n",
       "  <th>Skew:</th>          <td> 0.959</td>  <th>  Prob(JB):          </th> <td>1.08e-122</td>\n",
       "</tr>\n",
       "<tr>\n",
       "  <th>Kurtosis:</th>      <td> 4.228</td>  <th>  Cond. No.          </th> <td>2.23e+03</td> \n",
       "</tr>\n",
       "</table>"
      ],
      "text/plain": [
       "<class 'statsmodels.iolib.summary.Summary'>\n",
       "\"\"\"\n",
       "                            OLS Regression Results                            \n",
       "==============================================================================\n",
       "Dep. Variable:                  tipPC   R-squared:                       0.064\n",
       "Model:                            OLS   Adj. R-squared:                  0.063\n",
       "Method:                 Least Squares   F-statistic:                     59.13\n",
       "Date:                Wed, 21 Nov 2018   Prob (F-statistic):           5.69e-37\n",
       "Time:                        13:26:59   Log-Likelihood:                 3061.2\n",
       "No. Observations:                2598   AIC:                            -6114.\n",
       "Df Residuals:                    2594   BIC:                            -6091.\n",
       "Df Model:                           3                                         \n",
       "Covariance Type:            nonrobust                                         \n",
       "================================================================================\n",
       "                   coef    std err          t      P>|t|      [0.025      0.975]\n",
       "--------------------------------------------------------------------------------\n",
       "Intercept        0.2384      0.004     53.251      0.000       0.230       0.247\n",
       "Fare_Amt        -0.0020      0.000     -4.104      0.000      -0.003      -0.001\n",
       "tripDuration    -0.0777      0.021     -3.686      0.000      -0.119      -0.036\n",
       "incomeDep    -3.517e-05   2.22e-05     -1.585      0.113   -7.87e-05    8.33e-06\n",
       "==============================================================================\n",
       "Omnibus:                      359.142   Durbin-Watson:                   2.019\n",
       "Prob(Omnibus):                  0.000   Jarque-Bera (JB):              561.671\n",
       "Skew:                           0.959   Prob(JB):                    1.08e-122\n",
       "Kurtosis:                       4.228   Cond. No.                     2.23e+03\n",
       "==============================================================================\n",
       "\n",
       "Warnings:\n",
       "[1] Standard Errors assume that the covariance matrix of the errors is correctly specified.\n",
       "[2] The condition number is large, 2.23e+03. This might indicate that there are\n",
       "strong multicollinearity or other numerical problems.\n",
       "\"\"\""
      ]
     },
     "execution_count": 212,
     "metadata": {},
     "output_type": "execute_result"
    }
   ],
   "source": [
    "m_Fare_Dur_IncDep.summary()"
   ]
  },
  {
   "cell_type": "code",
   "execution_count": 213,
   "metadata": {
    "ExecuteTime": {
     "end_time": "2018-11-21T18:26:59.703644Z",
     "start_time": "2018-11-21T18:26:59.697195Z"
    },
    "run_control": {
     "frozen": false,
     "read_only": false
    }
   },
   "outputs": [
    {
     "name": "stdout",
     "output_type": "stream",
     "text": [
      "The null hypothesis that the least complex model is better CAN be rejected (p<0.05)\n",
      "The model including destination incomes is better than the model with no income\n"
     ]
    }
   ],
   "source": [
    "lr4 = m_Fare_Dur_IncDes.compare_lr_test(m_Fare_Dur)\n",
    "if printLRresult(lr4):\n",
    "    print (\"The model including destination incomes is \" + \n",
    "           \"better than the model with no income\")"
   ]
  },
  {
   "cell_type": "markdown",
   "metadata": {
    "run_control": {
     "frozen": false,
     "read_only": false
    }
   },
   "source": [
    "# Conclusions:\n",
    "\n",
    "We attempted to assess whether passenger's income is a good predictor of tip generosity. To do that we collected the tips as percentage of trip fare for yellow cab NYC rides in 02/2009, and postulated that the income of passengers could be represented by the mean income per person at the zipcode of either destination or departure. \n",
    "\n",
    "We begun our analysis with 13,380,122 observations (rides) and subsampled by a factor 1,000 to reduce the dataset to a manageable size for fast development. \n",
    "\n",
    "We identified the zipcode of departure and destination of each ride by spatial aggregation with a zipcode geographical dataset sugin the latitude and longitude of each pick-up and drop-off and associated each ride to income using IRS tax reports and number of individual by zipcode to generate a mean income feature. The spatial joint downsized our dataset by roughly 10%, leading to 11,981 observations at the beginning of our analysis.\n",
    "\n",
    "The tips are dominated by $0 tips. These are likely a mix of missed tips and cash tips not recorded in order to not to have them taxed. This induces a bias in the analysis as the tipping behavior of costumers that pay cash and costumers that pay by credit card may be systematically different.\n",
    "\n",
    "Outliers were dominating the sample and we removed outliers identified by value of the tip as percentage of fare, removing both excessive tips (>97.5 percentile) and tips of \\$0 \n",
    "(which were 77% of the sample). While some riders may not tip, we assumed that the $0 tips, which were the majority of the tips, were dominated by cash tips not registered to avoid taxation. This reduced the sample to only 20% of the original, or 2,684 rides. We then removed trips with negative duration, negative distance, duration that exceeded 2 hours and, finally, removed the fixed fare from the airport (\\$45) leading to a final dataset of 2598 observations. \n",
    "\n",
    "We then generated linear models to evaluate the importance of income in predicting tips as a percentage of the ride fare.\n",
    "\n",
    "The assumptions we made lead to the following concerns: \n",
    "   - income may vary significantly within a zipcode\n",
    "   - spatial autocorrelation has not been taken into account\n",
    "   - the income per person is calculated from the IRS tax reports for that zipcode residents with a rough estimate of the population as the sum of residents that file taxes, the joint returns, and the number of dependents. Likely this underestimates the number of residents slightly, thus overestimating the income per person, since tax exemped individuals are note included. Also a different birth rate, which is a quantity known to be different in defferent socioeconomic environments, would lead to a different significance of the income per person metric, and this may lead to systematic errors in our analysis.\n",
    "   - there is no guarantee that either the zipcode at departure or destination is related to the rider's residence\n",
    "   - including both incomes, even under the assumption that the one is the residence zipcode and thus the income of the rider is represented by either of those quantities, removes information about the trip \"intention\": likely tripping generosity is affected by disposition which is in turn affected by the purpose of the trip. \n",
    "   - in work trips the rider may have a radically different tipping attitude if they expect reimbursement. \n",
    "\n",
    "Further, in the analysis we model tip percentage based on fare and trip duration (tip distance was considered but it is too strongly collinear with fare). These quantities are not independent and this will induce issues in the model, and certainly issues with its interpretability.\n",
    "\n",
    "The prediction of tip percentages from fare and duration is poor, and adding income improves it only slightly. We assessed wheather income actually has any predictive power by comparing the models without income and with, and with only one if the incomes between departure and destination. We assessed that in fact the models that include income are statistically significantly better, although only the income at destination has in fact any predictive power. \n",
    "\n",
    "#### The suggestion that only income at destination would be predictive of tips is troubling: it is possible that people are more likely to drive to their home than from their home, but there is no way to test this hypothesis with this data. Rather this should be interpreted as evidence that the departure and destination zipcodes are likely only loosely related to the riders' residence, leaving us with no evidence that including the income in this fashion would tap into information on the riders' socioeconomic status.  \n",
    "\n",
    "#### It is possible for example that the purpose of the trip undertaken affects the generousity of the rider: riders that travel to leasure destinations (wicha may be in high income areas of etherogeneous nature, residential + ricreational + turistic, like Manhattan), may feel more compelled to tip as they are on a leasure journey."
   ]
  },
  {
   "cell_type": "markdown",
   "metadata": {
    "run_control": {
     "frozen": false,
     "read_only": false
    }
   },
   "source": [
    "##### Additional plots:\n",
    "    "
   ]
  },
  {
   "cell_type": "code",
   "execution_count": 180,
   "metadata": {
    "ExecuteTime": {
     "end_time": "2018-11-21T18:24:15.222587Z",
     "start_time": "2018-11-21T18:24:14.857386Z"
    },
    "run_control": {
     "frozen": false,
     "read_only": false
    }
   },
   "outputs": [
    {
     "data": {
      "image/png": "[encoded data removed]",
      "text/plain": [
       "<Figure size 432x288 with 1 Axes>"
      ]
     },
     "metadata": {},
     "output_type": "display_data"
    }
   ],
   "source": [
    "ax = yc200902_final_cut.plot.scatter(x=\"Fare_Amt\", y=\"tipPC\", alpha=0.3)\n",
    "ax.set_xlabel(\"Fare ($)\")\n",
    "ax.set_ylabel(\"tip %\")\n",
    "ylim = ax.get_ylim()\n",
    "ax.plot(np.linspace(2,50), 1.0 / np.linspace(2,50), 'k-', alpha=0.3)\n",
    "ax.plot(np.linspace(2,50), 2.0 / np.linspace(2,50), 'k-', alpha=0.3)\n",
    "ax.plot(np.linspace(2,50), 3.0 / np.linspace(2,50), 'k-', alpha=0.3)\n",
    "ax.plot([0, 50], [0.15, 0.15], 'g-', alpha=0.3)\n",
    "ax.plot([0, 50], [0.20, 0.20], 'g-', alpha=0.3)\n",
    "ax.plot([0, 50], [0.25, 0.25], 'g-', alpha=0.3)\n",
    "ax.set_ylim(ylim);"
   ]
  },
  {
   "cell_type": "markdown",
   "metadata": {
    "run_control": {
     "frozen": false,
     "read_only": false
    }
   },
   "source": [
    "###### Fig 11\n",
    "Tip percentage vs Fare: the scatter plot has a peculiar structure, with a concentration of tips at fixed percentages (as seen in Figure 3) but also distinct curves that are generated by tipping in fixed amounts: \\$1, \\$2, \\$3 etc. \n",
    "The \\$1, \\$2, \\$3 dollar tips are indicated by black lines and the 15%, 20%, and 25% tip lines in green."
   ]
  },
  {
   "cell_type": "code",
   "execution_count": 181,
   "metadata": {
    "ExecuteTime": {
     "end_time": "2018-11-21T18:24:17.709758Z",
     "start_time": "2018-11-21T18:24:17.677652Z"
    },
    "run_control": {
     "frozen": false,
     "read_only": false
    }
   },
   "outputs": [
    {
     "name": "stderr",
     "output_type": "stream",
     "text": [
      "//anaconda/envs/GEOP/lib/python3.6/site-packages/ipykernel_launcher.py:8: UserWarning: Boolean Series key will be reindexed to match DataFrame index.\n",
      "  \n"
     ]
    }
   ],
   "source": [
    "durationdistancecut = ((yc200902_final.tripDuration > 0) & \\\n",
    "               (yc200902_final.tripDuration < 2) & \\\n",
    "    (yc200902_final[\"Trip_Distance\"] > 0) & \\\n",
    "    (~(yc200902_final.Fare_Amt == 45.0)) &\\\n",
    "    (~((yc200902_final.tipPC / yc200902_final.Fare_Amt) == 0.2)) &\\\n",
    "    (~((yc200902_final.tipPC / yc200902_final.Fare_Amt) == 0.15)) &\\\n",
    "    (~((yc200902_final.tipPC / yc200902_final.Fare_Amt) == 0.25)) &\\\n",
    "    (~((yc200902_final.tipPC / yc200902_final.Fare_Amt).round(2) == 0.18)) &\\\n",
    "    (~((yc200902_final.tipPC > 0.7 / yc200902_final.Fare_Amt) & \n",
    "        (yc200902_final.tipPC < 1.3 / yc200902_final.Fare_Amt)) ) &\\\n",
    "    (~((yc200902_final.tipPC > 1.7 / yc200902_final.Fare_Amt) & \n",
    "        (yc200902_final.tipPC < 2.3 / yc200902_final.Fare_Amt)) ) &\\\n",
    "    (~((yc200902_final.tipPC > 2.7 / yc200902_final.Fare_Amt) & \n",
    "        (yc200902_final.tipPC < 3.3 / yc200902_final.Fare_Amt)) ) )\n",
    "\n",
    "yc200902_final_allcuts = yc200902_final[tipcut][durationdistancecut]"
   ]
  },
  {
   "cell_type": "code",
   "execution_count": 182,
   "metadata": {
    "ExecuteTime": {
     "end_time": "2018-11-21T18:24:20.391704Z",
     "start_time": "2018-11-21T18:24:20.387889Z"
    },
    "run_control": {
     "frozen": false,
     "read_only": false
    }
   },
   "outputs": [
    {
     "name": "stdout",
     "output_type": "stream",
     "text": [
      "after attempting to remove tips close to the fix percentages and close to the net dollar amounts the data is still structured and now sparse: data size 778 observations\n"
     ]
    }
   ],
   "source": [
    "print (\"after attempting to remove tips close to the fix percentages and \" + \n",
    "       \"close to the net dollar amounts \" + \n",
    "       \"the data is still structured and now sparse: \" + \n",
    "       \"data size {:d} observations\".format(yc200902_final_allcuts.shape[0]))"
   ]
  },
  {
   "cell_type": "code",
   "execution_count": 183,
   "metadata": {
    "ExecuteTime": {
     "end_time": "2018-11-21T18:24:21.245849Z",
     "start_time": "2018-11-21T18:24:20.817044Z"
    },
    "run_control": {
     "frozen": false,
     "read_only": false
    }
   },
   "outputs": [
    {
     "data": {
      "image/png": "[encoded data removed]",
      "text/plain": [
       "<Figure size 432x288 with 1 Axes>"
      ]
     },
     "metadata": {},
     "output_type": "display_data"
    }
   ],
   "source": [
    "ax = yc200902_final_allcuts.plot.scatter(x=\"Fare_Amt\", y=\"tipPC\", alpha=0.3)\n",
    "ax.set_xlabel(\"Fare ($)\")\n",
    "ax.set_ylabel(\"tip %\")\n",
    "ylim = ax.get_ylim()\n",
    "ax.plot(np.linspace(2,50), 1.0 / np.linspace(2,50), 'k-', alpha=0.3)\n",
    "ax.plot(np.linspace(2,50), 2.0 / np.linspace(2,50), 'k-', alpha=0.3)\n",
    "ax.plot(np.linspace(2,50), 3.0 / np.linspace(2,50), 'k-', alpha=0.3)\n",
    "ax.plot([0, 50], [0.15, 0.15], 'g-', alpha=0.3)\n",
    "ax.plot([0, 50], [0.20, 0.20], 'g-', alpha=0.3)\n",
    "ax.plot([0, 50], [0.25, 0.25], 'g-', alpha=0.3)\n",
    "ax.set_ylim(ylim);"
   ]
  },
  {
   "cell_type": "markdown",
   "metadata": {
    "collapsed": true,
    "run_control": {
     "frozen": false,
     "read_only": false
    }
   },
   "source": [
    "# Fig 12 \n",
    "Tip percentage as function of fare after removing tips near fix percentages (15, 20 and 15) and net dollar ($1, 2, 3) amount.\n",
    "The structured imposed by fixed percentage tips and net dollar tips may affect the prediction but removing this strucutre from the data is rather difficult.  After attempting to remove these specific tips we end up with a dataset that still has a peculiar structure and is now rather sparse."
   ]
  },
  {
   "cell_type": "code",
   "execution_count": null,
   "metadata": {
    "run_control": {
     "frozen": false,
     "read_only": false
    }
   },
   "outputs": [],
   "source": []
  },
  {
   "cell_type": "code",
   "execution_count": null,
   "metadata": {},
   "outputs": [],
   "source": []
  }
 ],
 "metadata": {
  "anaconda-cloud": {},
  "celltoolbar": "Raw Cell Format",
  "kernelspec": {
   "display_name": "Python 3",
   "language": "python",
   "name": "python3"
  },
  "toc": {
   "colors": {
    "hover_highlight": "#DAA520",
    "running_highlight": "#FF0000",
    "selected_highlight": "#FFD700"
   },
   "moveMenuLeft": true,
   "navigate_menu": true,
   "number_sections": false,
   "sideBar": true,
   "threshold": 4,
   "toc_cell": false,
   "toc_section_display": "block",
   "toc_window_display": false
  }
 },
 "nbformat": 4,
 "nbformat_minor": 1
}
